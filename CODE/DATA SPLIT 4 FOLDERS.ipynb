{
 "cells": [
  {
   "cell_type": "code",
   "execution_count": 1,
   "metadata": {},
   "outputs": [],
   "source": [
    "import pandas as pd\n",
    "import numpy as np\n",
    "import os"
   ]
  },
  {
   "cell_type": "code",
   "execution_count": 2,
   "metadata": {},
   "outputs": [],
   "source": [
    "for fold in [0,1,2,3]:\n",
    "    for split in [\"test\",\"train\"]:    \n",
    "        try:\n",
    "            os.mkdir(str(fold))\n",
    "        except:\n",
    "            pass\n",
    "        try:\n",
    "            os.mkdir(str(fold)+\"/\"+split+\"/\")\n",
    "        except:\n",
    "            pass\n",
    "        try:\n",
    "            os.mkdir(str(fold)+\"/\"+split+\"/Inertial Signals\")\n",
    "        except:\n",
    "            pass\n",
    "        "
   ]
  },
  {
   "cell_type": "code",
   "execution_count": 3,
   "metadata": {},
   "outputs": [],
   "source": [
    "def createFolds(Y,filename,root,split):\n",
    "    Xtable=pd.read_csv(root+\"/\"+filename,sep='\\s+',header=None)\n",
    "    XY=Y.join(Xtable)\n",
    "    \n",
    "    for fold in [0,1,2,3]:\n",
    "        fileReplaced=filename.replace(\".txt\",\"\")\n",
    "        fileOut=str(fold)+\"/\"+split+\"/\"+fileReplaced+\"_\"+str(fold)+\".csv\"\n",
    "        appo=XY[XY[\"FOLD\"]==fold]\n",
    "        appo.sort_index().to_csv(fileOut,index=True,sep=\";\")\n",
    "        print(fileOut)"
   ]
  },
  {
   "cell_type": "code",
   "execution_count": 4,
   "metadata": {},
   "outputs": [
    {
     "name": "stdout",
     "output_type": "stream",
     "text": [
      "len: 2947\n",
      "0/test/X_test_0.csv\n",
      "1/test/X_test_1.csv\n",
      "2/test/X_test_2.csv\n",
      "3/test/X_test_3.csv\n",
      "0/test/Inertial Signals/body_acc_x_test_0.csv\n",
      "1/test/Inertial Signals/body_acc_x_test_1.csv\n",
      "2/test/Inertial Signals/body_acc_x_test_2.csv\n",
      "3/test/Inertial Signals/body_acc_x_test_3.csv\n",
      "0/test/Inertial Signals/body_acc_y_test_0.csv\n",
      "1/test/Inertial Signals/body_acc_y_test_1.csv\n",
      "2/test/Inertial Signals/body_acc_y_test_2.csv\n",
      "3/test/Inertial Signals/body_acc_y_test_3.csv\n",
      "0/test/Inertial Signals/body_acc_z_test_0.csv\n",
      "1/test/Inertial Signals/body_acc_z_test_1.csv\n",
      "2/test/Inertial Signals/body_acc_z_test_2.csv\n",
      "3/test/Inertial Signals/body_acc_z_test_3.csv\n",
      "0/test/Inertial Signals/total_acc_x_test_0.csv\n",
      "1/test/Inertial Signals/total_acc_x_test_1.csv\n",
      "2/test/Inertial Signals/total_acc_x_test_2.csv\n",
      "3/test/Inertial Signals/total_acc_x_test_3.csv\n",
      "0/test/Inertial Signals/total_acc_y_test_0.csv\n",
      "1/test/Inertial Signals/total_acc_y_test_1.csv\n",
      "2/test/Inertial Signals/total_acc_y_test_2.csv\n",
      "3/test/Inertial Signals/total_acc_y_test_3.csv\n",
      "0/test/Inertial Signals/total_acc_z_test_0.csv\n",
      "1/test/Inertial Signals/total_acc_z_test_1.csv\n",
      "2/test/Inertial Signals/total_acc_z_test_2.csv\n",
      "3/test/Inertial Signals/total_acc_z_test_3.csv\n",
      "0/test/Inertial Signals/body_gyro_x_test_0.csv\n",
      "1/test/Inertial Signals/body_gyro_x_test_1.csv\n",
      "2/test/Inertial Signals/body_gyro_x_test_2.csv\n",
      "3/test/Inertial Signals/body_gyro_x_test_3.csv\n",
      "0/test/Inertial Signals/body_gyro_y_test_0.csv\n",
      "1/test/Inertial Signals/body_gyro_y_test_1.csv\n",
      "2/test/Inertial Signals/body_gyro_y_test_2.csv\n",
      "3/test/Inertial Signals/body_gyro_y_test_3.csv\n",
      "0/test/Inertial Signals/body_gyro_z_test_0.csv\n",
      "1/test/Inertial Signals/body_gyro_z_test_1.csv\n",
      "2/test/Inertial Signals/body_gyro_z_test_2.csv\n",
      "3/test/Inertial Signals/body_gyro_z_test_3.csv\n",
      "len: 7352\n",
      "0/train/X_train_0.csv\n",
      "1/train/X_train_1.csv\n",
      "2/train/X_train_2.csv\n",
      "3/train/X_train_3.csv\n",
      "0/train/Inertial Signals/body_acc_x_train_0.csv\n",
      "1/train/Inertial Signals/body_acc_x_train_1.csv\n",
      "2/train/Inertial Signals/body_acc_x_train_2.csv\n",
      "3/train/Inertial Signals/body_acc_x_train_3.csv\n",
      "0/train/Inertial Signals/body_acc_y_train_0.csv\n",
      "1/train/Inertial Signals/body_acc_y_train_1.csv\n",
      "2/train/Inertial Signals/body_acc_y_train_2.csv\n",
      "3/train/Inertial Signals/body_acc_y_train_3.csv\n",
      "0/train/Inertial Signals/body_acc_z_train_0.csv\n",
      "1/train/Inertial Signals/body_acc_z_train_1.csv\n",
      "2/train/Inertial Signals/body_acc_z_train_2.csv\n",
      "3/train/Inertial Signals/body_acc_z_train_3.csv\n",
      "0/train/Inertial Signals/total_acc_x_train_0.csv\n",
      "1/train/Inertial Signals/total_acc_x_train_1.csv\n",
      "2/train/Inertial Signals/total_acc_x_train_2.csv\n",
      "3/train/Inertial Signals/total_acc_x_train_3.csv\n",
      "0/train/Inertial Signals/total_acc_y_train_0.csv\n",
      "1/train/Inertial Signals/total_acc_y_train_1.csv\n",
      "2/train/Inertial Signals/total_acc_y_train_2.csv\n",
      "3/train/Inertial Signals/total_acc_y_train_3.csv\n",
      "0/train/Inertial Signals/total_acc_z_train_0.csv\n",
      "1/train/Inertial Signals/total_acc_z_train_1.csv\n",
      "2/train/Inertial Signals/total_acc_z_train_2.csv\n",
      "3/train/Inertial Signals/total_acc_z_train_3.csv\n",
      "0/train/Inertial Signals/body_gyro_x_train_0.csv\n",
      "1/train/Inertial Signals/body_gyro_x_train_1.csv\n",
      "2/train/Inertial Signals/body_gyro_x_train_2.csv\n",
      "3/train/Inertial Signals/body_gyro_x_train_3.csv\n",
      "0/train/Inertial Signals/body_gyro_y_train_0.csv\n",
      "1/train/Inertial Signals/body_gyro_y_train_1.csv\n",
      "2/train/Inertial Signals/body_gyro_y_train_2.csv\n",
      "3/train/Inertial Signals/body_gyro_y_train_3.csv\n",
      "0/train/Inertial Signals/body_gyro_z_train_0.csv\n",
      "1/train/Inertial Signals/body_gyro_z_train_1.csv\n",
      "2/train/Inertial Signals/body_gyro_z_train_2.csv\n",
      "3/train/Inertial Signals/body_gyro_z_train_3.csv\n"
     ]
    }
   ],
   "source": [
    "\n",
    "for split in [\"test\",\"train\"]:\n",
    "    root=\"./UCI HAR Dataset/UCI HAR Dataset/\"+split+\"/\"\n",
    "    Y=pd.read_csv(root+\"y_\"+split+\".txt\",header=None)\n",
    "    Y.columns=[\"Y\"]\n",
    "    Y.sort_values(\"Y\",inplace=True)\n",
    "    L=len(Y)\n",
    "    print(\"len:\",L)\n",
    "    Y[\"FOLD\"]=(np.arange(L)%4)\n",
    "\n",
    "    tag=\"\"\n",
    "    for signal in [\"X_\"+split+\".txt\",\n",
    "                   \"Inertial Signals/body_acc_x_\"+split+\".txt\",\n",
    "                   \"Inertial Signals/body_acc_y_\"+split+\".txt\",\n",
    "                   \"Inertial Signals/body_acc_z_\"+split+\".txt\",\n",
    "                   \"Inertial Signals/total_acc_x_\"+split+\".txt\",\n",
    "                   \"Inertial Signals/total_acc_y_\"+split+\".txt\",\n",
    "                   \"Inertial Signals/total_acc_z_\"+split+\".txt\",\n",
    "                   \"Inertial Signals/body_gyro_x_\"+split+\".txt\",\n",
    "                   \"Inertial Signals/body_gyro_y_\"+split+\".txt\",\n",
    "                   \"Inertial Signals/body_gyro_z_\"+split+\".txt\"]:\n",
    "        filename=\"\"+signal\n",
    "        createFolds(Y,filename,root,split)        "
   ]
  },
  {
   "cell_type": "code",
   "execution_count": 5,
   "metadata": {},
   "outputs": [
    {
     "name": "stdout",
     "output_type": "stream",
     "text": [
      "0/test\n",
      "0/train\n",
      "1/test\n",
      "1/train\n",
      "2/test\n",
      "2/train\n",
      "3/test\n",
      "3/train\n"
     ]
    }
   ],
   "source": [
    "for fold in [0,1,2,3]:\n",
    "    for split in [\"test\",\"train\"]:  \n",
    "        direc=str(fold)+'/'+split\n",
    "        print(direc)\n",
    "        old_file = os.path.join(direc, \"X_\"+split+\"_\"+str(fold)+'.csv')\n",
    "        new_file = os.path.join(direc, 'ALL_'+split+'.csv')\n",
    "        os.rename(old_file,new_file)\n",
    "        "
   ]
  },
  {
   "cell_type": "code",
   "execution_count": 118,
   "metadata": {},
   "outputs": [],
   "source": []
  },
  {
   "cell_type": "code",
   "execution_count": 128,
   "metadata": {},
   "outputs": [],
   "source": []
  },
  {
   "cell_type": "code",
   "execution_count": null,
   "metadata": {},
   "outputs": [],
   "source": []
  }
 ],
 "metadata": {
  "kernelspec": {
   "display_name": "Python 3",
   "language": "python",
   "name": "python3"
  },
  "language_info": {
   "codemirror_mode": {
    "name": "ipython",
    "version": 3
   },
   "file_extension": ".py",
   "mimetype": "text/x-python",
   "name": "python",
   "nbconvert_exporter": "python",
   "pygments_lexer": "ipython3",
   "version": "3.7.4"
  }
 },
 "nbformat": 4,
 "nbformat_minor": 2
}
