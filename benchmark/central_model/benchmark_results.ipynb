{
 "cells": [
  {
   "cell_type": "code",
   "execution_count": 1,
   "metadata": {},
   "outputs": [],
   "source": [
    "import pandas as pd\n",
    "import json\n",
    "import numpy as np\n",
    "from copy import deepcopy\n",
    "import matplotlib.pyplot as plt"
   ]
  },
  {
   "cell_type": "code",
   "execution_count": 2,
   "metadata": {},
   "outputs": [],
   "source": [
    "#Load logfile with benchmark results\n",
    "with open('server.log') as logfile:\n",
    "    json_lines = logfile.readlines()"
   ]
  },
  {
   "cell_type": "code",
   "execution_count": 4,
   "metadata": {},
   "outputs": [
    {
     "data": {
      "text/html": [
       "<div>\n",
       "<style scoped>\n",
       "    .dataframe tbody tr th:only-of-type {\n",
       "        vertical-align: middle;\n",
       "    }\n",
       "\n",
       "    .dataframe tbody tr th {\n",
       "        vertical-align: top;\n",
       "    }\n",
       "\n",
       "    .dataframe thead th {\n",
       "        text-align: right;\n",
       "    }\n",
       "</style>\n",
       "<table border=\"1\" class=\"dataframe\">\n",
       "  <thead>\n",
       "    <tr style=\"text-align: right;\">\n",
       "      <th></th>\n",
       "      <th>Rounds</th>\n",
       "      <th>Epochs</th>\n",
       "      <th>Number of Clients</th>\n",
       "      <th>Final Accuracy</th>\n",
       "      <th>Final loss</th>\n",
       "      <th>Time</th>\n",
       "    </tr>\n",
       "  </thead>\n",
       "  <tbody>\n",
       "    <tr>\n",
       "      <th>0</th>\n",
       "      <td>40</td>\n",
       "      <td>30</td>\n",
       "      <td>1</td>\n",
       "      <td>90.847458</td>\n",
       "      <td>0.274246</td>\n",
       "      <td>42.877765</td>\n",
       "    </tr>\n",
       "    <tr>\n",
       "      <th>1</th>\n",
       "      <td>40</td>\n",
       "      <td>30</td>\n",
       "      <td>2</td>\n",
       "      <td>89.152542</td>\n",
       "      <td>0.281953</td>\n",
       "      <td>61.223549</td>\n",
       "    </tr>\n",
       "    <tr>\n",
       "      <th>2</th>\n",
       "      <td>40</td>\n",
       "      <td>30</td>\n",
       "      <td>3</td>\n",
       "      <td>88.474576</td>\n",
       "      <td>0.285910</td>\n",
       "      <td>148.910804</td>\n",
       "    </tr>\n",
       "    <tr>\n",
       "      <th>3</th>\n",
       "      <td>40</td>\n",
       "      <td>30</td>\n",
       "      <td>4</td>\n",
       "      <td>88.135593</td>\n",
       "      <td>0.282098</td>\n",
       "      <td>729.194485</td>\n",
       "    </tr>\n",
       "    <tr>\n",
       "      <th>4</th>\n",
       "      <td>40</td>\n",
       "      <td>30</td>\n",
       "      <td>5</td>\n",
       "      <td>88.813559</td>\n",
       "      <td>0.284185</td>\n",
       "      <td>1944.554190</td>\n",
       "    </tr>\n",
       "    <tr>\n",
       "      <th>5</th>\n",
       "      <td>40</td>\n",
       "      <td>30</td>\n",
       "      <td>6</td>\n",
       "      <td>89.491525</td>\n",
       "      <td>0.285215</td>\n",
       "      <td>3704.912884</td>\n",
       "    </tr>\n",
       "    <tr>\n",
       "      <th>6</th>\n",
       "      <td>40</td>\n",
       "      <td>30</td>\n",
       "      <td>7</td>\n",
       "      <td>89.491525</td>\n",
       "      <td>0.284474</td>\n",
       "      <td>5941.728274</td>\n",
       "    </tr>\n",
       "    <tr>\n",
       "      <th>7</th>\n",
       "      <td>40</td>\n",
       "      <td>30</td>\n",
       "      <td>8</td>\n",
       "      <td>89.830508</td>\n",
       "      <td>0.282850</td>\n",
       "      <td>8996.466361</td>\n",
       "    </tr>\n",
       "    <tr>\n",
       "      <th>8</th>\n",
       "      <td>40</td>\n",
       "      <td>30</td>\n",
       "      <td>9</td>\n",
       "      <td>89.491525</td>\n",
       "      <td>0.283002</td>\n",
       "      <td>12051.256099</td>\n",
       "    </tr>\n",
       "  </tbody>\n",
       "</table>\n",
       "</div>"
      ],
      "text/plain": [
       "   Rounds  Epochs  Number of Clients  Final Accuracy  Final loss          Time\n",
       "0      40      30                  1       90.847458    0.274246     42.877765\n",
       "1      40      30                  2       89.152542    0.281953     61.223549\n",
       "2      40      30                  3       88.474576    0.285910    148.910804\n",
       "3      40      30                  4       88.135593    0.282098    729.194485\n",
       "4      40      30                  5       88.813559    0.284185   1944.554190\n",
       "5      40      30                  6       89.491525    0.285215   3704.912884\n",
       "6      40      30                  7       89.491525    0.284474   5941.728274\n",
       "7      40      30                  8       89.830508    0.282850   8996.466361\n",
       "8      40      30                  9       89.491525    0.283002  12051.256099"
      ]
     },
     "execution_count": 4,
     "metadata": {},
     "output_type": "execute_result"
    }
   ],
   "source": [
    "#Create dictionaries from logfile describing benchmark runs\n",
    "run_dicts = [json.loads(line) for line in json_lines]\n",
    "\n",
    "#Extract summary, drop details\n",
    "run_summaries = [deepcopy(run_dict) for run_dict in run_dicts]\n",
    "for d in run_summaries:\n",
    "    d.pop(\"Round accuracies\")\n",
    "    d.pop(\"Round losses\")\n",
    "\n",
    "#Create summary dataframe\n",
    "summary_df = pd.DataFrame(run_summaries)\n",
    "\n",
    "#Take a look\n",
    "summary_df\n"
   ]
  },
  {
   "cell_type": "code",
   "execution_count": 8,
   "metadata": {},
   "outputs": [],
   "source": [
    "#Detailed, per round results\n",
    "round_results = {d[\"Number of Clients\"]:[d[\"Round accuracies\"], d[\"Round losses\"]] for d in run_dicts}"
   ]
  },
  {
   "cell_type": "code",
   "execution_count": 9,
   "metadata": {},
   "outputs": [
    {
     "data": {
      "image/png": "[encoded data removed]",
      "text/plain": [
       "<Figure size 432x288 with 1 Axes>"
      ]
     },
     "metadata": {
      "needs_background": "light"
     },
     "output_type": "display_data"
    }
   ],
   "source": [
    "#Plotting accuracy graphs for all numbers of clients\n",
    "\n",
    "acc_arrs = [np.array(list(round_results[i+1][0].values())) for i in range(6)]\n",
    "rounds = np.array(range(41))\n",
    "\n",
    "for i, acc_arr in enumerate(acc_arrs):\n",
    "    plt.plot(rounds, acc_arr, label=f\"{i+1} client(s)\")\n",
    "plt.xlabel('Rounds')\n",
    "plt.ylabel('Accuracy')\n",
    "plt.legend()\n",
    "plt.show()"
   ]
  },
  {
   "cell_type": "code",
   "execution_count": null,
   "metadata": {},
   "outputs": [],
   "source": [
    "#Hmmmm"
   ]
  }
 ],
 "metadata": {
  "interpreter": {
   "hash": "97a145eaf0e3f554864ed20cbb791f864530a3c9a69256b4acc43ebf1a046342"
  },
  "kernelspec": {
   "display_name": "Python 3.7.6 64-bit ('base': conda)",
   "name": "python3"
  },
  "language_info": {
   "codemirror_mode": {
    "name": "ipython",
    "version": 3
   },
   "file_extension": ".py",
   "mimetype": "text/x-python",
   "name": "python",
   "nbconvert_exporter": "python",
   "pygments_lexer": "ipython3",
   "version": "3.7.6"
  },
  "orig_nbformat": 4
 },
 "nbformat": 4,
 "nbformat_minor": 2
}
