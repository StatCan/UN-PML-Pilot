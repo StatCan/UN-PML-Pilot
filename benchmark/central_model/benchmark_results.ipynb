{
 "cells": [
  {
   "cell_type": "code",
   "execution_count": 1,
   "metadata": {},
   "outputs": [],
   "source": [
    "import pandas as pd\n",
    "import json\n",
    "import numpy as np\n",
    "from copy import deepcopy\n",
    "import matplotlib.pyplot as plt"
   ]
  },
  {
   "cell_type": "code",
   "execution_count": 2,
   "metadata": {},
   "outputs": [],
   "source": [
    "with open('server.log') as logfile:\n",
    "    json_lines = logfile.readlines()"
   ]
  },
  {
   "cell_type": "code",
   "execution_count": 3,
   "metadata": {},
   "outputs": [],
   "source": [
    "run_dicts = [json.loads(line) for line in json_lines]\n",
    "\n",
    "run_summaries = [deepcopy(run_dict) for run_dict in run_dicts]\n",
    "for d in run_summaries:\n",
    "    d.pop(\"Round accuracies\")\n",
    "    d.pop(\"Round losses\")\n",
    "\n",
    "summary_df = pd.DataFrame(run_summaries)\n"
   ]
  },
  {
   "cell_type": "code",
   "execution_count": 4,
   "metadata": {},
   "outputs": [
    {
     "name": "stdout",
     "output_type": "stream",
     "text": [
      "<class 'int'>\n"
     ]
    }
   ],
   "source": [
    "round_results = {d[\"Number of Clients\"]:[d[\"Round accuracies\"], d[\"Round losses\"]] for d in run_dicts}\n",
    "print(type(list(round_results.keys())[0]))"
   ]
  },
  {
   "cell_type": "code",
   "execution_count": 8,
   "metadata": {},
   "outputs": [
    {
     "name": "stdout",
     "output_type": "stream",
     "text": [
      "41\n"
     ]
    },
    {
     "data": {
      "image/png": "[encoded data removed]",
      "text/plain": [
       "<Figure size 432x288 with 1 Axes>"
      ]
     },
     "metadata": {
      "needs_background": "light"
     },
     "output_type": "display_data"
    }
   ],
   "source": [
    "#Plotting results for client 1\n",
    "\n",
    "acc_arrs = [np.array(list(round_results[i+1][0].values())) for i in range(6)]\n",
    "rounds = np.array(range(41))\n",
    "#loss_arr = np.array(list(round_results[1][1].values()))\n",
    "print(len(acc_arrs[0]))\n",
    "\n",
    "for i, acc_arr in enumerate(acc_arrs):\n",
    "    plt.plot(rounds, acc_arr, label=f\"{i+1} client(s)\")\n",
    "plt.legend()\n",
    "plt.show()"
   ]
  },
  {
   "cell_type": "code",
   "execution_count": null,
   "metadata": {},
   "outputs": [],
   "source": []
  },
  {
   "cell_type": "code",
   "execution_count": 10,
   "metadata": {},
   "outputs": [
    {
     "name": "stdout",
     "output_type": "stream",
     "text": [
      "   Rounds  Epochs  Number of Clients  Final Accuracy  Final loss         Time\n",
      "0      40      30                  1       90.847458    0.274246    42.877765\n",
      "1      40      30                  2       89.152542    0.281953    61.223549\n",
      "2      40      30                  3       88.474576    0.285910   148.910804\n",
      "3      40      30                  4       88.135593    0.282098   729.194485\n",
      "4      40      30                  5       88.813559    0.284185  1944.554190\n",
      "5      40      30                  6       89.491525    0.285215  3704.912884\n",
      "6      40      30                  7       89.491525    0.284474  5941.728274\n"
     ]
    }
   ],
   "source": [
    "print(summary_df)"
   ]
  }
 ],
 "metadata": {
  "interpreter": {
   "hash": "97a145eaf0e3f554864ed20cbb791f864530a3c9a69256b4acc43ebf1a046342"
  },
  "kernelspec": {
   "display_name": "Python 3.7.6 64-bit ('base': conda)",
   "name": "python3"
  },
  "language_info": {
   "codemirror_mode": {
    "name": "ipython",
    "version": 3
   },
   "file_extension": ".py",
   "mimetype": "text/x-python",
   "name": "python",
   "nbconvert_exporter": "python",
   "pygments_lexer": "ipython3",
   "version": "3.7.6"
  },
  "orig_nbformat": 4
 },
 "nbformat": 4,
 "nbformat_minor": 2
}
