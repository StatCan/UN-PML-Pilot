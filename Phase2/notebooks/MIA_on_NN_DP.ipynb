{
  "cells": [
    {
      "cell_type": "code",
      "source": [
        "\n",
        "\n",
        "!pip install tensorflow-privacy==0.7.3\n",
        "\n"
      ],
      "metadata": {
        "colab": {
          "base_uri": "https://localhost:8080/"
        },
        "id": "6xqr1-CuOmmf",
        "outputId": "5bc22f72-b3a3-4ea9-b9af-f4ee05d2027f"
      },
      "execution_count": 1,
      "outputs": [
        {
          "output_type": "stream",
          "name": "stdout",
          "text": [
            "Looking in indexes: https://pypi.org/simple, https://us-python.pkg.dev/colab-wheels/public/simple/\n",
            "Collecting tensorflow-privacy==0.7.3\n",
            "  Downloading tensorflow_privacy-0.7.3-py3-none-any.whl (251 kB)\n",
            "\u001b[K     |████████████████████████████████| 251 kB 16.7 MB/s \n",
            "\u001b[?25hRequirement already satisfied: mpmath in /usr/local/lib/python3.7/dist-packages (from tensorflow-privacy==0.7.3) (1.2.1)\n",
            "Requirement already satisfied: tensorflow-datasets>=4.4.0 in /usr/local/lib/python3.7/dist-packages (from tensorflow-privacy==0.7.3) (4.6.0)\n",
            "Requirement already satisfied: tensorflow-estimator>=2.3.0 in /usr/local/lib/python3.7/dist-packages (from tensorflow-privacy==0.7.3) (2.8.0)\n",
            "Requirement already satisfied: scipy>=0.17 in /usr/local/lib/python3.7/dist-packages (from tensorflow-privacy==0.7.3) (1.7.3)\n",
            "Requirement already satisfied: tensorflow-probability>=0.13.0 in /usr/local/lib/python3.7/dist-packages (from tensorflow-privacy==0.7.3) (0.16.0)\n",
            "Requirement already satisfied: dm-tree~=0.1.1 in /usr/local/lib/python3.7/dist-packages (from tensorflow-privacy==0.7.3) (0.1.7)\n",
            "Requirement already satisfied: attrs>=21.2.0 in /usr/local/lib/python3.7/dist-packages (from tensorflow-privacy==0.7.3) (22.1.0)\n",
            "Requirement already satisfied: numpy<1.23.0,>=1.16.5 in /usr/local/lib/python3.7/dist-packages (from scipy>=0.17->tensorflow-privacy==0.7.3) (1.21.6)\n",
            "Requirement already satisfied: protobuf>=3.12.2 in /usr/local/lib/python3.7/dist-packages (from tensorflow-datasets>=4.4.0->tensorflow-privacy==0.7.3) (3.17.3)\n",
            "Requirement already satisfied: termcolor in /usr/local/lib/python3.7/dist-packages (from tensorflow-datasets>=4.4.0->tensorflow-privacy==0.7.3) (1.1.0)\n",
            "Requirement already satisfied: etils[epath] in /usr/local/lib/python3.7/dist-packages (from tensorflow-datasets>=4.4.0->tensorflow-privacy==0.7.3) (0.6.0)\n",
            "Requirement already satisfied: typing-extensions in /usr/local/lib/python3.7/dist-packages (from tensorflow-datasets>=4.4.0->tensorflow-privacy==0.7.3) (4.1.1)\n",
            "Requirement already satisfied: importlib-resources in /usr/local/lib/python3.7/dist-packages (from tensorflow-datasets>=4.4.0->tensorflow-privacy==0.7.3) (5.9.0)\n",
            "Requirement already satisfied: dill in /usr/local/lib/python3.7/dist-packages (from tensorflow-datasets>=4.4.0->tensorflow-privacy==0.7.3) (0.3.5.1)\n",
            "Requirement already satisfied: tqdm in /usr/local/lib/python3.7/dist-packages (from tensorflow-datasets>=4.4.0->tensorflow-privacy==0.7.3) (4.64.0)\n",
            "Requirement already satisfied: requests>=2.19.0 in /usr/local/lib/python3.7/dist-packages (from tensorflow-datasets>=4.4.0->tensorflow-privacy==0.7.3) (2.23.0)\n",
            "Requirement already satisfied: tensorflow-metadata in /usr/local/lib/python3.7/dist-packages (from tensorflow-datasets>=4.4.0->tensorflow-privacy==0.7.3) (1.9.0)\n",
            "Requirement already satisfied: absl-py in /usr/local/lib/python3.7/dist-packages (from tensorflow-datasets>=4.4.0->tensorflow-privacy==0.7.3) (1.2.0)\n",
            "Requirement already satisfied: promise in /usr/local/lib/python3.7/dist-packages (from tensorflow-datasets>=4.4.0->tensorflow-privacy==0.7.3) (2.3)\n",
            "Requirement already satisfied: toml in /usr/local/lib/python3.7/dist-packages (from tensorflow-datasets>=4.4.0->tensorflow-privacy==0.7.3) (0.10.2)\n",
            "Requirement already satisfied: six in /usr/local/lib/python3.7/dist-packages (from tensorflow-datasets>=4.4.0->tensorflow-privacy==0.7.3) (1.15.0)\n",
            "Requirement already satisfied: urllib3!=1.25.0,!=1.25.1,<1.26,>=1.21.1 in /usr/local/lib/python3.7/dist-packages (from requests>=2.19.0->tensorflow-datasets>=4.4.0->tensorflow-privacy==0.7.3) (1.24.3)\n",
            "Requirement already satisfied: certifi>=2017.4.17 in /usr/local/lib/python3.7/dist-packages (from requests>=2.19.0->tensorflow-datasets>=4.4.0->tensorflow-privacy==0.7.3) (2022.6.15)\n",
            "Requirement already satisfied: chardet<4,>=3.0.2 in /usr/local/lib/python3.7/dist-packages (from requests>=2.19.0->tensorflow-datasets>=4.4.0->tensorflow-privacy==0.7.3) (3.0.4)\n",
            "Requirement already satisfied: idna<3,>=2.5 in /usr/local/lib/python3.7/dist-packages (from requests>=2.19.0->tensorflow-datasets>=4.4.0->tensorflow-privacy==0.7.3) (2.10)\n",
            "Requirement already satisfied: gast>=0.3.2 in /usr/local/lib/python3.7/dist-packages (from tensorflow-probability>=0.13.0->tensorflow-privacy==0.7.3) (0.5.3)\n",
            "Requirement already satisfied: cloudpickle>=1.3 in /usr/local/lib/python3.7/dist-packages (from tensorflow-probability>=0.13.0->tensorflow-privacy==0.7.3) (1.3.0)\n",
            "Requirement already satisfied: decorator in /usr/local/lib/python3.7/dist-packages (from tensorflow-probability>=0.13.0->tensorflow-privacy==0.7.3) (4.4.2)\n",
            "Requirement already satisfied: zipp in /usr/local/lib/python3.7/dist-packages (from etils[epath]->tensorflow-datasets>=4.4.0->tensorflow-privacy==0.7.3) (3.8.1)\n",
            "Requirement already satisfied: googleapis-common-protos<2,>=1.52.0 in /usr/local/lib/python3.7/dist-packages (from tensorflow-metadata->tensorflow-datasets>=4.4.0->tensorflow-privacy==0.7.3) (1.56.4)\n",
            "Installing collected packages: tensorflow-privacy\n",
            "Successfully installed tensorflow-privacy-0.7.3\n"
          ]
        }
      ]
    },
    {
      "cell_type": "code",
      "execution_count": 73,
      "metadata": {
        "id": "zJDZPJlNhDHb",
        "tags": []
      },
      "outputs": [],
      "source": [
        "#from __future__ import absolute_import, division, print_function\n",
        "\n",
        "import sys\n",
        "import logging\n",
        "import math\n",
        "import datetime\n",
        "import random\n",
        "import pandas as pd\n",
        "import numpy as np\n",
        "import sklearn\n",
        "import matplotlib.pyplot as plt\n",
        "import numpy as np\n",
        "import pandas as pd\n",
        "import seaborn as sns\n",
        "import tensorflow as tf\n",
        "#from tensorflow.keras.utils import to_categorical\n",
        "\n",
        "#import tensorflow_privacy\n",
        "from sklearn.linear_model import LogisticRegression\n",
        "from sklearn.model_selection import train_test_split\n",
        "from sklearn.metrics import classification_report\n",
        "from tensorflow_privacy.privacy.analysis.rdp_accountant import (\n",
        "    compute_rdp,\n",
        "    get_privacy_spent,\n",
        ")\n",
        "from tensorflow_privacy.privacy.optimizers import dp_optimizer\n",
        "from tensorflow_privacy.privacy.optimizers.dp_optimizer_keras import DPKerasSGDOptimizer\n",
        "import tensorflow_privacy.privacy.privacy_tests.membership_inference_attack.membership_inference_attack as mia\n",
        "from tensorflow_privacy.privacy.privacy_tests.membership_inference_attack.data_structures import AttackInputData\n",
        "from tensorflow_privacy.privacy.privacy_tests.membership_inference_attack.data_structures import SlicingSpec\n",
        "from tensorflow_privacy.privacy.privacy_tests.membership_inference_attack.data_structures import AttackType"
      ]
    },
    {
      "cell_type": "code",
      "source": [
        "noise_multiplier=0.01\n",
        "epochs=200\n",
        "learning_rate=0.1\n"
      ],
      "metadata": {
        "id": "IBIq7SVZ8xG2"
      },
      "execution_count": 140,
      "outputs": []
    },
    {
      "cell_type": "code",
      "execution_count": 100,
      "metadata": {
        "id": "7C7tiZEe8fnu"
      },
      "outputs": [],
      "source": [
        ""
      ]
    },
    {
      "cell_type": "code",
      "execution_count": 141,
      "metadata": {
        "id": "TojftLtqha_0",
        "tags": []
      },
      "outputs": [],
      "source": [
        "df = pd.read_csv(\"student-mat.csv\",sep=\";\")\n",
        "#df_stud_por = pd.read_csv(\"student-por.csv\",sep=\";\")"
      ]
    },
    {
      "cell_type": "code",
      "execution_count": 142,
      "metadata": {
        "id": "YkcNS-0AnBbE",
        "tags": [],
        "colab": {
          "base_uri": "https://localhost:8080/",
          "height": 424
        },
        "outputId": "1455a641-a3c3-4fc8-fa71-66499ecad5d2"
      },
      "outputs": [
        {
          "output_type": "execute_result",
          "data": {
            "text/plain": [
              "    school sex address famsize Pstatus      Mjob      Fjob  reason guardian  \\\n",
              "0       GP   F       U     GT3       A   at_home   teacher  course   mother   \n",
              "1       GP   F       U     GT3       T   at_home     other  course   father   \n",
              "2       GP   F       U     LE3       T   at_home     other   other   mother   \n",
              "3       GP   F       U     GT3       T    health  services    home   mother   \n",
              "4       GP   F       U     GT3       T     other     other    home   father   \n",
              "..     ...  ..     ...     ...     ...       ...       ...     ...      ...   \n",
              "390     MS   M       U     LE3       A  services  services  course    other   \n",
              "391     MS   M       U     LE3       T  services  services  course   mother   \n",
              "392     MS   M       R     GT3       T     other     other  course    other   \n",
              "393     MS   M       R     LE3       T  services     other  course   mother   \n",
              "394     MS   M       U     LE3       T     other   at_home  course   father   \n",
              "\n",
              "    schoolsup famsup paid activities nursery higher internet romantic  \n",
              "0         yes     no   no         no     yes    yes       no       no  \n",
              "1          no    yes   no         no      no    yes      yes       no  \n",
              "2         yes     no  yes         no     yes    yes      yes       no  \n",
              "3          no    yes  yes        yes     yes    yes      yes      yes  \n",
              "4          no    yes  yes         no     yes    yes       no       no  \n",
              "..        ...    ...  ...        ...     ...    ...      ...      ...  \n",
              "390        no    yes  yes         no     yes    yes       no       no  \n",
              "391        no     no   no         no      no    yes      yes       no  \n",
              "392        no     no   no         no      no    yes       no       no  \n",
              "393        no     no   no         no      no    yes      yes       no  \n",
              "394        no     no   no         no     yes    yes      yes       no  \n",
              "\n",
              "[395 rows x 17 columns]"
            ],
            "text/html": [
              "\n",
              "  <div id=\"df-6a35d3c5-b2d2-4fbb-8691-a64fe08ab140\">\n",
              "    <div class=\"colab-df-container\">\n",
              "      <div>\n",
              "<style scoped>\n",
              "    .dataframe tbody tr th:only-of-type {\n",
              "        vertical-align: middle;\n",
              "    }\n",
              "\n",
              "    .dataframe tbody tr th {\n",
              "        vertical-align: top;\n",
              "    }\n",
              "\n",
              "    .dataframe thead th {\n",
              "        text-align: right;\n",
              "    }\n",
              "</style>\n",
              "<table border=\"1\" class=\"dataframe\">\n",
              "  <thead>\n",
              "    <tr style=\"text-align: right;\">\n",
              "      <th></th>\n",
              "      <th>school</th>\n",
              "      <th>sex</th>\n",
              "      <th>address</th>\n",
              "      <th>famsize</th>\n",
              "      <th>Pstatus</th>\n",
              "      <th>Mjob</th>\n",
              "      <th>Fjob</th>\n",
              "      <th>reason</th>\n",
              "      <th>guardian</th>\n",
              "      <th>schoolsup</th>\n",
              "      <th>famsup</th>\n",
              "      <th>paid</th>\n",
              "      <th>activities</th>\n",
              "      <th>nursery</th>\n",
              "      <th>higher</th>\n",
              "      <th>internet</th>\n",
              "      <th>romantic</th>\n",
              "    </tr>\n",
              "  </thead>\n",
              "  <tbody>\n",
              "    <tr>\n",
              "      <th>0</th>\n",
              "      <td>GP</td>\n",
              "      <td>F</td>\n",
              "      <td>U</td>\n",
              "      <td>GT3</td>\n",
              "      <td>A</td>\n",
              "      <td>at_home</td>\n",
              "      <td>teacher</td>\n",
              "      <td>course</td>\n",
              "      <td>mother</td>\n",
              "      <td>yes</td>\n",
              "      <td>no</td>\n",
              "      <td>no</td>\n",
              "      <td>no</td>\n",
              "      <td>yes</td>\n",
              "      <td>yes</td>\n",
              "      <td>no</td>\n",
              "      <td>no</td>\n",
              "    </tr>\n",
              "    <tr>\n",
              "      <th>1</th>\n",
              "      <td>GP</td>\n",
              "      <td>F</td>\n",
              "      <td>U</td>\n",
              "      <td>GT3</td>\n",
              "      <td>T</td>\n",
              "      <td>at_home</td>\n",
              "      <td>other</td>\n",
              "      <td>course</td>\n",
              "      <td>father</td>\n",
              "      <td>no</td>\n",
              "      <td>yes</td>\n",
              "      <td>no</td>\n",
              "      <td>no</td>\n",
              "      <td>no</td>\n",
              "      <td>yes</td>\n",
              "      <td>yes</td>\n",
              "      <td>no</td>\n",
              "    </tr>\n",
              "    <tr>\n",
              "      <th>2</th>\n",
              "      <td>GP</td>\n",
              "      <td>F</td>\n",
              "      <td>U</td>\n",
              "      <td>LE3</td>\n",
              "      <td>T</td>\n",
              "      <td>at_home</td>\n",
              "      <td>other</td>\n",
              "      <td>other</td>\n",
              "      <td>mother</td>\n",
              "      <td>yes</td>\n",
              "      <td>no</td>\n",
              "      <td>yes</td>\n",
              "      <td>no</td>\n",
              "      <td>yes</td>\n",
              "      <td>yes</td>\n",
              "      <td>yes</td>\n",
              "      <td>no</td>\n",
              "    </tr>\n",
              "    <tr>\n",
              "      <th>3</th>\n",
              "      <td>GP</td>\n",
              "      <td>F</td>\n",
              "      <td>U</td>\n",
              "      <td>GT3</td>\n",
              "      <td>T</td>\n",
              "      <td>health</td>\n",
              "      <td>services</td>\n",
              "      <td>home</td>\n",
              "      <td>mother</td>\n",
              "      <td>no</td>\n",
              "      <td>yes</td>\n",
              "      <td>yes</td>\n",
              "      <td>yes</td>\n",
              "      <td>yes</td>\n",
              "      <td>yes</td>\n",
              "      <td>yes</td>\n",
              "      <td>yes</td>\n",
              "    </tr>\n",
              "    <tr>\n",
              "      <th>4</th>\n",
              "      <td>GP</td>\n",
              "      <td>F</td>\n",
              "      <td>U</td>\n",
              "      <td>GT3</td>\n",
              "      <td>T</td>\n",
              "      <td>other</td>\n",
              "      <td>other</td>\n",
              "      <td>home</td>\n",
              "      <td>father</td>\n",
              "      <td>no</td>\n",
              "      <td>yes</td>\n",
              "      <td>yes</td>\n",
              "      <td>no</td>\n",
              "      <td>yes</td>\n",
              "      <td>yes</td>\n",
              "      <td>no</td>\n",
              "      <td>no</td>\n",
              "    </tr>\n",
              "    <tr>\n",
              "      <th>...</th>\n",
              "      <td>...</td>\n",
              "      <td>...</td>\n",
              "      <td>...</td>\n",
              "      <td>...</td>\n",
              "      <td>...</td>\n",
              "      <td>...</td>\n",
              "      <td>...</td>\n",
              "      <td>...</td>\n",
              "      <td>...</td>\n",
              "      <td>...</td>\n",
              "      <td>...</td>\n",
              "      <td>...</td>\n",
              "      <td>...</td>\n",
              "      <td>...</td>\n",
              "      <td>...</td>\n",
              "      <td>...</td>\n",
              "      <td>...</td>\n",
              "    </tr>\n",
              "    <tr>\n",
              "      <th>390</th>\n",
              "      <td>MS</td>\n",
              "      <td>M</td>\n",
              "      <td>U</td>\n",
              "      <td>LE3</td>\n",
              "      <td>A</td>\n",
              "      <td>services</td>\n",
              "      <td>services</td>\n",
              "      <td>course</td>\n",
              "      <td>other</td>\n",
              "      <td>no</td>\n",
              "      <td>yes</td>\n",
              "      <td>yes</td>\n",
              "      <td>no</td>\n",
              "      <td>yes</td>\n",
              "      <td>yes</td>\n",
              "      <td>no</td>\n",
              "      <td>no</td>\n",
              "    </tr>\n",
              "    <tr>\n",
              "      <th>391</th>\n",
              "      <td>MS</td>\n",
              "      <td>M</td>\n",
              "      <td>U</td>\n",
              "      <td>LE3</td>\n",
              "      <td>T</td>\n",
              "      <td>services</td>\n",
              "      <td>services</td>\n",
              "      <td>course</td>\n",
              "      <td>mother</td>\n",
              "      <td>no</td>\n",
              "      <td>no</td>\n",
              "      <td>no</td>\n",
              "      <td>no</td>\n",
              "      <td>no</td>\n",
              "      <td>yes</td>\n",
              "      <td>yes</td>\n",
              "      <td>no</td>\n",
              "    </tr>\n",
              "    <tr>\n",
              "      <th>392</th>\n",
              "      <td>MS</td>\n",
              "      <td>M</td>\n",
              "      <td>R</td>\n",
              "      <td>GT3</td>\n",
              "      <td>T</td>\n",
              "      <td>other</td>\n",
              "      <td>other</td>\n",
              "      <td>course</td>\n",
              "      <td>other</td>\n",
              "      <td>no</td>\n",
              "      <td>no</td>\n",
              "      <td>no</td>\n",
              "      <td>no</td>\n",
              "      <td>no</td>\n",
              "      <td>yes</td>\n",
              "      <td>no</td>\n",
              "      <td>no</td>\n",
              "    </tr>\n",
              "    <tr>\n",
              "      <th>393</th>\n",
              "      <td>MS</td>\n",
              "      <td>M</td>\n",
              "      <td>R</td>\n",
              "      <td>LE3</td>\n",
              "      <td>T</td>\n",
              "      <td>services</td>\n",
              "      <td>other</td>\n",
              "      <td>course</td>\n",
              "      <td>mother</td>\n",
              "      <td>no</td>\n",
              "      <td>no</td>\n",
              "      <td>no</td>\n",
              "      <td>no</td>\n",
              "      <td>no</td>\n",
              "      <td>yes</td>\n",
              "      <td>yes</td>\n",
              "      <td>no</td>\n",
              "    </tr>\n",
              "    <tr>\n",
              "      <th>394</th>\n",
              "      <td>MS</td>\n",
              "      <td>M</td>\n",
              "      <td>U</td>\n",
              "      <td>LE3</td>\n",
              "      <td>T</td>\n",
              "      <td>other</td>\n",
              "      <td>at_home</td>\n",
              "      <td>course</td>\n",
              "      <td>father</td>\n",
              "      <td>no</td>\n",
              "      <td>no</td>\n",
              "      <td>no</td>\n",
              "      <td>no</td>\n",
              "      <td>yes</td>\n",
              "      <td>yes</td>\n",
              "      <td>yes</td>\n",
              "      <td>no</td>\n",
              "    </tr>\n",
              "  </tbody>\n",
              "</table>\n",
              "<p>395 rows × 17 columns</p>\n",
              "</div>\n",
              "      <button class=\"colab-df-convert\" onclick=\"convertToInteractive('df-6a35d3c5-b2d2-4fbb-8691-a64fe08ab140')\"\n",
              "              title=\"Convert this dataframe to an interactive table.\"\n",
              "              style=\"display:none;\">\n",
              "        \n",
              "  <svg xmlns=\"http://www.w3.org/2000/svg\" height=\"24px\"viewBox=\"0 0 24 24\"\n",
              "       width=\"24px\">\n",
              "    <path d=\"M0 0h24v24H0V0z\" fill=\"none\"/>\n",
              "    <path d=\"M18.56 5.44l.94 2.06.94-2.06 2.06-.94-2.06-.94-.94-2.06-.94 2.06-2.06.94zm-11 1L8.5 8.5l.94-2.06 2.06-.94-2.06-.94L8.5 2.5l-.94 2.06-2.06.94zm10 10l.94 2.06.94-2.06 2.06-.94-2.06-.94-.94-2.06-.94 2.06-2.06.94z\"/><path d=\"M17.41 7.96l-1.37-1.37c-.4-.4-.92-.59-1.43-.59-.52 0-1.04.2-1.43.59L10.3 9.45l-7.72 7.72c-.78.78-.78 2.05 0 2.83L4 21.41c.39.39.9.59 1.41.59.51 0 1.02-.2 1.41-.59l7.78-7.78 2.81-2.81c.8-.78.8-2.07 0-2.86zM5.41 20L4 18.59l7.72-7.72 1.47 1.35L5.41 20z\"/>\n",
              "  </svg>\n",
              "      </button>\n",
              "      \n",
              "  <style>\n",
              "    .colab-df-container {\n",
              "      display:flex;\n",
              "      flex-wrap:wrap;\n",
              "      gap: 12px;\n",
              "    }\n",
              "\n",
              "    .colab-df-convert {\n",
              "      background-color: #E8F0FE;\n",
              "      border: none;\n",
              "      border-radius: 50%;\n",
              "      cursor: pointer;\n",
              "      display: none;\n",
              "      fill: #1967D2;\n",
              "      height: 32px;\n",
              "      padding: 0 0 0 0;\n",
              "      width: 32px;\n",
              "    }\n",
              "\n",
              "    .colab-df-convert:hover {\n",
              "      background-color: #E2EBFA;\n",
              "      box-shadow: 0px 1px 2px rgba(60, 64, 67, 0.3), 0px 1px 3px 1px rgba(60, 64, 67, 0.15);\n",
              "      fill: #174EA6;\n",
              "    }\n",
              "\n",
              "    [theme=dark] .colab-df-convert {\n",
              "      background-color: #3B4455;\n",
              "      fill: #D2E3FC;\n",
              "    }\n",
              "\n",
              "    [theme=dark] .colab-df-convert:hover {\n",
              "      background-color: #434B5C;\n",
              "      box-shadow: 0px 1px 3px 1px rgba(0, 0, 0, 0.15);\n",
              "      filter: drop-shadow(0px 1px 2px rgba(0, 0, 0, 0.3));\n",
              "      fill: #FFFFFF;\n",
              "    }\n",
              "  </style>\n",
              "\n",
              "      <script>\n",
              "        const buttonEl =\n",
              "          document.querySelector('#df-6a35d3c5-b2d2-4fbb-8691-a64fe08ab140 button.colab-df-convert');\n",
              "        buttonEl.style.display =\n",
              "          google.colab.kernel.accessAllowed ? 'block' : 'none';\n",
              "\n",
              "        async function convertToInteractive(key) {\n",
              "          const element = document.querySelector('#df-6a35d3c5-b2d2-4fbb-8691-a64fe08ab140');\n",
              "          const dataTable =\n",
              "            await google.colab.kernel.invokeFunction('convertToInteractive',\n",
              "                                                     [key], {});\n",
              "          if (!dataTable) return;\n",
              "\n",
              "          const docLinkHtml = 'Like what you see? Visit the ' +\n",
              "            '<a target=\"_blank\" href=https://colab.research.google.com/notebooks/data_table.ipynb>data table notebook</a>'\n",
              "            + ' to learn more about interactive tables.';\n",
              "          element.innerHTML = '';\n",
              "          dataTable['output_type'] = 'display_data';\n",
              "          await google.colab.output.renderOutput(dataTable, element);\n",
              "          const docLink = document.createElement('div');\n",
              "          docLink.innerHTML = docLinkHtml;\n",
              "          element.appendChild(docLink);\n",
              "        }\n",
              "      </script>\n",
              "    </div>\n",
              "  </div>\n",
              "  "
            ]
          },
          "metadata": {},
          "execution_count": 142
        }
      ],
      "source": [
        "pd.set_option('display.max_columns', 52)\n",
        "df.select_dtypes(include='object')"
      ]
    },
    {
      "cell_type": "code",
      "execution_count": 143,
      "metadata": {
        "id": "dAGfg1_3jsZR",
        "tags": []
      },
      "outputs": [],
      "source": [
        "df_encode = pd.get_dummies(df)"
      ]
    },
    {
      "cell_type": "code",
      "execution_count": 144,
      "metadata": {
        "id": "BQfKlHiqpMCP",
        "tags": [],
        "colab": {
          "base_uri": "https://localhost:8080/"
        },
        "outputId": "b999bbeb-8809-4396-cddb-71b889df0798"
      },
      "outputs": [
        {
          "output_type": "stream",
          "name": "stdout",
          "text": [
            "['G3']\n"
          ]
        }
      ],
      "source": [
        "y=df_encode.G3\n",
        "exclude_var=['G3']\n",
        "print(exclude_var)\n",
        "x_data=df_encode.drop(columns=exclude_var)"
      ]
    },
    {
      "cell_type": "code",
      "execution_count": 145,
      "metadata": {
        "id": "xQW01qkH3e1M",
        "tags": [],
        "colab": {
          "base_uri": "https://localhost:8080/"
        },
        "outputId": "f50f73de-e19f-4b2b-cd4c-8ed1a35490e5"
      },
      "outputs": [
        {
          "output_type": "execute_result",
          "data": {
            "text/plain": [
              "10    56\n",
              "11    47\n",
              "0     38\n",
              "15    33\n",
              "8     32\n",
              "13    31\n",
              "12    31\n",
              "9     28\n",
              "14    27\n",
              "16    16\n",
              "6     15\n",
              "18    12\n",
              "7      9\n",
              "5      7\n",
              "17     6\n",
              "19     5\n",
              "20     1\n",
              "4      1\n",
              "Name: G3, dtype: int64"
            ]
          },
          "metadata": {},
          "execution_count": 145
        }
      ],
      "source": [
        "y.value_counts()"
      ]
    },
    {
      "cell_type": "code",
      "execution_count": 146,
      "metadata": {
        "tags": [],
        "id": "oNvUjWkM8fn1"
      },
      "outputs": [],
      "source": [
        "ybin = np.asarray(y)"
      ]
    },
    {
      "cell_type": "code",
      "execution_count": 106,
      "metadata": {
        "tags": [],
        "id": "9tkE_ouE8fn2"
      },
      "outputs": [],
      "source": [
        ""
      ]
    },
    {
      "cell_type": "code",
      "execution_count": 147,
      "metadata": {
        "tags": [],
        "id": "xQ6M1bsX8fn5"
      },
      "outputs": [],
      "source": [
        "ybin[ybin<10] = 0\n",
        "ybin[ybin>=10] = 1"
      ]
    },
    {
      "cell_type": "code",
      "execution_count": 148,
      "metadata": {
        "id": "DrK_YKi8oQb-",
        "tags": []
      },
      "outputs": [],
      "source": [
        "from sklearn.model_selection import train_test_split\n"
      ]
    },
    {
      "cell_type": "code",
      "execution_count": 149,
      "metadata": {
        "tags": [],
        "id": "69AwvQer8fn8"
      },
      "outputs": [],
      "source": [
        "# min-max normalization\n",
        "x = (x_data - np.min(x_data)) / (np.max(x_data) - np.min(x_data)).values"
      ]
    },
    {
      "cell_type": "code",
      "execution_count": 150,
      "metadata": {
        "id": "qFWeEULn8fn-"
      },
      "outputs": [],
      "source": [
        "x_train, x_test, y_train, y_test = train_test_split(x, ybin, test_size=0.2, random_state=0)\n",
        "\n",
        "# get validation dataset\n",
        "x_train, x_valid, y_train, y_valid = train_test_split(\n",
        "    x_train, y_train, test_size=0.2, random_state=0\n",
        ")"
      ]
    },
    {
      "cell_type": "code",
      "execution_count": 151,
      "metadata": {
        "id": "HbPkDPHIA6VR",
        "tags": [],
        "colab": {
          "base_uri": "https://localhost:8080/"
        },
        "outputId": "9b6ce2ea-0e1e-444f-bd00-ac495836bd84"
      },
      "outputs": [
        {
          "output_type": "execute_result",
          "data": {
            "text/plain": [
              "((252, 58), (252,), (79, 58), (79,))"
            ]
          },
          "metadata": {},
          "execution_count": 151
        }
      ],
      "source": [
        "x_train.shape, y_train.shape, x_test.shape, y_test.shape"
      ]
    },
    {
      "cell_type": "code",
      "execution_count": 152,
      "metadata": {
        "id": "jqd8DBO88fn_",
        "colab": {
          "base_uri": "https://localhost:8080/"
        },
        "outputId": "b46c8198-993b-4002-bef1-21799a0af08d"
      },
      "outputs": [
        {
          "output_type": "execute_result",
          "data": {
            "text/plain": [
              "array([1, 1, 0, 1, 1, 1, 1, 1, 0, 1, 1, 1, 1, 0, 1, 1, 1, 0, 1, 1, 0, 0,\n",
              "       0, 1, 1, 1, 1, 1, 0, 1, 0, 1, 0, 0, 1, 1, 1, 1, 0, 1, 0, 1, 0, 0,\n",
              "       1, 0, 1, 0, 1, 0, 1, 1, 1, 0, 1, 0, 0, 1, 1, 1, 1, 1, 1, 1, 0, 1,\n",
              "       1, 1, 0, 0, 0, 1, 0, 0, 0, 0, 1, 1, 0])"
            ]
          },
          "metadata": {},
          "execution_count": 152
        }
      ],
      "source": [
        "y_test"
      ]
    },
    {
      "cell_type": "code",
      "execution_count": 153,
      "metadata": {
        "id": "wg9pq0Ls8foA",
        "colab": {
          "base_uri": "https://localhost:8080/"
        },
        "outputId": "5bb47e98-2e71-4ff0-fb56-000b1502c007"
      },
      "outputs": [
        {
          "output_type": "execute_result",
          "data": {
            "text/plain": [
              "array([1, 1, 1, 0, 0, 0, 1, 1, 0, 1, 0, 0, 0, 1, 1, 0, 1, 1, 1, 1, 1, 1,\n",
              "       1, 0, 0, 1, 1, 1, 1, 1, 1, 0, 1, 1, 0, 0, 1, 0, 1, 1, 1, 1, 1, 1,\n",
              "       1, 0, 0, 1, 0, 1, 1, 1, 1, 1, 1, 1, 0, 0, 1, 1, 1, 0, 1, 0, 1, 1,\n",
              "       1, 1, 0, 0, 1, 1, 1, 0, 1, 0, 1, 0, 1, 0, 1, 0, 1, 1, 0, 1, 1, 1,\n",
              "       0, 0, 0, 1, 1, 1, 1, 1, 1, 1, 1, 0, 1, 1, 1, 1, 1, 0, 0, 1, 0, 1,\n",
              "       1, 0, 1, 1, 1, 1, 0, 0, 0, 1, 1, 0, 0, 1, 1, 1, 0, 1, 0, 1, 1, 1,\n",
              "       0, 1, 1, 0, 1, 1, 0, 0, 0, 1, 1, 0, 1, 1, 1, 1, 1, 1, 1, 0, 1, 1,\n",
              "       0, 1, 1, 0, 1, 1, 1, 1, 0, 1, 0, 0, 0, 1, 1, 1, 0, 1, 1, 1, 0, 1,\n",
              "       1, 1, 1, 1, 1, 1, 1, 0, 0, 1, 0, 1, 0, 1, 1, 1, 0, 1, 1, 0, 1, 1,\n",
              "       0, 1, 1, 1, 1, 0, 1, 0, 1, 1, 1, 0, 1, 1, 0, 1, 0, 0, 1, 1, 1, 0,\n",
              "       1, 0, 1, 0, 0, 1, 1, 1, 1, 1, 1, 0, 0, 1, 1, 0, 0, 1, 0, 1, 0, 1,\n",
              "       1, 1, 1, 1, 1, 1, 1, 1, 1, 1])"
            ]
          },
          "metadata": {},
          "execution_count": 153
        }
      ],
      "source": [
        "y_train"
      ]
    },
    {
      "cell_type": "code",
      "execution_count": 154,
      "metadata": {
        "id": "zGZO-Kqa8foA",
        "colab": {
          "base_uri": "https://localhost:8080/"
        },
        "outputId": "af3a8d7b-174f-469a-b56b-32b0249e0c51"
      },
      "outputs": [
        {
          "output_type": "execute_result",
          "data": {
            "text/plain": [
              "array([0, 1, 1, 0, 1, 1, 1, 0, 1, 0, 1, 1, 0, 0, 1, 1, 1, 1, 0, 1, 1, 1,\n",
              "       1, 1, 0, 1, 1, 1, 1, 1, 1, 1, 1, 0, 0, 1, 1, 0, 1, 0, 1, 1, 1, 1,\n",
              "       1, 0, 1, 1, 1, 0, 1, 0, 1, 1, 0, 1, 0, 1, 0, 1, 1, 1, 1, 1])"
            ]
          },
          "metadata": {},
          "execution_count": 154
        }
      ],
      "source": [
        "y_valid"
      ]
    },
    {
      "cell_type": "code",
      "execution_count": 155,
      "metadata": {
        "tags": [],
        "id": "REDETmsg8foC",
        "colab": {
          "base_uri": "https://localhost:8080/"
        },
        "outputId": "516cf0d8-ad7c-4fae-f1c5-6bbd68829df1"
      },
      "outputs": [
        {
          "output_type": "execute_result",
          "data": {
            "text/plain": [
              "58"
            ]
          },
          "metadata": {},
          "execution_count": 155
        }
      ],
      "source": [
        "len(x.columns)"
      ]
    },
    {
      "cell_type": "code",
      "execution_count": 156,
      "metadata": {
        "tags": [],
        "id": "ljDUmIWU8foC",
        "colab": {
          "base_uri": "https://localhost:8080/"
        },
        "outputId": "ea97e8fb-cbc7-4dc0-fee6-11a137fe6f2d"
      },
      "outputs": [
        {
          "output_type": "execute_result",
          "data": {
            "text/plain": [
              "252"
            ]
          },
          "metadata": {},
          "execution_count": 156
        }
      ],
      "source": [
        "training_size = x_train.shape[0]\n",
        "training_size"
      ]
    },
    {
      "cell_type": "code",
      "execution_count": 157,
      "metadata": {
        "tags": [],
        "id": "Vhf-vWur8foD"
      },
      "outputs": [],
      "source": [
        "# from here https://github.com/VectorInstitute/PETs-Bootcamp/blob/main/DP_TensorFlowPrivacy/TFP_HeartDisease_KerasMLP_GridSearch.ipynb\n",
        "def train(\n",
        "    noise_multiplier,\n",
        "    l2_norm_clip,\n",
        "    batch_size,\n",
        "    microbatches,\n",
        "    x_train,\n",
        "    y_train,\n",
        "    dpsgd=True,\n",
        "    learning_rate=learning_rate,\n",
        "    epochs=epochs,\n",
        "    model_dir=None,\n",
        "    print_outputs=True,\n",
        "    verbose=1,\n",
        "):\n",
        "\n",
        "    if dpsgd and batch_size % microbatches != 0:\n",
        "        raise ValueError(\"Number of microbatches should divide evenly batch_size\")\n",
        "\n",
        "    # Define a sequential Keras model\n",
        "    model = tf.keras.Sequential(\n",
        "        [\n",
        "            tf.keras.layers.Dense(40, input_dim=58, activation=\"relu\"),\n",
        "            tf.keras.layers.Dense(60, activation=\"relu\"),\n",
        "            tf.keras.layers.Dense(20, activation=\"relu\"),\n",
        "            #tf.keras.layers.Dense(1, activation=\"sigmoid\"),\n",
        "            #V2 for mia attack we need logit output\n",
        "            tf.keras.layers.Dense(1),\n",
        "        ]\n",
        "    )\n",
        "\n",
        "    if dpsgd:\n",
        "        optimizer = DPKerasSGDOptimizer(\n",
        "            l2_norm_clip=l2_norm_clip,\n",
        "            noise_multiplier=noise_multiplier,\n",
        "            num_microbatches=microbatches,\n",
        "            learning_rate=learning_rate,\n",
        "        )\n",
        "        # Compute vector of per-example loss rather than its mean over a minibatch.\n",
        "        #loss = tf.keras.losses.BinaryCrossentropy(reduction=tf.losses.Reduction.NONE)\n",
        "        loss = tf.keras.losses.BinaryCrossentropy(reduction=tf.losses.Reduction.NONE,from_logits=True) #V2\n",
        "\n",
        "    else:\n",
        "        optimizer = tf.keras.optimizers.SGD(learning_rate=learning_rate)\n",
        "        #loss = tf.keras.losses.BinaryCrossentropy()\n",
        "        loss = tf.keras.losses.BinaryCrossentropy(from_logits=True) #V2\n",
        "\n",
        "    # F.MIA'S ATTACK USE THESE PARAMETERS\n",
        "    '''\n",
        "    # specify parameters\n",
        "    optimizer = tf.keras.optimizers.Adam()\n",
        "    loss = tf.keras.losses.SparseCategoricalCrossentropy(from_logits=True)\n",
        "\n",
        "    # compile the model\n",
        "    model.compile(optimizer=optimizer, loss=loss, metrics=['accuracy'])\n",
        "    '''\n",
        "\n",
        "    # Compile model with Keras\n",
        "    model.compile(optimizer=optimizer, loss=loss, metrics=[\"accuracy\"])\n",
        "\n",
        "\n",
        "    display(model.summary())\n",
        "\n",
        "    log_dir = \"logs/fit/\" + datetime.datetime.now().strftime(\"%Y%m%d-%H%M%S\")\n",
        "    tensorboard_callback = tf.keras.callbacks.TensorBoard(\n",
        "        log_dir=log_dir, histogram_freq=1\n",
        "    )\n",
        "\n",
        "    # Train model with Keras\n",
        "    history=model.fit(\n",
        "        x_train,\n",
        "        y_train,\n",
        "        epochs=epochs,\n",
        "        validation_data=(x_valid, y_valid),\n",
        "        batch_size=batch_size,\n",
        "        verbose=verbose,\n",
        "        callbacks=[tensorboard_callback],\n",
        "    )\n",
        "\n",
        "    # plot accuracy for the first model\n",
        "    plt.plot(history.history['accuracy'], label='acc')\n",
        "    plt.plot(history.history['val_accuracy'], label='val_acc')\n",
        "    plt.legend();\n",
        "    plt.ylim(0,1)\n",
        "\n",
        "    score_train = model.evaluate(x_train, y_train, verbose=verbose)\n",
        "    score_valid = model.evaluate(x_valid, y_valid, verbose=verbose)\n",
        "    score_test = model.evaluate(x_test, y_test, verbose=verbose)\n",
        "\n",
        "    weights = model.get_weights()\n",
        "\n",
        "    # Compute the privacy budget expended.\n",
        "    # // is integer division\n",
        "    if dpsgd:\n",
        "        eps = compute_epsilon(\n",
        "            epochs * training_size // batch_size,\n",
        "            training_size=training_size,\n",
        "            noise_multiplier=noise_multiplier,\n",
        "            batch_size=batch_size,\n",
        "        )\n",
        "\n",
        "    else:\n",
        "        eps = \"non-private SGD\"\n",
        "\n",
        "    if print_outputs:\n",
        "        print(\n",
        "            \"\\nhyperparamters: learning rate = \"\n",
        "            + str(learning_rate)\n",
        "            + \", noise_multiplier = \"\n",
        "            + str(noise_multiplier)\n",
        "            + \", l2_norm_clip = \"\n",
        "            + str(l2_norm_clip)\n",
        "            + \", epochs = \"\n",
        "            + str(epochs)\n",
        "            + \", batch_size = \"\n",
        "            + str(batch_size)\n",
        "            + \", microbatches = \"\n",
        "            + str(microbatches)\n",
        "        )\n",
        "\n",
        "        print(\"  training loss: %.2f\" % score_train[0])\n",
        "        print(\"  training accuracy: %.2f\" % score_train[1])\n",
        "\n",
        "        print(\"  validation loss: %.2f\" % score_valid[0])\n",
        "        print(\"  validation accuracy: %.2f\" % score_valid[1])\n",
        "\n",
        "        print(\"  test loss: %.2f\" % score_test[0])\n",
        "        print(\"  test accuracy: %.2f\" % score_test[1])\n",
        "        \n",
        "        Y_pred = model.predict(x_test)\n",
        "        Y_pred = np.where(Y_pred > 0.5, 1,0)#np.argmax(Y_pred,axis=1)\n",
        "        print(classification_report(y_test, Y_pred))   \n",
        "\n",
        "        if dpsgd:\n",
        "            print(\"For delta=0.00413223, the current epsilon is: %.2f\" % eps)\n",
        "        else:\n",
        "            print(\"Trained with vanilla non-private SGD optimizer\")\n",
        "\n",
        "    return ((score_train, score_valid, score_test, eps, weights, Y_pred),model)"
      ]
    },
    {
      "cell_type": "code",
      "execution_count": 158,
      "metadata": {
        "tags": [],
        "id": "dwjr_Fk98foE"
      },
      "outputs": [],
      "source": [
        "def compute_epsilon(steps, training_size, noise_multiplier, batch_size):\n",
        "    \"\"\"\n",
        "    Computes epsilon value for given hyperparameters.\n",
        "\n",
        "    Parameters required:\n",
        "      steps: Number of steps the optimizer takes over the training data\n",
        "             steps = FLAGS.epochs * training_size// FLAGS.batch_size\n",
        "\n",
        "      Noise multiplier:\n",
        "          the amount of noise sampled and added to gradients during training\n",
        "    \"\"\"\n",
        "    if noise_multiplier == 0.0:\n",
        "        return float(\"inf\")\n",
        "\n",
        "    \"\"\" \n",
        "  Delta: for (epsilon, delta)-DP\n",
        "    Delta bounds the probability of our privacy guarantee not holding.  \n",
        "    rule of thumb for delta is to set it to less than the inverse of the training data size\n",
        "    so I opted for it to equal to 1.1*training size\n",
        "  \"\"\"\n",
        "    training_delta = 1 / (training_size * 1.1)\n",
        "\n",
        "    \"\"\"\n",
        "  We need to define a list of orders, at which the Rényi divergence will be computed\n",
        "  if you want epsilon between 1-10 and your delta is fixed\n",
        "  your orders must cover the range between 1+ln(1/delta)/10 and 1+ln(1/delta)/1 \n",
        "  \"\"\"\n",
        "    orders = np.linspace(\n",
        "        1 + math.log(1.0 / training_delta) / 10,\n",
        "        1 + math.log(1.0 / training_delta) / 1,\n",
        "        num=100,\n",
        "    )\n",
        "\n",
        "    \"\"\" \n",
        "  Sampling ratio q:\n",
        "    the probability of an individual training point being included in a minibatch\n",
        "    sampling_probability = FLAGS.batch_size / training_size\n",
        "  \"\"\"\n",
        "    sampling_probability = batch_size / training_size\n",
        "\n",
        "    \"\"\" \n",
        "  compute Renyi Differential Privacy, a generalization of pure differential privacy\n",
        "  RDP is well suited to analyze DP guarantees provided by sampling followed by Gaussian noise addition, \n",
        "  which is how gradients are randomized in the TFP implementation of the DP-SGD optimizer.\n",
        "  \"\"\"\n",
        "    rdp = compute_rdp(\n",
        "        q=sampling_probability,\n",
        "        noise_multiplier=noise_multiplier,\n",
        "        steps=steps,\n",
        "        orders=orders,\n",
        "    )\n",
        "\n",
        "    return get_privacy_spent(orders, rdp, target_delta=training_delta)[0]"
      ]
    },
    {
      "cell_type": "markdown",
      "metadata": {
        "id": "xkwNqOYm8foF"
      },
      "source": [
        "## Train model"
      ]
    },
    {
      "cell_type": "code",
      "execution_count": null,
      "metadata": {
        "tags": [],
        "id": "15FiCrGG8foG",
        "colab": {
          "base_uri": "https://localhost:8080/",
          "height": 1000
        },
        "outputId": "9b2ad1ad-f72f-4e97-ab4c-48a14a1a30ff"
      },
      "outputs": [
        {
          "output_type": "stream",
          "name": "stdout",
          "text": [
            "Model: \"sequential_40\"\n",
            "_________________________________________________________________\n",
            " Layer (type)                Output Shape              Param #   \n",
            "=================================================================\n",
            " dense_160 (Dense)           (None, 40)                2360      \n",
            "                                                                 \n",
            " dense_161 (Dense)           (None, 60)                2460      \n",
            "                                                                 \n",
            " dense_162 (Dense)           (None, 20)                1220      \n",
            "                                                                 \n",
            " dense_163 (Dense)           (None, 1)                 21        \n",
            "                                                                 \n",
            "=================================================================\n",
            "Total params: 6,061\n",
            "Trainable params: 6,061\n",
            "Non-trainable params: 0\n",
            "_________________________________________________________________\n"
          ]
        },
        {
          "output_type": "display_data",
          "data": {
            "text/plain": [
              "None"
            ]
          },
          "metadata": {}
        },
        {
          "output_type": "stream",
          "name": "stdout",
          "text": [
            "Epoch 1/200\n",
            "12/12 [==============================] - 1s 21ms/step - loss: 0.6655 - accuracy: 0.3452 - val_loss: 0.6532 - val_accuracy: 0.2812\n",
            "Epoch 2/200\n",
            "12/12 [==============================] - 0s 8ms/step - loss: 0.6473 - accuracy: 0.4365 - val_loss: 0.6417 - val_accuracy: 0.3750\n",
            "Epoch 3/200\n",
            "12/12 [==============================] - 0s 10ms/step - loss: 0.6392 - accuracy: 0.4683 - val_loss: 0.6349 - val_accuracy: 0.4219\n",
            "Epoch 4/200\n",
            "12/12 [==============================] - 0s 8ms/step - loss: 0.6342 - accuracy: 0.5079 - val_loss: 0.6299 - val_accuracy: 0.5625\n",
            "Epoch 5/200\n",
            "12/12 [==============================] - 0s 8ms/step - loss: 0.6297 - accuracy: 0.5516 - val_loss: 0.6258 - val_accuracy: 0.5938\n",
            "Epoch 6/200\n",
            "12/12 [==============================] - 0s 8ms/step - loss: 0.6262 - accuracy: 0.6151 - val_loss: 0.6242 - val_accuracy: 0.6250\n",
            "Epoch 7/200\n",
            "12/12 [==============================] - 0s 8ms/step - loss: 0.6236 - accuracy: 0.6627 - val_loss: 0.6227 - val_accuracy: 0.6562\n",
            "Epoch 8/200\n",
            "12/12 [==============================] - 0s 8ms/step - loss: 0.6216 - accuracy: 0.6508 - val_loss: 0.6206 - val_accuracy: 0.6562\n",
            "Epoch 9/200\n",
            "12/12 [==============================] - 0s 8ms/step - loss: 0.6200 - accuracy: 0.6825 - val_loss: 0.6201 - val_accuracy: 0.6562\n",
            "Epoch 10/200\n",
            "12/12 [==============================] - 0s 10ms/step - loss: 0.6175 - accuracy: 0.6786 - val_loss: 0.6188 - val_accuracy: 0.6562\n",
            "Epoch 11/200\n",
            "12/12 [==============================] - 0s 8ms/step - loss: 0.6159 - accuracy: 0.6746 - val_loss: 0.6176 - val_accuracy: 0.6719\n",
            "Epoch 12/200\n",
            "12/12 [==============================] - 0s 8ms/step - loss: 0.6137 - accuracy: 0.6865 - val_loss: 0.6172 - val_accuracy: 0.6719\n",
            "Epoch 13/200\n",
            "12/12 [==============================] - 0s 10ms/step - loss: 0.6113 - accuracy: 0.6905 - val_loss: 0.6165 - val_accuracy: 0.6719\n",
            "Epoch 14/200\n",
            "12/12 [==============================] - 0s 8ms/step - loss: 0.6093 - accuracy: 0.6984 - val_loss: 0.6162 - val_accuracy: 0.6719\n",
            "Epoch 15/200\n",
            "12/12 [==============================] - 0s 8ms/step - loss: 0.6076 - accuracy: 0.6984 - val_loss: 0.6155 - val_accuracy: 0.6719\n",
            "Epoch 16/200\n",
            "12/12 [==============================] - 0s 8ms/step - loss: 0.6053 - accuracy: 0.7024 - val_loss: 0.6151 - val_accuracy: 0.6719\n",
            "Epoch 17/200\n",
            "12/12 [==============================] - 0s 9ms/step - loss: 0.6030 - accuracy: 0.7143 - val_loss: 0.6153 - val_accuracy: 0.6719\n",
            "Epoch 18/200\n",
            "12/12 [==============================] - 0s 8ms/step - loss: 0.6011 - accuracy: 0.6984 - val_loss: 0.6143 - val_accuracy: 0.6719\n",
            "Epoch 19/200\n",
            "12/12 [==============================] - 0s 8ms/step - loss: 0.5997 - accuracy: 0.7024 - val_loss: 0.6146 - val_accuracy: 0.6719\n",
            "Epoch 20/200\n",
            "12/12 [==============================] - 0s 8ms/step - loss: 0.5972 - accuracy: 0.7063 - val_loss: 0.6151 - val_accuracy: 0.7031\n",
            "Epoch 21/200\n",
            "12/12 [==============================] - 0s 8ms/step - loss: 0.5959 - accuracy: 0.6905 - val_loss: 0.6143 - val_accuracy: 0.7031\n",
            "Epoch 22/200\n",
            "12/12 [==============================] - 0s 8ms/step - loss: 0.5930 - accuracy: 0.6865 - val_loss: 0.6132 - val_accuracy: 0.7031\n",
            "Epoch 23/200\n",
            "12/12 [==============================] - 0s 10ms/step - loss: 0.5911 - accuracy: 0.6984 - val_loss: 0.6118 - val_accuracy: 0.7031\n",
            "Epoch 24/200\n",
            "12/12 [==============================] - 0s 8ms/step - loss: 0.5887 - accuracy: 0.6865 - val_loss: 0.6103 - val_accuracy: 0.6875\n",
            "Epoch 25/200\n",
            "12/12 [==============================] - 0s 8ms/step - loss: 0.5877 - accuracy: 0.6944 - val_loss: 0.6096 - val_accuracy: 0.7031\n",
            "Epoch 26/200\n",
            "12/12 [==============================] - 0s 10ms/step - loss: 0.5850 - accuracy: 0.7024 - val_loss: 0.6089 - val_accuracy: 0.7031\n",
            "Epoch 27/200\n",
            "12/12 [==============================] - 0s 8ms/step - loss: 0.5834 - accuracy: 0.6944 - val_loss: 0.6081 - val_accuracy: 0.7031\n",
            "Epoch 28/200\n",
            "12/12 [==============================] - 0s 8ms/step - loss: 0.5817 - accuracy: 0.7024 - val_loss: 0.6069 - val_accuracy: 0.7031\n",
            "Epoch 29/200\n",
            "12/12 [==============================] - 0s 8ms/step - loss: 0.5797 - accuracy: 0.6944 - val_loss: 0.6062 - val_accuracy: 0.7031\n",
            "Epoch 30/200\n",
            "12/12 [==============================] - 0s 8ms/step - loss: 0.5777 - accuracy: 0.7063 - val_loss: 0.6054 - val_accuracy: 0.7031\n",
            "Epoch 31/200\n",
            "12/12 [==============================] - 0s 8ms/step - loss: 0.5748 - accuracy: 0.6905 - val_loss: 0.6051 - val_accuracy: 0.7188\n",
            "Epoch 32/200\n",
            "12/12 [==============================] - 0s 8ms/step - loss: 0.5729 - accuracy: 0.6984 - val_loss: 0.6059 - val_accuracy: 0.6875\n",
            "Epoch 33/200\n",
            "12/12 [==============================] - 0s 10ms/step - loss: 0.5711 - accuracy: 0.6905 - val_loss: 0.6034 - val_accuracy: 0.7188\n",
            "Epoch 34/200\n",
            "12/12 [==============================] - 0s 8ms/step - loss: 0.5680 - accuracy: 0.6944 - val_loss: 0.6020 - val_accuracy: 0.7188\n",
            "Epoch 35/200\n",
            "12/12 [==============================] - 0s 8ms/step - loss: 0.5665 - accuracy: 0.7024 - val_loss: 0.6007 - val_accuracy: 0.7188\n",
            "Epoch 36/200\n",
            "12/12 [==============================] - 0s 8ms/step - loss: 0.5634 - accuracy: 0.6905 - val_loss: 0.6010 - val_accuracy: 0.7031\n",
            "Epoch 37/200\n",
            "12/12 [==============================] - 0s 9ms/step - loss: 0.5617 - accuracy: 0.6984 - val_loss: 0.6007 - val_accuracy: 0.7031\n",
            "Epoch 38/200\n",
            "12/12 [==============================] - 0s 9ms/step - loss: 0.5593 - accuracy: 0.7183 - val_loss: 0.5973 - val_accuracy: 0.7031\n",
            "Epoch 39/200\n",
            "12/12 [==============================] - 0s 8ms/step - loss: 0.5566 - accuracy: 0.7063 - val_loss: 0.5950 - val_accuracy: 0.7344\n",
            "Epoch 40/200\n",
            "12/12 [==============================] - 0s 9ms/step - loss: 0.5543 - accuracy: 0.7143 - val_loss: 0.5936 - val_accuracy: 0.7500\n",
            "Epoch 41/200\n",
            "12/12 [==============================] - 0s 8ms/step - loss: 0.5519 - accuracy: 0.7103 - val_loss: 0.5925 - val_accuracy: 0.7188\n",
            "Epoch 42/200\n",
            "12/12 [==============================] - 0s 8ms/step - loss: 0.5487 - accuracy: 0.7183 - val_loss: 0.5906 - val_accuracy: 0.7188\n",
            "Epoch 43/200\n",
            "12/12 [==============================] - 0s 11ms/step - loss: 0.5466 - accuracy: 0.7183 - val_loss: 0.5901 - val_accuracy: 0.7031\n",
            "Epoch 44/200\n",
            "12/12 [==============================] - 0s 8ms/step - loss: 0.5439 - accuracy: 0.7183 - val_loss: 0.5883 - val_accuracy: 0.7031\n",
            "Epoch 45/200\n",
            "12/12 [==============================] - 0s 8ms/step - loss: 0.5410 - accuracy: 0.7222 - val_loss: 0.5863 - val_accuracy: 0.7188\n",
            "Epoch 46/200\n",
            "12/12 [==============================] - 0s 8ms/step - loss: 0.5388 - accuracy: 0.7183 - val_loss: 0.5859 - val_accuracy: 0.7031\n",
            "Epoch 47/200\n",
            "12/12 [==============================] - 0s 8ms/step - loss: 0.5356 - accuracy: 0.7302 - val_loss: 0.5846 - val_accuracy: 0.7031\n",
            "Epoch 48/200\n",
            "12/12 [==============================] - 0s 9ms/step - loss: 0.5330 - accuracy: 0.7222 - val_loss: 0.5835 - val_accuracy: 0.7031\n",
            "Epoch 49/200\n",
            "12/12 [==============================] - 0s 8ms/step - loss: 0.5291 - accuracy: 0.7341 - val_loss: 0.5809 - val_accuracy: 0.7031\n",
            "Epoch 50/200\n",
            "12/12 [==============================] - 0s 8ms/step - loss: 0.5265 - accuracy: 0.7302 - val_loss: 0.5808 - val_accuracy: 0.7031\n",
            "Epoch 51/200\n",
            "12/12 [==============================] - 0s 8ms/step - loss: 0.5227 - accuracy: 0.7341 - val_loss: 0.5817 - val_accuracy: 0.7031\n",
            "Epoch 52/200\n",
            "12/12 [==============================] - 0s 8ms/step - loss: 0.5203 - accuracy: 0.7421 - val_loss: 0.5796 - val_accuracy: 0.6875\n",
            "Epoch 53/200\n",
            "12/12 [==============================] - 0s 9ms/step - loss: 0.5162 - accuracy: 0.7460 - val_loss: 0.5764 - val_accuracy: 0.7031\n",
            "Epoch 54/200\n",
            "12/12 [==============================] - 0s 8ms/step - loss: 0.5132 - accuracy: 0.7381 - val_loss: 0.5736 - val_accuracy: 0.7031\n",
            "Epoch 55/200\n",
            "12/12 [==============================] - 0s 8ms/step - loss: 0.5100 - accuracy: 0.7540 - val_loss: 0.5730 - val_accuracy: 0.7031\n",
            "Epoch 56/200\n",
            "12/12 [==============================] - 0s 9ms/step - loss: 0.5071 - accuracy: 0.7460 - val_loss: 0.5733 - val_accuracy: 0.6719\n",
            "Epoch 57/200\n",
            "12/12 [==============================] - 0s 8ms/step - loss: 0.5026 - accuracy: 0.7540 - val_loss: 0.5684 - val_accuracy: 0.7031\n",
            "Epoch 58/200\n",
            "12/12 [==============================] - 0s 8ms/step - loss: 0.4981 - accuracy: 0.7500 - val_loss: 0.5669 - val_accuracy: 0.7031\n",
            "Epoch 59/200\n",
            "12/12 [==============================] - 0s 9ms/step - loss: 0.4936 - accuracy: 0.7579 - val_loss: 0.5699 - val_accuracy: 0.6875\n",
            "Epoch 60/200\n",
            "12/12 [==============================] - 0s 10ms/step - loss: 0.4910 - accuracy: 0.7778 - val_loss: 0.5650 - val_accuracy: 0.6875\n",
            "Epoch 61/200\n",
            "12/12 [==============================] - 0s 9ms/step - loss: 0.4872 - accuracy: 0.7698 - val_loss: 0.5637 - val_accuracy: 0.6719\n",
            "Epoch 62/200\n",
            "12/12 [==============================] - 0s 10ms/step - loss: 0.4826 - accuracy: 0.7778 - val_loss: 0.5615 - val_accuracy: 0.6875\n",
            "Epoch 63/200\n",
            "12/12 [==============================] - 0s 8ms/step - loss: 0.4780 - accuracy: 0.7659 - val_loss: 0.5577 - val_accuracy: 0.7031\n",
            "Epoch 64/200\n",
            "12/12 [==============================] - 0s 8ms/step - loss: 0.4734 - accuracy: 0.7698 - val_loss: 0.5567 - val_accuracy: 0.6875\n",
            "Epoch 65/200\n",
            "12/12 [==============================] - 0s 8ms/step - loss: 0.4693 - accuracy: 0.7778 - val_loss: 0.5550 - val_accuracy: 0.6875\n",
            "Epoch 66/200\n",
            "12/12 [==============================] - 0s 10ms/step - loss: 0.4659 - accuracy: 0.7937 - val_loss: 0.5513 - val_accuracy: 0.7031\n",
            "Epoch 67/200\n",
            "12/12 [==============================] - 0s 8ms/step - loss: 0.4619 - accuracy: 0.7857 - val_loss: 0.5505 - val_accuracy: 0.6875\n",
            "Epoch 68/200\n",
            "12/12 [==============================] - 0s 10ms/step - loss: 0.4565 - accuracy: 0.7897 - val_loss: 0.5486 - val_accuracy: 0.7031\n",
            "Epoch 69/200\n",
            "12/12 [==============================] - 0s 8ms/step - loss: 0.4511 - accuracy: 0.7897 - val_loss: 0.5457 - val_accuracy: 0.7031\n",
            "Epoch 70/200\n",
            "12/12 [==============================] - 0s 8ms/step - loss: 0.4480 - accuracy: 0.7897 - val_loss: 0.5445 - val_accuracy: 0.7031\n",
            "Epoch 71/200\n",
            "12/12 [==============================] - 0s 8ms/step - loss: 0.4448 - accuracy: 0.8056 - val_loss: 0.5414 - val_accuracy: 0.7031\n",
            "Epoch 72/200\n",
            "12/12 [==============================] - 0s 9ms/step - loss: 0.4377 - accuracy: 0.8135 - val_loss: 0.5411 - val_accuracy: 0.7031\n",
            "Epoch 73/200\n",
            "12/12 [==============================] - 0s 9ms/step - loss: 0.4343 - accuracy: 0.8175 - val_loss: 0.5378 - val_accuracy: 0.7031\n",
            "Epoch 74/200\n",
            "12/12 [==============================] - 0s 8ms/step - loss: 0.4288 - accuracy: 0.8175 - val_loss: 0.5359 - val_accuracy: 0.7031\n",
            "Epoch 75/200\n",
            "12/12 [==============================] - 0s 8ms/step - loss: 0.4274 - accuracy: 0.8214 - val_loss: 0.5338 - val_accuracy: 0.7031\n",
            "Epoch 76/200\n",
            "12/12 [==============================] - 0s 9ms/step - loss: 0.4178 - accuracy: 0.8333 - val_loss: 0.5355 - val_accuracy: 0.7031\n",
            "Epoch 77/200\n",
            "12/12 [==============================] - 0s 8ms/step - loss: 0.4142 - accuracy: 0.8333 - val_loss: 0.5310 - val_accuracy: 0.7188\n",
            "Epoch 78/200\n",
            "12/12 [==============================] - 0s 9ms/step - loss: 0.4066 - accuracy: 0.8413 - val_loss: 0.5384 - val_accuracy: 0.7500\n",
            "Epoch 79/200\n",
            "12/12 [==============================] - 0s 8ms/step - loss: 0.4029 - accuracy: 0.8373 - val_loss: 0.5276 - val_accuracy: 0.7188\n",
            "Epoch 80/200\n",
            "12/12 [==============================] - 0s 9ms/step - loss: 0.3974 - accuracy: 0.8413 - val_loss: 0.5259 - val_accuracy: 0.7188\n",
            "Epoch 81/200\n",
            "12/12 [==============================] - 0s 9ms/step - loss: 0.3943 - accuracy: 0.8452 - val_loss: 0.5238 - val_accuracy: 0.7188\n",
            "Epoch 82/200\n",
            "12/12 [==============================] - 0s 10ms/step - loss: 0.3866 - accuracy: 0.8373 - val_loss: 0.5222 - val_accuracy: 0.7188\n",
            "Epoch 83/200\n",
            "12/12 [==============================] - 0s 8ms/step - loss: 0.3817 - accuracy: 0.8571 - val_loss: 0.5257 - val_accuracy: 0.7500\n",
            "Epoch 84/200\n",
            "12/12 [==============================] - 0s 8ms/step - loss: 0.3770 - accuracy: 0.8571 - val_loss: 0.5210 - val_accuracy: 0.7188\n",
            "Epoch 85/200\n",
            "12/12 [==============================] - 0s 8ms/step - loss: 0.3731 - accuracy: 0.8532 - val_loss: 0.5196 - val_accuracy: 0.7188\n",
            "Epoch 86/200\n",
            "12/12 [==============================] - 0s 8ms/step - loss: 0.3670 - accuracy: 0.8532 - val_loss: 0.5262 - val_accuracy: 0.7656\n",
            "Epoch 87/200\n",
            "12/12 [==============================] - 0s 8ms/step - loss: 0.3626 - accuracy: 0.8611 - val_loss: 0.5165 - val_accuracy: 0.7188\n",
            "Epoch 88/200\n",
            "12/12 [==============================] - 0s 8ms/step - loss: 0.3587 - accuracy: 0.8532 - val_loss: 0.5150 - val_accuracy: 0.7344\n",
            "Epoch 89/200\n",
            "12/12 [==============================] - 0s 9ms/step - loss: 0.3521 - accuracy: 0.8730 - val_loss: 0.5136 - val_accuracy: 0.7344\n",
            "Epoch 90/200\n",
            "12/12 [==============================] - 0s 9ms/step - loss: 0.3482 - accuracy: 0.8571 - val_loss: 0.5133 - val_accuracy: 0.7500\n",
            "Epoch 91/200\n",
            "12/12 [==============================] - 0s 8ms/step - loss: 0.3404 - accuracy: 0.8611 - val_loss: 0.5108 - val_accuracy: 0.7344\n",
            "Epoch 92/200\n",
            "12/12 [==============================] - 0s 9ms/step - loss: 0.3372 - accuracy: 0.8532 - val_loss: 0.5101 - val_accuracy: 0.7656\n",
            "Epoch 93/200\n",
            "12/12 [==============================] - 0s 8ms/step - loss: 0.3324 - accuracy: 0.8730 - val_loss: 0.5090 - val_accuracy: 0.7344\n",
            "Epoch 94/200\n",
            "12/12 [==============================] - 0s 8ms/step - loss: 0.3288 - accuracy: 0.8730 - val_loss: 0.5059 - val_accuracy: 0.7500\n",
            "Epoch 95/200\n",
            "12/12 [==============================] - 0s 8ms/step - loss: 0.3245 - accuracy: 0.8730 - val_loss: 0.5076 - val_accuracy: 0.7344\n",
            "Epoch 96/200\n",
            "12/12 [==============================] - 0s 8ms/step - loss: 0.3181 - accuracy: 0.8770 - val_loss: 0.5033 - val_accuracy: 0.7656\n",
            "Epoch 97/200\n",
            "12/12 [==============================] - 0s 9ms/step - loss: 0.3125 - accuracy: 0.8889 - val_loss: 0.5057 - val_accuracy: 0.7500\n",
            "Epoch 98/200\n",
            "12/12 [==============================] - 0s 8ms/step - loss: 0.3122 - accuracy: 0.8730 - val_loss: 0.5014 - val_accuracy: 0.7500\n",
            "Epoch 99/200\n",
            "12/12 [==============================] - 0s 8ms/step - loss: 0.3071 - accuracy: 0.8849 - val_loss: 0.5011 - val_accuracy: 0.7500\n",
            "Epoch 100/200\n",
            "12/12 [==============================] - 0s 8ms/step - loss: 0.2997 - accuracy: 0.8849 - val_loss: 0.5030 - val_accuracy: 0.7188\n",
            "Epoch 101/200\n",
            "12/12 [==============================] - 0s 8ms/step - loss: 0.2944 - accuracy: 0.8849 - val_loss: 0.5009 - val_accuracy: 0.7500\n",
            "Epoch 102/200\n",
            "12/12 [==============================] - 0s 8ms/step - loss: 0.2900 - accuracy: 0.9008 - val_loss: 0.5047 - val_accuracy: 0.7656\n",
            "Epoch 103/200\n",
            "12/12 [==============================] - 0s 8ms/step - loss: 0.2863 - accuracy: 0.8849 - val_loss: 0.4994 - val_accuracy: 0.7344\n",
            "Epoch 104/200\n",
            "12/12 [==============================] - 0s 8ms/step - loss: 0.2802 - accuracy: 0.9048 - val_loss: 0.5087 - val_accuracy: 0.7656\n",
            "Epoch 105/200\n",
            "12/12 [==============================] - 0s 8ms/step - loss: 0.2784 - accuracy: 0.8968 - val_loss: 0.5074 - val_accuracy: 0.7656\n",
            "Epoch 106/200\n",
            "12/12 [==============================] - 0s 8ms/step - loss: 0.2707 - accuracy: 0.8889 - val_loss: 0.5032 - val_accuracy: 0.7031\n",
            "Epoch 107/200\n",
            "12/12 [==============================] - 0s 8ms/step - loss: 0.2742 - accuracy: 0.8968 - val_loss: 0.5072 - val_accuracy: 0.7500\n",
            "Epoch 108/200\n",
            "12/12 [==============================] - 0s 9ms/step - loss: 0.2749 - accuracy: 0.8968 - val_loss: 0.5011 - val_accuracy: 0.7344\n",
            "Epoch 109/200\n",
            "12/12 [==============================] - 0s 8ms/step - loss: 0.2633 - accuracy: 0.9008 - val_loss: 0.4981 - val_accuracy: 0.7500\n",
            "Epoch 110/200\n",
            "12/12 [==============================] - 0s 9ms/step - loss: 0.2557 - accuracy: 0.9048 - val_loss: 0.4987 - val_accuracy: 0.7344\n",
            "Epoch 111/200\n",
            "12/12 [==============================] - 0s 9ms/step - loss: 0.2532 - accuracy: 0.9167 - val_loss: 0.4992 - val_accuracy: 0.7344\n",
            "Epoch 112/200\n",
            "12/12 [==============================] - 0s 8ms/step - loss: 0.2512 - accuracy: 0.9127 - val_loss: 0.5119 - val_accuracy: 0.7812\n",
            "Epoch 113/200\n",
            "12/12 [==============================] - 0s 8ms/step - loss: 0.2450 - accuracy: 0.9246 - val_loss: 0.5024 - val_accuracy: 0.7500\n",
            "Epoch 114/200\n",
            "12/12 [==============================] - 0s 10ms/step - loss: 0.2425 - accuracy: 0.9167 - val_loss: 0.5005 - val_accuracy: 0.7344\n",
            "Epoch 115/200\n",
            "12/12 [==============================] - 0s 8ms/step - loss: 0.2406 - accuracy: 0.9087 - val_loss: 0.5011 - val_accuracy: 0.7344\n",
            "Epoch 116/200\n",
            "12/12 [==============================] - 0s 8ms/step - loss: 0.2317 - accuracy: 0.9246 - val_loss: 0.5378 - val_accuracy: 0.7344\n",
            "Epoch 117/200\n",
            "12/12 [==============================] - 0s 8ms/step - loss: 0.2305 - accuracy: 0.9087 - val_loss: 0.5021 - val_accuracy: 0.7500\n",
            "Epoch 118/200\n",
            "12/12 [==============================] - 0s 10ms/step - loss: 0.2299 - accuracy: 0.9246 - val_loss: 0.5118 - val_accuracy: 0.7812\n",
            "Epoch 119/200\n",
            "12/12 [==============================] - 0s 8ms/step - loss: 0.2246 - accuracy: 0.9127 - val_loss: 0.4999 - val_accuracy: 0.7344\n",
            "Epoch 120/200\n",
            "12/12 [==============================] - 0s 8ms/step - loss: 0.2177 - accuracy: 0.9286 - val_loss: 0.5288 - val_accuracy: 0.7812\n",
            "Epoch 121/200\n",
            "12/12 [==============================] - 0s 9ms/step - loss: 0.2171 - accuracy: 0.9167 - val_loss: 0.4982 - val_accuracy: 0.7500\n",
            "Epoch 122/200\n",
            "12/12 [==============================] - 0s 8ms/step - loss: 0.2172 - accuracy: 0.9325 - val_loss: 0.5030 - val_accuracy: 0.7500\n",
            "Epoch 123/200\n",
            "12/12 [==============================] - 0s 9ms/step - loss: 0.2122 - accuracy: 0.9286 - val_loss: 0.5120 - val_accuracy: 0.7812\n",
            "Epoch 124/200\n",
            "12/12 [==============================] - 0s 8ms/step - loss: 0.2086 - accuracy: 0.9325 - val_loss: 0.5024 - val_accuracy: 0.7812\n",
            "Epoch 125/200\n",
            "12/12 [==============================] - 0s 8ms/step - loss: 0.2012 - accuracy: 0.9365 - val_loss: 0.5052 - val_accuracy: 0.7812\n",
            "Epoch 126/200\n",
            "12/12 [==============================] - 0s 9ms/step - loss: 0.1961 - accuracy: 0.9325 - val_loss: 0.5000 - val_accuracy: 0.7656\n",
            "Epoch 127/200\n",
            "12/12 [==============================] - 0s 8ms/step - loss: 0.1982 - accuracy: 0.9484 - val_loss: 0.5066 - val_accuracy: 0.7812\n",
            "Epoch 128/200\n",
            "12/12 [==============================] - 0s 8ms/step - loss: 0.1932 - accuracy: 0.9405 - val_loss: 0.5007 - val_accuracy: 0.7812\n",
            "Epoch 129/200\n",
            "12/12 [==============================] - 0s 8ms/step - loss: 0.1951 - accuracy: 0.9365 - val_loss: 0.4972 - val_accuracy: 0.7812\n",
            "Epoch 130/200\n",
            "12/12 [==============================] - 0s 10ms/step - loss: 0.1868 - accuracy: 0.9484 - val_loss: 0.5242 - val_accuracy: 0.7812\n",
            "Epoch 131/200\n",
            "12/12 [==============================] - 0s 10ms/step - loss: 0.1881 - accuracy: 0.9206 - val_loss: 0.4998 - val_accuracy: 0.7812\n",
            "Epoch 132/200\n",
            "12/12 [==============================] - 0s 9ms/step - loss: 0.1820 - accuracy: 0.9365 - val_loss: 0.4956 - val_accuracy: 0.7812\n",
            "Epoch 133/200\n",
            "12/12 [==============================] - 0s 8ms/step - loss: 0.1782 - accuracy: 0.9405 - val_loss: 0.5017 - val_accuracy: 0.7656\n",
            "Epoch 134/200\n",
            "12/12 [==============================] - 0s 9ms/step - loss: 0.1775 - accuracy: 0.9444 - val_loss: 0.5252 - val_accuracy: 0.7812\n",
            "Epoch 135/200\n",
            "12/12 [==============================] - 0s 8ms/step - loss: 0.1782 - accuracy: 0.9444 - val_loss: 0.5010 - val_accuracy: 0.7812\n",
            "Epoch 136/200\n",
            "12/12 [==============================] - 0s 8ms/step - loss: 0.1713 - accuracy: 0.9484 - val_loss: 0.5054 - val_accuracy: 0.7656\n",
            "Epoch 137/200\n",
            "12/12 [==============================] - 0s 8ms/step - loss: 0.1788 - accuracy: 0.9484 - val_loss: 0.5079 - val_accuracy: 0.7812\n",
            "Epoch 138/200\n",
            "12/12 [==============================] - 0s 8ms/step - loss: 0.1651 - accuracy: 0.9405 - val_loss: 0.4966 - val_accuracy: 0.7969\n",
            "Epoch 139/200\n",
            "12/12 [==============================] - 0s 8ms/step - loss: 0.1651 - accuracy: 0.9484 - val_loss: 0.5067 - val_accuracy: 0.7812\n",
            "Epoch 140/200\n",
            "12/12 [==============================] - 0s 8ms/step - loss: 0.1605 - accuracy: 0.9524 - val_loss: 0.4969 - val_accuracy: 0.7969\n",
            "Epoch 141/200\n",
            "12/12 [==============================] - 0s 10ms/step - loss: 0.1615 - accuracy: 0.9444 - val_loss: 0.4950 - val_accuracy: 0.7969\n",
            "Epoch 142/200\n",
            "12/12 [==============================] - 0s 8ms/step - loss: 0.1558 - accuracy: 0.9603 - val_loss: 0.5032 - val_accuracy: 0.7812\n",
            "Epoch 143/200\n",
            "12/12 [==============================] - 0s 8ms/step - loss: 0.1642 - accuracy: 0.9325 - val_loss: 0.5587 - val_accuracy: 0.7656\n",
            "Epoch 144/200\n",
            "12/12 [==============================] - 0s 8ms/step - loss: 0.1564 - accuracy: 0.9325 - val_loss: 0.5081 - val_accuracy: 0.7812\n",
            "Epoch 145/200\n",
            "12/12 [==============================] - 0s 9ms/step - loss: 0.1467 - accuracy: 0.9524 - val_loss: 0.5003 - val_accuracy: 0.7969\n",
            "Epoch 146/200\n",
            "12/12 [==============================] - 0s 8ms/step - loss: 0.1510 - accuracy: 0.9603 - val_loss: 0.5042 - val_accuracy: 0.7812\n",
            "Epoch 147/200\n",
            "12/12 [==============================] - 0s 8ms/step - loss: 0.1436 - accuracy: 0.9484 - val_loss: 0.5047 - val_accuracy: 0.7812\n",
            "Epoch 148/200\n",
            "12/12 [==============================] - 0s 8ms/step - loss: 0.1435 - accuracy: 0.9563 - val_loss: 0.5233 - val_accuracy: 0.7812\n",
            "Epoch 149/200\n",
            "12/12 [==============================] - 0s 8ms/step - loss: 0.1407 - accuracy: 0.9484 - val_loss: 0.5151 - val_accuracy: 0.7812\n",
            "Epoch 150/200\n",
            "12/12 [==============================] - 0s 9ms/step - loss: 0.1433 - accuracy: 0.9405 - val_loss: 0.4922 - val_accuracy: 0.8125\n",
            "Epoch 151/200\n",
            "12/12 [==============================] - 0s 8ms/step - loss: 0.1338 - accuracy: 0.9643 - val_loss: 0.4964 - val_accuracy: 0.7969\n",
            "Epoch 152/200\n",
            "12/12 [==============================] - 0s 8ms/step - loss: 0.1285 - accuracy: 0.9683 - val_loss: 0.5199 - val_accuracy: 0.7812\n",
            "Epoch 153/200\n",
            "12/12 [==============================] - 0s 8ms/step - loss: 0.1325 - accuracy: 0.9603 - val_loss: 0.4901 - val_accuracy: 0.8281\n",
            "Epoch 154/200\n",
            "12/12 [==============================] - 0s 8ms/step - loss: 0.1328 - accuracy: 0.9643 - val_loss: 0.5600 - val_accuracy: 0.7656\n",
            "Epoch 155/200\n",
            "12/12 [==============================] - 0s 8ms/step - loss: 0.1272 - accuracy: 0.9484 - val_loss: 0.5075 - val_accuracy: 0.7812\n",
            "Epoch 156/200\n",
            "12/12 [==============================] - 0s 10ms/step - loss: 0.1234 - accuracy: 0.9524 - val_loss: 0.5164 - val_accuracy: 0.7812\n",
            "Epoch 157/200\n",
            "12/12 [==============================] - 0s 8ms/step - loss: 0.1236 - accuracy: 0.9563 - val_loss: 0.4899 - val_accuracy: 0.8281\n",
            "Epoch 158/200\n",
            "12/12 [==============================] - 0s 9ms/step - loss: 0.1288 - accuracy: 0.9603 - val_loss: 0.4941 - val_accuracy: 0.7969\n",
            "Epoch 159/200\n",
            "12/12 [==============================] - 0s 10ms/step - loss: 0.1173 - accuracy: 0.9683 - val_loss: 0.5763 - val_accuracy: 0.7500\n",
            "Epoch 160/200\n",
            "12/12 [==============================] - 0s 9ms/step - loss: 0.1212 - accuracy: 0.9643 - val_loss: 0.4876 - val_accuracy: 0.8281\n",
            "Epoch 161/200\n",
            "12/12 [==============================] - 0s 8ms/step - loss: 0.1135 - accuracy: 0.9683 - val_loss: 0.4870 - val_accuracy: 0.8281\n",
            "Epoch 162/200\n",
            "12/12 [==============================] - 0s 8ms/step - loss: 0.1119 - accuracy: 0.9722 - val_loss: 0.5132 - val_accuracy: 0.7812\n",
            "Epoch 163/200\n",
            "12/12 [==============================] - 0s 9ms/step - loss: 0.1125 - accuracy: 0.9643 - val_loss: 0.4979 - val_accuracy: 0.7969\n",
            "Epoch 164/200\n",
            "12/12 [==============================] - 0s 8ms/step - loss: 0.1149 - accuracy: 0.9722 - val_loss: 0.4978 - val_accuracy: 0.7969\n",
            "Epoch 165/200\n",
            "12/12 [==============================] - 0s 8ms/step - loss: 0.1050 - accuracy: 0.9643 - val_loss: 0.5405 - val_accuracy: 0.7812\n",
            "Epoch 166/200\n",
            "12/12 [==============================] - 0s 8ms/step - loss: 0.1073 - accuracy: 0.9603 - val_loss: 0.4864 - val_accuracy: 0.8281\n",
            "Epoch 167/200\n",
            "12/12 [==============================] - 0s 8ms/step - loss: 0.1033 - accuracy: 0.9762 - val_loss: 0.4850 - val_accuracy: 0.8281\n",
            "Epoch 168/200\n",
            "12/12 [==============================] - 0s 8ms/step - loss: 0.1104 - accuracy: 0.9563 - val_loss: 0.5154 - val_accuracy: 0.7812\n",
            "Epoch 169/200\n",
            "12/12 [==============================] - 0s 9ms/step - loss: 0.1048 - accuracy: 0.9722 - val_loss: 0.5778 - val_accuracy: 0.7500\n",
            "Epoch 170/200\n",
            "12/12 [==============================] - 0s 10ms/step - loss: 0.1061 - accuracy: 0.9643 - val_loss: 0.5138 - val_accuracy: 0.7812\n",
            "Epoch 171/200\n",
            "12/12 [==============================] - 0s 8ms/step - loss: 0.0982 - accuracy: 0.9722 - val_loss: 0.5673 - val_accuracy: 0.7656\n",
            "Epoch 172/200\n",
            "12/12 [==============================] - 0s 8ms/step - loss: 0.0967 - accuracy: 0.9683 - val_loss: 0.5242 - val_accuracy: 0.7812\n",
            "Epoch 173/200\n",
            "12/12 [==============================] - 0s 9ms/step - loss: 0.0928 - accuracy: 0.9722 - val_loss: 0.4851 - val_accuracy: 0.8281\n",
            "Epoch 174/200\n",
            "12/12 [==============================] - 0s 8ms/step - loss: 0.0932 - accuracy: 0.9683 - val_loss: 0.4924 - val_accuracy: 0.8125\n",
            "Epoch 175/200\n",
            "12/12 [==============================] - 0s 8ms/step - loss: 0.0880 - accuracy: 0.9802 - val_loss: 0.4859 - val_accuracy: 0.8281\n",
            "Epoch 176/200\n",
            "12/12 [==============================] - 0s 8ms/step - loss: 0.0903 - accuracy: 0.9841 - val_loss: 0.5568 - val_accuracy: 0.7656\n",
            "Epoch 177/200\n",
            "12/12 [==============================] - 0s 9ms/step - loss: 0.0830 - accuracy: 0.9881 - val_loss: 0.4871 - val_accuracy: 0.8281\n",
            "Epoch 178/200\n",
            "12/12 [==============================] - 0s 8ms/step - loss: 0.0868 - accuracy: 0.9762 - val_loss: 0.4954 - val_accuracy: 0.8125\n",
            "Epoch 179/200\n",
            "12/12 [==============================] - 0s 8ms/step - loss: 0.0841 - accuracy: 0.9802 - val_loss: 0.4914 - val_accuracy: 0.8281\n",
            "Epoch 180/200\n",
            "12/12 [==============================] - 0s 8ms/step - loss: 0.0851 - accuracy: 0.9802 - val_loss: 0.4925 - val_accuracy: 0.8281\n",
            "Epoch 181/200\n",
            "12/12 [==============================] - 0s 8ms/step - loss: 0.0821 - accuracy: 0.9841 - val_loss: 0.5215 - val_accuracy: 0.7969\n",
            "Epoch 182/200\n",
            "12/12 [==============================] - 0s 10ms/step - loss: 0.0804 - accuracy: 0.9802 - val_loss: 0.5023 - val_accuracy: 0.8125\n",
            "Epoch 183/200\n",
            "12/12 [==============================] - 0s 8ms/step - loss: 0.0761 - accuracy: 0.9841 - val_loss: 0.5098 - val_accuracy: 0.7969\n",
            "Epoch 184/200\n",
            "12/12 [==============================] - 0s 8ms/step - loss: 0.0768 - accuracy: 0.9921 - val_loss: 0.5376 - val_accuracy: 0.7812\n",
            "Epoch 185/200\n",
            "12/12 [==============================] - 0s 10ms/step - loss: 0.0778 - accuracy: 0.9881 - val_loss: 0.5239 - val_accuracy: 0.7969\n",
            "Epoch 186/200\n",
            "12/12 [==============================] - 0s 9ms/step - loss: 0.0733 - accuracy: 0.9881 - val_loss: 0.5213 - val_accuracy: 0.7969\n",
            "Epoch 187/200\n",
            "12/12 [==============================] - 0s 9ms/step - loss: 0.0711 - accuracy: 0.9802 - val_loss: 0.5041 - val_accuracy: 0.8281\n",
            "Epoch 188/200\n",
            "12/12 [==============================] - 0s 8ms/step - loss: 0.0765 - accuracy: 0.9841 - val_loss: 0.5279 - val_accuracy: 0.7969\n",
            "Epoch 189/200\n",
            "12/12 [==============================] - 0s 10ms/step - loss: 0.0710 - accuracy: 0.9762 - val_loss: 0.5063 - val_accuracy: 0.8281\n",
            "Epoch 190/200\n",
            "12/12 [==============================] - 0s 9ms/step - loss: 0.0680 - accuracy: 0.9802 - val_loss: 0.5267 - val_accuracy: 0.7969\n",
            "Epoch 191/200\n",
            "12/12 [==============================] - 0s 8ms/step - loss: 0.0655 - accuracy: 0.9881 - val_loss: 0.5240 - val_accuracy: 0.7969\n",
            "Epoch 192/200\n",
            "12/12 [==============================] - 0s 8ms/step - loss: 0.0656 - accuracy: 0.9881 - val_loss: 0.5172 - val_accuracy: 0.8125\n",
            "Epoch 193/200\n",
            "12/12 [==============================] - 0s 8ms/step - loss: 0.0617 - accuracy: 0.9921 - val_loss: 0.5050 - val_accuracy: 0.8281\n",
            "Epoch 194/200\n",
            "12/12 [==============================] - 0s 9ms/step - loss: 0.0649 - accuracy: 0.9841 - val_loss: 0.5549 - val_accuracy: 0.7812\n",
            "Epoch 195/200\n",
            "12/12 [==============================] - 0s 8ms/step - loss: 0.0598 - accuracy: 0.9881 - val_loss: 0.5140 - val_accuracy: 0.8281\n",
            "Epoch 196/200\n",
            "12/12 [==============================] - 0s 8ms/step - loss: 0.0676 - accuracy: 0.9881 - val_loss: 0.5298 - val_accuracy: 0.7969\n",
            "Epoch 197/200\n",
            "12/12 [==============================] - 0s 10ms/step - loss: 0.0591 - accuracy: 0.9921 - val_loss: 0.5338 - val_accuracy: 0.7969\n",
            "Epoch 198/200\n",
            "12/12 [==============================] - 0s 10ms/step - loss: 0.0593 - accuracy: 0.9881 - val_loss: 0.5080 - val_accuracy: 0.8281\n",
            "Epoch 199/200\n",
            "12/12 [==============================] - 0s 8ms/step - loss: 0.0588 - accuracy: 1.0000 - val_loss: 0.5263 - val_accuracy: 0.8125\n",
            "Epoch 200/200\n",
            "12/12 [==============================] - 0s 8ms/step - loss: 0.0609 - accuracy: 0.9841 - val_loss: 0.5248 - val_accuracy: 0.8281\n",
            "8/8 [==============================] - 0s 3ms/step - loss: 0.0536 - accuracy: 1.0000\n",
            "2/2 [==============================] - 0s 8ms/step - loss: 0.5248 - accuracy: 0.8281\n",
            "3/3 [==============================] - 0s 5ms/step - loss: 0.3235 - accuracy: 0.8481\n",
            "\n",
            "hyperparamters: learning rate = 0.01, noise_multiplier = 0.01, l2_norm_clip = 1, epochs = 200, batch_size = 22, microbatches = 11\n",
            "  training loss: 0.05\n",
            "  training accuracy: 1.00\n",
            "  validation loss: 0.52\n",
            "  validation accuracy: 0.83\n",
            "  test loss: 0.32\n",
            "  test accuracy: 0.85\n"
          ]
        }
      ],
      "source": [
        "(training_outputs,model) = train(\n",
        "    noise_multiplier=noise_multiplier,\n",
        "    l2_norm_clip=1,\n",
        "    batch_size=22,\n",
        "    microbatches=11,\n",
        "    x_train=x_train,\n",
        "    y_train=y_train,\n",
        "    dpsgd=False,\n",
        "    learning_rate=0.01,\n",
        "    epochs=200,\n",
        "    model_dir=None,\n",
        "    print_outputs=True,\n",
        ")"
      ]
    },
    {
      "cell_type": "code",
      "execution_count": null,
      "metadata": {
        "tags": [],
        "id": "ncFf5oqW8foH"
      },
      "outputs": [],
      "source": [
        "# dpsgd model\n",
        "training_outputs = train(\n",
        "    noise_multiplier=noise_multiplier,\n",
        "    l2_norm_clip=1,\n",
        "    batch_size=22,\n",
        "    microbatches=1,\n",
        "    x_train=x_train,\n",
        "    y_train=y_train,\n",
        "    dpsgd=True,\n",
        "    learning_rate=0.01,\n",
        "    epochs=epochs,\n",
        "    #epochs=200,\n",
        "    model_dir=None,\n",
        "    print_outputs=True,\n",
        ")"
      ]
    },
    {
      "cell_type": "markdown",
      "metadata": {
        "id": "fMb3PMTD8foJ"
      },
      "source": [
        "![image.png](attachment:28f51ce6-7447-473d-81b0-524b19486a42.png)\n",
        "![image.png](attachment:d2ccc47d-6b01-4c9f-9356-b171ad155205.png)"
      ]
    },
    {
      "cell_type": "code",
      "source": [
        "x_train.shape, y_train.shape, x_test.shape, y_test.shape\n",
        "# since we have not specified an activation function on the last layer\n",
        "# calling the predict function returns the logits\n",
        "print('Predict on train...')\n",
        "logits_train = model.predict(x_train)\n",
        "print('Predict on test...')\n",
        "logits_test = model.predict(x_test)\n",
        "\n",
        "print('Apply softmax to get probabilities from logits...')\n",
        "prob_train = tf.nn.sigmoid(np.array(logits_train).flatten())\n",
        "prob_test = tf.nn.sigmoid(np.array(logits_test).flatten())\n",
        "\n",
        "print('Compute losses...')\n",
        "#cce = tf.keras.backend.categorical_crossentropy\n",
        "bce = tf.keras.backend.binary_crossentropy\n",
        "constant = tf.keras.backend.constant\n",
        "\n",
        "#y_train_onehot = tf.keras.utils.to_categorical(y_train)\n",
        "#y_test_onehot = tf.keras.utils.to_categorical(y_test)\n"
      ],
      "metadata": {
        "id": "lVefUep5v9Di"
      },
      "execution_count": null,
      "outputs": []
    },
    {
      "cell_type": "code",
      "source": [
        ""
      ],
      "metadata": {
        "id": "onUjLglZv9GC"
      },
      "execution_count": null,
      "outputs": []
    },
    {
      "cell_type": "code",
      "source": [
        ""
      ],
      "metadata": {
        "id": "iYAw71OoA7lU"
      },
      "execution_count": null,
      "outputs": []
    },
    {
      "cell_type": "code",
      "source": [
        "loss_train = bce(constant(y_train), constant(prob_train), from_logits=False).numpy()\n",
        "loss_test = bce(constant(y_test), constant(prob_test), from_logits=False).numpy()"
      ],
      "metadata": {
        "id": "hbaJL6Gcv9Ig"
      },
      "execution_count": null,
      "outputs": []
    },
    {
      "cell_type": "code",
      "source": [
        "y_train.shape,prob_train.shape"
      ],
      "metadata": {
        "id": "YPjzRfoDBvZe"
      },
      "execution_count": null,
      "outputs": []
    },
    {
      "cell_type": "code",
      "source": [
        "# define what variables our attacker should have access to\n",
        "attack_input = AttackInputData(\n",
        "  logits_train = logits_train,\n",
        "  logits_test = logits_test,\n",
        "  loss_train = loss_train,\n",
        "  loss_test = loss_test,\n",
        "  labels_train = y_train,\n",
        "  labels_test = y_test\n",
        ")"
      ],
      "metadata": {
        "id": "BZ9iKgpmB5cY"
      },
      "execution_count": null,
      "outputs": []
    },
    {
      "cell_type": "code",
      "source": [
        "# how should the data be sliced\n",
        "slicing_spec = SlicingSpec(\n",
        "    entire_dataset = True,\n",
        "    by_class = True,\n",
        "    by_percentiles = False,\n",
        "    by_classification_correctness = True)"
      ],
      "metadata": {
        "id": "7_XPSuLYB5e4"
      },
      "execution_count": null,
      "outputs": []
    },
    {
      "cell_type": "code",
      "source": [
        "# define the type of attacker model that we want to use\n",
        "attack_types = [\n",
        "    AttackType.THRESHOLD_ATTACK,\n",
        "    AttackType.LOGISTIC_REGRESSION\n",
        "]"
      ],
      "metadata": {
        "id": "uLMUC2R0Cbdw"
      },
      "execution_count": null,
      "outputs": []
    },
    {
      "cell_type": "code",
      "source": [
        "# run the attack\n",
        "attacks_result = mia.run_attacks(attack_input=attack_input,\n",
        "                                 slicing_spec=slicing_spec,\n",
        "                                 attack_types=attack_types)"
      ],
      "metadata": {
        "id": "fxUr06qlB5he"
      },
      "execution_count": null,
      "outputs": []
    },
    {
      "cell_type": "code",
      "source": [
        "# summary by data slice (the best performing attacks per slice are presented)\n",
        "print(attacks_result.summary(by_slices=True))"
      ],
      "metadata": {
        "id": "vBuyTqb1B5jv"
      },
      "execution_count": null,
      "outputs": []
    },
    {
      "cell_type": "code",
      "source": [
        "# plot the curve, we see that the attacker is much better than random guessing\n",
        "import tensorflow_privacy.privacy.membership_inference_attack.plotting as plotting\n",
        "print(plotting.plot_roc_curve(attacks_result.get_result_with_max_auc().roc_curve))"
      ],
      "metadata": {
        "id": "HTNfUPRTEFjQ"
      },
      "execution_count": null,
      "outputs": []
    },
    {
      "cell_type": "code",
      "source": [
        ""
      ],
      "metadata": {
        "id": "2LI9JN3VzsOo"
      },
      "execution_count": null,
      "outputs": []
    }
  ],
  "metadata": {
    "kernelspec": {
      "display_name": "Python 3",
      "language": "python",
      "name": "python3"
    },
    "language_info": {
      "codemirror_mode": {
        "name": "ipython",
        "version": 3
      },
      "file_extension": ".py",
      "mimetype": "text/x-python",
      "name": "python",
      "nbconvert_exporter": "python",
      "pygments_lexer": "ipython3",
      "version": "3.8.12"
    },
    "colab": {
      "name": "MIA_on_NN_DP.ipynb",
      "provenance": []
    },
    "accelerator": "GPU",
    "gpuClass": "standard"
  },
  "nbformat": 4,
  "nbformat_minor": 0
}