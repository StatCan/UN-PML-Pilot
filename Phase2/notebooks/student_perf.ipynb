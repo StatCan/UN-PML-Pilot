{
 "cells": [
  {
   "cell_type": "code",
   "execution_count": null,
   "id": "62367302-3737-4087-a615-30b64277d793",
   "metadata": {
    "id": "62367302-3737-4087-a615-30b64277d793"
   },
   "outputs": [],
   "source": [
    "from os.path import exists\n",
    "import numpy as np\n",
    "import pandas as pd\n",
    "import matplotlib.pyplot as plt"
   ]
  },
  {
   "cell_type": "markdown",
   "id": "9f5c1ec3-74dd-4a8c-80b5-d701f50158c8",
   "metadata": {
    "id": "9f5c1ec3-74dd-4a8c-80b5-d701f50158c8"
   },
   "source": [
    "# Student Perfomance Dataset\n",
    "\n",
    "- Is hosted the [UC Irvine Machine Learning Repository](https://archive-beta.ics.uci.edu/ml/datasets/student+performance)\n",
    "- [Paulo Cortez](http://www3.dsi.uminho.pt/pcortez) from Universidade do Minho (Portugal)\n",
    "- The data was collected from two public schools in portugal.\n",
    "- Conditions:\n",
    "    - Add the citation \"P. Cortez and A. Silva. Using Data Mining to Predict Secondary School Student Performance. In A. Brito and J. Teixeira Eds., Proceedings of 5th FUture BUsiness TEChnology Conference (FUBUTEC 2008) pp. 5-12, Porto, Portugal, April, 2008, EUROSIS, ISBN 978-9077381-39-7.\"\n",
    "    - This dataset is licensed under a [Creative Commons Attribution 4.0 International (CC BY 4.0) license](https://creativecommons.org/licenses/by/4.0/). This allows for the sharing and adaptation of the datasets for any purpose, provided that the appropriate credit is given. (See above)\n",
    "\n"
   ]
  },
  {
   "cell_type": "markdown",
   "id": "a8abb0e8-31fd-40e6-8145-dd8f98ba00c4",
   "metadata": {
    "id": "a8abb0e8-31fd-40e6-8145-dd8f98ba00c4"
   },
   "source": [
    "Let's download it "
   ]
  },
  {
   "cell_type": "code",
   "execution_count": null,
   "id": "4e11a170-6cb8-4bdf-88af-2be6ef2910c9",
   "metadata": {
    "colab": {
     "base_uri": "https://localhost:8080/"
    },
    "id": "4e11a170-6cb8-4bdf-88af-2be6ef2910c9",
    "outputId": "a2c5463f-8b8a-4156-f52b-e74d3d4a2b1b"
   },
   "outputs": [],
   "source": [
    "if not exists(\"student.zip\"):\n",
    "    !wget https://archive.ics.uci.edu/ml/machine-learning-databases/00320/student.zip"
   ]
  },
  {
   "cell_type": "markdown",
   "id": "f2016b2f-58c2-4efe-a896-5a0ed398b2d5",
   "metadata": {
    "id": "f2016b2f-58c2-4efe-a896-5a0ed398b2d5"
   },
   "source": [
    "and unzip it"
   ]
  },
  {
   "cell_type": "code",
   "execution_count": null,
   "id": "c96cf820-c68f-4006-8cd7-e0759ac9809e",
   "metadata": {
    "colab": {
     "base_uri": "https://localhost:8080/"
    },
    "id": "c96cf820-c68f-4006-8cd7-e0759ac9809e",
    "outputId": "3799451b-8009-4be9-fb2b-4c336e7aea1a"
   },
   "outputs": [],
   "source": [
    "!unzip student.zip"
   ]
  },
  {
   "cell_type": "markdown",
   "id": "66d3f323-4809-4d31-ab29-57eb3c8a66d7",
   "metadata": {
    "id": "66d3f323-4809-4d31-ab29-57eb3c8a66d7"
   },
   "source": [
    "Quick inspection"
   ]
  },
  {
   "cell_type": "code",
   "execution_count": null,
   "id": "37aeef31-48bd-4ae5-9acf-3e8b84225364",
   "metadata": {
    "colab": {
     "base_uri": "https://localhost:8080/"
    },
    "id": "37aeef31-48bd-4ae5-9acf-3e8b84225364",
    "outputId": "b40f32e8-5bd3-48ea-ad5b-1fbef2664c85"
   },
   "outputs": [],
   "source": [
    "!cat student.txt"
   ]
  },
  {
   "cell_type": "markdown",
   "id": "6f70dd78-892b-45ae-9c7c-00ccbb224d1f",
   "metadata": {
    "id": "6f70dd78-892b-45ae-9c7c-00ccbb224d1f"
   },
   "source": [
    "Ok let's look at that R file:"
   ]
  },
  {
   "cell_type": "code",
   "execution_count": null,
   "id": "56f33e6e-c525-48c4-8e8e-c9391b55345f",
   "metadata": {
    "colab": {
     "base_uri": "https://localhost:8080/"
    },
    "id": "56f33e6e-c525-48c4-8e8e-c9391b55345f",
    "outputId": "7ecdd536-16fe-45cd-f40d-2e080b9f6c7f"
   },
   "outputs": [],
   "source": [
    "!cat student-merge.R"
   ]
  },
  {
   "cell_type": "markdown",
   "id": "7ec19111-2666-4c4b-a61e-7bdb72632418",
   "metadata": {
    "id": "7ec19111-2666-4c4b-a61e-7bdb72632418"
   },
   "source": [
    "This is a merge on common columns. We can load both files `student-mat.csv` and `student-por.csv` using pandas."
   ]
  },
  {
   "cell_type": "code",
   "execution_count": null,
   "id": "cab9e8d4-c780-4f05-a52a-2858fdbe525c",
   "metadata": {
    "id": "cab9e8d4-c780-4f05-a52a-2858fdbe525c"
   },
   "outputs": [],
   "source": [
    "df1 = pd.read_csv(\"student-mat.csv\", sep=\";\")\n",
    "df2 = pd.read_csv(\"student-por.csv\", sep=\";\")"
   ]
  },
  {
   "cell_type": "markdown",
   "id": "ccd1e991-50f0-48b6-889e-be06746202d7",
   "metadata": {
    "id": "ccd1e991-50f0-48b6-889e-be06746202d7"
   },
   "source": [
    "Let see their columns:"
   ]
  },
  {
   "cell_type": "code",
   "execution_count": null,
   "id": "fb29765c-8c76-4d49-91ab-a8128f53234d",
   "metadata": {
    "colab": {
     "base_uri": "https://localhost:8080/"
    },
    "id": "fb29765c-8c76-4d49-91ab-a8128f53234d",
    "outputId": "979a53a7-3bb1-44ab-8fba-7f4241aef3b7"
   },
   "outputs": [],
   "source": [
    "df1.columns"
   ]
  },
  {
   "cell_type": "code",
   "execution_count": null,
   "id": "ca6fba22-0f76-4ac9-84b8-fa33216449b4",
   "metadata": {
    "colab": {
     "base_uri": "https://localhost:8080/"
    },
    "id": "ca6fba22-0f76-4ac9-84b8-fa33216449b4",
    "outputId": "57757d4a-84f8-4287-b705-31de848ffbfe"
   },
   "outputs": [],
   "source": [
    "df2.columns"
   ]
  },
  {
   "cell_type": "code",
   "execution_count": null,
   "id": "cdd79c14-076a-4f41-b592-9c8fd3155c82",
   "metadata": {
    "colab": {
     "base_uri": "https://localhost:8080/",
     "height": 300
    },
    "id": "cdd79c14-076a-4f41-b592-9c8fd3155c82",
    "outputId": "f7d8918c-a8e9-4065-bb2f-93ef0e03df16"
   },
   "outputs": [],
   "source": [
    "df1.describe()"
   ]
  },
  {
   "cell_type": "code",
   "execution_count": null,
   "id": "a090f57d-a601-41c2-b314-91f13993a92a",
   "metadata": {
    "colab": {
     "base_uri": "https://localhost:8080/",
     "height": 300
    },
    "id": "a090f57d-a601-41c2-b314-91f13993a92a",
    "outputId": "cb5a02fe-663b-420f-a5fe-2fbdbc8f2449"
   },
   "outputs": [],
   "source": [
    "df2.describe()"
   ]
  },
  {
   "cell_type": "markdown",
   "id": "0c1f5a2b-7ed0-4eac-80fe-18986fd20999",
   "metadata": {
    "id": "0c1f5a2b-7ed0-4eac-80fe-18986fd20999"
   },
   "source": [
    "So we have 395 and 649 records for df1 and df2 respectively."
   ]
  },
  {
   "cell_type": "markdown",
   "id": "11ba9ec1-94cc-4d27-91ae-bbab3fb02f8b",
   "metadata": {
    "id": "11ba9ec1-94cc-4d27-91ae-bbab3fb02f8b"
   },
   "source": [
    "Now we can merge them,"
   ]
  },
  {
   "cell_type": "code",
   "execution_count": null,
   "id": "55d687e4-494e-4a4e-a075-cc98e947dfac",
   "metadata": {
    "id": "55d687e4-494e-4a4e-a075-cc98e947dfac"
   },
   "outputs": [],
   "source": [
    "df = pd.merge(df1, df2, on=[\"school\",\"sex\",\"age\",\"address\",\"famsize\",\"Pstatus\",\"Medu\",\"Fedu\",\"Mjob\",\"Fjob\",\"reason\",\"nursery\",\"internet\"])"
   ]
  },
  {
   "cell_type": "code",
   "execution_count": null,
   "id": "0c3c73d8-7327-4709-b7eb-0ceb2312e3f8",
   "metadata": {
    "colab": {
     "base_uri": "https://localhost:8080/",
     "height": 393
    },
    "id": "0c3c73d8-7327-4709-b7eb-0ceb2312e3f8",
    "outputId": "ae167a02-e316-4fb6-c479-320973244a20"
   },
   "outputs": [],
   "source": [
    "df.describe()"
   ]
  },
  {
   "cell_type": "markdown",
   "id": "35e36279-b0c2-4daf-82b6-3cf3e4e91d53",
   "metadata": {
    "id": "35e36279-b0c2-4daf-82b6-3cf3e4e91d53"
   },
   "source": [
    "We have 382 students in both datasets."
   ]
  }
 ],
 "metadata": {
  "colab": {
   "collapsed_sections": [],
   "name": "student-perf.ipynb",
   "provenance": []
  },
  "kernelspec": {
   "display_name": "py38_default",
   "language": "python",
   "name": "conda-env-py38_default-py"
  },
  "language_info": {
   "codemirror_mode": {
    "name": "ipython",
    "version": 3
   },
   "file_extension": ".py",
   "mimetype": "text/x-python",
   "name": "python",
   "nbconvert_exporter": "python",
   "pygments_lexer": "ipython3",
   "version": "3.8.11"
  }
 },
 "nbformat": 4,
 "nbformat_minor": 5
}
