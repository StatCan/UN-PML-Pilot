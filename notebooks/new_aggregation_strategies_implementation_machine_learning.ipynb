{
  "cells": [
    {
      "cell_type": "markdown",
      "metadata": {
        "id": "2BCtZONh3yU4"
      },
      "source": [
        "#**Definizione di Nuove Strategie di Federated Learning con  Flower e Pytorch**"
      ]
    },
    {
      "cell_type": "markdown",
      "metadata": {
        "id": "XrYSzFamz37m"
      },
      "source": [
        "#**Installazione dei Pacchetti Richiesti**\n"
      ]
    },
    {
      "cell_type": "markdown",
      "metadata": {
        "id": "6q69zTMh2dRH"
      },
      "source": [
        "*   Installazione di PyTorch (Torch)\n",
        "*   Installazione di Torchvision per Computer Vision \n",
        "*   Installazione di Flower per l'Implementazione del Federated Learning "
      ]
    },
    {
      "cell_type": "code",
      "execution_count": null,
      "metadata": {
        "id": "7GwEkQ0Jz37n",
        "colab": {
          "base_uri": "https://localhost:8080/"
        },
        "outputId": "55b99932-e51e-4a2b-8a75-0304586ab050"
      },
      "outputs": [
        {
          "output_type": "stream",
          "name": "stdout",
          "text": [
            "\u001b[2K     \u001b[90m━━━━━━━━━━━━━━━━━━━━━━━━━━━━━━━━━━━━━━━\u001b[0m \u001b[32m157.2/157.2 kB\u001b[0m \u001b[31m6.8 MB/s\u001b[0m eta \u001b[36m0:00:00\u001b[0m\n",
            "\u001b[2K     \u001b[90m━━━━━━━━━━━━━━━━━━━━━━━━━━━━━━━━━━━━━━━━\u001b[0m \u001b[32m58.6/58.6 MB\u001b[0m \u001b[31m11.1 MB/s\u001b[0m eta \u001b[36m0:00:00\u001b[0m\n",
            "\u001b[2K     \u001b[90m━━━━━━━━━━━━━━━━━━━━━━━━━━━━━━━━━━━━━━━\u001b[0m \u001b[32m149.6/149.6 kB\u001b[0m \u001b[31m9.9 MB/s\u001b[0m eta \u001b[36m0:00:00\u001b[0m\n",
            "\u001b[2K     \u001b[90m━━━━━━━━━━━━━━━━━━━━━━━━━━━━━━━━━━━━━━━━\u001b[0m \u001b[32m8.7/8.7 MB\u001b[0m \u001b[31m28.7 MB/s\u001b[0m eta \u001b[36m0:00:00\u001b[0m\n",
            "\u001b[2K     \u001b[90m━━━━━━━━━━━━━━━━━━━━━━━━━━━━━━━━━━━━━━━━\u001b[0m \u001b[32m4.8/4.8 MB\u001b[0m \u001b[31m64.9 MB/s\u001b[0m eta \u001b[36m0:00:00\u001b[0m\n",
            "\u001b[2K     \u001b[90m━━━━━━━━━━━━━━━━━━━━━━━━━━━━━━━━━━━━━━━━\u001b[0m \u001b[32m1.0/1.0 MB\u001b[0m \u001b[31m31.3 MB/s\u001b[0m eta \u001b[36m0:00:00\u001b[0m\n",
            "\u001b[2K     \u001b[90m━━━━━━━━━━━━━━━━━━━━━━━━━━━━━━━━━━━━━━\u001b[0m \u001b[32m201.4/201.4 kB\u001b[0m \u001b[31m20.6 MB/s\u001b[0m eta \u001b[36m0:00:00\u001b[0m\n",
            "\u001b[2K     \u001b[90m━━━━━━━━━━━━━━━━━━━━━━━━━━━━━━━━━━━━━━━━\u001b[0m \u001b[32m3.0/3.0 MB\u001b[0m \u001b[31m84.3 MB/s\u001b[0m eta \u001b[36m0:00:00\u001b[0m\n",
            "\u001b[2K     \u001b[90m━━━━━━━━━━━━━━━━━━━━━━━━━━━━━━━━━━━━━━━━\u001b[0m \u001b[32m97.9/97.9 kB\u001b[0m \u001b[31m11.2 MB/s\u001b[0m eta \u001b[36m0:00:00\u001b[0m\n",
            "\u001b[?25h  Installing build dependencies ... \u001b[?25l\u001b[?25hdone\n",
            "  Getting requirements to build wheel ... \u001b[?25l\u001b[?25hdone\n",
            "  Preparing metadata (pyproject.toml) ... \u001b[?25l\u001b[?25hdone\n",
            "\u001b[2K     \u001b[90m━━━━━━━━━━━━━━━━━━━━━━━━━━━━━━━━━━━━━━\u001b[0m \u001b[32m128.2/128.2 kB\u001b[0m \u001b[31m12.7 MB/s\u001b[0m eta \u001b[36m0:00:00\u001b[0m\n",
            "\u001b[2K     \u001b[90m━━━━━━━━━━━━━━━━━━━━━━━━━━━━━━━━━━━━━━\u001b[0m \u001b[32m114.5/114.5 kB\u001b[0m \u001b[31m15.9 MB/s\u001b[0m eta \u001b[36m0:00:00\u001b[0m\n",
            "\u001b[2K     \u001b[90m━━━━━━━━━━━━━━━━━━━━━━━━━━━━━━━━━━━━━━\u001b[0m \u001b[32m268.8/268.8 kB\u001b[0m \u001b[31m29.6 MB/s\u001b[0m eta \u001b[36m0:00:00\u001b[0m\n",
            "\u001b[2K     \u001b[90m━━━━━━━━━━━━━━━━━━━━━━━━━━━━━━━━━━━━━━━━\u001b[0m \u001b[32m58.4/58.4 kB\u001b[0m \u001b[31m7.4 MB/s\u001b[0m eta \u001b[36m0:00:00\u001b[0m\n",
            "\u001b[2K     \u001b[90m━━━━━━━━━━━━━━━━━━━━━━━━━━━━━━━━━━━━━━\u001b[0m \u001b[32m468.5/468.5 kB\u001b[0m \u001b[31m44.6 MB/s\u001b[0m eta \u001b[36m0:00:00\u001b[0m\n",
            "\u001b[?25h  Building wheel for gpustat (pyproject.toml) ... \u001b[?25l\u001b[?25hdone\n"
          ]
        }
      ],
      "source": [
        "!pip install -q flwr[simulation] torch torchvision"
      ]
    },
    {
      "cell_type": "markdown",
      "metadata": {
        "id": "qls8qd8Iz37p"
      },
      "source": [
        "#**All General Imports**"
      ]
    },
    {
      "cell_type": "code",
      "execution_count": null,
      "metadata": {
        "id": "yu-1yvWzz37p"
      },
      "outputs": [],
      "source": [
        "import os\n",
        "import glob\n",
        "import pandas as pd \n",
        "import platform\n",
        "import numpy as np\n",
        "import matplotlib.pyplot as plt\n",
        "from collections import OrderedDict\n",
        "from typing import Dict, List, Optional, Tuple"
      ]
    },
    {
      "cell_type": "markdown",
      "metadata": {
        "id": "216WwsYEXg2j"
      },
      "source": [
        "#**All Machine Learning Imports**"
      ]
    },
    {
      "cell_type": "code",
      "execution_count": null,
      "metadata": {
        "id": "NMhXiHTAXhbQ"
      },
      "outputs": [],
      "source": [
        "import torch\n",
        "import torch.nn as nn\n",
        "import torch.nn.functional as F\n",
        "import torchvision.transforms as transforms\n",
        "from torch.utils.data import DataLoader, random_split\n",
        "from torchvision.datasets import CIFAR10\n",
        "from torch import Tensor"
      ]
    },
    {
      "cell_type": "markdown",
      "metadata": {
        "id": "3o51lANbXqun"
      },
      "source": [
        "#**All Federated Learning Imports**"
      ]
    },
    {
      "cell_type": "code",
      "execution_count": null,
      "metadata": {
        "id": "4sB9T5rcXjK8"
      },
      "outputs": [],
      "source": [
        "import flwr as fl"
      ]
    },
    {
      "cell_type": "markdown",
      "metadata": {
        "id": "EQQ--21w4ImG"
      },
      "source": [
        "#**All Globals**"
      ]
    },
    {
      "cell_type": "code",
      "execution_count": null,
      "metadata": {
        "id": "AQRPcxbv4HEh"
      },
      "outputs": [],
      "source": [
        "n_clients = 4\n",
        "strategy_colors = ['red', 'green', 'blue', 'cyan']\n",
        "strategy_list = ['fedavg', 'fedadagrad', 'fedadam', 'fedyogi']\n",
        "strategy_type = 'fedavg'\n",
        "loop_on_strategies = True     # se True \n",
        "dataset = \"har\"                # cifar10, har"
      ]
    },
    {
      "cell_type": "markdown",
      "metadata": {
        "id": "w4cXeVEF91j7"
      },
      "source": [
        "#**Hyper-parameters**"
      ]
    },
    {
      "cell_type": "code",
      "execution_count": null,
      "metadata": {
        "id": "j2BhNjhC94dt"
      },
      "outputs": [],
      "source": [
        "n_epochs = 1\n",
        "n_rounds = 25\n",
        "validation_split = 0.2\n",
        "batch_size = 64"
      ]
    },
    {
      "cell_type": "markdown",
      "metadata": {
        "id": "_p9VHdJ-2-gu"
      },
      "source": [
        "#**Initializations**"
      ]
    },
    {
      "cell_type": "code",
      "execution_count": null,
      "metadata": {
        "colab": {
          "base_uri": "https://localhost:8080/"
        },
        "id": "cDtG-ecZ2_Rl",
        "outputId": "23ac3f09-2217-43be-c0f4-dc49cce9aad1"
      },
      "outputs": [
        {
          "output_type": "stream",
          "name": "stdout",
          "text": [
            "Training on cpu using PyTorch 2.0.1+cu118 and Flower 1.4.0\n"
          ]
        }
      ],
      "source": [
        "DEVICE = torch.device(\"cpu\")  # Prova \"cuda\" per addestramento su GPU\n",
        "print(\n",
        "    f\"Training on {DEVICE} using PyTorch {torch.__version__} and Flower {fl.__version__}\"\n",
        ")\n",
        "\n",
        "OS = platform.system()           # Sistema Operativo\n",
        "\n",
        "strategies_acc = []"
      ]
    },
    {
      "cell_type": "markdown",
      "metadata": {
        "id": "N3-9cMBkbAsq"
      },
      "source": [
        "#**All General Functions Definitions**"
      ]
    },
    {
      "cell_type": "code",
      "execution_count": null,
      "metadata": {
        "id": "c9EGcGI8bNeq"
      },
      "outputs": [],
      "source": [
        "def data_download(file_to_download, gdrive_code, OS, uncompress = True):\n",
        "  if not os.path.exists(file_to_download):\n",
        "    os.system('gdown --id \"'+gdrive_code+'\" --output '+file_to_download)\n",
        "    if OS == \"Linux\" and uncompress:\n",
        "        os.system('unzip -o -n \"./'+file_to_download+'\" -d '+os.path.dirname(file_to_download))\n",
        "    return True\n",
        "  else: \n",
        "    return None"
      ]
    },
    {
      "cell_type": "markdown",
      "metadata": {
        "id": "pw7qNz4k6g-P"
      },
      "source": [
        "#**Data Download**\n"
      ]
    },
    {
      "cell_type": "code",
      "execution_count": null,
      "metadata": {
        "id": "Tj3J-tRF6ebG"
      },
      "outputs": [],
      "source": [
        "if dataset == \"cifar10\":\n",
        "  transform = transforms.Compose(\n",
        "      [transforms.ToTensor(), transforms.Normalize((0.5, 0.5, 0.5), (0.5, 0.5, 0.5))]\n",
        "  )\n",
        "  trainset = CIFAR10(\"./dataset\", train=True, download=True, transform=transform)\n",
        "  testset = CIFAR10(\"./dataset\", train=False, download=True, transform=transform)\n",
        "\n",
        "  print(\"Training Set size: \", len(trainset))\n",
        "  print(\"Test Set size: \", len(testset))\n",
        "elif dataset == \"har\": \n",
        "  out = data_download(\"./har_datasets_fl.zip\", \"1LUjU4yvBRh6FPBlIHRCD2uf5zMH6l9tC\", OS) \n",
        "  #urllib.request.urlretrieve(\"https://archive.ics.uci.edu/ml/machine-learning-databases/00240/UCI%20HAR%20Dataset.zip\", filename=\"har-data.zip\")\n"
      ]
    },
    {
      "cell_type": "markdown",
      "metadata": {
        "id": "CGxcJLB06v-9"
      },
      "source": [
        "#**Ripartizione del Training Set per il Federated Learning**"
      ]
    },
    {
      "cell_type": "markdown",
      "metadata": {
        "id": "Qf9hdLuk9DIf"
      },
      "source": [
        "Il **Dataset** principale viene splittato **in N parti** tante quante il numero di client. Ciascun pezzo è costituito da differenti training e validation set, mentre il test set viene condiviso tra tutti i clients, di modo tale che esso sia sempre lo stesso e possa garantire confronti affidabili. Questo test set comune infatti permette di fare dei confronti tra differenti client con un unico e stabile test set. "
      ]
    },
    {
      "cell_type": "code",
      "execution_count": null,
      "metadata": {
        "id": "PBQj-WxC6tZl"
      },
      "outputs": [],
      "source": [
        "if dataset == \"cifar10\":\n",
        "  partition_size = len(trainset) // n_clients\n",
        "  lengths = [partition_size] * n_clients\n",
        "  datasets = random_split(trainset, lengths, torch.Generator().manual_seed(42))\n",
        "\n",
        "  print(\"Size of each Dataset Partition: \", partition_size)\n",
        "  print(\"All Dataset Partitions sizes: \", lengths)"
      ]
    },
    {
      "cell_type": "markdown",
      "metadata": {
        "id": "O6xA5e_C4Xjw"
      },
      "source": [
        "#**Preparazione dei Dati**"
      ]
    },
    {
      "cell_type": "markdown",
      "metadata": {
        "id": "jC1yY16X4bNP"
      },
      "source": [
        "Per ciascun sottoinsieme, estraiamo un training set e un validation set e li wrappiamo all'interno di DataLoader, definendo il batch size, lo shuffle, ecc. Il testset viene condiviso tra tutti i client, mentre train e validation set sono specifici per ogni client: questo è vero sia per il dataset di benchmark cifar10 che per il dataset di human activity recognition (har). "
      ]
    },
    {
      "cell_type": "code",
      "execution_count": null,
      "metadata": {
        "colab": {
          "base_uri": "https://localhost:8080/"
        },
        "id": "2UZNdtuIz37s",
        "outputId": "5b74edb7-4dcf-407a-de9c-d111c061f063"
      },
      "outputs": [
        {
          "output_type": "stream",
          "name": "stdout",
          "text": [
            "Reading :  ./har_datasets_fl/1 - ISTAT\n",
            "Reading :  ./har_datasets_fl/0 - CBS\n",
            "Reading :  ./har_datasets_fl/3 - STATCAN\n",
            "Reading :  ./har_datasets_fl/2 - ONS\n"
          ]
        }
      ],
      "source": [
        "trainloaders = []\n",
        "valloaders = []\n",
        "\n",
        "if dataset == \"cifar10\": \n",
        "  for ds in datasets:\n",
        "      len_val = len(ds) // validation_rate\n",
        "      len_train = len(ds) - len_val\n",
        "      lengths = [len_train, len_val]\n",
        "      ds_train, ds_val = random_split(ds, lengths, torch.Generator().manual_seed(42))\n",
        "      trainloaders.append(DataLoader(ds_train, batch_size = batch_size, shuffle=True))\n",
        "      valloaders.append(DataLoader(ds_val, batch_size = batch_size))\n",
        "\n",
        "  testloader = DataLoader(testset, batch_size = batch_size)\n",
        "elif dataset == \"har\":\n",
        "  subdirectories = [f.path for f in os.scandir('./har_datasets_fl') if f.is_dir()]\n",
        "\n",
        "  global_X_testset = pd.DataFrame()\n",
        "  global_y_testset = pd.DataFrame()\n",
        " \n",
        "  for subdirectory in subdirectories:\n",
        "    fold_number = os.path.basename(subdirectory).split('-')[0].strip()    \n",
        "    print(\"Reading : \", subdirectory)\n",
        "    \n",
        "    trainset = pd.read_csv(subdirectory+'/train/'+fold_number+'_ALL_train.csv', delimiter = ';')\n",
        "    valset = trainset[-int(len(trainset)*validation_split):]\n",
        "    trainset = trainset[0:-int(len(trainset)*validation_split)]\n",
        "    testset = pd.read_csv(subdirectory+'/test/'+fold_number+'_ALL_test.csv', delimiter = ';')\n",
        "\n",
        "    '''\n",
        "    print(trainset.shape)\n",
        "    print(valset.shape)\n",
        "    print(testset.shape)\n",
        "    '''\n",
        "\n",
        "    X_train = pd.concat([trainset[str(i)] for i in range(561)], axis = 1)\n",
        "    y_train = trainset['Y'] - 1\n",
        "\n",
        "    X_val = pd.concat([valset[str(i)] for i in range(561)], axis = 1)\n",
        "    y_val = valset['Y'] - 1\n",
        "\n",
        "    X_test = pd.concat([testset[str(i)] for i in range(561)], axis = 1)\n",
        "    y_test = testset['Y'] - 1\n",
        "\n",
        "    global_X_testset = pd.concat([global_X_testset, X_test], axis=0)\n",
        "    global_y_testset = pd.concat([global_y_testset, y_test], axis=0)\n",
        "\n",
        "    training_data = torch.utils.data.TensorDataset(torch.tensor(X_train.values).float(), torch.as_tensor(y_train.values).squeeze())\n",
        "    val_data = torch.utils.data.TensorDataset(torch.tensor(X_val.values).float(), torch.as_tensor(y_val.values).squeeze())\n",
        "    trainloaders.append(DataLoader(training_data, batch_size=batch_size))\n",
        "    valloaders.append(DataLoader(val_data, batch_size=batch_size))\n",
        "\n",
        "test_data = torch.utils.data.TensorDataset(torch.tensor(global_X_testset.values).float(), torch.as_tensor(global_y_testset.values).squeeze())\n",
        "test_dataloader = DataLoader(test_data, batch_size=batch_size)\n"
      ]
    },
    {
      "cell_type": "code",
      "execution_count": null,
      "metadata": {
        "colab": {
          "base_uri": "https://localhost:8080/"
        },
        "id": "gQOgZcsK-3tV",
        "outputId": "50bbcb5c-b09c-4980-ff25-d4fdbe65acf3"
      },
      "outputs": [
        {
          "output_type": "stream",
          "name": "stdout",
          "text": [
            "Number of Training Subsets:  4\n"
          ]
        }
      ],
      "source": [
        "print(\"Number of Training Subsets: \", len(trainloaders))"
      ]
    },
    {
      "cell_type": "code",
      "execution_count": null,
      "metadata": {
        "colab": {
          "base_uri": "https://localhost:8080/"
        },
        "id": "tR1YC_uO_QGr",
        "outputId": "18ad5a4f-de42-4cfa-864c-3abec7fdaad5"
      },
      "outputs": [
        {
          "output_type": "stream",
          "name": "stdout",
          "text": [
            "Number of Validation Subsets:  4\n"
          ]
        }
      ],
      "source": [
        "print(\"Number of Validation Subsets: \", len(trainloaders))"
      ]
    },
    {
      "cell_type": "markdown",
      "metadata": {
        "id": "LKD91sIrBEQS"
      },
      "source": [
        "#**Definizione del Modello**"
      ]
    },
    {
      "cell_type": "code",
      "execution_count": null,
      "metadata": {
        "id": "eP6FFTRKBBzt"
      },
      "outputs": [],
      "source": [
        "class ConvNet(nn.Module):\n",
        "    def __init__(self) -> None:\n",
        "        super(ConvNet, self).__init__()\n",
        "        self.conv1 = nn.Conv2d(3, 6, 5)\n",
        "        self.pool = nn.MaxPool2d(2, 2)\n",
        "        self.conv2 = nn.Conv2d(6, 16, 5)\n",
        "        self.fc1 = nn.Linear(16 * 5 * 5, 120)\n",
        "        self.fc2 = nn.Linear(120, 84)\n",
        "        self.fc3 = nn.Linear(84, 10)\n",
        "\n",
        "    def forward(self, x: torch.Tensor) -> torch.Tensor:\n",
        "        x = self.pool(F.relu(self.conv1(x)))\n",
        "        x = self.pool(F.relu(self.conv2(x)))\n",
        "        x = x.view(-1, 16 * 5 * 5)\n",
        "        x = F.relu(self.fc1(x))\n",
        "        x = F.relu(self.fc2(x))\n",
        "        x = self.fc3(x)\n",
        "        return x\n",
        "\n",
        "class MLP(nn.Module):\n",
        "    \"\"\" Multi Layer Perceptron \"\"\"\n",
        "    def __init__(self) -> None:\n",
        "        super(MLP, self).__init__()\n",
        "        #self.flatten = nn.Flatten()\n",
        "        self.linear_relu_stack = nn.Sequential(\n",
        "            nn.Linear(561, 512),\n",
        "            nn.ReLU(),\n",
        "            nn.Linear(512, 512),\n",
        "            nn.ReLU(),\n",
        "            nn.Linear(512, 6)\n",
        "        )\n",
        "\n",
        "    def forward(self, x: Tensor) -> Tensor:\n",
        "        #x = self.flatten(x)\n",
        "        logits = self.linear_relu_stack(x)\n",
        "        return logits\n",
        "\n",
        "# Crea un'istanza del modello e ne ottiene i parametri\n",
        "if dataset == \"cifar10\":\n",
        "  Net = ConvNet\n",
        "elif dataset == \"har\":\n",
        "  Net = MLP"
      ]
    },
    {
      "cell_type": "markdown",
      "metadata": {
        "id": "cSAcBk-Wz37t"
      },
      "source": [
        "#**Addestramento del Modello**"
      ]
    },
    {
      "cell_type": "markdown",
      "metadata": {
        "id": "MXWvpXhQkZSg"
      },
      "source": [
        "Nel **federated learning**, il server manda i parametri globali del modello ai suoi client, e i client aggiornano il modello locale mediante i parametri ricevuti dal server. \n",
        "\n",
        "Dunque i client addestrano il modello sui dati locali (i quali influenza i parametri del modello localmente) e mandano i parametri del modello cambiati/aggiornati di nuovo indietro verso il server (o in alternativa, mandano i gradienti verso il server, non in questo caso i parametri completi del modello). \n",
        "\n",
        "Abbiamo bisogno pertanto di due funzioni di supporto per aggiornare il modello locale con i parametri ricevuti dal server (set_parameters) e ottenere i parametri aggiornati dal modello locale (get_parameters). Le seguenti funzioni eseguno queste operazioni per il modello Pytorch precedentemente definito. \n",
        "\n",
        "In sostanza usuamo **state_dict** per accedere ai tensori dei parametri del modello PyTorch. I tensori del parametro sono poi convertiti a/da una lista di array Numpy (che Flower è in grado di serializzare/deserializzare)."
      ]
    },
    {
      "cell_type": "markdown",
      "metadata": {
        "id": "iNebBoMmixaR"
      },
      "source": [
        "##**Aggiornamento dei Parametri del Modello**"
      ]
    },
    {
      "cell_type": "code",
      "execution_count": null,
      "metadata": {
        "id": "0JS7mbiACzyq"
      },
      "outputs": [],
      "source": [
        "def get_parameters(net) -> List[np.ndarray]:\n",
        "    return [val.cpu().numpy() for _, val in net.state_dict().items()]\n",
        "\n",
        "def set_parameters(net, parameters: List[np.ndarray]):\n",
        "    params_dict = zip(net.state_dict().keys(), parameters)\n",
        "    state_dict = OrderedDict({k: torch.Tensor(v) for k, v in params_dict})\n",
        "    net.load_state_dict(state_dict, strict=True)"
      ]
    },
    {
      "cell_type": "markdown",
      "metadata": {
        "id": "AXUpy6XEmnXV"
      },
      "source": [
        "##**Addestramento**"
      ]
    },
    {
      "cell_type": "code",
      "execution_count": null,
      "metadata": {
        "id": "RYr_By50z37u"
      },
      "outputs": [],
      "source": [
        "def train(net, trainloader, epochs: int):\n",
        "    \"\"\"Train the network on the training set.\"\"\"\n",
        "    criterion = torch.nn.CrossEntropyLoss()\n",
        "    optimizer = torch.optim.Adam(net.parameters())\n",
        "    net.train()\n",
        "    for epoch in range(epochs):\n",
        "        correct, total, epoch_loss = 0, 0, 0.0\n",
        "        for images, labels in trainloader:\n",
        "            images, labels = images.to(DEVICE), labels.to(DEVICE)\n",
        "            optimizer.zero_grad()\n",
        "            outputs = net(images)\n",
        "            loss = criterion(net(images), labels)\n",
        "            loss.backward()\n",
        "            optimizer.step()\n",
        "            # Metriche\n",
        "            epoch_loss += loss\n",
        "            total += labels.size(0)\n",
        "            correct += (torch.max(outputs.data, 1)[1] == labels).sum().item()\n",
        "        epoch_loss /= len(trainloader.dataset)\n",
        "        epoch_acc = correct / total\n",
        "        print(f\"Epoch {epoch+1}: train loss {epoch_loss}, accuracy {epoch_acc}\")"
      ]
    },
    {
      "cell_type": "markdown",
      "metadata": {
        "id": "pKu2WdJwB0TL"
      },
      "source": [
        "#**Model Testing**"
      ]
    },
    {
      "cell_type": "code",
      "execution_count": null,
      "metadata": {
        "id": "FKSlyuX2ByI7"
      },
      "outputs": [],
      "source": [
        "def test(net, testloader):\n",
        "    \"\"\"Evaluate the network on the entire test set.\"\"\"\n",
        "    criterion = torch.nn.CrossEntropyLoss()\n",
        "    correct, total, loss = 0, 0, 0.0\n",
        "    net.eval()\n",
        "    with torch.no_grad():\n",
        "        for images, labels in testloader:\n",
        "            images, labels = images.to(DEVICE), labels.to(DEVICE)\n",
        "            outputs = net(images)\n",
        "            loss += criterion(outputs, labels).item()\n",
        "            _, predicted = torch.max(outputs.data, 1)\n",
        "            total += labels.size(0)\n",
        "            correct += (predicted == labels).sum().item()\n",
        "    loss /= len(testloader.dataset)\n",
        "    accuracy = correct / total\n",
        "\n",
        "    return accuracy, loss"
      ]
    },
    {
      "cell_type": "markdown",
      "metadata": {
        "id": "y8mEMZEQz37v"
      },
      "source": [
        "#**Implementazione del Client Flower**"
      ]
    },
    {
      "cell_type": "markdown",
      "metadata": {
        "id": "95OU1bivpGs1"
      },
      "source": [
        "Come sappiamo i sistemi di Federated learning sono costituiti da una parte client e una parte serve. In Flower, creiamo i client implementando delle sottoclassi di `flwr.client.Client` o `flwr.client.NumPyClient`. \n",
        "\n",
        "Usiamo adesso `NumPyClient` dal momento che è più facile da implementare. \n",
        "\n",
        "Per implementare il client, creiamo una sottoclasse `flwr.client.NumPyClient` e implementiamo 3 metodi `get_parameters`, `fit`, and `evaluate`:\n",
        "\n",
        "* `get_parameters`: Ritorna i parametri del modello attuale. \n",
        "* `fit`: Riceve i parametri del modello dal server, addestra i parametri sui dati locali, e ritorna i parametri del modello aggiornati verso il server. \n",
        "* `evaluate`: Receve i parametri del modello dal server, valuta i parametri del modello sui dati locali, e ritorna il risultato della valutazione al server. \n"
      ]
    },
    {
      "cell_type": "code",
      "execution_count": null,
      "metadata": {
        "id": "elxhgUFIz37y"
      },
      "outputs": [],
      "source": [
        "class FlowerClient(fl.client.NumPyClient):\n",
        "    def __init__(self, cid, net, trainloader, valloader):\n",
        "        self.cid = cid\n",
        "        self.net = net\n",
        "        self.trainloader = trainloader\n",
        "        self.valloader = valloader\n",
        "\n",
        "    def get_parameters(self, config):\n",
        "        print(f\"[Client {self.cid}] get_parameters\")\n",
        "        return get_parameters(self.net)\n",
        "\n",
        "    def fit(self, parameters, config):\n",
        "        print(f\"[Client {self.cid}] fit, config: {config}\")\n",
        "        set_parameters(self.net, parameters)\n",
        "        train(self.net, self.trainloader, epochs=n_epochs)\n",
        "        return get_parameters(self.net), len(self.trainloader), {}\n",
        "\n",
        "    def evaluate(self, parameters, config):\n",
        "        print(f\"[Client {self.cid}] evaluate, config: {config}\")\n",
        "        set_parameters(self.net, parameters)\n",
        "        loss, accuracy = test(self.net, self.valloader)\n",
        "        \n",
        "        return float(loss), len(self.valloader), {\"accuracy\": float(accuracy)}\n",
        "\n",
        "\n",
        "def client_fn(cid) -> FlowerClient:\n",
        "    net = Net().to(DEVICE)\n",
        "    trainloader = trainloaders[int(cid)]\n",
        "    valloader = valloaders[int(cid)]\n",
        "    return FlowerClient(cid, net, trainloader, valloader)"
      ]
    },
    {
      "cell_type": "markdown",
      "metadata": {
        "id": "OCpI45pCyIkM"
      },
      "source": [
        "Flower, di default, inizializza il modello gobale richiedendo un client casuale per l'inizializzazione dei parametri. In molti casi, vogliamo più controllo sull'inizializzazione dei parametri. Flower quindi permette quindi di passare i parametri inziali alla Strategia. "
      ]
    },
    {
      "cell_type": "markdown",
      "metadata": {
        "id": "kKPR4AsTvUbP"
      },
      "source": [
        "Quando chiamiamo **start_simulation**, diciamo a Flower che ci sono 4 client. Flower aòòpra va avanti e richiede la strategia  FedAvg per selezionare i client. FedAvg sa che dovrebbe selezionalre il 100% dei client disponibili (fraction_fit=1.0), così va avanti e seleziona 4 client casualmente (cioè 100% dei 4)."
      ]
    },
    {
      "cell_type": "markdown",
      "metadata": {
        "id": "PjKKveUJ2ny9"
      },
      "source": [
        "#**Selezione della Strategia di Aggregazione Built-In**"
      ]
    },
    {
      "cell_type": "code",
      "execution_count": null,
      "metadata": {
        "colab": {
          "base_uri": "https://localhost:8080/",
          "height": 1000
        },
        "id": "ADMtlWBEzEhO",
        "outputId": "48113084-17ad-4cb7-920e-9707c3303376"
      },
      "outputs": [
        {
          "output_type": "stream",
          "name": "stderr",
          "text": [
            "INFO flwr 2023-05-22 20:20:06,154 | app.py:146 | Starting Flower simulation, config: ServerConfig(num_rounds=25, round_timeout=None)\n",
            "INFO:flwr:Starting Flower simulation, config: ServerConfig(num_rounds=25, round_timeout=None)\n"
          ]
        },
        {
          "output_type": "stream",
          "name": "stdout",
          "text": [
            "\n",
            "Analyzing Strategy... :  Fedavg\n"
          ]
        },
        {
          "output_type": "stream",
          "name": "stderr",
          "text": [
            "2023-05-22 20:20:11,567\tINFO worker.py:1625 -- Started a local Ray instance.\n",
            "INFO flwr 2023-05-22 20:20:13,560 | app.py:180 | Flower VCE: Ray initialized with resources: {'memory': 7914327246.0, 'GPU': 1.0, 'CPU': 2.0, 'object_store_memory': 3957163622.0, 'node:172.28.0.12': 1.0}\n",
            "INFO:flwr:Flower VCE: Ray initialized with resources: {'memory': 7914327246.0, 'GPU': 1.0, 'CPU': 2.0, 'object_store_memory': 3957163622.0, 'node:172.28.0.12': 1.0}\n",
            "INFO flwr 2023-05-22 20:20:13,570 | server.py:86 | Initializing global parameters\n",
            "INFO:flwr:Initializing global parameters\n",
            "INFO flwr 2023-05-22 20:20:13,579 | server.py:269 | Using initial parameters provided by strategy\n",
            "INFO:flwr:Using initial parameters provided by strategy\n",
            "INFO flwr 2023-05-22 20:20:13,581 | server.py:88 | Evaluating initial parameters\n",
            "INFO:flwr:Evaluating initial parameters\n",
            "INFO flwr 2023-05-22 20:20:13,587 | server.py:101 | FL starting\n",
            "INFO:flwr:FL starting\n",
            "DEBUG flwr 2023-05-22 20:20:13,608 | server.py:218 | fit_round 1: strategy sampled 4 clients (out of 4)\n",
            "DEBUG:flwr:fit_round 1: strategy sampled 4 clients (out of 4)\n",
            "\u001b[2m\u001b[36m(pid=1049)\u001b[0m 2023-05-22 20:20:16.618738: W tensorflow/compiler/tf2tensorrt/utils/py_utils.cc:38] TF-TRT Warning: Could not find TensorRT\n"
          ]
        },
        {
          "output_type": "stream",
          "name": "stdout",
          "text": [
            "\u001b[2m\u001b[36m(launch_and_fit pid=1049)\u001b[0m [Client 1] fit, config: {}\n",
            "\u001b[2m\u001b[36m(launch_and_fit pid=1049)\u001b[0m Epoch 1: train loss 0.017389260232448578, accuracy 0.53025152957172\n"
          ]
        },
        {
          "output_type": "stream",
          "name": "stderr",
          "text": [
            "DEBUG flwr 2023-05-22 20:20:23,302 | server.py:232 | fit_round 1 received 4 results and 0 failures\n",
            "DEBUG:flwr:fit_round 1 received 4 results and 0 failures\n",
            "WARNING flwr 2023-05-22 20:20:23,341 | fedavg.py:243 | No fit_metrics_aggregation_fn provided\n",
            "WARNING:flwr:No fit_metrics_aggregation_fn provided\n",
            "DEBUG flwr 2023-05-22 20:20:23,345 | server.py:168 | evaluate_round 1: strategy sampled 3 clients (out of 4)\n",
            "DEBUG:flwr:evaluate_round 1: strategy sampled 3 clients (out of 4)\n",
            "DEBUG flwr 2023-05-22 20:20:23,724 | server.py:182 | evaluate_round 1 received 3 results and 0 failures\n",
            "DEBUG:flwr:evaluate_round 1 received 3 results and 0 failures\n",
            "WARNING flwr 2023-05-22 20:20:23,729 | fedavg.py:274 | No evaluate_metrics_aggregation_fn provided\n",
            "WARNING:flwr:No evaluate_metrics_aggregation_fn provided\n",
            "DEBUG flwr 2023-05-22 20:20:23,731 | server.py:218 | fit_round 2: strategy sampled 4 clients (out of 4)\n",
            "DEBUG:flwr:fit_round 2: strategy sampled 4 clients (out of 4)\n"
          ]
        },
        {
          "output_type": "stream",
          "name": "stdout",
          "text": [
            "\u001b[2m\u001b[36m(launch_and_evaluate pid=1049)\u001b[0m [Client 3] evaluate, config: {}\n",
            "\u001b[2m\u001b[36m(launch_and_evaluate pid=1049)\u001b[0m [Client 1] evaluate, config: {}\n"
          ]
        },
        {
          "output_type": "stream",
          "name": "stderr",
          "text": [
            "DEBUG flwr 2023-05-22 20:20:25,384 | server.py:232 | fit_round 2 received 4 results and 0 failures\n",
            "DEBUG:flwr:fit_round 2 received 4 results and 0 failures\n",
            "DEBUG flwr 2023-05-22 20:20:25,415 | server.py:168 | evaluate_round 2: strategy sampled 3 clients (out of 4)\n",
            "DEBUG:flwr:evaluate_round 2: strategy sampled 3 clients (out of 4)\n",
            "DEBUG flwr 2023-05-22 20:20:25,763 | server.py:182 | evaluate_round 2 received 3 results and 0 failures\n",
            "DEBUG:flwr:evaluate_round 2 received 3 results and 0 failures\n",
            "DEBUG flwr 2023-05-22 20:20:25,766 | server.py:218 | fit_round 3: strategy sampled 4 clients (out of 4)\n",
            "DEBUG:flwr:fit_round 3: strategy sampled 4 clients (out of 4)\n",
            "DEBUG flwr 2023-05-22 20:20:26,710 | server.py:232 | fit_round 3 received 4 results and 0 failures\n",
            "DEBUG:flwr:fit_round 3 received 4 results and 0 failures\n",
            "DEBUG flwr 2023-05-22 20:20:26,732 | server.py:168 | evaluate_round 3: strategy sampled 3 clients (out of 4)\n",
            "DEBUG:flwr:evaluate_round 3: strategy sampled 3 clients (out of 4)\n",
            "DEBUG flwr 2023-05-22 20:20:26,962 | server.py:182 | evaluate_round 3 received 3 results and 0 failures\n",
            "DEBUG:flwr:evaluate_round 3 received 3 results and 0 failures\n",
            "DEBUG flwr 2023-05-22 20:20:26,969 | server.py:218 | fit_round 4: strategy sampled 4 clients (out of 4)\n",
            "DEBUG:flwr:fit_round 4: strategy sampled 4 clients (out of 4)\n"
          ]
        },
        {
          "output_type": "stream",
          "name": "stdout",
          "text": [
            "\u001b[2m\u001b[36m(launch_and_fit pid=1048)\u001b[0m [Client 0] fit, config: {}\u001b[32m [repeated 11x across cluster] (Ray deduplicates logs by default. Set RAY_DEDUP_LOGS=0 to disable log deduplication, or see https://docs.ray.io/en/master/ray-observability/ray-logging.html#log-deduplication for more options.)\u001b[0m\n",
            "\u001b[2m\u001b[36m(launch_and_fit pid=1049)\u001b[0m Epoch 1: train loss 0.007855533622205257, accuracy 0.7770224337185588\u001b[32m [repeated 12x across cluster]\u001b[0m\n"
          ]
        },
        {
          "output_type": "stream",
          "name": "stderr",
          "text": [
            "DEBUG flwr 2023-05-22 20:20:27,967 | server.py:232 | fit_round 4 received 4 results and 0 failures\n",
            "DEBUG:flwr:fit_round 4 received 4 results and 0 failures\n",
            "DEBUG flwr 2023-05-22 20:20:27,986 | server.py:168 | evaluate_round 4: strategy sampled 3 clients (out of 4)\n",
            "DEBUG:flwr:evaluate_round 4: strategy sampled 3 clients (out of 4)\n",
            "DEBUG flwr 2023-05-22 20:20:28,188 | server.py:182 | evaluate_round 4 received 3 results and 0 failures\n",
            "DEBUG:flwr:evaluate_round 4 received 3 results and 0 failures\n",
            "DEBUG flwr 2023-05-22 20:20:28,192 | server.py:218 | fit_round 5: strategy sampled 4 clients (out of 4)\n",
            "DEBUG:flwr:fit_round 5: strategy sampled 4 clients (out of 4)\n"
          ]
        },
        {
          "output_type": "stream",
          "name": "stdout",
          "text": [
            "\u001b[2m\u001b[36m(launch_and_evaluate pid=1048)\u001b[0m [Client 3] evaluate, config: {}\u001b[32m [repeated 10x across cluster]\u001b[0m\n"
          ]
        },
        {
          "output_type": "stream",
          "name": "stderr",
          "text": [
            "DEBUG flwr 2023-05-22 20:20:29,139 | server.py:232 | fit_round 5 received 4 results and 0 failures\n",
            "DEBUG:flwr:fit_round 5 received 4 results and 0 failures\n",
            "DEBUG flwr 2023-05-22 20:20:29,156 | server.py:168 | evaluate_round 5: strategy sampled 3 clients (out of 4)\n",
            "DEBUG:flwr:evaluate_round 5: strategy sampled 3 clients (out of 4)\n",
            "DEBUG flwr 2023-05-22 20:20:29,361 | server.py:182 | evaluate_round 5 received 3 results and 0 failures\n",
            "DEBUG:flwr:evaluate_round 5 received 3 results and 0 failures\n",
            "DEBUG flwr 2023-05-22 20:20:29,366 | server.py:218 | fit_round 6: strategy sampled 4 clients (out of 4)\n",
            "DEBUG:flwr:fit_round 6: strategy sampled 4 clients (out of 4)\n",
            "DEBUG flwr 2023-05-22 20:20:30,319 | server.py:232 | fit_round 6 received 4 results and 0 failures\n",
            "DEBUG:flwr:fit_round 6 received 4 results and 0 failures\n",
            "DEBUG flwr 2023-05-22 20:20:30,340 | server.py:168 | evaluate_round 6: strategy sampled 3 clients (out of 4)\n",
            "DEBUG:flwr:evaluate_round 6: strategy sampled 3 clients (out of 4)\n",
            "DEBUG flwr 2023-05-22 20:20:30,548 | server.py:182 | evaluate_round 6 received 3 results and 0 failures\n",
            "DEBUG:flwr:evaluate_round 6 received 3 results and 0 failures\n",
            "DEBUG flwr 2023-05-22 20:20:30,551 | server.py:218 | fit_round 7: strategy sampled 4 clients (out of 4)\n",
            "DEBUG:flwr:fit_round 7: strategy sampled 4 clients (out of 4)\n",
            "DEBUG flwr 2023-05-22 20:20:31,482 | server.py:232 | fit_round 7 received 4 results and 0 failures\n",
            "DEBUG:flwr:fit_round 7 received 4 results and 0 failures\n",
            "DEBUG flwr 2023-05-22 20:20:31,501 | server.py:168 | evaluate_round 7: strategy sampled 3 clients (out of 4)\n",
            "DEBUG:flwr:evaluate_round 7: strategy sampled 3 clients (out of 4)\n",
            "DEBUG flwr 2023-05-22 20:20:31,704 | server.py:182 | evaluate_round 7 received 3 results and 0 failures\n",
            "DEBUG:flwr:evaluate_round 7 received 3 results and 0 failures\n",
            "DEBUG flwr 2023-05-22 20:20:31,707 | server.py:218 | fit_round 8: strategy sampled 4 clients (out of 4)\n",
            "DEBUG:flwr:fit_round 8: strategy sampled 4 clients (out of 4)\n"
          ]
        },
        {
          "output_type": "stream",
          "name": "stdout",
          "text": [
            "\u001b[2m\u001b[36m(launch_and_fit pid=1049)\u001b[0m [Client 2] fit, config: {}\u001b[32m [repeated 17x across cluster]\u001b[0m\n",
            "\u001b[2m\u001b[36m(launch_and_fit pid=1048)\u001b[0m Epoch 1: train loss 0.005543580278754234, accuracy 0.868116927260367\u001b[32m [repeated 16x across cluster]\u001b[0m\n"
          ]
        },
        {
          "output_type": "stream",
          "name": "stderr",
          "text": [
            "DEBUG flwr 2023-05-22 20:20:33,270 | server.py:232 | fit_round 8 received 4 results and 0 failures\n",
            "DEBUG:flwr:fit_round 8 received 4 results and 0 failures\n",
            "DEBUG flwr 2023-05-22 20:20:33,295 | server.py:168 | evaluate_round 8: strategy sampled 3 clients (out of 4)\n",
            "DEBUG:flwr:evaluate_round 8: strategy sampled 3 clients (out of 4)\n",
            "DEBUG flwr 2023-05-22 20:20:33,583 | server.py:182 | evaluate_round 8 received 3 results and 0 failures\n",
            "DEBUG:flwr:evaluate_round 8 received 3 results and 0 failures\n",
            "DEBUG flwr 2023-05-22 20:20:33,586 | server.py:218 | fit_round 9: strategy sampled 4 clients (out of 4)\n",
            "DEBUG:flwr:fit_round 9: strategy sampled 4 clients (out of 4)\n"
          ]
        },
        {
          "output_type": "stream",
          "name": "stdout",
          "text": [
            "\u001b[2m\u001b[36m(launch_and_evaluate pid=1049)\u001b[0m [Client 2] evaluate, config: {}\u001b[32m [repeated 12x across cluster]\u001b[0m\n"
          ]
        },
        {
          "output_type": "stream",
          "name": "stderr",
          "text": [
            "DEBUG flwr 2023-05-22 20:20:34,503 | server.py:232 | fit_round 9 received 4 results and 0 failures\n",
            "DEBUG:flwr:fit_round 9 received 4 results and 0 failures\n",
            "DEBUG flwr 2023-05-22 20:20:34,525 | server.py:168 | evaluate_round 9: strategy sampled 3 clients (out of 4)\n",
            "DEBUG:flwr:evaluate_round 9: strategy sampled 3 clients (out of 4)\n",
            "DEBUG flwr 2023-05-22 20:20:34,754 | server.py:182 | evaluate_round 9 received 3 results and 0 failures\n",
            "DEBUG:flwr:evaluate_round 9 received 3 results and 0 failures\n",
            "DEBUG flwr 2023-05-22 20:20:34,758 | server.py:218 | fit_round 10: strategy sampled 4 clients (out of 4)\n",
            "DEBUG:flwr:fit_round 10: strategy sampled 4 clients (out of 4)\n",
            "DEBUG flwr 2023-05-22 20:20:35,695 | server.py:232 | fit_round 10 received 4 results and 0 failures\n",
            "DEBUG:flwr:fit_round 10 received 4 results and 0 failures\n",
            "DEBUG flwr 2023-05-22 20:20:35,719 | server.py:168 | evaluate_round 10: strategy sampled 3 clients (out of 4)\n",
            "DEBUG:flwr:evaluate_round 10: strategy sampled 3 clients (out of 4)\n",
            "DEBUG flwr 2023-05-22 20:20:35,991 | server.py:182 | evaluate_round 10 received 3 results and 0 failures\n",
            "DEBUG:flwr:evaluate_round 10 received 3 results and 0 failures\n",
            "DEBUG flwr 2023-05-22 20:20:36,001 | server.py:218 | fit_round 11: strategy sampled 4 clients (out of 4)\n",
            "DEBUG:flwr:fit_round 11: strategy sampled 4 clients (out of 4)\n"
          ]
        },
        {
          "output_type": "stream",
          "name": "stdout",
          "text": [
            "\u001b[2m\u001b[36m(launch_and_fit pid=1048)\u001b[0m [Client 0] fit, config: {}\u001b[32m [repeated 15x across cluster]\u001b[0m\n"
          ]
        },
        {
          "output_type": "stream",
          "name": "stderr",
          "text": [
            "DEBUG flwr 2023-05-22 20:20:37,458 | server.py:232 | fit_round 11 received 4 results and 0 failures\n",
            "DEBUG:flwr:fit_round 11 received 4 results and 0 failures\n",
            "DEBUG flwr 2023-05-22 20:20:37,486 | server.py:168 | evaluate_round 11: strategy sampled 3 clients (out of 4)\n",
            "DEBUG:flwr:evaluate_round 11: strategy sampled 3 clients (out of 4)\n",
            "DEBUG flwr 2023-05-22 20:20:37,811 | server.py:182 | evaluate_round 11 received 3 results and 0 failures\n",
            "DEBUG:flwr:evaluate_round 11 received 3 results and 0 failures\n",
            "DEBUG flwr 2023-05-22 20:20:37,816 | server.py:218 | fit_round 12: strategy sampled 4 clients (out of 4)\n",
            "DEBUG:flwr:fit_round 12: strategy sampled 4 clients (out of 4)\n"
          ]
        },
        {
          "output_type": "stream",
          "name": "stdout",
          "text": [
            "\u001b[2m\u001b[36m(launch_and_fit pid=1048)\u001b[0m Epoch 1: train loss 0.005022453144192696, accuracy 0.8898708361658736\u001b[32m [repeated 15x across cluster]\u001b[0m\n"
          ]
        },
        {
          "output_type": "stream",
          "name": "stderr",
          "text": [
            "DEBUG flwr 2023-05-22 20:20:39,309 | server.py:232 | fit_round 12 received 4 results and 0 failures\n",
            "DEBUG:flwr:fit_round 12 received 4 results and 0 failures\n",
            "DEBUG flwr 2023-05-22 20:20:39,339 | server.py:168 | evaluate_round 12: strategy sampled 3 clients (out of 4)\n",
            "DEBUG:flwr:evaluate_round 12: strategy sampled 3 clients (out of 4)\n"
          ]
        },
        {
          "output_type": "stream",
          "name": "stdout",
          "text": [
            "\u001b[2m\u001b[36m(launch_and_evaluate pid=1048)\u001b[0m [Client 3] evaluate, config: {}\u001b[32m [repeated 9x across cluster]\u001b[0m\n"
          ]
        },
        {
          "output_type": "stream",
          "name": "stderr",
          "text": [
            "DEBUG flwr 2023-05-22 20:20:39,669 | server.py:182 | evaluate_round 12 received 3 results and 0 failures\n",
            "DEBUG:flwr:evaluate_round 12 received 3 results and 0 failures\n",
            "DEBUG flwr 2023-05-22 20:20:39,675 | server.py:218 | fit_round 13: strategy sampled 4 clients (out of 4)\n",
            "DEBUG:flwr:fit_round 13: strategy sampled 4 clients (out of 4)\n",
            "DEBUG flwr 2023-05-22 20:20:41,199 | server.py:232 | fit_round 13 received 4 results and 0 failures\n",
            "DEBUG:flwr:fit_round 13 received 4 results and 0 failures\n",
            "DEBUG flwr 2023-05-22 20:20:41,226 | server.py:168 | evaluate_round 13: strategy sampled 3 clients (out of 4)\n",
            "DEBUG:flwr:evaluate_round 13: strategy sampled 3 clients (out of 4)\n",
            "DEBUG flwr 2023-05-22 20:20:41,549 | server.py:182 | evaluate_round 13 received 3 results and 0 failures\n",
            "DEBUG:flwr:evaluate_round 13 received 3 results and 0 failures\n",
            "DEBUG flwr 2023-05-22 20:20:41,552 | server.py:218 | fit_round 14: strategy sampled 4 clients (out of 4)\n",
            "DEBUG:flwr:fit_round 14: strategy sampled 4 clients (out of 4)\n"
          ]
        },
        {
          "output_type": "stream",
          "name": "stdout",
          "text": [
            "\u001b[2m\u001b[36m(launch_and_fit pid=1048)\u001b[0m [Client 0] fit, config: {}\u001b[32m [repeated 10x across cluster]\u001b[0m\n"
          ]
        },
        {
          "output_type": "stream",
          "name": "stderr",
          "text": [
            "DEBUG flwr 2023-05-22 20:20:42,765 | server.py:232 | fit_round 14 received 4 results and 0 failures\n",
            "DEBUG:flwr:fit_round 14 received 4 results and 0 failures\n",
            "DEBUG flwr 2023-05-22 20:20:42,789 | server.py:168 | evaluate_round 14: strategy sampled 3 clients (out of 4)\n",
            "DEBUG:flwr:evaluate_round 14: strategy sampled 3 clients (out of 4)\n"
          ]
        },
        {
          "output_type": "stream",
          "name": "stdout",
          "text": [
            "\u001b[2m\u001b[36m(launch_and_fit pid=1049)\u001b[0m Epoch 1: train loss 0.0039365412667393684, accuracy 0.9082256968048946\u001b[32m [repeated 11x across cluster]\u001b[0m\n"
          ]
        },
        {
          "output_type": "stream",
          "name": "stderr",
          "text": [
            "DEBUG flwr 2023-05-22 20:20:42,998 | server.py:182 | evaluate_round 14 received 3 results and 0 failures\n",
            "DEBUG:flwr:evaluate_round 14 received 3 results and 0 failures\n",
            "DEBUG flwr 2023-05-22 20:20:43,002 | server.py:218 | fit_round 15: strategy sampled 4 clients (out of 4)\n",
            "DEBUG:flwr:fit_round 15: strategy sampled 4 clients (out of 4)\n",
            "DEBUG flwr 2023-05-22 20:20:43,968 | server.py:232 | fit_round 15 received 4 results and 0 failures\n",
            "DEBUG:flwr:fit_round 15 received 4 results and 0 failures\n",
            "DEBUG flwr 2023-05-22 20:20:43,993 | server.py:168 | evaluate_round 15: strategy sampled 3 clients (out of 4)\n",
            "DEBUG:flwr:evaluate_round 15: strategy sampled 3 clients (out of 4)\n",
            "DEBUG flwr 2023-05-22 20:20:44,204 | server.py:182 | evaluate_round 15 received 3 results and 0 failures\n",
            "DEBUG:flwr:evaluate_round 15 received 3 results and 0 failures\n",
            "DEBUG flwr 2023-05-22 20:20:44,210 | server.py:218 | fit_round 16: strategy sampled 4 clients (out of 4)\n",
            "DEBUG:flwr:fit_round 16: strategy sampled 4 clients (out of 4)\n"
          ]
        },
        {
          "output_type": "stream",
          "name": "stdout",
          "text": [
            "\u001b[2m\u001b[36m(launch_and_evaluate pid=1048)\u001b[0m [Client 3] evaluate, config: {}\u001b[32m [repeated 12x across cluster]\u001b[0m\n"
          ]
        },
        {
          "output_type": "stream",
          "name": "stderr",
          "text": [
            "DEBUG flwr 2023-05-22 20:20:45,124 | server.py:232 | fit_round 16 received 4 results and 0 failures\n",
            "DEBUG:flwr:fit_round 16 received 4 results and 0 failures\n",
            "DEBUG flwr 2023-05-22 20:20:45,146 | server.py:168 | evaluate_round 16: strategy sampled 3 clients (out of 4)\n",
            "DEBUG:flwr:evaluate_round 16: strategy sampled 3 clients (out of 4)\n",
            "DEBUG flwr 2023-05-22 20:20:45,352 | server.py:182 | evaluate_round 16 received 3 results and 0 failures\n",
            "DEBUG:flwr:evaluate_round 16 received 3 results and 0 failures\n",
            "DEBUG flwr 2023-05-22 20:20:45,357 | server.py:218 | fit_round 17: strategy sampled 4 clients (out of 4)\n",
            "DEBUG:flwr:fit_round 17: strategy sampled 4 clients (out of 4)\n",
            "DEBUG flwr 2023-05-22 20:20:46,287 | server.py:232 | fit_round 17 received 4 results and 0 failures\n",
            "DEBUG:flwr:fit_round 17 received 4 results and 0 failures\n",
            "DEBUG flwr 2023-05-22 20:20:46,306 | server.py:168 | evaluate_round 17: strategy sampled 3 clients (out of 4)\n",
            "DEBUG:flwr:evaluate_round 17: strategy sampled 3 clients (out of 4)\n",
            "DEBUG flwr 2023-05-22 20:20:46,512 | server.py:182 | evaluate_round 17 received 3 results and 0 failures\n",
            "DEBUG:flwr:evaluate_round 17 received 3 results and 0 failures\n",
            "DEBUG flwr 2023-05-22 20:20:46,516 | server.py:218 | fit_round 18: strategy sampled 4 clients (out of 4)\n",
            "DEBUG:flwr:fit_round 18: strategy sampled 4 clients (out of 4)\n",
            "DEBUG flwr 2023-05-22 20:20:47,421 | server.py:232 | fit_round 18 received 4 results and 0 failures\n",
            "DEBUG:flwr:fit_round 18 received 4 results and 0 failures\n",
            "DEBUG flwr 2023-05-22 20:20:47,439 | server.py:168 | evaluate_round 18: strategy sampled 3 clients (out of 4)\n",
            "DEBUG:flwr:evaluate_round 18: strategy sampled 3 clients (out of 4)\n",
            "DEBUG flwr 2023-05-22 20:20:47,639 | server.py:182 | evaluate_round 18 received 3 results and 0 failures\n",
            "DEBUG:flwr:evaluate_round 18 received 3 results and 0 failures\n",
            "DEBUG flwr 2023-05-22 20:20:47,643 | server.py:218 | fit_round 19: strategy sampled 4 clients (out of 4)\n",
            "DEBUG:flwr:fit_round 19: strategy sampled 4 clients (out of 4)\n"
          ]
        },
        {
          "output_type": "stream",
          "name": "stdout",
          "text": [
            "\u001b[2m\u001b[36m(launch_and_fit pid=1048)\u001b[0m [Client 0] fit, config: {}\u001b[32m [repeated 18x across cluster]\u001b[0m\n",
            "\u001b[2m\u001b[36m(launch_and_fit pid=1048)\u001b[0m Epoch 1: train loss 0.0037395998369902372, accuracy 0.9211420802175391\u001b[32m [repeated 17x across cluster]\u001b[0m\n"
          ]
        },
        {
          "output_type": "stream",
          "name": "stderr",
          "text": [
            "DEBUG flwr 2023-05-22 20:20:48,531 | server.py:232 | fit_round 19 received 4 results and 0 failures\n",
            "DEBUG:flwr:fit_round 19 received 4 results and 0 failures\n",
            "DEBUG flwr 2023-05-22 20:20:48,554 | server.py:168 | evaluate_round 19: strategy sampled 3 clients (out of 4)\n",
            "DEBUG:flwr:evaluate_round 19: strategy sampled 3 clients (out of 4)\n",
            "DEBUG flwr 2023-05-22 20:20:48,769 | server.py:182 | evaluate_round 19 received 3 results and 0 failures\n",
            "DEBUG:flwr:evaluate_round 19 received 3 results and 0 failures\n",
            "DEBUG flwr 2023-05-22 20:20:48,778 | server.py:218 | fit_round 20: strategy sampled 4 clients (out of 4)\n",
            "DEBUG:flwr:fit_round 20: strategy sampled 4 clients (out of 4)\n",
            "DEBUG flwr 2023-05-22 20:20:49,687 | server.py:232 | fit_round 20 received 4 results and 0 failures\n",
            "DEBUG:flwr:fit_round 20 received 4 results and 0 failures\n",
            "DEBUG flwr 2023-05-22 20:20:49,711 | server.py:168 | evaluate_round 20: strategy sampled 3 clients (out of 4)\n",
            "DEBUG:flwr:evaluate_round 20: strategy sampled 3 clients (out of 4)\n",
            "DEBUG flwr 2023-05-22 20:20:49,917 | server.py:182 | evaluate_round 20 received 3 results and 0 failures\n",
            "DEBUG:flwr:evaluate_round 20 received 3 results and 0 failures\n",
            "DEBUG flwr 2023-05-22 20:20:49,919 | server.py:218 | fit_round 21: strategy sampled 4 clients (out of 4)\n",
            "DEBUG:flwr:fit_round 21: strategy sampled 4 clients (out of 4)\n"
          ]
        },
        {
          "output_type": "stream",
          "name": "stdout",
          "text": [
            "\u001b[2m\u001b[36m(launch_and_evaluate pid=1048)\u001b[0m [Client 0] evaluate, config: {}\u001b[32m [repeated 12x across cluster]\u001b[0m\n"
          ]
        },
        {
          "output_type": "stream",
          "name": "stderr",
          "text": [
            "DEBUG flwr 2023-05-22 20:20:50,833 | server.py:232 | fit_round 21 received 4 results and 0 failures\n",
            "DEBUG:flwr:fit_round 21 received 4 results and 0 failures\n",
            "DEBUG flwr 2023-05-22 20:20:50,851 | server.py:168 | evaluate_round 21: strategy sampled 3 clients (out of 4)\n",
            "DEBUG:flwr:evaluate_round 21: strategy sampled 3 clients (out of 4)\n",
            "DEBUG flwr 2023-05-22 20:20:51,052 | server.py:182 | evaluate_round 21 received 3 results and 0 failures\n",
            "DEBUG:flwr:evaluate_round 21 received 3 results and 0 failures\n",
            "DEBUG flwr 2023-05-22 20:20:51,055 | server.py:218 | fit_round 22: strategy sampled 4 clients (out of 4)\n",
            "DEBUG:flwr:fit_round 22: strategy sampled 4 clients (out of 4)\n",
            "DEBUG flwr 2023-05-22 20:20:51,984 | server.py:232 | fit_round 22 received 4 results and 0 failures\n",
            "DEBUG:flwr:fit_round 22 received 4 results and 0 failures\n",
            "DEBUG flwr 2023-05-22 20:20:52,005 | server.py:168 | evaluate_round 22: strategy sampled 3 clients (out of 4)\n",
            "DEBUG:flwr:evaluate_round 22: strategy sampled 3 clients (out of 4)\n",
            "DEBUG flwr 2023-05-22 20:20:52,229 | server.py:182 | evaluate_round 22 received 3 results and 0 failures\n",
            "DEBUG:flwr:evaluate_round 22 received 3 results and 0 failures\n",
            "DEBUG flwr 2023-05-22 20:20:52,233 | server.py:218 | fit_round 23: strategy sampled 4 clients (out of 4)\n",
            "DEBUG:flwr:fit_round 23: strategy sampled 4 clients (out of 4)\n"
          ]
        },
        {
          "output_type": "stream",
          "name": "stdout",
          "text": [
            "\u001b[2m\u001b[36m(launch_and_fit pid=1049)\u001b[0m [Client 1] fit, config: {}\u001b[32m [repeated 18x across cluster]\u001b[0m\n",
            "\u001b[2m\u001b[36m(launch_and_fit pid=1048)\u001b[0m Epoch 1: train loss 0.004501328803598881, accuracy 0.9129843643779741\u001b[32m [repeated 17x across cluster]\u001b[0m\n"
          ]
        },
        {
          "output_type": "stream",
          "name": "stderr",
          "text": [
            "DEBUG flwr 2023-05-22 20:20:53,573 | server.py:232 | fit_round 23 received 4 results and 0 failures\n",
            "DEBUG:flwr:fit_round 23 received 4 results and 0 failures\n",
            "DEBUG flwr 2023-05-22 20:20:53,601 | server.py:168 | evaluate_round 23: strategy sampled 3 clients (out of 4)\n",
            "DEBUG:flwr:evaluate_round 23: strategy sampled 3 clients (out of 4)\n",
            "DEBUG flwr 2023-05-22 20:20:53,911 | server.py:182 | evaluate_round 23 received 3 results and 0 failures\n",
            "DEBUG:flwr:evaluate_round 23 received 3 results and 0 failures\n",
            "DEBUG flwr 2023-05-22 20:20:53,915 | server.py:218 | fit_round 24: strategy sampled 4 clients (out of 4)\n",
            "DEBUG:flwr:fit_round 24: strategy sampled 4 clients (out of 4)\n"
          ]
        },
        {
          "output_type": "stream",
          "name": "stdout",
          "text": [
            "\u001b[2m\u001b[36m(launch_and_evaluate pid=1048)\u001b[0m [Client 2] evaluate, config: {}\u001b[32m [repeated 12x across cluster]\u001b[0m\n"
          ]
        },
        {
          "output_type": "stream",
          "name": "stderr",
          "text": [
            "DEBUG flwr 2023-05-22 20:20:55,541 | server.py:232 | fit_round 24 received 4 results and 0 failures\n",
            "DEBUG:flwr:fit_round 24 received 4 results and 0 failures\n",
            "DEBUG flwr 2023-05-22 20:20:55,569 | server.py:168 | evaluate_round 24: strategy sampled 3 clients (out of 4)\n",
            "DEBUG:flwr:evaluate_round 24: strategy sampled 3 clients (out of 4)\n",
            "DEBUG flwr 2023-05-22 20:20:55,851 | server.py:182 | evaluate_round 24 received 3 results and 0 failures\n",
            "DEBUG:flwr:evaluate_round 24 received 3 results and 0 failures\n",
            "DEBUG flwr 2023-05-22 20:20:55,858 | server.py:218 | fit_round 25: strategy sampled 4 clients (out of 4)\n",
            "DEBUG:flwr:fit_round 25: strategy sampled 4 clients (out of 4)\n",
            "DEBUG flwr 2023-05-22 20:20:57,481 | server.py:232 | fit_round 25 received 4 results and 0 failures\n",
            "DEBUG:flwr:fit_round 25 received 4 results and 0 failures\n",
            "DEBUG flwr 2023-05-22 20:20:57,513 | server.py:168 | evaluate_round 25: strategy sampled 3 clients (out of 4)\n",
            "DEBUG:flwr:evaluate_round 25: strategy sampled 3 clients (out of 4)\n",
            "DEBUG flwr 2023-05-22 20:20:57,815 | server.py:182 | evaluate_round 25 received 3 results and 0 failures\n",
            "DEBUG:flwr:evaluate_round 25 received 3 results and 0 failures\n",
            "INFO flwr 2023-05-22 20:20:57,821 | server.py:147 | FL finished in 44.21317402400001\n",
            "INFO:flwr:FL finished in 44.21317402400001\n",
            "INFO flwr 2023-05-22 20:20:57,825 | app.py:218 | app_fit: losses_distributed [(1, 0.6693914623069936), (2, 0.8274296094459583), (3, 0.745685740236149), (4, 0.8828337874659401), (5, 0.8683015440508629), (6, 0.8891916439600364), (7, 0.8837420526793822), (8, 0.8801089918256131), (9, 0.8819255222524978), (10, 0.9046321525885558), (11, 0.891008174386921), (12, 0.8937329700272478), (13, 0.9246139872842869), (14, 0.9227974568574024), (15, 0.9209809264305177), (16, 0.9091734786557674), (17, 0.9346049046321525), (18, 0.9255222524977292), (19, 0.919164396003633), (20, 0.9327883742052678), (21, 0.9209809264305177), (22, 0.9382379654859219), (23, 0.9264305177111716), (24, 0.9455040871934605), (25, 0.9227974568574022)]\n",
            "INFO:flwr:app_fit: losses_distributed [(1, 0.6693914623069936), (2, 0.8274296094459583), (3, 0.745685740236149), (4, 0.8828337874659401), (5, 0.8683015440508629), (6, 0.8891916439600364), (7, 0.8837420526793822), (8, 0.8801089918256131), (9, 0.8819255222524978), (10, 0.9046321525885558), (11, 0.891008174386921), (12, 0.8937329700272478), (13, 0.9246139872842869), (14, 0.9227974568574024), (15, 0.9209809264305177), (16, 0.9091734786557674), (17, 0.9346049046321525), (18, 0.9255222524977292), (19, 0.919164396003633), (20, 0.9327883742052678), (21, 0.9209809264305177), (22, 0.9382379654859219), (23, 0.9264305177111716), (24, 0.9455040871934605), (25, 0.9227974568574022)]\n",
            "INFO flwr 2023-05-22 20:20:57,827 | app.py:219 | app_fit: metrics_distributed_fit {}\n",
            "INFO:flwr:app_fit: metrics_distributed_fit {}\n",
            "INFO flwr 2023-05-22 20:20:57,830 | app.py:220 | app_fit: metrics_distributed {}\n",
            "INFO:flwr:app_fit: metrics_distributed {}\n",
            "INFO flwr 2023-05-22 20:20:57,833 | app.py:221 | app_fit: losses_centralized []\n",
            "INFO:flwr:app_fit: losses_centralized []\n",
            "INFO flwr 2023-05-22 20:20:57,838 | app.py:222 | app_fit: metrics_centralized {}\n",
            "INFO:flwr:app_fit: metrics_centralized {}\n"
          ]
        },
        {
          "output_type": "stream",
          "name": "stdout",
          "text": [
            "\u001b[2m\u001b[36m(launch_and_fit pid=1048)\u001b[0m [Client 3] fit, config: {}\u001b[32m [repeated 10x across cluster]\u001b[0m\n"
          ]
        },
        {
          "output_type": "display_data",
          "data": {
            "text/plain": [
              "<Figure size 640x480 with 1 Axes>"
            ],
            "image/png": "[encoded data removed]"
          },
          "metadata": {}
        },
        {
          "output_type": "stream",
          "name": "stderr",
          "text": [
            "INFO flwr 2023-05-22 20:20:58,727 | app.py:146 | Starting Flower simulation, config: ServerConfig(num_rounds=25, round_timeout=None)\n",
            "INFO:flwr:Starting Flower simulation, config: ServerConfig(num_rounds=25, round_timeout=None)\n"
          ]
        },
        {
          "output_type": "stream",
          "name": "stdout",
          "text": [
            "\n",
            "Analyzing Strategy... :  Fedadagrad\n",
            "\u001b[2m\u001b[36m(launch_and_fit pid=1048)\u001b[0m Epoch 1: train loss 0.004389865789562464, accuracy 0.9265805574439157\u001b[32m [repeated 11x across cluster]\u001b[0m\n",
            "\u001b[2m\u001b[36m(launch_and_evaluate pid=1049)\u001b[0m [Client 3] evaluate, config: {}\u001b[32m [repeated 6x across cluster]\u001b[0m\n"
          ]
        },
        {
          "output_type": "stream",
          "name": "stderr",
          "text": [
            "\u001b[2m\u001b[36m(pid=1048)\u001b[0m 2023-05-22 20:20:16.615674: W tensorflow/compiler/tf2tensorrt/utils/py_utils.cc:38] TF-TRT Warning: Could not find TensorRT\n",
            "2023-05-22 20:21:03,695\tINFO worker.py:1625 -- Started a local Ray instance.\n",
            "INFO flwr 2023-05-22 20:21:05,558 | app.py:180 | Flower VCE: Ray initialized with resources: {'object_store_memory': 3877971148.0, 'memory': 7755942299.0, 'GPU': 1.0, 'node:172.28.0.12': 1.0, 'CPU': 2.0}\n",
            "INFO:flwr:Flower VCE: Ray initialized with resources: {'object_store_memory': 3877971148.0, 'memory': 7755942299.0, 'GPU': 1.0, 'node:172.28.0.12': 1.0, 'CPU': 2.0}\n",
            "INFO flwr 2023-05-22 20:21:05,572 | server.py:86 | Initializing global parameters\n",
            "INFO:flwr:Initializing global parameters\n",
            "INFO flwr 2023-05-22 20:21:05,581 | server.py:269 | Using initial parameters provided by strategy\n",
            "INFO:flwr:Using initial parameters provided by strategy\n",
            "INFO flwr 2023-05-22 20:21:05,583 | server.py:88 | Evaluating initial parameters\n",
            "INFO:flwr:Evaluating initial parameters\n",
            "INFO flwr 2023-05-22 20:21:05,585 | server.py:101 | FL starting\n",
            "INFO:flwr:FL starting\n",
            "DEBUG flwr 2023-05-22 20:21:05,588 | server.py:218 | fit_round 1: strategy sampled 4 clients (out of 4)\n",
            "DEBUG:flwr:fit_round 1: strategy sampled 4 clients (out of 4)\n",
            "\u001b[2m\u001b[36m(pid=1962)\u001b[0m 2023-05-22 20:21:07.787903: W tensorflow/compiler/tf2tensorrt/utils/py_utils.cc:38] TF-TRT Warning: Could not find TensorRT\n"
          ]
        },
        {
          "output_type": "stream",
          "name": "stdout",
          "text": [
            "\u001b[2m\u001b[36m(launch_and_fit pid=1963)\u001b[0m [Client 1] fit, config: {}\n",
            "\u001b[2m\u001b[36m(launch_and_fit pid=1963)\u001b[0m Epoch 1: train loss 0.017207147553563118, accuracy 0.5322909585316111\n"
          ]
        },
        {
          "output_type": "stream",
          "name": "stderr",
          "text": [
            "DEBUG flwr 2023-05-22 20:21:15,529 | server.py:232 | fit_round 1 received 4 results and 0 failures\n",
            "DEBUG:flwr:fit_round 1 received 4 results and 0 failures\n",
            "WARNING flwr 2023-05-22 20:21:15,554 | fedavg.py:243 | No fit_metrics_aggregation_fn provided\n",
            "WARNING:flwr:No fit_metrics_aggregation_fn provided\n",
            "DEBUG flwr 2023-05-22 20:21:15,568 | server.py:168 | evaluate_round 1: strategy sampled 3 clients (out of 4)\n",
            "DEBUG:flwr:evaluate_round 1: strategy sampled 3 clients (out of 4)\n",
            "DEBUG flwr 2023-05-22 20:21:15,799 | server.py:182 | evaluate_round 1 received 3 results and 0 failures\n",
            "DEBUG:flwr:evaluate_round 1 received 3 results and 0 failures\n",
            "WARNING flwr 2023-05-22 20:21:15,807 | fedavg.py:274 | No evaluate_metrics_aggregation_fn provided\n",
            "WARNING:flwr:No evaluate_metrics_aggregation_fn provided\n",
            "DEBUG flwr 2023-05-22 20:21:15,812 | server.py:218 | fit_round 2: strategy sampled 4 clients (out of 4)\n",
            "DEBUG:flwr:fit_round 2: strategy sampled 4 clients (out of 4)\n"
          ]
        },
        {
          "output_type": "stream",
          "name": "stdout",
          "text": [
            "\u001b[2m\u001b[36m(launch_and_evaluate pid=1962)\u001b[0m [Client 0] evaluate, config: {}\n"
          ]
        },
        {
          "output_type": "stream",
          "name": "stderr",
          "text": [
            "DEBUG flwr 2023-05-22 20:21:16,924 | server.py:232 | fit_round 2 received 4 results and 0 failures\n",
            "DEBUG:flwr:fit_round 2 received 4 results and 0 failures\n",
            "DEBUG flwr 2023-05-22 20:21:16,954 | server.py:168 | evaluate_round 2: strategy sampled 3 clients (out of 4)\n",
            "DEBUG:flwr:evaluate_round 2: strategy sampled 3 clients (out of 4)\n",
            "DEBUG flwr 2023-05-22 20:21:17,186 | server.py:182 | evaluate_round 2 received 3 results and 0 failures\n",
            "DEBUG:flwr:evaluate_round 2 received 3 results and 0 failures\n",
            "DEBUG flwr 2023-05-22 20:21:17,191 | server.py:218 | fit_round 3: strategy sampled 4 clients (out of 4)\n",
            "DEBUG:flwr:fit_round 3: strategy sampled 4 clients (out of 4)\n",
            "DEBUG flwr 2023-05-22 20:21:18,213 | server.py:232 | fit_round 3 received 4 results and 0 failures\n",
            "DEBUG:flwr:fit_round 3 received 4 results and 0 failures\n",
            "DEBUG flwr 2023-05-22 20:21:18,241 | server.py:168 | evaluate_round 3: strategy sampled 3 clients (out of 4)\n",
            "DEBUG:flwr:evaluate_round 3: strategy sampled 3 clients (out of 4)\n",
            "DEBUG flwr 2023-05-22 20:21:18,450 | server.py:182 | evaluate_round 3 received 3 results and 0 failures\n",
            "DEBUG:flwr:evaluate_round 3 received 3 results and 0 failures\n",
            "DEBUG flwr 2023-05-22 20:21:18,452 | server.py:218 | fit_round 4: strategy sampled 4 clients (out of 4)\n",
            "DEBUG:flwr:fit_round 4: strategy sampled 4 clients (out of 4)\n",
            "DEBUG flwr 2023-05-22 20:21:19,556 | server.py:232 | fit_round 4 received 4 results and 0 failures\n",
            "DEBUG:flwr:fit_round 4 received 4 results and 0 failures\n",
            "DEBUG flwr 2023-05-22 20:21:19,582 | server.py:168 | evaluate_round 4: strategy sampled 3 clients (out of 4)\n",
            "DEBUG:flwr:evaluate_round 4: strategy sampled 3 clients (out of 4)\n",
            "DEBUG flwr 2023-05-22 20:21:20,161 | server.py:182 | evaluate_round 4 received 3 results and 0 failures\n",
            "DEBUG:flwr:evaluate_round 4 received 3 results and 0 failures\n",
            "DEBUG flwr 2023-05-22 20:21:20,166 | server.py:218 | fit_round 5: strategy sampled 4 clients (out of 4)\n",
            "DEBUG:flwr:fit_round 5: strategy sampled 4 clients (out of 4)\n"
          ]
        },
        {
          "output_type": "stream",
          "name": "stdout",
          "text": [
            "\u001b[2m\u001b[36m(launch_and_fit pid=1962)\u001b[0m [Client 0] fit, config: {}\u001b[32m [repeated 15x across cluster]\u001b[0m\n",
            "\u001b[2m\u001b[36m(launch_and_fit pid=1963)\u001b[0m Epoch 1: train loss 50.39259719848633, accuracy 0.2168592794017675\u001b[32m [repeated 15x across cluster]\u001b[0m\n",
            "\u001b[2m\u001b[36m(launch_and_evaluate pid=1963)\u001b[0m [Client 0] evaluate, config: {}\u001b[32m [repeated 11x across cluster]\u001b[0m\n"
          ]
        },
        {
          "output_type": "stream",
          "name": "stderr",
          "text": [
            "DEBUG flwr 2023-05-22 20:21:22,147 | server.py:232 | fit_round 5 received 4 results and 0 failures\n",
            "DEBUG:flwr:fit_round 5 received 4 results and 0 failures\n",
            "DEBUG flwr 2023-05-22 20:21:22,173 | server.py:168 | evaluate_round 5: strategy sampled 3 clients (out of 4)\n",
            "DEBUG:flwr:evaluate_round 5: strategy sampled 3 clients (out of 4)\n",
            "DEBUG flwr 2023-05-22 20:21:22,393 | server.py:182 | evaluate_round 5 received 3 results and 0 failures\n",
            "DEBUG:flwr:evaluate_round 5 received 3 results and 0 failures\n",
            "DEBUG flwr 2023-05-22 20:21:22,397 | server.py:218 | fit_round 6: strategy sampled 4 clients (out of 4)\n",
            "DEBUG:flwr:fit_round 6: strategy sampled 4 clients (out of 4)\n",
            "DEBUG flwr 2023-05-22 20:21:23,459 | server.py:232 | fit_round 6 received 4 results and 0 failures\n",
            "DEBUG:flwr:fit_round 6 received 4 results and 0 failures\n",
            "DEBUG flwr 2023-05-22 20:21:23,487 | server.py:168 | evaluate_round 6: strategy sampled 3 clients (out of 4)\n",
            "DEBUG:flwr:evaluate_round 6: strategy sampled 3 clients (out of 4)\n",
            "DEBUG flwr 2023-05-22 20:21:23,712 | server.py:182 | evaluate_round 6 received 3 results and 0 failures\n",
            "DEBUG:flwr:evaluate_round 6 received 3 results and 0 failures\n",
            "DEBUG flwr 2023-05-22 20:21:23,718 | server.py:218 | fit_round 7: strategy sampled 4 clients (out of 4)\n",
            "DEBUG:flwr:fit_round 7: strategy sampled 4 clients (out of 4)\n",
            "DEBUG flwr 2023-05-22 20:21:25,251 | server.py:232 | fit_round 7 received 4 results and 0 failures\n",
            "DEBUG:flwr:fit_round 7 received 4 results and 0 failures\n",
            "DEBUG flwr 2023-05-22 20:21:25,279 | server.py:168 | evaluate_round 7: strategy sampled 3 clients (out of 4)\n",
            "DEBUG:flwr:evaluate_round 7: strategy sampled 3 clients (out of 4)\n",
            "DEBUG flwr 2023-05-22 20:21:25,564 | server.py:182 | evaluate_round 7 received 3 results and 0 failures\n",
            "DEBUG:flwr:evaluate_round 7 received 3 results and 0 failures\n",
            "DEBUG flwr 2023-05-22 20:21:25,567 | server.py:218 | fit_round 8: strategy sampled 4 clients (out of 4)\n",
            "DEBUG:flwr:fit_round 8: strategy sampled 4 clients (out of 4)\n"
          ]
        },
        {
          "output_type": "stream",
          "name": "stdout",
          "text": [
            "\u001b[2m\u001b[36m(launch_and_fit pid=1962)\u001b[0m [Client 3] fit, config: {}\u001b[32m [repeated 12x across cluster]\u001b[0m\n",
            "\u001b[2m\u001b[36m(launch_and_fit pid=1962)\u001b[0m Epoch 1: train loss 0.3876815438270569, accuracy 0.41332426920462273\u001b[32m [repeated 11x across cluster]\u001b[0m\n",
            "\u001b[2m\u001b[36m(launch_and_evaluate pid=1963)\u001b[0m [Client 0] evaluate, config: {}\u001b[32m [repeated 9x across cluster]\u001b[0m\n"
          ]
        },
        {
          "output_type": "stream",
          "name": "stderr",
          "text": [
            "DEBUG flwr 2023-05-22 20:21:27,521 | server.py:232 | fit_round 8 received 4 results and 0 failures\n",
            "DEBUG:flwr:fit_round 8 received 4 results and 0 failures\n",
            "DEBUG flwr 2023-05-22 20:21:27,558 | server.py:168 | evaluate_round 8: strategy sampled 3 clients (out of 4)\n",
            "DEBUG:flwr:evaluate_round 8: strategy sampled 3 clients (out of 4)\n",
            "DEBUG flwr 2023-05-22 20:21:27,849 | server.py:182 | evaluate_round 8 received 3 results and 0 failures\n",
            "DEBUG:flwr:evaluate_round 8 received 3 results and 0 failures\n",
            "DEBUG flwr 2023-05-22 20:21:27,853 | server.py:218 | fit_round 9: strategy sampled 4 clients (out of 4)\n",
            "DEBUG:flwr:fit_round 9: strategy sampled 4 clients (out of 4)\n",
            "DEBUG flwr 2023-05-22 20:21:29,756 | server.py:232 | fit_round 9 received 4 results and 0 failures\n",
            "DEBUG:flwr:fit_round 9 received 4 results and 0 failures\n",
            "DEBUG flwr 2023-05-22 20:21:29,788 | server.py:168 | evaluate_round 9: strategy sampled 3 clients (out of 4)\n",
            "DEBUG:flwr:evaluate_round 9: strategy sampled 3 clients (out of 4)\n",
            "DEBUG flwr 2023-05-22 20:21:30,118 | server.py:182 | evaluate_round 9 received 3 results and 0 failures\n",
            "DEBUG:flwr:evaluate_round 9 received 3 results and 0 failures\n",
            "DEBUG flwr 2023-05-22 20:21:30,122 | server.py:218 | fit_round 10: strategy sampled 4 clients (out of 4)\n",
            "DEBUG:flwr:fit_round 10: strategy sampled 4 clients (out of 4)\n"
          ]
        },
        {
          "output_type": "stream",
          "name": "stdout",
          "text": [
            "\u001b[2m\u001b[36m(launch_and_fit pid=1962)\u001b[0m [Client 3] fit, config: {}\u001b[32m [repeated 9x across cluster]\u001b[0m\n",
            "\u001b[2m\u001b[36m(launch_and_fit pid=1962)\u001b[0m Epoch 1: train loss 0.2867867648601532, accuracy 0.4371176070700204\u001b[32m [repeated 9x across cluster]\u001b[0m\n"
          ]
        },
        {
          "output_type": "stream",
          "name": "stderr",
          "text": [
            "DEBUG flwr 2023-05-22 20:21:31,512 | server.py:232 | fit_round 10 received 4 results and 0 failures\n",
            "DEBUG:flwr:fit_round 10 received 4 results and 0 failures\n",
            "DEBUG flwr 2023-05-22 20:21:31,536 | server.py:168 | evaluate_round 10: strategy sampled 3 clients (out of 4)\n",
            "DEBUG:flwr:evaluate_round 10: strategy sampled 3 clients (out of 4)\n",
            "DEBUG flwr 2023-05-22 20:21:31,762 | server.py:182 | evaluate_round 10 received 3 results and 0 failures\n",
            "DEBUG:flwr:evaluate_round 10 received 3 results and 0 failures\n",
            "DEBUG flwr 2023-05-22 20:21:31,766 | server.py:218 | fit_round 11: strategy sampled 4 clients (out of 4)\n",
            "DEBUG:flwr:fit_round 11: strategy sampled 4 clients (out of 4)\n"
          ]
        },
        {
          "output_type": "stream",
          "name": "stdout",
          "text": [
            "\u001b[2m\u001b[36m(launch_and_evaluate pid=1963)\u001b[0m [Client 0] evaluate, config: {}\u001b[32m [repeated 6x across cluster]\u001b[0m\n"
          ]
        },
        {
          "output_type": "stream",
          "name": "stderr",
          "text": [
            "DEBUG flwr 2023-05-22 20:21:32,877 | server.py:232 | fit_round 11 received 4 results and 0 failures\n",
            "DEBUG:flwr:fit_round 11 received 4 results and 0 failures\n",
            "DEBUG flwr 2023-05-22 20:21:32,903 | server.py:168 | evaluate_round 11: strategy sampled 3 clients (out of 4)\n",
            "DEBUG:flwr:evaluate_round 11: strategy sampled 3 clients (out of 4)\n",
            "DEBUG flwr 2023-05-22 20:21:33,107 | server.py:182 | evaluate_round 11 received 3 results and 0 failures\n",
            "DEBUG:flwr:evaluate_round 11 received 3 results and 0 failures\n",
            "DEBUG flwr 2023-05-22 20:21:33,110 | server.py:218 | fit_round 12: strategy sampled 4 clients (out of 4)\n",
            "DEBUG:flwr:fit_round 12: strategy sampled 4 clients (out of 4)\n",
            "DEBUG flwr 2023-05-22 20:21:34,205 | server.py:232 | fit_round 12 received 4 results and 0 failures\n",
            "DEBUG:flwr:fit_round 12 received 4 results and 0 failures\n",
            "DEBUG flwr 2023-05-22 20:21:34,231 | server.py:168 | evaluate_round 12: strategy sampled 3 clients (out of 4)\n",
            "DEBUG:flwr:evaluate_round 12: strategy sampled 3 clients (out of 4)\n",
            "DEBUG flwr 2023-05-22 20:21:34,438 | server.py:182 | evaluate_round 12 received 3 results and 0 failures\n",
            "DEBUG:flwr:evaluate_round 12 received 3 results and 0 failures\n",
            "DEBUG flwr 2023-05-22 20:21:34,442 | server.py:218 | fit_round 13: strategy sampled 4 clients (out of 4)\n",
            "DEBUG:flwr:fit_round 13: strategy sampled 4 clients (out of 4)\n",
            "DEBUG flwr 2023-05-22 20:21:35,587 | server.py:232 | fit_round 13 received 4 results and 0 failures\n",
            "DEBUG:flwr:fit_round 13 received 4 results and 0 failures\n",
            "DEBUG flwr 2023-05-22 20:21:35,612 | server.py:168 | evaluate_round 13: strategy sampled 3 clients (out of 4)\n",
            "DEBUG:flwr:evaluate_round 13: strategy sampled 3 clients (out of 4)\n"
          ]
        },
        {
          "output_type": "stream",
          "name": "stdout",
          "text": [
            "\u001b[2m\u001b[36m(launch_and_fit pid=1963)\u001b[0m [Client 1] fit, config: {}\u001b[32m [repeated 15x across cluster]\u001b[0m\n",
            "\u001b[2m\u001b[36m(launch_and_fit pid=1962)\u001b[0m Epoch 1: train loss 0.06935004144906998, accuracy 0.6410605030591434\u001b[32m [repeated 15x across cluster]\u001b[0m\n"
          ]
        },
        {
          "output_type": "stream",
          "name": "stderr",
          "text": [
            "DEBUG flwr 2023-05-22 20:21:35,828 | server.py:182 | evaluate_round 13 received 3 results and 0 failures\n",
            "DEBUG:flwr:evaluate_round 13 received 3 results and 0 failures\n",
            "DEBUG flwr 2023-05-22 20:21:35,832 | server.py:218 | fit_round 14: strategy sampled 4 clients (out of 4)\n",
            "DEBUG:flwr:fit_round 14: strategy sampled 4 clients (out of 4)\n",
            "DEBUG flwr 2023-05-22 20:21:36,891 | server.py:232 | fit_round 14 received 4 results and 0 failures\n",
            "DEBUG:flwr:fit_round 14 received 4 results and 0 failures\n",
            "DEBUG flwr 2023-05-22 20:21:36,919 | server.py:168 | evaluate_round 14: strategy sampled 3 clients (out of 4)\n",
            "DEBUG:flwr:evaluate_round 14: strategy sampled 3 clients (out of 4)\n"
          ]
        },
        {
          "output_type": "stream",
          "name": "stdout",
          "text": [
            "\u001b[2m\u001b[36m(launch_and_evaluate pid=1963)\u001b[0m [Client 1] evaluate, config: {}\u001b[32m [repeated 12x across cluster]\u001b[0m\n"
          ]
        },
        {
          "output_type": "stream",
          "name": "stderr",
          "text": [
            "DEBUG flwr 2023-05-22 20:21:37,145 | server.py:182 | evaluate_round 14 received 3 results and 0 failures\n",
            "DEBUG:flwr:evaluate_round 14 received 3 results and 0 failures\n",
            "DEBUG flwr 2023-05-22 20:21:37,149 | server.py:218 | fit_round 15: strategy sampled 4 clients (out of 4)\n",
            "DEBUG:flwr:fit_round 15: strategy sampled 4 clients (out of 4)\n",
            "DEBUG flwr 2023-05-22 20:21:38,277 | server.py:232 | fit_round 15 received 4 results and 0 failures\n",
            "DEBUG:flwr:fit_round 15 received 4 results and 0 failures\n",
            "DEBUG flwr 2023-05-22 20:21:38,300 | server.py:168 | evaluate_round 15: strategy sampled 3 clients (out of 4)\n",
            "DEBUG:flwr:evaluate_round 15: strategy sampled 3 clients (out of 4)\n",
            "DEBUG flwr 2023-05-22 20:21:38,500 | server.py:182 | evaluate_round 15 received 3 results and 0 failures\n",
            "DEBUG:flwr:evaluate_round 15 received 3 results and 0 failures\n",
            "DEBUG flwr 2023-05-22 20:21:38,506 | server.py:218 | fit_round 16: strategy sampled 4 clients (out of 4)\n",
            "DEBUG:flwr:fit_round 16: strategy sampled 4 clients (out of 4)\n",
            "DEBUG flwr 2023-05-22 20:21:39,508 | server.py:232 | fit_round 16 received 4 results and 0 failures\n",
            "DEBUG:flwr:fit_round 16 received 4 results and 0 failures\n",
            "DEBUG flwr 2023-05-22 20:21:39,537 | server.py:168 | evaluate_round 16: strategy sampled 3 clients (out of 4)\n",
            "DEBUG:flwr:evaluate_round 16: strategy sampled 3 clients (out of 4)\n",
            "DEBUG flwr 2023-05-22 20:21:39,740 | server.py:182 | evaluate_round 16 received 3 results and 0 failures\n",
            "DEBUG:flwr:evaluate_round 16 received 3 results and 0 failures\n",
            "DEBUG flwr 2023-05-22 20:21:39,744 | server.py:218 | fit_round 17: strategy sampled 4 clients (out of 4)\n",
            "DEBUG:flwr:fit_round 17: strategy sampled 4 clients (out of 4)\n",
            "DEBUG flwr 2023-05-22 20:21:40,841 | server.py:232 | fit_round 17 received 4 results and 0 failures\n",
            "DEBUG:flwr:fit_round 17 received 4 results and 0 failures\n",
            "DEBUG flwr 2023-05-22 20:21:40,874 | server.py:168 | evaluate_round 17: strategy sampled 3 clients (out of 4)\n",
            "DEBUG:flwr:evaluate_round 17: strategy sampled 3 clients (out of 4)\n"
          ]
        },
        {
          "output_type": "stream",
          "name": "stdout",
          "text": [
            "\u001b[2m\u001b[36m(launch_and_fit pid=1963)\u001b[0m [Client 3] fit, config: {}\u001b[32m [repeated 16x across cluster]\u001b[0m\n",
            "\u001b[2m\u001b[36m(launch_and_fit pid=1962)\u001b[0m Epoch 1: train loss 0.03267902880907059, accuracy 0.6145479265805575\u001b[32m [repeated 16x across cluster]\u001b[0m\n"
          ]
        },
        {
          "output_type": "stream",
          "name": "stderr",
          "text": [
            "DEBUG flwr 2023-05-22 20:21:41,080 | server.py:182 | evaluate_round 17 received 3 results and 0 failures\n",
            "DEBUG:flwr:evaluate_round 17 received 3 results and 0 failures\n",
            "DEBUG flwr 2023-05-22 20:21:41,085 | server.py:218 | fit_round 18: strategy sampled 4 clients (out of 4)\n",
            "DEBUG:flwr:fit_round 18: strategy sampled 4 clients (out of 4)\n"
          ]
        },
        {
          "output_type": "stream",
          "name": "stdout",
          "text": [
            "\u001b[2m\u001b[36m(launch_and_evaluate pid=1963)\u001b[0m [Client 3] evaluate, config: {}\u001b[32m [repeated 12x across cluster]\u001b[0m\n"
          ]
        },
        {
          "output_type": "stream",
          "name": "stderr",
          "text": [
            "DEBUG flwr 2023-05-22 20:21:42,931 | server.py:232 | fit_round 18 received 4 results and 0 failures\n",
            "DEBUG:flwr:fit_round 18 received 4 results and 0 failures\n",
            "DEBUG flwr 2023-05-22 20:21:42,975 | server.py:168 | evaluate_round 18: strategy sampled 3 clients (out of 4)\n",
            "DEBUG:flwr:evaluate_round 18: strategy sampled 3 clients (out of 4)\n",
            "DEBUG flwr 2023-05-22 20:21:43,274 | server.py:182 | evaluate_round 18 received 3 results and 0 failures\n",
            "DEBUG:flwr:evaluate_round 18 received 3 results and 0 failures\n",
            "DEBUG flwr 2023-05-22 20:21:43,282 | server.py:218 | fit_round 19: strategy sampled 4 clients (out of 4)\n",
            "DEBUG:flwr:fit_round 19: strategy sampled 4 clients (out of 4)\n",
            "DEBUG flwr 2023-05-22 20:21:45,328 | server.py:232 | fit_round 19 received 4 results and 0 failures\n",
            "DEBUG:flwr:fit_round 19 received 4 results and 0 failures\n",
            "DEBUG flwr 2023-05-22 20:21:45,356 | server.py:168 | evaluate_round 19: strategy sampled 3 clients (out of 4)\n",
            "DEBUG:flwr:evaluate_round 19: strategy sampled 3 clients (out of 4)\n",
            "DEBUG flwr 2023-05-22 20:21:45,662 | server.py:182 | evaluate_round 19 received 3 results and 0 failures\n",
            "DEBUG:flwr:evaluate_round 19 received 3 results and 0 failures\n",
            "DEBUG flwr 2023-05-22 20:21:45,669 | server.py:218 | fit_round 20: strategy sampled 4 clients (out of 4)\n",
            "DEBUG:flwr:fit_round 20: strategy sampled 4 clients (out of 4)\n"
          ]
        },
        {
          "output_type": "stream",
          "name": "stdout",
          "text": [
            "\u001b[2m\u001b[36m(launch_and_fit pid=1962)\u001b[0m [Client 3] fit, config: {}\u001b[32m [repeated 9x across cluster]\u001b[0m\n",
            "\u001b[2m\u001b[36m(launch_and_fit pid=1962)\u001b[0m Epoch 1: train loss 0.0179525688290596, accuracy 0.6981645139360979\u001b[32m [repeated 9x across cluster]\u001b[0m\n"
          ]
        },
        {
          "output_type": "stream",
          "name": "stderr",
          "text": [
            "DEBUG flwr 2023-05-22 20:21:47,544 | server.py:232 | fit_round 20 received 4 results and 0 failures\n",
            "DEBUG:flwr:fit_round 20 received 4 results and 0 failures\n",
            "DEBUG flwr 2023-05-22 20:21:47,578 | server.py:168 | evaluate_round 20: strategy sampled 3 clients (out of 4)\n",
            "DEBUG:flwr:evaluate_round 20: strategy sampled 3 clients (out of 4)\n",
            "DEBUG flwr 2023-05-22 20:21:47,813 | server.py:182 | evaluate_round 20 received 3 results and 0 failures\n",
            "DEBUG:flwr:evaluate_round 20 received 3 results and 0 failures\n",
            "DEBUG flwr 2023-05-22 20:21:47,820 | server.py:218 | fit_round 21: strategy sampled 4 clients (out of 4)\n",
            "DEBUG:flwr:fit_round 21: strategy sampled 4 clients (out of 4)\n"
          ]
        },
        {
          "output_type": "stream",
          "name": "stdout",
          "text": [
            "\u001b[2m\u001b[36m(launch_and_evaluate pid=1963)\u001b[0m [Client 0] evaluate, config: {}\u001b[32m [repeated 6x across cluster]\u001b[0m\n"
          ]
        },
        {
          "output_type": "stream",
          "name": "stderr",
          "text": [
            "DEBUG flwr 2023-05-22 20:21:48,967 | server.py:232 | fit_round 21 received 4 results and 0 failures\n",
            "DEBUG:flwr:fit_round 21 received 4 results and 0 failures\n",
            "DEBUG flwr 2023-05-22 20:21:48,990 | server.py:168 | evaluate_round 21: strategy sampled 3 clients (out of 4)\n",
            "DEBUG:flwr:evaluate_round 21: strategy sampled 3 clients (out of 4)\n",
            "DEBUG flwr 2023-05-22 20:21:49,204 | server.py:182 | evaluate_round 21 received 3 results and 0 failures\n",
            "DEBUG:flwr:evaluate_round 21 received 3 results and 0 failures\n",
            "DEBUG flwr 2023-05-22 20:21:49,210 | server.py:218 | fit_round 22: strategy sampled 4 clients (out of 4)\n",
            "DEBUG:flwr:fit_round 22: strategy sampled 4 clients (out of 4)\n",
            "DEBUG flwr 2023-05-22 20:21:50,266 | server.py:232 | fit_round 22 received 4 results and 0 failures\n",
            "DEBUG:flwr:fit_round 22 received 4 results and 0 failures\n",
            "DEBUG flwr 2023-05-22 20:21:50,301 | server.py:168 | evaluate_round 22: strategy sampled 3 clients (out of 4)\n",
            "DEBUG:flwr:evaluate_round 22: strategy sampled 3 clients (out of 4)\n",
            "DEBUG flwr 2023-05-22 20:21:50,528 | server.py:182 | evaluate_round 22 received 3 results and 0 failures\n",
            "DEBUG:flwr:evaluate_round 22 received 3 results and 0 failures\n",
            "DEBUG flwr 2023-05-22 20:21:50,532 | server.py:218 | fit_round 23: strategy sampled 4 clients (out of 4)\n",
            "DEBUG:flwr:fit_round 23: strategy sampled 4 clients (out of 4)\n"
          ]
        },
        {
          "output_type": "stream",
          "name": "stdout",
          "text": [
            "\u001b[2m\u001b[36m(launch_and_fit pid=1963)\u001b[0m [Client 1] fit, config: {}\u001b[32m [repeated 13x across cluster]\u001b[0m\n",
            "\u001b[2m\u001b[36m(launch_and_fit pid=1962)\u001b[0m Epoch 1: train loss 0.009075745940208435, accuracy 0.7940176750509857\u001b[32m [repeated 13x across cluster]\u001b[0m\n"
          ]
        },
        {
          "output_type": "stream",
          "name": "stderr",
          "text": [
            "DEBUG flwr 2023-05-22 20:21:51,669 | server.py:232 | fit_round 23 received 4 results and 0 failures\n",
            "DEBUG:flwr:fit_round 23 received 4 results and 0 failures\n",
            "DEBUG flwr 2023-05-22 20:21:51,694 | server.py:168 | evaluate_round 23: strategy sampled 3 clients (out of 4)\n",
            "DEBUG:flwr:evaluate_round 23: strategy sampled 3 clients (out of 4)\n",
            "DEBUG flwr 2023-05-22 20:21:51,930 | server.py:182 | evaluate_round 23 received 3 results and 0 failures\n",
            "DEBUG:flwr:evaluate_round 23 received 3 results and 0 failures\n",
            "DEBUG flwr 2023-05-22 20:21:51,935 | server.py:218 | fit_round 24: strategy sampled 4 clients (out of 4)\n",
            "DEBUG:flwr:fit_round 24: strategy sampled 4 clients (out of 4)\n"
          ]
        },
        {
          "output_type": "stream",
          "name": "stdout",
          "text": [
            "\u001b[2m\u001b[36m(launch_and_evaluate pid=1963)\u001b[0m [Client 0] evaluate, config: {}\u001b[32m [repeated 12x across cluster]\u001b[0m\n"
          ]
        },
        {
          "output_type": "stream",
          "name": "stderr",
          "text": [
            "DEBUG flwr 2023-05-22 20:21:52,992 | server.py:232 | fit_round 24 received 4 results and 0 failures\n",
            "DEBUG:flwr:fit_round 24 received 4 results and 0 failures\n",
            "DEBUG flwr 2023-05-22 20:21:53,017 | server.py:168 | evaluate_round 24: strategy sampled 3 clients (out of 4)\n",
            "DEBUG:flwr:evaluate_round 24: strategy sampled 3 clients (out of 4)\n",
            "DEBUG flwr 2023-05-22 20:21:53,239 | server.py:182 | evaluate_round 24 received 3 results and 0 failures\n",
            "DEBUG:flwr:evaluate_round 24 received 3 results and 0 failures\n",
            "DEBUG flwr 2023-05-22 20:21:53,243 | server.py:218 | fit_round 25: strategy sampled 4 clients (out of 4)\n",
            "DEBUG:flwr:fit_round 25: strategy sampled 4 clients (out of 4)\n",
            "DEBUG flwr 2023-05-22 20:21:54,385 | server.py:232 | fit_round 25 received 4 results and 0 failures\n",
            "DEBUG:flwr:fit_round 25 received 4 results and 0 failures\n",
            "DEBUG flwr 2023-05-22 20:21:54,418 | server.py:168 | evaluate_round 25: strategy sampled 3 clients (out of 4)\n",
            "DEBUG:flwr:evaluate_round 25: strategy sampled 3 clients (out of 4)\n",
            "DEBUG flwr 2023-05-22 20:21:54,644 | server.py:182 | evaluate_round 25 received 3 results and 0 failures\n",
            "DEBUG:flwr:evaluate_round 25 received 3 results and 0 failures\n",
            "INFO flwr 2023-05-22 20:21:54,650 | server.py:147 | FL finished in 49.061987894\n",
            "INFO:flwr:FL finished in 49.061987894\n",
            "INFO flwr 2023-05-22 20:21:54,653 | app.py:218 | app_fit: losses_distributed [(1, 0.33787465940054495), (2, 0.17801998183469572), (3, 0.15349682107175297), (4, 0.3796548592188919), (5, 0.24704813805631243), (6, 0.34877384196185285), (7, 0.329700272479564), (8, 0.34332425068119893), (9, 0.20254314259763853), (10, 0.4741144414168937), (11, 0.33514986376021794), (12, 0.4877384196185286), (13, 0.4323342415985468), (14, 0.4096276112624887), (15, 0.43415077202543145), (16, 0.39327883742052683), (17, 0.4405086285195277), (18, 0.4577656675749318), (19, 0.4486830154405086), (20, 0.5131698455949137), (21, 0.4632152588555858), (22, 0.5794732061762035), (23, 0.5949137148047229), (24, 0.7084468664850135), (25, 0.6521344232515894)]\n",
            "INFO:flwr:app_fit: losses_distributed [(1, 0.33787465940054495), (2, 0.17801998183469572), (3, 0.15349682107175297), (4, 0.3796548592188919), (5, 0.24704813805631243), (6, 0.34877384196185285), (7, 0.329700272479564), (8, 0.34332425068119893), (9, 0.20254314259763853), (10, 0.4741144414168937), (11, 0.33514986376021794), (12, 0.4877384196185286), (13, 0.4323342415985468), (14, 0.4096276112624887), (15, 0.43415077202543145), (16, 0.39327883742052683), (17, 0.4405086285195277), (18, 0.4577656675749318), (19, 0.4486830154405086), (20, 0.5131698455949137), (21, 0.4632152588555858), (22, 0.5794732061762035), (23, 0.5949137148047229), (24, 0.7084468664850135), (25, 0.6521344232515894)]\n",
            "INFO flwr 2023-05-22 20:21:54,655 | app.py:219 | app_fit: metrics_distributed_fit {}\n",
            "INFO:flwr:app_fit: metrics_distributed_fit {}\n",
            "INFO flwr 2023-05-22 20:21:54,660 | app.py:220 | app_fit: metrics_distributed {}\n",
            "INFO:flwr:app_fit: metrics_distributed {}\n",
            "INFO flwr 2023-05-22 20:21:54,667 | app.py:221 | app_fit: losses_centralized []\n",
            "INFO:flwr:app_fit: losses_centralized []\n",
            "INFO flwr 2023-05-22 20:21:54,671 | app.py:222 | app_fit: metrics_centralized {}\n",
            "INFO:flwr:app_fit: metrics_centralized {}\n"
          ]
        },
        {
          "output_type": "display_data",
          "data": {
            "text/plain": [
              "<Figure size 640x480 with 1 Axes>"
            ],
            "image/png": "[encoded data removed]"
          },
          "metadata": {}
        },
        {
          "output_type": "stream",
          "name": "stderr",
          "text": [
            "INFO flwr 2023-05-22 20:21:55,243 | app.py:146 | Starting Flower simulation, config: ServerConfig(num_rounds=25, round_timeout=None)\n",
            "INFO:flwr:Starting Flower simulation, config: ServerConfig(num_rounds=25, round_timeout=None)\n"
          ]
        },
        {
          "output_type": "stream",
          "name": "stdout",
          "text": [
            "\n",
            "Analyzing Strategy... :  Fedadam\n",
            "\u001b[2m\u001b[36m(launch_and_fit pid=1963)\u001b[0m [Client 1] fit, config: {}\u001b[32m [repeated 10x across cluster]\u001b[0m\n",
            "\u001b[2m\u001b[36m(launch_and_fit pid=1963)\u001b[0m Epoch 1: train loss 0.007753181736916304, accuracy 0.8307273963290279\u001b[32m [repeated 11x across cluster]\u001b[0m\n",
            "\u001b[2m\u001b[36m(launch_and_evaluate pid=1963)\u001b[0m [Client 2] evaluate, config: {}\u001b[32m [repeated 6x across cluster]\u001b[0m\n"
          ]
        },
        {
          "output_type": "stream",
          "name": "stderr",
          "text": [
            "\u001b[2m\u001b[36m(pid=1963)\u001b[0m 2023-05-22 20:21:07.787903: W tensorflow/compiler/tf2tensorrt/utils/py_utils.cc:38] TF-TRT Warning: Could not find TensorRT\n",
            "2023-05-22 20:22:00,117\tINFO worker.py:1625 -- Started a local Ray instance.\n",
            "INFO flwr 2023-05-22 20:22:02,477 | app.py:180 | Flower VCE: Ray initialized with resources: {'object_store_memory': 3872367820.0, 'node:172.28.0.12': 1.0, 'GPU': 1.0, 'CPU': 2.0, 'memory': 7744735643.0}\n",
            "INFO:flwr:Flower VCE: Ray initialized with resources: {'object_store_memory': 3872367820.0, 'node:172.28.0.12': 1.0, 'GPU': 1.0, 'CPU': 2.0, 'memory': 7744735643.0}\n",
            "INFO flwr 2023-05-22 20:22:02,487 | server.py:86 | Initializing global parameters\n",
            "INFO:flwr:Initializing global parameters\n",
            "INFO flwr 2023-05-22 20:22:02,492 | server.py:269 | Using initial parameters provided by strategy\n",
            "INFO:flwr:Using initial parameters provided by strategy\n",
            "INFO flwr 2023-05-22 20:22:02,498 | server.py:88 | Evaluating initial parameters\n",
            "INFO:flwr:Evaluating initial parameters\n",
            "INFO flwr 2023-05-22 20:22:02,500 | server.py:101 | FL starting\n",
            "INFO:flwr:FL starting\n",
            "DEBUG flwr 2023-05-22 20:22:02,507 | server.py:218 | fit_round 1: strategy sampled 4 clients (out of 4)\n",
            "DEBUG:flwr:fit_round 1: strategy sampled 4 clients (out of 4)\n",
            "\u001b[2m\u001b[36m(pid=2885)\u001b[0m 2023-05-22 20:22:04.984895: W tensorflow/compiler/tf2tensorrt/utils/py_utils.cc:38] TF-TRT Warning: Could not find TensorRT\n"
          ]
        },
        {
          "output_type": "stream",
          "name": "stdout",
          "text": [
            "\u001b[2m\u001b[36m(launch_and_fit pid=2885)\u001b[0m [Client 1] fit, config: {}\n",
            "\u001b[2m\u001b[36m(launch_and_fit pid=2886)\u001b[0m Epoch 1: train loss 0.016593214124441147, accuracy 0.5825968728755948\n"
          ]
        },
        {
          "output_type": "stream",
          "name": "stderr",
          "text": [
            "DEBUG flwr 2023-05-22 20:22:10,337 | server.py:232 | fit_round 1 received 4 results and 0 failures\n",
            "DEBUG:flwr:fit_round 1 received 4 results and 0 failures\n",
            "WARNING flwr 2023-05-22 20:22:10,362 | fedavg.py:243 | No fit_metrics_aggregation_fn provided\n",
            "WARNING:flwr:No fit_metrics_aggregation_fn provided\n",
            "DEBUG flwr 2023-05-22 20:22:10,379 | server.py:168 | evaluate_round 1: strategy sampled 3 clients (out of 4)\n",
            "DEBUG:flwr:evaluate_round 1: strategy sampled 3 clients (out of 4)\n",
            "DEBUG flwr 2023-05-22 20:22:10,613 | server.py:182 | evaluate_round 1 received 3 results and 0 failures\n",
            "DEBUG:flwr:evaluate_round 1 received 3 results and 0 failures\n",
            "WARNING flwr 2023-05-22 20:22:10,615 | fedavg.py:274 | No evaluate_metrics_aggregation_fn provided\n",
            "WARNING:flwr:No evaluate_metrics_aggregation_fn provided\n",
            "DEBUG flwr 2023-05-22 20:22:10,618 | server.py:218 | fit_round 2: strategy sampled 4 clients (out of 4)\n",
            "DEBUG:flwr:fit_round 2: strategy sampled 4 clients (out of 4)\n"
          ]
        },
        {
          "output_type": "stream",
          "name": "stdout",
          "text": [
            "\u001b[2m\u001b[36m(launch_and_evaluate pid=2885)\u001b[0m [Client 1] evaluate, config: {}\n"
          ]
        },
        {
          "output_type": "stream",
          "name": "stderr",
          "text": [
            "DEBUG flwr 2023-05-22 20:22:11,858 | server.py:232 | fit_round 2 received 4 results and 0 failures\n",
            "DEBUG:flwr:fit_round 2 received 4 results and 0 failures\n",
            "DEBUG flwr 2023-05-22 20:22:11,886 | server.py:168 | evaluate_round 2: strategy sampled 3 clients (out of 4)\n",
            "DEBUG:flwr:evaluate_round 2: strategy sampled 3 clients (out of 4)\n",
            "DEBUG flwr 2023-05-22 20:22:12,116 | server.py:182 | evaluate_round 2 received 3 results and 0 failures\n",
            "DEBUG:flwr:evaluate_round 2 received 3 results and 0 failures\n",
            "DEBUG flwr 2023-05-22 20:22:12,123 | server.py:218 | fit_round 3: strategy sampled 4 clients (out of 4)\n",
            "DEBUG:flwr:fit_round 3: strategy sampled 4 clients (out of 4)\n",
            "DEBUG flwr 2023-05-22 20:22:13,156 | server.py:232 | fit_round 3 received 4 results and 0 failures\n",
            "DEBUG:flwr:fit_round 3 received 4 results and 0 failures\n",
            "DEBUG flwr 2023-05-22 20:22:13,184 | server.py:168 | evaluate_round 3: strategy sampled 3 clients (out of 4)\n",
            "DEBUG:flwr:evaluate_round 3: strategy sampled 3 clients (out of 4)\n",
            "DEBUG flwr 2023-05-22 20:22:13,486 | server.py:182 | evaluate_round 3 received 3 results and 0 failures\n",
            "DEBUG:flwr:evaluate_round 3 received 3 results and 0 failures\n",
            "DEBUG flwr 2023-05-22 20:22:13,489 | server.py:218 | fit_round 4: strategy sampled 4 clients (out of 4)\n",
            "DEBUG:flwr:fit_round 4: strategy sampled 4 clients (out of 4)\n"
          ]
        },
        {
          "output_type": "stream",
          "name": "stdout",
          "text": [
            "\u001b[2m\u001b[36m(launch_and_fit pid=2885)\u001b[0m [Client 3] fit, config: {}\u001b[32m [repeated 15x across cluster]\u001b[0m\n"
          ]
        },
        {
          "output_type": "stream",
          "name": "stderr",
          "text": [
            "DEBUG flwr 2023-05-22 20:22:15,221 | server.py:232 | fit_round 4 received 4 results and 0 failures\n",
            "DEBUG:flwr:fit_round 4 received 4 results and 0 failures\n",
            "DEBUG flwr 2023-05-22 20:22:15,266 | server.py:168 | evaluate_round 4: strategy sampled 3 clients (out of 4)\n",
            "DEBUG:flwr:evaluate_round 4: strategy sampled 3 clients (out of 4)\n"
          ]
        },
        {
          "output_type": "stream",
          "name": "stdout",
          "text": [
            "\u001b[2m\u001b[36m(launch_and_fit pid=2885)\u001b[0m Epoch 1: train loss 276.0737609863281, accuracy 0.1991842284160435\u001b[32m [repeated 14x across cluster]\u001b[0m\n"
          ]
        },
        {
          "output_type": "stream",
          "name": "stderr",
          "text": [
            "DEBUG flwr 2023-05-22 20:22:15,572 | server.py:182 | evaluate_round 4 received 3 results and 0 failures\n",
            "DEBUG:flwr:evaluate_round 4 received 3 results and 0 failures\n",
            "DEBUG flwr 2023-05-22 20:22:15,576 | server.py:218 | fit_round 5: strategy sampled 4 clients (out of 4)\n",
            "DEBUG:flwr:fit_round 5: strategy sampled 4 clients (out of 4)\n"
          ]
        },
        {
          "output_type": "stream",
          "name": "stdout",
          "text": [
            "\u001b[2m\u001b[36m(launch_and_evaluate pid=2885)\u001b[0m [Client 3] evaluate, config: {}\u001b[32m [repeated 10x across cluster]\u001b[0m\n"
          ]
        },
        {
          "output_type": "stream",
          "name": "stderr",
          "text": [
            "DEBUG flwr 2023-05-22 20:22:17,439 | server.py:232 | fit_round 5 received 4 results and 0 failures\n",
            "DEBUG:flwr:fit_round 5 received 4 results and 0 failures\n",
            "DEBUG flwr 2023-05-22 20:22:17,471 | server.py:168 | evaluate_round 5: strategy sampled 3 clients (out of 4)\n",
            "DEBUG:flwr:evaluate_round 5: strategy sampled 3 clients (out of 4)\n",
            "DEBUG flwr 2023-05-22 20:22:17,759 | server.py:182 | evaluate_round 5 received 3 results and 0 failures\n",
            "DEBUG:flwr:evaluate_round 5 received 3 results and 0 failures\n",
            "DEBUG flwr 2023-05-22 20:22:17,762 | server.py:218 | fit_round 6: strategy sampled 4 clients (out of 4)\n",
            "DEBUG:flwr:fit_round 6: strategy sampled 4 clients (out of 4)\n",
            "DEBUG flwr 2023-05-22 20:22:19,648 | server.py:232 | fit_round 6 received 4 results and 0 failures\n",
            "DEBUG:flwr:fit_round 6 received 4 results and 0 failures\n",
            "DEBUG flwr 2023-05-22 20:22:19,679 | server.py:168 | evaluate_round 6: strategy sampled 3 clients (out of 4)\n",
            "DEBUG:flwr:evaluate_round 6: strategy sampled 3 clients (out of 4)\n",
            "DEBUG flwr 2023-05-22 20:22:19,888 | server.py:182 | evaluate_round 6 received 3 results and 0 failures\n",
            "DEBUG:flwr:evaluate_round 6 received 3 results and 0 failures\n",
            "DEBUG flwr 2023-05-22 20:22:19,891 | server.py:218 | fit_round 7: strategy sampled 4 clients (out of 4)\n",
            "DEBUG:flwr:fit_round 7: strategy sampled 4 clients (out of 4)\n"
          ]
        },
        {
          "output_type": "stream",
          "name": "stdout",
          "text": [
            "\u001b[2m\u001b[36m(launch_and_fit pid=2885)\u001b[0m [Client 1] fit, config: {}\u001b[32m [repeated 8x across cluster]\u001b[0m\n",
            "\u001b[2m\u001b[36m(launch_and_fit pid=2885)\u001b[0m Epoch 1: train loss 23.387998580932617, accuracy 0.3392250169952413\u001b[32m [repeated 9x across cluster]\u001b[0m\n",
            "\u001b[2m\u001b[36m(launch_and_evaluate pid=2886)\u001b[0m [Client 3] evaluate, config: {}\u001b[32m [repeated 7x across cluster]\u001b[0m\n"
          ]
        },
        {
          "output_type": "stream",
          "name": "stderr",
          "text": [
            "DEBUG flwr 2023-05-22 20:22:20,975 | server.py:232 | fit_round 7 received 4 results and 0 failures\n",
            "DEBUG:flwr:fit_round 7 received 4 results and 0 failures\n",
            "DEBUG flwr 2023-05-22 20:22:21,003 | server.py:168 | evaluate_round 7: strategy sampled 3 clients (out of 4)\n",
            "DEBUG:flwr:evaluate_round 7: strategy sampled 3 clients (out of 4)\n",
            "DEBUG flwr 2023-05-22 20:22:21,207 | server.py:182 | evaluate_round 7 received 3 results and 0 failures\n",
            "DEBUG:flwr:evaluate_round 7 received 3 results and 0 failures\n",
            "DEBUG flwr 2023-05-22 20:22:21,212 | server.py:218 | fit_round 8: strategy sampled 4 clients (out of 4)\n",
            "DEBUG:flwr:fit_round 8: strategy sampled 4 clients (out of 4)\n",
            "DEBUG flwr 2023-05-22 20:22:22,273 | server.py:232 | fit_round 8 received 4 results and 0 failures\n",
            "DEBUG:flwr:fit_round 8 received 4 results and 0 failures\n",
            "DEBUG flwr 2023-05-22 20:22:22,300 | server.py:168 | evaluate_round 8: strategy sampled 3 clients (out of 4)\n",
            "DEBUG:flwr:evaluate_round 8: strategy sampled 3 clients (out of 4)\n",
            "DEBUG flwr 2023-05-22 20:22:22,514 | server.py:182 | evaluate_round 8 received 3 results and 0 failures\n",
            "DEBUG:flwr:evaluate_round 8 received 3 results and 0 failures\n",
            "DEBUG flwr 2023-05-22 20:22:22,518 | server.py:218 | fit_round 9: strategy sampled 4 clients (out of 4)\n",
            "DEBUG:flwr:fit_round 9: strategy sampled 4 clients (out of 4)\n",
            "DEBUG flwr 2023-05-22 20:22:23,563 | server.py:232 | fit_round 9 received 4 results and 0 failures\n",
            "DEBUG:flwr:fit_round 9 received 4 results and 0 failures\n",
            "DEBUG flwr 2023-05-22 20:22:23,595 | server.py:168 | evaluate_round 9: strategy sampled 3 clients (out of 4)\n",
            "DEBUG:flwr:evaluate_round 9: strategy sampled 3 clients (out of 4)\n",
            "DEBUG flwr 2023-05-22 20:22:23,815 | server.py:182 | evaluate_round 9 received 3 results and 0 failures\n",
            "DEBUG:flwr:evaluate_round 9 received 3 results and 0 failures\n",
            "DEBUG flwr 2023-05-22 20:22:23,818 | server.py:218 | fit_round 10: strategy sampled 4 clients (out of 4)\n",
            "DEBUG:flwr:fit_round 10: strategy sampled 4 clients (out of 4)\n",
            "DEBUG flwr 2023-05-22 20:22:24,971 | server.py:232 | fit_round 10 received 4 results and 0 failures\n",
            "DEBUG:flwr:fit_round 10 received 4 results and 0 failures\n",
            "DEBUG flwr 2023-05-22 20:22:25,004 | server.py:168 | evaluate_round 10: strategy sampled 3 clients (out of 4)\n",
            "DEBUG:flwr:evaluate_round 10: strategy sampled 3 clients (out of 4)\n"
          ]
        },
        {
          "output_type": "stream",
          "name": "stdout",
          "text": [
            "\u001b[2m\u001b[36m(launch_and_fit pid=2886)\u001b[0m [Client 0] fit, config: {}\u001b[32m [repeated 16x across cluster]\u001b[0m\n"
          ]
        },
        {
          "output_type": "stream",
          "name": "stderr",
          "text": [
            "DEBUG flwr 2023-05-22 20:22:25,234 | server.py:182 | evaluate_round 10 received 3 results and 0 failures\n",
            "DEBUG:flwr:evaluate_round 10 received 3 results and 0 failures\n",
            "DEBUG flwr 2023-05-22 20:22:25,241 | server.py:218 | fit_round 11: strategy sampled 4 clients (out of 4)\n",
            "DEBUG:flwr:fit_round 11: strategy sampled 4 clients (out of 4)\n"
          ]
        },
        {
          "output_type": "stream",
          "name": "stdout",
          "text": [
            "\u001b[2m\u001b[36m(launch_and_fit pid=2886)\u001b[0m Epoch 1: train loss 12.10918140411377, accuracy 0.5112168592794017\u001b[32m [repeated 16x across cluster]\u001b[0m\n",
            "\u001b[2m\u001b[36m(launch_and_evaluate pid=2886)\u001b[0m [Client 3] evaluate, config: {}\u001b[32m [repeated 12x across cluster]\u001b[0m\n"
          ]
        },
        {
          "output_type": "stream",
          "name": "stderr",
          "text": [
            "DEBUG flwr 2023-05-22 20:22:26,322 | server.py:232 | fit_round 11 received 4 results and 0 failures\n",
            "DEBUG:flwr:fit_round 11 received 4 results and 0 failures\n",
            "DEBUG flwr 2023-05-22 20:22:26,354 | server.py:168 | evaluate_round 11: strategy sampled 3 clients (out of 4)\n",
            "DEBUG:flwr:evaluate_round 11: strategy sampled 3 clients (out of 4)\n",
            "DEBUG flwr 2023-05-22 20:22:26,580 | server.py:182 | evaluate_round 11 received 3 results and 0 failures\n",
            "DEBUG:flwr:evaluate_round 11 received 3 results and 0 failures\n",
            "DEBUG flwr 2023-05-22 20:22:26,587 | server.py:218 | fit_round 12: strategy sampled 4 clients (out of 4)\n",
            "DEBUG:flwr:fit_round 12: strategy sampled 4 clients (out of 4)\n",
            "DEBUG flwr 2023-05-22 20:22:27,698 | server.py:232 | fit_round 12 received 4 results and 0 failures\n",
            "DEBUG:flwr:fit_round 12 received 4 results and 0 failures\n",
            "DEBUG flwr 2023-05-22 20:22:27,725 | server.py:168 | evaluate_round 12: strategy sampled 3 clients (out of 4)\n",
            "DEBUG:flwr:evaluate_round 12: strategy sampled 3 clients (out of 4)\n",
            "DEBUG flwr 2023-05-22 20:22:27,935 | server.py:182 | evaluate_round 12 received 3 results and 0 failures\n",
            "DEBUG:flwr:evaluate_round 12 received 3 results and 0 failures\n",
            "DEBUG flwr 2023-05-22 20:22:27,942 | server.py:218 | fit_round 13: strategy sampled 4 clients (out of 4)\n",
            "DEBUG:flwr:fit_round 13: strategy sampled 4 clients (out of 4)\n",
            "DEBUG flwr 2023-05-22 20:22:29,046 | server.py:232 | fit_round 13 received 4 results and 0 failures\n",
            "DEBUG:flwr:fit_round 13 received 4 results and 0 failures\n",
            "DEBUG flwr 2023-05-22 20:22:29,076 | server.py:168 | evaluate_round 13: strategy sampled 3 clients (out of 4)\n",
            "DEBUG:flwr:evaluate_round 13: strategy sampled 3 clients (out of 4)\n",
            "DEBUG flwr 2023-05-22 20:22:29,295 | server.py:182 | evaluate_round 13 received 3 results and 0 failures\n",
            "DEBUG:flwr:evaluate_round 13 received 3 results and 0 failures\n",
            "DEBUG flwr 2023-05-22 20:22:29,300 | server.py:218 | fit_round 14: strategy sampled 4 clients (out of 4)\n",
            "DEBUG:flwr:fit_round 14: strategy sampled 4 clients (out of 4)\n"
          ]
        },
        {
          "output_type": "stream",
          "name": "stdout",
          "text": [
            "\u001b[2m\u001b[36m(launch_and_fit pid=2886)\u001b[0m [Client 0] fit, config: {}\u001b[32m [repeated 14x across cluster]\u001b[0m\n",
            "\u001b[2m\u001b[36m(launch_and_fit pid=2885)\u001b[0m Epoch 1: train loss 3.558875799179077, accuracy 0.610469068660775\u001b[32m [repeated 14x across cluster]\u001b[0m\n"
          ]
        },
        {
          "output_type": "stream",
          "name": "stderr",
          "text": [
            "DEBUG flwr 2023-05-22 20:22:31,058 | server.py:232 | fit_round 14 received 4 results and 0 failures\n",
            "DEBUG:flwr:fit_round 14 received 4 results and 0 failures\n",
            "DEBUG flwr 2023-05-22 20:22:31,109 | server.py:168 | evaluate_round 14: strategy sampled 3 clients (out of 4)\n",
            "DEBUG:flwr:evaluate_round 14: strategy sampled 3 clients (out of 4)\n"
          ]
        },
        {
          "output_type": "stream",
          "name": "stdout",
          "text": [
            "\u001b[2m\u001b[36m(launch_and_evaluate pid=2886)\u001b[0m [Client 3] evaluate, config: {}\u001b[32m [repeated 9x across cluster]\u001b[0m\n"
          ]
        },
        {
          "output_type": "stream",
          "name": "stderr",
          "text": [
            "DEBUG flwr 2023-05-22 20:22:31,404 | server.py:182 | evaluate_round 14 received 3 results and 0 failures\n",
            "DEBUG:flwr:evaluate_round 14 received 3 results and 0 failures\n",
            "DEBUG flwr 2023-05-22 20:22:31,407 | server.py:218 | fit_round 15: strategy sampled 4 clients (out of 4)\n",
            "DEBUG:flwr:fit_round 15: strategy sampled 4 clients (out of 4)\n",
            "DEBUG flwr 2023-05-22 20:22:33,328 | server.py:232 | fit_round 15 received 4 results and 0 failures\n",
            "DEBUG:flwr:fit_round 15 received 4 results and 0 failures\n",
            "DEBUG flwr 2023-05-22 20:22:33,372 | server.py:168 | evaluate_round 15: strategy sampled 3 clients (out of 4)\n",
            "DEBUG:flwr:evaluate_round 15: strategy sampled 3 clients (out of 4)\n",
            "DEBUG flwr 2023-05-22 20:22:33,680 | server.py:182 | evaluate_round 15 received 3 results and 0 failures\n",
            "DEBUG:flwr:evaluate_round 15 received 3 results and 0 failures\n",
            "DEBUG flwr 2023-05-22 20:22:33,686 | server.py:218 | fit_round 16: strategy sampled 4 clients (out of 4)\n",
            "DEBUG:flwr:fit_round 16: strategy sampled 4 clients (out of 4)\n",
            "DEBUG flwr 2023-05-22 20:22:35,581 | server.py:232 | fit_round 16 received 4 results and 0 failures\n",
            "DEBUG:flwr:fit_round 16 received 4 results and 0 failures\n",
            "DEBUG flwr 2023-05-22 20:22:35,638 | server.py:168 | evaluate_round 16: strategy sampled 3 clients (out of 4)\n",
            "DEBUG:flwr:evaluate_round 16: strategy sampled 3 clients (out of 4)\n"
          ]
        },
        {
          "output_type": "stream",
          "name": "stdout",
          "text": [
            "\u001b[2m\u001b[36m(launch_and_fit pid=2885)\u001b[0m [Client 3] fit, config: {}\u001b[32m [repeated 10x across cluster]\u001b[0m\n",
            "\u001b[2m\u001b[36m(launch_and_fit pid=2885)\u001b[0m Epoch 1: train loss 4.268967151641846, accuracy 0.4921821889870836\u001b[32m [repeated 9x across cluster]\u001b[0m\n"
          ]
        },
        {
          "output_type": "stream",
          "name": "stderr",
          "text": [
            "DEBUG flwr 2023-05-22 20:22:35,961 | server.py:182 | evaluate_round 16 received 3 results and 0 failures\n",
            "DEBUG:flwr:evaluate_round 16 received 3 results and 0 failures\n",
            "DEBUG flwr 2023-05-22 20:22:35,964 | server.py:218 | fit_round 17: strategy sampled 4 clients (out of 4)\n",
            "DEBUG:flwr:fit_round 17: strategy sampled 4 clients (out of 4)\n"
          ]
        },
        {
          "output_type": "stream",
          "name": "stdout",
          "text": [
            "\u001b[2m\u001b[36m(launch_and_evaluate pid=2885)\u001b[0m [Client 2] evaluate, config: {}\u001b[32m [repeated 9x across cluster]\u001b[0m\n"
          ]
        },
        {
          "output_type": "stream",
          "name": "stderr",
          "text": [
            "DEBUG flwr 2023-05-22 20:22:37,039 | server.py:232 | fit_round 17 received 4 results and 0 failures\n",
            "DEBUG:flwr:fit_round 17 received 4 results and 0 failures\n",
            "DEBUG flwr 2023-05-22 20:22:37,065 | server.py:168 | evaluate_round 17: strategy sampled 3 clients (out of 4)\n",
            "DEBUG:flwr:evaluate_round 17: strategy sampled 3 clients (out of 4)\n",
            "DEBUG flwr 2023-05-22 20:22:37,273 | server.py:182 | evaluate_round 17 received 3 results and 0 failures\n",
            "DEBUG:flwr:evaluate_round 17 received 3 results and 0 failures\n",
            "DEBUG flwr 2023-05-22 20:22:37,283 | server.py:218 | fit_round 18: strategy sampled 4 clients (out of 4)\n",
            "DEBUG:flwr:fit_round 18: strategy sampled 4 clients (out of 4)\n",
            "DEBUG flwr 2023-05-22 20:22:38,370 | server.py:232 | fit_round 18 received 4 results and 0 failures\n",
            "DEBUG:flwr:fit_round 18 received 4 results and 0 failures\n",
            "DEBUG flwr 2023-05-22 20:22:38,397 | server.py:168 | evaluate_round 18: strategy sampled 3 clients (out of 4)\n",
            "DEBUG:flwr:evaluate_round 18: strategy sampled 3 clients (out of 4)\n",
            "DEBUG flwr 2023-05-22 20:22:38,593 | server.py:182 | evaluate_round 18 received 3 results and 0 failures\n",
            "DEBUG:flwr:evaluate_round 18 received 3 results and 0 failures\n",
            "DEBUG flwr 2023-05-22 20:22:38,597 | server.py:218 | fit_round 19: strategy sampled 4 clients (out of 4)\n",
            "DEBUG:flwr:fit_round 19: strategy sampled 4 clients (out of 4)\n",
            "DEBUG flwr 2023-05-22 20:22:39,660 | server.py:232 | fit_round 19 received 4 results and 0 failures\n",
            "DEBUG:flwr:fit_round 19 received 4 results and 0 failures\n",
            "DEBUG flwr 2023-05-22 20:22:39,694 | server.py:168 | evaluate_round 19: strategy sampled 3 clients (out of 4)\n",
            "DEBUG:flwr:evaluate_round 19: strategy sampled 3 clients (out of 4)\n",
            "DEBUG flwr 2023-05-22 20:22:39,893 | server.py:182 | evaluate_round 19 received 3 results and 0 failures\n",
            "DEBUG:flwr:evaluate_round 19 received 3 results and 0 failures\n",
            "DEBUG flwr 2023-05-22 20:22:39,901 | server.py:218 | fit_round 20: strategy sampled 4 clients (out of 4)\n",
            "DEBUG:flwr:fit_round 20: strategy sampled 4 clients (out of 4)\n",
            "DEBUG flwr 2023-05-22 20:22:40,993 | server.py:232 | fit_round 20 received 4 results and 0 failures\n",
            "DEBUG:flwr:fit_round 20 received 4 results and 0 failures\n",
            "DEBUG flwr 2023-05-22 20:22:41,036 | server.py:168 | evaluate_round 20: strategy sampled 3 clients (out of 4)\n",
            "DEBUG:flwr:evaluate_round 20: strategy sampled 3 clients (out of 4)\n"
          ]
        },
        {
          "output_type": "stream",
          "name": "stdout",
          "text": [
            "\u001b[2m\u001b[36m(launch_and_fit pid=2886)\u001b[0m [Client 3] fit, config: {}\u001b[32m [repeated 16x across cluster]\u001b[0m\n",
            "\u001b[2m\u001b[36m(launch_and_fit pid=2885)\u001b[0m Epoch 1: train loss 2.155172109603882, accuracy 0.5893949694085656\u001b[32m [repeated 16x across cluster]\u001b[0m\n"
          ]
        },
        {
          "output_type": "stream",
          "name": "stderr",
          "text": [
            "DEBUG flwr 2023-05-22 20:22:41,250 | server.py:182 | evaluate_round 20 received 3 results and 0 failures\n",
            "DEBUG:flwr:evaluate_round 20 received 3 results and 0 failures\n",
            "DEBUG flwr 2023-05-22 20:22:41,254 | server.py:218 | fit_round 21: strategy sampled 4 clients (out of 4)\n",
            "DEBUG:flwr:fit_round 21: strategy sampled 4 clients (out of 4)\n"
          ]
        },
        {
          "output_type": "stream",
          "name": "stdout",
          "text": [
            "\u001b[2m\u001b[36m(launch_and_evaluate pid=2885)\u001b[0m [Client 2] evaluate, config: {}\u001b[32m [repeated 10x across cluster]\u001b[0m\n"
          ]
        },
        {
          "output_type": "stream",
          "name": "stderr",
          "text": [
            "DEBUG flwr 2023-05-22 20:22:42,341 | server.py:232 | fit_round 21 received 4 results and 0 failures\n",
            "DEBUG:flwr:fit_round 21 received 4 results and 0 failures\n",
            "DEBUG flwr 2023-05-22 20:22:42,367 | server.py:168 | evaluate_round 21: strategy sampled 3 clients (out of 4)\n",
            "DEBUG:flwr:evaluate_round 21: strategy sampled 3 clients (out of 4)\n",
            "DEBUG flwr 2023-05-22 20:22:42,577 | server.py:182 | evaluate_round 21 received 3 results and 0 failures\n",
            "DEBUG:flwr:evaluate_round 21 received 3 results and 0 failures\n",
            "DEBUG flwr 2023-05-22 20:22:42,579 | server.py:218 | fit_round 22: strategy sampled 4 clients (out of 4)\n",
            "DEBUG:flwr:fit_round 22: strategy sampled 4 clients (out of 4)\n",
            "DEBUG flwr 2023-05-22 20:22:43,690 | server.py:232 | fit_round 22 received 4 results and 0 failures\n",
            "DEBUG:flwr:fit_round 22 received 4 results and 0 failures\n",
            "DEBUG flwr 2023-05-22 20:22:43,729 | server.py:168 | evaluate_round 22: strategy sampled 3 clients (out of 4)\n",
            "DEBUG:flwr:evaluate_round 22: strategy sampled 3 clients (out of 4)\n",
            "DEBUG flwr 2023-05-22 20:22:43,930 | server.py:182 | evaluate_round 22 received 3 results and 0 failures\n",
            "DEBUG:flwr:evaluate_round 22 received 3 results and 0 failures\n",
            "DEBUG flwr 2023-05-22 20:22:43,934 | server.py:218 | fit_round 23: strategy sampled 4 clients (out of 4)\n",
            "DEBUG:flwr:fit_round 23: strategy sampled 4 clients (out of 4)\n",
            "DEBUG flwr 2023-05-22 20:22:45,024 | server.py:232 | fit_round 23 received 4 results and 0 failures\n",
            "DEBUG:flwr:fit_round 23 received 4 results and 0 failures\n",
            "DEBUG flwr 2023-05-22 20:22:45,051 | server.py:168 | evaluate_round 23: strategy sampled 3 clients (out of 4)\n",
            "DEBUG:flwr:evaluate_round 23: strategy sampled 3 clients (out of 4)\n",
            "DEBUG flwr 2023-05-22 20:22:45,271 | server.py:182 | evaluate_round 23 received 3 results and 0 failures\n",
            "DEBUG:flwr:evaluate_round 23 received 3 results and 0 failures\n",
            "DEBUG flwr 2023-05-22 20:22:45,277 | server.py:218 | fit_round 24: strategy sampled 4 clients (out of 4)\n",
            "DEBUG:flwr:fit_round 24: strategy sampled 4 clients (out of 4)\n"
          ]
        },
        {
          "output_type": "stream",
          "name": "stdout",
          "text": [
            "\u001b[2m\u001b[36m(launch_and_fit pid=2885)\u001b[0m [Client 1] fit, config: {}\u001b[32m [repeated 15x across cluster]\u001b[0m\n",
            "\u001b[2m\u001b[36m(launch_and_fit pid=2886)\u001b[0m Epoch 1: train loss 0.3198719918727875, accuracy 0.8266485384092455\u001b[32m [repeated 15x across cluster]\u001b[0m\n"
          ]
        },
        {
          "output_type": "stream",
          "name": "stderr",
          "text": [
            "DEBUG flwr 2023-05-22 20:22:46,690 | server.py:232 | fit_round 24 received 4 results and 0 failures\n",
            "DEBUG:flwr:fit_round 24 received 4 results and 0 failures\n",
            "DEBUG flwr 2023-05-22 20:22:46,726 | server.py:168 | evaluate_round 24: strategy sampled 3 clients (out of 4)\n",
            "DEBUG:flwr:evaluate_round 24: strategy sampled 3 clients (out of 4)\n"
          ]
        },
        {
          "output_type": "stream",
          "name": "stdout",
          "text": [
            "\u001b[2m\u001b[36m(launch_and_evaluate pid=2886)\u001b[0m [Client 1] evaluate, config: {}\u001b[32m [repeated 11x across cluster]\u001b[0m\n"
          ]
        },
        {
          "output_type": "stream",
          "name": "stderr",
          "text": [
            "DEBUG flwr 2023-05-22 20:22:47,032 | server.py:182 | evaluate_round 24 received 3 results and 0 failures\n",
            "DEBUG:flwr:evaluate_round 24 received 3 results and 0 failures\n",
            "DEBUG flwr 2023-05-22 20:22:47,035 | server.py:218 | fit_round 25: strategy sampled 4 clients (out of 4)\n",
            "DEBUG:flwr:fit_round 25: strategy sampled 4 clients (out of 4)\n",
            "DEBUG flwr 2023-05-22 20:22:48,919 | server.py:232 | fit_round 25 received 4 results and 0 failures\n",
            "DEBUG:flwr:fit_round 25 received 4 results and 0 failures\n",
            "DEBUG flwr 2023-05-22 20:22:48,959 | server.py:168 | evaluate_round 25: strategy sampled 3 clients (out of 4)\n",
            "DEBUG:flwr:evaluate_round 25: strategy sampled 3 clients (out of 4)\n",
            "DEBUG flwr 2023-05-22 20:22:49,304 | server.py:182 | evaluate_round 25 received 3 results and 0 failures\n",
            "DEBUG:flwr:evaluate_round 25 received 3 results and 0 failures\n",
            "INFO flwr 2023-05-22 20:22:49,313 | server.py:147 | FL finished in 46.80569828199998\n",
            "INFO:flwr:FL finished in 46.80569828199998\n",
            "INFO flwr 2023-05-22 20:22:49,318 | app.py:218 | app_fit: losses_distributed [(1, 0.4986376021798365), (2, 0.17801998183469572), (3, 0.1553133514986376), (4, 0.17529518619436874), (5, 0.32061762034514074), (6, 0.34059945504087197), (7, 0.29518619436875565), (8, 0.35240690281562215), (9, 0.42143505903723893), (10, 0.4632152588555858), (11, 0.4913714804722979), (12, 0.46230699364214345), (13, 0.5785649409627611), (14, 0.6021798365122615), (15, 0.35967302452316074), (16, 0.5558583106267031), (17, 0.7057220708446866), (18, 0.6875567665758402), (19, 0.4468664850136239), (20, 0.7175295186194368), (21, 0.6366939146230699), (22, 0.6439600363306085), (23, 0.7356948228882834), (24, 0.6457765667574932), (25, 0.7311534968210718)]\n",
            "INFO:flwr:app_fit: losses_distributed [(1, 0.4986376021798365), (2, 0.17801998183469572), (3, 0.1553133514986376), (4, 0.17529518619436874), (5, 0.32061762034514074), (6, 0.34059945504087197), (7, 0.29518619436875565), (8, 0.35240690281562215), (9, 0.42143505903723893), (10, 0.4632152588555858), (11, 0.4913714804722979), (12, 0.46230699364214345), (13, 0.5785649409627611), (14, 0.6021798365122615), (15, 0.35967302452316074), (16, 0.5558583106267031), (17, 0.7057220708446866), (18, 0.6875567665758402), (19, 0.4468664850136239), (20, 0.7175295186194368), (21, 0.6366939146230699), (22, 0.6439600363306085), (23, 0.7356948228882834), (24, 0.6457765667574932), (25, 0.7311534968210718)]\n",
            "INFO flwr 2023-05-22 20:22:49,320 | app.py:219 | app_fit: metrics_distributed_fit {}\n",
            "INFO:flwr:app_fit: metrics_distributed_fit {}\n",
            "INFO flwr 2023-05-22 20:22:49,323 | app.py:220 | app_fit: metrics_distributed {}\n",
            "INFO:flwr:app_fit: metrics_distributed {}\n",
            "INFO flwr 2023-05-22 20:22:49,325 | app.py:221 | app_fit: losses_centralized []\n",
            "INFO:flwr:app_fit: losses_centralized []\n",
            "INFO flwr 2023-05-22 20:22:49,326 | app.py:222 | app_fit: metrics_centralized {}\n",
            "INFO:flwr:app_fit: metrics_centralized {}\n"
          ]
        },
        {
          "output_type": "display_data",
          "data": {
            "text/plain": [
              "<Figure size 640x480 with 1 Axes>"
            ],
            "image/png": "[encoded data removed]"
          },
          "metadata": {}
        },
        {
          "output_type": "stream",
          "name": "stderr",
          "text": [
            "INFO flwr 2023-05-22 20:22:50,207 | app.py:146 | Starting Flower simulation, config: ServerConfig(num_rounds=25, round_timeout=None)\n",
            "INFO:flwr:Starting Flower simulation, config: ServerConfig(num_rounds=25, round_timeout=None)\n"
          ]
        },
        {
          "output_type": "stream",
          "name": "stdout",
          "text": [
            "\n",
            "Analyzing Strategy... :  Fedyogi\n",
            "\u001b[2m\u001b[36m(launch_and_fit pid=2885)\u001b[0m [Client 3] fit, config: {}\u001b[32m [repeated 5x across cluster]\u001b[0m\n",
            "\u001b[2m\u001b[36m(launch_and_fit pid=2885)\u001b[0m Epoch 1: train loss 0.667653501033783, accuracy 0.7770224337185588\u001b[32m [repeated 6x across cluster]\u001b[0m\n",
            "\u001b[2m\u001b[36m(launch_and_evaluate pid=2885)\u001b[0m [Client 3] evaluate, config: {}\u001b[32m [repeated 6x across cluster]\u001b[0m\n"
          ]
        },
        {
          "output_type": "stream",
          "name": "stderr",
          "text": [
            "\u001b[2m\u001b[36m(pid=2886)\u001b[0m 2023-05-22 20:22:05.002843: W tensorflow/compiler/tf2tensorrt/utils/py_utils.cc:38] TF-TRT Warning: Could not find TensorRT\n",
            "2023-05-22 20:22:54,403\tINFO worker.py:1625 -- Started a local Ray instance.\n",
            "INFO flwr 2023-05-22 20:22:56,011 | app.py:180 | Flower VCE: Ray initialized with resources: {'CPU': 2.0, 'node:172.28.0.12': 1.0, 'object_store_memory': 3870148608.0, 'GPU': 1.0, 'memory': 7740297216.0}\n",
            "INFO:flwr:Flower VCE: Ray initialized with resources: {'CPU': 2.0, 'node:172.28.0.12': 1.0, 'object_store_memory': 3870148608.0, 'GPU': 1.0, 'memory': 7740297216.0}\n",
            "INFO flwr 2023-05-22 20:22:56,021 | server.py:86 | Initializing global parameters\n",
            "INFO:flwr:Initializing global parameters\n",
            "INFO flwr 2023-05-22 20:22:56,027 | server.py:269 | Using initial parameters provided by strategy\n",
            "INFO:flwr:Using initial parameters provided by strategy\n",
            "INFO flwr 2023-05-22 20:22:56,034 | server.py:88 | Evaluating initial parameters\n",
            "INFO:flwr:Evaluating initial parameters\n",
            "INFO flwr 2023-05-22 20:22:56,038 | server.py:101 | FL starting\n",
            "INFO:flwr:FL starting\n",
            "DEBUG flwr 2023-05-22 20:22:56,054 | server.py:218 | fit_round 1: strategy sampled 4 clients (out of 4)\n",
            "DEBUG:flwr:fit_round 1: strategy sampled 4 clients (out of 4)\n",
            "\u001b[2m\u001b[36m(pid=3794)\u001b[0m 2023-05-22 20:22:58.395195: W tensorflow/compiler/tf2tensorrt/utils/py_utils.cc:38] TF-TRT Warning: Could not find TensorRT\n"
          ]
        },
        {
          "output_type": "stream",
          "name": "stdout",
          "text": [
            "\u001b[2m\u001b[36m(launch_and_fit pid=3794)\u001b[0m [Client 3] fit, config: {}\n",
            "\u001b[2m\u001b[36m(launch_and_fit pid=3793)\u001b[0m Epoch 1: train loss 0.016938649117946625, accuracy 0.5418082936777702\n"
          ]
        },
        {
          "output_type": "stream",
          "name": "stderr",
          "text": [
            "DEBUG flwr 2023-05-22 20:23:05,071 | server.py:232 | fit_round 1 received 4 results and 0 failures\n",
            "DEBUG:flwr:fit_round 1 received 4 results and 0 failures\n",
            "WARNING flwr 2023-05-22 20:23:05,109 | fedavg.py:243 | No fit_metrics_aggregation_fn provided\n",
            "WARNING:flwr:No fit_metrics_aggregation_fn provided\n",
            "DEBUG flwr 2023-05-22 20:23:05,134 | server.py:168 | evaluate_round 1: strategy sampled 3 clients (out of 4)\n",
            "DEBUG:flwr:evaluate_round 1: strategy sampled 3 clients (out of 4)\n",
            "DEBUG flwr 2023-05-22 20:23:05,504 | server.py:182 | evaluate_round 1 received 3 results and 0 failures\n",
            "DEBUG:flwr:evaluate_round 1 received 3 results and 0 failures\n",
            "WARNING flwr 2023-05-22 20:23:05,510 | fedavg.py:274 | No evaluate_metrics_aggregation_fn provided\n",
            "WARNING:flwr:No evaluate_metrics_aggregation_fn provided\n",
            "DEBUG flwr 2023-05-22 20:23:05,514 | server.py:218 | fit_round 2: strategy sampled 4 clients (out of 4)\n",
            "DEBUG:flwr:fit_round 2: strategy sampled 4 clients (out of 4)\n"
          ]
        },
        {
          "output_type": "stream",
          "name": "stdout",
          "text": [
            "\u001b[2m\u001b[36m(launch_and_evaluate pid=3793)\u001b[0m [Client 1] evaluate, config: {}\n",
            "\u001b[2m\u001b[36m(launch_and_evaluate pid=3793)\u001b[0m [Client 2] evaluate, config: {}\n"
          ]
        },
        {
          "output_type": "stream",
          "name": "stderr",
          "text": [
            "DEBUG flwr 2023-05-22 20:23:07,093 | server.py:232 | fit_round 2 received 4 results and 0 failures\n",
            "DEBUG:flwr:fit_round 2 received 4 results and 0 failures\n",
            "DEBUG flwr 2023-05-22 20:23:07,143 | server.py:168 | evaluate_round 2: strategy sampled 3 clients (out of 4)\n",
            "DEBUG:flwr:evaluate_round 2: strategy sampled 3 clients (out of 4)\n",
            "DEBUG flwr 2023-05-22 20:23:07,494 | server.py:182 | evaluate_round 2 received 3 results and 0 failures\n",
            "DEBUG:flwr:evaluate_round 2 received 3 results and 0 failures\n",
            "DEBUG flwr 2023-05-22 20:23:07,498 | server.py:218 | fit_round 3: strategy sampled 4 clients (out of 4)\n",
            "DEBUG:flwr:fit_round 3: strategy sampled 4 clients (out of 4)\n",
            "DEBUG flwr 2023-05-22 20:23:08,771 | server.py:232 | fit_round 3 received 4 results and 0 failures\n",
            "DEBUG:flwr:fit_round 3 received 4 results and 0 failures\n",
            "DEBUG flwr 2023-05-22 20:23:08,807 | server.py:168 | evaluate_round 3: strategy sampled 3 clients (out of 4)\n",
            "DEBUG:flwr:evaluate_round 3: strategy sampled 3 clients (out of 4)\n"
          ]
        },
        {
          "output_type": "stream",
          "name": "stdout",
          "text": [
            "\u001b[2m\u001b[36m(launch_and_fit pid=3794)\u001b[0m [Client 0] fit, config: {}\u001b[32m [repeated 11x across cluster]\u001b[0m\n"
          ]
        },
        {
          "output_type": "stream",
          "name": "stderr",
          "text": [
            "DEBUG flwr 2023-05-22 20:23:09,039 | server.py:182 | evaluate_round 3 received 3 results and 0 failures\n",
            "DEBUG:flwr:evaluate_round 3 received 3 results and 0 failures\n",
            "DEBUG flwr 2023-05-22 20:23:09,044 | server.py:218 | fit_round 4: strategy sampled 4 clients (out of 4)\n",
            "DEBUG:flwr:fit_round 4: strategy sampled 4 clients (out of 4)\n"
          ]
        },
        {
          "output_type": "stream",
          "name": "stdout",
          "text": [
            "\u001b[2m\u001b[36m(launch_and_fit pid=3793)\u001b[0m Epoch 1: train loss 0.01065478939563036, accuracy 0.7273963290278722\u001b[32m [repeated 12x across cluster]\u001b[0m\n"
          ]
        },
        {
          "output_type": "stream",
          "name": "stderr",
          "text": [
            "DEBUG flwr 2023-05-22 20:23:10,030 | server.py:232 | fit_round 4 received 4 results and 0 failures\n",
            "DEBUG:flwr:fit_round 4 received 4 results and 0 failures\n",
            "DEBUG flwr 2023-05-22 20:23:10,056 | server.py:168 | evaluate_round 4: strategy sampled 3 clients (out of 4)\n",
            "DEBUG:flwr:evaluate_round 4: strategy sampled 3 clients (out of 4)\n",
            "DEBUG flwr 2023-05-22 20:23:10,269 | server.py:182 | evaluate_round 4 received 3 results and 0 failures\n",
            "DEBUG:flwr:evaluate_round 4 received 3 results and 0 failures\n",
            "DEBUG flwr 2023-05-22 20:23:10,271 | server.py:218 | fit_round 5: strategy sampled 4 clients (out of 4)\n",
            "DEBUG:flwr:fit_round 5: strategy sampled 4 clients (out of 4)\n"
          ]
        },
        {
          "output_type": "stream",
          "name": "stdout",
          "text": [
            "\u001b[2m\u001b[36m(launch_and_evaluate pid=3794)\u001b[0m [Client 0] evaluate, config: {}\u001b[32m [repeated 10x across cluster]\u001b[0m\n"
          ]
        },
        {
          "output_type": "stream",
          "name": "stderr",
          "text": [
            "DEBUG flwr 2023-05-22 20:23:11,212 | server.py:232 | fit_round 5 received 4 results and 0 failures\n",
            "DEBUG:flwr:fit_round 5 received 4 results and 0 failures\n",
            "DEBUG flwr 2023-05-22 20:23:11,249 | server.py:168 | evaluate_round 5: strategy sampled 3 clients (out of 4)\n",
            "DEBUG:flwr:evaluate_round 5: strategy sampled 3 clients (out of 4)\n",
            "DEBUG flwr 2023-05-22 20:23:11,475 | server.py:182 | evaluate_round 5 received 3 results and 0 failures\n",
            "DEBUG:flwr:evaluate_round 5 received 3 results and 0 failures\n",
            "DEBUG flwr 2023-05-22 20:23:11,481 | server.py:218 | fit_round 6: strategy sampled 4 clients (out of 4)\n",
            "DEBUG:flwr:fit_round 6: strategy sampled 4 clients (out of 4)\n",
            "DEBUG flwr 2023-05-22 20:23:12,470 | server.py:232 | fit_round 6 received 4 results and 0 failures\n",
            "DEBUG:flwr:fit_round 6 received 4 results and 0 failures\n",
            "DEBUG flwr 2023-05-22 20:23:12,506 | server.py:168 | evaluate_round 6: strategy sampled 3 clients (out of 4)\n",
            "DEBUG:flwr:evaluate_round 6: strategy sampled 3 clients (out of 4)\n",
            "DEBUG flwr 2023-05-22 20:23:12,741 | server.py:182 | evaluate_round 6 received 3 results and 0 failures\n",
            "DEBUG:flwr:evaluate_round 6 received 3 results and 0 failures\n",
            "DEBUG flwr 2023-05-22 20:23:12,746 | server.py:218 | fit_round 7: strategy sampled 4 clients (out of 4)\n",
            "DEBUG:flwr:fit_round 7: strategy sampled 4 clients (out of 4)\n",
            "DEBUG flwr 2023-05-22 20:23:13,739 | server.py:232 | fit_round 7 received 4 results and 0 failures\n",
            "DEBUG:flwr:fit_round 7 received 4 results and 0 failures\n",
            "DEBUG flwr 2023-05-22 20:23:13,768 | server.py:168 | evaluate_round 7: strategy sampled 3 clients (out of 4)\n",
            "DEBUG:flwr:evaluate_round 7: strategy sampled 3 clients (out of 4)\n",
            "DEBUG flwr 2023-05-22 20:23:13,977 | server.py:182 | evaluate_round 7 received 3 results and 0 failures\n",
            "DEBUG:flwr:evaluate_round 7 received 3 results and 0 failures\n",
            "DEBUG flwr 2023-05-22 20:23:13,982 | server.py:218 | fit_round 8: strategy sampled 4 clients (out of 4)\n",
            "DEBUG:flwr:fit_round 8: strategy sampled 4 clients (out of 4)\n"
          ]
        },
        {
          "output_type": "stream",
          "name": "stdout",
          "text": [
            "\u001b[2m\u001b[36m(launch_and_fit pid=3794)\u001b[0m [Client 2] fit, config: {}\u001b[32m [repeated 16x across cluster]\u001b[0m\n",
            "\u001b[2m\u001b[36m(launch_and_fit pid=3794)\u001b[0m Epoch 1: train loss 0.006086195353418589, accuracy 0.8783140720598233\u001b[32m [repeated 17x across cluster]\u001b[0m\n"
          ]
        },
        {
          "output_type": "stream",
          "name": "stderr",
          "text": [
            "DEBUG flwr 2023-05-22 20:23:14,988 | server.py:232 | fit_round 8 received 4 results and 0 failures\n",
            "DEBUG:flwr:fit_round 8 received 4 results and 0 failures\n",
            "DEBUG flwr 2023-05-22 20:23:15,021 | server.py:168 | evaluate_round 8: strategy sampled 3 clients (out of 4)\n",
            "DEBUG:flwr:evaluate_round 8: strategy sampled 3 clients (out of 4)\n",
            "DEBUG flwr 2023-05-22 20:23:15,266 | server.py:182 | evaluate_round 8 received 3 results and 0 failures\n",
            "DEBUG:flwr:evaluate_round 8 received 3 results and 0 failures\n",
            "DEBUG flwr 2023-05-22 20:23:15,269 | server.py:218 | fit_round 9: strategy sampled 4 clients (out of 4)\n",
            "DEBUG:flwr:fit_round 9: strategy sampled 4 clients (out of 4)\n"
          ]
        },
        {
          "output_type": "stream",
          "name": "stdout",
          "text": [
            "\u001b[2m\u001b[36m(launch_and_evaluate pid=3793)\u001b[0m [Client 2] evaluate, config: {}\u001b[32m [repeated 12x across cluster]\u001b[0m\n"
          ]
        },
        {
          "output_type": "stream",
          "name": "stderr",
          "text": [
            "DEBUG flwr 2023-05-22 20:23:16,285 | server.py:232 | fit_round 9 received 4 results and 0 failures\n",
            "DEBUG:flwr:fit_round 9 received 4 results and 0 failures\n",
            "DEBUG flwr 2023-05-22 20:23:16,314 | server.py:168 | evaluate_round 9: strategy sampled 3 clients (out of 4)\n",
            "DEBUG:flwr:evaluate_round 9: strategy sampled 3 clients (out of 4)\n",
            "DEBUG flwr 2023-05-22 20:23:16,511 | server.py:182 | evaluate_round 9 received 3 results and 0 failures\n",
            "DEBUG:flwr:evaluate_round 9 received 3 results and 0 failures\n",
            "DEBUG flwr 2023-05-22 20:23:16,515 | server.py:218 | fit_round 10: strategy sampled 4 clients (out of 4)\n",
            "DEBUG:flwr:fit_round 10: strategy sampled 4 clients (out of 4)\n",
            "DEBUG flwr 2023-05-22 20:23:17,544 | server.py:232 | fit_round 10 received 4 results and 0 failures\n",
            "DEBUG:flwr:fit_round 10 received 4 results and 0 failures\n",
            "DEBUG flwr 2023-05-22 20:23:17,573 | server.py:168 | evaluate_round 10: strategy sampled 3 clients (out of 4)\n",
            "DEBUG:flwr:evaluate_round 10: strategy sampled 3 clients (out of 4)\n",
            "DEBUG flwr 2023-05-22 20:23:17,772 | server.py:182 | evaluate_round 10 received 3 results and 0 failures\n",
            "DEBUG:flwr:evaluate_round 10 received 3 results and 0 failures\n",
            "DEBUG flwr 2023-05-22 20:23:17,776 | server.py:218 | fit_round 11: strategy sampled 4 clients (out of 4)\n",
            "DEBUG:flwr:fit_round 11: strategy sampled 4 clients (out of 4)\n",
            "DEBUG flwr 2023-05-22 20:23:19,028 | server.py:232 | fit_round 11 received 4 results and 0 failures\n",
            "DEBUG:flwr:fit_round 11 received 4 results and 0 failures\n",
            "DEBUG flwr 2023-05-22 20:23:19,075 | server.py:168 | evaluate_round 11: strategy sampled 3 clients (out of 4)\n",
            "DEBUG:flwr:evaluate_round 11: strategy sampled 3 clients (out of 4)\n"
          ]
        },
        {
          "output_type": "stream",
          "name": "stdout",
          "text": [
            "\u001b[2m\u001b[36m(launch_and_fit pid=3793)\u001b[0m [Client 0] fit, config: {}\u001b[32m [repeated 16x across cluster]\u001b[0m\n"
          ]
        },
        {
          "output_type": "stream",
          "name": "stderr",
          "text": [
            "DEBUG flwr 2023-05-22 20:23:19,402 | server.py:182 | evaluate_round 11 received 3 results and 0 failures\n",
            "DEBUG:flwr:evaluate_round 11 received 3 results and 0 failures\n",
            "DEBUG flwr 2023-05-22 20:23:19,406 | server.py:218 | fit_round 12: strategy sampled 4 clients (out of 4)\n",
            "DEBUG:flwr:fit_round 12: strategy sampled 4 clients (out of 4)\n"
          ]
        },
        {
          "output_type": "stream",
          "name": "stdout",
          "text": [
            "\u001b[2m\u001b[36m(launch_and_fit pid=3794)\u001b[0m Epoch 1: train loss 0.00471147708594799, accuracy 0.8980285520054385\u001b[32m [repeated 14x across cluster]\u001b[0m\n"
          ]
        },
        {
          "output_type": "stream",
          "name": "stderr",
          "text": [
            "DEBUG flwr 2023-05-22 20:23:21,168 | server.py:232 | fit_round 12 received 4 results and 0 failures\n",
            "DEBUG:flwr:fit_round 12 received 4 results and 0 failures\n",
            "DEBUG flwr 2023-05-22 20:23:21,214 | server.py:168 | evaluate_round 12: strategy sampled 3 clients (out of 4)\n",
            "DEBUG:flwr:evaluate_round 12: strategy sampled 3 clients (out of 4)\n"
          ]
        },
        {
          "output_type": "stream",
          "name": "stdout",
          "text": [
            "\u001b[2m\u001b[36m(launch_and_evaluate pid=3793)\u001b[0m [Client 1] evaluate, config: {}\u001b[32m [repeated 9x across cluster]\u001b[0m\n"
          ]
        },
        {
          "output_type": "stream",
          "name": "stderr",
          "text": [
            "DEBUG flwr 2023-05-22 20:23:21,534 | server.py:182 | evaluate_round 12 received 3 results and 0 failures\n",
            "DEBUG:flwr:evaluate_round 12 received 3 results and 0 failures\n",
            "DEBUG flwr 2023-05-22 20:23:21,537 | server.py:218 | fit_round 13: strategy sampled 4 clients (out of 4)\n",
            "DEBUG:flwr:fit_round 13: strategy sampled 4 clients (out of 4)\n",
            "DEBUG flwr 2023-05-22 20:23:23,414 | server.py:232 | fit_round 13 received 4 results and 0 failures\n",
            "DEBUG:flwr:fit_round 13 received 4 results and 0 failures\n",
            "DEBUG flwr 2023-05-22 20:23:23,458 | server.py:168 | evaluate_round 13: strategy sampled 3 clients (out of 4)\n",
            "DEBUG:flwr:evaluate_round 13: strategy sampled 3 clients (out of 4)\n",
            "DEBUG flwr 2023-05-22 20:23:23,778 | server.py:182 | evaluate_round 13 received 3 results and 0 failures\n",
            "DEBUG:flwr:evaluate_round 13 received 3 results and 0 failures\n",
            "DEBUG flwr 2023-05-22 20:23:23,782 | server.py:218 | fit_round 14: strategy sampled 4 clients (out of 4)\n",
            "DEBUG:flwr:fit_round 14: strategy sampled 4 clients (out of 4)\n"
          ]
        },
        {
          "output_type": "stream",
          "name": "stdout",
          "text": [
            "\u001b[2m\u001b[36m(launch_and_fit pid=3793)\u001b[0m [Client 1] fit, config: {}\u001b[32m [repeated 9x across cluster]\u001b[0m\n",
            "\u001b[2m\u001b[36m(launch_and_fit pid=3793)\u001b[0m Epoch 1: train loss 0.004197860602289438, accuracy 0.920462270564242\u001b[32m [repeated 9x across cluster]\u001b[0m\n"
          ]
        },
        {
          "output_type": "stream",
          "name": "stderr",
          "text": [
            "DEBUG flwr 2023-05-22 20:23:25,393 | server.py:232 | fit_round 14 received 4 results and 0 failures\n",
            "DEBUG:flwr:fit_round 14 received 4 results and 0 failures\n",
            "DEBUG flwr 2023-05-22 20:23:25,426 | server.py:168 | evaluate_round 14: strategy sampled 3 clients (out of 4)\n",
            "DEBUG:flwr:evaluate_round 14: strategy sampled 3 clients (out of 4)\n",
            "DEBUG flwr 2023-05-22 20:23:25,653 | server.py:182 | evaluate_round 14 received 3 results and 0 failures\n",
            "DEBUG:flwr:evaluate_round 14 received 3 results and 0 failures\n",
            "DEBUG flwr 2023-05-22 20:23:25,663 | server.py:218 | fit_round 15: strategy sampled 4 clients (out of 4)\n",
            "DEBUG:flwr:fit_round 15: strategy sampled 4 clients (out of 4)\n"
          ]
        },
        {
          "output_type": "stream",
          "name": "stdout",
          "text": [
            "\u001b[2m\u001b[36m(launch_and_evaluate pid=3794)\u001b[0m [Client 0] evaluate, config: {}\u001b[32m [repeated 9x across cluster]\u001b[0m\n"
          ]
        },
        {
          "output_type": "stream",
          "name": "stderr",
          "text": [
            "DEBUG flwr 2023-05-22 20:23:26,834 | server.py:232 | fit_round 15 received 4 results and 0 failures\n",
            "DEBUG:flwr:fit_round 15 received 4 results and 0 failures\n",
            "DEBUG flwr 2023-05-22 20:23:26,869 | server.py:168 | evaluate_round 15: strategy sampled 3 clients (out of 4)\n",
            "DEBUG:flwr:evaluate_round 15: strategy sampled 3 clients (out of 4)\n",
            "DEBUG flwr 2023-05-22 20:23:27,071 | server.py:182 | evaluate_round 15 received 3 results and 0 failures\n",
            "DEBUG:flwr:evaluate_round 15 received 3 results and 0 failures\n",
            "DEBUG flwr 2023-05-22 20:23:27,077 | server.py:218 | fit_round 16: strategy sampled 4 clients (out of 4)\n",
            "DEBUG:flwr:fit_round 16: strategy sampled 4 clients (out of 4)\n",
            "DEBUG flwr 2023-05-22 20:23:28,160 | server.py:232 | fit_round 16 received 4 results and 0 failures\n",
            "DEBUG:flwr:fit_round 16 received 4 results and 0 failures\n",
            "DEBUG flwr 2023-05-22 20:23:28,196 | server.py:168 | evaluate_round 16: strategy sampled 3 clients (out of 4)\n",
            "DEBUG:flwr:evaluate_round 16: strategy sampled 3 clients (out of 4)\n",
            "DEBUG flwr 2023-05-22 20:23:28,398 | server.py:182 | evaluate_round 16 received 3 results and 0 failures\n",
            "DEBUG:flwr:evaluate_round 16 received 3 results and 0 failures\n",
            "DEBUG flwr 2023-05-22 20:23:28,401 | server.py:218 | fit_round 17: strategy sampled 4 clients (out of 4)\n",
            "DEBUG:flwr:fit_round 17: strategy sampled 4 clients (out of 4)\n"
          ]
        },
        {
          "output_type": "stream",
          "name": "stdout",
          "text": [
            "\u001b[2m\u001b[36m(launch_and_fit pid=3794)\u001b[0m [Client 1] fit, config: {}\u001b[32m [repeated 13x across cluster]\u001b[0m\n"
          ]
        },
        {
          "output_type": "stream",
          "name": "stderr",
          "text": [
            "DEBUG flwr 2023-05-22 20:23:29,614 | server.py:232 | fit_round 17 received 4 results and 0 failures\n",
            "DEBUG:flwr:fit_round 17 received 4 results and 0 failures\n",
            "DEBUG flwr 2023-05-22 20:23:29,650 | server.py:168 | evaluate_round 17: strategy sampled 3 clients (out of 4)\n",
            "DEBUG:flwr:evaluate_round 17: strategy sampled 3 clients (out of 4)\n",
            "DEBUG flwr 2023-05-22 20:23:29,875 | server.py:182 | evaluate_round 17 received 3 results and 0 failures\n",
            "DEBUG:flwr:evaluate_round 17 received 3 results and 0 failures\n",
            "DEBUG flwr 2023-05-22 20:23:29,879 | server.py:218 | fit_round 18: strategy sampled 4 clients (out of 4)\n",
            "DEBUG:flwr:fit_round 18: strategy sampled 4 clients (out of 4)\n"
          ]
        },
        {
          "output_type": "stream",
          "name": "stdout",
          "text": [
            "\u001b[2m\u001b[36m(launch_and_fit pid=3794)\u001b[0m Epoch 1: train loss 0.004589742049574852, accuracy 0.9170632222977566\u001b[32m [repeated 15x across cluster]\u001b[0m\n"
          ]
        },
        {
          "output_type": "stream",
          "name": "stderr",
          "text": [
            "DEBUG flwr 2023-05-22 20:23:31,827 | server.py:232 | fit_round 18 received 4 results and 0 failures\n",
            "DEBUG:flwr:fit_round 18 received 4 results and 0 failures\n",
            "DEBUG flwr 2023-05-22 20:23:31,868 | server.py:168 | evaluate_round 18: strategy sampled 3 clients (out of 4)\n"
          ]
        },
        {
          "output_type": "stream",
          "name": "stdout",
          "text": [
            "\u001b[2m\u001b[36m(launch_and_evaluate pid=3793)\u001b[0m [Client 0] evaluate, config: {}\u001b[32m [repeated 9x across cluster]\u001b[0m\n"
          ]
        },
        {
          "output_type": "stream",
          "name": "stderr",
          "text": [
            "DEBUG:flwr:evaluate_round 18: strategy sampled 3 clients (out of 4)\n",
            "DEBUG flwr 2023-05-22 20:23:32,168 | server.py:182 | evaluate_round 18 received 3 results and 0 failures\n",
            "DEBUG:flwr:evaluate_round 18 received 3 results and 0 failures\n",
            "DEBUG flwr 2023-05-22 20:23:32,175 | server.py:218 | fit_round 19: strategy sampled 4 clients (out of 4)\n",
            "DEBUG:flwr:fit_round 19: strategy sampled 4 clients (out of 4)\n",
            "DEBUG flwr 2023-05-22 20:23:34,243 | server.py:232 | fit_round 19 received 4 results and 0 failures\n",
            "DEBUG:flwr:fit_round 19 received 4 results and 0 failures\n",
            "DEBUG flwr 2023-05-22 20:23:34,273 | server.py:168 | evaluate_round 19: strategy sampled 3 clients (out of 4)\n",
            "DEBUG:flwr:evaluate_round 19: strategy sampled 3 clients (out of 4)\n"
          ]
        },
        {
          "output_type": "stream",
          "name": "stdout",
          "text": [
            "\u001b[2m\u001b[36m(launch_and_fit pid=3794)\u001b[0m [Client 1] fit, config: {}\u001b[32m [repeated 10x across cluster]\u001b[0m\n"
          ]
        },
        {
          "output_type": "stream",
          "name": "stderr",
          "text": [
            "DEBUG flwr 2023-05-22 20:23:34,612 | server.py:182 | evaluate_round 19 received 3 results and 0 failures\n",
            "DEBUG:flwr:evaluate_round 19 received 3 results and 0 failures\n",
            "DEBUG flwr 2023-05-22 20:23:34,623 | server.py:218 | fit_round 20: strategy sampled 4 clients (out of 4)\n",
            "DEBUG:flwr:fit_round 20: strategy sampled 4 clients (out of 4)\n"
          ]
        },
        {
          "output_type": "stream",
          "name": "stdout",
          "text": [
            "\u001b[2m\u001b[36m(launch_and_fit pid=3793)\u001b[0m Epoch 1: train loss 0.004581613000482321, accuracy 0.9333786539768865\u001b[32m [repeated 8x across cluster]\u001b[0m\n"
          ]
        },
        {
          "output_type": "stream",
          "name": "stderr",
          "text": [
            "DEBUG flwr 2023-05-22 20:23:37,017 | server.py:232 | fit_round 20 received 4 results and 0 failures\n",
            "DEBUG:flwr:fit_round 20 received 4 results and 0 failures\n",
            "DEBUG flwr 2023-05-22 20:23:37,063 | server.py:168 | evaluate_round 20: strategy sampled 3 clients (out of 4)\n",
            "DEBUG:flwr:evaluate_round 20: strategy sampled 3 clients (out of 4)\n"
          ]
        },
        {
          "output_type": "stream",
          "name": "stdout",
          "text": [
            "\u001b[2m\u001b[36m(launch_and_evaluate pid=3794)\u001b[0m [Client 2] evaluate, config: {}\u001b[32m [repeated 6x across cluster]\u001b[0m\n"
          ]
        },
        {
          "output_type": "stream",
          "name": "stderr",
          "text": [
            "DEBUG flwr 2023-05-22 20:23:37,409 | server.py:182 | evaluate_round 20 received 3 results and 0 failures\n",
            "DEBUG:flwr:evaluate_round 20 received 3 results and 0 failures\n",
            "DEBUG flwr 2023-05-22 20:23:37,415 | server.py:218 | fit_round 21: strategy sampled 4 clients (out of 4)\n",
            "DEBUG:flwr:fit_round 21: strategy sampled 4 clients (out of 4)\n",
            "DEBUG flwr 2023-05-22 20:23:39,753 | server.py:232 | fit_round 21 received 4 results and 0 failures\n",
            "DEBUG:flwr:fit_round 21 received 4 results and 0 failures\n",
            "DEBUG flwr 2023-05-22 20:23:39,796 | server.py:168 | evaluate_round 21: strategy sampled 3 clients (out of 4)\n",
            "DEBUG:flwr:evaluate_round 21: strategy sampled 3 clients (out of 4)\n"
          ]
        },
        {
          "output_type": "stream",
          "name": "stdout",
          "text": [
            "\u001b[2m\u001b[36m(launch_and_fit pid=3794)\u001b[0m [Client 3] fit, config: {}\u001b[32m [repeated 8x across cluster]\u001b[0m\n"
          ]
        },
        {
          "output_type": "stream",
          "name": "stderr",
          "text": [
            "DEBUG flwr 2023-05-22 20:23:40,108 | server.py:182 | evaluate_round 21 received 3 results and 0 failures\n",
            "DEBUG:flwr:evaluate_round 21 received 3 results and 0 failures\n",
            "DEBUG flwr 2023-05-22 20:23:40,117 | server.py:218 | fit_round 22: strategy sampled 4 clients (out of 4)\n",
            "DEBUG:flwr:fit_round 22: strategy sampled 4 clients (out of 4)\n"
          ]
        },
        {
          "output_type": "stream",
          "name": "stdout",
          "text": [
            "\u001b[2m\u001b[36m(launch_and_fit pid=3794)\u001b[0m Epoch 1: train loss 0.005339114926755428, accuracy 0.9279401767505099\u001b[32m [repeated 8x across cluster]\u001b[0m\n"
          ]
        },
        {
          "output_type": "stream",
          "name": "stderr",
          "text": [
            "DEBUG flwr 2023-05-22 20:23:42,346 | server.py:232 | fit_round 22 received 4 results and 0 failures\n",
            "DEBUG:flwr:fit_round 22 received 4 results and 0 failures\n",
            "DEBUG flwr 2023-05-22 20:23:42,381 | server.py:168 | evaluate_round 22: strategy sampled 3 clients (out of 4)\n",
            "DEBUG:flwr:evaluate_round 22: strategy sampled 3 clients (out of 4)\n"
          ]
        },
        {
          "output_type": "stream",
          "name": "stdout",
          "text": [
            "\u001b[2m\u001b[36m(launch_and_evaluate pid=3794)\u001b[0m [Client 3] evaluate, config: {}\u001b[32m [repeated 6x across cluster]\u001b[0m\n"
          ]
        },
        {
          "output_type": "stream",
          "name": "stderr",
          "text": [
            "DEBUG flwr 2023-05-22 20:23:42,612 | server.py:182 | evaluate_round 22 received 3 results and 0 failures\n",
            "DEBUG:flwr:evaluate_round 22 received 3 results and 0 failures\n",
            "DEBUG flwr 2023-05-22 20:23:42,618 | server.py:218 | fit_round 23: strategy sampled 4 clients (out of 4)\n",
            "DEBUG:flwr:fit_round 23: strategy sampled 4 clients (out of 4)\n",
            "DEBUG flwr 2023-05-22 20:23:43,874 | server.py:232 | fit_round 23 received 4 results and 0 failures\n",
            "DEBUG:flwr:fit_round 23 received 4 results and 0 failures\n",
            "DEBUG flwr 2023-05-22 20:23:43,912 | server.py:168 | evaluate_round 23: strategy sampled 3 clients (out of 4)\n",
            "DEBUG:flwr:evaluate_round 23: strategy sampled 3 clients (out of 4)\n",
            "DEBUG flwr 2023-05-22 20:23:44,114 | server.py:182 | evaluate_round 23 received 3 results and 0 failures\n",
            "DEBUG:flwr:evaluate_round 23 received 3 results and 0 failures\n",
            "DEBUG flwr 2023-05-22 20:23:44,121 | server.py:218 | fit_round 24: strategy sampled 4 clients (out of 4)\n",
            "DEBUG:flwr:fit_round 24: strategy sampled 4 clients (out of 4)\n"
          ]
        },
        {
          "output_type": "stream",
          "name": "stdout",
          "text": [
            "\u001b[2m\u001b[36m(launch_and_fit pid=3793)\u001b[0m [Client 2] fit, config: {}\u001b[32m [repeated 10x across cluster]\u001b[0m\n"
          ]
        },
        {
          "output_type": "stream",
          "name": "stderr",
          "text": [
            "DEBUG flwr 2023-05-22 20:23:45,445 | server.py:232 | fit_round 24 received 4 results and 0 failures\n",
            "DEBUG:flwr:fit_round 24 received 4 results and 0 failures\n",
            "DEBUG flwr 2023-05-22 20:23:45,478 | server.py:168 | evaluate_round 24: strategy sampled 3 clients (out of 4)\n",
            "DEBUG:flwr:evaluate_round 24: strategy sampled 3 clients (out of 4)\n"
          ]
        },
        {
          "output_type": "stream",
          "name": "stdout",
          "text": [
            "\u001b[2m\u001b[36m(launch_and_fit pid=3794)\u001b[0m Epoch 1: train loss 0.007919101975858212, accuracy 0.920462270564242\u001b[32m [repeated 11x across cluster]\u001b[0m\n"
          ]
        },
        {
          "output_type": "stream",
          "name": "stderr",
          "text": [
            "DEBUG flwr 2023-05-22 20:23:45,699 | server.py:182 | evaluate_round 24 received 3 results and 0 failures\n",
            "DEBUG:flwr:evaluate_round 24 received 3 results and 0 failures\n",
            "DEBUG flwr 2023-05-22 20:23:45,703 | server.py:218 | fit_round 25: strategy sampled 4 clients (out of 4)\n",
            "DEBUG:flwr:fit_round 25: strategy sampled 4 clients (out of 4)\n",
            "DEBUG flwr 2023-05-22 20:23:46,945 | server.py:232 | fit_round 25 received 4 results and 0 failures\n",
            "DEBUG:flwr:fit_round 25 received 4 results and 0 failures\n",
            "DEBUG flwr 2023-05-22 20:23:46,975 | server.py:168 | evaluate_round 25: strategy sampled 3 clients (out of 4)\n",
            "DEBUG:flwr:evaluate_round 25: strategy sampled 3 clients (out of 4)\n",
            "DEBUG flwr 2023-05-22 20:23:47,177 | server.py:182 | evaluate_round 25 received 3 results and 0 failures\n",
            "DEBUG:flwr:evaluate_round 25 received 3 results and 0 failures\n",
            "INFO flwr 2023-05-22 20:23:47,180 | server.py:147 | FL finished in 51.12595644800001\n",
            "INFO:flwr:FL finished in 51.12595644800001\n",
            "INFO flwr 2023-05-22 20:23:47,182 | app.py:218 | app_fit: losses_distributed [(1, 0.6566757493188011), (2, 0.7883742052679383), (3, 0.8610354223433243), (4, 0.8919164396003634), (5, 0.8410535876475931), (6, 0.857402361489555), (7, 0.8746594005449592), (8, 0.8437783832879201), (9, 0.8646684831970936), (10, 0.8955495004541327), (11, 0.9100817438692097), (12, 0.9028156221616713), (13, 0.8864668483197095), (14, 0.8782924613987285), (15, 0.8928247048138055), (16, 0.8937329700272478), (17, 0.899182561307902), (18, 0.8873751135331516), (19, 0.8919164396003632), (20, 0.910990009082652), (21, 0.9146230699364213), (22, 0.9164396003633062), (23, 0.9200726612170753), (24, 0.9109900090826523), (25, 0.8973660308810173)]\n",
            "INFO:flwr:app_fit: losses_distributed [(1, 0.6566757493188011), (2, 0.7883742052679383), (3, 0.8610354223433243), (4, 0.8919164396003634), (5, 0.8410535876475931), (6, 0.857402361489555), (7, 0.8746594005449592), (8, 0.8437783832879201), (9, 0.8646684831970936), (10, 0.8955495004541327), (11, 0.9100817438692097), (12, 0.9028156221616713), (13, 0.8864668483197095), (14, 0.8782924613987285), (15, 0.8928247048138055), (16, 0.8937329700272478), (17, 0.899182561307902), (18, 0.8873751135331516), (19, 0.8919164396003632), (20, 0.910990009082652), (21, 0.9146230699364213), (22, 0.9164396003633062), (23, 0.9200726612170753), (24, 0.9109900090826523), (25, 0.8973660308810173)]\n",
            "INFO flwr 2023-05-22 20:23:47,184 | app.py:219 | app_fit: metrics_distributed_fit {}\n",
            "INFO:flwr:app_fit: metrics_distributed_fit {}\n",
            "INFO flwr 2023-05-22 20:23:47,186 | app.py:220 | app_fit: metrics_distributed {}\n",
            "INFO:flwr:app_fit: metrics_distributed {}\n",
            "INFO flwr 2023-05-22 20:23:47,188 | app.py:221 | app_fit: losses_centralized []\n",
            "INFO:flwr:app_fit: losses_centralized []\n",
            "INFO flwr 2023-05-22 20:23:47,190 | app.py:222 | app_fit: metrics_centralized {}\n",
            "INFO:flwr:app_fit: metrics_centralized {}\n"
          ]
        },
        {
          "output_type": "display_data",
          "data": {
            "text/plain": [
              "<Figure size 640x480 with 1 Axes>"
            ],
            "image/png": "[encoded data removed]"
          },
          "metadata": {}
        }
      ],
      "source": [
        "loop_list = strategy_list\n",
        "\n",
        "if loop_on_strategies is False: \n",
        "  loop_list = [strategy_type]\n",
        "\n",
        "for strategy_type in loop_list: \n",
        "  print(\"\\nAnalyzing Strategy... : \", strategy_type.capitalize())\n",
        "\n",
        "  # Crea un'istanza del modello e ne ottiene i parametri\n",
        "  if dataset == \"cifar10\":\n",
        "    params = get_parameters(ConvNet())\n",
        "  elif dataset == \"har\":\n",
        "    params = get_parameters(MLP())\n",
        "\n",
        "  if strategy_type == strategy_list[0]:\n",
        "    # Creazione della Strategia FedAvg\n",
        "    # Passa i parametri alla strategia per l'inizializzazione dei parametri lato Server\n",
        "    strategy = fl.server.strategy.FedAvg(\n",
        "        fraction_fit=1.0,\n",
        "        fraction_evaluate=0.3,\n",
        "        min_fit_clients=n_clients,\n",
        "        min_evaluate_clients=3,\n",
        "        min_available_clients=n_clients,\n",
        "        initial_parameters=fl.common.ndarrays_to_parameters(params),\n",
        "    )\n",
        "\n",
        "  if strategy_type == strategy_list[1]:\n",
        "    # Creazione della Strategia FedAdagrad\n",
        "    strategy = fl.server.strategy.FedAdagrad(\n",
        "        fraction_fit=1.0,\n",
        "        fraction_evaluate=0.3,\n",
        "        min_fit_clients=n_clients,\n",
        "        min_evaluate_clients=3,\n",
        "        min_available_clients=n_clients,\n",
        "        initial_parameters=fl.common.ndarrays_to_parameters(params),\n",
        "    )\n",
        "\n",
        "  if strategy_type == strategy_list[2]:\n",
        "    # Creazione della Strategia FedAdam\n",
        "    strategy = fl.server.strategy.FedAdam(\n",
        "        fraction_fit=1.0,\n",
        "        fraction_evaluate=0.3,\n",
        "        min_fit_clients=n_clients,\n",
        "        min_evaluate_clients=3,\n",
        "        min_available_clients=n_clients,\n",
        "        initial_parameters=fl.common.ndarrays_to_parameters(params),\n",
        "    )\n",
        "\n",
        "  if strategy_type == strategy_list[3]:\n",
        "    # Creazione della Strategia FedYogi\n",
        "    # Passa i parametri alla strategia per l'inizializzazione dei parametri lato Server\n",
        "    strategy = fl.server.strategy.FedYogi(\n",
        "        fraction_fit=1.0,\n",
        "        fraction_evaluate=0.3,\n",
        "        min_fit_clients=n_clients,\n",
        "        min_evaluate_clients=3,\n",
        "        min_available_clients=n_clients,\n",
        "        initial_parameters=fl.common.ndarrays_to_parameters(params),\n",
        "    )\n",
        "\n",
        "  # Specifica le risorse del client se si ha bisogno della GPU (default a 1 per CPU e 0 per GPU)\n",
        "  client_resources = None\n",
        "  if DEVICE.type == \"cuda\":\n",
        "      client_resources = {\"num_gpus\": 1}\n",
        "\n",
        "  # Avvio della Simulazione\n",
        "  history = fl.simulation.start_simulation(\n",
        "      client_fn=client_fn,\n",
        "      num_clients=n_clients,\n",
        "      config=fl.server.ServerConfig(num_rounds=n_rounds), \n",
        "      strategy=strategy,\n",
        "      client_resources=client_resources,\n",
        "  )\n",
        "\n",
        "  '''\n",
        "  federated_weights = server.get_weights()\n",
        "  # Salvare i pesi del modello su disco\n",
        "  torch.save(federated_weights, \"federated_model_weights.pt\")\n",
        "  '''\n",
        "  \n",
        "  acc = [m[1] for m in history.losses_distributed]\n",
        "  plt.figure()\t\t\t\t\t\t\t\t\t\t\t\t# generate a new window\n",
        "  plt.plot(acc, label=strategy_type.capitalize()+' Accuracy', color = strategy_colors[loop_list.index(strategy_type)])\n",
        "  plt.legend()\n",
        "  plt.title(strategy_type.capitalize())\n",
        "  plt.savefig(\"./\"+strategy_type+\".png\", dpi = 300)\n",
        "  plt.show()\n",
        "  plt.close()\n",
        "\n",
        "  strategies_acc.append((strategy_type, max(acc), acc[-1]))"
      ]
    },
    {
      "cell_type": "code",
      "source": [
        "strategies_acc"
      ],
      "metadata": {
        "colab": {
          "base_uri": "https://localhost:8080/"
        },
        "id": "zqcYMOEpIhup",
        "outputId": "c2c04045-cedb-49d5-8f18-f030511a5adb"
      },
      "execution_count": null,
      "outputs": [
        {
          "output_type": "execute_result",
          "data": {
            "text/plain": [
              "[('fedavg', 0.9455040871934605, 0.9227974568574022),\n",
              " ('fedadagrad', 0.7084468664850135, 0.6521344232515894),\n",
              " ('fedadam', 0.7356948228882834, 0.7311534968210718),\n",
              " ('fedyogi', 0.9200726612170753, 0.8973660308810173)]"
            ]
          },
          "metadata": {},
          "execution_count": 21
        }
      ]
    },
    {
      "cell_type": "code",
      "execution_count": null,
      "metadata": {
        "colab": {
          "base_uri": "https://localhost:8080/",
          "height": 444
        },
        "id": "al6IJtZ3XIWC",
        "outputId": "9004bf6f-e7dc-4556-9d26-f17369835c34"
      },
      "outputs": [
        {
          "output_type": "display_data",
          "data": {
            "text/plain": [
              "<Figure size 640x480 with 1 Axes>"
            ],
            "image/png": "[encoded data removed]"
          },
          "metadata": {}
        }
      ],
      "source": [
        "strategies_acc_df = pd.DataFrame(strategies_acc, columns=['Strategy', 'Max Accuracy', 'Last Accuracy'])\n",
        "strategies_acc_df.plot.bar()\n",
        "plt.xlabel(loop_list)\n",
        "plt.savefig(\"./fl_accuracies_over_strategies.png\", dpi = 300)\n",
        "plt.show()"
      ]
    },
    {
      "cell_type": "markdown",
      "metadata": {
        "id": "GgB0Ge8xz372"
      },
      "source": [
        "## Build a Strategy from scratch\n",
        "\n",
        "Let’s overwrite the `configure_fit` method such that it passes a higher learning rate (potentially also other hyperparameters) to the optimizer of a fraction of the clients. We will keep the sampling of the clients as it is in `FedAvg` and then change the configuration dictionary (one of the `FitIns` attributes)."
      ]
    },
    {
      "cell_type": "code",
      "execution_count": null,
      "metadata": {
        "colab": {
          "base_uri": "https://localhost:8080/",
          "height": 159
        },
        "id": "zyfMR8-Oz372",
        "outputId": "be639488-3142-42d0-c9d7-a5ac8106f0bf"
      },
      "outputs": [
        {
          "data": {
            "application/vnd.google.colaboratory.intrinsic+json": {
              "type": "string"
            },
            "text/plain": [
              "'\\n        return parameters_aggregated, metrics_aggregated\\n\\n    def configure_evaluate(\\n        self, server_round: int, parameters: Parameters, client_manager: ClientManager\\n    ) -> List[Tuple[ClientProxy, EvaluateIns]]:\\n        \"\"\"Configure the next round of evaluation.\"\"\"\\n        if self.fraction_evaluate == 0.0:\\n            return []\\n        config = {}\\n        evaluate_ins = EvaluateIns(parameters, config)\\n\\n        # Sample clients\\n        sample_size, min_num_clients = self.num_evaluation_clients(\\n            client_manager.num_available()\\n        )\\n        clients = client_manager.sample(\\n            num_clients=sample_size, min_num_clients=min_num_clients\\n        )\\n\\n        # Return client/config pairs\\n        return [(client, evaluate_ins) for client in clients]\\n\\n    def aggregate_evaluate(\\n        self,\\n        server_round: int,\\n        results: List[Tuple[ClientProxy, EvaluateRes]],\\n        failures: List[Union[Tuple[ClientProxy, EvaluateRes], BaseException]],\\n    ) -> Tuple[Optional[float], Dict[str, Scalar]]:\\n        \"\"\"Aggregate evaluation losses using weighted average.\"\"\"\\n\\n        if not results:\\n            return None, {}\\n\\n        loss_aggregated = weighted_loss_avg(\\n            [\\n                (evaluate_res.num_examples, evaluate_res.loss)\\n                for _, evaluate_res in results\\n            ]\\n        )\\n        metrics_aggregated = {}\\n        return loss_aggregated, metrics_aggregated\\n\\n    def evaluate(\\n        self, server_round: int, parameters: Parameters\\n    ) -> Optional[Tuple[float, Dict[str, Scalar]]]:\\n        \"\"\"Evaluate global model parameters using an evaluation function.\"\"\"\\n\\n        # Let\\'s assume we won\\'t perform the global model evaluation on the server side.\\n        return None\\n\\n    def num_fit_clients(self, num_available_clients: int) -> Tuple[int, int]:\\n        \"\"\"Return sample size and required number of clients.\"\"\"\\n        num_clients = int(num_available_clients * self.fraction_fit)\\n        return max(num_clients, self.min_fit_clients), self.min_available_clients\\n\\n    def num_evaluation_clients(self, num_available_clients: int) -> Tuple[int, int]:\\n        \"\"\"Use a fraction of available clients for evaluation.\"\"\"\\n        num_clients = int(num_available_clients * self.fraction_evaluate)\\n        return max(num_clients, self.min_evaluate_clients), self.min_available_clients\\n'"
            ]
          },
          "execution_count": 89,
          "metadata": {},
          "output_type": "execute_result"
        }
      ],
      "source": [
        "'''\n",
        "from typing import Callable, Union\n",
        "\n",
        "from flwr.common import (\n",
        "    EvaluateIns,\n",
        "    EvaluateRes,\n",
        "    FitIns,\n",
        "    FitRes,\n",
        "    MetricsAggregationFn,\n",
        "    NDArrays,\n",
        "    Parameters,\n",
        "    Scalar,\n",
        "    ndarrays_to_parameters,\n",
        "    parameters_to_ndarrays,\n",
        ")\n",
        "from flwr.server.client_manager import ClientManager\n",
        "from flwr.server.client_proxy import ClientProxy\n",
        "from flwr.server.strategy.aggregate import aggregate, weighted_loss_avg\n",
        "\n",
        "\n",
        "class FedCustom(fl.server.strategy.Strategy):\n",
        "    def __init__(\n",
        "        self,\n",
        "        fraction_fit: float = 1.0,\n",
        "        fraction_evaluate: float = 1.0,\n",
        "        min_fit_clients: int = 2,\n",
        "        min_evaluate_clients: int = 2,\n",
        "        min_available_clients: int = 2,\n",
        "    ) -> None:\n",
        "        super().__init__()\n",
        "        self.fraction_fit = fraction_fit\n",
        "        self.fraction_evaluate = fraction_evaluate\n",
        "        self.min_fit_clients = min_fit_clients\n",
        "        self.min_evaluate_clients = min_evaluate_clients\n",
        "        self.min_available_clients = min_available_clients\n",
        "\n",
        "    def __repr__(self) -> str:\n",
        "        return \"FedCustom\"\n",
        "\n",
        "    def initialize_parameters(\n",
        "        self, client_manager: ClientManager\n",
        "    ) -> Optional[Parameters]:\n",
        "        \"\"\"Initialize global model parameters.\"\"\"\n",
        "        net = Net()\n",
        "        ndarrays = get_parameters(net)\n",
        "        return fl.common.ndarrays_to_parameters(ndarrays)\n",
        "\n",
        "    def configure_fit(\n",
        "        self, server_round: int, parameters: Parameters, client_manager: ClientManager\n",
        "    ) -> List[Tuple[ClientProxy, FitIns]]:\n",
        "        \"\"\"Configure the next round of training.\"\"\"\n",
        "\n",
        "        # Sample clients\n",
        "        sample_size, min_num_clients = self.num_fit_clients(\n",
        "            client_manager.num_available()\n",
        "        )\n",
        "        clients = client_manager.sample(\n",
        "            num_clients=sample_size, min_num_clients=min_num_clients\n",
        "        )\n",
        "\n",
        "        # Create custom configs\n",
        "        n_clients = len(clients)\n",
        "        half_clients = n_clients // 2\n",
        "        standard_config = {\"lr\": 0.001}\n",
        "        higher_lr_config = {\"lr\": 0.003}\n",
        "        fit_configurations = []\n",
        "        for idx, client in enumerate(clients):\n",
        "            if idx < half_clients:\n",
        "                fit_configurations.append((client, FitIns(parameters, standard_config)))\n",
        "            else:\n",
        "                fit_configurations.append(\n",
        "                    (client, FitIns(parameters, higher_lr_config))\n",
        "                )\n",
        "        return fit_configurations\n",
        "\n",
        "    def aggregate_fit(\n",
        "        self,\n",
        "        server_round: int,\n",
        "        results: List[Tuple[ClientProxy, FitRes]],\n",
        "        failures: List[Union[Tuple[ClientProxy, FitRes], BaseException]],\n",
        "    ) -> Tuple[Optional[Parameters], Dict[str, Scalar]]:\n",
        "        \"\"\"Aggregate fit results using weighted average.\"\"\"\n",
        "\n",
        "        weights_results = [\n",
        "            (parameters_to_ndarrays(fit_res.parameters), fit_res.num_examples)\n",
        "            for _, fit_res in results\n",
        "        ]\n",
        "        parameters_aggregated = ndarrays_to_parameters(aggregate(weights_results))\n",
        "        metrics_aggregated = {}\n",
        "\n",
        "        \"\"\"Aggregate fit results using weighted average.\"\"\"\n",
        "        '''\n",
        "'''\n",
        "        weights_results = [\n",
        "            (parameters_to_ndarrays(fit_res.parameters), fit_res.num_examples)\n",
        "            for _, fit_res in results\n",
        "        ]\n",
        "        parameters_aggregated = ndarrays_to_parameters(aggregate(weights_results))\n",
        "        metrics_aggregated = {}\n",
        "'''\n",
        "'''\n",
        "        return parameters_aggregated, metrics_aggregated\n",
        "\n",
        "    def configure_evaluate(\n",
        "        self, server_round: int, parameters: Parameters, client_manager: ClientManager\n",
        "    ) -> List[Tuple[ClientProxy, EvaluateIns]]:\n",
        "        \"\"\"Configure the next round of evaluation.\"\"\"\n",
        "        if self.fraction_evaluate == 0.0:\n",
        "            return []\n",
        "        config = {}\n",
        "        evaluate_ins = EvaluateIns(parameters, config)\n",
        "\n",
        "        # Sample clients\n",
        "        sample_size, min_num_clients = self.num_evaluation_clients(\n",
        "            client_manager.num_available()\n",
        "        )\n",
        "        clients = client_manager.sample(\n",
        "            num_clients=sample_size, min_num_clients=min_num_clients\n",
        "        )\n",
        "\n",
        "        # Return client/config pairs\n",
        "        return [(client, evaluate_ins) for client in clients]\n",
        "\n",
        "    def aggregate_evaluate(\n",
        "        self,\n",
        "        server_round: int,\n",
        "        results: List[Tuple[ClientProxy, EvaluateRes]],\n",
        "        failures: List[Union[Tuple[ClientProxy, EvaluateRes], BaseException]],\n",
        "    ) -> Tuple[Optional[float], Dict[str, Scalar]]:\n",
        "        \"\"\"Aggregate evaluation losses using weighted average.\"\"\"\n",
        "\n",
        "        if not results:\n",
        "            return None, {}\n",
        "\n",
        "        loss_aggregated = weighted_loss_avg(\n",
        "            [\n",
        "                (evaluate_res.num_examples, evaluate_res.loss)\n",
        "                for _, evaluate_res in results\n",
        "            ]\n",
        "        )\n",
        "        metrics_aggregated = {}\n",
        "        return loss_aggregated, metrics_aggregated\n",
        "\n",
        "    def evaluate(\n",
        "        self, server_round: int, parameters: Parameters\n",
        "    ) -> Optional[Tuple[float, Dict[str, Scalar]]]:\n",
        "        \"\"\"Evaluate global model parameters using an evaluation function.\"\"\"\n",
        "\n",
        "        # Let's assume we won't perform the global model evaluation on the server side.\n",
        "        return None\n",
        "\n",
        "    def num_fit_clients(self, num_available_clients: int) -> Tuple[int, int]:\n",
        "        \"\"\"Return sample size and required number of clients.\"\"\"\n",
        "        num_clients = int(num_available_clients * self.fraction_fit)\n",
        "        return max(num_clients, self.min_fit_clients), self.min_available_clients\n",
        "\n",
        "    def num_evaluation_clients(self, num_available_clients: int) -> Tuple[int, int]:\n",
        "        \"\"\"Use a fraction of available clients for evaluation.\"\"\"\n",
        "        num_clients = int(num_available_clients * self.fraction_evaluate)\n",
        "        return max(num_clients, self.min_evaluate_clients), self.min_available_clients\n",
        "\n",
        "\n",
        "fl.simulation.start_simulation(\n",
        "    client_fn=client_fn,\n",
        "    num_clients=2,\n",
        "    config=fl.server.ServerConfig(num_rounds=3),\n",
        "    strategy=FedCustom(),  # <-- pass the new strategy here\n",
        "    client_resources=client_resources,\n",
        ")\n",
        "'''"
      ]
    },
    {
      "cell_type": "markdown",
      "metadata": {
        "id": "BYbv7uIDz373"
      },
      "source": [
        "The only thing left is to use the newly created custom Strategy `FedCustom` when starting the experiment:"
      ]
    },
    {
      "cell_type": "code",
      "execution_count": null,
      "metadata": {
        "colab": {
          "base_uri": "https://localhost:8080/",
          "height": 239
        },
        "id": "wYhzzqe2z374",
        "outputId": "bc7227d6-acaa-4d86-b380-76c7580b27bf"
      },
      "outputs": [
        {
          "ename": "NameError",
          "evalue": "ignored",
          "output_type": "error",
          "traceback": [
            "\u001b[0;31m---------------------------------------------------------------------------\u001b[0m",
            "\u001b[0;31mNameError\u001b[0m                                 Traceback (most recent call last)",
            "\u001b[0;32m<ipython-input-90-d4d9c722317c>\u001b[0m in \u001b[0;36m<cell line: 1>\u001b[0;34m()\u001b[0m\n\u001b[1;32m      3\u001b[0m     \u001b[0mnum_clients\u001b[0m\u001b[0;34m=\u001b[0m\u001b[0;36m2\u001b[0m\u001b[0;34m,\u001b[0m\u001b[0;34m\u001b[0m\u001b[0;34m\u001b[0m\u001b[0m\n\u001b[1;32m      4\u001b[0m     \u001b[0mconfig\u001b[0m\u001b[0;34m=\u001b[0m\u001b[0mfl\u001b[0m\u001b[0;34m.\u001b[0m\u001b[0mserver\u001b[0m\u001b[0;34m.\u001b[0m\u001b[0mServerConfig\u001b[0m\u001b[0;34m(\u001b[0m\u001b[0mnum_rounds\u001b[0m\u001b[0;34m=\u001b[0m\u001b[0;36m3\u001b[0m\u001b[0;34m)\u001b[0m\u001b[0;34m,\u001b[0m\u001b[0;34m\u001b[0m\u001b[0;34m\u001b[0m\u001b[0m\n\u001b[0;32m----> 5\u001b[0;31m     \u001b[0mstrategy\u001b[0m\u001b[0;34m=\u001b[0m\u001b[0mFedCustom\u001b[0m\u001b[0;34m(\u001b[0m\u001b[0;34m)\u001b[0m\u001b[0;34m,\u001b[0m  \u001b[0;31m# <-- pass the new strategy here\u001b[0m\u001b[0;34m\u001b[0m\u001b[0;34m\u001b[0m\u001b[0m\n\u001b[0m\u001b[1;32m      6\u001b[0m     \u001b[0mclient_resources\u001b[0m\u001b[0;34m=\u001b[0m\u001b[0mclient_resources\u001b[0m\u001b[0;34m,\u001b[0m\u001b[0;34m\u001b[0m\u001b[0;34m\u001b[0m\u001b[0m\n\u001b[1;32m      7\u001b[0m )\n",
            "\u001b[0;31mNameError\u001b[0m: name 'FedCustom' is not defined"
          ]
        }
      ],
      "source": []
    }
  ],
  "metadata": {
    "accelerator": "GPU",
    "colab": {
      "provenance": []
    },
    "gpuClass": "standard",
    "kernelspec": {
      "display_name": "Python 3.7.12 64-bit ('flower-3.7.12')",
      "language": "python",
      "name": "python3"
    }
  },
  "nbformat": 4,
  "nbformat_minor": 0
}