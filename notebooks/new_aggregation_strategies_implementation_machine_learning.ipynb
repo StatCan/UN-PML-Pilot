{
  "cells": [
    {
      "cell_type": "markdown",
      "metadata": {
        "id": "2BCtZONh3yU4"
      },
      "source": [
        "#**Definizione di Nuove Strategie di Federated Learning con  Flower e Pytorch**"
      ]
    },
    {
      "cell_type": "markdown",
      "metadata": {
        "id": "XrYSzFamz37m"
      },
      "source": [
        "#**Installazione dei Pacchetti Richiesti**\n"
      ]
    },
    {
      "cell_type": "markdown",
      "metadata": {
        "id": "6q69zTMh2dRH"
      },
      "source": [
        "*   Installazione di PyTorch (Torch)\n",
        "*   Installazione di Torchvision per Computer Vision \n",
        "*   Installazione di Flower per l'Implementazione del Federated Learning "
      ]
    },
    {
      "cell_type": "code",
      "execution_count": 111,
      "metadata": {
        "id": "7GwEkQ0Jz37n"
      },
      "outputs": [],
      "source": [
        "!pip install -q flwr[simulation] torch torchvision"
      ]
    },
    {
      "cell_type": "markdown",
      "metadata": {
        "id": "qls8qd8Iz37p"
      },
      "source": [
        "#**All General Imports**"
      ]
    },
    {
      "cell_type": "code",
      "execution_count": 112,
      "metadata": {
        "id": "yu-1yvWzz37p"
      },
      "outputs": [],
      "source": [
        "import os\n",
        "import timeit\n",
        "import glob\n",
        "import pandas as pd \n",
        "import platform\n",
        "import numpy as np\n",
        "import matplotlib.pyplot as plt\n",
        "from collections import OrderedDict\n",
        "from typing import Dict, List, Optional, Tuple"
      ]
    },
    {
      "cell_type": "markdown",
      "metadata": {
        "id": "216WwsYEXg2j"
      },
      "source": [
        "#**All Machine Learning Imports**"
      ]
    },
    {
      "cell_type": "code",
      "execution_count": 113,
      "metadata": {
        "id": "NMhXiHTAXhbQ"
      },
      "outputs": [],
      "source": [
        "import torch\n",
        "import torch.nn as nn\n",
        "import torch.nn.functional as F\n",
        "import torchvision.transforms as transforms\n",
        "from torch.utils.data import DataLoader, random_split\n",
        "from torchvision.datasets import CIFAR10\n",
        "from torch import Tensor"
      ]
    },
    {
      "cell_type": "markdown",
      "metadata": {
        "id": "3o51lANbXqun"
      },
      "source": [
        "#**All Federated Learning Imports**"
      ]
    },
    {
      "cell_type": "code",
      "execution_count": 114,
      "metadata": {
        "id": "4sB9T5rcXjK8"
      },
      "outputs": [],
      "source": [
        "import flwr as fl"
      ]
    },
    {
      "cell_type": "markdown",
      "metadata": {
        "id": "EQQ--21w4ImG"
      },
      "source": [
        "#**All Globals**"
      ]
    },
    {
      "cell_type": "code",
      "execution_count": 115,
      "metadata": {
        "id": "AQRPcxbv4HEh"
      },
      "outputs": [],
      "source": [
        "n_clients = 4\n",
        "strategy_colors = ['red', 'green', 'blue', 'cyan']\n",
        "strategy_list = ['fedavg', 'fedadagrad', 'fedadam', 'fedyogi']\n",
        "strategy_type = 'fedavg'\n",
        "loop_on_strategies = True     # se True \n",
        "dataset = \"har\"                # cifar10, har"
      ]
    },
    {
      "cell_type": "markdown",
      "metadata": {
        "id": "w4cXeVEF91j7"
      },
      "source": [
        "#**Hyper-parameters**"
      ]
    },
    {
      "cell_type": "code",
      "execution_count": 116,
      "metadata": {
        "id": "j2BhNjhC94dt"
      },
      "outputs": [],
      "source": [
        "n_epochs = 50\n",
        "n_rounds = 25\n",
        "validation_split = 0.2\n",
        "batch_size = 64\n",
        "learning_rate = 0.0001\n",
        "save_path = \"epochs_\"+str(n_epochs)+\"_number_rounds_\"+str(n_rounds)+\"_learning_rate_\"+str(learning_rate)"
      ]
    },
    {
      "cell_type": "markdown",
      "metadata": {
        "id": "_p9VHdJ-2-gu"
      },
      "source": [
        "#**Initializations**"
      ]
    },
    {
      "cell_type": "code",
      "execution_count": 117,
      "metadata": {
        "colab": {
          "base_uri": "https://localhost:8080/"
        },
        "id": "cDtG-ecZ2_Rl",
        "outputId": "ffb6cbba-25f6-4c3f-ff97-2da0aa8c063f"
      },
      "outputs": [
        {
          "output_type": "stream",
          "name": "stdout",
          "text": [
            "Training on cpu using PyTorch 2.0.1+cu118 and Flower 1.4.0\n"
          ]
        }
      ],
      "source": [
        "start_global_time = timeit.default_timer()\n",
        "\n",
        "if not os.path.exists(\"./Outputs\"):\n",
        "    os.makedirs(\"./Outputs\")\n",
        "\n",
        "if not os.path.exists(\"./Outputs/\"+save_path):\n",
        "    os.makedirs(\"./Outputs/\"+save_path)\n",
        "\n",
        "DEVICE = torch.device(\"cpu\")  # Prova \"cuda\" per addestramento su GPU\n",
        "print(\n",
        "    f\"Training on {DEVICE} using PyTorch {torch.__version__} and Flower {fl.__version__}\"\n",
        ")\n",
        "\n",
        "OS = platform.system()           # Sistema Operativo\n",
        "\n",
        "strategies_acc = []"
      ]
    },
    {
      "cell_type": "markdown",
      "metadata": {
        "id": "N3-9cMBkbAsq"
      },
      "source": [
        "#**All General Functions Definitions**"
      ]
    },
    {
      "cell_type": "code",
      "execution_count": 118,
      "metadata": {
        "id": "c9EGcGI8bNeq"
      },
      "outputs": [],
      "source": [
        "def data_download(file_to_download, gdrive_code, OS, uncompress = True):\n",
        "  if not os.path.exists(file_to_download):\n",
        "    os.system('gdown --id \"'+gdrive_code+'\" --output '+file_to_download)\n",
        "    if OS == \"Linux\" and uncompress:\n",
        "        os.system('unzip -o -n \"./'+file_to_download+'\" -d '+os.path.dirname(file_to_download))\n",
        "    return True\n",
        "  else: \n",
        "    return None"
      ]
    },
    {
      "cell_type": "markdown",
      "metadata": {
        "id": "pw7qNz4k6g-P"
      },
      "source": [
        "#**Data Download**\n"
      ]
    },
    {
      "cell_type": "code",
      "execution_count": 119,
      "metadata": {
        "id": "Tj3J-tRF6ebG"
      },
      "outputs": [],
      "source": [
        "if dataset == \"cifar10\":\n",
        "  transform = transforms.Compose(\n",
        "      [transforms.ToTensor(), transforms.Normalize((0.5, 0.5, 0.5), (0.5, 0.5, 0.5))]\n",
        "  )\n",
        "  trainset = CIFAR10(\"./dataset\", train=True, download=True, transform=transform)\n",
        "  testset = CIFAR10(\"./dataset\", train=False, download=True, transform=transform)\n",
        "\n",
        "  print(\"Training Set size: \", len(trainset))\n",
        "  print(\"Test Set size: \", len(testset))\n",
        "elif dataset == \"har\": \n",
        "  out = data_download(\"./har_datasets_fl.zip\", \"1LUjU4yvBRh6FPBlIHRCD2uf5zMH6l9tC\", OS) \n",
        "  #urllib.request.urlretrieve(\"https://archive.ics.uci.edu/ml/machine-learning-databases/00240/UCI%20HAR%20Dataset.zip\", filename=\"har-data.zip\")\n"
      ]
    },
    {
      "cell_type": "markdown",
      "metadata": {
        "id": "CGxcJLB06v-9"
      },
      "source": [
        "#**Ripartizione del Training Set per il Federated Learning**"
      ]
    },
    {
      "cell_type": "markdown",
      "metadata": {
        "id": "Qf9hdLuk9DIf"
      },
      "source": [
        "Il **Dataset** principale viene splittato **in N parti** tante quante il numero di client. Ciascun pezzo è costituito da differenti training e validation set, mentre il test set viene condiviso tra tutti i clients, di modo tale che esso sia sempre lo stesso e possa garantire confronti affidabili. Questo test set comune infatti permette di fare dei confronti tra differenti client con un unico e stabile test set. "
      ]
    },
    {
      "cell_type": "code",
      "execution_count": 120,
      "metadata": {
        "id": "PBQj-WxC6tZl"
      },
      "outputs": [],
      "source": [
        "if dataset == \"cifar10\":\n",
        "  partition_size = len(trainset) // n_clients\n",
        "  lengths = [partition_size] * n_clients\n",
        "  datasets = random_split(trainset, lengths, torch.Generator().manual_seed(42))\n",
        "\n",
        "  print(\"Size of each Dataset Partition: \", partition_size)\n",
        "  print(\"All Dataset Partitions sizes: \", lengths)"
      ]
    },
    {
      "cell_type": "markdown",
      "metadata": {
        "id": "O6xA5e_C4Xjw"
      },
      "source": [
        "#**Preparazione dei Dati**"
      ]
    },
    {
      "cell_type": "markdown",
      "metadata": {
        "id": "jC1yY16X4bNP"
      },
      "source": [
        "Per ciascun sottoinsieme, estraiamo un training set e un validation set e li wrappiamo all'interno di DataLoader, definendo il batch size, lo shuffle, ecc. Il testset viene condiviso tra tutti i client, mentre train e validation set sono specifici per ogni client: questo è vero sia per il dataset di benchmark cifar10 che per il dataset di human activity recognition (har). "
      ]
    },
    {
      "cell_type": "code",
      "execution_count": 121,
      "metadata": {
        "colab": {
          "base_uri": "https://localhost:8080/"
        },
        "id": "2UZNdtuIz37s",
        "outputId": "f5a9b046-94c0-4bb8-953c-0111de22e416"
      },
      "outputs": [
        {
          "output_type": "stream",
          "name": "stdout",
          "text": [
            "Reading :  ./har_datasets_fl/3 - STATCAN\n",
            "Reading :  ./har_datasets_fl/1 - ISTAT\n",
            "Reading :  ./har_datasets_fl/2 - ONS\n",
            "Reading :  ./har_datasets_fl/0 - CBS\n"
          ]
        }
      ],
      "source": [
        "trainloaders = []\n",
        "valloaders = []\n",
        "\n",
        "if dataset == \"cifar10\": \n",
        "  for ds in datasets:\n",
        "      len_val = len(ds) // validation_rate\n",
        "      len_train = len(ds) - len_val\n",
        "      lengths = [len_train, len_val]\n",
        "      ds_train, ds_val = random_split(ds, lengths, torch.Generator().manual_seed(42))\n",
        "      trainloaders.append(DataLoader(ds_train, batch_size = batch_size, shuffle=True))\n",
        "      valloaders.append(DataLoader(ds_val, batch_size = batch_size))\n",
        "\n",
        "  testloader = DataLoader(testset, batch_size = batch_size)\n",
        "elif dataset == \"har\":\n",
        "  subdirectories = [f.path for f in os.scandir('./har_datasets_fl') if f.is_dir()]\n",
        "\n",
        "  global_X_testset = pd.DataFrame()\n",
        "  global_y_testset = pd.DataFrame()\n",
        " \n",
        "  for subdirectory in subdirectories:\n",
        "    fold_number = os.path.basename(subdirectory).split('-')[0].strip()    \n",
        "    print(\"Reading : \", subdirectory)\n",
        "    \n",
        "    trainset = pd.read_csv(subdirectory+'/train/'+fold_number+'_ALL_train.csv', delimiter = ';')\n",
        "    valset = trainset[-int(len(trainset)*validation_split):]\n",
        "    trainset = trainset[0:-int(len(trainset)*validation_split)]\n",
        "    testset = pd.read_csv(subdirectory+'/test/'+fold_number+'_ALL_test.csv', delimiter = ';')\n",
        "\n",
        "    '''\n",
        "    print(trainset.shape)\n",
        "    print(valset.shape)\n",
        "    print(testset.shape)\n",
        "    '''\n",
        "\n",
        "    X_train = pd.concat([trainset[str(i)] for i in range(561)], axis = 1)\n",
        "    y_train = trainset['Y'] - 1\n",
        "\n",
        "    X_val = pd.concat([valset[str(i)] for i in range(561)], axis = 1)\n",
        "    y_val = valset['Y'] - 1\n",
        "\n",
        "    X_test = pd.concat([testset[str(i)] for i in range(561)], axis = 1)\n",
        "    y_test = testset['Y'] - 1\n",
        "\n",
        "    global_X_testset = pd.concat([global_X_testset, X_test], axis=0)\n",
        "    global_y_testset = pd.concat([global_y_testset, y_test], axis=0)\n",
        "\n",
        "    training_data = torch.utils.data.TensorDataset(torch.tensor(X_train.values).float(), torch.as_tensor(y_train.values).squeeze())\n",
        "    val_data = torch.utils.data.TensorDataset(torch.tensor(X_val.values).float(), torch.as_tensor(y_val.values).squeeze())\n",
        "    trainloaders.append(DataLoader(training_data, batch_size=batch_size))\n",
        "    valloaders.append(DataLoader(val_data, batch_size=batch_size))\n",
        "\n",
        "test_data = torch.utils.data.TensorDataset(torch.tensor(global_X_testset.values).float(), torch.as_tensor(global_y_testset.values).squeeze())\n",
        "test_dataloader = DataLoader(test_data, batch_size=batch_size)\n"
      ]
    },
    {
      "cell_type": "code",
      "execution_count": 122,
      "metadata": {
        "colab": {
          "base_uri": "https://localhost:8080/"
        },
        "id": "gQOgZcsK-3tV",
        "outputId": "48e90fc3-73e3-4d61-8919-4109b6765f73"
      },
      "outputs": [
        {
          "output_type": "stream",
          "name": "stdout",
          "text": [
            "Number of Training Subsets:  4\n"
          ]
        }
      ],
      "source": [
        "print(\"Number of Training Subsets: \", len(trainloaders))"
      ]
    },
    {
      "cell_type": "code",
      "execution_count": 123,
      "metadata": {
        "colab": {
          "base_uri": "https://localhost:8080/"
        },
        "id": "tR1YC_uO_QGr",
        "outputId": "1834ddfb-c1a6-44af-e1cf-1780c2a881c4"
      },
      "outputs": [
        {
          "output_type": "stream",
          "name": "stdout",
          "text": [
            "Number of Validation Subsets:  4\n"
          ]
        }
      ],
      "source": [
        "print(\"Number of Validation Subsets: \", len(trainloaders))"
      ]
    },
    {
      "cell_type": "markdown",
      "metadata": {
        "id": "LKD91sIrBEQS"
      },
      "source": [
        "#**Definizione del Modello**"
      ]
    },
    {
      "cell_type": "code",
      "execution_count": 124,
      "metadata": {
        "id": "eP6FFTRKBBzt"
      },
      "outputs": [],
      "source": [
        "class ConvNet(nn.Module):\n",
        "    def __init__(self) -> None:\n",
        "        super(ConvNet, self).__init__()\n",
        "        self.conv1 = nn.Conv2d(3, 6, 5)\n",
        "        self.pool = nn.MaxPool2d(2, 2)\n",
        "        self.conv2 = nn.Conv2d(6, 16, 5)\n",
        "        self.fc1 = nn.Linear(16 * 5 * 5, 120)\n",
        "        self.fc2 = nn.Linear(120, 84)\n",
        "        self.fc3 = nn.Linear(84, 10)\n",
        "\n",
        "    def forward(self, x: torch.Tensor) -> torch.Tensor:\n",
        "        x = self.pool(F.relu(self.conv1(x)))\n",
        "        x = self.pool(F.relu(self.conv2(x)))\n",
        "        x = x.view(-1, 16 * 5 * 5)\n",
        "        x = F.relu(self.fc1(x))\n",
        "        x = F.relu(self.fc2(x))\n",
        "        x = self.fc3(x)\n",
        "        return x\n",
        "\n",
        "class MLP(nn.Module):\n",
        "    \"\"\" Multi Layer Perceptron \"\"\"\n",
        "    def __init__(self) -> None:\n",
        "        super(MLP, self).__init__()\n",
        "        #self.flatten = nn.Flatten()\n",
        "        self.linear_relu_stack = nn.Sequential(\n",
        "            nn.Linear(561, 512),\n",
        "            nn.ReLU(),\n",
        "            nn.Linear(512, 512),\n",
        "            nn.ReLU(),\n",
        "            nn.Linear(512, 6)\n",
        "        )\n",
        "\n",
        "    def forward(self, x: Tensor) -> Tensor:\n",
        "        #x = self.flatten(x)\n",
        "        logits = self.linear_relu_stack(x)\n",
        "        return logits\n",
        "\n",
        "# Crea un'istanza del modello e ne ottiene i parametri\n",
        "if dataset == \"cifar10\":\n",
        "  Net = ConvNet\n",
        "elif dataset == \"har\":\n",
        "  Net = MLP"
      ]
    },
    {
      "cell_type": "markdown",
      "metadata": {
        "id": "cSAcBk-Wz37t"
      },
      "source": [
        "#**Addestramento del Modello**"
      ]
    },
    {
      "cell_type": "markdown",
      "metadata": {
        "id": "MXWvpXhQkZSg"
      },
      "source": [
        "Nel **federated learning**, il server manda i parametri globali del modello ai suoi client, e i client aggiornano il modello locale mediante i parametri ricevuti dal server. \n",
        "\n",
        "Dunque i client addestrano il modello sui dati locali (i quali influenza i parametri del modello localmente) e mandano i parametri del modello cambiati/aggiornati di nuovo indietro verso il server (o in alternativa, mandano i gradienti verso il server, non in questo caso i parametri completi del modello). \n",
        "\n",
        "Abbiamo bisogno pertanto di due funzioni di supporto per aggiornare il modello locale con i parametri ricevuti dal server (set_parameters) e ottenere i parametri aggiornati dal modello locale (get_parameters). Le seguenti funzioni eseguno queste operazioni per il modello Pytorch precedentemente definito. \n",
        "\n",
        "In sostanza usuamo **state_dict** per accedere ai tensori dei parametri del modello PyTorch. I tensori del parametro sono poi convertiti a/da una lista di array Numpy (che Flower è in grado di serializzare/deserializzare)."
      ]
    },
    {
      "cell_type": "markdown",
      "metadata": {
        "id": "iNebBoMmixaR"
      },
      "source": [
        "##**Aggiornamento dei Parametri del Modello**"
      ]
    },
    {
      "cell_type": "code",
      "execution_count": 125,
      "metadata": {
        "id": "0JS7mbiACzyq"
      },
      "outputs": [],
      "source": [
        "def get_parameters(net) -> List[np.ndarray]:\n",
        "    return [val.cpu().numpy() for _, val in net.state_dict().items()]\n",
        "\n",
        "def set_parameters(net, parameters: List[np.ndarray]):\n",
        "    params_dict = zip(net.state_dict().keys(), parameters)\n",
        "    state_dict = OrderedDict({k: torch.Tensor(v) for k, v in params_dict})\n",
        "    net.load_state_dict(state_dict, strict=True)"
      ]
    },
    {
      "cell_type": "markdown",
      "metadata": {
        "id": "AXUpy6XEmnXV"
      },
      "source": [
        "##**Addestramento**"
      ]
    },
    {
      "cell_type": "code",
      "execution_count": 126,
      "metadata": {
        "id": "RYr_By50z37u"
      },
      "outputs": [],
      "source": [
        "def train(net, trainloader, epochs: int):\n",
        "    \"\"\"Train the network on the training set.\"\"\"\n",
        "    criterion = torch.nn.CrossEntropyLoss()\n",
        "    optimizer = torch.optim.Adam(net.parameters(), lr = learning_rate)\n",
        "    net.train()\n",
        "    for epoch in range(epochs):\n",
        "        correct, total, epoch_loss = 0, 0, 0.0\n",
        "        for images, labels in trainloader:\n",
        "            images, labels = images.to(DEVICE), labels.to(DEVICE)\n",
        "            optimizer.zero_grad()\n",
        "            outputs = net(images)\n",
        "            loss = criterion(net(images), labels)\n",
        "            loss.backward()\n",
        "            optimizer.step()\n",
        "            # Metriche\n",
        "            epoch_loss += loss\n",
        "            total += labels.size(0)\n",
        "            correct += (torch.max(outputs.data, 1)[1] == labels).sum().item()\n",
        "        epoch_loss /= len(trainloader.dataset)\n",
        "        epoch_acc = correct / total\n",
        "        print(f\"Epoch {epoch+1}: train loss {epoch_loss}, accuracy {epoch_acc}\")"
      ]
    },
    {
      "cell_type": "markdown",
      "metadata": {
        "id": "pKu2WdJwB0TL"
      },
      "source": [
        "#**Model Testing**"
      ]
    },
    {
      "cell_type": "code",
      "execution_count": 127,
      "metadata": {
        "id": "FKSlyuX2ByI7"
      },
      "outputs": [],
      "source": [
        "def test(net, testloader):\n",
        "    \"\"\"Evaluate the network on the entire test set.\"\"\"\n",
        "    criterion = torch.nn.CrossEntropyLoss()\n",
        "    correct, total, loss = 0, 0, 0.0\n",
        "    net.eval()\n",
        "    with torch.no_grad():\n",
        "        for images, labels in testloader:\n",
        "            images, labels = images.to(DEVICE), labels.to(DEVICE)\n",
        "            outputs = net(images)\n",
        "            loss += criterion(outputs, labels).item()\n",
        "            _, predicted = torch.max(outputs.data, 1)\n",
        "            total += labels.size(0)\n",
        "            correct += (predicted == labels).sum().item()\n",
        "    loss /= len(testloader.dataset)\n",
        "    accuracy = correct / total\n",
        "\n",
        "    return accuracy, loss"
      ]
    },
    {
      "cell_type": "markdown",
      "metadata": {
        "id": "y8mEMZEQz37v"
      },
      "source": [
        "#**Implementazione del Client Flower**"
      ]
    },
    {
      "cell_type": "markdown",
      "metadata": {
        "id": "95OU1bivpGs1"
      },
      "source": [
        "Come sappiamo i sistemi di Federated learning sono costituiti da una parte client e una parte serve. In Flower, creiamo i client implementando delle sottoclassi di `flwr.client.Client` o `flwr.client.NumPyClient`. \n",
        "\n",
        "Usiamo adesso `NumPyClient` dal momento che è più facile da implementare. \n",
        "\n",
        "Per implementare il client, creiamo una sottoclasse `flwr.client.NumPyClient` e implementiamo 3 metodi `get_parameters`, `fit`, and `evaluate`:\n",
        "\n",
        "* `get_parameters`: Ritorna i parametri del modello attuale. \n",
        "* `fit`: Riceve i parametri del modello dal server, addestra i parametri sui dati locali, e ritorna i parametri del modello aggiornati verso il server. \n",
        "* `evaluate`: Receve i parametri del modello dal server, valuta i parametri del modello sui dati locali, e ritorna il risultato della valutazione al server. \n"
      ]
    },
    {
      "cell_type": "code",
      "execution_count": 128,
      "metadata": {
        "id": "elxhgUFIz37y"
      },
      "outputs": [],
      "source": [
        "class FlowerClient(fl.client.NumPyClient):\n",
        "    def __init__(self, cid, net, trainloader, valloader):\n",
        "        self.cid = cid\n",
        "        self.net = net\n",
        "        self.trainloader = trainloader\n",
        "        self.valloader = valloader\n",
        "\n",
        "    def get_parameters(self, config):\n",
        "        print(f\"[Client {self.cid}] get_parameters\")\n",
        "        return get_parameters(self.net)\n",
        "\n",
        "    def fit(self, parameters, config):\n",
        "        print(f\"[Client {self.cid}] fit, config: {config}\")\n",
        "        set_parameters(self.net, parameters)\n",
        "        train(self.net, self.trainloader, epochs=n_epochs)\n",
        "        return get_parameters(self.net), len(self.trainloader), {}\n",
        "\n",
        "    def evaluate(self, parameters, config):\n",
        "        print(f\"[Client {self.cid}] evaluate, config: {config}\")\n",
        "        set_parameters(self.net, parameters)\n",
        "        loss, accuracy = test(self.net, self.valloader)\n",
        "        \n",
        "        return float(loss), len(self.valloader), {\"accuracy\": float(accuracy)}\n",
        "\n",
        "\n",
        "def client_fn(cid) -> FlowerClient:\n",
        "    net = Net().to(DEVICE)\n",
        "    trainloader = trainloaders[int(cid)]\n",
        "    valloader = valloaders[int(cid)]\n",
        "    return FlowerClient(cid, net, trainloader, valloader)"
      ]
    },
    {
      "cell_type": "markdown",
      "metadata": {
        "id": "OCpI45pCyIkM"
      },
      "source": [
        "Flower, di default, inizializza il modello gobale richiedendo un client casuale per l'inizializzazione dei parametri. In molti casi, vogliamo più controllo sull'inizializzazione dei parametri. Flower quindi permette quindi di passare i parametri inziali alla Strategia. "
      ]
    },
    {
      "cell_type": "markdown",
      "metadata": {
        "id": "kKPR4AsTvUbP"
      },
      "source": [
        "Quando chiamiamo **start_simulation**, diciamo a Flower che ci sono 4 client. Flower aòòpra va avanti e richiede la strategia  FedAvg per selezionare i client. FedAvg sa che dovrebbe selezionalre il 100% dei client disponibili (fraction_fit=1.0), così va avanti e seleziona 4 client casualmente (cioè 100% dei 4)."
      ]
    },
    {
      "cell_type": "markdown",
      "metadata": {
        "id": "PjKKveUJ2ny9"
      },
      "source": [
        "#**Selezione della Strategia di Aggregazione Built-In**"
      ]
    },
    {
      "cell_type": "code",
      "execution_count": null,
      "metadata": {
        "colab": {
          "base_uri": "https://localhost:8080/",
          "height": 1000
        },
        "id": "ADMtlWBEzEhO",
        "outputId": "433d79ad-6ecd-4021-d10e-1d0214a978e0"
      },
      "outputs": [
        {
          "metadata": {
            "tags": null
          },
          "name": "stderr",
          "output_type": "stream",
          "text": [
            "INFO flwr 2023-06-08 15:23:19,674 | app.py:146 | Starting Flower simulation, config: ServerConfig(num_rounds=25, round_timeout=None)\n",
            "INFO:flwr:Starting Flower simulation, config: ServerConfig(num_rounds=25, round_timeout=None)\n"
          ]
        },
        {
          "metadata": {
            "tags": null
          },
          "name": "stdout",
          "output_type": "stream",
          "text": [
            "\n",
            "Analyzing Strategy... :  Fedavg\n",
            "\u001b[2m\u001b[36m(launch_and_fit pid=50708)\u001b[0m [Client 1] fit, config: {}\u001b[32m [repeated 11x across cluster]\u001b[0m\n",
            "\u001b[2m\u001b[36m(launch_and_fit pid=50707)\u001b[0m Epoch 1: train loss 0.0030662829522043467, accuracy 0.9428959891230455\u001b[32m [repeated 11x across cluster]\u001b[0m\n",
            "\u001b[2m\u001b[36m(launch_and_evaluate pid=50708)\u001b[0m [Client 3] evaluate, config: {}\u001b[32m [repeated 9x across cluster]\u001b[0m\n"
          ]
        },
        {
          "metadata": {
            "tags": null
          },
          "name": "stderr",
          "output_type": "stream",
          "text": [
            "\u001b[2m\u001b[36m(pid=50708)\u001b[0m 2023-06-08 15:06:17.308651: W tensorflow/compiler/tf2tensorrt/utils/py_utils.cc:38] TF-TRT Warning: Could not find TensorRT\n",
            "2023-06-08 15:23:25,172\tINFO worker.py:1625 -- Started a local Ray instance.\n",
            "INFO flwr 2023-06-08 15:23:26,930 | app.py:180 | Flower VCE: Ray initialized with resources: {'node:172.28.0.12': 1.0, 'GPU': 1.0, 'object_store_memory': 3923648102.0, 'CPU': 2.0, 'memory': 7847296206.0}\n",
            "INFO:flwr:Flower VCE: Ray initialized with resources: {'node:172.28.0.12': 1.0, 'GPU': 1.0, 'object_store_memory': 3923648102.0, 'CPU': 2.0, 'memory': 7847296206.0}\n",
            "INFO flwr 2023-06-08 15:23:26,938 | server.py:86 | Initializing global parameters\n",
            "INFO:flwr:Initializing global parameters\n",
            "INFO flwr 2023-06-08 15:23:26,945 | server.py:269 | Using initial parameters provided by strategy\n",
            "INFO:flwr:Using initial parameters provided by strategy\n",
            "INFO flwr 2023-06-08 15:23:26,947 | server.py:88 | Evaluating initial parameters\n",
            "INFO:flwr:Evaluating initial parameters\n",
            "INFO flwr 2023-06-08 15:23:26,949 | server.py:101 | FL starting\n",
            "INFO:flwr:FL starting\n",
            "DEBUG flwr 2023-06-08 15:23:26,957 | server.py:218 | fit_round 1: strategy sampled 4 clients (out of 4)\n",
            "DEBUG:flwr:fit_round 1: strategy sampled 4 clients (out of 4)\n",
            "\u001b[2m\u001b[36m(pid=55795)\u001b[0m 2023-06-08 15:23:29.643824: W tensorflow/compiler/tf2tensorrt/utils/py_utils.cc:38] TF-TRT Warning: Could not find TensorRT\n"
          ]
        },
        {
          "metadata": {
            "tags": null
          },
          "name": "stdout",
          "output_type": "stream",
          "text": [
            "\u001b[2m\u001b[36m(launch_and_fit pid=55796)\u001b[0m [Client 0] fit, config: {}\n",
            "\u001b[2m\u001b[36m(launch_and_fit pid=55796)\u001b[0m Epoch 1: train loss 0.02526571974158287, accuracy 0.3664174031271244\n",
            "\u001b[2m\u001b[36m(launch_and_fit pid=55795)\u001b[0m Epoch 15: train loss 0.004546018783003092, accuracy 0.9014276002719238\n",
            "\u001b[2m\u001b[36m(launch_and_fit pid=55796)\u001b[0m Epoch 16: train loss 0.0042570652440190315, accuracy 0.9061862678450034\u001b[32m [repeated 30x across cluster]\u001b[0m\n",
            "\u001b[2m\u001b[36m(launch_and_fit pid=55795)\u001b[0m Epoch 27: train loss 0.002374900970607996, accuracy 0.9592114208021754\u001b[32m [repeated 23x across cluster]\u001b[0m\n",
            "\u001b[2m\u001b[36m(launch_and_fit pid=55796)\u001b[0m Epoch 38: train loss 0.0015492341481149197, accuracy 0.9762066621346023\u001b[32m [repeated 21x across cluster]\u001b[0m\n",
            "\u001b[2m\u001b[36m(launch_and_fit pid=55795)\u001b[0m [Client 3] fit, config: {}\n",
            "\u001b[2m\u001b[36m(launch_and_fit pid=55796)\u001b[0m Epoch 50: train loss 0.0010878092143684626, accuracy 0.981645139360979\u001b[32m [repeated 25x across cluster]\u001b[0m\n",
            "\u001b[2m\u001b[36m(launch_and_fit pid=55796)\u001b[0m Epoch 11: train loss 0.006079749204218388, accuracy 0.8701563562202583\n",
            "\u001b[2m\u001b[36m(launch_and_fit pid=55795)\u001b[0m Epoch 11: train loss 0.006079749204218388, accuracy 0.8701563562202583\u001b[32m [repeated 20x across cluster]\u001b[0m\n",
            "\u001b[2m\u001b[36m(launch_and_fit pid=55796)\u001b[0m Epoch 21: train loss 0.0032144177239388227, accuracy 0.9320190346702923\u001b[32m [repeated 22x across cluster]\u001b[0m\n",
            "\u001b[2m\u001b[36m(launch_and_fit pid=55796)\u001b[0m Epoch 34: train loss 0.0019054122967645526, accuracy 0.964649898028552\u001b[32m [repeated 26x across cluster]\u001b[0m\n",
            "\u001b[2m\u001b[36m(launch_and_fit pid=55795)\u001b[0m Epoch 44: train loss 0.001357842586003244, accuracy 0.9741672331747111\u001b[32m [repeated 19x across cluster]\u001b[0m\n"
          ]
        },
        {
          "metadata": {
            "tags": null
          },
          "name": "stderr",
          "output_type": "stream",
          "text": [
            "DEBUG flwr 2023-06-08 15:24:21,336 | server.py:232 | fit_round 1 received 4 results and 0 failures\n",
            "DEBUG:flwr:fit_round 1 received 4 results and 0 failures\n",
            "WARNING flwr 2023-06-08 15:24:21,359 | fedavg.py:243 | No fit_metrics_aggregation_fn provided\n",
            "WARNING:flwr:No fit_metrics_aggregation_fn provided\n",
            "DEBUG flwr 2023-06-08 15:24:21,364 | server.py:168 | evaluate_round 1: strategy sampled 3 clients (out of 4)\n",
            "DEBUG:flwr:evaluate_round 1: strategy sampled 3 clients (out of 4)\n",
            "DEBUG flwr 2023-06-08 15:24:21,623 | server.py:182 | evaluate_round 1 received 3 results and 0 failures\n",
            "DEBUG:flwr:evaluate_round 1 received 3 results and 0 failures\n",
            "WARNING flwr 2023-06-08 15:24:21,630 | fedavg.py:274 | No evaluate_metrics_aggregation_fn provided\n",
            "WARNING:flwr:No evaluate_metrics_aggregation_fn provided\n",
            "DEBUG flwr 2023-06-08 15:24:21,638 | server.py:218 | fit_round 2: strategy sampled 4 clients (out of 4)\n",
            "DEBUG:flwr:fit_round 2: strategy sampled 4 clients (out of 4)\n"
          ]
        },
        {
          "metadata": {
            "tags": null
          },
          "name": "stdout",
          "output_type": "stream",
          "text": [
            "\u001b[2m\u001b[36m(launch_and_evaluate pid=55795)\u001b[0m [Client 3] evaluate, config: {}\n",
            "\u001b[2m\u001b[36m(launch_and_fit pid=55795)\u001b[0m [Client 2] fit, config: {}\n",
            "\u001b[2m\u001b[36m(launch_and_fit pid=55796)\u001b[0m Epoch 3: train loss 0.0015056305564939976, accuracy 0.9714479945615228\u001b[32m [repeated 18x across cluster]\u001b[0m\n",
            "\u001b[2m\u001b[36m(launch_and_evaluate pid=55796)\u001b[0m [Client 0] evaluate, config: {}\u001b[32m [repeated 2x across cluster]\u001b[0m\n",
            "\u001b[2m\u001b[36m(launch_and_fit pid=55796)\u001b[0m Epoch 14: train loss 0.0009386578458361328, accuracy 0.9836845683208701\n",
            "\u001b[2m\u001b[36m(launch_and_fit pid=55795)\u001b[0m Epoch 17: train loss 0.0008487221784889698, accuracy 0.9850441876274643\u001b[32m [repeated 29x across cluster]\u001b[0m\n",
            "\u001b[2m\u001b[36m(launch_and_fit pid=55796)\u001b[0m \n",
            "\u001b[2m\u001b[36m(launch_and_fit pid=55795)\u001b[0m Epoch 28: train loss 0.000623991887550801, accuracy 0.990482664853841\u001b[32m [repeated 22x across cluster]\u001b[0m\n",
            "\u001b[2m\u001b[36m(launch_and_fit pid=55795)\u001b[0m Epoch 39: train loss 0.0005096913664601743, accuracy 0.991162474507138\u001b[32m [repeated 22x across cluster]\u001b[0m\n",
            "\u001b[2m\u001b[36m(launch_and_fit pid=55796)\u001b[0m [Client 1] fit, config: {}\n",
            "\u001b[2m\u001b[36m(launch_and_fit pid=55795)\u001b[0m Epoch 3: train loss 0.0014903686242178082, accuracy 0.9700883752549286\u001b[32m [repeated 28x across cluster]\u001b[0m\n",
            "\u001b[2m\u001b[36m(launch_and_fit pid=55795)\u001b[0m Epoch 12: train loss 0.001023847609758377, accuracy 0.9802855200543847\n",
            "\u001b[2m\u001b[36m(launch_and_fit pid=55795)\u001b[0m Epoch 14: train loss 0.0009629272390156984, accuracy 0.9809653297076818\u001b[32m [repeated 22x across cluster]\u001b[0m\n",
            "\u001b[2m\u001b[36m(launch_and_fit pid=55795)\u001b[0m Epoch 26: train loss 0.0007302223239094019, accuracy 0.982324949014276\u001b[32m [repeated 24x across cluster]\u001b[0m\n",
            "\u001b[2m\u001b[36m(launch_and_fit pid=55796)\u001b[0m Epoch 41: train loss 0.000572096323594451, accuracy 0.9898028552005439\u001b[32m [repeated 29x across cluster]\u001b[0m\n"
          ]
        },
        {
          "metadata": {
            "tags": null
          },
          "name": "stderr",
          "output_type": "stream",
          "text": [
            "DEBUG flwr 2023-06-08 15:25:03,236 | server.py:232 | fit_round 2 received 4 results and 0 failures\n",
            "DEBUG:flwr:fit_round 2 received 4 results and 0 failures\n",
            "DEBUG flwr 2023-06-08 15:25:03,266 | server.py:168 | evaluate_round 2: strategy sampled 3 clients (out of 4)\n",
            "DEBUG:flwr:evaluate_round 2: strategy sampled 3 clients (out of 4)\n",
            "DEBUG flwr 2023-06-08 15:25:03,652 | server.py:182 | evaluate_round 2 received 3 results and 0 failures\n",
            "DEBUG:flwr:evaluate_round 2 received 3 results and 0 failures\n",
            "DEBUG flwr 2023-06-08 15:25:03,656 | server.py:218 | fit_round 3: strategy sampled 4 clients (out of 4)\n",
            "DEBUG:flwr:fit_round 3: strategy sampled 4 clients (out of 4)\n"
          ]
        },
        {
          "metadata": {
            "tags": null
          },
          "name": "stdout",
          "output_type": "stream",
          "text": [
            "\u001b[2m\u001b[36m(launch_and_evaluate pid=55795)\u001b[0m [Client 3] evaluate, config: {}\n",
            "\u001b[2m\u001b[36m(launch_and_evaluate pid=55795)\u001b[0m [Client 1] evaluate, config: {}\n",
            "\u001b[2m\u001b[36m(launch_and_fit pid=55795)\u001b[0m [Client 0] fit, config: {}\n",
            "\u001b[2m\u001b[36m(launch_and_fit pid=55795)\u001b[0m Epoch 50: train loss 0.0006239877548068762, accuracy 0.9884432358939497\u001b[32m [repeated 19x across cluster]\u001b[0m\n",
            "\u001b[2m\u001b[36m(launch_and_evaluate pid=55796)\u001b[0m Epoch 10: train loss 0.0008361405343748629, accuracy 0.982324949014276\n",
            "\u001b[2m\u001b[36m(launch_and_fit pid=55796)\u001b[0m Epoch 11: train loss 0.0008670792449265718, accuracy 0.9802855200543847\n",
            "\u001b[2m\u001b[36m(launch_and_fit pid=55796)\u001b[0m Epoch 11: train loss 0.0008670792449265718, accuracy 0.9802855200543847\u001b[32m [repeated 22x across cluster]\u001b[0m\n",
            "\u001b[2m\u001b[36m(launch_and_fit pid=55795)\u001b[0m Epoch 27: train loss 0.0007345738704316318, accuracy 0.9789259007477906\u001b[32m [repeated 30x across cluster]\u001b[0m\n",
            "\u001b[2m\u001b[36m(launch_and_fit pid=55795)\u001b[0m Epoch 38: train loss 0.0006444499013014138, accuracy 0.981645139360979\u001b[32m [repeated 23x across cluster]\u001b[0m\n",
            "\u001b[2m\u001b[36m(launch_and_fit pid=55796)\u001b[0m Epoch 49: train loss 0.0003645711694844067, accuracy 0.9932019034670292\u001b[32m [repeated 23x across cluster]\u001b[0m\n",
            "\u001b[2m\u001b[36m(launch_and_fit pid=55795)\u001b[0m [Client 1] fit, config: {}\n",
            "\u001b[2m\u001b[36m(launch_and_fit pid=55795)\u001b[0m Epoch 14: train loss 0.0005905037978664041, accuracy 0.9891230455472467\u001b[32m [repeated 29x across cluster]\u001b[0m\n",
            "\u001b[2m\u001b[36m(launch_and_fit pid=55796)\u001b[0m Epoch 15: train loss 0.0005787871778011322, accuracy 0.9891230455472467\n",
            "\u001b[2m\u001b[36m(launch_and_fit pid=55796)\u001b[0m Epoch 26: train loss 0.0007029961561784148, accuracy 0.9850441876274643\u001b[32m [repeated 24x across cluster]\u001b[0m\n",
            "\u001b[2m\u001b[36m(launch_and_fit pid=55796)\u001b[0m Epoch 37: train loss 0.0005718157044611871, accuracy 0.9870836165873556\u001b[32m [repeated 23x across cluster]\u001b[0m\n"
          ]
        },
        {
          "metadata": {
            "tags": null
          },
          "name": "stderr",
          "output_type": "stream",
          "text": [
            "DEBUG flwr 2023-06-08 15:25:44,001 | server.py:232 | fit_round 3 received 4 results and 0 failures\n",
            "DEBUG:flwr:fit_round 3 received 4 results and 0 failures\n",
            "DEBUG flwr 2023-06-08 15:25:44,024 | server.py:168 | evaluate_round 3: strategy sampled 3 clients (out of 4)\n",
            "DEBUG:flwr:evaluate_round 3: strategy sampled 3 clients (out of 4)\n",
            "DEBUG flwr 2023-06-08 15:25:44,250 | server.py:182 | evaluate_round 3 received 3 results and 0 failures\n",
            "DEBUG:flwr:evaluate_round 3 received 3 results and 0 failures\n",
            "DEBUG flwr 2023-06-08 15:25:44,253 | server.py:218 | fit_round 4: strategy sampled 4 clients (out of 4)\n",
            "DEBUG:flwr:fit_round 4: strategy sampled 4 clients (out of 4)\n"
          ]
        },
        {
          "metadata": {
            "tags": null
          },
          "name": "stdout",
          "output_type": "stream",
          "text": [
            "\u001b[2m\u001b[36m(launch_and_evaluate pid=55795)\u001b[0m [Client 2] evaluate, config: {}\n",
            "\u001b[2m\u001b[36m(launch_and_fit pid=55795)\u001b[0m [Client 3] fit, config: {}\n",
            "\u001b[2m\u001b[36m(launch_and_fit pid=55796)\u001b[0m Epoch 50: train loss 0.0004394912102725357, accuracy 0.991162474507138\u001b[32m [repeated 26x across cluster]\u001b[0m\n",
            "\u001b[2m\u001b[36m(launch_and_evaluate pid=55796)\u001b[0m [Client 0] evaluate, config: {}\u001b[32m [repeated 2x across cluster]\u001b[0m\n",
            "\u001b[2m\u001b[36m(launch_and_fit pid=55796)\u001b[0m Epoch 11: train loss 0.0004755121481139213, accuracy 0.9870836165873556\n",
            "\u001b[2m\u001b[36m(launch_and_fit pid=55796)\u001b[0m Epoch 11: train loss 0.0004755121481139213, accuracy 0.9870836165873556\u001b[32m [repeated 22x across cluster]\u001b[0m\n",
            "\u001b[2m\u001b[36m(launch_and_fit pid=55795)\u001b[0m Epoch 22: train loss 0.0003971369587816298, accuracy 0.9898028552005439\u001b[32m [repeated 21x across cluster]\u001b[0m\n",
            "\u001b[2m\u001b[36m(launch_and_fit pid=55795)\u001b[0m Epoch 36: train loss 0.00029910236480645835, accuracy 0.9945615227736234\u001b[32m [repeated 29x across cluster]\u001b[0m\n",
            "\u001b[2m\u001b[36m(launch_and_fit pid=55796)\u001b[0m Epoch 48: train loss 0.0005583033198490739, accuracy 0.9796057104010877\u001b[32m [repeated 23x across cluster]\u001b[0m\n",
            "\u001b[2m\u001b[36m(launch_and_fit pid=55796)\u001b[0m [Client 1] fit, config: {}\n",
            "\u001b[2m\u001b[36m(launch_and_fit pid=55795)\u001b[0m Epoch 7: train loss 0.0004095998883713037, accuracy 0.9891230455472467\u001b[32m [repeated 19x across cluster]\u001b[0m\n",
            "\u001b[2m\u001b[36m(launch_and_fit pid=55795)\u001b[0m Epoch 11: train loss 0.0003442533779889345, accuracy 0.9918422841604351\n",
            "\u001b[2m\u001b[36m(launch_and_fit pid=55795)\u001b[0m Epoch 21: train loss 0.00030028956825844944, accuracy 0.9952413324269205\u001b[32m [repeated 28x across cluster]\u001b[0m\n",
            "\u001b[2m\u001b[36m(launch_and_fit pid=55795)\u001b[0m Epoch 33: train loss 0.00036342767998576164, accuracy 0.9925220938137321\u001b[32m [repeated 24x across cluster]\u001b[0m\n",
            "\u001b[2m\u001b[36m(launch_and_fit pid=55795)\u001b[0m Epoch 43: train loss 0.00047222577268257737, accuracy 0.991162474507138\u001b[32m [repeated 19x across cluster]\u001b[0m\n"
          ]
        },
        {
          "metadata": {
            "tags": null
          },
          "name": "stderr",
          "output_type": "stream",
          "text": [
            "DEBUG flwr 2023-06-08 15:26:27,697 | server.py:232 | fit_round 4 received 4 results and 0 failures\n",
            "DEBUG:flwr:fit_round 4 received 4 results and 0 failures\n",
            "DEBUG flwr 2023-06-08 15:26:27,720 | server.py:168 | evaluate_round 4: strategy sampled 3 clients (out of 4)\n",
            "DEBUG:flwr:evaluate_round 4: strategy sampled 3 clients (out of 4)\n",
            "DEBUG flwr 2023-06-08 15:26:27,962 | server.py:182 | evaluate_round 4 received 3 results and 0 failures\n",
            "DEBUG:flwr:evaluate_round 4 received 3 results and 0 failures\n",
            "DEBUG flwr 2023-06-08 15:26:27,970 | server.py:218 | fit_round 5: strategy sampled 4 clients (out of 4)\n",
            "DEBUG:flwr:fit_round 5: strategy sampled 4 clients (out of 4)\n"
          ]
        },
        {
          "metadata": {
            "tags": null
          },
          "name": "stdout",
          "output_type": "stream",
          "text": [
            "\u001b[2m\u001b[36m(launch_and_evaluate pid=55795)\u001b[0m [Client 1] evaluate, config: {}\n",
            "\u001b[2m\u001b[36m(launch_and_fit pid=55795)\u001b[0m [Client 3] fit, config: {}\n",
            "\u001b[2m\u001b[36m(launch_and_fit pid=55796)\u001b[0m Epoch 5: train loss 0.0008235127897933125, accuracy 0.9748470428280082\u001b[32m [repeated 25x across cluster]\u001b[0m\n",
            "\u001b[2m\u001b[36m(launch_and_evaluate pid=55796)\u001b[0m [Client 3] evaluate, config: {}\u001b[32m [repeated 2x across cluster]\u001b[0m\n",
            "\u001b[2m\u001b[36m(launch_and_fit pid=55796)\u001b[0m Epoch 14: train loss 0.0005309227854013443, accuracy 0.9870836165873556\n",
            "\u001b[2m\u001b[36m(launch_and_fit pid=55796)\u001b[0m Epoch 17: train loss 0.00038142522680573165, accuracy 0.9898028552005439\u001b[32m [repeated 24x across cluster]\u001b[0m\n",
            "\u001b[2m\u001b[36m(launch_and_fit pid=55795)\u001b[0m Epoch 27: train loss 0.000334837386617437, accuracy 0.990482664853841\u001b[32m [repeated 19x across cluster]\u001b[0m\n",
            "\u001b[2m\u001b[36m(launch_and_fit pid=55796)\u001b[0m Epoch 40: train loss 0.00029013754101470113, accuracy 0.9938817131203264\u001b[32m [repeated 28x across cluster]\u001b[0m\n",
            "\u001b[2m\u001b[36m(launch_and_fit pid=55795)\u001b[0m [Client 2] fit, config: {}\n",
            "\u001b[2m\u001b[36m(launch_and_fit pid=55795)\u001b[0m Epoch 5: train loss 0.0005165468319319189, accuracy 0.9870836165873556\u001b[32m [repeated 26x across cluster]\u001b[0m\n",
            "\u001b[2m\u001b[36m(launch_and_fit pid=55796)\u001b[0m Epoch 9: train loss 0.00044607403106056154, accuracy 0.991162474507138\n",
            "\u001b[2m\u001b[36m(launch_and_fit pid=55796)\u001b[0m Epoch 12: train loss 0.0005848017754033208, accuracy 0.981645139360979\u001b[32m [repeated 19x across cluster]\u001b[0m\n",
            "\u001b[2m\u001b[36m(launch_and_fit pid=55796)\u001b[0m Epoch 26: train loss 0.00022661582625005394, accuracy 0.9952413324269205\u001b[32m [repeated 28x across cluster]\u001b[0m\n",
            "\u001b[2m\u001b[36m(launch_and_fit pid=55795)\u001b[0m Epoch 42: train loss 5.172441160539165e-05, accuracy 0.9993201903467029\u001b[32m [repeated 26x across cluster]\u001b[0m\n"
          ]
        },
        {
          "metadata": {
            "tags": null
          },
          "name": "stderr",
          "output_type": "stream",
          "text": [
            "DEBUG flwr 2023-06-08 15:27:11,527 | server.py:232 | fit_round 5 received 4 results and 0 failures\n",
            "DEBUG:flwr:fit_round 5 received 4 results and 0 failures\n"
          ]
        },
        {
          "metadata": {
            "tags": null
          },
          "name": "stdout",
          "output_type": "stream",
          "text": [
            "\u001b[2m\u001b[36m(launch_and_fit pid=55796)\u001b[0m Epoch 49: train loss 5.656423672917299e-05, accuracy 1.0\u001b[32m [repeated 19x across cluster]\u001b[0m\n"
          ]
        },
        {
          "metadata": {
            "tags": null
          },
          "name": "stderr",
          "output_type": "stream",
          "text": [
            "DEBUG flwr 2023-06-08 15:27:11,550 | server.py:168 | evaluate_round 5: strategy sampled 3 clients (out of 4)\n",
            "DEBUG:flwr:evaluate_round 5: strategy sampled 3 clients (out of 4)\n",
            "DEBUG flwr 2023-06-08 15:27:11,795 | server.py:182 | evaluate_round 5 received 3 results and 0 failures\n",
            "DEBUG:flwr:evaluate_round 5 received 3 results and 0 failures\n",
            "DEBUG flwr 2023-06-08 15:27:11,799 | server.py:218 | fit_round 6: strategy sampled 4 clients (out of 4)\n",
            "DEBUG:flwr:fit_round 6: strategy sampled 4 clients (out of 4)\n"
          ]
        },
        {
          "metadata": {
            "tags": null
          },
          "name": "stdout",
          "output_type": "stream",
          "text": [
            "\u001b[2m\u001b[36m(launch_and_evaluate pid=55795)\u001b[0m [Client 2] evaluate, config: {}\n",
            "\u001b[2m\u001b[36m(launch_and_fit pid=55795)\u001b[0m [Client 2] fit, config: {}\n",
            "\u001b[2m\u001b[36m(launch_and_fit pid=55795)\u001b[0m Epoch 12: train loss 0.00013089562708046287, accuracy 0.9972807613868117\u001b[32m [repeated 24x across cluster]\u001b[0m\n",
            "\u001b[2m\u001b[36m(launch_and_evaluate pid=55795)\u001b[0m [Client 3] evaluate, config: {}\u001b[32m [repeated 2x across cluster]\u001b[0m\n",
            "\u001b[2m\u001b[36m(launch_and_fit pid=55796)\u001b[0m Epoch 14: train loss 0.00012083369074389338, accuracy 0.9972807613868117\n",
            "\u001b[2m\u001b[36m(launch_and_fit pid=55796)\u001b[0m Epoch 25: train loss 0.0003628167905844748, accuracy 0.9891230455472467\u001b[32m [repeated 26x across cluster]\u001b[0m\n",
            "\u001b[2m\u001b[36m(launch_and_fit pid=55796)\u001b[0m Epoch 34: train loss 0.000355255528120324, accuracy 0.9918422841604351\u001b[32m [repeated 18x across cluster]\u001b[0m\n",
            "\u001b[2m\u001b[36m(launch_and_fit pid=55795)\u001b[0m Epoch 48: train loss 0.00012591893028002232, accuracy 0.9966009517335146\u001b[32m [repeated 29x across cluster]\u001b[0m\n",
            "\u001b[2m\u001b[36m(launch_and_fit pid=55796)\u001b[0m [Client 1] fit, config: {}\n",
            "\u001b[2m\u001b[36m(launch_and_fit pid=55795)\u001b[0m Epoch 10: train loss 0.00019928101391997188, accuracy 0.9972807613868117\u001b[32m [repeated 25x across cluster]\u001b[0m\n",
            "\u001b[2m\u001b[36m(launch_and_fit pid=55795)\u001b[0m Epoch 12: train loss 0.0002704186481423676, accuracy 0.9945615227736234\n",
            "\u001b[2m\u001b[36m(launch_and_fit pid=55796)\u001b[0m Epoch 20: train loss 0.0002595298574306071, accuracy 0.9945615227736234\u001b[32m [repeated 17x across cluster]\u001b[0m\n",
            "\u001b[2m\u001b[36m(launch_and_fit pid=55795)\u001b[0m Epoch 33: train loss 0.00022727939358446747, accuracy 0.9972807613868117\u001b[32m [repeated 29x across cluster]\u001b[0m\n",
            "\u001b[2m\u001b[36m(launch_and_fit pid=55796)\u001b[0m Epoch 48: train loss 0.00028867649962194264, accuracy 0.9938817131203264\u001b[32m [repeated 26x across cluster]\u001b[0m\n"
          ]
        },
        {
          "metadata": {
            "tags": null
          },
          "name": "stderr",
          "output_type": "stream",
          "text": [
            "DEBUG flwr 2023-06-08 15:27:54,603 | server.py:232 | fit_round 6 received 4 results and 0 failures\n",
            "DEBUG:flwr:fit_round 6 received 4 results and 0 failures\n",
            "DEBUG flwr 2023-06-08 15:27:54,628 | server.py:168 | evaluate_round 6: strategy sampled 3 clients (out of 4)\n",
            "DEBUG:flwr:evaluate_round 6: strategy sampled 3 clients (out of 4)\n",
            "DEBUG flwr 2023-06-08 15:27:54,983 | server.py:182 | evaluate_round 6 received 3 results and 0 failures\n",
            "DEBUG:flwr:evaluate_round 6 received 3 results and 0 failures\n",
            "DEBUG flwr 2023-06-08 15:27:54,991 | server.py:218 | fit_round 7: strategy sampled 4 clients (out of 4)\n",
            "DEBUG:flwr:fit_round 7: strategy sampled 4 clients (out of 4)\n"
          ]
        },
        {
          "metadata": {
            "tags": null
          },
          "name": "stdout",
          "output_type": "stream",
          "text": [
            "\u001b[2m\u001b[36m(launch_and_evaluate pid=55795)\u001b[0m [Client 1] evaluate, config: {}\n",
            "\u001b[2m\u001b[36m(launch_and_fit pid=55795)\u001b[0m [Client 0] fit, config: {}\n",
            "\u001b[2m\u001b[36m(launch_and_fit pid=55796)\u001b[0m Epoch 4: train loss 0.00020723593479488045, accuracy 0.9952413324269205\u001b[32m [repeated 15x across cluster]\u001b[0m\n",
            "\u001b[2m\u001b[36m(launch_and_evaluate pid=55795)\u001b[0m [Client 3] evaluate, config: {}\u001b[32m [repeated 2x across cluster]\u001b[0m\n",
            "\u001b[2m\u001b[36m(launch_and_fit pid=55796)\u001b[0m Epoch 12: train loss 0.0003456942504271865, accuracy 0.990482664853841\n",
            "\u001b[2m\u001b[36m(launch_and_fit pid=55796)\u001b[0m Epoch 18: train loss 9.525266068521887e-05, accuracy 0.9986403806934059\u001b[32m [repeated 27x across cluster]\u001b[0m\n",
            "\u001b[2m\u001b[36m(launch_and_fit pid=55796)\u001b[0m Epoch 32: train loss 8.063215500442311e-05, accuracy 0.9986403806934059\u001b[32m [repeated 27x across cluster]\u001b[0m\n",
            "\u001b[2m\u001b[36m(launch_and_fit pid=55795)\u001b[0m Epoch 39: train loss 2.111769026669208e-05, accuracy 1.0\u001b[32m [repeated 17x across cluster]\u001b[0m\n",
            "\u001b[2m\u001b[36m(launch_and_fit pid=55796)\u001b[0m [Client 1] fit, config: {}\n",
            "\u001b[2m\u001b[36m(launch_and_fit pid=55795)\u001b[0m Epoch 2: train loss 0.0002470772305969149, accuracy 0.9925220938137321\u001b[32m [repeated 27x across cluster]\u001b[0m\n",
            "\u001b[2m\u001b[36m(launch_and_fit pid=55795)\u001b[0m Epoch 11: train loss 0.00012237351620569825, accuracy 0.9979605710401088\n",
            "\u001b[2m\u001b[36m(launch_and_fit pid=55795)\u001b[0m Epoch 15: train loss 0.000106083694845438, accuracy 0.9979605710401088\u001b[32m [repeated 27x across cluster]\u001b[0m\n",
            "\u001b[2m\u001b[36m(launch_and_fit pid=55796)\u001b[0m Epoch 28: train loss 2.718431642279029e-05, accuracy 1.0\u001b[32m [repeated 18x across cluster]\u001b[0m\n",
            "\u001b[2m\u001b[36m(launch_and_fit pid=55796)\u001b[0m Epoch 42: train loss 1.2308442819630727e-05, accuracy 1.0\u001b[32m [repeated 28x across cluster]\u001b[0m\n"
          ]
        },
        {
          "metadata": {
            "tags": null
          },
          "name": "stderr",
          "output_type": "stream",
          "text": [
            "DEBUG flwr 2023-06-08 15:28:37,422 | server.py:232 | fit_round 7 received 4 results and 0 failures\n",
            "DEBUG:flwr:fit_round 7 received 4 results and 0 failures\n",
            "DEBUG flwr 2023-06-08 15:28:37,442 | server.py:168 | evaluate_round 7: strategy sampled 3 clients (out of 4)\n",
            "DEBUG:flwr:evaluate_round 7: strategy sampled 3 clients (out of 4)\n",
            "DEBUG flwr 2023-06-08 15:28:37,684 | server.py:182 | evaluate_round 7 received 3 results and 0 failures\n",
            "DEBUG:flwr:evaluate_round 7 received 3 results and 0 failures\n",
            "DEBUG flwr 2023-06-08 15:28:37,691 | server.py:218 | fit_round 8: strategy sampled 4 clients (out of 4)\n",
            "DEBUG:flwr:fit_round 8: strategy sampled 4 clients (out of 4)\n"
          ]
        },
        {
          "metadata": {
            "tags": null
          },
          "name": "stdout",
          "output_type": "stream",
          "text": [
            "\u001b[2m\u001b[36m(launch_and_evaluate pid=55795)\u001b[0m [Client 0] evaluate, config: {}\n",
            "\u001b[2m\u001b[36m(launch_and_fit pid=55795)\u001b[0m [Client 0] fit, config: {}\n",
            "\u001b[2m\u001b[36m(launch_and_fit pid=55795)\u001b[0m Epoch 1: train loss 0.0004132678441237658, accuracy 0.9898028552005439\u001b[32m [repeated 22x across cluster]\u001b[0m\n",
            "\u001b[2m\u001b[36m(launch_and_evaluate pid=55796)\u001b[0m [Client 3] evaluate, config: {}\u001b[32m [repeated 2x across cluster]\u001b[0m\n",
            "\u001b[2m\u001b[36m(launch_and_fit pid=55796)\u001b[0m Epoch 8: train loss 5.9616679209284484e-05, accuracy 0.9993201903467029\n",
            "\u001b[2m\u001b[36m(launch_and_fit pid=55796)\u001b[0m Epoch 9: train loss 5.9570218581939116e-05, accuracy 0.9986403806934059\u001b[32m [repeated 16x across cluster]\u001b[0m\n",
            "\u001b[2m\u001b[36m(launch_and_fit pid=55796)\u001b[0m Epoch 23: train loss 6.668398327747127e-06, accuracy 1.0\u001b[32m [repeated 28x across cluster]\u001b[0m\n",
            "\u001b[2m\u001b[36m(launch_and_fit pid=55796)\u001b[0m Epoch 37: train loss 4.332992375566391e-06, accuracy 1.0\u001b[32m [repeated 28x across cluster]\u001b[0m\n",
            "\u001b[2m\u001b[36m(launch_and_fit pid=55795)\u001b[0m Epoch 44: train loss 1.0429107533127535e-05, accuracy 1.0\u001b[32m [repeated 15x across cluster]\u001b[0m\n",
            "\u001b[2m\u001b[36m(launch_and_fit pid=55796)\u001b[0m [Client 2] fit, config: {}\n",
            "\u001b[2m\u001b[36m(launch_and_fit pid=55795)\u001b[0m Epoch 8: train loss 0.0001008448816719465, accuracy 0.9986403806934059\u001b[32m [repeated 28x across cluster]\u001b[0m\n",
            "\u001b[2m\u001b[36m(launch_and_fit pid=55795)\u001b[0m Epoch 13: train loss 5.276606680126861e-05, accuracy 0.9993201903467029\n",
            "\u001b[2m\u001b[36m(launch_and_fit pid=55795)\u001b[0m Epoch 22: train loss 2.282043897139374e-05, accuracy 1.0\u001b[32m [repeated 28x across cluster]\u001b[0m\n",
            "\u001b[2m\u001b[36m(launch_and_fit pid=55795)\u001b[0m Epoch 30: train loss 1.4463097613770515e-05, accuracy 1.0\u001b[32m [repeated 15x across cluster]\u001b[0m\n",
            "\u001b[2m\u001b[36m(launch_and_fit pid=55795)\u001b[0m Epoch 45: train loss 7.553204795840429e-06, accuracy 1.0\u001b[32m [repeated 29x across cluster]\u001b[0m\n"
          ]
        },
        {
          "metadata": {
            "tags": null
          },
          "name": "stderr",
          "output_type": "stream",
          "text": [
            "DEBUG flwr 2023-06-08 15:29:21,694 | server.py:232 | fit_round 8 received 4 results and 0 failures\n",
            "DEBUG:flwr:fit_round 8 received 4 results and 0 failures\n",
            "DEBUG flwr 2023-06-08 15:29:21,720 | server.py:168 | evaluate_round 8: strategy sampled 3 clients (out of 4)\n",
            "DEBUG:flwr:evaluate_round 8: strategy sampled 3 clients (out of 4)\n",
            "DEBUG flwr 2023-06-08 15:29:21,952 | server.py:182 | evaluate_round 8 received 3 results and 0 failures\n",
            "DEBUG:flwr:evaluate_round 8 received 3 results and 0 failures\n",
            "DEBUG flwr 2023-06-08 15:29:21,957 | server.py:218 | fit_round 9: strategy sampled 4 clients (out of 4)\n",
            "DEBUG:flwr:fit_round 9: strategy sampled 4 clients (out of 4)\n"
          ]
        },
        {
          "metadata": {
            "tags": null
          },
          "name": "stdout",
          "output_type": "stream",
          "text": [
            "\u001b[2m\u001b[36m(launch_and_evaluate pid=55795)\u001b[0m [Client 2] evaluate, config: {}\n",
            "\u001b[2m\u001b[36m(launch_and_fit pid=55795)\u001b[0m [Client 3] fit, config: {}\n",
            "\u001b[2m\u001b[36m(launch_and_fit pid=55795)\u001b[0m Epoch 7: train loss 1.3708275218959898e-05, accuracy 1.0\u001b[32m [repeated 25x across cluster]\u001b[0m\n",
            "\u001b[2m\u001b[36m(launch_and_evaluate pid=55796)\u001b[0m [Client 1] evaluate, config: {}\u001b[32m [repeated 2x across cluster]\u001b[0m\n",
            "\u001b[2m\u001b[36m(launch_and_fit pid=55796)\u001b[0m Epoch 11: train loss 0.0005784927634522319, accuracy 0.9830047586675731\n",
            "\u001b[2m\u001b[36m(launch_and_fit pid=55796)\u001b[0m Epoch 15: train loss 0.00026382171199657023, accuracy 0.9938817131203264\u001b[32m [repeated 16x across cluster]\u001b[0m\n",
            "\u001b[2m\u001b[36m(launch_and_fit pid=55796)\u001b[0m Epoch 29: train loss 1.5001799511082936e-05, accuracy 1.0\u001b[32m [repeated 28x across cluster]\u001b[0m\n",
            "\u001b[2m\u001b[36m(launch_and_fit pid=55795)\u001b[0m Epoch 43: train loss 2.7654557470668806e-06, accuracy 1.0\u001b[32m [repeated 28x across cluster]\u001b[0m\n",
            "\u001b[2m\u001b[36m(launch_and_fit pid=55795)\u001b[0m [Client 2] fit, config: {}\n",
            "\u001b[2m\u001b[36m(launch_and_fit pid=55796)\u001b[0m Epoch 1: train loss 0.00032751954859122634, accuracy 0.991162474507138\u001b[32m [repeated 17x across cluster]\u001b[0m\n",
            "\u001b[2m\u001b[36m(launch_and_fit pid=55796)\u001b[0m Epoch 12: train loss 7.951989573484752e-06, accuracy 1.0\n",
            "\u001b[2m\u001b[36m(launch_and_fit pid=55795)\u001b[0m Epoch 15: train loss 6.366356956277741e-06, accuracy 1.0\u001b[32m [repeated 27x across cluster]\u001b[0m\n",
            "\u001b[2m\u001b[36m(launch_and_fit pid=55795)\u001b[0m Epoch 29: train loss 3.5863374705513706e-06, accuracy 1.0\u001b[32m [repeated 29x across cluster]\u001b[0m\n",
            "\u001b[2m\u001b[36m(launch_and_fit pid=55795)\u001b[0m Epoch 37: train loss 2.854258127626963e-06, accuracy 1.0\u001b[32m [repeated 16x across cluster]\u001b[0m\n"
          ]
        },
        {
          "metadata": {
            "tags": null
          },
          "name": "stderr",
          "output_type": "stream",
          "text": [
            "DEBUG flwr 2023-06-08 15:30:05,514 | server.py:232 | fit_round 9 received 4 results and 0 failures\n",
            "DEBUG:flwr:fit_round 9 received 4 results and 0 failures\n",
            "DEBUG flwr 2023-06-08 15:30:05,534 | server.py:168 | evaluate_round 9: strategy sampled 3 clients (out of 4)\n",
            "DEBUG:flwr:evaluate_round 9: strategy sampled 3 clients (out of 4)\n",
            "DEBUG flwr 2023-06-08 15:30:05,780 | server.py:182 | evaluate_round 9 received 3 results and 0 failures\n",
            "DEBUG:flwr:evaluate_round 9 received 3 results and 0 failures\n",
            "DEBUG flwr 2023-06-08 15:30:05,786 | server.py:218 | fit_round 10: strategy sampled 4 clients (out of 4)\n",
            "DEBUG:flwr:fit_round 10: strategy sampled 4 clients (out of 4)\n"
          ]
        },
        {
          "metadata": {
            "tags": null
          },
          "name": "stdout",
          "output_type": "stream",
          "text": [
            "\u001b[2m\u001b[36m(launch_and_evaluate pid=55795)\u001b[0m [Client 3] evaluate, config: {}\n",
            "\u001b[2m\u001b[36m(launch_and_fit pid=55795)\u001b[0m Epoch 50: train loss 2.0859069991274737e-06, accuracy 1.0\u001b[32m [repeated 26x across cluster]\u001b[0m\n",
            "\u001b[2m\u001b[36m(launch_and_fit pid=55795)\u001b[0m [Client 0] fit, config: {}\n",
            "\u001b[2m\u001b[36m(launch_and_evaluate pid=55795)\u001b[0m [Client 0] evaluate, config: {}\u001b[32m [repeated 2x across cluster]\u001b[0m\n",
            "\u001b[2m\u001b[36m(launch_and_fit pid=55796)\u001b[0m Epoch 13: train loss 3.353280135343084e-06, accuracy 1.0\u001b[32m [repeated 26x across cluster]\u001b[0m\n",
            "\u001b[2m\u001b[36m(launch_and_fit pid=55796)\u001b[0m Epoch 14: train loss 3.1870981729298364e-06, accuracy 1.0\n",
            "\u001b[2m\u001b[36m(launch_and_fit pid=55796)\u001b[0m Epoch 22: train loss 2.3055445126374252e-06, accuracy 1.0\u001b[32m [repeated 18x across cluster]\u001b[0m\n",
            "\u001b[2m\u001b[36m(launch_and_fit pid=55796)\u001b[0m Epoch 35: train loss 1.4986695759944269e-06, accuracy 1.0\u001b[32m [repeated 27x across cluster]\u001b[0m\n",
            "\u001b[2m\u001b[36m(launch_and_fit pid=55795)\u001b[0m [Client 3] fit, config: {}\n",
            "\u001b[2m\u001b[36m(launch_and_fit pid=55796)\u001b[0m Epoch 49: train loss 1.018467287394742e-06, accuracy 1.0\u001b[32m [repeated 28x across cluster]\u001b[0m\n",
            "\u001b[2m\u001b[36m(launch_and_fit pid=55796)\u001b[0m Epoch 9: train loss 9.361935371998698e-05, accuracy 0.9986403806934059\n",
            "\u001b[2m\u001b[36m(launch_and_fit pid=55796)\u001b[0m Epoch 8: train loss 0.0006721168174408376, accuracy 0.9830047586675731\u001b[32m [repeated 18x across cluster]\u001b[0m\n",
            "\u001b[2m\u001b[36m(launch_and_fit pid=55795)\u001b[0m Epoch 23: train loss 3.816439402726246e-06, accuracy 1.0\u001b[32m [repeated 26x across cluster]\u001b[0m\n",
            "\u001b[2m\u001b[36m(launch_and_fit pid=55795)\u001b[0m Epoch 38: train loss 2.588913957879413e-06, accuracy 1.0\u001b[32m [repeated 30x across cluster]\u001b[0m\n",
            "\u001b[2m\u001b[36m(launch_and_fit pid=55796)\u001b[0m Epoch 46: train loss 4.576958872348769e-06, accuracy 1.0\u001b[32m [repeated 20x across cluster]\u001b[0m\n"
          ]
        },
        {
          "metadata": {
            "tags": null
          },
          "name": "stderr",
          "output_type": "stream",
          "text": [
            "DEBUG flwr 2023-06-08 15:30:48,820 | server.py:232 | fit_round 10 received 4 results and 0 failures\n",
            "DEBUG:flwr:fit_round 10 received 4 results and 0 failures\n",
            "DEBUG flwr 2023-06-08 15:30:48,841 | server.py:168 | evaluate_round 10: strategy sampled 3 clients (out of 4)\n",
            "DEBUG:flwr:evaluate_round 10: strategy sampled 3 clients (out of 4)\n",
            "DEBUG flwr 2023-06-08 15:30:49,068 | server.py:182 | evaluate_round 10 received 3 results and 0 failures\n",
            "DEBUG:flwr:evaluate_round 10 received 3 results and 0 failures\n",
            "DEBUG flwr 2023-06-08 15:30:49,077 | server.py:218 | fit_round 11: strategy sampled 4 clients (out of 4)\n",
            "DEBUG:flwr:fit_round 11: strategy sampled 4 clients (out of 4)\n"
          ]
        },
        {
          "metadata": {
            "tags": null
          },
          "name": "stdout",
          "output_type": "stream",
          "text": [
            "\u001b[2m\u001b[36m(launch_and_evaluate pid=55795)\u001b[0m [Client 0] evaluate, config: {}\n",
            "\u001b[2m\u001b[36m(launch_and_fit pid=55795)\u001b[0m [Client 1] fit, config: {}\n",
            "\u001b[2m\u001b[36m(launch_and_fit pid=55795)\u001b[0m Epoch 8: train loss 0.0001408190291840583, accuracy 0.9959211420802175\u001b[32m [repeated 22x across cluster]\u001b[0m\n",
            "\u001b[2m\u001b[36m(launch_and_evaluate pid=55795)\u001b[0m [Client 3] evaluate, config: {}\u001b[32m [repeated 2x across cluster]\u001b[0m\n",
            "\u001b[2m\u001b[36m(launch_and_fit pid=55796)\u001b[0m Epoch 14: train loss 7.19124946044758e-05, accuracy 0.9979605710401088\n",
            "\u001b[2m\u001b[36m(launch_and_fit pid=55795)\u001b[0m Epoch 22: train loss 6.4560504142718855e-06, accuracy 1.0\u001b[32m [repeated 28x across cluster]\u001b[0m\n",
            "\u001b[2m\u001b[36m(launch_and_fit pid=55795)\u001b[0m Epoch 32: train loss 4.3928989725827705e-06, accuracy 1.0\u001b[32m [repeated 20x across cluster]\u001b[0m\n",
            "\u001b[2m\u001b[36m(launch_and_fit pid=55795)\u001b[0m Epoch 45: train loss 2.868450110327103e-06, accuracy 1.0\u001b[32m [repeated 26x across cluster]\u001b[0m\n",
            "\u001b[2m\u001b[36m(launch_and_fit pid=55795)\u001b[0m [Client 3] fit, config: {}\n",
            "\u001b[2m\u001b[36m(launch_and_fit pid=55796)\u001b[0m Epoch 8: train loss 8.601184526924044e-05, accuracy 0.9972807613868117\u001b[32m [repeated 28x across cluster]\u001b[0m\n",
            "\u001b[2m\u001b[36m(launch_and_fit pid=55796)\u001b[0m Epoch 14: train loss 5.159963166079251e-06, accuracy 1.0\n",
            "\u001b[2m\u001b[36m(launch_and_fit pid=55795)\u001b[0m Epoch 19: train loss 4.0961049307952635e-06, accuracy 1.0\u001b[32m [repeated 19x across cluster]\u001b[0m\n",
            "\u001b[2m\u001b[36m(launch_and_fit pid=55795)\u001b[0m Epoch 32: train loss 2.6547663765086327e-06, accuracy 1.0\u001b[32m [repeated 25x across cluster]\u001b[0m\n",
            "\u001b[2m\u001b[36m(launch_and_fit pid=55796)\u001b[0m Epoch 44: train loss 1.1518617384354002e-06, accuracy 1.0\u001b[32m [repeated 29x across cluster]\u001b[0m\n"
          ]
        },
        {
          "metadata": {
            "tags": null
          },
          "name": "stderr",
          "output_type": "stream",
          "text": [
            "DEBUG flwr 2023-06-08 15:31:30,020 | server.py:232 | fit_round 11 received 4 results and 0 failures\n",
            "DEBUG:flwr:fit_round 11 received 4 results and 0 failures\n",
            "DEBUG flwr 2023-06-08 15:31:30,044 | server.py:168 | evaluate_round 11: strategy sampled 3 clients (out of 4)\n",
            "DEBUG:flwr:evaluate_round 11: strategy sampled 3 clients (out of 4)\n",
            "DEBUG flwr 2023-06-08 15:31:30,433 | server.py:182 | evaluate_round 11 received 3 results and 0 failures\n",
            "DEBUG:flwr:evaluate_round 11 received 3 results and 0 failures\n",
            "DEBUG flwr 2023-06-08 15:31:30,440 | server.py:218 | fit_round 12: strategy sampled 4 clients (out of 4)\n",
            "DEBUG:flwr:fit_round 12: strategy sampled 4 clients (out of 4)\n"
          ]
        },
        {
          "metadata": {
            "tags": null
          },
          "name": "stdout",
          "output_type": "stream",
          "text": [
            "\u001b[2m\u001b[36m(launch_and_evaluate pid=55796)\u001b[0m [Client 1] evaluate, config: {}\n",
            "\u001b[2m\u001b[36m(launch_and_fit pid=55796)\u001b[0m [Client 1] fit, config: {}\n",
            "\u001b[2m\u001b[36m(launch_and_fit pid=55796)\u001b[0m Epoch 4: train loss 0.00019247781892772764, accuracy 0.9952413324269205\u001b[32m [repeated 17x across cluster]\u001b[0m\n",
            "\u001b[2m\u001b[36m(launch_and_evaluate pid=55796)\u001b[0m [Client 2] evaluate, config: {}\u001b[32m [repeated 2x across cluster]\u001b[0m\n",
            "\u001b[2m\u001b[36m(launch_and_fit pid=55795)\u001b[0m Epoch 9: train loss 0.0001026498430292122, accuracy 0.9979605710401088\n",
            "\u001b[2m\u001b[36m(launch_and_fit pid=55795)\u001b[0m Epoch 16: train loss 4.021931545139523e-06, accuracy 1.0\u001b[32m [repeated 24x across cluster]\u001b[0m\n",
            "\u001b[2m\u001b[36m(launch_and_fit pid=55795)\u001b[0m Epoch 31: train loss 2.246999883936951e-06, accuracy 1.0\u001b[32m [repeated 30x across cluster]\u001b[0m\n",
            "\u001b[2m\u001b[36m(launch_and_fit pid=55795)\u001b[0m Epoch 41: train loss 1.753049446051591e-06, accuracy 1.0\u001b[32m [repeated 20x across cluster]\u001b[0m\n",
            "\u001b[2m\u001b[36m(launch_and_fit pid=55795)\u001b[0m [Client 2] fit, config: {}\n",
            "\u001b[2m\u001b[36m(launch_and_fit pid=55795)\u001b[0m Epoch 3: train loss 3.5086839488940313e-05, accuracy 1.0\u001b[32m [repeated 24x across cluster]\u001b[0m\n",
            "\u001b[2m\u001b[36m(launch_and_fit pid=55796)\u001b[0m Epoch 14: train loss 1.6340640058842837e-06, accuracy 1.0\n",
            "\u001b[2m\u001b[36m(launch_and_fit pid=55795)\u001b[0m Epoch 17: train loss 1.422174364051898e-06, accuracy 1.0\u001b[32m [repeated 28x across cluster]\u001b[0m\n",
            "\u001b[2m\u001b[36m(launch_and_fit pid=55795)\u001b[0m Epoch 27: train loss 1.0245789781038184e-06, accuracy 1.0\u001b[32m [repeated 20x across cluster]\u001b[0m\n",
            "\u001b[2m\u001b[36m(launch_and_fit pid=55796)\u001b[0m Epoch 39: train loss 1.8721307242230978e-06, accuracy 1.0\u001b[32m [repeated 24x across cluster]\u001b[0m\n"
          ]
        },
        {
          "metadata": {
            "tags": null
          },
          "name": "stderr",
          "output_type": "stream",
          "text": [
            "DEBUG flwr 2023-06-08 15:32:12,863 | server.py:232 | fit_round 12 received 4 results and 0 failures\n",
            "DEBUG:flwr:fit_round 12 received 4 results and 0 failures\n",
            "DEBUG flwr 2023-06-08 15:32:12,883 | server.py:168 | evaluate_round 12: strategy sampled 3 clients (out of 4)\n",
            "DEBUG:flwr:evaluate_round 12: strategy sampled 3 clients (out of 4)\n",
            "DEBUG flwr 2023-06-08 15:32:13,126 | server.py:182 | evaluate_round 12 received 3 results and 0 failures\n",
            "DEBUG:flwr:evaluate_round 12 received 3 results and 0 failures\n",
            "DEBUG flwr 2023-06-08 15:32:13,133 | server.py:218 | fit_round 13: strategy sampled 4 clients (out of 4)\n",
            "DEBUG:flwr:fit_round 13: strategy sampled 4 clients (out of 4)\n"
          ]
        },
        {
          "metadata": {
            "tags": null
          },
          "name": "stdout",
          "output_type": "stream",
          "text": [
            "\u001b[2m\u001b[36m(launch_and_evaluate pid=55795)\u001b[0m [Client 0] evaluate, config: {}\n",
            "\u001b[2m\u001b[36m(launch_and_fit pid=55795)\u001b[0m [Client 2] fit, config: {}\n",
            "\u001b[2m\u001b[36m(launch_and_fit pid=55795)\u001b[0m Epoch 2: train loss 3.0004199288669042e-05, accuracy 1.0\u001b[32m [repeated 26x across cluster]\u001b[0m\n",
            "\u001b[2m\u001b[36m(launch_and_evaluate pid=55796)\u001b[0m [Client 1] evaluate, config: {}\u001b[32m [repeated 2x across cluster]\u001b[0m\n",
            "\u001b[2m\u001b[36m(launch_and_fit pid=55796)\u001b[0m Epoch 11: train loss 1.338158426733571e-06, accuracy 1.0\n",
            "\u001b[2m\u001b[36m(launch_and_fit pid=55796)\u001b[0m Epoch 12: train loss 2.3964439606061205e-05, accuracy 1.0\u001b[32m [repeated 21x across cluster]\u001b[0m\n",
            "\u001b[2m\u001b[36m(launch_and_fit pid=55795)\u001b[0m Epoch 24: train loss 8.220071094910963e-07, accuracy 1.0\u001b[32m [repeated 23x across cluster]\u001b[0m\n",
            "\u001b[2m\u001b[36m(launch_and_fit pid=55795)\u001b[0m Epoch 38: train loss 5.81791596232506e-07, accuracy 1.0\u001b[32m [repeated 28x across cluster]\u001b[0m\n",
            "\u001b[2m\u001b[36m(launch_and_fit pid=55795)\u001b[0m Epoch 49: train loss 4.58077352050168e-07, accuracy 1.0\u001b[32m [repeated 22x across cluster]\u001b[0m\n",
            "\u001b[2m\u001b[36m(launch_and_fit pid=55795)\u001b[0m [Client 3] fit, config: {}\n",
            "\u001b[2m\u001b[36m(launch_and_fit pid=55796)\u001b[0m Epoch 10: train loss 0.00011174897372256964, accuracy 0.9972807613868117\u001b[32m [repeated 22x across cluster]\u001b[0m\n",
            "\u001b[2m\u001b[36m(launch_and_fit pid=55796)\u001b[0m Epoch 12: train loss 4.505715878622141e-06, accuracy 1.0\n",
            "\u001b[2m\u001b[36m(launch_and_fit pid=55795)\u001b[0m Epoch 25: train loss 1.8224476434625103e-06, accuracy 1.0\u001b[32m [repeated 30x across cluster]\u001b[0m\n",
            "\u001b[2m\u001b[36m(launch_and_fit pid=55795)\u001b[0m Epoch 37: train loss 1.3799740372633096e-06, accuracy 1.0\u001b[32m [repeated 24x across cluster]\u001b[0m\n",
            "\u001b[2m\u001b[36m(launch_and_fit pid=55796)\u001b[0m Epoch 47: train loss 1.2779921689798357e-06, accuracy 1.0\u001b[32m [repeated 22x across cluster]\u001b[0m\n"
          ]
        },
        {
          "metadata": {
            "tags": null
          },
          "name": "stderr",
          "output_type": "stream",
          "text": [
            "DEBUG flwr 2023-06-08 15:32:55,540 | server.py:232 | fit_round 13 received 4 results and 0 failures\n",
            "DEBUG:flwr:fit_round 13 received 4 results and 0 failures\n",
            "DEBUG flwr 2023-06-08 15:32:55,565 | server.py:168 | evaluate_round 13: strategy sampled 3 clients (out of 4)\n",
            "DEBUG:flwr:evaluate_round 13: strategy sampled 3 clients (out of 4)\n",
            "DEBUG flwr 2023-06-08 15:32:55,797 | server.py:182 | evaluate_round 13 received 3 results and 0 failures\n",
            "DEBUG:flwr:evaluate_round 13 received 3 results and 0 failures\n",
            "DEBUG flwr 2023-06-08 15:32:55,805 | server.py:218 | fit_round 14: strategy sampled 4 clients (out of 4)\n",
            "DEBUG:flwr:fit_round 14: strategy sampled 4 clients (out of 4)\n"
          ]
        },
        {
          "metadata": {
            "tags": null
          },
          "name": "stdout",
          "output_type": "stream",
          "text": [
            "\u001b[2m\u001b[36m(launch_and_evaluate pid=55795)\u001b[0m [Client 3] evaluate, config: {}\n",
            "\u001b[2m\u001b[36m(launch_and_fit pid=55795)\u001b[0m [Client 1] fit, config: {}\n",
            "\u001b[2m\u001b[36m(launch_and_fit pid=55795)\u001b[0m Epoch 11: train loss 1.288721523451386e-05, accuracy 1.0\u001b[32m [repeated 26x across cluster]\u001b[0m\n",
            "\u001b[2m\u001b[36m(launch_and_evaluate pid=55796)\u001b[0m [Client 0] evaluate, config: {}\u001b[32m [repeated 2x across cluster]\u001b[0m\n",
            "\u001b[2m\u001b[36m(launch_and_fit pid=55796)\u001b[0m Epoch 15: train loss 5.743105248257052e-06, accuracy 1.0\n",
            "\u001b[2m\u001b[36m(launch_and_fit pid=55795)\u001b[0m Epoch 23: train loss 3.3134224395325873e-06, accuracy 1.0\u001b[32m [repeated 24x across cluster]\u001b[0m\n",
            "\u001b[2m\u001b[36m(launch_and_fit pid=55796)\u001b[0m Epoch 33: train loss 6.598576192118344e-07, accuracy 1.0\u001b[32m [repeated 21x across cluster]\u001b[0m\n",
            "\u001b[2m\u001b[36m(launch_and_fit pid=55796)\u001b[0m Epoch 48: train loss 4.7198847141771694e-07, accuracy 1.0\u001b[32m [repeated 30x across cluster]\u001b[0m\n",
            "\u001b[2m\u001b[36m(launch_and_fit pid=55795)\u001b[0m [Client 0] fit, config: {}\n",
            "\u001b[2m\u001b[36m(launch_and_fit pid=55795)\u001b[0m Epoch 11: train loss 7.5751609983854e-05, accuracy 0.9993201903467029\u001b[32m [repeated 26x across cluster]\u001b[0m\n",
            "\u001b[2m\u001b[36m(launch_and_fit pid=55796)\u001b[0m Epoch 12: train loss 7.507798727601767e-05, accuracy 0.9966009517335146\n",
            "\u001b[2m\u001b[36m(launch_and_fit pid=55796)\u001b[0m Epoch 21: train loss 2.8747961096087238e-06, accuracy 1.0\u001b[32m [repeated 19x across cluster]\u001b[0m\n",
            "\u001b[2m\u001b[36m(launch_and_fit pid=55796)\u001b[0m Epoch 34: train loss 1.802379529181053e-06, accuracy 1.0\u001b[32m [repeated 26x across cluster]\u001b[0m\n",
            "\u001b[2m\u001b[36m(launch_and_fit pid=55795)\u001b[0m Epoch 47: train loss 8.009565704014676e-07, accuracy 1.0\u001b[32m [repeated 28x across cluster]\u001b[0m\n"
          ]
        },
        {
          "metadata": {
            "tags": null
          },
          "name": "stderr",
          "output_type": "stream",
          "text": [
            "DEBUG flwr 2023-06-08 15:33:36,512 | server.py:232 | fit_round 14 received 4 results and 0 failures\n",
            "DEBUG:flwr:fit_round 14 received 4 results and 0 failures\n",
            "DEBUG flwr 2023-06-08 15:33:36,538 | server.py:168 | evaluate_round 14: strategy sampled 3 clients (out of 4)\n",
            "DEBUG:flwr:evaluate_round 14: strategy sampled 3 clients (out of 4)\n",
            "DEBUG flwr 2023-06-08 15:33:36,890 | server.py:182 | evaluate_round 14 received 3 results and 0 failures\n",
            "DEBUG:flwr:evaluate_round 14 received 3 results and 0 failures\n",
            "DEBUG flwr 2023-06-08 15:33:36,896 | server.py:218 | fit_round 15: strategy sampled 4 clients (out of 4)\n",
            "DEBUG:flwr:fit_round 15: strategy sampled 4 clients (out of 4)\n"
          ]
        },
        {
          "metadata": {
            "tags": null
          },
          "name": "stdout",
          "output_type": "stream",
          "text": [
            "\u001b[2m\u001b[36m(launch_and_evaluate pid=55795)\u001b[0m [Client 3] evaluate, config: {}\n",
            "\u001b[2m\u001b[36m(launch_and_fit pid=55795)\u001b[0m [Client 2] fit, config: {}\n",
            "\u001b[2m\u001b[36m(launch_and_fit pid=55795)\u001b[0m Epoch 6: train loss 3.864030986733269e-06, accuracy 1.0\u001b[32m [repeated 16x across cluster]\u001b[0m\n",
            "\u001b[2m\u001b[36m(launch_and_evaluate pid=55796)\u001b[0m [Client 0] evaluate, config: {}\u001b[32m [repeated 2x across cluster]\u001b[0m\n",
            "\u001b[2m\u001b[36m(launch_and_fit pid=55796)\u001b[0m Epoch 12: train loss 7.635368888259109e-07, accuracy 1.0\n",
            "\u001b[2m\u001b[36m(launch_and_fit pid=55795)\u001b[0m Epoch 21: train loss 5.509691618499346e-07, accuracy 1.0\u001b[32m [repeated 30x across cluster]\u001b[0m\n",
            "\u001b[2m\u001b[36m(launch_and_fit pid=55795)\u001b[0m Epoch 31: train loss 4.2948036593770667e-07, accuracy 1.0\u001b[32m [repeated 20x across cluster]\u001b[0m\n",
            "\u001b[2m\u001b[36m(launch_and_fit pid=55796)\u001b[0m Epoch 38: train loss 9.864141929938341e-07, accuracy 1.0\u001b[32m [repeated 15x across cluster]\u001b[0m\n",
            "\u001b[2m\u001b[36m(launch_and_fit pid=55795)\u001b[0m [Client 1] fit, config: {}\n",
            "\u001b[2m\u001b[36m(launch_and_fit pid=55795)\u001b[0m Epoch 2: train loss 0.00019526509277056903, accuracy 0.9938817131203264\u001b[32m [repeated 27x across cluster]\u001b[0m\n",
            "\u001b[2m\u001b[36m(launch_and_fit pid=55796)\u001b[0m Epoch 15: train loss 4.7465964598814026e-06, accuracy 1.0\n",
            "\u001b[2m\u001b[36m(launch_and_fit pid=55796)\u001b[0m Epoch 17: train loss 3.87371164833894e-06, accuracy 1.0\u001b[32m [repeated 30x across cluster]\u001b[0m\n",
            "\u001b[2m\u001b[36m(launch_and_fit pid=55796)\u001b[0m Epoch 26: train loss 1.6754513580963248e-06, accuracy 1.0\u001b[32m [repeated 18x across cluster]\u001b[0m\n",
            "\u001b[2m\u001b[36m(launch_and_fit pid=55796)\u001b[0m Epoch 39: train loss 1.043819224832987e-06, accuracy 1.0\u001b[32m [repeated 27x across cluster]\u001b[0m\n"
          ]
        },
        {
          "metadata": {
            "tags": null
          },
          "name": "stderr",
          "output_type": "stream",
          "text": [
            "DEBUG flwr 2023-06-08 15:34:19,952 | server.py:232 | fit_round 15 received 4 results and 0 failures\n",
            "DEBUG:flwr:fit_round 15 received 4 results and 0 failures\n",
            "DEBUG flwr 2023-06-08 15:34:19,976 | server.py:168 | evaluate_round 15: strategy sampled 3 clients (out of 4)\n",
            "DEBUG:flwr:evaluate_round 15: strategy sampled 3 clients (out of 4)\n",
            "DEBUG flwr 2023-06-08 15:34:20,199 | server.py:182 | evaluate_round 15 received 3 results and 0 failures\n",
            "DEBUG:flwr:evaluate_round 15 received 3 results and 0 failures\n",
            "DEBUG flwr 2023-06-08 15:34:20,208 | server.py:218 | fit_round 16: strategy sampled 4 clients (out of 4)\n",
            "DEBUG:flwr:fit_round 16: strategy sampled 4 clients (out of 4)\n"
          ]
        },
        {
          "metadata": {
            "tags": null
          },
          "name": "stdout",
          "output_type": "stream",
          "text": [
            "\u001b[2m\u001b[36m(launch_and_evaluate pid=55795)\u001b[0m [Client 0] evaluate, config: {}\n",
            "\u001b[2m\u001b[36m(launch_and_fit pid=55795)\u001b[0m [Client 0] fit, config: {}\n",
            "\u001b[2m\u001b[36m(launch_and_fit pid=55795)\u001b[0m Epoch 2: train loss 1.4279354218160734e-05, accuracy 1.0\u001b[32m [repeated 25x across cluster]\u001b[0m\n",
            "\u001b[2m\u001b[36m(launch_and_evaluate pid=55796)\u001b[0m [Client 2] evaluate, config: {}\u001b[32m [repeated 2x across cluster]\u001b[0m\n",
            "\u001b[2m\u001b[36m(launch_and_fit pid=55796)\u001b[0m Epoch 10: train loss 0.00035449740244075656, accuracy 0.9918422841604351\n",
            "\u001b[2m\u001b[36m(launch_and_fit pid=55796)\u001b[0m Epoch 12: train loss 4.310787517169956e-06, accuracy 1.0\u001b[32m [repeated 20x across cluster]\u001b[0m\n",
            "\u001b[2m\u001b[36m(launch_and_fit pid=55796)\u001b[0m Epoch 25: train loss 1.787808855624462e-06, accuracy 1.0\u001b[32m [repeated 26x across cluster]\u001b[0m\n",
            "\u001b[2m\u001b[36m(launch_and_fit pid=55795)\u001b[0m Epoch 39: train loss 9.60578859121597e-07, accuracy 1.0\u001b[32m [repeated 28x across cluster]\u001b[0m\n",
            "\u001b[2m\u001b[36m(launch_and_fit pid=55795)\u001b[0m Epoch 49: train loss 7.786643436702434e-07, accuracy 1.0\u001b[32m [repeated 20x across cluster]\u001b[0m\n",
            "\u001b[2m\u001b[36m(launch_and_fit pid=55795)\u001b[0m [Client 2] fit, config: {}\n",
            "\u001b[2m\u001b[36m(launch_and_fit pid=55795)\u001b[0m Epoch 12: train loss 1.5304684666261892e-06, accuracy 1.0\u001b[32m [repeated 26x across cluster]\u001b[0m\n",
            "\u001b[2m\u001b[36m(launch_and_fit pid=55796)\u001b[0m Epoch 14: train loss 1.2739014891849365e-06, accuracy 1.0\n",
            "\u001b[2m\u001b[36m(launch_and_fit pid=55795)\u001b[0m Epoch 27: train loss 6.851945499875001e-07, accuracy 1.0\u001b[32m [repeated 30x across cluster]\u001b[0m\n",
            "\u001b[2m\u001b[36m(launch_and_fit pid=55796)\u001b[0m Epoch 37: train loss 8.851387178765435e-07, accuracy 1.0\u001b[32m [repeated 20x across cluster]\u001b[0m\n"
          ]
        },
        {
          "metadata": {
            "tags": null
          },
          "name": "stderr",
          "output_type": "stream",
          "text": [
            "DEBUG flwr 2023-06-08 15:35:02,761 | server.py:232 | fit_round 16 received 4 results and 0 failures\n",
            "DEBUG:flwr:fit_round 16 received 4 results and 0 failures\n",
            "DEBUG flwr 2023-06-08 15:35:02,782 | server.py:168 | evaluate_round 16: strategy sampled 3 clients (out of 4)\n",
            "DEBUG:flwr:evaluate_round 16: strategy sampled 3 clients (out of 4)\n",
            "DEBUG flwr 2023-06-08 15:35:03,023 | server.py:182 | evaluate_round 16 received 3 results and 0 failures\n",
            "DEBUG:flwr:evaluate_round 16 received 3 results and 0 failures\n",
            "DEBUG flwr 2023-06-08 15:35:03,026 | server.py:218 | fit_round 17: strategy sampled 4 clients (out of 4)\n",
            "DEBUG:flwr:fit_round 17: strategy sampled 4 clients (out of 4)\n"
          ]
        },
        {
          "metadata": {
            "tags": null
          },
          "name": "stdout",
          "output_type": "stream",
          "text": [
            "\u001b[2m\u001b[36m(launch_and_fit pid=55795)\u001b[0m Epoch 50: train loss 3.570816033970914e-07, accuracy 1.0\u001b[32m [repeated 26x across cluster]\u001b[0m\n",
            "\u001b[2m\u001b[36m(launch_and_evaluate pid=55795)\u001b[0m [Client 1] evaluate, config: {}\n",
            "\u001b[2m\u001b[36m(launch_and_evaluate pid=55795)\u001b[0m [Client 2] evaluate, config: {}\n",
            "\u001b[2m\u001b[36m(launch_and_fit pid=55795)\u001b[0m [Client 1] fit, config: {}\n",
            "\u001b[2m\u001b[36m(launch_and_fit pid=55795)\u001b[0m Epoch 14: train loss 1.96352880266204e-06, accuracy 1.0\u001b[32m [repeated 28x across cluster]\u001b[0m\n",
            "\u001b[2m\u001b[36m(launch_and_evaluate pid=55796)\u001b[0m Epoch 14: train loss 1.96352880266204e-06, accuracy 1.0\n",
            "\u001b[2m\u001b[36m(launch_and_fit pid=55796)\u001b[0m Epoch 15: train loss 1.8137429833586793e-06, accuracy 1.0\n",
            "\u001b[2m\u001b[36m(launch_and_fit pid=55796)\u001b[0m Epoch 23: train loss 4.276494962596189e-07, accuracy 1.0\u001b[32m [repeated 19x across cluster]\u001b[0m\n",
            "\u001b[2m\u001b[36m(launch_and_fit pid=55795)\u001b[0m Epoch 36: train loss 8.428428941442689e-07, accuracy 1.0\u001b[32m [repeated 26x across cluster]\u001b[0m\n",
            "\u001b[2m\u001b[36m(launch_and_fit pid=55796)\u001b[0m [Client 0] fit, config: {}\n",
            "\u001b[2m\u001b[36m(launch_and_fit pid=55796)\u001b[0m Epoch 1: train loss 8.870061719790101e-05, accuracy 0.9972807613868117\u001b[32m [repeated 29x across cluster]\u001b[0m\n",
            "\u001b[2m\u001b[36m(launch_and_fit pid=55795)\u001b[0m Epoch 9: train loss 3.129715423710877e-06, accuracy 1.0\n",
            "\u001b[2m\u001b[36m(launch_and_fit pid=55796)\u001b[0m Epoch 10: train loss 2.4821449642331572e-06, accuracy 1.0\u001b[32m [repeated 18x across cluster]\u001b[0m\n",
            "\u001b[2m\u001b[36m(launch_and_fit pid=55796)\u001b[0m Epoch 23: train loss 1.0326027677365346e-06, accuracy 1.0\u001b[32m [repeated 26x across cluster]\u001b[0m\n",
            "\u001b[2m\u001b[36m(launch_and_fit pid=55795)\u001b[0m Epoch 37: train loss 9.030479759530863e-07, accuracy 1.0\u001b[32m [repeated 29x across cluster]\u001b[0m\n",
            "\u001b[2m\u001b[36m(launch_and_fit pid=55796)\u001b[0m Epoch 48: train loss 5.340487518878945e-07, accuracy 1.0\u001b[32m [repeated 20x across cluster]\u001b[0m\n"
          ]
        },
        {
          "metadata": {
            "tags": null
          },
          "name": "stderr",
          "output_type": "stream",
          "text": [
            "DEBUG flwr 2023-06-08 15:35:45,018 | server.py:232 | fit_round 17 received 4 results and 0 failures\n",
            "DEBUG:flwr:fit_round 17 received 4 results and 0 failures\n",
            "DEBUG flwr 2023-06-08 15:35:45,045 | server.py:168 | evaluate_round 17: strategy sampled 3 clients (out of 4)\n",
            "DEBUG:flwr:evaluate_round 17: strategy sampled 3 clients (out of 4)\n",
            "DEBUG flwr 2023-06-08 15:35:45,279 | server.py:182 | evaluate_round 17 received 3 results and 0 failures\n",
            "DEBUG:flwr:evaluate_round 17 received 3 results and 0 failures\n",
            "DEBUG flwr 2023-06-08 15:35:45,283 | server.py:218 | fit_round 18: strategy sampled 4 clients (out of 4)\n",
            "DEBUG:flwr:fit_round 18: strategy sampled 4 clients (out of 4)\n"
          ]
        },
        {
          "metadata": {
            "tags": null
          },
          "name": "stdout",
          "output_type": "stream",
          "text": [
            "\u001b[2m\u001b[36m(launch_and_evaluate pid=55795)\u001b[0m [Client 2] evaluate, config: {}\n",
            "\u001b[2m\u001b[36m(launch_and_fit pid=55795)\u001b[0m [Client 0] fit, config: {}\n",
            "\u001b[2m\u001b[36m(launch_and_fit pid=55796)\u001b[0m Epoch 9: train loss 5.577784349952708e-07, accuracy 1.0\u001b[32m [repeated 23x across cluster]\u001b[0m\n",
            "\u001b[2m\u001b[36m(launch_and_evaluate pid=55796)\u001b[0m [Client 1] evaluate, config: {}\u001b[32m [repeated 2x across cluster]\u001b[0m\n",
            "\u001b[2m\u001b[36m(launch_and_fit pid=55796)\u001b[0m Epoch 15: train loss 4.1968729647123837e-07, accuracy 1.0\n",
            "\u001b[2m\u001b[36m(launch_and_fit pid=55796)\u001b[0m Epoch 24: train loss 3.036137741219136e-07, accuracy 1.0\u001b[32m [repeated 30x across cluster]\u001b[0m\n",
            "\u001b[2m\u001b[36m(launch_and_fit pid=55795)\u001b[0m Epoch 34: train loss 2.636344618167641e-07, accuracy 1.0\u001b[32m [repeated 20x across cluster]\u001b[0m\n",
            "\u001b[2m\u001b[36m(launch_and_fit pid=55796)\u001b[0m Epoch 47: train loss 1.6232860389209236e-07, accuracy 1.0\u001b[32m [repeated 26x across cluster]\u001b[0m\n",
            "\u001b[2m\u001b[36m(launch_and_fit pid=55795)\u001b[0m [Client 3] fit, config: {}\n",
            "\u001b[2m\u001b[36m(launch_and_fit pid=55795)\u001b[0m Epoch 12: train loss 9.178851314572967e-07, accuracy 1.0\u001b[32m [repeated 30x across cluster]\u001b[0m\n",
            "\u001b[2m\u001b[36m(launch_and_fit pid=55796)\u001b[0m Epoch 15: train loss 1.861646296674735e-06, accuracy 1.0\n",
            "\u001b[2m\u001b[36m(launch_and_fit pid=55796)\u001b[0m Epoch 21: train loss 1.487152303525363e-06, accuracy 1.0\u001b[32m [repeated 20x across cluster]\u001b[0m\n",
            "\u001b[2m\u001b[36m(launch_and_fit pid=55796)\u001b[0m Epoch 33: train loss 1.091017452381493e-06, accuracy 1.0\u001b[32m [repeated 24x across cluster]\u001b[0m\n",
            "\u001b[2m\u001b[36m(launch_and_fit pid=55795)\u001b[0m Epoch 49: train loss 3.409176656532509e-07, accuracy 1.0\u001b[32m [repeated 30x across cluster]\u001b[0m\n"
          ]
        },
        {
          "metadata": {
            "tags": null
          },
          "name": "stderr",
          "output_type": "stream",
          "text": [
            "DEBUG flwr 2023-06-08 15:36:24,646 | server.py:232 | fit_round 18 received 4 results and 0 failures\n",
            "DEBUG:flwr:fit_round 18 received 4 results and 0 failures\n",
            "DEBUG flwr 2023-06-08 15:36:24,666 | server.py:168 | evaluate_round 18: strategy sampled 3 clients (out of 4)\n",
            "DEBUG:flwr:evaluate_round 18: strategy sampled 3 clients (out of 4)\n",
            "DEBUG flwr 2023-06-08 15:36:24,908 | server.py:182 | evaluate_round 18 received 3 results and 0 failures\n",
            "DEBUG:flwr:evaluate_round 18 received 3 results and 0 failures\n",
            "DEBUG flwr 2023-06-08 15:36:24,915 | server.py:218 | fit_round 19: strategy sampled 4 clients (out of 4)\n",
            "DEBUG:flwr:fit_round 19: strategy sampled 4 clients (out of 4)\n"
          ]
        },
        {
          "metadata": {
            "tags": null
          },
          "name": "stdout",
          "output_type": "stream",
          "text": [
            "\u001b[2m\u001b[36m(launch_and_evaluate pid=55795)\u001b[0m [Client 2] evaluate, config: {}\n",
            "\u001b[2m\u001b[36m(launch_and_fit pid=55795)\u001b[0m [Client 1] fit, config: {}\n",
            "\u001b[2m\u001b[36m(launch_and_fit pid=55795)\u001b[0m Epoch 8: train loss 3.3535748116264585e-06, accuracy 1.0\u001b[32m [repeated 18x across cluster]\u001b[0m\n",
            "\u001b[2m\u001b[36m(launch_and_evaluate pid=55796)\u001b[0m [Client 3] evaluate, config: {}\u001b[32m [repeated 2x across cluster]\u001b[0m\n",
            "\u001b[2m\u001b[36m(launch_and_fit pid=55796)\u001b[0m Epoch 9: train loss 3.5770051454164786e-06, accuracy 1.0\n",
            "\u001b[2m\u001b[36m(launch_and_fit pid=55795)\u001b[0m Epoch 20: train loss 1.6187713072213228e-06, accuracy 1.0\u001b[32m [repeated 24x across cluster]\u001b[0m\n",
            "\u001b[2m\u001b[36m(launch_and_fit pid=55796)\u001b[0m Epoch 34: train loss 5.121771664562402e-07, accuracy 1.0\u001b[32m [repeated 29x across cluster]\u001b[0m\n",
            "\u001b[2m\u001b[36m(launch_and_fit pid=55795)\u001b[0m Epoch 45: train loss 6.945334121155611e-07, accuracy 1.0\u001b[32m [repeated 21x across cluster]\u001b[0m\n",
            "\u001b[2m\u001b[36m(launch_and_fit pid=55795)\u001b[0m [Client 0] fit, config: {}\n",
            "\u001b[2m\u001b[36m(launch_and_fit pid=55796)\u001b[0m Epoch 6: train loss 8.023499731280026e-07, accuracy 1.0\u001b[32m [repeated 22x across cluster]\u001b[0m\n",
            "\u001b[2m\u001b[36m(launch_and_fit pid=55796)\u001b[0m Epoch 14: train loss 4.220358391648915e-07, accuracy 1.0\n",
            "\u001b[2m\u001b[36m(launch_and_fit pid=55795)\u001b[0m Epoch 20: train loss 3.55917251226856e-07, accuracy 1.0\u001b[32m [repeated 28x across cluster]\u001b[0m\n",
            "\u001b[2m\u001b[36m(launch_and_fit pid=55795)\u001b[0m Epoch 30: train loss 2.5963859684452473e-07, accuracy 1.0\u001b[32m [repeated 21x across cluster]\u001b[0m\n",
            "\u001b[2m\u001b[36m(launch_and_fit pid=55795)\u001b[0m Epoch 40: train loss 2.0780488796390273e-07, accuracy 1.0\u001b[32m [repeated 20x across cluster]\u001b[0m\n"
          ]
        },
        {
          "metadata": {
            "tags": null
          },
          "name": "stderr",
          "output_type": "stream",
          "text": [
            "DEBUG flwr 2023-06-08 15:37:08,514 | server.py:232 | fit_round 19 received 4 results and 0 failures\n",
            "DEBUG:flwr:fit_round 19 received 4 results and 0 failures\n",
            "DEBUG flwr 2023-06-08 15:37:08,539 | server.py:168 | evaluate_round 19: strategy sampled 3 clients (out of 4)\n",
            "DEBUG:flwr:evaluate_round 19: strategy sampled 3 clients (out of 4)\n",
            "DEBUG flwr 2023-06-08 15:37:08,792 | server.py:182 | evaluate_round 19 received 3 results and 0 failures\n",
            "DEBUG:flwr:evaluate_round 19 received 3 results and 0 failures\n",
            "DEBUG flwr 2023-06-08 15:37:08,799 | server.py:218 | fit_round 20: strategy sampled 4 clients (out of 4)\n",
            "DEBUG:flwr:fit_round 20: strategy sampled 4 clients (out of 4)\n"
          ]
        },
        {
          "metadata": {
            "tags": null
          },
          "name": "stdout",
          "output_type": "stream",
          "text": [
            "\u001b[2m\u001b[36m(launch_and_evaluate pid=55795)\u001b[0m [Client 1] evaluate, config: {}\n",
            "\u001b[2m\u001b[36m(launch_and_fit pid=55795)\u001b[0m [Client 2] fit, config: {}\n",
            "\u001b[2m\u001b[36m(launch_and_fit pid=55795)\u001b[0m Epoch 3: train loss 2.4537281205994077e-05, accuracy 0.9993201903467029\u001b[32m [repeated 25x across cluster]\u001b[0m\n",
            "\u001b[2m\u001b[36m(launch_and_evaluate pid=55795)\u001b[0m [Client 2] evaluate, config: {}\u001b[32m [repeated 2x across cluster]\u001b[0m\n",
            "\u001b[2m\u001b[36m(launch_and_fit pid=55796)\u001b[0m Epoch 12: train loss 5.456621693156194e-06, accuracy 1.0\n",
            "\u001b[2m\u001b[36m(launch_and_fit pid=55795)\u001b[0m Epoch 14: train loss 4.305831851070252e-07, accuracy 1.0\u001b[32m [repeated 22x across cluster]\u001b[0m\n",
            "\u001b[2m\u001b[36m(launch_and_fit pid=55796)\u001b[0m Epoch 24: train loss 1.9448475541139487e-06, accuracy 1.0\u001b[32m [repeated 21x across cluster]\u001b[0m\n",
            "\u001b[2m\u001b[36m(launch_and_fit pid=55795)\u001b[0m Epoch 39: train loss 1.9081609536897304e-07, accuracy 1.0\u001b[32m [repeated 29x across cluster]\u001b[0m\n",
            "\u001b[2m\u001b[36m(launch_and_fit pid=55795)\u001b[0m Epoch 50: train loss 1.5341146308855969e-07, accuracy 1.0\u001b[32m [repeated 22x across cluster]\u001b[0m\n",
            "\u001b[2m\u001b[36m(launch_and_fit pid=55795)\u001b[0m [Client 1] fit, config: {}\n",
            "\u001b[2m\u001b[36m(launch_and_fit pid=55796)\u001b[0m Epoch 10: train loss 3.8279598811641335e-05, accuracy 0.9993201903467029\u001b[32m [repeated 21x across cluster]\u001b[0m\n",
            "\u001b[2m\u001b[36m(launch_and_fit pid=55796)\u001b[0m Epoch 10: train loss 3.8279598811641335e-05, accuracy 0.9993201903467029\n",
            "\u001b[2m\u001b[36m(launch_and_fit pid=55795)\u001b[0m Epoch 24: train loss 9.251622259398573e-07, accuracy 1.0\u001b[32m [repeated 27x across cluster]\u001b[0m\n",
            "\u001b[2m\u001b[36m(launch_and_fit pid=55795)\u001b[0m Epoch 36: train loss 6.385193955793511e-07, accuracy 1.0\u001b[32m [repeated 24x across cluster]\u001b[0m\n",
            "\u001b[2m\u001b[36m(launch_and_fit pid=55795)\u001b[0m Epoch 47: train loss 4.921681693303981e-07, accuracy 1.0\u001b[32m [repeated 21x across cluster]\u001b[0m\n"
          ]
        },
        {
          "metadata": {
            "tags": null
          },
          "name": "stderr",
          "output_type": "stream",
          "text": [
            "DEBUG flwr 2023-06-08 15:37:53,091 | server.py:232 | fit_round 20 received 4 results and 0 failures\n",
            "DEBUG:flwr:fit_round 20 received 4 results and 0 failures\n",
            "DEBUG flwr 2023-06-08 15:37:53,120 | server.py:168 | evaluate_round 20: strategy sampled 3 clients (out of 4)\n",
            "DEBUG:flwr:evaluate_round 20: strategy sampled 3 clients (out of 4)\n",
            "DEBUG flwr 2023-06-08 15:37:53,382 | server.py:182 | evaluate_round 20 received 3 results and 0 failures\n",
            "DEBUG:flwr:evaluate_round 20 received 3 results and 0 failures\n",
            "DEBUG flwr 2023-06-08 15:37:53,387 | server.py:218 | fit_round 21: strategy sampled 4 clients (out of 4)\n",
            "DEBUG:flwr:fit_round 21: strategy sampled 4 clients (out of 4)\n"
          ]
        },
        {
          "metadata": {
            "tags": null
          },
          "name": "stdout",
          "output_type": "stream",
          "text": [
            "\u001b[2m\u001b[36m(launch_and_evaluate pid=55795)\u001b[0m [Client 3] evaluate, config: {}\n",
            "\u001b[2m\u001b[36m(launch_and_fit pid=55795)\u001b[0m [Client 2] fit, config: {}\n",
            "\u001b[2m\u001b[36m(launch_and_fit pid=55795)\u001b[0m Epoch 9: train loss 1.2453149338398362e-06, accuracy 1.0\u001b[32m [repeated 25x across cluster]\u001b[0m\n",
            "\u001b[2m\u001b[36m(launch_and_evaluate pid=55795)\u001b[0m [Client 2] evaluate, config: {}\u001b[32m [repeated 2x across cluster]\u001b[0m\n",
            "\u001b[2m\u001b[36m(launch_and_fit pid=55796)\u001b[0m Epoch 13: train loss 1.0061995681098779e-06, accuracy 1.0\n",
            "\u001b[2m\u001b[36m(launch_and_fit pid=55795)\u001b[0m Epoch 19: train loss 7.816367428858939e-07, accuracy 1.0\u001b[32m [repeated 21x across cluster]\u001b[0m\n",
            "\u001b[2m\u001b[36m(launch_and_fit pid=55795)\u001b[0m Epoch 29: train loss 5.557259896704636e-07, accuracy 1.0\u001b[32m [repeated 20x across cluster]\u001b[0m\n",
            "\u001b[2m\u001b[36m(launch_and_fit pid=55796)\u001b[0m Epoch 43: train loss 3.1706673553344444e-07, accuracy 1.0\u001b[32m [repeated 27x across cluster]\u001b[0m\n",
            "\u001b[2m\u001b[36m(launch_and_fit pid=55795)\u001b[0m [Client 0] fit, config: {}\n",
            "\u001b[2m\u001b[36m(launch_and_fit pid=55796)\u001b[0m Epoch 4: train loss 6.407091404980747e-06, accuracy 1.0\u001b[32m [repeated 22x across cluster]\u001b[0m\n",
            "\u001b[2m\u001b[36m(launch_and_fit pid=55796)\u001b[0m Epoch 8: train loss 1.048610329235089e-06, accuracy 1.0\n",
            "\u001b[2m\u001b[36m(launch_and_fit pid=55795)\u001b[0m Epoch 14: train loss 3.022381406481145e-06, accuracy 1.0\u001b[32m [repeated 21x across cluster]\u001b[0m\n",
            "\u001b[2m\u001b[36m(launch_and_fit pid=55795)\u001b[0m Epoch 27: train loss 1.2437770919859759e-06, accuracy 1.0\u001b[32m [repeated 27x across cluster]\u001b[0m\n",
            "\u001b[2m\u001b[36m(launch_and_fit pid=55795)\u001b[0m Epoch 37: train loss 8.542433533875737e-07, accuracy 1.0\u001b[32m [repeated 21x across cluster]\u001b[0m\n",
            "\u001b[2m\u001b[36m(launch_and_fit pid=55795)\u001b[0m Epoch 46: train loss 6.695541969747865e-07, accuracy 1.0\u001b[32m [repeated 18x across cluster]\u001b[0m\n"
          ]
        },
        {
          "metadata": {
            "tags": null
          },
          "name": "stderr",
          "output_type": "stream",
          "text": [
            "DEBUG flwr 2023-06-08 15:38:39,610 | server.py:232 | fit_round 21 received 4 results and 0 failures\n",
            "DEBUG:flwr:fit_round 21 received 4 results and 0 failures\n",
            "DEBUG flwr 2023-06-08 15:38:39,637 | server.py:168 | evaluate_round 21: strategy sampled 3 clients (out of 4)\n",
            "DEBUG:flwr:evaluate_round 21: strategy sampled 3 clients (out of 4)\n",
            "DEBUG flwr 2023-06-08 15:38:39,903 | server.py:182 | evaluate_round 21 received 3 results and 0 failures\n",
            "DEBUG:flwr:evaluate_round 21 received 3 results and 0 failures\n",
            "DEBUG flwr 2023-06-08 15:38:39,914 | server.py:218 | fit_round 22: strategy sampled 4 clients (out of 4)\n",
            "DEBUG:flwr:fit_round 22: strategy sampled 4 clients (out of 4)\n"
          ]
        },
        {
          "metadata": {
            "tags": null
          },
          "name": "stdout",
          "output_type": "stream",
          "text": [
            "\u001b[2m\u001b[36m(launch_and_evaluate pid=55795)\u001b[0m [Client 2] evaluate, config: {}\n",
            "\u001b[2m\u001b[36m(launch_and_fit pid=55795)\u001b[0m [Client 2] fit, config: {}\n",
            "\u001b[2m\u001b[36m(launch_and_fit pid=55795)\u001b[0m Epoch 9: train loss 4.478625896808808e-07, accuracy 1.0\u001b[32m [repeated 23x across cluster]\u001b[0m\n",
            "\u001b[2m\u001b[36m(launch_and_evaluate pid=55796)\u001b[0m [Client 0] evaluate, config: {}\u001b[32m [repeated 2x across cluster]\u001b[0m\n",
            "\u001b[2m\u001b[36m(launch_and_fit pid=55796)\u001b[0m Epoch 13: train loss 3.1957893042999785e-07, accuracy 1.0\n",
            "\u001b[2m\u001b[36m(launch_and_fit pid=55796)\u001b[0m Epoch 20: train loss 7.337757210734708e-07, accuracy 1.0\u001b[32m [repeated 22x across cluster]\u001b[0m\n",
            "\u001b[2m\u001b[36m(launch_and_fit pid=55796)\u001b[0m Epoch 26: train loss 6.023643095431908e-07, accuracy 1.0\u001b[32m [repeated 12x across cluster]\u001b[0m\n",
            "\u001b[2m\u001b[36m(launch_and_fit pid=55796)\u001b[0m Epoch 35: train loss 4.7516812173853396e-07, accuracy 1.0\u001b[32m [repeated 18x across cluster]\u001b[0m\n",
            "\u001b[2m\u001b[36m(launch_and_fit pid=55795)\u001b[0m Epoch 48: train loss 8.539746687574734e-08, accuracy 1.0\u001b[32m [repeated 27x across cluster]\u001b[0m\n",
            "\u001b[2m\u001b[36m(launch_and_fit pid=55796)\u001b[0m [Client 3] fit, config: {}\n",
            "\u001b[2m\u001b[36m(launch_and_fit pid=55795)\u001b[0m Epoch 8: train loss 0.0003476988058537245, accuracy 0.991162474507138\u001b[32m [repeated 21x across cluster]\u001b[0m\n",
            "\u001b[2m\u001b[36m(launch_and_fit pid=55795)\u001b[0m Epoch 9: train loss 1.3812237739330158e-05, accuracy 1.0\n",
            "\u001b[2m\u001b[36m(launch_and_fit pid=55796)\u001b[0m Epoch 19: train loss 7.545310722889553e-07, accuracy 1.0\u001b[32m [repeated 19x across cluster]\u001b[0m\n",
            "\u001b[2m\u001b[36m(launch_and_fit pid=55796)\u001b[0m Epoch 33: train loss 4.856376563111553e-07, accuracy 1.0\u001b[32m [repeated 28x across cluster]\u001b[0m\n",
            "\u001b[2m\u001b[36m(launch_and_fit pid=55795)\u001b[0m Epoch 43: train loss 6.147408839751733e-07, accuracy 1.0\u001b[32m [repeated 24x across cluster]\u001b[0m\n"
          ]
        },
        {
          "metadata": {
            "tags": null
          },
          "name": "stderr",
          "output_type": "stream",
          "text": [
            "DEBUG flwr 2023-06-08 15:39:28,225 | server.py:232 | fit_round 22 received 4 results and 0 failures\n",
            "DEBUG:flwr:fit_round 22 received 4 results and 0 failures\n",
            "DEBUG flwr 2023-06-08 15:39:28,258 | server.py:168 | evaluate_round 22: strategy sampled 3 clients (out of 4)\n",
            "DEBUG:flwr:evaluate_round 22: strategy sampled 3 clients (out of 4)\n",
            "DEBUG flwr 2023-06-08 15:39:28,511 | server.py:182 | evaluate_round 22 received 3 results and 0 failures\n",
            "DEBUG:flwr:evaluate_round 22 received 3 results and 0 failures\n",
            "DEBUG flwr 2023-06-08 15:39:28,517 | server.py:218 | fit_round 23: strategy sampled 4 clients (out of 4)\n",
            "DEBUG:flwr:fit_round 23: strategy sampled 4 clients (out of 4)\n"
          ]
        },
        {
          "metadata": {
            "tags": null
          },
          "name": "stdout",
          "output_type": "stream",
          "text": [
            "\u001b[2m\u001b[36m(launch_and_evaluate pid=55795)\u001b[0m [Client 1] evaluate, config: {}\n",
            "\u001b[2m\u001b[36m(launch_and_fit pid=55795)\u001b[0m [Client 3] fit, config: {}\n",
            "\u001b[2m\u001b[36m(launch_and_fit pid=55795)\u001b[0m Epoch 1: train loss 3.252961323596537e-05, accuracy 0.9986403806934059\u001b[32m [repeated 13x across cluster]\u001b[0m\n",
            "\u001b[2m\u001b[36m(launch_and_evaluate pid=55796)\u001b[0m [Client 0] evaluate, config: {}\u001b[32m [repeated 2x across cluster]\u001b[0m\n",
            "\u001b[2m\u001b[36m(launch_and_fit pid=55796)\u001b[0m Epoch 14: train loss 6.263069280976197e-07, accuracy 1.0\n",
            "\u001b[2m\u001b[36m(launch_and_fit pid=55795)\u001b[0m Epoch 15: train loss 6.013231086399173e-07, accuracy 1.0\u001b[32m [repeated 28x across cluster]\u001b[0m\n",
            "\u001b[2m\u001b[36m(launch_and_fit pid=55795)\u001b[0m Epoch 27: train loss 4.158775652740587e-07, accuracy 1.0\u001b[32m [repeated 25x across cluster]\u001b[0m\n",
            "\u001b[2m\u001b[36m(launch_and_fit pid=55795)\u001b[0m Epoch 35: train loss 3.501235994463059e-07, accuracy 1.0\u001b[32m [repeated 16x across cluster]\u001b[0m\n",
            "\u001b[2m\u001b[36m(launch_and_fit pid=55795)\u001b[0m Epoch 49: train loss 2.712238256208366e-07, accuracy 1.0\u001b[32m [repeated 27x across cluster]\u001b[0m\n",
            "\u001b[2m\u001b[36m(launch_and_fit pid=55796)\u001b[0m [Client 0] fit, config: {}\n",
            "\u001b[2m\u001b[36m(launch_and_fit pid=55796)\u001b[0m Epoch 12: train loss 2.4253438368759817e-06, accuracy 1.0\u001b[32m [repeated 26x across cluster]\u001b[0m\n",
            "\u001b[2m\u001b[36m(launch_and_fit pid=55795)\u001b[0m Epoch 12: train loss 2.4253438368759817e-06, accuracy 1.0\n",
            "\u001b[2m\u001b[36m(launch_and_fit pid=55796)\u001b[0m Epoch 20: train loss 9.011240535983234e-07, accuracy 1.0\u001b[32m [repeated 16x across cluster]\u001b[0m\n",
            "\u001b[2m\u001b[36m(launch_and_fit pid=55795)\u001b[0m Epoch 33: train loss 1.3731403214478632e-07, accuracy 1.0\u001b[32m [repeated 27x across cluster]\u001b[0m\n",
            "\u001b[2m\u001b[36m(launch_and_fit pid=55795)\u001b[0m Epoch 46: train loss 1.0116575310803455e-07, accuracy 1.0\u001b[32m [repeated 26x across cluster]\u001b[0m\n"
          ]
        },
        {
          "metadata": {
            "tags": null
          },
          "name": "stderr",
          "output_type": "stream",
          "text": [
            "DEBUG flwr 2023-06-08 15:40:13,048 | server.py:232 | fit_round 23 received 4 results and 0 failures\n",
            "DEBUG:flwr:fit_round 23 received 4 results and 0 failures\n",
            "DEBUG flwr 2023-06-08 15:40:13,073 | server.py:168 | evaluate_round 23: strategy sampled 3 clients (out of 4)\n",
            "DEBUG:flwr:evaluate_round 23: strategy sampled 3 clients (out of 4)\n",
            "DEBUG flwr 2023-06-08 15:40:13,409 | server.py:182 | evaluate_round 23 received 3 results and 0 failures\n",
            "DEBUG:flwr:evaluate_round 23 received 3 results and 0 failures\n",
            "DEBUG flwr 2023-06-08 15:40:13,416 | server.py:218 | fit_round 24: strategy sampled 4 clients (out of 4)\n",
            "DEBUG:flwr:fit_round 24: strategy sampled 4 clients (out of 4)\n"
          ]
        },
        {
          "metadata": {
            "tags": null
          },
          "name": "stdout",
          "output_type": "stream",
          "text": [
            "\u001b[2m\u001b[36m(launch_and_evaluate pid=55796)\u001b[0m [Client 2] evaluate, config: {}\n",
            "\u001b[2m\u001b[36m(launch_and_fit pid=55795)\u001b[0m [Client 0] fit, config: {}\n",
            "\u001b[2m\u001b[36m(launch_and_fit pid=55796)\u001b[0m Epoch 3: train loss 7.095624459907413e-05, accuracy 0.9986403806934059\u001b[32m [repeated 13x across cluster]\u001b[0m\n",
            "\u001b[2m\u001b[36m(launch_and_evaluate pid=55796)\u001b[0m [Client 0] evaluate, config: {}\u001b[32m [repeated 2x across cluster]\u001b[0m\n",
            "\u001b[2m\u001b[36m(launch_and_fit pid=55796)\u001b[0m Epoch 11: train loss 0.0002672506670933217, accuracy 0.9925220938137321\n",
            "\u001b[2m\u001b[36m(launch_and_fit pid=55795)\u001b[0m Epoch 16: train loss 1.2028724540869007e-06, accuracy 1.0\u001b[32m [repeated 27x across cluster]\u001b[0m\n",
            "\u001b[2m\u001b[36m(launch_and_fit pid=55796)\u001b[0m Epoch 31: train loss 3.360210882874526e-07, accuracy 1.0\u001b[32m [repeated 29x across cluster]\u001b[0m\n",
            "\u001b[2m\u001b[36m(launch_and_fit pid=55795)\u001b[0m Epoch 38: train loss 2.8606814339582343e-07, accuracy 1.0\u001b[32m [repeated 15x across cluster]\u001b[0m\n",
            "\u001b[2m\u001b[36m(launch_and_fit pid=55796)\u001b[0m [Client 2] fit, config: {}\n",
            "\u001b[2m\u001b[36m(launch_and_fit pid=55796)\u001b[0m Epoch 2: train loss 1.4368657502927817e-05, accuracy 1.0\u001b[32m [repeated 26x across cluster]\u001b[0m\n",
            "\u001b[2m\u001b[36m(launch_and_fit pid=55795)\u001b[0m Epoch 12: train loss 3.741653813449375e-07, accuracy 1.0\n",
            "\u001b[2m\u001b[36m(launch_and_fit pid=55795)\u001b[0m Epoch 14: train loss 3.4103317148037604e-07, accuracy 1.0\u001b[32m [repeated 27x across cluster]\u001b[0m\n",
            "\u001b[2m\u001b[36m(launch_and_fit pid=55795)\u001b[0m Epoch 22: train loss 2.577083932919777e-07, accuracy 1.0\u001b[32m [repeated 16x across cluster]\u001b[0m\n",
            "\u001b[2m\u001b[36m(launch_and_fit pid=55795)\u001b[0m Epoch 35: train loss 1.9032457032608363e-07, accuracy 1.0\u001b[32m [repeated 25x across cluster]\u001b[0m\n",
            "\u001b[2m\u001b[36m(launch_and_fit pid=55796)\u001b[0m Epoch 49: train loss 1.0853293019863486e-07, accuracy 1.0\u001b[32m [repeated 27x across cluster]\u001b[0m\n"
          ]
        },
        {
          "metadata": {
            "tags": null
          },
          "name": "stderr",
          "output_type": "stream",
          "text": [
            "DEBUG flwr 2023-06-08 15:40:57,086 | server.py:232 | fit_round 24 received 4 results and 0 failures\n",
            "DEBUG:flwr:fit_round 24 received 4 results and 0 failures\n",
            "DEBUG flwr 2023-06-08 15:40:57,113 | server.py:168 | evaluate_round 24: strategy sampled 3 clients (out of 4)\n",
            "DEBUG:flwr:evaluate_round 24: strategy sampled 3 clients (out of 4)\n",
            "DEBUG flwr 2023-06-08 15:40:57,484 | server.py:182 | evaluate_round 24 received 3 results and 0 failures\n",
            "DEBUG:flwr:evaluate_round 24 received 3 results and 0 failures\n",
            "DEBUG flwr 2023-06-08 15:40:57,494 | server.py:218 | fit_round 25: strategy sampled 4 clients (out of 4)\n",
            "DEBUG:flwr:fit_round 25: strategy sampled 4 clients (out of 4)\n"
          ]
        },
        {
          "metadata": {
            "tags": null
          },
          "name": "stdout",
          "output_type": "stream",
          "text": [
            "\u001b[2m\u001b[36m(launch_and_evaluate pid=55795)\u001b[0m [Client 3] evaluate, config: {}\n",
            "\u001b[2m\u001b[36m(launch_and_fit pid=55795)\u001b[0m [Client 2] fit, config: {}\n",
            "\u001b[2m\u001b[36m(launch_and_fit pid=55795)\u001b[0m Epoch 5: train loss 2.7229554689256474e-05, accuracy 0.9986403806934059\u001b[32m [repeated 13x across cluster]\u001b[0m\n",
            "\u001b[2m\u001b[36m(launch_and_evaluate pid=55795)\u001b[0m [Client 0] evaluate, config: {}\u001b[32m [repeated 2x across cluster]\u001b[0m\n",
            "\u001b[2m\u001b[36m(launch_and_fit pid=55796)\u001b[0m Epoch 7: train loss 2.290468046339811e-06, accuracy 1.0\n",
            "\u001b[2m\u001b[36m(launch_and_fit pid=55796)\u001b[0m Epoch 17: train loss 4.053118118463317e-06, accuracy 1.0\u001b[32m [repeated 23x across cluster]\u001b[0m\n",
            "\u001b[2m\u001b[36m(launch_and_fit pid=55796)\u001b[0m Epoch 30: train loss 1.125248445532634e-06, accuracy 1.0\u001b[32m [repeated 26x across cluster]\u001b[0m\n",
            "\u001b[2m\u001b[36m(launch_and_fit pid=55796)\u001b[0m Epoch 39: train loss 7.191072768364393e-07, accuracy 1.0\u001b[32m [repeated 17x across cluster]\u001b[0m\n",
            "\u001b[2m\u001b[36m(launch_and_fit pid=55796)\u001b[0m [Client 3] fit, config: {}\n",
            "\u001b[2m\u001b[36m(launch_and_fit pid=55795)\u001b[0m Epoch 50: train loss 1.3461730929975602e-07, accuracy 1.0\u001b[32m [repeated 24x across cluster]\u001b[0m\n",
            "\u001b[2m\u001b[36m(launch_and_fit pid=55795)\u001b[0m Epoch 13: train loss 6.866799822091707e-07, accuracy 1.0\n",
            "\u001b[2m\u001b[36m(launch_and_fit pid=55795)\u001b[0m Epoch 14: train loss 6.482086405412701e-07, accuracy 1.0\u001b[32m [repeated 28x across cluster]\u001b[0m\n",
            "\u001b[2m\u001b[36m(launch_and_fit pid=55795)\u001b[0m Epoch 24: train loss 4.0863977801564033e-07, accuracy 1.0\u001b[32m [repeated 19x across cluster]\u001b[0m\n",
            "\u001b[2m\u001b[36m(launch_and_fit pid=55795)\u001b[0m Epoch 37: train loss 2.8749460057042597e-07, accuracy 1.0\u001b[32m [repeated 25x across cluster]\u001b[0m\n"
          ]
        },
        {
          "metadata": {
            "tags": null
          },
          "name": "stderr",
          "output_type": "stream",
          "text": [
            "DEBUG flwr 2023-06-08 15:41:42,676 | server.py:232 | fit_round 25 received 4 results and 0 failures\n",
            "DEBUG:flwr:fit_round 25 received 4 results and 0 failures\n",
            "DEBUG flwr 2023-06-08 15:41:42,697 | server.py:168 | evaluate_round 25: strategy sampled 3 clients (out of 4)\n",
            "DEBUG:flwr:evaluate_round 25: strategy sampled 3 clients (out of 4)\n",
            "DEBUG flwr 2023-06-08 15:41:42,921 | server.py:182 | evaluate_round 25 received 3 results and 0 failures\n",
            "DEBUG:flwr:evaluate_round 25 received 3 results and 0 failures\n",
            "INFO flwr 2023-06-08 15:41:42,929 | server.py:147 | FL finished in 1095.9725066849996\n",
            "INFO:flwr:FL finished in 1095.9725066849996\n",
            "INFO flwr 2023-06-08 15:41:42,935 | app.py:218 | app_fit: losses_distributed [(1, 0.9309718437783832), (2, 0.9436875567665758), (3, 0.9518619436875567), (4, 0.9527702089009991), (5, 0.950045413260672), (6, 0.9518619436875567), (7, 0.9564032697547683), (8, 0.958219800181653), (9, 0.9509536784741144), (10, 0.9527702089009991), (11, 0.9564032697547683), (12, 0.9591280653950953), (13, 0.9545867393278837), (14, 0.9518619436875567), (15, 0.9591280653950953), (16, 0.9573115349682106), (17, 0.958219800181653), (18, 0.9536784741144414), (19, 0.9564032697547683), (20, 0.9564032697547683), (21, 0.955495004541326), (22, 0.9618528610354223), (23, 0.9564032697547683), (24, 0.9573115349682106), (25, 0.96094459582198)]\n",
            "INFO:flwr:app_fit: losses_distributed [(1, 0.9309718437783832), (2, 0.9436875567665758), (3, 0.9518619436875567), (4, 0.9527702089009991), (5, 0.950045413260672), (6, 0.9518619436875567), (7, 0.9564032697547683), (8, 0.958219800181653), (9, 0.9509536784741144), (10, 0.9527702089009991), (11, 0.9564032697547683), (12, 0.9591280653950953), (13, 0.9545867393278837), (14, 0.9518619436875567), (15, 0.9591280653950953), (16, 0.9573115349682106), (17, 0.958219800181653), (18, 0.9536784741144414), (19, 0.9564032697547683), (20, 0.9564032697547683), (21, 0.955495004541326), (22, 0.9618528610354223), (23, 0.9564032697547683), (24, 0.9573115349682106), (25, 0.96094459582198)]\n",
            "INFO flwr 2023-06-08 15:41:42,944 | app.py:219 | app_fit: metrics_distributed_fit {}\n",
            "INFO:flwr:app_fit: metrics_distributed_fit {}\n",
            "INFO flwr 2023-06-08 15:41:42,945 | app.py:220 | app_fit: metrics_distributed {}\n",
            "INFO:flwr:app_fit: metrics_distributed {}\n",
            "INFO flwr 2023-06-08 15:41:42,947 | app.py:221 | app_fit: losses_centralized []\n",
            "INFO:flwr:app_fit: losses_centralized []\n",
            "INFO flwr 2023-06-08 15:41:42,951 | app.py:222 | app_fit: metrics_centralized {}\n",
            "INFO:flwr:app_fit: metrics_centralized {}\n"
          ]
        },
        {
          "metadata": {
            "tags": null
          },
          "name": "stdout",
          "output_type": "stream",
          "text": [
            "\u001b[2m\u001b[36m(launch_and_fit pid=55796)\u001b[0m Epoch 50: train loss 2.2304438118680991e-07, accuracy 1.0\u001b[32m [repeated 28x across cluster]\u001b[0m\n",
            "\u001b[2m\u001b[36m(launch_and_evaluate pid=55795)\u001b[0m [Client 0] evaluate, config: {}\n"
          ]
        },
        {
          "data": {
            "image/png": "[encoded data removed]",
            "text/plain": [
              "<Figure size 640x480 with 1 Axes>"
            ]
          },
          "metadata": {},
          "output_type": "display_data"
        },
        {
          "metadata": {
            "tags": null
          },
          "name": "stderr",
          "output_type": "stream",
          "text": [
            "INFO flwr 2023-06-08 15:41:43,525 | app.py:146 | Starting Flower simulation, config: ServerConfig(num_rounds=25, round_timeout=None)\n",
            "INFO:flwr:Starting Flower simulation, config: ServerConfig(num_rounds=25, round_timeout=None)\n"
          ]
        },
        {
          "metadata": {
            "tags": null
          },
          "name": "stdout",
          "output_type": "stream",
          "text": [
            "\n",
            "Analyzing Strategy... :  Fedadagrad\n",
            "\u001b[2m\u001b[36m(launch_and_evaluate pid=55796)\u001b[0m [Client 1] evaluate, config: {}\u001b[32m [repeated 2x across cluster]\u001b[0m\n"
          ]
        },
        {
          "metadata": {
            "tags": null
          },
          "name": "stderr",
          "output_type": "stream",
          "text": [
            "\u001b[2m\u001b[36m(pid=55796)\u001b[0m 2023-06-08 15:23:29.788162: W tensorflow/compiler/tf2tensorrt/utils/py_utils.cc:38] TF-TRT Warning: Could not find TensorRT\n",
            "2023-06-08 15:41:48,995\tINFO worker.py:1625 -- Started a local Ray instance.\n",
            "INFO flwr 2023-06-08 15:41:50,827 | app.py:180 | Flower VCE: Ray initialized with resources: {'CPU': 2.0, 'memory': 7847220020.0, 'node:172.28.0.12': 1.0, 'GPU': 1.0, 'object_store_memory': 3923610009.0}\n",
            "INFO:flwr:Flower VCE: Ray initialized with resources: {'CPU': 2.0, 'memory': 7847220020.0, 'node:172.28.0.12': 1.0, 'GPU': 1.0, 'object_store_memory': 3923610009.0}\n",
            "INFO flwr 2023-06-08 15:41:50,840 | server.py:86 | Initializing global parameters\n",
            "INFO:flwr:Initializing global parameters\n",
            "INFO flwr 2023-06-08 15:41:50,848 | server.py:269 | Using initial parameters provided by strategy\n",
            "INFO:flwr:Using initial parameters provided by strategy\n",
            "INFO flwr 2023-06-08 15:41:50,850 | server.py:88 | Evaluating initial parameters\n",
            "INFO:flwr:Evaluating initial parameters\n",
            "INFO flwr 2023-06-08 15:41:50,856 | server.py:101 | FL starting\n",
            "INFO:flwr:FL starting\n",
            "DEBUG flwr 2023-06-08 15:41:50,861 | server.py:218 | fit_round 1: strategy sampled 4 clients (out of 4)\n",
            "DEBUG:flwr:fit_round 1: strategy sampled 4 clients (out of 4)\n",
            "\u001b[2m\u001b[36m(pid=66074)\u001b[0m 2023-06-08 15:41:53.364571: W tensorflow/compiler/tf2tensorrt/utils/py_utils.cc:38] TF-TRT Warning: Could not find TensorRT\n"
          ]
        },
        {
          "metadata": {
            "tags": null
          },
          "name": "stdout",
          "output_type": "stream",
          "text": [
            "\u001b[2m\u001b[36m(launch_and_fit pid=66075)\u001b[0m [Client 2] fit, config: {}\n",
            "\u001b[2m\u001b[36m(launch_and_fit pid=66075)\u001b[0m Epoch 1: train loss 0.02485586889088154, accuracy 0.451393609789259\n",
            "\u001b[2m\u001b[36m(launch_and_fit pid=66074)\u001b[0m Epoch 8: train loss 0.007703953422605991, accuracy 0.840244731475187\n",
            "\u001b[2m\u001b[36m(launch_and_fit pid=66075)\u001b[0m Epoch 10: train loss 0.00671473378315568, accuracy 0.8592794017675051\u001b[32m [repeated 18x across cluster]\u001b[0m\n",
            "\u001b[2m\u001b[36m(launch_and_fit pid=66074)\u001b[0m Epoch 24: train loss 0.0027630471158772707, accuracy 0.9490142760027193\u001b[32m [repeated 29x across cluster]\u001b[0m\n",
            "\u001b[2m\u001b[36m(launch_and_fit pid=66074)\u001b[0m Epoch 35: train loss 0.0018148858798667789, accuracy 0.9639700883752549\u001b[32m [repeated 23x across cluster]\u001b[0m\n",
            "\u001b[2m\u001b[36m(launch_and_fit pid=66074)\u001b[0m Epoch 43: train loss 0.0014145411550998688, accuracy 0.972807613868117\u001b[32m [repeated 15x across cluster]\u001b[0m\n",
            "\u001b[2m\u001b[36m(launch_and_fit pid=66075)\u001b[0m [Client 0] fit, config: {}\n",
            "\u001b[2m\u001b[36m(launch_and_fit pid=66074)\u001b[0m Epoch 6: train loss 0.00897154863923788, accuracy 0.8334466349422162\u001b[32m [repeated 27x across cluster]\u001b[0m\n",
            "\u001b[2m\u001b[36m(launch_and_fit pid=66074)\u001b[0m Epoch 14: train loss 0.004825903102755547, accuracy 0.9000679809653297\n",
            "\u001b[2m\u001b[36m(launch_and_fit pid=66075)\u001b[0m Epoch 21: train loss 0.0031862736213952303, accuracy 0.9299796057104011\u001b[32m [repeated 27x across cluster]\u001b[0m\n",
            "\u001b[2m\u001b[36m(launch_and_fit pid=66074)\u001b[0m Epoch 28: train loss 0.0022206308785825968, accuracy 0.9544527532290958\u001b[32m [repeated 16x across cluster]\u001b[0m\n",
            "\u001b[2m\u001b[36m(launch_and_fit pid=66074)\u001b[0m Epoch 40: train loss 0.001462406711652875, accuracy 0.9707681849082257\u001b[32m [repeated 25x across cluster]\u001b[0m\n"
          ]
        },
        {
          "metadata": {
            "tags": null
          },
          "name": "stderr",
          "output_type": "stream",
          "text": [
            "DEBUG flwr 2023-06-08 15:42:44,384 | server.py:232 | fit_round 1 received 4 results and 0 failures\n",
            "DEBUG:flwr:fit_round 1 received 4 results and 0 failures\n",
            "WARNING flwr 2023-06-08 15:42:44,410 | fedavg.py:243 | No fit_metrics_aggregation_fn provided\n",
            "WARNING:flwr:No fit_metrics_aggregation_fn provided\n",
            "DEBUG flwr 2023-06-08 15:42:44,423 | server.py:168 | evaluate_round 1: strategy sampled 3 clients (out of 4)\n",
            "DEBUG:flwr:evaluate_round 1: strategy sampled 3 clients (out of 4)\n",
            "DEBUG flwr 2023-06-08 15:42:44,704 | server.py:182 | evaluate_round 1 received 3 results and 0 failures\n",
            "DEBUG:flwr:evaluate_round 1 received 3 results and 0 failures\n",
            "WARNING flwr 2023-06-08 15:42:44,714 | fedavg.py:274 | No evaluate_metrics_aggregation_fn provided\n",
            "WARNING:flwr:No evaluate_metrics_aggregation_fn provided\n",
            "DEBUG flwr 2023-06-08 15:42:44,716 | server.py:218 | fit_round 2: strategy sampled 4 clients (out of 4)\n",
            "DEBUG:flwr:fit_round 2: strategy sampled 4 clients (out of 4)\n"
          ]
        },
        {
          "metadata": {
            "tags": null
          },
          "name": "stdout",
          "output_type": "stream",
          "text": [
            "\u001b[2m\u001b[36m(launch_and_evaluate pid=66074)\u001b[0m [Client 0] evaluate, config: {}\n",
            "\u001b[2m\u001b[36m(launch_and_evaluate pid=66074)\u001b[0m [Client 3] evaluate, config: {}\n",
            "\u001b[2m\u001b[36m(launch_and_fit pid=66074)\u001b[0m [Client 3] fit, config: {}\n",
            "\u001b[2m\u001b[36m(launch_and_fit pid=66074)\u001b[0m Epoch 2: train loss 2.8411920070648193, accuracy 0.6872875594833446\u001b[32m [repeated 22x across cluster]\u001b[0m\n",
            "\u001b[2m\u001b[36m(launch_and_evaluate pid=66075)\u001b[0m Epoch 6: train loss 0.09781674295663834, accuracy 0.9347382732834806\n",
            "\u001b[2m\u001b[36m(launch_and_fit pid=66075)\u001b[0m Epoch 6: train loss 0.09205490350723267, accuracy 0.9422161794697484\n",
            "\u001b[2m\u001b[36m(launch_and_fit pid=66075)\u001b[0m Epoch 8: train loss 0.07927879691123962, accuracy 0.947654656696125\u001b[32m [repeated 13x across cluster]\u001b[0m\n",
            "\u001b[2m\u001b[36m(launch_and_fit pid=66075)\u001b[0m Epoch 19: train loss 0.058373089879751205, accuracy 0.9537729435757988\u001b[32m [repeated 22x across cluster]\u001b[0m\n",
            "\u001b[2m\u001b[36m(launch_and_fit pid=66075)\u001b[0m Epoch 29: train loss 0.04983871057629585, accuracy 0.9537729435757988\u001b[32m [repeated 20x across cluster]\u001b[0m\n",
            "\u001b[2m\u001b[36m(launch_and_fit pid=66074)\u001b[0m Epoch 37: train loss 0.03831348195672035, accuracy 0.9632902787219578\u001b[32m [repeated 14x across cluster]\u001b[0m\n",
            "\u001b[2m\u001b[36m(launch_and_fit pid=66074)\u001b[0m Epoch 49: train loss 0.03681228682398796, accuracy 0.9571719918422842\u001b[32m [repeated 23x across cluster]\u001b[0m\n",
            "\u001b[2m\u001b[36m(launch_and_fit pid=66074)\u001b[0m [Client 0] fit, config: {}\n",
            "\u001b[2m\u001b[36m(launch_and_fit pid=66074)\u001b[0m Epoch 8: train loss 0.07969515770673752, accuracy 0.9320190346702923\u001b[32m [repeated 18x across cluster]\u001b[0m\n",
            "\u001b[2m\u001b[36m(launch_and_fit pid=66075)\u001b[0m Epoch 9: train loss 0.07599319517612457, accuracy 0.9326988443235894\n",
            "\u001b[2m\u001b[36m(launch_and_fit pid=66075)\u001b[0m Epoch 13: train loss 0.05921926721930504, accuracy 0.9503738953093134\u001b[32m [repeated 14x across cluster]\u001b[0m\n",
            "\u001b[2m\u001b[36m(launch_and_fit pid=66075)\u001b[0m Epoch 24: train loss 0.048144999891519547, accuracy 0.95581237253569\u001b[32m [repeated 23x across cluster]\u001b[0m\n",
            "\u001b[2m\u001b[36m(launch_and_fit pid=66074)\u001b[0m Epoch 36: train loss 0.0421011708676815, accuracy 0.9510537049626104\u001b[32m [repeated 18x across cluster]\u001b[0m\n",
            "\u001b[2m\u001b[36m(launch_and_fit pid=66074)\u001b[0m Epoch 44: train loss 0.0330871120095253, accuracy 0.9592114208021754\u001b[32m [repeated 16x across cluster]\u001b[0m\n"
          ]
        },
        {
          "metadata": {
            "tags": null
          },
          "name": "stderr",
          "output_type": "stream",
          "text": [
            "DEBUG flwr 2023-06-08 15:43:43,307 | server.py:232 | fit_round 2 received 4 results and 0 failures\n",
            "DEBUG:flwr:fit_round 2 received 4 results and 0 failures\n",
            "DEBUG flwr 2023-06-08 15:43:43,340 | server.py:168 | evaluate_round 2: strategy sampled 3 clients (out of 4)\n",
            "DEBUG:flwr:evaluate_round 2: strategy sampled 3 clients (out of 4)\n",
            "DEBUG flwr 2023-06-08 15:43:43,614 | server.py:182 | evaluate_round 2 received 3 results and 0 failures\n",
            "DEBUG:flwr:evaluate_round 2 received 3 results and 0 failures\n",
            "DEBUG flwr 2023-06-08 15:43:43,618 | server.py:218 | fit_round 3: strategy sampled 4 clients (out of 4)\n",
            "DEBUG:flwr:fit_round 3: strategy sampled 4 clients (out of 4)\n"
          ]
        },
        {
          "metadata": {
            "tags": null
          },
          "name": "stdout",
          "output_type": "stream",
          "text": [
            "\u001b[2m\u001b[36m(launch_and_evaluate pid=66074)\u001b[0m [Client 2] evaluate, config: {}\n",
            "\u001b[2m\u001b[36m(launch_and_fit pid=66074)\u001b[0m [Client 1] fit, config: {}\n",
            "\u001b[2m\u001b[36m(launch_and_fit pid=66075)\u001b[0m Epoch 50: train loss 0.031007926911115646, accuracy 0.9653297076818491\u001b[32m [repeated 16x across cluster]\u001b[0m\n",
            "\u001b[2m\u001b[36m(launch_and_evaluate pid=66075)\u001b[0m [Client 0] evaluate, config: {}\u001b[32m [repeated 2x across cluster]\u001b[0m\n",
            "\u001b[2m\u001b[36m(launch_and_fit pid=66075)\u001b[0m Epoch 10: train loss 118.67050170898438, accuracy 0.4357579877634262\n",
            "\u001b[2m\u001b[36m(launch_and_fit pid=66074)\u001b[0m Epoch 10: train loss 118.67050170898438, accuracy 0.4357579877634262\u001b[32m [repeated 20x across cluster]\u001b[0m\n",
            "\u001b[2m\u001b[36m(launch_and_fit pid=66075)\u001b[0m Epoch 17: train loss 64.72259521484375, accuracy 0.4636301835486064\u001b[32m [repeated 13x across cluster]\u001b[0m\n",
            "\u001b[2m\u001b[36m(launch_and_fit pid=66074)\u001b[0m Epoch 28: train loss 16.58389663696289, accuracy 0.681169272603671\u001b[32m [repeated 22x across cluster]\u001b[0m\n",
            "\u001b[2m\u001b[36m(launch_and_fit pid=66074)\u001b[0m Epoch 37: train loss 7.166759014129639, accuracy 0.7185588035350102\u001b[32m [repeated 19x across cluster]\u001b[0m\n",
            "\u001b[2m\u001b[36m(launch_and_fit pid=66074)\u001b[0m Epoch 42: train loss 2.4544780254364014, accuracy 0.7260367097212781\u001b[32m [repeated 10x across cluster]\u001b[0m\n",
            "\u001b[2m\u001b[36m(launch_and_fit pid=66074)\u001b[0m Epoch 50: train loss 0.33077800273895264, accuracy 0.8178110129163834\u001b[32m [repeated 15x across cluster]\u001b[0m\n",
            "\u001b[2m\u001b[36m(launch_and_fit pid=66074)\u001b[0m [Client 0] fit, config: {}\n",
            "\u001b[2m\u001b[36m(launch_and_fit pid=66074)\u001b[0m Epoch 12: train loss 101.7762680053711, accuracy 0.44391570360299115\u001b[32m [repeated 24x across cluster]\u001b[0m\n",
            "\u001b[2m\u001b[36m(launch_and_fit pid=66075)\u001b[0m Epoch 12: train loss 101.7762680053711, accuracy 0.44391570360299115\n",
            "\u001b[2m\u001b[36m(launch_and_fit pid=66074)\u001b[0m Epoch 19: train loss 49.66718673706055, accuracy 0.4806254248810333\u001b[32m [repeated 15x across cluster]\u001b[0m\n",
            "\u001b[2m\u001b[36m(launch_and_fit pid=66074)\u001b[0m Epoch 29: train loss 15.459410667419434, accuracy 0.6940856560163154\u001b[32m [repeated 20x across cluster]\u001b[0m\n",
            "\u001b[2m\u001b[36m(launch_and_fit pid=66074)\u001b[0m Epoch 40: train loss 4.5936479568481445, accuracy 0.7226376614547927\u001b[32m [repeated 23x across cluster]\u001b[0m\n",
            "\u001b[2m\u001b[36m(launch_and_fit pid=66075)\u001b[0m Epoch 48: train loss 0.3773653507232666, accuracy 0.8157715839564922\u001b[32m [repeated 13x across cluster]\u001b[0m\n"
          ]
        },
        {
          "metadata": {
            "tags": null
          },
          "name": "stderr",
          "output_type": "stream",
          "text": [
            "DEBUG flwr 2023-06-08 15:44:44,247 | server.py:232 | fit_round 3 received 4 results and 0 failures\n",
            "DEBUG:flwr:fit_round 3 received 4 results and 0 failures\n",
            "DEBUG flwr 2023-06-08 15:44:44,279 | server.py:168 | evaluate_round 3: strategy sampled 3 clients (out of 4)\n",
            "DEBUG:flwr:evaluate_round 3: strategy sampled 3 clients (out of 4)\n",
            "DEBUG flwr 2023-06-08 15:44:44,569 | server.py:182 | evaluate_round 3 received 3 results and 0 failures\n",
            "DEBUG:flwr:evaluate_round 3 received 3 results and 0 failures\n",
            "DEBUG flwr 2023-06-08 15:44:44,573 | server.py:218 | fit_round 4: strategy sampled 4 clients (out of 4)\n",
            "DEBUG:flwr:fit_round 4: strategy sampled 4 clients (out of 4)\n"
          ]
        },
        {
          "metadata": {
            "tags": null
          },
          "name": "stdout",
          "output_type": "stream",
          "text": [
            "\u001b[2m\u001b[36m(launch_and_evaluate pid=66074)\u001b[0m [Client 1] evaluate, config: {}\n",
            "\u001b[2m\u001b[36m(launch_and_evaluate pid=66074)\u001b[0m [Client 2] evaluate, config: {}\n",
            "\u001b[2m\u001b[36m(launch_and_fit pid=66074)\u001b[0m [Client 0] fit, config: {}\n",
            "\u001b[2m\u001b[36m(launch_and_fit pid=66074)\u001b[0m Epoch 7: train loss 31.122081756591797, accuracy 0.3222297756628144\u001b[32m [repeated 19x across cluster]\u001b[0m\n",
            "\u001b[2m\u001b[36m(launch_and_evaluate pid=66075)\u001b[0m Epoch 12: train loss 19.5134334564209, accuracy 0.36777702243371857\n",
            "\u001b[2m\u001b[36m(launch_and_fit pid=66075)\u001b[0m Epoch 13: train loss 17.889284133911133, accuracy 0.38273283480625425\n",
            "\u001b[2m\u001b[36m(launch_and_fit pid=66074)\u001b[0m Epoch 20: train loss 9.289653778076172, accuracy 0.4065261726716519\u001b[32m [repeated 26x across cluster]\u001b[0m\n",
            "\u001b[2m\u001b[36m(launch_and_fit pid=66075)\u001b[0m Epoch 26: train loss 3.8629112243652344, accuracy 0.4357579877634262\u001b[32m [repeated 13x across cluster]\u001b[0m\n",
            "\u001b[2m\u001b[36m(launch_and_fit pid=66074)\u001b[0m Epoch 37: train loss 1.496492624282837, accuracy 0.6879673691366417\u001b[32m [repeated 21x across cluster]\u001b[0m\n",
            "\u001b[2m\u001b[36m(launch_and_fit pid=66074)\u001b[0m Epoch 48: train loss 0.08920539915561676, accuracy 0.8116927260367097\u001b[32m [repeated 21x across cluster]\u001b[0m\n",
            "\u001b[2m\u001b[36m(launch_and_fit pid=66074)\u001b[0m [Client 2] fit, config: {}\n",
            "\u001b[2m\u001b[36m(launch_and_fit pid=66075)\u001b[0m Epoch 3: train loss 48.8586311340332, accuracy 0.3256288239292998\u001b[32m [repeated 13x across cluster]\u001b[0m\n",
            "\u001b[2m\u001b[36m(launch_and_fit pid=66075)\u001b[0m Epoch 7: train loss 30.904706954956055, accuracy 0.32290958531611147\n",
            "\u001b[2m\u001b[36m(launch_and_fit pid=66075)\u001b[0m Epoch 15: train loss 15.061040878295898, accuracy 0.39972807613868117\u001b[32m [repeated 24x across cluster]\u001b[0m\n",
            "\u001b[2m\u001b[36m(launch_and_fit pid=66074)\u001b[0m Epoch 29: train loss 2.805462598800659, accuracy 0.6702923181509177\u001b[32m [repeated 25x across cluster]\u001b[0m\n",
            "\u001b[2m\u001b[36m(launch_and_fit pid=66074)\u001b[0m Epoch 36: train loss 1.6220111846923828, accuracy 0.6879673691366417\u001b[32m [repeated 13x across cluster]\u001b[0m\n",
            "\u001b[2m\u001b[36m(launch_and_fit pid=66074)\u001b[0m Epoch 46: train loss 0.21148638427257538, accuracy 0.7144799456152278\u001b[32m [repeated 20x across cluster]\u001b[0m\n"
          ]
        },
        {
          "metadata": {
            "tags": null
          },
          "name": "stderr",
          "output_type": "stream",
          "text": [
            "DEBUG flwr 2023-06-08 15:45:37,187 | server.py:232 | fit_round 4 received 4 results and 0 failures\n",
            "DEBUG:flwr:fit_round 4 received 4 results and 0 failures\n",
            "DEBUG flwr 2023-06-08 15:45:37,215 | server.py:168 | evaluate_round 4: strategy sampled 3 clients (out of 4)\n",
            "DEBUG:flwr:evaluate_round 4: strategy sampled 3 clients (out of 4)\n",
            "DEBUG flwr 2023-06-08 15:45:37,463 | server.py:182 | evaluate_round 4 received 3 results and 0 failures\n",
            "DEBUG:flwr:evaluate_round 4 received 3 results and 0 failures\n",
            "DEBUG flwr 2023-06-08 15:45:37,471 | server.py:218 | fit_round 5: strategy sampled 4 clients (out of 4)\n",
            "DEBUG:flwr:fit_round 5: strategy sampled 4 clients (out of 4)\n"
          ]
        },
        {
          "metadata": {
            "tags": null
          },
          "name": "stdout",
          "output_type": "stream",
          "text": [
            "\u001b[2m\u001b[36m(launch_and_evaluate pid=66074)\u001b[0m [Client 2] evaluate, config: {}\n",
            "\u001b[2m\u001b[36m(launch_and_fit pid=66074)\u001b[0m [Client 2] fit, config: {}\n",
            "\u001b[2m\u001b[36m(launch_and_fit pid=66074)\u001b[0m Epoch 4: train loss 4.6020636558532715, accuracy 0.44255608429639703\u001b[32m [repeated 18x across cluster]\u001b[0m\n",
            "\u001b[2m\u001b[36m(launch_and_evaluate pid=66075)\u001b[0m [Client 1] evaluate, config: {}\u001b[32m [repeated 2x across cluster]\u001b[0m\n",
            "\u001b[2m\u001b[36m(launch_and_fit pid=66075)\u001b[0m Epoch 8: train loss 1.188942551612854, accuracy 0.4813052345343304\n",
            "\u001b[2m\u001b[36m(launch_and_fit pid=66075)\u001b[0m Epoch 10: train loss 0.5129315257072449, accuracy 0.7124405166553365\u001b[32m [repeated 12x across cluster]\u001b[0m\n",
            "\u001b[2m\u001b[36m(launch_and_fit pid=66074)\u001b[0m Epoch 18: train loss 0.054155588150024414, accuracy 0.8456832087015635\u001b[32m [repeated 17x across cluster]\u001b[0m\n",
            "\u001b[2m\u001b[36m(launch_and_fit pid=66074)\u001b[0m Epoch 27: train loss 0.029423058032989502, accuracy 0.8783140720598233\u001b[32m [repeated 18x across cluster]\u001b[0m\n",
            "\u001b[2m\u001b[36m(launch_and_fit pid=66074)\u001b[0m Epoch 32: train loss 0.024152671918272972, accuracy 0.8891910265125765\u001b[32m [repeated 10x across cluster]\u001b[0m\n",
            "\u001b[2m\u001b[36m(launch_and_fit pid=66075)\u001b[0m Epoch 41: train loss 0.017255503684282303, accuracy 0.9034670292318151\u001b[32m [repeated 17x across cluster]\u001b[0m\n",
            "\u001b[2m\u001b[36m(launch_and_fit pid=66075)\u001b[0m Epoch 49: train loss 0.012355350889265537, accuracy 0.9123045547246771\u001b[32m [repeated 16x across cluster]\u001b[0m\n",
            "\u001b[2m\u001b[36m(launch_and_fit pid=66075)\u001b[0m [Client 0] fit, config: {}\n",
            "\u001b[2m\u001b[36m(launch_and_fit pid=66075)\u001b[0m Epoch 5: train loss 3.624511480331421, accuracy 0.44119646498980286\u001b[32m [repeated 12x across cluster]\u001b[0m\n",
            "\u001b[2m\u001b[36m(launch_and_fit pid=66074)\u001b[0m Epoch 7: train loss 1.7888089418411255, accuracy 0.4418762746430999\n",
            "\u001b[2m\u001b[36m(launch_and_fit pid=66074)\u001b[0m Epoch 14: train loss 0.11782985925674438, accuracy 0.8035350101971448\u001b[32m [repeated 19x across cluster]\u001b[0m\n",
            "\u001b[2m\u001b[36m(launch_and_fit pid=66075)\u001b[0m Epoch 23: train loss 0.03223893418908119, accuracy 0.868116927260367\u001b[32m [repeated 16x across cluster]\u001b[0m\n",
            "\u001b[2m\u001b[36m(launch_and_fit pid=66074)\u001b[0m Epoch 27: train loss 0.027913620695471764, accuracy 0.8837525492861998\u001b[32m [repeated 11x across cluster]\u001b[0m\n",
            "\u001b[2m\u001b[36m(launch_and_fit pid=66074)\u001b[0m Epoch 36: train loss 0.019103482365608215, accuracy 0.8987083616587356\u001b[32m [repeated 18x across cluster]\u001b[0m\n",
            "\u001b[2m\u001b[36m(launch_and_fit pid=66075)\u001b[0m Epoch 45: train loss 0.013434282504022121, accuracy 0.9068660774983005\u001b[32m [repeated 15x across cluster]\u001b[0m\n",
            "\u001b[2m\u001b[36m(launch_and_fit pid=66075)\u001b[0m Epoch 50: train loss 0.011265034787356853, accuracy 0.9157036029911625\u001b[32m [repeated 10x across cluster]\u001b[0m\n"
          ]
        },
        {
          "metadata": {
            "tags": null
          },
          "name": "stderr",
          "output_type": "stream",
          "text": [
            "DEBUG flwr 2023-06-08 15:46:49,161 | server.py:232 | fit_round 5 received 4 results and 0 failures\n",
            "DEBUG:flwr:fit_round 5 received 4 results and 0 failures\n",
            "DEBUG flwr 2023-06-08 15:46:49,190 | server.py:168 | evaluate_round 5: strategy sampled 3 clients (out of 4)\n",
            "DEBUG:flwr:evaluate_round 5: strategy sampled 3 clients (out of 4)\n",
            "DEBUG flwr 2023-06-08 15:46:49,461 | server.py:182 | evaluate_round 5 received 3 results and 0 failures\n",
            "DEBUG:flwr:evaluate_round 5 received 3 results and 0 failures\n",
            "DEBUG flwr 2023-06-08 15:46:49,468 | server.py:218 | fit_round 6: strategy sampled 4 clients (out of 4)\n",
            "DEBUG:flwr:fit_round 6: strategy sampled 4 clients (out of 4)\n"
          ]
        },
        {
          "metadata": {
            "tags": null
          },
          "name": "stdout",
          "output_type": "stream",
          "text": [
            "\u001b[2m\u001b[36m(launch_and_evaluate pid=66074)\u001b[0m [Client 2] evaluate, config: {}\n",
            "\u001b[2m\u001b[36m(launch_and_fit pid=66074)\u001b[0m [Client 3] fit, config: {}\n",
            "\u001b[2m\u001b[36m(launch_and_fit pid=66075)\u001b[0m Epoch 9: train loss 0.037446070462465286, accuracy 0.8817131203263087\u001b[32m [repeated 19x across cluster]\u001b[0m\n",
            "\u001b[2m\u001b[36m(launch_and_evaluate pid=66074)\u001b[0m [Client 0] evaluate, config: {}\u001b[32m [repeated 2x across cluster]\u001b[0m\n",
            "\u001b[2m\u001b[36m(launch_and_fit pid=66075)\u001b[0m Epoch 11: train loss 0.02330278977751732, accuracy 0.8993881713120326\n",
            "\u001b[2m\u001b[36m(launch_and_fit pid=66075)\u001b[0m Epoch 17: train loss 0.014577450230717659, accuracy 0.9163834126444595\u001b[32m [repeated 16x across cluster]\u001b[0m\n",
            "\u001b[2m\u001b[36m(launch_and_fit pid=66075)\u001b[0m Epoch 24: train loss 0.010895809158682823, accuracy 0.9299796057104011\u001b[32m [repeated 14x across cluster]\u001b[0m\n",
            "\u001b[2m\u001b[36m(launch_and_fit pid=66075)\u001b[0m Epoch 33: train loss 0.008306797593832016, accuracy 0.9394969408565602\u001b[32m [repeated 18x across cluster]\u001b[0m\n",
            "\u001b[2m\u001b[36m(launch_and_fit pid=66074)\u001b[0m Epoch 39: train loss 0.00738933589309454, accuracy 0.9517335146159075\u001b[32m [repeated 12x across cluster]\u001b[0m\n",
            "\u001b[2m\u001b[36m(launch_and_fit pid=66074)\u001b[0m Epoch 46: train loss 0.0064853159710764885, accuracy 0.9551325628823929\u001b[32m [repeated 14x across cluster]\u001b[0m\n",
            "\u001b[2m\u001b[36m(launch_and_fit pid=66074)\u001b[0m [Client 0] fit, config: {}\n",
            "\u001b[2m\u001b[36m(launch_and_fit pid=66075)\u001b[0m Epoch 6: train loss 1.0546685457229614, accuracy 0.5676410605030592\u001b[32m [repeated 21x across cluster]\u001b[0m\n",
            "\u001b[2m\u001b[36m(launch_and_fit pid=66075)\u001b[0m Epoch 10: train loss 0.024456949904561043, accuracy 0.893949694085656\n",
            "\u001b[2m\u001b[36m(launch_and_fit pid=66074)\u001b[0m Epoch 13: train loss 0.018198002129793167, accuracy 0.9123045547246771\u001b[32m [repeated 13x across cluster]\u001b[0m\n",
            "\u001b[2m\u001b[36m(launch_and_fit pid=66074)\u001b[0m Epoch 21: train loss 0.012134231626987457, accuracy 0.9333786539768865\u001b[32m [repeated 15x across cluster]\u001b[0m\n",
            "\u001b[2m\u001b[36m(launch_and_fit pid=66074)\u001b[0m Epoch 30: train loss 0.00835003238171339, accuracy 0.938817131203263\u001b[32m [repeated 18x across cluster]\u001b[0m\n",
            "\u001b[2m\u001b[36m(launch_and_fit pid=66074)\u001b[0m Epoch 35: train loss 0.007070369087159634, accuracy 0.9503738953093134\u001b[32m [repeated 10x across cluster]\u001b[0m\n",
            "\u001b[2m\u001b[36m(launch_and_fit pid=66074)\u001b[0m Epoch 43: train loss 0.005917329341173172, accuracy 0.9571719918422842\u001b[32m [repeated 16x across cluster]\u001b[0m\n"
          ]
        },
        {
          "metadata": {
            "tags": null
          },
          "name": "stderr",
          "output_type": "stream",
          "text": [
            "DEBUG flwr 2023-06-08 15:47:58,295 | server.py:232 | fit_round 6 received 4 results and 0 failures\n",
            "DEBUG:flwr:fit_round 6 received 4 results and 0 failures\n",
            "DEBUG flwr 2023-06-08 15:47:58,321 | server.py:168 | evaluate_round 6: strategy sampled 3 clients (out of 4)\n",
            "DEBUG:flwr:evaluate_round 6: strategy sampled 3 clients (out of 4)\n",
            "DEBUG flwr 2023-06-08 15:47:58,580 | server.py:182 | evaluate_round 6 received 3 results and 0 failures\n",
            "DEBUG:flwr:evaluate_round 6 received 3 results and 0 failures\n",
            "DEBUG flwr 2023-06-08 15:47:58,584 | server.py:218 | fit_round 7: strategy sampled 4 clients (out of 4)\n",
            "DEBUG:flwr:fit_round 7: strategy sampled 4 clients (out of 4)\n"
          ]
        },
        {
          "metadata": {
            "tags": null
          },
          "name": "stdout",
          "output_type": "stream",
          "text": [
            "\u001b[2m\u001b[36m(launch_and_fit pid=66075)\u001b[0m Epoch 50: train loss 0.006189210340380669, accuracy 0.9483344663494222\u001b[32m [repeated 16x across cluster]\u001b[0m\n",
            "\u001b[2m\u001b[36m(launch_and_evaluate pid=66074)\u001b[0m [Client 3] evaluate, config: {}\n",
            "\u001b[2m\u001b[36m(launch_and_fit pid=66075)\u001b[0m [Client 0] fit, config: {}\n",
            "\u001b[2m\u001b[36m(launch_and_fit pid=66074)\u001b[0m Epoch 5: train loss 0.971676766872406, accuracy 0.6295037389530931\u001b[32m [repeated 10x across cluster]\u001b[0m\n",
            "\u001b[2m\u001b[36m(launch_and_evaluate pid=66075)\u001b[0m [Client 0] evaluate, config: {}\u001b[32m [repeated 2x across cluster]\u001b[0m\n",
            "\u001b[2m\u001b[36m(launch_and_fit pid=66074)\u001b[0m Epoch 6: train loss 0.3360671401023865, accuracy 0.7117607070020394\n",
            "\u001b[2m\u001b[36m(launch_and_fit pid=66075)\u001b[0m Epoch 14: train loss 0.006934737786650658, accuracy 0.9415363698164514\u001b[32m [repeated 17x across cluster]\u001b[0m\n",
            "\u001b[2m\u001b[36m(launch_and_fit pid=66075)\u001b[0m Epoch 23: train loss 0.005294730421155691, accuracy 0.9496940856560163\u001b[32m [repeated 18x across cluster]\u001b[0m\n",
            "\u001b[2m\u001b[36m(launch_and_fit pid=66074)\u001b[0m Epoch 28: train loss 0.00513831852003932, accuracy 0.9551325628823929\u001b[32m [repeated 11x across cluster]\u001b[0m\n",
            "\u001b[2m\u001b[36m(launch_and_fit pid=66074)\u001b[0m Epoch 37: train loss 0.004268130287528038, accuracy 0.95581237253569\u001b[32m [repeated 18x across cluster]\u001b[0m\n",
            "\u001b[2m\u001b[36m(launch_and_fit pid=66075)\u001b[0m Epoch 46: train loss 0.0036855642683804035, accuracy 0.9626104690686608\u001b[32m [repeated 16x across cluster]\u001b[0m\n",
            "\u001b[2m\u001b[36m(launch_and_fit pid=66075)\u001b[0m [Client 2] fit, config: {}\n",
            "\u001b[2m\u001b[36m(launch_and_fit pid=66075)\u001b[0m Epoch 1: train loss 6.216245651245117, accuracy 0.33242692046227057\u001b[32m [repeated 9x across cluster]\u001b[0m\n",
            "\u001b[2m\u001b[36m(launch_and_fit pid=66074)\u001b[0m Epoch 11: train loss 0.011138022877275944, accuracy 0.9272603670972128\n",
            "\u001b[2m\u001b[36m(launch_and_fit pid=66075)\u001b[0m Epoch 11: train loss 0.011138022877275944, accuracy 0.9272603670972128\u001b[32m [repeated 20x across cluster]\u001b[0m\n",
            "\u001b[2m\u001b[36m(launch_and_fit pid=66074)\u001b[0m Epoch 17: train loss 0.00857976358383894, accuracy 0.9462950373895309\u001b[32m [repeated 17x across cluster]\u001b[0m\n",
            "\u001b[2m\u001b[36m(launch_and_fit pid=66075)\u001b[0m Epoch 25: train loss 0.006401308812201023, accuracy 0.9415363698164514\u001b[32m [repeated 11x across cluster]\u001b[0m\n",
            "\u001b[2m\u001b[36m(launch_and_fit pid=66075)\u001b[0m Epoch 34: train loss 0.0053534009493887424, accuracy 0.9442556084296397\u001b[32m [repeated 18x across cluster]\u001b[0m\n",
            "\u001b[2m\u001b[36m(launch_and_fit pid=66074)\u001b[0m Epoch 40: train loss 0.005239305552095175, accuracy 0.9524133242692047\u001b[32m [repeated 16x across cluster]\u001b[0m\n",
            "\u001b[2m\u001b[36m(launch_and_fit pid=66075)\u001b[0m Epoch 47: train loss 0.004112049005925655, accuracy 0.9510537049626104\u001b[32m [repeated 11x across cluster]\u001b[0m\n"
          ]
        },
        {
          "metadata": {
            "tags": null
          },
          "name": "stderr",
          "output_type": "stream",
          "text": [
            "DEBUG flwr 2023-06-08 15:49:09,802 | server.py:232 | fit_round 7 received 4 results and 0 failures\n",
            "DEBUG:flwr:fit_round 7 received 4 results and 0 failures\n",
            "DEBUG flwr 2023-06-08 15:49:09,830 | server.py:168 | evaluate_round 7: strategy sampled 3 clients (out of 4)\n",
            "DEBUG:flwr:evaluate_round 7: strategy sampled 3 clients (out of 4)\n",
            "DEBUG flwr 2023-06-08 15:49:10,053 | server.py:182 | evaluate_round 7 received 3 results and 0 failures\n",
            "DEBUG:flwr:evaluate_round 7 received 3 results and 0 failures\n",
            "DEBUG flwr 2023-06-08 15:49:10,061 | server.py:218 | fit_round 8: strategy sampled 4 clients (out of 4)\n",
            "DEBUG:flwr:fit_round 8: strategy sampled 4 clients (out of 4)\n"
          ]
        },
        {
          "metadata": {
            "tags": null
          },
          "name": "stdout",
          "output_type": "stream",
          "text": [
            "\u001b[2m\u001b[36m(launch_and_evaluate pid=66074)\u001b[0m [Client 3] evaluate, config: {}\n",
            "\u001b[2m\u001b[36m(launch_and_evaluate pid=66074)\u001b[0m [Client 0] evaluate, config: {}\n",
            "\u001b[2m\u001b[36m(launch_and_fit pid=66074)\u001b[0m [Client 2] fit, config: {}\n",
            "\u001b[2m\u001b[36m(launch_and_fit pid=66074)\u001b[0m Epoch 5: train loss 0.04383727163076401, accuracy 0.8647178789938818\u001b[32m [repeated 17x across cluster]\u001b[0m\n",
            "\u001b[2m\u001b[36m(launch_and_evaluate pid=66075)\u001b[0m Epoch 10: train loss 0.007396058179438114, accuracy 0.947654656696125\n",
            "\u001b[2m\u001b[36m(launch_and_fit pid=66075)\u001b[0m Epoch 10: train loss 0.007283891551196575, accuracy 0.947654656696125\n",
            "\u001b[2m\u001b[36m(launch_and_fit pid=66075)\u001b[0m Epoch 13: train loss 0.00547473318874836, accuracy 0.9517335146159075\u001b[32m [repeated 16x across cluster]\u001b[0m\n",
            "\u001b[2m\u001b[36m(launch_and_fit pid=66075)\u001b[0m Epoch 19: train loss 0.004407838452607393, accuracy 0.9544527532290958\u001b[32m [repeated 12x across cluster]\u001b[0m\n",
            "\u001b[2m\u001b[36m(launch_and_fit pid=66074)\u001b[0m Epoch 24: train loss 0.004267077427357435, accuracy 0.9571719918422842\u001b[32m [repeated 11x across cluster]\u001b[0m\n",
            "\u001b[2m\u001b[36m(launch_and_fit pid=66075)\u001b[0m Epoch 32: train loss 0.003190735587850213, accuracy 0.9619306594153637\u001b[32m [repeated 15x across cluster]\u001b[0m\n",
            "\u001b[2m\u001b[36m(launch_and_fit pid=66075)\u001b[0m Epoch 39: train loss 0.0027585632633417845, accuracy 0.9666893269884432\u001b[32m [repeated 14x across cluster]\u001b[0m\n",
            "\u001b[2m\u001b[36m(launch_and_fit pid=66074)\u001b[0m Epoch 48: train loss 0.0026984973810613155, accuracy 0.9680489462950373\u001b[32m [repeated 19x across cluster]\u001b[0m\n",
            "\u001b[2m\u001b[36m(launch_and_fit pid=66075)\u001b[0m [Client 3] fit, config: {}\n",
            "\u001b[2m\u001b[36m(launch_and_fit pid=66074)\u001b[0m Epoch 6: train loss 0.013349783606827259, accuracy 0.9408565601631543\u001b[32m [repeated 16x across cluster]\u001b[0m\n",
            "\u001b[2m\u001b[36m(launch_and_fit pid=66074)\u001b[0m Epoch 7: train loss 0.00970900896936655, accuracy 0.9490142760027193\n",
            "\u001b[2m\u001b[36m(launch_and_fit pid=66074)\u001b[0m Epoch 14: train loss 0.004286591894924641, accuracy 0.964649898028552\u001b[32m [repeated 15x across cluster]\u001b[0m\n",
            "\u001b[2m\u001b[36m(launch_and_fit pid=66074)\u001b[0m Epoch 24: train loss 0.0030367602594196796, accuracy 0.9687287559483345\u001b[32m [repeated 20x across cluster]\u001b[0m\n",
            "\u001b[2m\u001b[36m(launch_and_fit pid=66075)\u001b[0m Epoch 31: train loss 0.002860965207219124, accuracy 0.9687287559483345\u001b[32m [repeated 15x across cluster]\u001b[0m\n",
            "\u001b[2m\u001b[36m(launch_and_fit pid=66074)\u001b[0m Epoch 40: train loss 0.00239670742303133, accuracy 0.972807613868117\u001b[32m [repeated 16x across cluster]\u001b[0m\n",
            "\u001b[2m\u001b[36m(launch_and_fit pid=66075)\u001b[0m Epoch 48: train loss 0.002049797447398305, accuracy 0.9768864717878993\u001b[32m [repeated 19x across cluster]\u001b[0m\n"
          ]
        },
        {
          "metadata": {
            "tags": null
          },
          "name": "stderr",
          "output_type": "stream",
          "text": [
            "DEBUG flwr 2023-06-08 15:50:16,782 | server.py:232 | fit_round 8 received 4 results and 0 failures\n",
            "DEBUG:flwr:fit_round 8 received 4 results and 0 failures\n",
            "DEBUG flwr 2023-06-08 15:50:16,812 | server.py:168 | evaluate_round 8: strategy sampled 3 clients (out of 4)\n",
            "DEBUG:flwr:evaluate_round 8: strategy sampled 3 clients (out of 4)\n",
            "DEBUG flwr 2023-06-08 15:50:17,034 | server.py:182 | evaluate_round 8 received 3 results and 0 failures\n",
            "DEBUG:flwr:evaluate_round 8 received 3 results and 0 failures\n",
            "DEBUG flwr 2023-06-08 15:50:17,038 | server.py:218 | fit_round 9: strategy sampled 4 clients (out of 4)\n",
            "DEBUG:flwr:fit_round 9: strategy sampled 4 clients (out of 4)\n"
          ]
        },
        {
          "metadata": {
            "tags": null
          },
          "name": "stdout",
          "output_type": "stream",
          "text": [
            "\u001b[2m\u001b[36m(launch_and_evaluate pid=66074)\u001b[0m [Client 0] evaluate, config: {}\n",
            "\u001b[2m\u001b[36m(launch_and_fit pid=66074)\u001b[0m [Client 3] fit, config: {}\n",
            "\u001b[2m\u001b[36m(launch_and_fit pid=66075)\u001b[0m Epoch 4: train loss 0.015503942035138607, accuracy 0.9313392250169953\u001b[32m [repeated 11x across cluster]\u001b[0m\n",
            "\u001b[2m\u001b[36m(launch_and_evaluate pid=66075)\u001b[0m [Client 1] evaluate, config: {}\u001b[32m [repeated 2x across cluster]\u001b[0m\n",
            "\u001b[2m\u001b[36m(launch_and_fit pid=66075)\u001b[0m Epoch 6: train loss 0.0037317010574042797, accuracy 0.9707681849082257\n",
            "\u001b[2m\u001b[36m(launch_and_fit pid=66074)\u001b[0m Epoch 13: train loss 0.0020902659744024277, accuracy 0.9748470428280082\u001b[32m [repeated 17x across cluster]\u001b[0m\n",
            "\u001b[2m\u001b[36m(launch_and_fit pid=66074)\u001b[0m Epoch 23: train loss 0.0016582370735704899, accuracy 0.9789259007477906\u001b[32m [repeated 20x across cluster]\u001b[0m\n",
            "\u001b[2m\u001b[36m(launch_and_fit pid=66075)\u001b[0m Epoch 29: train loss 0.0020309370011091232, accuracy 0.9687287559483345\u001b[32m [repeated 12x across cluster]\u001b[0m\n",
            "\u001b[2m\u001b[36m(launch_and_fit pid=66075)\u001b[0m Epoch 38: train loss 0.0017762081697583199, accuracy 0.9707681849082257\u001b[32m [repeated 18x across cluster]\u001b[0m\n",
            "\u001b[2m\u001b[36m(launch_and_fit pid=66075)\u001b[0m Epoch 48: train loss 0.0014767262618988752, accuracy 0.9714479945615228\u001b[32m [repeated 19x across cluster]\u001b[0m\n",
            "\u001b[2m\u001b[36m(launch_and_fit pid=66075)\u001b[0m [Client 0] fit, config: {}\n",
            "\u001b[2m\u001b[36m(launch_and_fit pid=66075)\u001b[0m Epoch 4: train loss 0.015286579728126526, accuracy 0.9360978925900748\u001b[32m [repeated 12x across cluster]\u001b[0m\n",
            "\u001b[2m\u001b[36m(launch_and_fit pid=66074)\u001b[0m Epoch 6: train loss 0.006048860028386116, accuracy 0.9619306594153637\n",
            "\u001b[2m\u001b[36m(launch_and_fit pid=66075)\u001b[0m Epoch 14: train loss 0.001945107476785779, accuracy 0.973487423521414\u001b[32m [repeated 20x across cluster]\u001b[0m\n",
            "\u001b[2m\u001b[36m(launch_and_fit pid=66074)\u001b[0m Epoch 22: train loss 0.0021546236239373684, accuracy 0.9694085656016316\u001b[32m [repeated 19x across cluster]\u001b[0m\n",
            "\u001b[2m\u001b[36m(launch_and_fit pid=66075)\u001b[0m Epoch 30: train loss 0.0015560068422928452, accuracy 0.9762066621346023\u001b[32m [repeated 12x across cluster]\u001b[0m\n",
            "\u001b[2m\u001b[36m(launch_and_fit pid=66074)\u001b[0m Epoch 38: train loss 0.0016624280251562595, accuracy 0.9741672331747111\u001b[32m [repeated 20x across cluster]\u001b[0m\n",
            "\u001b[2m\u001b[36m(launch_and_fit pid=66074)\u001b[0m Epoch 47: train loss 0.0014823954552412033, accuracy 0.9768864717878993\u001b[32m [repeated 18x across cluster]\u001b[0m\n"
          ]
        },
        {
          "metadata": {
            "tags": null
          },
          "name": "stderr",
          "output_type": "stream",
          "text": [
            "DEBUG flwr 2023-06-08 15:51:22,288 | server.py:232 | fit_round 9 received 4 results and 0 failures\n",
            "DEBUG:flwr:fit_round 9 received 4 results and 0 failures\n",
            "DEBUG flwr 2023-06-08 15:51:22,320 | server.py:168 | evaluate_round 9: strategy sampled 3 clients (out of 4)\n",
            "DEBUG:flwr:evaluate_round 9: strategy sampled 3 clients (out of 4)\n",
            "DEBUG flwr 2023-06-08 15:51:22,643 | server.py:182 | evaluate_round 9 received 3 results and 0 failures\n",
            "DEBUG:flwr:evaluate_round 9 received 3 results and 0 failures\n",
            "DEBUG flwr 2023-06-08 15:51:22,647 | server.py:218 | fit_round 10: strategy sampled 4 clients (out of 4)\n",
            "DEBUG:flwr:fit_round 10: strategy sampled 4 clients (out of 4)\n"
          ]
        },
        {
          "metadata": {
            "tags": null
          },
          "name": "stdout",
          "output_type": "stream",
          "text": [
            "\u001b[2m\u001b[36m(launch_and_evaluate pid=66074)\u001b[0m [Client 2] evaluate, config: {}\n",
            "\u001b[2m\u001b[36m(launch_and_fit pid=66074)\u001b[0m [Client 2] fit, config: {}\n",
            "\u001b[2m\u001b[36m(launch_and_fit pid=66074)\u001b[0m Epoch 4: train loss 0.006755786016583443, accuracy 0.9612508497620667\u001b[32m [repeated 12x across cluster]\u001b[0m\n",
            "\u001b[2m\u001b[36m(launch_and_evaluate pid=66074)\u001b[0m [Client 1] evaluate, config: {}\u001b[32m [repeated 2x across cluster]\u001b[0m\n",
            "\u001b[2m\u001b[36m(launch_and_fit pid=66075)\u001b[0m Epoch 10: train loss 0.001854122499935329, accuracy 0.9802855200543847\n",
            "\u001b[2m\u001b[36m(launch_and_fit pid=66075)\u001b[0m Epoch 14: train loss 0.0014893426559865475, accuracy 0.981645139360979\u001b[32m [repeated 20x across cluster]\u001b[0m\n",
            "\u001b[2m\u001b[36m(launch_and_fit pid=66074)\u001b[0m Epoch 22: train loss 0.0017038504593074322, accuracy 0.9721278042148198\u001b[32m [repeated 18x across cluster]\u001b[0m\n",
            "\u001b[2m\u001b[36m(launch_and_fit pid=66074)\u001b[0m Epoch 29: train loss 0.0015176251763477921, accuracy 0.972807613868117\u001b[32m [repeated 14x across cluster]\u001b[0m\n",
            "\u001b[2m\u001b[36m(launch_and_fit pid=66075)\u001b[0m Epoch 41: train loss 0.0011529921321198344, accuracy 0.9809653297076818\u001b[32m [repeated 20x across cluster]\u001b[0m\n",
            "\u001b[2m\u001b[36m(launch_and_fit pid=66075)\u001b[0m Epoch 48: train loss 0.001063709962181747, accuracy 0.9809653297076818\u001b[32m [repeated 13x across cluster]\u001b[0m\n",
            "\u001b[2m\u001b[36m(launch_and_fit pid=66075)\u001b[0m [Client 3] fit, config: {}\n",
            "\u001b[2m\u001b[36m(launch_and_fit pid=66074)\u001b[0m Epoch 3: train loss 0.01617293991148472, accuracy 0.9129843643779741\u001b[32m [repeated 17x across cluster]\u001b[0m\n",
            "\u001b[2m\u001b[36m(launch_and_fit pid=66074)\u001b[0m Epoch 10: train loss 0.0023475689813494682, accuracy 0.9755268524813052\n",
            "\u001b[2m\u001b[36m(launch_and_fit pid=66074)\u001b[0m Epoch 14: train loss 0.0015524730551987886, accuracy 0.9782460910944936\u001b[32m [repeated 21x across cluster]\u001b[0m\n",
            "\u001b[2m\u001b[36m(launch_and_fit pid=66074)\u001b[0m Epoch 21: train loss 0.0014468432636931539, accuracy 0.9802855200543847\u001b[32m [repeated 14x across cluster]\u001b[0m\n",
            "\u001b[2m\u001b[36m(launch_and_fit pid=66074)\u001b[0m Epoch 30: train loss 0.0013896505115553737, accuracy 0.981645139360979\u001b[32m [repeated 17x across cluster]\u001b[0m\n",
            "\u001b[2m\u001b[36m(launch_and_fit pid=66074)\u001b[0m Epoch 40: train loss 0.0013520948123186827, accuracy 0.9802855200543847\u001b[32m [repeated 20x across cluster]\u001b[0m\n",
            "\u001b[2m\u001b[36m(launch_and_fit pid=66074)\u001b[0m Epoch 46: train loss 0.0013274259399622679, accuracy 0.9789259007477906\u001b[32m [repeated 11x across cluster]\u001b[0m\n"
          ]
        },
        {
          "metadata": {
            "tags": null
          },
          "name": "stderr",
          "output_type": "stream",
          "text": [
            "DEBUG flwr 2023-06-08 15:52:26,181 | server.py:232 | fit_round 10 received 4 results and 0 failures\n",
            "DEBUG:flwr:fit_round 10 received 4 results and 0 failures\n",
            "DEBUG flwr 2023-06-08 15:52:26,211 | server.py:168 | evaluate_round 10: strategy sampled 3 clients (out of 4)\n",
            "DEBUG:flwr:evaluate_round 10: strategy sampled 3 clients (out of 4)\n",
            "DEBUG flwr 2023-06-08 15:52:26,438 | server.py:182 | evaluate_round 10 received 3 results and 0 failures\n",
            "DEBUG:flwr:evaluate_round 10 received 3 results and 0 failures\n",
            "DEBUG flwr 2023-06-08 15:52:26,444 | server.py:218 | fit_round 11: strategy sampled 4 clients (out of 4)\n",
            "DEBUG:flwr:fit_round 11: strategy sampled 4 clients (out of 4)\n"
          ]
        },
        {
          "metadata": {
            "tags": null
          },
          "name": "stdout",
          "output_type": "stream",
          "text": [
            "\u001b[2m\u001b[36m(launch_and_evaluate pid=66074)\u001b[0m [Client 3] evaluate, config: {}\n",
            "\u001b[2m\u001b[36m(launch_and_evaluate pid=66074)\u001b[0m [Client 1] evaluate, config: {}\n",
            "\u001b[2m\u001b[36m(launch_and_fit pid=66074)\u001b[0m [Client 0] fit, config: {}\n",
            "\u001b[2m\u001b[36m(launch_and_fit pid=66075)\u001b[0m Epoch 5: train loss 0.001417724066413939, accuracy 0.9755268524813052\u001b[32m [repeated 17x across cluster]\u001b[0m\n",
            "\u001b[2m\u001b[36m(launch_and_evaluate pid=66075)\u001b[0m Epoch 10: train loss 0.0011564192827790976, accuracy 0.9768864717878993\n",
            "\u001b[2m\u001b[36m(launch_and_fit pid=66075)\u001b[0m Epoch 10: train loss 0.0011564192827790976, accuracy 0.9768864717878993\n",
            "\u001b[2m\u001b[36m(launch_and_fit pid=66074)\u001b[0m Epoch 15: train loss 0.0010691072093322873, accuracy 0.9775662814411965\u001b[32m [repeated 20x across cluster]\u001b[0m\n",
            "\u001b[2m\u001b[36m(launch_and_fit pid=66075)\u001b[0m Epoch 20: train loss 0.0010803967015817761, accuracy 0.9789259007477906\u001b[32m [repeated 11x across cluster]\u001b[0m\n",
            "\u001b[2m\u001b[36m(launch_and_fit pid=66074)\u001b[0m Epoch 30: train loss 0.0008322359644807875, accuracy 0.9802855200543847\u001b[32m [repeated 19x across cluster]\u001b[0m\n",
            "\u001b[2m\u001b[36m(launch_and_fit pid=66074)\u001b[0m Epoch 40: train loss 0.0007410632679238915, accuracy 0.9843643779741672\u001b[32m [repeated 20x across cluster]\u001b[0m\n",
            "\u001b[2m\u001b[36m(launch_and_fit pid=66075)\u001b[0m Epoch 45: train loss 0.000715704751200974, accuracy 0.9843643779741672\u001b[32m [repeated 11x across cluster]\u001b[0m\n",
            "\u001b[2m\u001b[36m(launch_and_fit pid=66074)\u001b[0m [Client 3] fit, config: {}\n",
            "\u001b[2m\u001b[36m(launch_and_fit pid=66075)\u001b[0m Epoch 5: train loss 0.001726334448903799, accuracy 0.9748470428280082\u001b[32m [repeated 20x across cluster]\u001b[0m\n",
            "\u001b[2m\u001b[36m(launch_and_fit pid=66075)\u001b[0m Epoch 9: train loss 0.0012423633597791195, accuracy 0.9789259007477906\n",
            "\u001b[2m\u001b[36m(launch_and_fit pid=66075)\u001b[0m Epoch 14: train loss 0.0011551521020010114, accuracy 0.9789259007477906\u001b[32m [repeated 18x across cluster]\u001b[0m\n",
            "\u001b[2m\u001b[36m(launch_and_fit pid=66074)\u001b[0m Epoch 20: train loss 0.0009719064692035317, accuracy 0.9830047586675731\u001b[32m [repeated 11x across cluster]\u001b[0m\n",
            "\u001b[2m\u001b[36m(launch_and_fit pid=66075)\u001b[0m Epoch 30: train loss 0.0011498547391965985, accuracy 0.9782460910944936\u001b[32m [repeated 20x across cluster]\u001b[0m\n",
            "\u001b[2m\u001b[36m(launch_and_fit pid=66074)\u001b[0m Epoch 38: train loss 0.0007635526126250625, accuracy 0.9850441876274643\u001b[32m [repeated 18x across cluster]\u001b[0m\n",
            "\u001b[2m\u001b[36m(launch_and_fit pid=66075)\u001b[0m Epoch 46: train loss 0.0009540722239762545, accuracy 0.9802855200543847\u001b[32m [repeated 12x across cluster]\u001b[0m\n"
          ]
        },
        {
          "metadata": {
            "tags": null
          },
          "name": "stderr",
          "output_type": "stream",
          "text": [
            "DEBUG flwr 2023-06-08 15:53:29,970 | server.py:232 | fit_round 11 received 4 results and 0 failures\n",
            "DEBUG:flwr:fit_round 11 received 4 results and 0 failures\n",
            "DEBUG flwr 2023-06-08 15:53:30,001 | server.py:168 | evaluate_round 11: strategy sampled 3 clients (out of 4)\n",
            "DEBUG:flwr:evaluate_round 11: strategy sampled 3 clients (out of 4)\n",
            "DEBUG flwr 2023-06-08 15:53:30,233 | server.py:182 | evaluate_round 11 received 3 results and 0 failures\n",
            "DEBUG:flwr:evaluate_round 11 received 3 results and 0 failures\n",
            "DEBUG flwr 2023-06-08 15:53:30,241 | server.py:218 | fit_round 12: strategy sampled 4 clients (out of 4)\n",
            "DEBUG:flwr:fit_round 12: strategy sampled 4 clients (out of 4)\n"
          ]
        },
        {
          "metadata": {
            "tags": null
          },
          "name": "stdout",
          "output_type": "stream",
          "text": [
            "\u001b[2m\u001b[36m(launch_and_evaluate pid=66074)\u001b[0m [Client 1] evaluate, config: {}\n",
            "\u001b[2m\u001b[36m(launch_and_fit pid=66074)\u001b[0m [Client 2] fit, config: {}\n",
            "\u001b[2m\u001b[36m(launch_and_fit pid=66074)\u001b[0m Epoch 3: train loss 0.0020297567825764418, accuracy 0.9789259007477906\u001b[32m [repeated 16x across cluster]\u001b[0m\n",
            "\u001b[2m\u001b[36m(launch_and_evaluate pid=66074)\u001b[0m [Client 2] evaluate, config: {}\u001b[32m [repeated 2x across cluster]\u001b[0m\n",
            "\u001b[2m\u001b[36m(launch_and_fit pid=66075)\u001b[0m Epoch 10: train loss 0.0011619905708357692, accuracy 0.981645139360979\n",
            "\u001b[2m\u001b[36m(launch_and_fit pid=66074)\u001b[0m Epoch 12: train loss 0.001092681661248207, accuracy 0.982324949014276\u001b[32m [repeated 18x across cluster]\u001b[0m\n",
            "\u001b[2m\u001b[36m(launch_and_fit pid=66075)\u001b[0m Epoch 18: train loss 0.0007461493951268494, accuracy 0.982324949014276\u001b[32m [repeated 12x across cluster]\u001b[0m\n",
            "\u001b[2m\u001b[36m(launch_and_fit pid=66075)\u001b[0m Epoch 28: train loss 0.0006365685258060694, accuracy 0.9843643779741672\u001b[32m [repeated 20x across cluster]\u001b[0m\n",
            "\u001b[2m\u001b[36m(launch_and_fit pid=66075)\u001b[0m Epoch 37: train loss 0.0005796843906864524, accuracy 0.9870836165873556\u001b[32m [repeated 18x across cluster]\u001b[0m\n",
            "\u001b[2m\u001b[36m(launch_and_fit pid=66074)\u001b[0m Epoch 43: train loss 0.0004690159694291651, accuracy 0.9857239972807614\u001b[32m [repeated 13x across cluster]\u001b[0m\n",
            "\u001b[2m\u001b[36m(launch_and_fit pid=66075)\u001b[0m [Client 1] fit, config: {}\n",
            "\u001b[2m\u001b[36m(launch_and_fit pid=66074)\u001b[0m Epoch 3: train loss 0.0015452997758984566, accuracy 0.9789259007477906\u001b[32m [repeated 20x across cluster]\u001b[0m\n",
            "\u001b[2m\u001b[36m(launch_and_fit pid=66074)\u001b[0m Epoch 9: train loss 0.0009992425329983234, accuracy 0.982324949014276\n",
            "\u001b[2m\u001b[36m(launch_and_fit pid=66074)\u001b[0m Epoch 11: train loss 0.0010262937285006046, accuracy 0.9809653297076818\u001b[32m [repeated 17x across cluster]\u001b[0m\n",
            "\u001b[2m\u001b[36m(launch_and_fit pid=66075)\u001b[0m Epoch 20: train loss 0.0009916059207171202, accuracy 0.9782460910944936\u001b[32m [repeated 14x across cluster]\u001b[0m\n",
            "\u001b[2m\u001b[36m(launch_and_fit pid=66075)\u001b[0m Epoch 30: train loss 0.0008313987054862082, accuracy 0.9836845683208701\u001b[32m [repeated 19x across cluster]\u001b[0m\n",
            "\u001b[2m\u001b[36m(launch_and_fit pid=66074)\u001b[0m Epoch 34: train loss 0.0006179676856845617, accuracy 0.9864038069340585\u001b[32m [repeated 15x across cluster]\u001b[0m\n",
            "\u001b[2m\u001b[36m(launch_and_fit pid=66074)\u001b[0m Epoch 41: train loss 0.0006403586594387889, accuracy 0.9850441876274643\u001b[32m [repeated 14x across cluster]\u001b[0m\n"
          ]
        },
        {
          "metadata": {
            "tags": null
          },
          "name": "stderr",
          "output_type": "stream",
          "text": [
            "DEBUG flwr 2023-06-08 15:54:33,796 | server.py:232 | fit_round 12 received 4 results and 0 failures\n",
            "DEBUG:flwr:fit_round 12 received 4 results and 0 failures\n",
            "DEBUG flwr 2023-06-08 15:54:33,824 | server.py:168 | evaluate_round 12: strategy sampled 3 clients (out of 4)\n",
            "DEBUG:flwr:evaluate_round 12: strategy sampled 3 clients (out of 4)\n",
            "DEBUG flwr 2023-06-08 15:54:34,060 | server.py:182 | evaluate_round 12 received 3 results and 0 failures\n",
            "DEBUG:flwr:evaluate_round 12 received 3 results and 0 failures\n",
            "DEBUG flwr 2023-06-08 15:54:34,070 | server.py:218 | fit_round 13: strategy sampled 4 clients (out of 4)\n",
            "DEBUG:flwr:fit_round 13: strategy sampled 4 clients (out of 4)\n"
          ]
        },
        {
          "metadata": {
            "tags": null
          },
          "name": "stdout",
          "output_type": "stream",
          "text": [
            "\u001b[2m\u001b[36m(launch_and_evaluate pid=66074)\u001b[0m [Client 2] evaluate, config: {}\n",
            "\u001b[2m\u001b[36m(launch_and_evaluate pid=66074)\u001b[0m [Client 1] evaluate, config: {}\n",
            "\u001b[2m\u001b[36m(launch_and_fit pid=66074)\u001b[0m [Client 0] fit, config: {}\n",
            "\u001b[2m\u001b[36m(launch_and_fit pid=66074)\u001b[0m Epoch 1: train loss 0.049305323511362076, accuracy 0.8484024473147519\u001b[32m [repeated 16x across cluster]\u001b[0m\n",
            "\u001b[2m\u001b[36m(launch_and_evaluate pid=66075)\u001b[0m Epoch 7: train loss 0.001013685017824173, accuracy 0.9768864717878993\n",
            "\u001b[2m\u001b[36m(launch_and_fit pid=66075)\u001b[0m Epoch 7: train loss 0.001013685017824173, accuracy 0.9768864717878993\n",
            "\u001b[2m\u001b[36m(launch_and_fit pid=66074)\u001b[0m Epoch 8: train loss 0.0007314741960726678, accuracy 0.981645139360979\u001b[32m [repeated 14x across cluster]\u001b[0m\n",
            "\u001b[2m\u001b[36m(launch_and_fit pid=66075)\u001b[0m Epoch 15: train loss 0.0007369574741460383, accuracy 0.982324949014276\u001b[32m [repeated 16x across cluster]\u001b[0m\n",
            "\u001b[2m\u001b[36m(launch_and_fit pid=66074)\u001b[0m Epoch 26: train loss 0.0005382433300837874, accuracy 0.9864038069340585\u001b[32m [repeated 18x across cluster]\u001b[0m\n",
            "\u001b[2m\u001b[36m(launch_and_fit pid=66075)\u001b[0m Epoch 28: train loss 0.0005168409552425146, accuracy 0.9884432358939497\u001b[32m [repeated 9x across cluster]\u001b[0m\n",
            "\u001b[2m\u001b[36m(launch_and_fit pid=66075)\u001b[0m Epoch 34: train loss 0.0006022067391313612, accuracy 0.9857239972807614\u001b[32m [repeated 13x across cluster]\u001b[0m\n",
            "\u001b[2m\u001b[36m(launch_and_fit pid=66075)\u001b[0m Epoch 43: train loss 0.0005534107913263142, accuracy 0.9864038069340585\u001b[32m [repeated 19x across cluster]\u001b[0m\n",
            "\u001b[2m\u001b[36m(launch_and_fit pid=66074)\u001b[0m [Client 1] fit, config: {}\n",
            "\u001b[2m\u001b[36m(launch_and_fit pid=66074)\u001b[0m Epoch 6: train loss 0.000675212882924825, accuracy 0.9870836165873556\u001b[32m [repeated 16x across cluster]\u001b[0m\n",
            "\u001b[2m\u001b[36m(launch_and_fit pid=66075)\u001b[0m Epoch 3: train loss 0.0013417572481557727, accuracy 0.9768864717878993\n",
            "\u001b[2m\u001b[36m(launch_and_fit pid=66074)\u001b[0m Epoch 13: train loss 0.0006941097672097385, accuracy 0.9857239972807614\u001b[32m [repeated 14x across cluster]\u001b[0m\n",
            "\u001b[2m\u001b[36m(launch_and_fit pid=66075)\u001b[0m Epoch 17: train loss 0.0006089369999244809, accuracy 0.9836845683208701\u001b[32m [repeated 19x across cluster]\u001b[0m\n",
            "\u001b[2m\u001b[36m(launch_and_fit pid=66075)\u001b[0m Epoch 25: train loss 0.0005028090672567487, accuracy 0.9870836165873556\u001b[32m [repeated 17x across cluster]\u001b[0m\n",
            "\u001b[2m\u001b[36m(launch_and_fit pid=66074)\u001b[0m Epoch 39: train loss 0.0004430720000527799, accuracy 0.9932019034670292\u001b[32m [repeated 14x across cluster]\u001b[0m\n",
            "\u001b[2m\u001b[36m(launch_and_fit pid=66074)\u001b[0m Epoch 49: train loss 0.000388680724427104, accuracy 0.9938817131203264\u001b[32m [repeated 20x across cluster]\u001b[0m\n"
          ]
        },
        {
          "metadata": {
            "tags": null
          },
          "name": "stderr",
          "output_type": "stream",
          "text": [
            "DEBUG flwr 2023-06-08 15:55:40,942 | server.py:232 | fit_round 13 received 4 results and 0 failures\n",
            "DEBUG:flwr:fit_round 13 received 4 results and 0 failures\n",
            "DEBUG flwr 2023-06-08 15:55:40,982 | server.py:168 | evaluate_round 13: strategy sampled 3 clients (out of 4)\n",
            "DEBUG:flwr:evaluate_round 13: strategy sampled 3 clients (out of 4)\n",
            "DEBUG flwr 2023-06-08 15:55:41,312 | server.py:182 | evaluate_round 13 received 3 results and 0 failures\n",
            "DEBUG:flwr:evaluate_round 13 received 3 results and 0 failures\n",
            "DEBUG flwr 2023-06-08 15:55:41,317 | server.py:218 | fit_round 14: strategy sampled 4 clients (out of 4)\n",
            "DEBUG:flwr:fit_round 14: strategy sampled 4 clients (out of 4)\n"
          ]
        },
        {
          "metadata": {
            "tags": null
          },
          "name": "stdout",
          "output_type": "stream",
          "text": [
            "\u001b[2m\u001b[36m(launch_and_evaluate pid=66075)\u001b[0m [Client 1] evaluate, config: {}\n",
            "\u001b[2m\u001b[36m(launch_and_fit pid=66074)\u001b[0m [Client 1] fit, config: {}\n",
            "\u001b[2m\u001b[36m(launch_and_fit pid=66074)\u001b[0m Epoch 1: train loss 0.028496436774730682, accuracy 0.9082256968048946\u001b[32m [repeated 11x across cluster]\u001b[0m\n",
            "\u001b[2m\u001b[36m(launch_and_evaluate pid=66075)\u001b[0m [Client 0] evaluate, config: {}\u001b[32m [repeated 2x across cluster]\u001b[0m\n",
            "\u001b[2m\u001b[36m(launch_and_fit pid=66075)\u001b[0m Epoch 7: train loss 0.0007989196456037462, accuracy 0.9843643779741672\n",
            "\u001b[2m\u001b[36m(launch_and_fit pid=66074)\u001b[0m Epoch 9: train loss 0.0006625743699260056, accuracy 0.9870836165873556\u001b[32m [repeated 16x across cluster]\u001b[0m\n",
            "\u001b[2m\u001b[36m(launch_and_fit pid=66075)\u001b[0m Epoch 19: train loss 0.00047844284563325346, accuracy 0.9870836165873556\u001b[32m [repeated 21x across cluster]\u001b[0m\n",
            "\u001b[2m\u001b[36m(launch_and_fit pid=66075)\u001b[0m Epoch 26: train loss 0.0004440025659278035, accuracy 0.9898028552005439\u001b[32m [repeated 14x across cluster]\u001b[0m\n",
            "\u001b[2m\u001b[36m(launch_and_fit pid=66075)\u001b[0m Epoch 34: train loss 0.0007372054969891906, accuracy 0.9843643779741672\u001b[32m [repeated 16x across cluster]\u001b[0m\n",
            "\u001b[2m\u001b[36m(launch_and_fit pid=66074)\u001b[0m Epoch 45: train loss 0.0002794187457766384, accuracy 0.9959211420802175\u001b[32m [repeated 21x across cluster]\u001b[0m\n",
            "\u001b[2m\u001b[36m(launch_and_fit pid=66074)\u001b[0m [Client 3] fit, config: {}\n",
            "\u001b[2m\u001b[36m(launch_and_fit pid=66074)\u001b[0m Epoch 2: train loss 0.00195623398758471, accuracy 0.9707681849082257\u001b[32m [repeated 14x across cluster]\u001b[0m\n",
            "\u001b[2m\u001b[36m(launch_and_fit pid=66075)\u001b[0m Epoch 7: train loss 0.0010159214725717902, accuracy 0.9768864717878993\n",
            "\u001b[2m\u001b[36m(launch_and_fit pid=66075)\u001b[0m Epoch 10: train loss 0.0006123972707428038, accuracy 0.9836845683208701\u001b[32m [repeated 17x across cluster]\u001b[0m\n",
            "\u001b[2m\u001b[36m(launch_and_fit pid=66074)\u001b[0m Epoch 20: train loss 0.0006846637115813792, accuracy 0.9830047586675731\u001b[32m [repeated 19x across cluster]\u001b[0m\n",
            "\u001b[2m\u001b[36m(launch_and_fit pid=66075)\u001b[0m Epoch 26: train loss 0.00036386612919159234, accuracy 0.9891230455472467\u001b[32m [repeated 12x across cluster]\u001b[0m\n",
            "\u001b[2m\u001b[36m(launch_and_fit pid=66075)\u001b[0m Epoch 35: train loss 0.0006070341332815588, accuracy 0.9857239972807614\u001b[32m [repeated 18x across cluster]\u001b[0m\n",
            "\u001b[2m\u001b[36m(launch_and_fit pid=66074)\u001b[0m Epoch 44: train loss 0.0006707508582621813, accuracy 0.9843643779741672\u001b[32m [repeated 19x across cluster]\u001b[0m\n"
          ]
        },
        {
          "metadata": {
            "tags": null
          },
          "name": "stderr",
          "output_type": "stream",
          "text": [
            "DEBUG flwr 2023-06-08 15:56:44,923 | server.py:232 | fit_round 14 received 4 results and 0 failures\n",
            "DEBUG:flwr:fit_round 14 received 4 results and 0 failures\n",
            "DEBUG flwr 2023-06-08 15:56:44,963 | server.py:168 | evaluate_round 14: strategy sampled 3 clients (out of 4)\n",
            "DEBUG:flwr:evaluate_round 14: strategy sampled 3 clients (out of 4)\n"
          ]
        },
        {
          "metadata": {
            "tags": null
          },
          "name": "stdout",
          "output_type": "stream",
          "text": [
            "\u001b[2m\u001b[36m(launch_and_fit pid=66074)\u001b[0m Epoch 50: train loss 0.0005809819558635354, accuracy 0.9864038069340585\u001b[32m [repeated 12x across cluster]\u001b[0m\n"
          ]
        },
        {
          "metadata": {
            "tags": null
          },
          "name": "stderr",
          "output_type": "stream",
          "text": [
            "DEBUG flwr 2023-06-08 15:56:45,329 | server.py:182 | evaluate_round 14 received 3 results and 0 failures\n",
            "DEBUG:flwr:evaluate_round 14 received 3 results and 0 failures\n",
            "DEBUG flwr 2023-06-08 15:56:45,337 | server.py:218 | fit_round 15: strategy sampled 4 clients (out of 4)\n",
            "DEBUG:flwr:fit_round 15: strategy sampled 4 clients (out of 4)\n"
          ]
        },
        {
          "metadata": {
            "tags": null
          },
          "name": "stdout",
          "output_type": "stream",
          "text": [
            "\u001b[2m\u001b[36m(launch_and_evaluate pid=66074)\u001b[0m [Client 1] evaluate, config: {}\n",
            "\u001b[2m\u001b[36m(launch_and_fit pid=66074)\u001b[0m [Client 2] fit, config: {}\n",
            "\u001b[2m\u001b[36m(launch_and_fit pid=66074)\u001b[0m Epoch 8: train loss 0.0003601029748097062, accuracy 0.9891230455472467\u001b[32m [repeated 16x across cluster]\u001b[0m\n",
            "\u001b[2m\u001b[36m(launch_and_evaluate pid=66074)\u001b[0m [Client 3] evaluate, config: {}\u001b[32m [repeated 2x across cluster]\u001b[0m\n",
            "\u001b[2m\u001b[36m(launch_and_fit pid=66075)\u001b[0m Epoch 10: train loss 0.0004567427677102387, accuracy 0.9877634262406526\n",
            "\u001b[2m\u001b[36m(launch_and_fit pid=66075)\u001b[0m Epoch 19: train loss 0.0003930920211132616, accuracy 0.9918422841604351\u001b[32m [repeated 20x across cluster]\u001b[0m\n",
            "\u001b[2m\u001b[36m(launch_and_fit pid=66075)\u001b[0m Epoch 25: train loss 0.0003321107942610979, accuracy 0.9918422841604351\u001b[32m [repeated 11x across cluster]\u001b[0m\n",
            "\u001b[2m\u001b[36m(launch_and_fit pid=66074)\u001b[0m Epoch 32: train loss 0.0003869548672810197, accuracy 0.9884432358939497\u001b[32m [repeated 19x across cluster]\u001b[0m\n",
            "\u001b[2m\u001b[36m(launch_and_fit pid=66075)\u001b[0m Epoch 45: train loss 0.00024514846154488623, accuracy 0.9952413324269205\u001b[32m [repeated 20x across cluster]\u001b[0m\n",
            "\u001b[2m\u001b[36m(launch_and_fit pid=66075)\u001b[0m [Client 1] fit, config: {}\n",
            "\u001b[2m\u001b[36m(launch_and_fit pid=66074)\u001b[0m Epoch 47: train loss 0.0007334224064834416, accuracy 0.9830047586675731\u001b[32m [repeated 11x across cluster]\u001b[0m\n",
            "\u001b[2m\u001b[36m(launch_and_fit pid=66074)\u001b[0m Epoch 5: train loss 0.0005711762933060527, accuracy 0.9898028552005439\n",
            "\u001b[2m\u001b[36m(launch_and_fit pid=66075)\u001b[0m Epoch 11: train loss 0.00041816962766461074, accuracy 0.9938817131203264\u001b[32m [repeated 20x across cluster]\u001b[0m\n",
            "\u001b[2m\u001b[36m(launch_and_fit pid=66074)\u001b[0m Epoch 16: train loss 0.0006756948423571885, accuracy 0.982324949014276\u001b[32m [repeated 20x across cluster]\u001b[0m\n",
            "\u001b[2m\u001b[36m(launch_and_fit pid=66075)\u001b[0m Epoch 28: train loss 0.0002895304060075432, accuracy 0.9952413324269205\u001b[32m [repeated 12x across cluster]\u001b[0m\n",
            "\u001b[2m\u001b[36m(launch_and_fit pid=66074)\u001b[0m Epoch 31: train loss 0.0008283760980702937, accuracy 0.9836845683208701\u001b[32m [repeated 20x across cluster]\u001b[0m\n",
            "\u001b[2m\u001b[36m(launch_and_fit pid=66074)\u001b[0m Epoch 40: train loss 0.0008241390460170805, accuracy 0.981645139360979\u001b[32m [repeated 18x across cluster]\u001b[0m\n",
            "\u001b[2m\u001b[36m(launch_and_fit pid=66074)\u001b[0m Epoch 49: train loss 0.0010085456306114793, accuracy 0.9809653297076818\u001b[32m [repeated 12x across cluster]\u001b[0m\n"
          ]
        },
        {
          "metadata": {
            "tags": null
          },
          "name": "stderr",
          "output_type": "stream",
          "text": [
            "DEBUG flwr 2023-06-08 15:57:48,424 | server.py:232 | fit_round 15 received 4 results and 0 failures\n",
            "DEBUG:flwr:fit_round 15 received 4 results and 0 failures\n",
            "DEBUG flwr 2023-06-08 15:57:48,454 | server.py:168 | evaluate_round 15: strategy sampled 3 clients (out of 4)\n",
            "DEBUG:flwr:evaluate_round 15: strategy sampled 3 clients (out of 4)\n",
            "DEBUG flwr 2023-06-08 15:57:48,688 | server.py:182 | evaluate_round 15 received 3 results and 0 failures\n",
            "DEBUG:flwr:evaluate_round 15 received 3 results and 0 failures\n",
            "DEBUG flwr 2023-06-08 15:57:48,692 | server.py:218 | fit_round 16: strategy sampled 4 clients (out of 4)\n",
            "DEBUG:flwr:fit_round 16: strategy sampled 4 clients (out of 4)\n"
          ]
        },
        {
          "metadata": {
            "tags": null
          },
          "name": "stdout",
          "output_type": "stream",
          "text": [
            "\u001b[2m\u001b[36m(launch_and_evaluate pid=66074)\u001b[0m [Client 2] evaluate, config: {}\n",
            "\u001b[2m\u001b[36m(launch_and_fit pid=66074)\u001b[0m [Client 0] fit, config: {}\n",
            "\u001b[2m\u001b[36m(launch_and_fit pid=66075)\u001b[0m Epoch 9: train loss 0.00045501638669520617, accuracy 0.9918422841604351\u001b[32m [repeated 18x across cluster]\u001b[0m\n",
            "\u001b[2m\u001b[36m(launch_and_evaluate pid=66074)\u001b[0m [Client 1] evaluate, config: {}\u001b[32m [repeated 2x across cluster]\u001b[0m\n",
            "\u001b[2m\u001b[36m(launch_and_fit pid=66075)\u001b[0m Epoch 10: train loss 0.00042211648542433977, accuracy 0.9884432358939497\n",
            "\u001b[2m\u001b[36m(launch_and_fit pid=66074)\u001b[0m Epoch 18: train loss 0.00048027292359620333, accuracy 0.9870836165873556\u001b[32m [repeated 18x across cluster]\u001b[0m\n",
            "\u001b[2m\u001b[36m(launch_and_fit pid=66074)\u001b[0m Epoch 26: train loss 0.0004347182693891227, accuracy 0.9884432358939497\u001b[32m [repeated 16x across cluster]\u001b[0m\n",
            "\u001b[2m\u001b[36m(launch_and_fit pid=66075)\u001b[0m Epoch 36: train loss 0.00027264381060376763, accuracy 0.9966009517335146\u001b[32m [repeated 21x across cluster]\u001b[0m\n",
            "\u001b[2m\u001b[36m(launch_and_fit pid=66075)\u001b[0m Epoch 44: train loss 0.0002217062865383923, accuracy 0.9972807613868117\u001b[32m [repeated 16x across cluster]\u001b[0m\n",
            "\u001b[2m\u001b[36m(launch_and_fit pid=66074)\u001b[0m [Client 2] fit, config: {}\n",
            "\u001b[2m\u001b[36m(launch_and_fit pid=66074)\u001b[0m Epoch 3: train loss 0.00102030741982162, accuracy 0.9809653297076818\u001b[32m [repeated 16x across cluster]\u001b[0m\n",
            "\u001b[2m\u001b[36m(launch_and_fit pid=66075)\u001b[0m Epoch 9: train loss 0.0005674485582858324, accuracy 0.9864038069340585\n",
            "\u001b[2m\u001b[36m(launch_and_fit pid=66074)\u001b[0m Epoch 13: train loss 0.00047619605902582407, accuracy 0.9857239972807614\u001b[32m [repeated 20x across cluster]\u001b[0m\n",
            "\u001b[2m\u001b[36m(launch_and_fit pid=66074)\u001b[0m Epoch 20: train loss 0.0008749250555410981, accuracy 0.981645139360979\u001b[32m [repeated 14x across cluster]\u001b[0m\n",
            "\u001b[2m\u001b[36m(launch_and_fit pid=66075)\u001b[0m Epoch 26: train loss 0.001086211996152997, accuracy 0.9802855200543847\u001b[32m [repeated 15x across cluster]\u001b[0m\n",
            "\u001b[2m\u001b[36m(launch_and_fit pid=66074)\u001b[0m Epoch 38: train loss 0.0009220332140102983, accuracy 0.9796057104010877\u001b[32m [repeated 20x across cluster]\u001b[0m\n",
            "\u001b[2m\u001b[36m(launch_and_fit pid=66075)\u001b[0m Epoch 42: train loss 0.0005488747847266495, accuracy 0.9877634262406526\u001b[32m [repeated 13x across cluster]\u001b[0m\n"
          ]
        },
        {
          "metadata": {
            "tags": null
          },
          "name": "stderr",
          "output_type": "stream",
          "text": [
            "DEBUG flwr 2023-06-08 15:58:50,658 | server.py:232 | fit_round 16 received 4 results and 0 failures\n",
            "DEBUG:flwr:fit_round 16 received 4 results and 0 failures\n",
            "DEBUG flwr 2023-06-08 15:58:50,692 | server.py:168 | evaluate_round 16: strategy sampled 3 clients (out of 4)\n",
            "DEBUG:flwr:evaluate_round 16: strategy sampled 3 clients (out of 4)\n",
            "DEBUG flwr 2023-06-08 15:58:50,945 | server.py:182 | evaluate_round 16 received 3 results and 0 failures\n",
            "DEBUG:flwr:evaluate_round 16 received 3 results and 0 failures\n",
            "DEBUG flwr 2023-06-08 15:58:50,949 | server.py:218 | fit_round 17: strategy sampled 4 clients (out of 4)\n",
            "DEBUG:flwr:fit_round 17: strategy sampled 4 clients (out of 4)\n"
          ]
        },
        {
          "metadata": {
            "tags": null
          },
          "name": "stdout",
          "output_type": "stream",
          "text": [
            "\u001b[2m\u001b[36m(launch_and_evaluate pid=66074)\u001b[0m [Client 3] evaluate, config: {}\n",
            "\u001b[2m\u001b[36m(launch_and_evaluate pid=66074)\u001b[0m [Client 1] evaluate, config: {}\n",
            "\u001b[2m\u001b[36m(launch_and_fit pid=66074)\u001b[0m [Client 1] fit, config: {}\n",
            "\u001b[2m\u001b[36m(launch_and_fit pid=66074)\u001b[0m Epoch 1: train loss 0.003636428155004978, accuracy 0.9707681849082257\u001b[32m [repeated 15x across cluster]\u001b[0m\n",
            "\u001b[2m\u001b[36m(launch_and_evaluate pid=66075)\u001b[0m Epoch 10: train loss 0.00044303646427579224, accuracy 0.9925220938137321\n",
            "\u001b[2m\u001b[36m(launch_and_fit pid=66075)\u001b[0m Epoch 10: train loss 0.0005565562169067562, accuracy 0.9877634262406526\n",
            "\u001b[2m\u001b[36m(launch_and_fit pid=66075)\u001b[0m Epoch 11: train loss 0.0007452541613020003, accuracy 0.982324949014276\u001b[32m [repeated 21x across cluster]\u001b[0m\n",
            "\u001b[2m\u001b[36m(launch_and_fit pid=66074)\u001b[0m Epoch 18: train loss 0.0014286686200648546, accuracy 0.9741672331747111\u001b[32m [repeated 12x across cluster]\u001b[0m\n",
            "\u001b[2m\u001b[36m(launch_and_fit pid=66075)\u001b[0m Epoch 26: train loss 0.00036244155489839613, accuracy 0.9891230455472467\u001b[32m [repeated 19x across cluster]\u001b[0m\n",
            "\u001b[2m\u001b[36m(launch_and_fit pid=66075)\u001b[0m Epoch 36: train loss 0.00035722265602089465, accuracy 0.9938817131203264\u001b[32m [repeated 20x across cluster]\u001b[0m\n",
            "\u001b[2m\u001b[36m(launch_and_fit pid=66075)\u001b[0m Epoch 42: train loss 0.000364577368600294, accuracy 0.9925220938137321\u001b[32m [repeated 12x across cluster]\u001b[0m\n",
            "\u001b[2m\u001b[36m(launch_and_fit pid=66074)\u001b[0m [Client 0] fit, config: {}\n",
            "\u001b[2m\u001b[36m(launch_and_fit pid=66074)\u001b[0m Epoch 4: train loss 0.000651779118925333, accuracy 0.9830047586675731\u001b[32m [repeated 20x across cluster]\u001b[0m\n",
            "\u001b[2m\u001b[36m(launch_and_fit pid=66075)\u001b[0m Epoch 11: train loss 0.0007178758387453854, accuracy 0.9830047586675731\n",
            "\u001b[2m\u001b[36m(launch_and_fit pid=66075)\u001b[0m Epoch 11: train loss 0.0005791281582787633, accuracy 0.9870836165873556\u001b[32m [repeated 20x across cluster]\u001b[0m\n",
            "\u001b[2m\u001b[36m(launch_and_fit pid=66075)\u001b[0m Epoch 17: train loss 0.0005953970248810947, accuracy 0.9864038069340585\u001b[32m [repeated 12x across cluster]\u001b[0m\n",
            "\u001b[2m\u001b[36m(launch_and_fit pid=66074)\u001b[0m Epoch 31: train loss 0.0009621934732422233, accuracy 0.9802855200543847\u001b[32m [repeated 20x across cluster]\u001b[0m\n",
            "\u001b[2m\u001b[36m(launch_and_fit pid=66074)\u001b[0m Epoch 40: train loss 0.0003372524806763977, accuracy 0.990482664853841\u001b[32m [repeated 17x across cluster]\u001b[0m\n",
            "\u001b[2m\u001b[36m(launch_and_fit pid=66074)\u001b[0m Epoch 47: train loss 0.0007906703394837677, accuracy 0.982324949014276\u001b[32m [repeated 13x across cluster]\u001b[0m\n"
          ]
        },
        {
          "metadata": {
            "tags": null
          },
          "name": "stderr",
          "output_type": "stream",
          "text": [
            "DEBUG flwr 2023-06-08 15:59:53,564 | server.py:232 | fit_round 17 received 4 results and 0 failures\n",
            "DEBUG:flwr:fit_round 17 received 4 results and 0 failures\n",
            "DEBUG flwr 2023-06-08 15:59:53,592 | server.py:168 | evaluate_round 17: strategy sampled 3 clients (out of 4)\n",
            "DEBUG:flwr:evaluate_round 17: strategy sampled 3 clients (out of 4)\n",
            "DEBUG flwr 2023-06-08 15:59:53,820 | server.py:182 | evaluate_round 17 received 3 results and 0 failures\n",
            "DEBUG:flwr:evaluate_round 17 received 3 results and 0 failures\n",
            "DEBUG flwr 2023-06-08 15:59:53,823 | server.py:218 | fit_round 18: strategy sampled 4 clients (out of 4)\n",
            "DEBUG:flwr:fit_round 18: strategy sampled 4 clients (out of 4)\n"
          ]
        },
        {
          "metadata": {
            "tags": null
          },
          "name": "stdout",
          "output_type": "stream",
          "text": [
            "\u001b[2m\u001b[36m(launch_and_evaluate pid=66074)\u001b[0m [Client 0] evaluate, config: {}\n",
            "\u001b[2m\u001b[36m(launch_and_fit pid=66074)\u001b[0m [Client 2] fit, config: {}\n",
            "\u001b[2m\u001b[36m(launch_and_fit pid=66074)\u001b[0m Epoch 2: train loss 0.001498769037425518, accuracy 0.9809653297076818\u001b[32m [repeated 16x across cluster]\u001b[0m\n",
            "\u001b[2m\u001b[36m(launch_and_evaluate pid=66075)\u001b[0m [Client 3] evaluate, config: {}\u001b[32m [repeated 2x across cluster]\u001b[0m\n",
            "\u001b[2m\u001b[36m(launch_and_fit pid=66075)\u001b[0m Epoch 9: train loss 0.0006031557568348944, accuracy 0.991162474507138\n",
            "\u001b[2m\u001b[36m(launch_and_fit pid=66074)\u001b[0m Epoch 10: train loss 0.0005893247434869409, accuracy 0.991162474507138\u001b[32m [repeated 17x across cluster]\u001b[0m\n",
            "\u001b[2m\u001b[36m(launch_and_fit pid=66074)\u001b[0m Epoch 17: train loss 0.0004926820984110236, accuracy 0.991162474507138\u001b[32m [repeated 13x across cluster]\u001b[0m\n",
            "\u001b[2m\u001b[36m(launch_and_fit pid=66074)\u001b[0m Epoch 27: train loss 0.0003906860074494034, accuracy 0.9918422841604351\u001b[32m [repeated 20x across cluster]\u001b[0m\n",
            "\u001b[2m\u001b[36m(launch_and_fit pid=66075)\u001b[0m Epoch 34: train loss 0.0010664565488696098, accuracy 0.9802855200543847\u001b[32m [repeated 16x across cluster]\u001b[0m\n",
            "\u001b[2m\u001b[36m(launch_and_fit pid=66074)\u001b[0m Epoch 42: train loss 0.0002720404008869082, accuracy 0.9959211420802175\u001b[32m [repeated 13x across cluster]\u001b[0m\n",
            "\u001b[2m\u001b[36m(launch_and_fit pid=66074)\u001b[0m Epoch 49: train loss 0.0002934354415629059, accuracy 0.9959211420802175\u001b[32m [repeated 14x across cluster]\u001b[0m\n",
            "\u001b[2m\u001b[36m(launch_and_fit pid=66074)\u001b[0m [Client 0] fit, config: {}\n",
            "\u001b[2m\u001b[36m(launch_and_fit pid=66075)\u001b[0m Epoch 4: train loss 0.0018700603395700455, accuracy 0.9721278042148198\u001b[32m [repeated 13x across cluster]\u001b[0m\n",
            "\u001b[2m\u001b[36m(launch_and_fit pid=66075)\u001b[0m Epoch 5: train loss 0.0021619447506964207, accuracy 0.9694085656016316\n",
            "\u001b[2m\u001b[36m(launch_and_fit pid=66075)\u001b[0m Epoch 12: train loss 0.0007216267404146492, accuracy 0.9843643779741672\u001b[32m [repeated 16x across cluster]\u001b[0m\n",
            "\u001b[2m\u001b[36m(launch_and_fit pid=66075)\u001b[0m Epoch 22: train loss 0.001260444987565279, accuracy 0.972807613868117\u001b[32m [repeated 21x across cluster]\u001b[0m\n",
            "\u001b[2m\u001b[36m(launch_and_fit pid=66075)\u001b[0m Epoch 29: train loss 0.0015034435782581568, accuracy 0.9741672331747111\u001b[32m [repeated 14x across cluster]\u001b[0m\n",
            "\u001b[2m\u001b[36m(launch_and_fit pid=66074)\u001b[0m Epoch 40: train loss 0.0007778627332299948, accuracy 0.9809653297076818\u001b[32m [repeated 17x across cluster]\u001b[0m\n",
            "\u001b[2m\u001b[36m(launch_and_fit pid=66074)\u001b[0m Epoch 50: train loss 0.00043815156095661223, accuracy 0.9877634262406526\u001b[32m [repeated 20x across cluster]\u001b[0m\n"
          ]
        },
        {
          "metadata": {
            "tags": null
          },
          "name": "stderr",
          "output_type": "stream",
          "text": [
            "DEBUG flwr 2023-06-08 16:00:58,552 | server.py:232 | fit_round 18 received 4 results and 0 failures\n",
            "DEBUG:flwr:fit_round 18 received 4 results and 0 failures\n",
            "DEBUG flwr 2023-06-08 16:00:58,578 | server.py:168 | evaluate_round 18: strategy sampled 3 clients (out of 4)\n",
            "DEBUG:flwr:evaluate_round 18: strategy sampled 3 clients (out of 4)\n",
            "DEBUG flwr 2023-06-08 16:00:58,815 | server.py:182 | evaluate_round 18 received 3 results and 0 failures\n",
            "DEBUG:flwr:evaluate_round 18 received 3 results and 0 failures\n",
            "DEBUG flwr 2023-06-08 16:00:58,817 | server.py:218 | fit_round 19: strategy sampled 4 clients (out of 4)\n",
            "DEBUG:flwr:fit_round 19: strategy sampled 4 clients (out of 4)\n"
          ]
        },
        {
          "metadata": {
            "tags": null
          },
          "name": "stdout",
          "output_type": "stream",
          "text": [
            "\u001b[2m\u001b[36m(launch_and_evaluate pid=66074)\u001b[0m [Client 0] evaluate, config: {}\n",
            "\u001b[2m\u001b[36m(launch_and_fit pid=66074)\u001b[0m [Client 3] fit, config: {}\n",
            "\u001b[2m\u001b[36m(launch_and_fit pid=66075)\u001b[0m Epoch 4: train loss 0.0004897647886537015, accuracy 0.9877634262406526\u001b[32m [repeated 10x across cluster]\u001b[0m\n",
            "\u001b[2m\u001b[36m(launch_and_evaluate pid=66075)\u001b[0m [Client 2] evaluate, config: {}\u001b[32m [repeated 2x across cluster]\u001b[0m\n",
            "\u001b[2m\u001b[36m(launch_and_fit pid=66075)\u001b[0m Epoch 5: train loss 0.0004423514474183321, accuracy 0.991162474507138\n",
            "\u001b[2m\u001b[36m(launch_and_fit pid=66075)\u001b[0m Epoch 13: train loss 0.00033398676896467805, accuracy 0.9925220938137321\u001b[32m [repeated 17x across cluster]\u001b[0m\n",
            "\u001b[2m\u001b[36m(launch_and_fit pid=66074)\u001b[0m Epoch 21: train loss 0.0003016386763192713, accuracy 0.9932019034670292\u001b[32m [repeated 19x across cluster]\u001b[0m\n",
            "\u001b[2m\u001b[36m(launch_and_fit pid=66075)\u001b[0m Epoch 29: train loss 0.0002322381769772619, accuracy 0.9925220938137321\u001b[32m [repeated 12x across cluster]\u001b[0m\n",
            "\u001b[2m\u001b[36m(launch_and_fit pid=66075)\u001b[0m Epoch 38: train loss 0.00020103111455682665, accuracy 0.9952413324269205\u001b[32m [repeated 18x across cluster]\u001b[0m\n",
            "\u001b[2m\u001b[36m(launch_and_fit pid=66074)\u001b[0m Epoch 45: train loss 0.0003835067036561668, accuracy 0.990482664853841\u001b[32m [repeated 19x across cluster]\u001b[0m\n",
            "\u001b[2m\u001b[36m(launch_and_fit pid=66075)\u001b[0m [Client 2] fit, config: {}\n",
            "\u001b[2m\u001b[36m(launch_and_fit pid=66074)\u001b[0m Epoch 1: train loss 0.002630349714308977, accuracy 0.9748470428280082\u001b[32m [repeated 12x across cluster]\u001b[0m\n",
            "\u001b[2m\u001b[36m(launch_and_fit pid=66074)\u001b[0m Epoch 6: train loss 0.00035743016633205116, accuracy 0.9925220938137321\n",
            "\u001b[2m\u001b[36m(launch_and_fit pid=66074)\u001b[0m Epoch 11: train loss 0.0008084525470621884, accuracy 0.9877634262406526\u001b[32m [repeated 20x across cluster]\u001b[0m\n",
            "\u001b[2m\u001b[36m(launch_and_fit pid=66075)\u001b[0m Epoch 23: train loss 0.0003578942851163447, accuracy 0.9945615227736234\u001b[32m [repeated 19x across cluster]\u001b[0m\n",
            "\u001b[2m\u001b[36m(launch_and_fit pid=66074)\u001b[0m Epoch 26: train loss 0.0003205501416232437, accuracy 0.9945615227736234\u001b[32m [repeated 10x across cluster]\u001b[0m\n",
            "\u001b[2m\u001b[36m(launch_and_fit pid=66074)\u001b[0m Epoch 37: train loss 0.00025455813738517463, accuracy 0.9959211420802175\u001b[32m [repeated 21x across cluster]\u001b[0m\n",
            "\u001b[2m\u001b[36m(launch_and_fit pid=66074)\u001b[0m Epoch 46: train loss 0.00021348091831896454, accuracy 0.9966009517335146\u001b[32m [repeated 18x across cluster]\u001b[0m\n"
          ]
        },
        {
          "metadata": {
            "tags": null
          },
          "name": "stderr",
          "output_type": "stream",
          "text": [
            "DEBUG flwr 2023-06-08 16:02:04,239 | server.py:232 | fit_round 19 received 4 results and 0 failures\n",
            "DEBUG:flwr:fit_round 19 received 4 results and 0 failures\n",
            "DEBUG flwr 2023-06-08 16:02:04,266 | server.py:168 | evaluate_round 19: strategy sampled 3 clients (out of 4)\n",
            "DEBUG:flwr:evaluate_round 19: strategy sampled 3 clients (out of 4)\n",
            "DEBUG flwr 2023-06-08 16:02:04,500 | server.py:182 | evaluate_round 19 received 3 results and 0 failures\n",
            "DEBUG:flwr:evaluate_round 19 received 3 results and 0 failures\n",
            "DEBUG flwr 2023-06-08 16:02:04,506 | server.py:218 | fit_round 20: strategy sampled 4 clients (out of 4)\n",
            "DEBUG:flwr:fit_round 20: strategy sampled 4 clients (out of 4)\n"
          ]
        },
        {
          "metadata": {
            "tags": null
          },
          "name": "stdout",
          "output_type": "stream",
          "text": [
            "\u001b[2m\u001b[36m(launch_and_evaluate pid=66074)\u001b[0m [Client 0] evaluate, config: {}\n",
            "\u001b[2m\u001b[36m(launch_and_fit pid=66074)\u001b[0m [Client 3] fit, config: {}\n",
            "\u001b[2m\u001b[36m(launch_and_fit pid=66074)\u001b[0m Epoch 2: train loss 0.0006232655723579228, accuracy 0.9891230455472467\u001b[32m [repeated 11x across cluster]\u001b[0m\n",
            "\u001b[2m\u001b[36m(launch_and_evaluate pid=66074)\u001b[0m [Client 1] evaluate, config: {}\u001b[32m [repeated 2x across cluster]\u001b[0m\n",
            "\u001b[2m\u001b[36m(launch_and_fit pid=66075)\u001b[0m Epoch 10: train loss 0.000705897284206003, accuracy 0.9870836165873556\n",
            "\u001b[2m\u001b[36m(launch_and_fit pid=66075)\u001b[0m Epoch 13: train loss 0.00036625369102694094, accuracy 0.9925220938137321\u001b[32m [repeated 21x across cluster]\u001b[0m\n",
            "\u001b[2m\u001b[36m(launch_and_fit pid=66074)\u001b[0m Epoch 20: train loss 0.0005575413815677166, accuracy 0.9891230455472467\u001b[32m [repeated 17x across cluster]\u001b[0m\n",
            "\u001b[2m\u001b[36m(launch_and_fit pid=66075)\u001b[0m Epoch 31: train loss 0.0005374685279093683, accuracy 0.9830047586675731\u001b[32m [repeated 17x across cluster]\u001b[0m\n",
            "\u001b[2m\u001b[36m(launch_and_fit pid=66074)\u001b[0m Epoch 37: train loss 0.0002730382839217782, accuracy 0.9925220938137321\u001b[32m [repeated 20x across cluster]\u001b[0m\n",
            "\u001b[2m\u001b[36m(launch_and_fit pid=66075)\u001b[0m Epoch 48: train loss 0.0002502636343706399, accuracy 0.9932019034670292\u001b[32m [repeated 13x across cluster]\u001b[0m\n",
            "\u001b[2m\u001b[36m(launch_and_fit pid=66075)\u001b[0m [Client 0] fit, config: {}\n",
            "\u001b[2m\u001b[36m(launch_and_fit pid=66074)\u001b[0m Epoch 2: train loss 0.00048770784633234143, accuracy 0.9932019034670292\u001b[32m [repeated 17x across cluster]\u001b[0m\n",
            "\u001b[2m\u001b[36m(launch_and_fit pid=66074)\u001b[0m Epoch 5: train loss 0.00041285515180788934, accuracy 0.9925220938137321\n",
            "\u001b[2m\u001b[36m(launch_and_fit pid=66075)\u001b[0m Epoch 17: train loss 0.00022267235908657312, accuracy 0.9945615227736234\u001b[32m [repeated 20x across cluster]\u001b[0m\n",
            "\u001b[2m\u001b[36m(launch_and_fit pid=66075)\u001b[0m Epoch 23: train loss 0.00018772721523419023, accuracy 0.9966009517335146\u001b[32m [repeated 12x across cluster]\u001b[0m\n",
            "\u001b[2m\u001b[36m(launch_and_fit pid=66074)\u001b[0m Epoch 27: train loss 0.00017689965898171067, accuracy 0.9972807613868117\u001b[32m [repeated 19x across cluster]\u001b[0m\n",
            "\u001b[2m\u001b[36m(launch_and_fit pid=66075)\u001b[0m Epoch 43: train loss 0.00014109718904364854, accuracy 0.9993201903467029\u001b[32m [repeated 20x across cluster]\u001b[0m\n",
            "\u001b[2m\u001b[36m(launch_and_fit pid=66075)\u001b[0m Epoch 49: train loss 0.00013234076322987676, accuracy 0.9993201903467029\u001b[32m [repeated 12x across cluster]\u001b[0m\n"
          ]
        },
        {
          "metadata": {
            "tags": null
          },
          "name": "stderr",
          "output_type": "stream",
          "text": [
            "DEBUG flwr 2023-06-08 16:03:07,657 | server.py:232 | fit_round 20 received 4 results and 0 failures\n",
            "DEBUG:flwr:fit_round 20 received 4 results and 0 failures\n",
            "DEBUG flwr 2023-06-08 16:03:07,688 | server.py:168 | evaluate_round 20: strategy sampled 3 clients (out of 4)\n",
            "DEBUG:flwr:evaluate_round 20: strategy sampled 3 clients (out of 4)\n",
            "DEBUG flwr 2023-06-08 16:03:07,904 | server.py:182 | evaluate_round 20 received 3 results and 0 failures\n",
            "DEBUG:flwr:evaluate_round 20 received 3 results and 0 failures\n",
            "DEBUG flwr 2023-06-08 16:03:07,909 | server.py:218 | fit_round 21: strategy sampled 4 clients (out of 4)\n",
            "DEBUG:flwr:fit_round 21: strategy sampled 4 clients (out of 4)\n"
          ]
        },
        {
          "metadata": {
            "tags": null
          },
          "name": "stdout",
          "output_type": "stream",
          "text": [
            "\u001b[2m\u001b[36m(launch_and_evaluate pid=66074)\u001b[0m [Client 1] evaluate, config: {}\n",
            "\u001b[2m\u001b[36m(launch_and_fit pid=66074)\u001b[0m [Client 2] fit, config: {}\n",
            "\u001b[2m\u001b[36m(launch_and_fit pid=66075)\u001b[0m Epoch 3: train loss 0.0006831538630649447, accuracy 0.9857239972807614\u001b[32m [repeated 15x across cluster]\u001b[0m\n",
            "\u001b[2m\u001b[36m(launch_and_evaluate pid=66074)\u001b[0m [Client 3] evaluate, config: {}\u001b[32m [repeated 2x across cluster]\u001b[0m\n",
            "\u001b[2m\u001b[36m(launch_and_fit pid=66075)\u001b[0m Epoch 9: train loss 0.0008293213322758675, accuracy 0.981645139360979\n",
            "\u001b[2m\u001b[36m(launch_and_fit pid=66075)\u001b[0m Epoch 12: train loss 0.0002445880963932723, accuracy 0.9932019034670292\u001b[32m [repeated 18x across cluster]\u001b[0m\n",
            "\u001b[2m\u001b[36m(launch_and_fit pid=66074)\u001b[0m Epoch 18: train loss 0.00035021448275074363, accuracy 0.9925220938137321\u001b[32m [repeated 10x across cluster]\u001b[0m\n",
            "\u001b[2m\u001b[36m(launch_and_fit pid=66075)\u001b[0m Epoch 27: train loss 0.0004403959901537746, accuracy 0.9877634262406526\u001b[32m [repeated 20x across cluster]\u001b[0m\n",
            "\u001b[2m\u001b[36m(launch_and_fit pid=66074)\u001b[0m Epoch 37: train loss 0.00025772509980015457, accuracy 0.9952413324269205\u001b[32m [repeated 18x across cluster]\u001b[0m\n",
            "\u001b[2m\u001b[36m(launch_and_fit pid=66075)\u001b[0m Epoch 41: train loss 0.0003759430255740881, accuracy 0.990482664853841\u001b[32m [repeated 11x across cluster]\u001b[0m\n",
            "\u001b[2m\u001b[36m(launch_and_fit pid=66074)\u001b[0m [Client 0] fit, config: {}\n",
            "\u001b[2m\u001b[36m(launch_and_fit pid=66075)\u001b[0m Epoch 50: train loss 0.00023463756951969117, accuracy 0.9959211420802175\u001b[32m [repeated 18x across cluster]\u001b[0m\n",
            "\u001b[2m\u001b[36m(launch_and_fit pid=66075)\u001b[0m Epoch 7: train loss 0.0009530516690574586, accuracy 0.9864038069340585\n",
            "\u001b[2m\u001b[36m(launch_and_fit pid=66075)\u001b[0m Epoch 9: train loss 0.0008624190813861787, accuracy 0.9870836165873556\u001b[32m [repeated 18x across cluster]\u001b[0m\n",
            "\u001b[2m\u001b[36m(launch_and_fit pid=66074)\u001b[0m Epoch 17: train loss 0.0008453081827610731, accuracy 0.9775662814411965\u001b[32m [repeated 13x across cluster]\u001b[0m\n",
            "\u001b[2m\u001b[36m(launch_and_fit pid=66075)\u001b[0m Epoch 25: train loss 0.00027835858054459095, accuracy 0.9959211420802175\u001b[32m [repeated 19x across cluster]\u001b[0m\n",
            "\u001b[2m\u001b[36m(launch_and_fit pid=66074)\u001b[0m Epoch 34: train loss 0.0004184004501439631, accuracy 0.9877634262406526\u001b[32m [repeated 15x across cluster]\u001b[0m\n",
            "\u001b[2m\u001b[36m(launch_and_fit pid=66074)\u001b[0m Epoch 41: train loss 0.0004574514168780297, accuracy 0.9870836165873556\u001b[32m [repeated 14x across cluster]\u001b[0m\n",
            "\u001b[2m\u001b[36m(launch_and_fit pid=66074)\u001b[0m Epoch 50: train loss 0.0004923807573504746, accuracy 0.9857239972807614\u001b[32m [repeated 19x across cluster]\u001b[0m\n"
          ]
        },
        {
          "metadata": {
            "tags": null
          },
          "name": "stderr",
          "output_type": "stream",
          "text": [
            "DEBUG flwr 2023-06-08 16:04:13,462 | server.py:232 | fit_round 21 received 4 results and 0 failures\n",
            "DEBUG:flwr:fit_round 21 received 4 results and 0 failures\n",
            "DEBUG flwr 2023-06-08 16:04:13,497 | server.py:168 | evaluate_round 21: strategy sampled 3 clients (out of 4)\n",
            "DEBUG:flwr:evaluate_round 21: strategy sampled 3 clients (out of 4)\n",
            "DEBUG flwr 2023-06-08 16:04:13,767 | server.py:182 | evaluate_round 21 received 3 results and 0 failures\n",
            "DEBUG:flwr:evaluate_round 21 received 3 results and 0 failures\n",
            "DEBUG flwr 2023-06-08 16:04:13,771 | server.py:218 | fit_round 22: strategy sampled 4 clients (out of 4)\n",
            "DEBUG:flwr:fit_round 22: strategy sampled 4 clients (out of 4)\n"
          ]
        },
        {
          "metadata": {
            "tags": null
          },
          "name": "stdout",
          "output_type": "stream",
          "text": [
            "\u001b[2m\u001b[36m(launch_and_evaluate pid=66074)\u001b[0m [Client 3] evaluate, config: {}\n",
            "\u001b[2m\u001b[36m(launch_and_evaluate pid=66074)\u001b[0m [Client 1] evaluate, config: {}\n",
            "\u001b[2m\u001b[36m(launch_and_fit pid=66074)\u001b[0m [Client 3] fit, config: {}\n",
            "\u001b[2m\u001b[36m(launch_and_fit pid=66074)\u001b[0m Epoch 5: train loss 0.0004336513811722398, accuracy 0.9877634262406526\u001b[32m [repeated 11x across cluster]\u001b[0m\n",
            "\u001b[2m\u001b[36m(launch_and_evaluate pid=66075)\u001b[0m Epoch 6: train loss 0.00014054602070245892, accuracy 0.9972807613868117\n",
            "\u001b[2m\u001b[36m(launch_and_fit pid=66075)\u001b[0m Epoch 6: train loss 0.00014054602070245892, accuracy 0.9972807613868117\n",
            "\u001b[2m\u001b[36m(launch_and_fit pid=66075)\u001b[0m Epoch 12: train loss 0.0001070643265848048, accuracy 0.9979605710401088\u001b[32m [repeated 13x across cluster]\u001b[0m\n",
            "\u001b[2m\u001b[36m(launch_and_fit pid=66075)\u001b[0m Epoch 21: train loss 8.359728963114321e-05, accuracy 0.9979605710401088\u001b[32m [repeated 18x across cluster]\u001b[0m\n",
            "\u001b[2m\u001b[36m(launch_and_fit pid=66075)\u001b[0m Epoch 28: train loss 5.307268293108791e-05, accuracy 0.9993201903467029\u001b[32m [repeated 14x across cluster]\u001b[0m\n",
            "\u001b[2m\u001b[36m(launch_and_fit pid=66074)\u001b[0m Epoch 34: train loss 0.00013281729479786009, accuracy 0.9966009517335146\u001b[32m [repeated 13x across cluster]\u001b[0m\n",
            "\u001b[2m\u001b[36m(launch_and_fit pid=66075)\u001b[0m Epoch 44: train loss 4.279767017578706e-05, accuracy 1.0\u001b[32m [repeated 18x across cluster]\u001b[0m\n",
            "\u001b[2m\u001b[36m(launch_and_fit pid=66075)\u001b[0m [Client 0] fit, config: {}\n",
            "\u001b[2m\u001b[36m(launch_and_fit pid=66075)\u001b[0m Epoch 1: train loss 0.0014069774188101292, accuracy 0.9809653297076818\u001b[32m [repeated 14x across cluster]\u001b[0m\n",
            "\u001b[2m\u001b[36m(launch_and_fit pid=66074)\u001b[0m Epoch 7: train loss 0.00038691985537298024, accuracy 0.991162474507138\n",
            "\u001b[2m\u001b[36m(launch_and_fit pid=66074)\u001b[0m Epoch 8: train loss 0.000431862601544708, accuracy 0.9898028552005439\u001b[32m [repeated 16x across cluster]\u001b[0m\n",
            "\u001b[2m\u001b[36m(launch_and_fit pid=66075)\u001b[0m Epoch 18: train loss 0.0002787509292829782, accuracy 0.9925220938137321\u001b[32m [repeated 19x across cluster]\u001b[0m\n",
            "\u001b[2m\u001b[36m(launch_and_fit pid=66074)\u001b[0m Epoch 24: train loss 0.00034154526656493545, accuracy 0.9918422841604351\u001b[32m [repeated 13x across cluster]\u001b[0m\n",
            "\u001b[2m\u001b[36m(launch_and_fit pid=66074)\u001b[0m Epoch 32: train loss 0.0015563881024718285, accuracy 0.981645139360979\u001b[32m [repeated 16x across cluster]\u001b[0m\n",
            "\u001b[2m\u001b[36m(launch_and_fit pid=66074)\u001b[0m Epoch 42: train loss 0.0005145826144143939, accuracy 0.9870836165873556\u001b[32m [repeated 20x across cluster]\u001b[0m\n",
            "\u001b[2m\u001b[36m(launch_and_fit pid=66074)\u001b[0m Epoch 48: train loss 0.0006448281346820295, accuracy 0.9843643779741672\u001b[32m [repeated 12x across cluster]\u001b[0m\n"
          ]
        },
        {
          "metadata": {
            "tags": null
          },
          "name": "stderr",
          "output_type": "stream",
          "text": [
            "DEBUG flwr 2023-06-08 16:05:22,699 | server.py:232 | fit_round 22 received 4 results and 0 failures\n",
            "DEBUG:flwr:fit_round 22 received 4 results and 0 failures\n",
            "DEBUG flwr 2023-06-08 16:05:22,730 | server.py:168 | evaluate_round 22: strategy sampled 3 clients (out of 4)\n",
            "DEBUG:flwr:evaluate_round 22: strategy sampled 3 clients (out of 4)\n",
            "DEBUG flwr 2023-06-08 16:05:22,964 | server.py:182 | evaluate_round 22 received 3 results and 0 failures\n",
            "DEBUG:flwr:evaluate_round 22 received 3 results and 0 failures\n",
            "DEBUG flwr 2023-06-08 16:05:22,969 | server.py:218 | fit_round 23: strategy sampled 4 clients (out of 4)\n",
            "DEBUG:flwr:fit_round 23: strategy sampled 4 clients (out of 4)\n"
          ]
        },
        {
          "metadata": {
            "tags": null
          },
          "name": "stdout",
          "output_type": "stream",
          "text": [
            "\u001b[2m\u001b[36m(launch_and_evaluate pid=66074)\u001b[0m [Client 0] evaluate, config: {}\n",
            "\u001b[2m\u001b[36m(launch_and_fit pid=66074)\u001b[0m [Client 1] fit, config: {}\n",
            "\u001b[2m\u001b[36m(launch_and_fit pid=66074)\u001b[0m Epoch 5: train loss 0.0010011300910264254, accuracy 0.9884432358939497\u001b[32m [repeated 13x across cluster]\u001b[0m\n",
            "\u001b[2m\u001b[36m(launch_and_evaluate pid=66075)\u001b[0m [Client 3] evaluate, config: {}\u001b[32m [repeated 2x across cluster]\u001b[0m\n",
            "\u001b[2m\u001b[36m(launch_and_fit pid=66075)\u001b[0m Epoch 10: train loss 0.0005079598631709814, accuracy 0.9925220938137321\n",
            "\u001b[2m\u001b[36m(launch_and_fit pid=66074)\u001b[0m Epoch 15: train loss 0.0003607826947700232, accuracy 0.9952413324269205\u001b[32m [repeated 19x across cluster]\u001b[0m\n",
            "\u001b[2m\u001b[36m(launch_and_fit pid=66075)\u001b[0m Epoch 19: train loss 6.831204518675804e-05, accuracy 0.9993201903467029\u001b[32m [repeated 12x across cluster]\u001b[0m\n",
            "\u001b[2m\u001b[36m(launch_and_fit pid=66074)\u001b[0m Epoch 30: train loss 0.00024209180264733732, accuracy 0.9979605710401088\u001b[32m [repeated 16x across cluster]\u001b[0m\n",
            "\u001b[2m\u001b[36m(launch_and_fit pid=66075)\u001b[0m Epoch 36: train loss 3.8939622754696757e-05, accuracy 1.0\u001b[32m [repeated 19x across cluster]\u001b[0m\n",
            "\u001b[2m\u001b[36m(launch_and_fit pid=66075)\u001b[0m Epoch 40: train loss 4.010056363767944e-05, accuracy 1.0\u001b[32m [repeated 9x across cluster]\u001b[0m\n",
            "\u001b[2m\u001b[36m(launch_and_fit pid=66075)\u001b[0m Epoch 44: train loss 3.285475759184919e-05, accuracy 1.0\u001b[32m [repeated 8x across cluster]\u001b[0m\n",
            "\u001b[2m\u001b[36m(launch_and_fit pid=66074)\u001b[0m [Client 0] fit, config: {}\n",
            "\u001b[2m\u001b[36m(launch_and_fit pid=66074)\u001b[0m Epoch 7: train loss 0.000821369350887835, accuracy 0.9768864717878993\u001b[32m [repeated 16x across cluster]\u001b[0m\n",
            "\u001b[2m\u001b[36m(launch_and_fit pid=66075)\u001b[0m Epoch 4: train loss 0.000243825648794882, accuracy 0.9952413324269205\n",
            "\u001b[2m\u001b[36m(launch_and_fit pid=66074)\u001b[0m Epoch 16: train loss 0.0006939158192835748, accuracy 0.9836845683208701\u001b[32m [repeated 18x across cluster]\u001b[0m\n",
            "\u001b[2m\u001b[36m(launch_and_fit pid=66074)\u001b[0m Epoch 21: train loss 0.0007884549559094012, accuracy 0.9843643779741672\u001b[32m [repeated 10x across cluster]\u001b[0m\n",
            "\u001b[2m\u001b[36m(launch_and_fit pid=66075)\u001b[0m Epoch 25: train loss 0.0007495470927096903, accuracy 0.9836845683208701\u001b[32m [repeated 19x across cluster]\u001b[0m\n",
            "\u001b[2m\u001b[36m(launch_and_fit pid=66074)\u001b[0m Epoch 40: train loss 0.00019105503452010453, accuracy 0.9966009517335146\u001b[32m [repeated 19x across cluster]\u001b[0m\n",
            "\u001b[2m\u001b[36m(launch_and_fit pid=66074)\u001b[0m Epoch 46: train loss 0.0001522561942692846, accuracy 0.9966009517335146\u001b[32m [repeated 12x across cluster]\u001b[0m\n"
          ]
        },
        {
          "metadata": {
            "tags": null
          },
          "name": "stderr",
          "output_type": "stream",
          "text": [
            "DEBUG flwr 2023-06-08 16:06:33,605 | server.py:232 | fit_round 23 received 4 results and 0 failures\n",
            "DEBUG:flwr:fit_round 23 received 4 results and 0 failures\n",
            "DEBUG flwr 2023-06-08 16:06:33,635 | server.py:168 | evaluate_round 23: strategy sampled 3 clients (out of 4)\n",
            "DEBUG:flwr:evaluate_round 23: strategy sampled 3 clients (out of 4)\n",
            "DEBUG flwr 2023-06-08 16:06:33,873 | server.py:182 | evaluate_round 23 received 3 results and 0 failures\n",
            "DEBUG:flwr:evaluate_round 23 received 3 results and 0 failures\n",
            "DEBUG flwr 2023-06-08 16:06:33,882 | server.py:218 | fit_round 24: strategy sampled 4 clients (out of 4)\n",
            "DEBUG:flwr:fit_round 24: strategy sampled 4 clients (out of 4)\n"
          ]
        },
        {
          "metadata": {
            "tags": null
          },
          "name": "stdout",
          "output_type": "stream",
          "text": [
            "\u001b[2m\u001b[36m(launch_and_evaluate pid=66074)\u001b[0m [Client 0] evaluate, config: {}\n",
            "\u001b[2m\u001b[36m(launch_and_fit pid=66074)\u001b[0m [Client 0] fit, config: {}\n",
            "\u001b[2m\u001b[36m(launch_and_fit pid=66074)\u001b[0m Epoch 1: train loss 0.0008518219110555947, accuracy 0.9843643779741672\u001b[32m [repeated 15x across cluster]\u001b[0m\n",
            "\u001b[2m\u001b[36m(launch_and_evaluate pid=66075)\u001b[0m [Client 3] evaluate, config: {}\u001b[32m [repeated 2x across cluster]\u001b[0m\n",
            "\u001b[2m\u001b[36m(launch_and_fit pid=66075)\u001b[0m Epoch 9: train loss 0.00027792705805040896, accuracy 0.9925220938137321\n",
            "\u001b[2m\u001b[36m(launch_and_fit pid=66075)\u001b[0m Epoch 10: train loss 0.00020481483079493046, accuracy 0.9966009517335146\u001b[32m [repeated 18x across cluster]\u001b[0m\n",
            "\u001b[2m\u001b[36m(launch_and_fit pid=66074)\u001b[0m Epoch 16: train loss 0.0015744116390123963, accuracy 0.9870836165873556\u001b[32m [repeated 13x across cluster]\u001b[0m\n",
            "\u001b[2m\u001b[36m(launch_and_fit pid=66074)\u001b[0m Epoch 26: train loss 0.0001736422855174169, accuracy 0.9959211420802175\u001b[32m [repeated 20x across cluster]\u001b[0m\n",
            "\u001b[2m\u001b[36m(launch_and_fit pid=66074)\u001b[0m Epoch 35: train loss 0.00017414598551113158, accuracy 0.9966009517335146\u001b[32m [repeated 18x across cluster]\u001b[0m\n",
            "\u001b[2m\u001b[36m(launch_and_fit pid=66074)\u001b[0m Epoch 42: train loss 0.00017189179197885096, accuracy 0.9959211420802175\u001b[32m [repeated 14x across cluster]\u001b[0m\n",
            "\u001b[2m\u001b[36m(launch_and_fit pid=66075)\u001b[0m [Client 3] fit, config: {}\n",
            "\u001b[2m\u001b[36m(launch_and_fit pid=66074)\u001b[0m Epoch 2: train loss 0.00114624691195786, accuracy 0.9830047586675731\u001b[32m [repeated 20x across cluster]\u001b[0m\n",
            "\u001b[2m\u001b[36m(launch_and_fit pid=66074)\u001b[0m Epoch 9: train loss 0.000215679217944853, accuracy 0.9945615227736234\n",
            "\u001b[2m\u001b[36m(launch_and_fit pid=66074)\u001b[0m Epoch 10: train loss 8.182710007531568e-05, accuracy 0.9986403806934059\u001b[32m [repeated 16x across cluster]\u001b[0m\n",
            "\u001b[2m\u001b[36m(launch_and_fit pid=66074)\u001b[0m Epoch 18: train loss 3.221551378373988e-05, accuracy 1.0\u001b[32m [repeated 16x across cluster]\u001b[0m\n",
            "\u001b[2m\u001b[36m(launch_and_fit pid=66075)\u001b[0m Epoch 28: train loss 9.374802903039381e-05, accuracy 0.9979605710401088\u001b[32m [repeated 19x across cluster]\u001b[0m\n",
            "\u001b[2m\u001b[36m(launch_and_fit pid=66074)\u001b[0m Epoch 34: train loss 1.6233458154601976e-05, accuracy 1.0\u001b[32m [repeated 13x across cluster]\u001b[0m\n",
            "\u001b[2m\u001b[36m(launch_and_fit pid=66074)\u001b[0m Epoch 43: train loss 1.481627896282589e-05, accuracy 1.0\u001b[32m [repeated 17x across cluster]\u001b[0m\n"
          ]
        },
        {
          "metadata": {
            "tags": null
          },
          "name": "stderr",
          "output_type": "stream",
          "text": [
            "DEBUG flwr 2023-06-08 16:07:36,955 | server.py:232 | fit_round 24 received 4 results and 0 failures\n",
            "DEBUG:flwr:fit_round 24 received 4 results and 0 failures\n",
            "DEBUG flwr 2023-06-08 16:07:36,982 | server.py:168 | evaluate_round 24: strategy sampled 3 clients (out of 4)\n",
            "DEBUG:flwr:evaluate_round 24: strategy sampled 3 clients (out of 4)\n",
            "DEBUG flwr 2023-06-08 16:07:37,214 | server.py:182 | evaluate_round 24 received 3 results and 0 failures\n",
            "DEBUG:flwr:evaluate_round 24 received 3 results and 0 failures\n",
            "DEBUG flwr 2023-06-08 16:07:37,217 | server.py:218 | fit_round 25: strategy sampled 4 clients (out of 4)\n",
            "DEBUG:flwr:fit_round 25: strategy sampled 4 clients (out of 4)\n"
          ]
        },
        {
          "metadata": {
            "tags": null
          },
          "name": "stdout",
          "output_type": "stream",
          "text": [
            "\u001b[2m\u001b[36m(launch_and_evaluate pid=66074)\u001b[0m [Client 3] evaluate, config: {}\n",
            "\u001b[2m\u001b[36m(launch_and_evaluate pid=66074)\u001b[0m [Client 0] evaluate, config: {}\n",
            "\u001b[2m\u001b[36m(launch_and_fit pid=66074)\u001b[0m [Client 3] fit, config: {}\n",
            "\u001b[2m\u001b[36m(launch_and_fit pid=66075)\u001b[0m Epoch 2: train loss 0.00034021015744656324, accuracy 0.9918422841604351\u001b[32m [repeated 18x across cluster]\u001b[0m\n",
            "\u001b[2m\u001b[36m(launch_and_evaluate pid=66075)\u001b[0m Epoch 6: train loss 0.000376142532331869, accuracy 0.9925220938137321\n",
            "\u001b[2m\u001b[36m(launch_and_fit pid=66075)\u001b[0m Epoch 7: train loss 0.0003283922851551324, accuracy 0.9918422841604351\n",
            "\u001b[2m\u001b[36m(launch_and_fit pid=66075)\u001b[0m Epoch 8: train loss 0.0005016279756091535, accuracy 0.9843643779741672\u001b[32m [repeated 12x across cluster]\u001b[0m\n",
            "\u001b[2m\u001b[36m(launch_and_fit pid=66074)\u001b[0m Epoch 17: train loss 4.4714321120409295e-05, accuracy 0.9993201903467029\u001b[32m [repeated 19x across cluster]\u001b[0m\n",
            "\u001b[2m\u001b[36m(launch_and_fit pid=66075)\u001b[0m Epoch 28: train loss 0.00033662031637504697, accuracy 0.990482664853841\u001b[32m [repeated 20x across cluster]\u001b[0m\n",
            "\u001b[2m\u001b[36m(launch_and_fit pid=66074)\u001b[0m Epoch 32: train loss 1.9346041881362908e-05, accuracy 1.0\u001b[32m [repeated 11x across cluster]\u001b[0m\n",
            "\u001b[2m\u001b[36m(launch_and_fit pid=66075)\u001b[0m Epoch 43: train loss 0.0005244086496531963, accuracy 0.9884432358939497\u001b[32m [repeated 19x across cluster]\u001b[0m\n",
            "\u001b[2m\u001b[36m(launch_and_fit pid=66075)\u001b[0m [Client 2] fit, config: {}\n",
            "\u001b[2m\u001b[36m(launch_and_fit pid=66075)\u001b[0m Epoch 2: train loss 0.00039007337181828916, accuracy 0.991162474507138\u001b[32m [repeated 18x across cluster]\u001b[0m\n",
            "\u001b[2m\u001b[36m(launch_and_fit pid=66074)\u001b[0m Epoch 4: train loss 0.0006410633795894682, accuracy 0.9891230455472467\n",
            "\u001b[2m\u001b[36m(launch_and_fit pid=66074)\u001b[0m Epoch 6: train loss 0.0009246635599993169, accuracy 0.9864038069340585\u001b[32m [repeated 11x across cluster]\u001b[0m\n",
            "\u001b[2m\u001b[36m(launch_and_fit pid=66074)\u001b[0m Epoch 16: train loss 0.00020007893908768892, accuracy 0.9972807613868117\u001b[32m [repeated 20x across cluster]\u001b[0m\n",
            "\u001b[2m\u001b[36m(launch_and_fit pid=66074)\u001b[0m Epoch 25: train loss 0.00015851655916776508, accuracy 0.9986403806934059\u001b[32m [repeated 18x across cluster]\u001b[0m\n",
            "\u001b[2m\u001b[36m(launch_and_fit pid=66074)\u001b[0m Epoch 31: train loss 0.00013898957695346326, accuracy 0.9986403806934059\u001b[32m [repeated 11x across cluster]\u001b[0m\n",
            "\u001b[2m\u001b[36m(launch_and_fit pid=66074)\u001b[0m Epoch 41: train loss 8.759785123402253e-05, accuracy 0.9993201903467029\u001b[32m [repeated 20x across cluster]\u001b[0m\n"
          ]
        },
        {
          "metadata": {
            "tags": null
          },
          "name": "stderr",
          "output_type": "stream",
          "text": [
            "DEBUG flwr 2023-06-08 16:08:41,881 | server.py:232 | fit_round 25 received 4 results and 0 failures\n",
            "DEBUG:flwr:fit_round 25 received 4 results and 0 failures\n",
            "DEBUG flwr 2023-06-08 16:08:41,909 | server.py:168 | evaluate_round 25: strategy sampled 3 clients (out of 4)\n",
            "DEBUG:flwr:evaluate_round 25: strategy sampled 3 clients (out of 4)\n"
          ]
        },
        {
          "metadata": {
            "tags": null
          },
          "name": "stdout",
          "output_type": "stream",
          "text": [
            "\u001b[2m\u001b[36m(launch_and_fit pid=66074)\u001b[0m Epoch 50: train loss 4.169396197539754e-05, accuracy 0.9993201903467029\u001b[32m [repeated 18x across cluster]\u001b[0m\n",
            "\u001b[2m\u001b[36m(launch_and_evaluate pid=66074)\u001b[0m [Client 1] evaluate, config: {}\n"
          ]
        },
        {
          "metadata": {
            "tags": null
          },
          "name": "stderr",
          "output_type": "stream",
          "text": [
            "DEBUG flwr 2023-06-08 16:08:42,259 | server.py:182 | evaluate_round 25 received 3 results and 0 failures\n",
            "DEBUG:flwr:evaluate_round 25 received 3 results and 0 failures\n",
            "INFO flwr 2023-06-08 16:08:42,269 | server.py:147 | FL finished in 1611.4080076070004\n",
            "INFO:flwr:FL finished in 1611.4080076070004\n",
            "INFO flwr 2023-06-08 16:08:42,271 | app.py:218 | app_fit: losses_distributed [(1, 0.33060853769300635), (2, 0.1589464123524069), (3, 0.33787465940054495), (4, 0.33242506811989103), (5, 0.33969118982742963), (6, 0.3224341507720254), (7, 0.33605812897366033), (8, 0.33424159854677565), (9, 0.4977293369663942), (10, 0.39782016348773847), (11, 0.5413260672116258), (12, 0.5594913714804723), (13, 0.7184377838328793), (14, 0.8138056312443234), (15, 0.8501362397820164), (16, 0.9291553133514986), (17, 0.8819255222524977), (18, 0.9409627611262488), (19, 0.9336966394187102), (20, 0.9464123524069028), (21, 0.9464123524069028), (22, 0.9418710263396911), (23, 0.9391462306993641), (24, 0.9436875567665758), (25, 0.9346049046321525)]\n",
            "INFO:flwr:app_fit: losses_distributed [(1, 0.33060853769300635), (2, 0.1589464123524069), (3, 0.33787465940054495), (4, 0.33242506811989103), (5, 0.33969118982742963), (6, 0.3224341507720254), (7, 0.33605812897366033), (8, 0.33424159854677565), (9, 0.4977293369663942), (10, 0.39782016348773847), (11, 0.5413260672116258), (12, 0.5594913714804723), (13, 0.7184377838328793), (14, 0.8138056312443234), (15, 0.8501362397820164), (16, 0.9291553133514986), (17, 0.8819255222524977), (18, 0.9409627611262488), (19, 0.9336966394187102), (20, 0.9464123524069028), (21, 0.9464123524069028), (22, 0.9418710263396911), (23, 0.9391462306993641), (24, 0.9436875567665758), (25, 0.9346049046321525)]\n",
            "INFO flwr 2023-06-08 16:08:42,273 | app.py:219 | app_fit: metrics_distributed_fit {}\n",
            "INFO:flwr:app_fit: metrics_distributed_fit {}\n",
            "INFO flwr 2023-06-08 16:08:42,275 | app.py:220 | app_fit: metrics_distributed {}\n",
            "INFO:flwr:app_fit: metrics_distributed {}\n",
            "INFO flwr 2023-06-08 16:08:42,277 | app.py:221 | app_fit: losses_centralized []\n",
            "INFO:flwr:app_fit: losses_centralized []\n",
            "INFO flwr 2023-06-08 16:08:42,279 | app.py:222 | app_fit: metrics_centralized {}\n",
            "INFO:flwr:app_fit: metrics_centralized {}\n"
          ]
        },
        {
          "data": {
            "image/png": "[encoded data removed]",
            "text/plain": [
              "<Figure size 640x480 with 1 Axes>"
            ]
          },
          "metadata": {},
          "output_type": "display_data"
        },
        {
          "metadata": {
            "tags": null
          },
          "name": "stderr",
          "output_type": "stream",
          "text": [
            "INFO flwr 2023-06-08 16:08:43,198 | app.py:146 | Starting Flower simulation, config: ServerConfig(num_rounds=25, round_timeout=None)\n",
            "INFO:flwr:Starting Flower simulation, config: ServerConfig(num_rounds=25, round_timeout=None)\n"
          ]
        },
        {
          "metadata": {
            "tags": null
          },
          "name": "stdout",
          "output_type": "stream",
          "text": [
            "\n",
            "Analyzing Strategy... :  Fedadam\n",
            "\u001b[2m\u001b[36m(launch_and_evaluate pid=66074)\u001b[0m [Client 0] evaluate, config: {}\u001b[32m [repeated 2x across cluster]\u001b[0m\n"
          ]
        },
        {
          "metadata": {
            "tags": null
          },
          "name": "stderr",
          "output_type": "stream",
          "text": [
            "\u001b[2m\u001b[36m(pid=66075)\u001b[0m 2023-06-08 15:41:53.347115: W tensorflow/compiler/tf2tensorrt/utils/py_utils.cc:38] TF-TRT Warning: Could not find TensorRT\n",
            "2023-06-08 16:08:48,729\tINFO worker.py:1625 -- Started a local Ray instance.\n",
            "INFO flwr 2023-06-08 16:08:50,382 | app.py:180 | Flower VCE: Ray initialized with resources: {'node:172.28.0.12': 1.0, 'CPU': 2.0, 'memory': 7845548852.0, 'GPU': 1.0, 'object_store_memory': 3922774425.0}\n",
            "INFO:flwr:Flower VCE: Ray initialized with resources: {'node:172.28.0.12': 1.0, 'CPU': 2.0, 'memory': 7845548852.0, 'GPU': 1.0, 'object_store_memory': 3922774425.0}\n",
            "INFO flwr 2023-06-08 16:08:50,394 | server.py:86 | Initializing global parameters\n",
            "INFO:flwr:Initializing global parameters\n",
            "INFO flwr 2023-06-08 16:08:50,399 | server.py:269 | Using initial parameters provided by strategy\n",
            "INFO:flwr:Using initial parameters provided by strategy\n",
            "INFO flwr 2023-06-08 16:08:50,410 | server.py:88 | Evaluating initial parameters\n",
            "INFO:flwr:Evaluating initial parameters\n",
            "INFO flwr 2023-06-08 16:08:50,411 | server.py:101 | FL starting\n",
            "INFO:flwr:FL starting\n",
            "DEBUG flwr 2023-06-08 16:08:50,418 | server.py:218 | fit_round 1: strategy sampled 4 clients (out of 4)\n",
            "DEBUG:flwr:fit_round 1: strategy sampled 4 clients (out of 4)\n",
            "\u001b[2m\u001b[36m(pid=78560)\u001b[0m 2023-06-08 16:08:52.722504: W tensorflow/compiler/tf2tensorrt/utils/py_utils.cc:38] TF-TRT Warning: Could not find TensorRT\n"
          ]
        },
        {
          "metadata": {
            "tags": null
          },
          "name": "stdout",
          "output_type": "stream",
          "text": [
            "\u001b[2m\u001b[36m(launch_and_fit pid=78560)\u001b[0m [Client 0] fit, config: {}\n",
            "\u001b[2m\u001b[36m(launch_and_fit pid=78560)\u001b[0m Epoch 1: train loss 0.025287846103310585, accuracy 0.3834126444595513\n",
            "\u001b[2m\u001b[36m(launch_and_fit pid=78561)\u001b[0m Epoch 15: train loss 0.004523782525211573, accuracy 0.9048266485384092\n",
            "\u001b[2m\u001b[36m(launch_and_fit pid=78561)\u001b[0m Epoch 16: train loss 0.004263606853783131, accuracy 0.9068660774983005\u001b[32m [repeated 31x across cluster]\u001b[0m\n",
            "\u001b[2m\u001b[36m(launch_and_fit pid=78560)\u001b[0m Epoch 31: train loss 0.0019592943135648966, accuracy 0.964649898028552\u001b[32m [repeated 29x across cluster]\u001b[0m\n",
            "\u001b[2m\u001b[36m(launch_and_fit pid=78560)\u001b[0m Epoch 39: train loss 0.0014542128192260861, accuracy 0.9755268524813052\u001b[32m [repeated 15x across cluster]\u001b[0m\n",
            "\u001b[2m\u001b[36m(launch_and_fit pid=78560)\u001b[0m [Client 1] fit, config: {}\n",
            "\u001b[2m\u001b[36m(launch_and_fit pid=78560)\u001b[0m Epoch 3: train loss 0.015523104928433895, accuracy 0.7450713800135962\u001b[32m [repeated 27x across cluster]\u001b[0m\n",
            "\u001b[2m\u001b[36m(launch_and_fit pid=78561)\u001b[0m Epoch 13: train loss 0.0051866937428712845, accuracy 0.8966689326988443\n",
            "\u001b[2m\u001b[36m(launch_and_fit pid=78560)\u001b[0m Epoch 18: train loss 0.003642058465629816, accuracy 0.9225016995241332\u001b[32m [repeated 30x across cluster]\u001b[0m\n",
            "\u001b[2m\u001b[36m(launch_and_fit pid=78560)\u001b[0m Epoch 27: train loss 0.0023915187921375036, accuracy 0.9524133242692047\u001b[32m [repeated 18x across cluster]\u001b[0m\n",
            "\u001b[2m\u001b[36m(launch_and_fit pid=78560)\u001b[0m Epoch 41: train loss 0.0014665225753560662, accuracy 0.9700883752549286\u001b[32m [repeated 28x across cluster]\u001b[0m\n"
          ]
        },
        {
          "metadata": {
            "tags": null
          },
          "name": "stderr",
          "output_type": "stream",
          "text": [
            "DEBUG flwr 2023-06-08 16:09:40,174 | server.py:232 | fit_round 1 received 4 results and 0 failures\n",
            "DEBUG:flwr:fit_round 1 received 4 results and 0 failures\n",
            "WARNING flwr 2023-06-08 16:09:40,202 | fedavg.py:243 | No fit_metrics_aggregation_fn provided\n",
            "WARNING:flwr:No fit_metrics_aggregation_fn provided\n",
            "DEBUG flwr 2023-06-08 16:09:40,217 | server.py:168 | evaluate_round 1: strategy sampled 3 clients (out of 4)\n",
            "DEBUG:flwr:evaluate_round 1: strategy sampled 3 clients (out of 4)\n",
            "DEBUG flwr 2023-06-08 16:09:40,500 | server.py:182 | evaluate_round 1 received 3 results and 0 failures\n",
            "DEBUG:flwr:evaluate_round 1 received 3 results and 0 failures\n",
            "WARNING flwr 2023-06-08 16:09:40,514 | fedavg.py:274 | No evaluate_metrics_aggregation_fn provided\n",
            "WARNING:flwr:No evaluate_metrics_aggregation_fn provided\n",
            "DEBUG flwr 2023-06-08 16:09:40,516 | server.py:218 | fit_round 2: strategy sampled 4 clients (out of 4)\n",
            "DEBUG:flwr:fit_round 2: strategy sampled 4 clients (out of 4)\n"
          ]
        },
        {
          "metadata": {
            "tags": null
          },
          "name": "stdout",
          "output_type": "stream",
          "text": [
            "\u001b[2m\u001b[36m(launch_and_evaluate pid=78561)\u001b[0m [Client 1] evaluate, config: {}\n",
            "\u001b[2m\u001b[36m(launch_and_fit pid=78561)\u001b[0m [Client 2] fit, config: {}\n",
            "\u001b[2m\u001b[36m(launch_and_fit pid=78561)\u001b[0m Epoch 2: train loss 6.072853088378906, accuracy 0.5173351461590755\u001b[32m [repeated 24x across cluster]\u001b[0m\n",
            "\u001b[2m\u001b[36m(launch_and_evaluate pid=78561)\u001b[0m [Client 2] evaluate, config: {}\u001b[32m [repeated 2x across cluster]\u001b[0m\n",
            "\u001b[2m\u001b[36m(launch_and_fit pid=78560)\u001b[0m Epoch 7: train loss 0.0765429213643074, accuracy 0.9503738953093134\n",
            "\u001b[2m\u001b[36m(launch_and_fit pid=78561)\u001b[0m Epoch 9: train loss 0.07230735570192337, accuracy 0.946974847042828\u001b[32m [repeated 14x across cluster]\u001b[0m\n",
            "\u001b[2m\u001b[36m(launch_and_fit pid=78560)\u001b[0m Epoch 21: train loss 0.0498262383043766, accuracy 0.9578518014955812\u001b[32m [repeated 24x across cluster]\u001b[0m\n",
            "\u001b[2m\u001b[36m(launch_and_fit pid=78561)\u001b[0m Epoch 32: train loss 0.04966406524181366, accuracy 0.9524133242692047\u001b[32m [repeated 22x across cluster]\u001b[0m\n",
            "\u001b[2m\u001b[36m(launch_and_fit pid=78561)\u001b[0m Epoch 39: train loss 0.045809969305992126, accuracy 0.9544527532290958\u001b[32m [repeated 14x across cluster]\u001b[0m\n",
            "\u001b[2m\u001b[36m(launch_and_fit pid=78561)\u001b[0m [Client 0] fit, config: {}\n",
            "\u001b[2m\u001b[36m(launch_and_fit pid=78561)\u001b[0m Epoch 1: train loss 16.090145111083984, accuracy 0.40720598232494903\u001b[32m [repeated 23x across cluster]\u001b[0m\n",
            "\u001b[2m\u001b[36m(launch_and_fit pid=78560)\u001b[0m Epoch 11: train loss 0.06446319073438644, accuracy 0.9422161794697484\n",
            "\u001b[2m\u001b[36m(launch_and_fit pid=78561)\u001b[0m Epoch 11: train loss 0.06446319073438644, accuracy 0.9422161794697484\u001b[32m [repeated 21x across cluster]\u001b[0m\n",
            "\u001b[2m\u001b[36m(launch_and_fit pid=78560)\u001b[0m Epoch 19: train loss 0.05069330707192421, accuracy 0.95581237253569\u001b[32m [repeated 16x across cluster]\u001b[0m\n",
            "\u001b[2m\u001b[36m(launch_and_fit pid=78561)\u001b[0m Epoch 31: train loss 0.05083157494664192, accuracy 0.9524133242692047\u001b[32m [repeated 24x across cluster]\u001b[0m\n",
            "\u001b[2m\u001b[36m(launch_and_fit pid=78561)\u001b[0m Epoch 40: train loss 0.04835417866706848, accuracy 0.9530931339225017\u001b[32m [repeated 18x across cluster]\u001b[0m\n",
            "\u001b[2m\u001b[36m(launch_and_fit pid=78561)\u001b[0m Epoch 49: train loss 0.041039761155843735, accuracy 0.9578518014955812\u001b[32m [repeated 18x across cluster]\u001b[0m\n"
          ]
        },
        {
          "metadata": {
            "tags": null
          },
          "name": "stderr",
          "output_type": "stream",
          "text": [
            "DEBUG flwr 2023-06-08 16:10:35,004 | server.py:232 | fit_round 2 received 4 results and 0 failures\n",
            "DEBUG:flwr:fit_round 2 received 4 results and 0 failures\n",
            "DEBUG flwr 2023-06-08 16:10:35,041 | server.py:168 | evaluate_round 2: strategy sampled 3 clients (out of 4)\n",
            "DEBUG:flwr:evaluate_round 2: strategy sampled 3 clients (out of 4)\n",
            "DEBUG flwr 2023-06-08 16:10:35,276 | server.py:182 | evaluate_round 2 received 3 results and 0 failures\n",
            "DEBUG:flwr:evaluate_round 2 received 3 results and 0 failures\n",
            "DEBUG flwr 2023-06-08 16:10:35,281 | server.py:218 | fit_round 3: strategy sampled 4 clients (out of 4)\n",
            "DEBUG:flwr:fit_round 3: strategy sampled 4 clients (out of 4)\n"
          ]
        },
        {
          "metadata": {
            "tags": null
          },
          "name": "stdout",
          "output_type": "stream",
          "text": [
            "\u001b[2m\u001b[36m(launch_and_evaluate pid=78561)\u001b[0m [Client 2] evaluate, config: {}\n",
            "\u001b[2m\u001b[36m(launch_and_fit pid=78561)\u001b[0m [Client 2] fit, config: {}\n",
            "\u001b[2m\u001b[36m(launch_and_fit pid=78561)\u001b[0m Epoch 11: train loss 321.13897705078125, accuracy 0.460231135282121\u001b[32m [repeated 25x across cluster]\u001b[0m\n",
            "\u001b[2m\u001b[36m(launch_and_evaluate pid=78560)\u001b[0m [Client 0] evaluate, config: {}\u001b[32m [repeated 2x across cluster]\u001b[0m\n",
            "\u001b[2m\u001b[36m(launch_and_fit pid=78560)\u001b[0m Epoch 14: train loss 261.13494873046875, accuracy 0.4677090414683889\n",
            "\u001b[2m\u001b[36m(launch_and_fit pid=78561)\u001b[0m Epoch 22: train loss 116.7388687133789, accuracy 0.4724677090414684\u001b[32m [repeated 22x across cluster]\u001b[0m\n",
            "\u001b[2m\u001b[36m(launch_and_fit pid=78560)\u001b[0m Epoch 33: train loss 4.190481662750244, accuracy 0.8470428280081577\u001b[32m [repeated 21x across cluster]\u001b[0m\n",
            "\u001b[2m\u001b[36m(launch_and_fit pid=78560)\u001b[0m Epoch 47: train loss 0.39594566822052, accuracy 0.9354180829367778\u001b[32m [repeated 28x across cluster]\u001b[0m\n",
            "\u001b[2m\u001b[36m(launch_and_fit pid=78560)\u001b[0m [Client 3] fit, config: {}\n",
            "\u001b[2m\u001b[36m(launch_and_fit pid=78560)\u001b[0m Epoch 8: train loss 390.54779052734375, accuracy 0.47314751869476546\u001b[32m [repeated 22x across cluster]\u001b[0m\n",
            "\u001b[2m\u001b[36m(launch_and_fit pid=78561)\u001b[0m Epoch 10: train loss 344.7510986328125, accuracy 0.46430999320190347\n",
            "\u001b[2m\u001b[36m(launch_and_fit pid=78560)\u001b[0m Epoch 18: train loss 190.52285766601562, accuracy 0.46498980285520053\u001b[32m [repeated 20x across cluster]\u001b[0m\n",
            "\u001b[2m\u001b[36m(launch_and_fit pid=78561)\u001b[0m Epoch 27: train loss 39.42681884765625, accuracy 0.5635622025832767\u001b[32m [repeated 19x across cluster]\u001b[0m\n",
            "\u001b[2m\u001b[36m(launch_and_fit pid=78561)\u001b[0m Epoch 38: train loss 0.9408987164497375, accuracy 0.919782460910945\u001b[32m [repeated 22x across cluster]\u001b[0m\n",
            "\u001b[2m\u001b[36m(launch_and_fit pid=78561)\u001b[0m Epoch 49: train loss 0.45046377182006836, accuracy 0.9354180829367778\u001b[32m [repeated 22x across cluster]\u001b[0m\n"
          ]
        },
        {
          "metadata": {
            "tags": null
          },
          "name": "stderr",
          "output_type": "stream",
          "text": [
            "DEBUG flwr 2023-06-08 16:11:21,359 | server.py:232 | fit_round 3 received 4 results and 0 failures\n",
            "DEBUG:flwr:fit_round 3 received 4 results and 0 failures\n",
            "DEBUG flwr 2023-06-08 16:11:21,387 | server.py:168 | evaluate_round 3: strategy sampled 3 clients (out of 4)\n",
            "DEBUG:flwr:evaluate_round 3: strategy sampled 3 clients (out of 4)\n",
            "DEBUG flwr 2023-06-08 16:11:21,629 | server.py:182 | evaluate_round 3 received 3 results and 0 failures\n",
            "DEBUG:flwr:evaluate_round 3 received 3 results and 0 failures\n",
            "DEBUG flwr 2023-06-08 16:11:21,632 | server.py:218 | fit_round 4: strategy sampled 4 clients (out of 4)\n",
            "DEBUG:flwr:fit_round 4: strategy sampled 4 clients (out of 4)\n"
          ]
        },
        {
          "metadata": {
            "tags": null
          },
          "name": "stdout",
          "output_type": "stream",
          "text": [
            "\u001b[2m\u001b[36m(launch_and_evaluate pid=78561)\u001b[0m [Client 2] evaluate, config: {}\n",
            "\u001b[2m\u001b[36m(launch_and_evaluate pid=78561)\u001b[0m [Client 1] evaluate, config: {}\n",
            "\u001b[2m\u001b[36m(launch_and_fit pid=78561)\u001b[0m [Client 0] fit, config: {}\n",
            "\u001b[2m\u001b[36m(launch_and_fit pid=78561)\u001b[0m Epoch 12: train loss 42.213897705078125, accuracy 0.707681849082257\u001b[32m [repeated 25x across cluster]\u001b[0m\n",
            "\u001b[2m\u001b[36m(launch_and_evaluate pid=78560)\u001b[0m Epoch 14: train loss 29.37984275817871, accuracy 0.7307953772943576\n",
            "\u001b[2m\u001b[36m(launch_and_fit pid=78560)\u001b[0m Epoch 14: train loss 29.37984275817871, accuracy 0.7307953772943576\n",
            "\u001b[2m\u001b[36m(launch_and_fit pid=78560)\u001b[0m Epoch 22: train loss 0.6992528438568115, accuracy 0.9082256968048946\u001b[32m [repeated 21x across cluster]\u001b[0m\n",
            "\u001b[2m\u001b[36m(launch_and_fit pid=78561)\u001b[0m Epoch 34: train loss 0.4073590934276581, accuracy 0.9326988443235894\u001b[32m [repeated 21x across cluster]\u001b[0m\n",
            "\u001b[2m\u001b[36m(launch_and_fit pid=78561)\u001b[0m Epoch 48: train loss 0.27437320351600647, accuracy 0.9483344663494222\u001b[32m [repeated 28x across cluster]\u001b[0m\n",
            "\u001b[2m\u001b[36m(launch_and_fit pid=78561)\u001b[0m [Client 3] fit, config: {}\n",
            "\u001b[2m\u001b[36m(launch_and_fit pid=78561)\u001b[0m Epoch 8: train loss 79.86028289794922, accuracy 0.4262406526172672\u001b[32m [repeated 20x across cluster]\u001b[0m\n",
            "\u001b[2m\u001b[36m(launch_and_fit pid=78560)\u001b[0m Epoch 8: train loss 81.63729858398438, accuracy 0.4276002719238613\n",
            "\u001b[2m\u001b[36m(launch_and_fit pid=78561)\u001b[0m Epoch 19: train loss 1.0563204288482666, accuracy 0.8789938817131203\u001b[32m [repeated 23x across cluster]\u001b[0m\n",
            "\u001b[2m\u001b[36m(launch_and_fit pid=78560)\u001b[0m Epoch 32: train loss 0.48727643489837646, accuracy 0.9299796057104011\u001b[32m [repeated 28x across cluster]\u001b[0m\n",
            "\u001b[2m\u001b[36m(launch_and_fit pid=78561)\u001b[0m Epoch 43: train loss 0.3452294170856476, accuracy 0.9456152277362339\u001b[32m [repeated 21x across cluster]\u001b[0m\n"
          ]
        },
        {
          "metadata": {
            "tags": null
          },
          "name": "stderr",
          "output_type": "stream",
          "text": [
            "DEBUG flwr 2023-06-08 16:12:06,177 | server.py:232 | fit_round 4 received 4 results and 0 failures\n",
            "DEBUG:flwr:fit_round 4 received 4 results and 0 failures\n",
            "DEBUG flwr 2023-06-08 16:12:06,204 | server.py:168 | evaluate_round 4: strategy sampled 3 clients (out of 4)\n",
            "DEBUG:flwr:evaluate_round 4: strategy sampled 3 clients (out of 4)\n",
            "DEBUG flwr 2023-06-08 16:12:06,440 | server.py:182 | evaluate_round 4 received 3 results and 0 failures\n",
            "DEBUG:flwr:evaluate_round 4 received 3 results and 0 failures\n",
            "DEBUG flwr 2023-06-08 16:12:06,447 | server.py:218 | fit_round 5: strategy sampled 4 clients (out of 4)\n",
            "DEBUG:flwr:fit_round 5: strategy sampled 4 clients (out of 4)\n"
          ]
        },
        {
          "metadata": {
            "tags": null
          },
          "name": "stdout",
          "output_type": "stream",
          "text": [
            "\u001b[2m\u001b[36m(launch_and_evaluate pid=78561)\u001b[0m [Client 1] evaluate, config: {}\n",
            "\u001b[2m\u001b[36m(launch_and_fit pid=78561)\u001b[0m [Client 1] fit, config: {}\n",
            "\u001b[2m\u001b[36m(launch_and_fit pid=78561)\u001b[0m Epoch 1: train loss 528.5186767578125, accuracy 0.13528212100611828\u001b[32m [repeated 16x across cluster]\u001b[0m\n",
            "\u001b[2m\u001b[36m(launch_and_evaluate pid=78560)\u001b[0m [Client 3] evaluate, config: {}\u001b[32m [repeated 2x across cluster]\u001b[0m\n",
            "\u001b[2m\u001b[36m(launch_and_fit pid=78560)\u001b[0m Epoch 14: train loss 206.58226013183594, accuracy 0.3161114887831407\n",
            "\u001b[2m\u001b[36m(launch_and_fit pid=78560)\u001b[0m Epoch 16: train loss 181.93157958984375, accuracy 0.3487423521414004\u001b[32m [repeated 30x across cluster]\u001b[0m\n",
            "\u001b[2m\u001b[36m(launch_and_fit pid=78561)\u001b[0m Epoch 27: train loss 91.7786865234375, accuracy 0.44391570360299115\u001b[32m [repeated 22x across cluster]\u001b[0m\n",
            "\u001b[2m\u001b[36m(launch_and_fit pid=78561)\u001b[0m Epoch 38: train loss 21.84048080444336, accuracy 0.6220258327668253\u001b[32m [repeated 22x across cluster]\u001b[0m\n",
            "\u001b[2m\u001b[36m(launch_and_fit pid=78561)\u001b[0m [Client 3] fit, config: {}\n",
            "\u001b[2m\u001b[36m(launch_and_fit pid=78561)\u001b[0m Epoch 2: train loss 487.55694580078125, accuracy 0.1441196464989803\u001b[32m [repeated 28x across cluster]\u001b[0m\n",
            "\u001b[2m\u001b[36m(launch_and_fit pid=78560)\u001b[0m Epoch 12: train loss 238.9990234375, accuracy 0.30659415363698167\n",
            "\u001b[2m\u001b[36m(launch_and_fit pid=78560)\u001b[0m Epoch 13: train loss 223.5491943359375, accuracy 0.30727396329027873\u001b[32m [repeated 22x across cluster]\u001b[0m\n",
            "\u001b[2m\u001b[36m(launch_and_fit pid=78560)\u001b[0m Epoch 24: train loss 114.80709075927734, accuracy 0.4276002719238613\u001b[32m [repeated 22x across cluster]\u001b[0m\n",
            "\u001b[2m\u001b[36m(launch_and_fit pid=78560)\u001b[0m Epoch 38: train loss 24.185056686401367, accuracy 0.6131883072739633\u001b[32m [repeated 27x across cluster]\u001b[0m\n",
            "\u001b[2m\u001b[36m(launch_and_fit pid=78561)\u001b[0m Epoch 47: train loss 0.8007611036300659, accuracy 0.8837525492861998\u001b[32m [repeated 20x across cluster]\u001b[0m\n"
          ]
        },
        {
          "metadata": {
            "tags": null
          },
          "name": "stderr",
          "output_type": "stream",
          "text": [
            "DEBUG flwr 2023-06-08 16:12:50,738 | server.py:232 | fit_round 5 received 4 results and 0 failures\n",
            "DEBUG:flwr:fit_round 5 received 4 results and 0 failures\n",
            "DEBUG flwr 2023-06-08 16:12:50,781 | server.py:168 | evaluate_round 5: strategy sampled 3 clients (out of 4)\n",
            "DEBUG:flwr:evaluate_round 5: strategy sampled 3 clients (out of 4)\n",
            "DEBUG flwr 2023-06-08 16:12:51,068 | server.py:182 | evaluate_round 5 received 3 results and 0 failures\n",
            "DEBUG:flwr:evaluate_round 5 received 3 results and 0 failures\n",
            "DEBUG flwr 2023-06-08 16:12:51,071 | server.py:218 | fit_round 6: strategy sampled 4 clients (out of 4)\n",
            "DEBUG:flwr:fit_round 6: strategy sampled 4 clients (out of 4)\n"
          ]
        },
        {
          "metadata": {
            "tags": null
          },
          "name": "stdout",
          "output_type": "stream",
          "text": [
            "\u001b[2m\u001b[36m(launch_and_evaluate pid=78561)\u001b[0m [Client 3] evaluate, config: {}\n",
            "\u001b[2m\u001b[36m(launch_and_fit pid=78561)\u001b[0m [Client 3] fit, config: {}\n",
            "\u001b[2m\u001b[36m(launch_and_fit pid=78560)\u001b[0m Epoch 7: train loss 72.00362396240234, accuracy 0.611148878314072\u001b[32m [repeated 19x across cluster]\u001b[0m\n",
            "\u001b[2m\u001b[36m(launch_and_evaluate pid=78561)\u001b[0m [Client 2] evaluate, config: {}\u001b[32m [repeated 2x across cluster]\u001b[0m\n",
            "\u001b[2m\u001b[36m(launch_and_fit pid=78560)\u001b[0m Epoch 13: train loss 29.118980407714844, accuracy 0.6261046906866078\n",
            "\u001b[2m\u001b[36m(launch_and_fit pid=78561)\u001b[0m Epoch 20: train loss 2.9684665203094482, accuracy 0.8198504418762746\u001b[32m [repeated 27x across cluster]\u001b[0m\n",
            "\u001b[2m\u001b[36m(launch_and_fit pid=78560)\u001b[0m Epoch 31: train loss 0.4134981632232666, accuracy 0.9367777022433719\u001b[32m [repeated 20x across cluster]\u001b[0m\n",
            "\u001b[2m\u001b[36m(launch_and_fit pid=78561)\u001b[0m Epoch 41: train loss 0.33427694439888, accuracy 0.938137321549966\u001b[32m [repeated 22x across cluster]\u001b[0m\n",
            "\u001b[2m\u001b[36m(launch_and_fit pid=78561)\u001b[0m [Client 1] fit, config: {}\n",
            "\u001b[2m\u001b[36m(launch_and_fit pid=78561)\u001b[0m Epoch 5: train loss 86.55662536621094, accuracy 0.5567641060503059\u001b[32m [repeated 27x across cluster]\u001b[0m\n",
            "\u001b[2m\u001b[36m(launch_and_fit pid=78560)\u001b[0m Epoch 12: train loss 35.76538848876953, accuracy 0.6342624065261727\n",
            "\u001b[2m\u001b[36m(launch_and_fit pid=78561)\u001b[0m Epoch 15: train loss 18.28382110595703, accuracy 0.6573759347382733\u001b[32m [repeated 20x across cluster]\u001b[0m\n",
            "\u001b[2m\u001b[36m(launch_and_fit pid=78560)\u001b[0m Epoch 25: train loss 0.6522310972213745, accuracy 0.9252209381373215\u001b[32m [repeated 22x across cluster]\u001b[0m\n",
            "\u001b[2m\u001b[36m(launch_and_fit pid=78560)\u001b[0m Epoch 39: train loss 0.3408591151237488, accuracy 0.9449354180829368\u001b[32m [repeated 28x across cluster]\u001b[0m\n",
            "\u001b[2m\u001b[36m(launch_and_fit pid=78560)\u001b[0m Epoch 49: train loss 0.308334082365036, accuracy 0.947654656696125\u001b[32m [repeated 20x across cluster]\u001b[0m\n"
          ]
        },
        {
          "metadata": {
            "tags": null
          },
          "name": "stderr",
          "output_type": "stream",
          "text": [
            "DEBUG flwr 2023-06-08 16:13:35,770 | server.py:232 | fit_round 6 received 4 results and 0 failures\n",
            "DEBUG:flwr:fit_round 6 received 4 results and 0 failures\n",
            "DEBUG flwr 2023-06-08 16:13:35,812 | server.py:168 | evaluate_round 6: strategy sampled 3 clients (out of 4)\n",
            "DEBUG:flwr:evaluate_round 6: strategy sampled 3 clients (out of 4)\n",
            "DEBUG flwr 2023-06-08 16:13:36,174 | server.py:182 | evaluate_round 6 received 3 results and 0 failures\n",
            "DEBUG:flwr:evaluate_round 6 received 3 results and 0 failures\n",
            "DEBUG flwr 2023-06-08 16:13:36,180 | server.py:218 | fit_round 7: strategy sampled 4 clients (out of 4)\n",
            "DEBUG:flwr:fit_round 7: strategy sampled 4 clients (out of 4)\n"
          ]
        },
        {
          "metadata": {
            "tags": null
          },
          "name": "stdout",
          "output_type": "stream",
          "text": [
            "\u001b[2m\u001b[36m(launch_and_evaluate pid=78561)\u001b[0m [Client 3] evaluate, config: {}\n",
            "\u001b[2m\u001b[36m(launch_and_fit pid=78560)\u001b[0m [Client 1] fit, config: {}\n",
            "\u001b[2m\u001b[36m(launch_and_fit pid=78561)\u001b[0m Epoch 10: train loss 33.4634895324707, accuracy 0.5853161114887832\u001b[32m [repeated 20x across cluster]\u001b[0m\n",
            "\u001b[2m\u001b[36m(launch_and_evaluate pid=78560)\u001b[0m [Client 2] evaluate, config: {}\u001b[32m [repeated 2x across cluster]\u001b[0m\n",
            "\u001b[2m\u001b[36m(launch_and_fit pid=78561)\u001b[0m Epoch 13: train loss 19.803245544433594, accuracy 0.7946974847042828\n",
            "\u001b[2m\u001b[36m(launch_and_fit pid=78560)\u001b[0m Epoch 23: train loss 2.885058641433716, accuracy 0.8932698844323589\u001b[32m [repeated 27x across cluster]\u001b[0m\n",
            "\u001b[2m\u001b[36m(launch_and_fit pid=78561)\u001b[0m Epoch 33: train loss 0.9015159606933594, accuracy 0.9354180829367778\u001b[32m [repeated 19x across cluster]\u001b[0m\n",
            "\u001b[2m\u001b[36m(launch_and_fit pid=78560)\u001b[0m Epoch 44: train loss 0.6576376557350159, accuracy 0.9394969408565602\u001b[32m [repeated 23x across cluster]\u001b[0m\n",
            "\u001b[2m\u001b[36m(launch_and_fit pid=78561)\u001b[0m [Client 3] fit, config: {}\n",
            "\u001b[2m\u001b[36m(launch_and_fit pid=78560)\u001b[0m Epoch 7: train loss 59.77995300292969, accuracy 0.5118966689326988\u001b[32m [repeated 26x across cluster]\u001b[0m\n",
            "\u001b[2m\u001b[36m(launch_and_fit pid=78560)\u001b[0m Epoch 13: train loss 21.020578384399414, accuracy 0.7865397688647179\n",
            "\u001b[2m\u001b[36m(launch_and_fit pid=78561)\u001b[0m Epoch 17: train loss 10.851299285888672, accuracy 0.82324949014276\u001b[32m [repeated 19x across cluster]\u001b[0m\n",
            "\u001b[2m\u001b[36m(launch_and_fit pid=78561)\u001b[0m Epoch 28: train loss 1.2351186275482178, accuracy 0.9218218898708361\u001b[32m [repeated 22x across cluster]\u001b[0m\n",
            "\u001b[2m\u001b[36m(launch_and_fit pid=78561)\u001b[0m Epoch 42: train loss 0.5391883254051208, accuracy 0.9401767505098573\u001b[32m [repeated 27x across cluster]\u001b[0m\n"
          ]
        },
        {
          "metadata": {
            "tags": null
          },
          "name": "stderr",
          "output_type": "stream",
          "text": [
            "DEBUG flwr 2023-06-08 16:14:22,184 | server.py:232 | fit_round 7 received 4 results and 0 failures\n",
            "DEBUG:flwr:fit_round 7 received 4 results and 0 failures\n",
            "DEBUG flwr 2023-06-08 16:14:22,223 | server.py:168 | evaluate_round 7: strategy sampled 3 clients (out of 4)\n",
            "DEBUG:flwr:evaluate_round 7: strategy sampled 3 clients (out of 4)\n"
          ]
        },
        {
          "metadata": {
            "tags": null
          },
          "name": "stdout",
          "output_type": "stream",
          "text": [
            "\u001b[2m\u001b[36m(launch_and_fit pid=78560)\u001b[0m Epoch 50: train loss 0.5517347455024719, accuracy 0.947654656696125\u001b[32m [repeated 18x across cluster]\u001b[0m\n",
            "\u001b[2m\u001b[36m(launch_and_evaluate pid=78561)\u001b[0m [Client 0] evaluate, config: {}\n"
          ]
        },
        {
          "metadata": {
            "tags": null
          },
          "name": "stderr",
          "output_type": "stream",
          "text": [
            "DEBUG flwr 2023-06-08 16:14:22,579 | server.py:182 | evaluate_round 7 received 3 results and 0 failures\n",
            "DEBUG:flwr:evaluate_round 7 received 3 results and 0 failures\n",
            "DEBUG flwr 2023-06-08 16:14:22,589 | server.py:218 | fit_round 8: strategy sampled 4 clients (out of 4)\n",
            "DEBUG:flwr:fit_round 8: strategy sampled 4 clients (out of 4)\n"
          ]
        },
        {
          "metadata": {
            "tags": null
          },
          "name": "stdout",
          "output_type": "stream",
          "text": [
            "\u001b[2m\u001b[36m(launch_and_fit pid=78561)\u001b[0m [Client 3] fit, config: {}\n",
            "\u001b[2m\u001b[36m(launch_and_fit pid=78561)\u001b[0m Epoch 11: train loss 118.32623291015625, accuracy 0.4554724677090415\u001b[32m [repeated 21x across cluster]\u001b[0m\n",
            "\u001b[2m\u001b[36m(launch_and_evaluate pid=78560)\u001b[0m [Client 2] evaluate, config: {}\u001b[32m [repeated 2x across cluster]\u001b[0m\n",
            "\u001b[2m\u001b[36m(launch_and_fit pid=78560)\u001b[0m Epoch 12: train loss 101.54720306396484, accuracy 0.5227736233854521\n",
            "\u001b[2m\u001b[36m(launch_and_fit pid=78561)\u001b[0m Epoch 25: train loss 24.045053482055664, accuracy 0.8069340584636302\u001b[32m [repeated 27x across cluster]\u001b[0m\n",
            "\u001b[2m\u001b[36m(launch_and_fit pid=78561)\u001b[0m Epoch 34: train loss 4.723576545715332, accuracy 0.9000679809653297\u001b[32m [repeated 18x across cluster]\u001b[0m\n",
            "\u001b[2m\u001b[36m(launch_and_fit pid=78561)\u001b[0m Epoch 45: train loss 1.2866798639297485, accuracy 0.9354180829367778\u001b[32m [repeated 23x across cluster]\u001b[0m\n",
            "\u001b[2m\u001b[36m(launch_and_fit pid=78561)\u001b[0m [Client 2] fit, config: {}\n",
            "\u001b[2m\u001b[36m(launch_and_fit pid=78560)\u001b[0m Epoch 7: train loss 222.27430725097656, accuracy 0.29979605710401086\u001b[32m [repeated 25x across cluster]\u001b[0m\n",
            "\u001b[2m\u001b[36m(launch_and_fit pid=78560)\u001b[0m Epoch 12: train loss 99.6824722290039, accuracy 0.522093813732155\n",
            "\u001b[2m\u001b[36m(launch_and_fit pid=78560)\u001b[0m Epoch 16: train loss 63.131507873535156, accuracy 0.6784500339904826\u001b[32m [repeated 18x across cluster]\u001b[0m\n",
            "\u001b[2m\u001b[36m(launch_and_fit pid=78561)\u001b[0m Epoch 29: train loss 12.638144493103027, accuracy 0.8450033990482665\u001b[32m [repeated 25x across cluster]\u001b[0m\n",
            "\u001b[2m\u001b[36m(launch_and_fit pid=78561)\u001b[0m Epoch 42: train loss 2.1692733764648438, accuracy 0.9231815091774304\u001b[32m [repeated 27x across cluster]\u001b[0m\n"
          ]
        },
        {
          "metadata": {
            "tags": null
          },
          "name": "stderr",
          "output_type": "stream",
          "text": [
            "DEBUG flwr 2023-06-08 16:15:08,175 | server.py:232 | fit_round 8 received 4 results and 0 failures\n",
            "DEBUG:flwr:fit_round 8 received 4 results and 0 failures\n",
            "DEBUG flwr 2023-06-08 16:15:08,209 | server.py:168 | evaluate_round 8: strategy sampled 3 clients (out of 4)\n",
            "DEBUG:flwr:evaluate_round 8: strategy sampled 3 clients (out of 4)\n",
            "DEBUG flwr 2023-06-08 16:15:08,542 | server.py:182 | evaluate_round 8 received 3 results and 0 failures\n",
            "DEBUG:flwr:evaluate_round 8 received 3 results and 0 failures\n",
            "DEBUG flwr 2023-06-08 16:15:08,545 | server.py:218 | fit_round 9: strategy sampled 4 clients (out of 4)\n",
            "DEBUG:flwr:fit_round 9: strategy sampled 4 clients (out of 4)\n"
          ]
        },
        {
          "metadata": {
            "tags": null
          },
          "name": "stdout",
          "output_type": "stream",
          "text": [
            "\u001b[2m\u001b[36m(launch_and_evaluate pid=78561)\u001b[0m [Client 0] evaluate, config: {}\n",
            "\u001b[2m\u001b[36m(launch_and_fit pid=78560)\u001b[0m Epoch 50: train loss 1.0617337226867676, accuracy 0.9435757987763427\u001b[32m [repeated 16x across cluster]\u001b[0m\n",
            "\u001b[2m\u001b[36m(launch_and_fit pid=78561)\u001b[0m [Client 1] fit, config: {}\n",
            "\u001b[2m\u001b[36m(launch_and_evaluate pid=78561)\u001b[0m [Client 2] evaluate, config: {}\u001b[32m [repeated 2x across cluster]\u001b[0m\n",
            "\u001b[2m\u001b[36m(launch_and_fit pid=78561)\u001b[0m Epoch 11: train loss 28.357425689697266, accuracy 0.7851801495581238\u001b[32m [repeated 21x across cluster]\u001b[0m\n",
            "\u001b[2m\u001b[36m(launch_and_fit pid=78560)\u001b[0m Epoch 12: train loss 23.4801082611084, accuracy 0.8096532970768185\n",
            "\u001b[2m\u001b[36m(launch_and_fit pid=78560)\u001b[0m Epoch 25: train loss 3.459787607192993, accuracy 0.919782460910945\u001b[32m [repeated 28x across cluster]\u001b[0m\n",
            "\u001b[2m\u001b[36m(launch_and_fit pid=78560)\u001b[0m Epoch 35: train loss 1.6392245292663574, accuracy 0.9394969408565602\u001b[32m [repeated 19x across cluster]\u001b[0m\n",
            "\u001b[2m\u001b[36m(launch_and_fit pid=78561)\u001b[0m Epoch 45: train loss 1.4627424478530884, accuracy 0.9401767505098573\u001b[32m [repeated 23x across cluster]\u001b[0m\n",
            "\u001b[2m\u001b[36m(launch_and_fit pid=78560)\u001b[0m [Client 0] fit, config: {}\n",
            "\u001b[2m\u001b[36m(launch_and_fit pid=78560)\u001b[0m Epoch 10: train loss 34.37400436401367, accuracy 0.761386811692726\u001b[32m [repeated 27x across cluster]\u001b[0m\n",
            "\u001b[2m\u001b[36m(launch_and_fit pid=78561)\u001b[0m Epoch 14: train loss 15.91204833984375, accuracy 0.8361658735554045\n",
            "\u001b[2m\u001b[36m(launch_and_fit pid=78560)\u001b[0m Epoch 19: train loss 6.8064751625061035, accuracy 0.8919102651257648\u001b[32m [repeated 18x across cluster]\u001b[0m\n",
            "\u001b[2m\u001b[36m(launch_and_fit pid=78560)\u001b[0m Epoch 31: train loss 1.5994071960449219, accuracy 0.9354180829367778\u001b[32m [repeated 24x across cluster]\u001b[0m\n",
            "\u001b[2m\u001b[36m(launch_and_fit pid=78560)\u001b[0m Epoch 44: train loss 1.1252434253692627, accuracy 0.9442556084296397\u001b[32m [repeated 27x across cluster]\u001b[0m\n"
          ]
        },
        {
          "metadata": {
            "tags": null
          },
          "name": "stderr",
          "output_type": "stream",
          "text": [
            "DEBUG flwr 2023-06-08 16:15:53,030 | server.py:232 | fit_round 9 received 4 results and 0 failures\n",
            "DEBUG:flwr:fit_round 9 received 4 results and 0 failures\n",
            "DEBUG flwr 2023-06-08 16:15:53,069 | server.py:168 | evaluate_round 9: strategy sampled 3 clients (out of 4)\n",
            "DEBUG:flwr:evaluate_round 9: strategy sampled 3 clients (out of 4)\n",
            "DEBUG flwr 2023-06-08 16:15:53,398 | server.py:182 | evaluate_round 9 received 3 results and 0 failures\n",
            "DEBUG:flwr:evaluate_round 9 received 3 results and 0 failures\n",
            "DEBUG flwr 2023-06-08 16:15:53,407 | server.py:218 | fit_round 10: strategy sampled 4 clients (out of 4)\n",
            "DEBUG:flwr:fit_round 10: strategy sampled 4 clients (out of 4)\n"
          ]
        },
        {
          "metadata": {
            "tags": null
          },
          "name": "stdout",
          "output_type": "stream",
          "text": [
            "\u001b[2m\u001b[36m(launch_and_evaluate pid=78561)\u001b[0m [Client 1] evaluate, config: {}\n",
            "\u001b[2m\u001b[36m(launch_and_evaluate pid=78561)\u001b[0m [Client 2] evaluate, config: {}\n",
            "\u001b[2m\u001b[36m(launch_and_fit pid=78561)\u001b[0m [Client 2] fit, config: {}\n",
            "\u001b[2m\u001b[36m(launch_and_fit pid=78561)\u001b[0m Epoch 2: train loss 90.33771514892578, accuracy 0.5227736233854521\u001b[32m [repeated 16x across cluster]\u001b[0m\n",
            "\u001b[2m\u001b[36m(launch_and_evaluate pid=78560)\u001b[0m Epoch 10: train loss 3.810103178024292, accuracy 0.9129843643779741\n",
            "\u001b[2m\u001b[36m(launch_and_fit pid=78560)\u001b[0m Epoch 11: train loss 3.3144381046295166, accuracy 0.9184228416043508\n",
            "\u001b[2m\u001b[36m(launch_and_fit pid=78561)\u001b[0m Epoch 14: train loss 2.5212438106536865, accuracy 0.9313392250169953\u001b[32m [repeated 24x across cluster]\u001b[0m\n",
            "\u001b[2m\u001b[36m(launch_and_fit pid=78560)\u001b[0m Epoch 27: train loss 1.5028941631317139, accuracy 0.9408565601631543\u001b[32m [repeated 27x across cluster]\u001b[0m\n",
            "\u001b[2m\u001b[36m(launch_and_fit pid=78561)\u001b[0m Epoch 37: train loss 1.6278657913208008, accuracy 0.9435757987763427\u001b[32m [repeated 18x across cluster]\u001b[0m\n",
            "\u001b[2m\u001b[36m(launch_and_fit pid=78560)\u001b[0m Epoch 48: train loss 1.1881781816482544, accuracy 0.9483344663494222\u001b[32m [repeated 25x across cluster]\u001b[0m\n",
            "\u001b[2m\u001b[36m(launch_and_fit pid=78561)\u001b[0m [Client 1] fit, config: {}\n",
            "\u001b[2m\u001b[36m(launch_and_fit pid=78561)\u001b[0m Epoch 13: train loss 2.6431119441986084, accuracy 0.929299796057104\u001b[32m [repeated 27x across cluster]\u001b[0m\n",
            "\u001b[2m\u001b[36m(launch_and_fit pid=78560)\u001b[0m Epoch 14: train loss 2.4814651012420654, accuracy 0.9306594153636981\n",
            "\u001b[2m\u001b[36m(launch_and_fit pid=78560)\u001b[0m Epoch 19: train loss 1.5236709117889404, accuracy 0.9442556084296397\u001b[32m [repeated 15x across cluster]\u001b[0m\n",
            "\u001b[2m\u001b[36m(launch_and_fit pid=78561)\u001b[0m Epoch 27: train loss 1.89578378200531, accuracy 0.938817131203263\u001b[32m [repeated 13x across cluster]\u001b[0m\n",
            "\u001b[2m\u001b[36m(launch_and_fit pid=78561)\u001b[0m Epoch 40: train loss 1.6832642555236816, accuracy 0.9422161794697484\u001b[32m [repeated 25x across cluster]\u001b[0m\n"
          ]
        },
        {
          "metadata": {
            "tags": null
          },
          "name": "stderr",
          "output_type": "stream",
          "text": [
            "DEBUG flwr 2023-06-08 16:16:40,630 | server.py:232 | fit_round 10 received 4 results and 0 failures\n",
            "DEBUG:flwr:fit_round 10 received 4 results and 0 failures\n",
            "DEBUG flwr 2023-06-08 16:16:40,663 | server.py:168 | evaluate_round 10: strategy sampled 3 clients (out of 4)\n",
            "DEBUG:flwr:evaluate_round 10: strategy sampled 3 clients (out of 4)\n",
            "DEBUG flwr 2023-06-08 16:16:40,904 | server.py:182 | evaluate_round 10 received 3 results and 0 failures\n",
            "DEBUG:flwr:evaluate_round 10 received 3 results and 0 failures\n",
            "DEBUG flwr 2023-06-08 16:16:40,910 | server.py:218 | fit_round 11: strategy sampled 4 clients (out of 4)\n",
            "DEBUG:flwr:fit_round 11: strategy sampled 4 clients (out of 4)\n"
          ]
        },
        {
          "metadata": {
            "tags": null
          },
          "name": "stdout",
          "output_type": "stream",
          "text": [
            "\u001b[2m\u001b[36m(launch_and_evaluate pid=78561)\u001b[0m [Client 3] evaluate, config: {}\n",
            "\u001b[2m\u001b[36m(launch_and_fit pid=78561)\u001b[0m [Client 0] fit, config: {}\n",
            "\u001b[2m\u001b[36m(launch_and_fit pid=78561)\u001b[0m Epoch 1: train loss 452.185791015625, accuracy 0.29843643779741674\u001b[32m [repeated 24x across cluster]\u001b[0m\n",
            "\u001b[2m\u001b[36m(launch_and_evaluate pid=78560)\u001b[0m [Client 0] evaluate, config: {}\u001b[32m [repeated 2x across cluster]\u001b[0m\n",
            "\u001b[2m\u001b[36m(launch_and_fit pid=78560)\u001b[0m Epoch 8: train loss 221.78350830078125, accuracy 0.6179469748470429\n",
            "\u001b[2m\u001b[36m(launch_and_fit pid=78561)\u001b[0m Epoch 9: train loss 197.26393127441406, accuracy 0.619986403806934\u001b[32m [repeated 16x across cluster]\u001b[0m\n",
            "\u001b[2m\u001b[36m(launch_and_fit pid=78560)\u001b[0m Epoch 23: train loss 8.845409393310547, accuracy 0.8857919782460911\u001b[32m [repeated 28x across cluster]\u001b[0m\n",
            "\u001b[2m\u001b[36m(launch_and_fit pid=78560)\u001b[0m Epoch 36: train loss 2.3996944427490234, accuracy 0.938817131203263\u001b[32m [repeated 26x across cluster]\u001b[0m\n",
            "\u001b[2m\u001b[36m(launch_and_fit pid=78561)\u001b[0m Epoch 43: train loss 1.5656172037124634, accuracy 0.9422161794697484\u001b[32m [repeated 15x across cluster]\u001b[0m\n",
            "\u001b[2m\u001b[36m(launch_and_fit pid=78560)\u001b[0m [Client 3] fit, config: {}\n",
            "\u001b[2m\u001b[36m(launch_and_fit pid=78561)\u001b[0m Epoch 7: train loss 245.7357940673828, accuracy 0.6043507817811012\u001b[32m [repeated 27x across cluster]\u001b[0m\n",
            "\u001b[2m\u001b[36m(launch_and_fit pid=78561)\u001b[0m Epoch 13: train loss 98.50708770751953, accuracy 0.6390210740992522\n",
            "\u001b[2m\u001b[36m(launch_and_fit pid=78561)\u001b[0m Epoch 20: train loss 14.569235801696777, accuracy 0.8443235893949694\u001b[32m [repeated 26x across cluster]\u001b[0m\n",
            "\u001b[2m\u001b[36m(launch_and_fit pid=78560)\u001b[0m Epoch 28: train loss 3.039592981338501, accuracy 0.9259007477906186\u001b[32m [repeated 17x across cluster]\u001b[0m\n",
            "\u001b[2m\u001b[36m(launch_and_fit pid=78561)\u001b[0m Epoch 42: train loss 2.0646555423736572, accuracy 0.9422161794697484\u001b[32m [repeated 27x across cluster]\u001b[0m\n"
          ]
        },
        {
          "metadata": {
            "tags": null
          },
          "name": "stderr",
          "output_type": "stream",
          "text": [
            "DEBUG flwr 2023-06-08 16:17:26,318 | server.py:232 | fit_round 11 received 4 results and 0 failures\n",
            "DEBUG:flwr:fit_round 11 received 4 results and 0 failures\n",
            "DEBUG flwr 2023-06-08 16:17:26,346 | server.py:168 | evaluate_round 11: strategy sampled 3 clients (out of 4)\n",
            "DEBUG:flwr:evaluate_round 11: strategy sampled 3 clients (out of 4)\n",
            "DEBUG flwr 2023-06-08 16:17:26,579 | server.py:182 | evaluate_round 11 received 3 results and 0 failures\n",
            "DEBUG:flwr:evaluate_round 11 received 3 results and 0 failures\n",
            "DEBUG flwr 2023-06-08 16:17:26,589 | server.py:218 | fit_round 12: strategy sampled 4 clients (out of 4)\n",
            "DEBUG:flwr:fit_round 12: strategy sampled 4 clients (out of 4)\n"
          ]
        },
        {
          "metadata": {
            "tags": null
          },
          "name": "stdout",
          "output_type": "stream",
          "text": [
            "\u001b[2m\u001b[36m(launch_and_evaluate pid=78561)\u001b[0m [Client 3] evaluate, config: {}\n",
            "\u001b[2m\u001b[36m(launch_and_fit pid=78561)\u001b[0m [Client 2] fit, config: {}\n",
            "\u001b[2m\u001b[36m(launch_and_fit pid=78561)\u001b[0m Epoch 4: train loss 262.13372802734375, accuracy 0.5254928619986404\u001b[32m [repeated 24x across cluster]\u001b[0m\n",
            "\u001b[2m\u001b[36m(launch_and_evaluate pid=78560)\u001b[0m [Client 1] evaluate, config: {}\u001b[32m [repeated 2x across cluster]\u001b[0m\n",
            "\u001b[2m\u001b[36m(launch_and_fit pid=78560)\u001b[0m Epoch 9: train loss 112.84611511230469, accuracy 0.6301835486063903\n",
            "\u001b[2m\u001b[36m(launch_and_fit pid=78560)\u001b[0m Epoch 13: train loss 34.873680114746094, accuracy 0.7756628144119646\u001b[32m [repeated 18x across cluster]\u001b[0m\n",
            "\u001b[2m\u001b[36m(launch_and_fit pid=78561)\u001b[0m Epoch 26: train loss 3.717679738998413, accuracy 0.9272603670972128\u001b[32m [repeated 26x across cluster]\u001b[0m\n",
            "\u001b[2m\u001b[36m(launch_and_fit pid=78561)\u001b[0m Epoch 38: train loss 1.9710323810577393, accuracy 0.9449354180829368\u001b[32m [repeated 25x across cluster]\u001b[0m\n",
            "\u001b[2m\u001b[36m(launch_and_fit pid=78560)\u001b[0m Epoch 46: train loss 1.818274736404419, accuracy 0.9530931339225017\u001b[32m [repeated 15x across cluster]\u001b[0m\n",
            "\u001b[2m\u001b[36m(launch_and_fit pid=78560)\u001b[0m [Client 0] fit, config: {}\n",
            "\u001b[2m\u001b[36m(launch_and_fit pid=78561)\u001b[0m Epoch 9: train loss 116.1333999633789, accuracy 0.6261046906866078\u001b[32m [repeated 27x across cluster]\u001b[0m\n",
            "\u001b[2m\u001b[36m(launch_and_fit pid=78561)\u001b[0m Epoch 13: train loss 35.74872970581055, accuracy 0.7641060503059144\n",
            "\u001b[2m\u001b[36m(launch_and_fit pid=78560)\u001b[0m Epoch 22: train loss 5.04250955581665, accuracy 0.9191026512576479\u001b[32m [repeated 25x across cluster]\u001b[0m\n",
            "\u001b[2m\u001b[36m(launch_and_fit pid=78561)\u001b[0m Epoch 30: train loss 1.9750614166259766, accuracy 0.9415363698164514\u001b[32m [repeated 17x across cluster]\u001b[0m\n",
            "\u001b[2m\u001b[36m(launch_and_fit pid=78561)\u001b[0m Epoch 43: train loss 1.2514228820800781, accuracy 0.9510537049626104\u001b[32m [repeated 26x across cluster]\u001b[0m\n"
          ]
        },
        {
          "metadata": {
            "tags": null
          },
          "name": "stderr",
          "output_type": "stream",
          "text": [
            "DEBUG flwr 2023-06-08 16:18:12,392 | server.py:232 | fit_round 12 received 4 results and 0 failures\n",
            "DEBUG:flwr:fit_round 12 received 4 results and 0 failures\n",
            "DEBUG flwr 2023-06-08 16:18:12,423 | server.py:168 | evaluate_round 12: strategy sampled 3 clients (out of 4)\n",
            "DEBUG:flwr:evaluate_round 12: strategy sampled 3 clients (out of 4)\n",
            "DEBUG flwr 2023-06-08 16:18:12,648 | server.py:182 | evaluate_round 12 received 3 results and 0 failures\n",
            "DEBUG:flwr:evaluate_round 12 received 3 results and 0 failures\n",
            "DEBUG flwr 2023-06-08 16:18:12,651 | server.py:218 | fit_round 13: strategy sampled 4 clients (out of 4)\n",
            "DEBUG:flwr:fit_round 13: strategy sampled 4 clients (out of 4)\n"
          ]
        },
        {
          "metadata": {
            "tags": null
          },
          "name": "stdout",
          "output_type": "stream",
          "text": [
            "\u001b[2m\u001b[36m(launch_and_evaluate pid=78561)\u001b[0m [Client 3] evaluate, config: {}\n",
            "\u001b[2m\u001b[36m(launch_and_evaluate pid=78561)\u001b[0m [Client 2] evaluate, config: {}\n",
            "\u001b[2m\u001b[36m(launch_and_fit pid=78561)\u001b[0m [Client 2] fit, config: {}\n",
            "\u001b[2m\u001b[36m(launch_and_fit pid=78560)\u001b[0m Epoch 4: train loss 3.1026177406311035, accuracy 0.9354180829367778\u001b[32m [repeated 21x across cluster]\u001b[0m\n",
            "\u001b[2m\u001b[36m(launch_and_evaluate pid=78560)\u001b[0m Epoch 8: train loss 2.0984580516815186, accuracy 0.9442556084296397\n",
            "\u001b[2m\u001b[36m(launch_and_fit pid=78560)\u001b[0m Epoch 8: train loss 2.0984580516815186, accuracy 0.9442556084296397\n",
            "\u001b[2m\u001b[36m(launch_and_fit pid=78561)\u001b[0m Epoch 11: train loss 1.9617668390274048, accuracy 0.9462950373895309\u001b[32m [repeated 15x across cluster]\u001b[0m\n",
            "\u001b[2m\u001b[36m(launch_and_fit pid=78560)\u001b[0m Epoch 25: train loss 1.7084606885910034, accuracy 0.9537729435757988\u001b[32m [repeated 27x across cluster]\u001b[0m\n",
            "\u001b[2m\u001b[36m(launch_and_fit pid=78560)\u001b[0m Epoch 38: train loss 1.509777545928955, accuracy 0.9578518014955812\u001b[32m [repeated 26x across cluster]\u001b[0m\n",
            "\u001b[2m\u001b[36m(launch_and_fit pid=78561)\u001b[0m Epoch 45: train loss 1.4095646142959595, accuracy 0.95581237253569\u001b[32m [repeated 15x across cluster]\u001b[0m\n",
            "\u001b[2m\u001b[36m(launch_and_fit pid=78560)\u001b[0m [Client 3] fit, config: {}\n",
            "\u001b[2m\u001b[36m(launch_and_fit pid=78561)\u001b[0m Epoch 8: train loss 1.6323013305664062, accuracy 0.9537729435757988\u001b[32m [repeated 26x across cluster]\u001b[0m\n",
            "\u001b[2m\u001b[36m(launch_and_fit pid=78561)\u001b[0m Epoch 13: train loss 1.3691956996917725, accuracy 0.9544527532290958\n",
            "\u001b[2m\u001b[36m(launch_and_fit pid=78561)\u001b[0m Epoch 21: train loss 1.3286283016204834, accuracy 0.9524133242692047\u001b[32m [repeated 26x across cluster]\u001b[0m\n",
            "\u001b[2m\u001b[36m(launch_and_fit pid=78561)\u001b[0m Epoch 27: train loss 1.2359027862548828, accuracy 0.9537729435757988\u001b[32m [repeated 11x across cluster]\u001b[0m\n",
            "\u001b[2m\u001b[36m(launch_and_fit pid=78561)\u001b[0m Epoch 41: train loss 1.0725533962249756, accuracy 0.9592114208021754\u001b[32m [repeated 28x across cluster]\u001b[0m\n"
          ]
        },
        {
          "metadata": {
            "tags": null
          },
          "name": "stderr",
          "output_type": "stream",
          "text": [
            "DEBUG flwr 2023-06-08 16:18:59,014 | server.py:232 | fit_round 13 received 4 results and 0 failures\n",
            "DEBUG:flwr:fit_round 13 received 4 results and 0 failures\n",
            "DEBUG flwr 2023-06-08 16:18:59,044 | server.py:168 | evaluate_round 13: strategy sampled 3 clients (out of 4)\n",
            "DEBUG:flwr:evaluate_round 13: strategy sampled 3 clients (out of 4)\n",
            "DEBUG flwr 2023-06-08 16:18:59,258 | server.py:182 | evaluate_round 13 received 3 results and 0 failures\n",
            "DEBUG:flwr:evaluate_round 13 received 3 results and 0 failures\n",
            "DEBUG flwr 2023-06-08 16:18:59,265 | server.py:218 | fit_round 14: strategy sampled 4 clients (out of 4)\n",
            "DEBUG:flwr:fit_round 14: strategy sampled 4 clients (out of 4)\n"
          ]
        },
        {
          "metadata": {
            "tags": null
          },
          "name": "stdout",
          "output_type": "stream",
          "text": [
            "\u001b[2m\u001b[36m(launch_and_evaluate pid=78561)\u001b[0m [Client 1] evaluate, config: {}\n",
            "\u001b[2m\u001b[36m(launch_and_fit pid=78561)\u001b[0m [Client 3] fit, config: {}\n",
            "\u001b[2m\u001b[36m(launch_and_fit pid=78561)\u001b[0m Epoch 3: train loss 116.63851928710938, accuracy 0.6954452753229096\u001b[32m [repeated 24x across cluster]\u001b[0m\n",
            "\u001b[2m\u001b[36m(launch_and_evaluate pid=78560)\u001b[0m [Client 0] evaluate, config: {}\u001b[32m [repeated 2x across cluster]\u001b[0m\n",
            "\u001b[2m\u001b[36m(launch_and_fit pid=78560)\u001b[0m Epoch 8: train loss 45.02592468261719, accuracy 0.8470428280081577\n",
            "\u001b[2m\u001b[36m(launch_and_fit pid=78561)\u001b[0m Epoch 11: train loss 26.434696197509766, accuracy 0.8755948334466349\u001b[32m [repeated 16x across cluster]\u001b[0m\n",
            "\u001b[2m\u001b[36m(launch_and_fit pid=78561)\u001b[0m Epoch 24: train loss 2.128161907196045, accuracy 0.9537729435757988\u001b[32m [repeated 27x across cluster]\u001b[0m\n",
            "\u001b[2m\u001b[36m(launch_and_fit pid=78561)\u001b[0m Epoch 37: train loss 1.2994023561477661, accuracy 0.9578518014955812\u001b[32m [repeated 25x across cluster]\u001b[0m\n",
            "\u001b[2m\u001b[36m(launch_and_fit pid=78561)\u001b[0m Epoch 45: train loss 1.2167909145355225, accuracy 0.9585316111488783\u001b[32m [repeated 16x across cluster]\u001b[0m\n",
            "\u001b[2m\u001b[36m(launch_and_fit pid=78561)\u001b[0m [Client 1] fit, config: {}\n",
            "\u001b[2m\u001b[36m(launch_and_fit pid=78561)\u001b[0m Epoch 8: train loss 47.38469696044922, accuracy 0.849762066621346\u001b[32m [repeated 27x across cluster]\u001b[0m\n",
            "\u001b[2m\u001b[36m(launch_and_fit pid=78560)\u001b[0m Epoch 14: train loss 15.490412712097168, accuracy 0.9102651257647859\n",
            "\u001b[2m\u001b[36m(launch_and_fit pid=78560)\u001b[0m Epoch 21: train loss 4.746303081512451, accuracy 0.9503738953093134\u001b[32m [repeated 25x across cluster]\u001b[0m\n",
            "\u001b[2m\u001b[36m(launch_and_fit pid=78560)\u001b[0m Epoch 29: train loss 2.1965444087982178, accuracy 0.9564921821889871\u001b[32m [repeated 16x across cluster]\u001b[0m\n",
            "\u001b[2m\u001b[36m(launch_and_fit pid=78560)\u001b[0m Epoch 42: train loss 1.699263095855713, accuracy 0.9598912304554724\u001b[32m [repeated 26x across cluster]\u001b[0m\n"
          ]
        },
        {
          "metadata": {
            "tags": null
          },
          "name": "stderr",
          "output_type": "stream",
          "text": [
            "DEBUG flwr 2023-06-08 16:19:44,882 | server.py:232 | fit_round 14 received 4 results and 0 failures\n",
            "DEBUG:flwr:fit_round 14 received 4 results and 0 failures\n",
            "DEBUG flwr 2023-06-08 16:19:44,925 | server.py:168 | evaluate_round 14: strategy sampled 3 clients (out of 4)\n",
            "DEBUG:flwr:evaluate_round 14: strategy sampled 3 clients (out of 4)\n",
            "DEBUG flwr 2023-06-08 16:19:45,138 | server.py:182 | evaluate_round 14 received 3 results and 0 failures\n",
            "DEBUG:flwr:evaluate_round 14 received 3 results and 0 failures\n",
            "DEBUG flwr 2023-06-08 16:19:45,149 | server.py:218 | fit_round 15: strategy sampled 4 clients (out of 4)\n",
            "DEBUG:flwr:fit_round 15: strategy sampled 4 clients (out of 4)\n"
          ]
        },
        {
          "metadata": {
            "tags": null
          },
          "name": "stdout",
          "output_type": "stream",
          "text": [
            "\u001b[2m\u001b[36m(launch_and_evaluate pid=78561)\u001b[0m [Client 2] evaluate, config: {}\n",
            "\u001b[2m\u001b[36m(launch_and_fit pid=78561)\u001b[0m [Client 3] fit, config: {}\n",
            "\u001b[2m\u001b[36m(launch_and_fit pid=78560)\u001b[0m Epoch 3: train loss 177.1691131591797, accuracy 0.7559483344663495\u001b[32m [repeated 22x across cluster]\u001b[0m\n",
            "\u001b[2m\u001b[36m(launch_and_evaluate pid=78561)\u001b[0m [Client 1] evaluate, config: {}\u001b[32m [repeated 2x across cluster]\u001b[0m\n",
            "\u001b[2m\u001b[36m(launch_and_fit pid=78560)\u001b[0m Epoch 8: train loss 103.47081756591797, accuracy 0.8212100611828688\n",
            "\u001b[2m\u001b[36m(launch_and_fit pid=78561)\u001b[0m Epoch 10: train loss 75.97073364257812, accuracy 0.8416043507817811\u001b[32m [repeated 15x across cluster]\u001b[0m\n",
            "\u001b[2m\u001b[36m(launch_and_fit pid=78561)\u001b[0m Epoch 24: train loss 4.55340576171875, accuracy 0.9462950373895309\u001b[32m [repeated 27x across cluster]\u001b[0m\n",
            "\u001b[2m\u001b[36m(launch_and_fit pid=78560)\u001b[0m Epoch 36: train loss 1.7792861461639404, accuracy 0.9639700883752549\u001b[32m [repeated 25x across cluster]\u001b[0m\n",
            "\u001b[2m\u001b[36m(launch_and_fit pid=78560)\u001b[0m Epoch 43: train loss 1.6227070093154907, accuracy 0.9626104690686608\u001b[32m [repeated 14x across cluster]\u001b[0m\n",
            "\u001b[2m\u001b[36m(launch_and_fit pid=78561)\u001b[0m [Client 0] fit, config: {}\n",
            "\u001b[2m\u001b[36m(launch_and_fit pid=78561)\u001b[0m Epoch 5: train loss 143.95960998535156, accuracy 0.7831407205982325\u001b[32m [repeated 24x across cluster]\u001b[0m\n",
            "\u001b[2m\u001b[36m(launch_and_fit pid=78560)\u001b[0m Epoch 13: train loss 41.90172576904297, accuracy 0.8810333106730116\n",
            "\u001b[2m\u001b[36m(launch_and_fit pid=78561)\u001b[0m Epoch 18: train loss 16.918214797973633, accuracy 0.9218218898708361\u001b[32m [repeated 26x across cluster]\u001b[0m\n",
            "\u001b[2m\u001b[36m(launch_and_fit pid=78560)\u001b[0m Epoch 26: train loss 3.791663646697998, accuracy 0.9462950373895309\u001b[32m [repeated 15x across cluster]\u001b[0m\n",
            "\u001b[2m\u001b[36m(launch_and_fit pid=78561)\u001b[0m Epoch 38: train loss 1.1991394758224487, accuracy 0.9639700883752549\u001b[32m [repeated 25x across cluster]\u001b[0m\n"
          ]
        },
        {
          "metadata": {
            "tags": null
          },
          "name": "stderr",
          "output_type": "stream",
          "text": [
            "DEBUG flwr 2023-06-08 16:20:32,449 | server.py:232 | fit_round 15 received 4 results and 0 failures\n",
            "DEBUG:flwr:fit_round 15 received 4 results and 0 failures\n",
            "DEBUG flwr 2023-06-08 16:20:32,480 | server.py:168 | evaluate_round 15: strategy sampled 3 clients (out of 4)\n",
            "DEBUG:flwr:evaluate_round 15: strategy sampled 3 clients (out of 4)\n",
            "DEBUG flwr 2023-06-08 16:20:32,714 | server.py:182 | evaluate_round 15 received 3 results and 0 failures\n",
            "DEBUG:flwr:evaluate_round 15 received 3 results and 0 failures\n",
            "DEBUG flwr 2023-06-08 16:20:32,726 | server.py:218 | fit_round 16: strategy sampled 4 clients (out of 4)\n",
            "DEBUG:flwr:fit_round 16: strategy sampled 4 clients (out of 4)\n"
          ]
        },
        {
          "metadata": {
            "tags": null
          },
          "name": "stdout",
          "output_type": "stream",
          "text": [
            "\u001b[2m\u001b[36m(launch_and_evaluate pid=78561)\u001b[0m [Client 1] evaluate, config: {}\n",
            "\u001b[2m\u001b[36m(launch_and_fit pid=78561)\u001b[0m [Client 3] fit, config: {}\n",
            "\u001b[2m\u001b[36m(launch_and_fit pid=78561)\u001b[0m Epoch 50: train loss 1.0496277809143066, accuracy 0.9673691366417403\u001b[32m [repeated 24x across cluster]\u001b[0m\n",
            "\u001b[2m\u001b[36m(launch_and_evaluate pid=78560)\u001b[0m [Client 3] evaluate, config: {}\u001b[32m [repeated 2x across cluster]\u001b[0m\n",
            "\u001b[2m\u001b[36m(launch_and_fit pid=78560)\u001b[0m Epoch 7: train loss 16.830102920532227, accuracy 0.9218218898708361\n",
            "\u001b[2m\u001b[36m(launch_and_fit pid=78560)\u001b[0m Epoch 7: train loss 16.830102920532227, accuracy 0.9218218898708361\u001b[32m [repeated 14x across cluster]\u001b[0m\n",
            "\u001b[2m\u001b[36m(launch_and_fit pid=78561)\u001b[0m Epoch 21: train loss 1.3794158697128296, accuracy 0.9612508497620667\u001b[32m [repeated 27x across cluster]\u001b[0m\n",
            "\u001b[2m\u001b[36m(launch_and_fit pid=78561)\u001b[0m Epoch 34: train loss 1.0571694374084473, accuracy 0.9653297076818491\u001b[32m [repeated 26x across cluster]\u001b[0m\n",
            "\u001b[2m\u001b[36m(launch_and_fit pid=78561)\u001b[0m Epoch 41: train loss 0.9926565289497375, accuracy 0.9653297076818491\u001b[32m [repeated 14x across cluster]\u001b[0m\n",
            "\u001b[2m\u001b[36m(launch_and_fit pid=78560)\u001b[0m [Client 1] fit, config: {}\n",
            "\u001b[2m\u001b[36m(launch_and_fit pid=78560)\u001b[0m Epoch 4: train loss 35.72026062011719, accuracy 0.8749150237933379\u001b[32m [repeated 26x across cluster]\u001b[0m\n",
            "\u001b[2m\u001b[36m(launch_and_fit pid=78561)\u001b[0m Epoch 13: train loss 3.8972558975219727, accuracy 0.9503738953093134\n",
            "\u001b[2m\u001b[36m(launch_and_fit pid=78560)\u001b[0m Epoch 17: train loss 2.0724551677703857, accuracy 0.9612508497620667\u001b[32m [repeated 26x across cluster]\u001b[0m\n",
            "\u001b[2m\u001b[36m(launch_and_fit pid=78561)\u001b[0m Epoch 24: train loss 1.5600289106369019, accuracy 0.9721278042148198\u001b[32m [repeated 15x across cluster]\u001b[0m\n",
            "\u001b[2m\u001b[36m(launch_and_fit pid=78561)\u001b[0m Epoch 37: train loss 1.4372862577438354, accuracy 0.9687287559483345\u001b[32m [repeated 27x across cluster]\u001b[0m\n"
          ]
        },
        {
          "metadata": {
            "tags": null
          },
          "name": "stderr",
          "output_type": "stream",
          "text": [
            "DEBUG flwr 2023-06-08 16:21:19,479 | server.py:232 | fit_round 16 received 4 results and 0 failures\n",
            "DEBUG:flwr:fit_round 16 received 4 results and 0 failures\n",
            "DEBUG flwr 2023-06-08 16:21:19,526 | server.py:168 | evaluate_round 16: strategy sampled 3 clients (out of 4)\n",
            "DEBUG:flwr:evaluate_round 16: strategy sampled 3 clients (out of 4)\n",
            "DEBUG flwr 2023-06-08 16:21:19,885 | server.py:182 | evaluate_round 16 received 3 results and 0 failures\n",
            "DEBUG:flwr:evaluate_round 16 received 3 results and 0 failures\n",
            "DEBUG flwr 2023-06-08 16:21:19,893 | server.py:218 | fit_round 17: strategy sampled 4 clients (out of 4)\n",
            "DEBUG:flwr:fit_round 17: strategy sampled 4 clients (out of 4)\n"
          ]
        },
        {
          "metadata": {
            "tags": null
          },
          "name": "stdout",
          "output_type": "stream",
          "text": [
            "\u001b[2m\u001b[36m(launch_and_evaluate pid=78561)\u001b[0m [Client 3] evaluate, config: {}\n",
            "\u001b[2m\u001b[36m(launch_and_fit pid=78561)\u001b[0m Epoch 50: train loss 1.3645424842834473, accuracy 0.9687287559483345\u001b[32m [repeated 25x across cluster]\u001b[0m\n",
            "\u001b[2m\u001b[36m(launch_and_fit pid=78561)\u001b[0m [Client 2] fit, config: {}\n",
            "\u001b[2m\u001b[36m(launch_and_evaluate pid=78561)\u001b[0m [Client 1] evaluate, config: {}\u001b[32m [repeated 2x across cluster]\u001b[0m\n",
            "\u001b[2m\u001b[36m(launch_and_fit pid=78560)\u001b[0m Epoch 7: train loss 7.043573379516602, accuracy 0.9265805574439157\u001b[32m [repeated 13x across cluster]\u001b[0m\n",
            "\u001b[2m\u001b[36m(launch_and_fit pid=78560)\u001b[0m Epoch 8: train loss 4.841911315917969, accuracy 0.9306594153636981\n",
            "\u001b[2m\u001b[36m(launch_and_fit pid=78561)\u001b[0m Epoch 20: train loss 1.4969526529312134, accuracy 0.9626104690686608\u001b[32m [repeated 26x across cluster]\u001b[0m\n",
            "\u001b[2m\u001b[36m(launch_and_fit pid=78560)\u001b[0m Epoch 33: train loss 1.2213242053985596, accuracy 0.9660095173351462\u001b[32m [repeated 26x across cluster]\u001b[0m\n",
            "\u001b[2m\u001b[36m(launch_and_fit pid=78561)\u001b[0m Epoch 40: train loss 1.3222298622131348, accuracy 0.9687287559483345\u001b[32m [repeated 15x across cluster]\u001b[0m\n",
            "\u001b[2m\u001b[36m(launch_and_fit pid=78561)\u001b[0m [Client 3] fit, config: {}\n",
            "\u001b[2m\u001b[36m(launch_and_fit pid=78561)\u001b[0m Epoch 3: train loss 30.81389617919922, accuracy 0.7335146159075459\u001b[32m [repeated 25x across cluster]\u001b[0m\n",
            "\u001b[2m\u001b[36m(launch_and_fit pid=78560)\u001b[0m Epoch 11: train loss 3.2238690853118896, accuracy 0.9422161794697484\n",
            "\u001b[2m\u001b[36m(launch_and_fit pid=78561)\u001b[0m Epoch 12: train loss 2.819091558456421, accuracy 0.9456152277362339\u001b[32m [repeated 18x across cluster]\u001b[0m\n",
            "\u001b[2m\u001b[36m(launch_and_fit pid=78561)\u001b[0m Epoch 19: train loss 1.544007420539856, accuracy 0.9592114208021754\u001b[32m [repeated 14x across cluster]\u001b[0m\n",
            "\u001b[2m\u001b[36m(launch_and_fit pid=78561)\u001b[0m Epoch 31: train loss 0.9797578454017639, accuracy 0.9632902787219578\u001b[32m [repeated 24x across cluster]\u001b[0m\n",
            "\u001b[2m\u001b[36m(launch_and_fit pid=78560)\u001b[0m Epoch 44: train loss 0.7452077865600586, accuracy 0.9741672331747111\u001b[32m [repeated 27x across cluster]\u001b[0m\n"
          ]
        },
        {
          "metadata": {
            "tags": null
          },
          "name": "stderr",
          "output_type": "stream",
          "text": [
            "DEBUG flwr 2023-06-08 16:22:09,829 | server.py:232 | fit_round 17 received 4 results and 0 failures\n",
            "DEBUG:flwr:fit_round 17 received 4 results and 0 failures\n",
            "DEBUG flwr 2023-06-08 16:22:09,865 | server.py:168 | evaluate_round 17: strategy sampled 3 clients (out of 4)\n",
            "DEBUG:flwr:evaluate_round 17: strategy sampled 3 clients (out of 4)\n",
            "DEBUG flwr 2023-06-08 16:22:10,212 | server.py:182 | evaluate_round 17 received 3 results and 0 failures\n",
            "DEBUG:flwr:evaluate_round 17 received 3 results and 0 failures\n",
            "DEBUG flwr 2023-06-08 16:22:10,221 | server.py:218 | fit_round 18: strategy sampled 4 clients (out of 4)\n",
            "DEBUG:flwr:fit_round 18: strategy sampled 4 clients (out of 4)\n"
          ]
        },
        {
          "metadata": {
            "tags": null
          },
          "name": "stdout",
          "output_type": "stream",
          "text": [
            "\u001b[2m\u001b[36m(launch_and_evaluate pid=78561)\u001b[0m [Client 3] evaluate, config: {}\n",
            "\u001b[2m\u001b[36m(launch_and_fit pid=78561)\u001b[0m [Client 3] fit, config: {}\n",
            "\u001b[2m\u001b[36m(launch_and_fit pid=78561)\u001b[0m Epoch 2: train loss 392.1077575683594, accuracy 0.5472467709041469\u001b[32m [repeated 15x across cluster]\u001b[0m\n",
            "\u001b[2m\u001b[36m(launch_and_evaluate pid=78560)\u001b[0m [Client 0] evaluate, config: {}\u001b[32m [repeated 2x across cluster]\u001b[0m\n",
            "\u001b[2m\u001b[36m(launch_and_fit pid=78560)\u001b[0m Epoch 11: train loss 44.25066375732422, accuracy 0.8368456832087016\n",
            "\u001b[2m\u001b[36m(launch_and_fit pid=78560)\u001b[0m Epoch 15: train loss 15.6777982711792, accuracy 0.9157036029911625\u001b[32m [repeated 26x across cluster]\u001b[0m\n",
            "\u001b[2m\u001b[36m(launch_and_fit pid=78560)\u001b[0m Epoch 29: train loss 2.2710132598876953, accuracy 0.95581237253569\u001b[32m [repeated 28x across cluster]\u001b[0m\n",
            "\u001b[2m\u001b[36m(launch_and_fit pid=78561)\u001b[0m Epoch 37: train loss 1.2485092878341675, accuracy 0.9626104690686608\u001b[32m [repeated 16x across cluster]\u001b[0m\n",
            "\u001b[2m\u001b[36m(launch_and_fit pid=78561)\u001b[0m [Client 0] fit, config: {}\n",
            "\u001b[2m\u001b[36m(launch_and_fit pid=78561)\u001b[0m Epoch 1: train loss 450.1063537597656, accuracy 0.5098572399728076\u001b[32m [repeated 27x across cluster]\u001b[0m\n",
            "\u001b[2m\u001b[36m(launch_and_fit pid=78560)\u001b[0m Epoch 14: train loss 21.782888412475586, accuracy 0.8878314072059823\n",
            "\u001b[2m\u001b[36m(launch_and_fit pid=78561)\u001b[0m Epoch 15: train loss 17.234088897705078, accuracy 0.8987083616587356\u001b[32m [repeated 28x across cluster]\u001b[0m\n",
            "\u001b[2m\u001b[36m(launch_and_fit pid=78561)\u001b[0m Epoch 22: train loss 4.323252201080322, accuracy 0.9401767505098573\u001b[32m [repeated 15x across cluster]\u001b[0m\n",
            "\u001b[2m\u001b[36m(launch_and_fit pid=78561)\u001b[0m Epoch 36: train loss 1.0371742248535156, accuracy 0.9687287559483345\u001b[32m [repeated 27x across cluster]\u001b[0m\n",
            "\u001b[2m\u001b[36m(launch_and_fit pid=78561)\u001b[0m Epoch 49: train loss 0.8304699659347534, accuracy 0.9707681849082257\u001b[32m [repeated 27x across cluster]\u001b[0m\n"
          ]
        },
        {
          "metadata": {
            "tags": null
          },
          "name": "stderr",
          "output_type": "stream",
          "text": [
            "DEBUG flwr 2023-06-08 16:22:54,296 | server.py:232 | fit_round 18 received 4 results and 0 failures\n",
            "DEBUG:flwr:fit_round 18 received 4 results and 0 failures\n",
            "DEBUG flwr 2023-06-08 16:22:54,324 | server.py:168 | evaluate_round 18: strategy sampled 3 clients (out of 4)\n",
            "DEBUG:flwr:evaluate_round 18: strategy sampled 3 clients (out of 4)\n",
            "DEBUG flwr 2023-06-08 16:22:54,679 | server.py:182 | evaluate_round 18 received 3 results and 0 failures\n",
            "DEBUG:flwr:evaluate_round 18 received 3 results and 0 failures\n",
            "DEBUG flwr 2023-06-08 16:22:54,687 | server.py:218 | fit_round 19: strategy sampled 4 clients (out of 4)\n",
            "DEBUG:flwr:fit_round 19: strategy sampled 4 clients (out of 4)\n"
          ]
        },
        {
          "metadata": {
            "tags": null
          },
          "name": "stdout",
          "output_type": "stream",
          "text": [
            "\u001b[2m\u001b[36m(launch_and_evaluate pid=78561)\u001b[0m [Client 1] evaluate, config: {}\n",
            "\u001b[2m\u001b[36m(launch_and_evaluate pid=78561)\u001b[0m [Client 2] evaluate, config: {}\n",
            "\u001b[2m\u001b[36m(launch_and_fit pid=78561)\u001b[0m [Client 1] fit, config: {}\n",
            "\u001b[2m\u001b[36m(launch_and_fit pid=78561)\u001b[0m Epoch 6: train loss 86.35015106201172, accuracy 0.7647858599592114\u001b[32m [repeated 14x across cluster]\u001b[0m\n",
            "\u001b[2m\u001b[36m(launch_and_evaluate pid=78560)\u001b[0m Epoch 9: train loss 36.78820037841797, accuracy 0.8545207341944255\n",
            "\u001b[2m\u001b[36m(launch_and_fit pid=78560)\u001b[0m Epoch 10: train loss 28.243898391723633, accuracy 0.8796736913664174\n",
            "\u001b[2m\u001b[36m(launch_and_fit pid=78561)\u001b[0m Epoch 20: train loss 4.101919651031494, accuracy 0.9496940856560163\u001b[32m [repeated 28x across cluster]\u001b[0m\n",
            "\u001b[2m\u001b[36m(launch_and_fit pid=78561)\u001b[0m Epoch 33: train loss 1.0378254652023315, accuracy 0.9687287559483345\u001b[32m [repeated 26x across cluster]\u001b[0m\n",
            "\u001b[2m\u001b[36m(launch_and_fit pid=78561)\u001b[0m Epoch 42: train loss 0.8186466693878174, accuracy 0.973487423521414\u001b[32m [repeated 17x across cluster]\u001b[0m\n",
            "\u001b[2m\u001b[36m(launch_and_fit pid=78561)\u001b[0m [Client 2] fit, config: {}\n",
            "\u001b[2m\u001b[36m(launch_and_fit pid=78560)\u001b[0m Epoch 5: train loss 121.2081069946289, accuracy 0.7348742352141401\u001b[32m [repeated 28x across cluster]\u001b[0m\n",
            "\u001b[2m\u001b[36m(launch_and_fit pid=78560)\u001b[0m Epoch 13: train loss 14.493143081665039, accuracy 0.9089055064581917\n",
            "\u001b[2m\u001b[36m(launch_and_fit pid=78561)\u001b[0m Epoch 18: train loss 5.815257549285889, accuracy 0.946974847042828\u001b[32m [repeated 25x across cluster]\u001b[0m\n",
            "\u001b[2m\u001b[36m(launch_and_fit pid=78561)\u001b[0m Epoch 27: train loss 2.0972378253936768, accuracy 0.9673691366417403\u001b[32m [repeated 17x across cluster]\u001b[0m\n",
            "\u001b[2m\u001b[36m(launch_and_fit pid=78561)\u001b[0m Epoch 41: train loss 1.2453199625015259, accuracy 0.9721278042148198\u001b[32m [repeated 28x across cluster]\u001b[0m\n"
          ]
        },
        {
          "metadata": {
            "tags": null
          },
          "name": "stderr",
          "output_type": "stream",
          "text": [
            "DEBUG flwr 2023-06-08 16:23:38,534 | server.py:232 | fit_round 19 received 4 results and 0 failures\n",
            "DEBUG:flwr:fit_round 19 received 4 results and 0 failures\n",
            "DEBUG flwr 2023-06-08 16:23:38,562 | server.py:168 | evaluate_round 19: strategy sampled 3 clients (out of 4)\n",
            "DEBUG:flwr:evaluate_round 19: strategy sampled 3 clients (out of 4)\n",
            "DEBUG flwr 2023-06-08 16:23:38,868 | server.py:182 | evaluate_round 19 received 3 results and 0 failures\n",
            "DEBUG:flwr:evaluate_round 19 received 3 results and 0 failures\n",
            "DEBUG flwr 2023-06-08 16:23:38,873 | server.py:218 | fit_round 20: strategy sampled 4 clients (out of 4)\n",
            "DEBUG:flwr:fit_round 20: strategy sampled 4 clients (out of 4)\n"
          ]
        },
        {
          "metadata": {
            "tags": null
          },
          "name": "stdout",
          "output_type": "stream",
          "text": [
            "\u001b[2m\u001b[36m(launch_and_evaluate pid=78561)\u001b[0m [Client 1] evaluate, config: {}\n",
            "\u001b[2m\u001b[36m(launch_and_fit pid=78561)\u001b[0m [Client 3] fit, config: {}\n",
            "\u001b[2m\u001b[36m(launch_and_fit pid=78560)\u001b[0m Epoch 1: train loss 65.73282623291016, accuracy 0.752549286199864\u001b[32m [repeated 22x across cluster]\u001b[0m\n",
            "\u001b[2m\u001b[36m(launch_and_evaluate pid=78561)\u001b[0m [Client 3] evaluate, config: {}\u001b[32m [repeated 2x across cluster]\u001b[0m\n",
            "\u001b[2m\u001b[36m(launch_and_fit pid=78560)\u001b[0m Epoch 8: train loss 0.9340261220932007, accuracy 0.9707681849082257\n",
            "\u001b[2m\u001b[36m(launch_and_fit pid=78561)\u001b[0m Epoch 10: train loss 0.836118757724762, accuracy 0.9721278042148198\u001b[32m [repeated 17x across cluster]\u001b[0m\n",
            "\u001b[2m\u001b[36m(launch_and_fit pid=78561)\u001b[0m Epoch 24: train loss 0.6633456945419312, accuracy 0.9741672331747111\u001b[32m [repeated 28x across cluster]\u001b[0m\n",
            "\u001b[2m\u001b[36m(launch_and_fit pid=78561)\u001b[0m Epoch 36: train loss 0.5806599855422974, accuracy 0.9768864717878993\u001b[32m [repeated 25x across cluster]\u001b[0m\n",
            "\u001b[2m\u001b[36m(launch_and_fit pid=78561)\u001b[0m Epoch 46: train loss 0.5004318356513977, accuracy 0.9775662814411965\u001b[32m [repeated 20x across cluster]\u001b[0m\n",
            "\u001b[2m\u001b[36m(launch_and_fit pid=78560)\u001b[0m [Client 0] fit, config: {}\n",
            "\u001b[2m\u001b[36m(launch_and_fit pid=78561)\u001b[0m Epoch 10: train loss 1.374151349067688, accuracy 0.973487423521414\u001b[32m [repeated 28x across cluster]\u001b[0m\n",
            "\u001b[2m\u001b[36m(launch_and_fit pid=78561)\u001b[0m Epoch 13: train loss 1.3453338146209717, accuracy 0.9748470428280082\n",
            "\u001b[2m\u001b[36m(launch_and_fit pid=78561)\u001b[0m Epoch 21: train loss 1.2721617221832275, accuracy 0.9762066621346023\u001b[32m [repeated 22x across cluster]\u001b[0m\n",
            "\u001b[2m\u001b[36m(launch_and_fit pid=78560)\u001b[0m Epoch 33: train loss 0.6188026070594788, accuracy 0.972807613868117\u001b[32m [repeated 22x across cluster]\u001b[0m\n",
            "\u001b[2m\u001b[36m(launch_and_fit pid=78560)\u001b[0m Epoch 46: train loss 0.5523003935813904, accuracy 0.9748470428280082\u001b[32m [repeated 26x across cluster]\u001b[0m\n"
          ]
        },
        {
          "metadata": {
            "tags": null
          },
          "name": "stderr",
          "output_type": "stream",
          "text": [
            "DEBUG flwr 2023-06-08 16:24:23,809 | server.py:232 | fit_round 20 received 4 results and 0 failures\n",
            "DEBUG:flwr:fit_round 20 received 4 results and 0 failures\n",
            "DEBUG flwr 2023-06-08 16:24:23,840 | server.py:168 | evaluate_round 20: strategy sampled 3 clients (out of 4)\n",
            "DEBUG:flwr:evaluate_round 20: strategy sampled 3 clients (out of 4)\n",
            "DEBUG flwr 2023-06-08 16:24:24,053 | server.py:182 | evaluate_round 20 received 3 results and 0 failures\n",
            "DEBUG:flwr:evaluate_round 20 received 3 results and 0 failures\n",
            "DEBUG flwr 2023-06-08 16:24:24,062 | server.py:218 | fit_round 21: strategy sampled 4 clients (out of 4)\n",
            "DEBUG:flwr:fit_round 21: strategy sampled 4 clients (out of 4)\n"
          ]
        },
        {
          "metadata": {
            "tags": null
          },
          "name": "stdout",
          "output_type": "stream",
          "text": [
            "\u001b[2m\u001b[36m(launch_and_evaluate pid=78561)\u001b[0m [Client 0] evaluate, config: {}\n",
            "\u001b[2m\u001b[36m(launch_and_evaluate pid=78561)\u001b[0m [Client 3] evaluate, config: {}\n",
            "\u001b[2m\u001b[36m(launch_and_fit pid=78561)\u001b[0m [Client 2] fit, config: {}\n",
            "\u001b[2m\u001b[36m(launch_and_fit pid=78561)\u001b[0m Epoch 4: train loss 36.60105895996094, accuracy 0.8973487423521413\u001b[32m [repeated 18x across cluster]\u001b[0m\n",
            "\u001b[2m\u001b[36m(launch_and_evaluate pid=78560)\u001b[0m Epoch 7: train loss 18.100460052490234, accuracy 0.9259007477906186\n",
            "\u001b[2m\u001b[36m(launch_and_fit pid=78560)\u001b[0m Epoch 8: train loss 13.48855209350586, accuracy 0.9326988443235894\n",
            "\u001b[2m\u001b[36m(launch_and_fit pid=78560)\u001b[0m Epoch 15: train loss 1.8993983268737793, accuracy 0.9687287559483345\u001b[32m [repeated 21x across cluster]\u001b[0m\n",
            "\u001b[2m\u001b[36m(launch_and_fit pid=78561)\u001b[0m Epoch 28: train loss 1.676770806312561, accuracy 0.9809653297076818\u001b[32m [repeated 27x across cluster]\u001b[0m\n",
            "\u001b[2m\u001b[36m(launch_and_fit pid=78561)\u001b[0m Epoch 38: train loss 1.458253264427185, accuracy 0.9796057104010877\u001b[32m [repeated 20x across cluster]\u001b[0m\n",
            "\u001b[2m\u001b[36m(launch_and_fit pid=78561)\u001b[0m Epoch 49: train loss 1.3776766061782837, accuracy 0.981645139360979\u001b[32m [repeated 22x across cluster]\u001b[0m\n",
            "\u001b[2m\u001b[36m(launch_and_fit pid=78560)\u001b[0m [Client 1] fit, config: {}\n",
            "\u001b[2m\u001b[36m(launch_and_fit pid=78560)\u001b[0m Epoch 13: train loss 4.903255462646484, accuracy 0.9571719918422842\u001b[32m [repeated 27x across cluster]\u001b[0m\n",
            "\u001b[2m\u001b[36m(launch_and_fit pid=78561)\u001b[0m Epoch 13: train loss 4.903255462646484, accuracy 0.9571719918422842\n",
            "\u001b[2m\u001b[36m(launch_and_fit pid=78560)\u001b[0m Epoch 23: train loss 0.9063911437988281, accuracy 0.9789259007477906\u001b[32m [repeated 20x across cluster]\u001b[0m\n",
            "\u001b[2m\u001b[36m(launch_and_fit pid=78561)\u001b[0m Epoch 33: train loss 0.8207717537879944, accuracy 0.973487423521414\u001b[32m [repeated 21x across cluster]\u001b[0m\n",
            "\u001b[2m\u001b[36m(launch_and_fit pid=78561)\u001b[0m Epoch 47: train loss 0.691209077835083, accuracy 0.973487423521414\u001b[32m [repeated 28x across cluster]\u001b[0m\n"
          ]
        },
        {
          "metadata": {
            "tags": null
          },
          "name": "stderr",
          "output_type": "stream",
          "text": [
            "DEBUG flwr 2023-06-08 16:25:09,297 | server.py:232 | fit_round 21 received 4 results and 0 failures\n",
            "DEBUG:flwr:fit_round 21 received 4 results and 0 failures\n",
            "DEBUG flwr 2023-06-08 16:25:09,334 | server.py:168 | evaluate_round 21: strategy sampled 3 clients (out of 4)\n",
            "DEBUG:flwr:evaluate_round 21: strategy sampled 3 clients (out of 4)\n",
            "DEBUG flwr 2023-06-08 16:25:09,549 | server.py:182 | evaluate_round 21 received 3 results and 0 failures\n",
            "DEBUG:flwr:evaluate_round 21 received 3 results and 0 failures\n",
            "DEBUG flwr 2023-06-08 16:25:09,557 | server.py:218 | fit_round 22: strategy sampled 4 clients (out of 4)\n",
            "DEBUG:flwr:fit_round 22: strategy sampled 4 clients (out of 4)\n"
          ]
        },
        {
          "metadata": {
            "tags": null
          },
          "name": "stdout",
          "output_type": "stream",
          "text": [
            "\u001b[2m\u001b[36m(launch_and_evaluate pid=78561)\u001b[0m [Client 1] evaluate, config: {}\n",
            "\u001b[2m\u001b[36m(launch_and_fit pid=78561)\u001b[0m [Client 1] fit, config: {}\n",
            "\u001b[2m\u001b[36m(launch_and_fit pid=78560)\u001b[0m Epoch 6: train loss 56.891395568847656, accuracy 0.8959891230455472\u001b[32m [repeated 17x across cluster]\u001b[0m\n",
            "\u001b[2m\u001b[36m(launch_and_evaluate pid=78560)\u001b[0m [Client 3] evaluate, config: {}\u001b[32m [repeated 2x across cluster]\u001b[0m\n",
            "\u001b[2m\u001b[36m(launch_and_fit pid=78560)\u001b[0m Epoch 8: train loss 38.53302001953125, accuracy 0.9157036029911625\n",
            "\u001b[2m\u001b[36m(launch_and_fit pid=78561)\u001b[0m Epoch 17: train loss 5.711724758148193, accuracy 0.9571719918422842\u001b[32m [repeated 23x across cluster]\u001b[0m\n",
            "\u001b[2m\u001b[36m(launch_and_fit pid=78561)\u001b[0m Epoch 31: train loss 0.8393588066101074, accuracy 0.9775662814411965\u001b[32m [repeated 28x across cluster]\u001b[0m\n",
            "\u001b[2m\u001b[36m(launch_and_fit pid=78560)\u001b[0m Epoch 41: train loss 1.5370936393737793, accuracy 0.9768864717878993\u001b[32m [repeated 19x across cluster]\u001b[0m\n",
            "\u001b[2m\u001b[36m(launch_and_fit pid=78560)\u001b[0m [Client 0] fit, config: {}\n",
            "\u001b[2m\u001b[36m(launch_and_fit pid=78561)\u001b[0m Epoch 2: train loss 132.15615844726562, accuracy 0.7593473827328348\u001b[32m [repeated 23x across cluster]\u001b[0m\n",
            "\u001b[2m\u001b[36m(launch_and_fit pid=78561)\u001b[0m Epoch 13: train loss 11.987394332885742, accuracy 0.9408565601631543\n",
            "\u001b[2m\u001b[36m(launch_and_fit pid=78560)\u001b[0m Epoch 16: train loss 5.292773723602295, accuracy 0.9578518014955812\u001b[32m [repeated 27x across cluster]\u001b[0m\n",
            "\u001b[2m\u001b[36m(launch_and_fit pid=78561)\u001b[0m Epoch 24: train loss 1.5346646308898926, accuracy 0.973487423521414\u001b[32m [repeated 18x across cluster]\u001b[0m\n",
            "\u001b[2m\u001b[36m(launch_and_fit pid=78561)\u001b[0m Epoch 36: train loss 0.8778825402259827, accuracy 0.9755268524813052\u001b[32m [repeated 24x across cluster]\u001b[0m\n"
          ]
        },
        {
          "metadata": {
            "tags": null
          },
          "name": "stderr",
          "output_type": "stream",
          "text": [
            "DEBUG flwr 2023-06-08 16:25:54,936 | server.py:232 | fit_round 22 received 4 results and 0 failures\n",
            "DEBUG:flwr:fit_round 22 received 4 results and 0 failures\n",
            "DEBUG flwr 2023-06-08 16:25:54,968 | server.py:168 | evaluate_round 22: strategy sampled 3 clients (out of 4)\n",
            "DEBUG:flwr:evaluate_round 22: strategy sampled 3 clients (out of 4)\n",
            "DEBUG flwr 2023-06-08 16:25:55,188 | server.py:182 | evaluate_round 22 received 3 results and 0 failures\n",
            "DEBUG:flwr:evaluate_round 22 received 3 results and 0 failures\n",
            "DEBUG flwr 2023-06-08 16:25:55,193 | server.py:218 | fit_round 23: strategy sampled 4 clients (out of 4)\n",
            "DEBUG:flwr:fit_round 23: strategy sampled 4 clients (out of 4)\n"
          ]
        },
        {
          "metadata": {
            "tags": null
          },
          "name": "stdout",
          "output_type": "stream",
          "text": [
            "\u001b[2m\u001b[36m(launch_and_fit pid=78561)\u001b[0m Epoch 50: train loss 0.6628251075744629, accuracy 0.972807613868117\u001b[32m [repeated 27x across cluster]\u001b[0m\n",
            "\u001b[2m\u001b[36m(launch_and_evaluate pid=78561)\u001b[0m [Client 2] evaluate, config: {}\n",
            "\u001b[2m\u001b[36m(launch_and_evaluate pid=78561)\u001b[0m [Client 0] evaluate, config: {}\n",
            "\u001b[2m\u001b[36m(launch_and_fit pid=78561)\u001b[0m [Client 3] fit, config: {}\n",
            "\u001b[2m\u001b[36m(launch_and_fit pid=78561)\u001b[0m Epoch 8: train loss 7.6584625244140625, accuracy 0.9524133242692047\u001b[32m [repeated 16x across cluster]\u001b[0m\n",
            "\u001b[2m\u001b[36m(launch_and_evaluate pid=78560)\u001b[0m Epoch 8: train loss 7.6584625244140625, accuracy 0.9524133242692047\n",
            "\u001b[2m\u001b[36m(launch_and_fit pid=78560)\u001b[0m Epoch 9: train loss 6.0109381675720215, accuracy 0.9564921821889871\n",
            "\u001b[2m\u001b[36m(launch_and_fit pid=78561)\u001b[0m Epoch 20: train loss 1.0573222637176514, accuracy 0.9755268524813052\u001b[32m [repeated 25x across cluster]\u001b[0m\n",
            "\u001b[2m\u001b[36m(launch_and_fit pid=78561)\u001b[0m Epoch 34: train loss 0.6261327862739563, accuracy 0.9748470428280082\u001b[32m [repeated 27x across cluster]\u001b[0m\n",
            "\u001b[2m\u001b[36m(launch_and_fit pid=78561)\u001b[0m Epoch 43: train loss 0.5748609304428101, accuracy 0.9782460910944936\u001b[32m [repeated 18x across cluster]\u001b[0m\n",
            "\u001b[2m\u001b[36m(launch_and_fit pid=78560)\u001b[0m [Client 0] fit, config: {}\n",
            "\u001b[2m\u001b[36m(launch_and_fit pid=78561)\u001b[0m Epoch 5: train loss 18.852264404296875, accuracy 0.9286199864038069\u001b[32m [repeated 24x across cluster]\u001b[0m\n",
            "\u001b[2m\u001b[36m(launch_and_fit pid=78561)\u001b[0m Epoch 14: train loss 1.4284636974334717, accuracy 0.9748470428280082\n",
            "\u001b[2m\u001b[36m(launch_and_fit pid=78560)\u001b[0m Epoch 19: train loss 0.7831231355667114, accuracy 0.9789259007477906\u001b[32m [repeated 27x across cluster]\u001b[0m\n",
            "\u001b[2m\u001b[36m(launch_and_fit pid=78560)\u001b[0m Epoch 28: train loss 0.5074682831764221, accuracy 0.9809653297076818\u001b[32m [repeated 17x across cluster]\u001b[0m\n",
            "\u001b[2m\u001b[36m(launch_and_fit pid=78561)\u001b[0m Epoch 39: train loss 0.4663412868976593, accuracy 0.9809653297076818\u001b[32m [repeated 24x across cluster]\u001b[0m\n"
          ]
        },
        {
          "metadata": {
            "tags": null
          },
          "name": "stderr",
          "output_type": "stream",
          "text": [
            "DEBUG flwr 2023-06-08 16:26:40,241 | server.py:232 | fit_round 23 received 4 results and 0 failures\n",
            "DEBUG:flwr:fit_round 23 received 4 results and 0 failures\n",
            "DEBUG flwr 2023-06-08 16:26:40,272 | server.py:168 | evaluate_round 23: strategy sampled 3 clients (out of 4)\n",
            "DEBUG:flwr:evaluate_round 23: strategy sampled 3 clients (out of 4)\n",
            "DEBUG flwr 2023-06-08 16:26:40,517 | server.py:182 | evaluate_round 23 received 3 results and 0 failures\n",
            "DEBUG:flwr:evaluate_round 23 received 3 results and 0 failures\n",
            "DEBUG flwr 2023-06-08 16:26:40,525 | server.py:218 | fit_round 24: strategy sampled 4 clients (out of 4)\n",
            "DEBUG:flwr:fit_round 24: strategy sampled 4 clients (out of 4)\n"
          ]
        },
        {
          "metadata": {
            "tags": null
          },
          "name": "stdout",
          "output_type": "stream",
          "text": [
            "\u001b[2m\u001b[36m(launch_and_evaluate pid=78561)\u001b[0m [Client 2] evaluate, config: {}\n",
            "\u001b[2m\u001b[36m(launch_and_fit pid=78561)\u001b[0m [Client 0] fit, config: {}\n",
            "\u001b[2m\u001b[36m(launch_and_fit pid=78561)\u001b[0m Epoch 1: train loss 17.615861892700195, accuracy 0.8048946295037389\u001b[32m [repeated 24x across cluster]\u001b[0m\n",
            "\u001b[2m\u001b[36m(launch_and_evaluate pid=78561)\u001b[0m [Client 0] evaluate, config: {}\u001b[32m [repeated 2x across cluster]\u001b[0m\n",
            "\u001b[2m\u001b[36m(launch_and_fit pid=78560)\u001b[0m Epoch 9: train loss 0.6531000137329102, accuracy 0.9782460910944936\n",
            "\u001b[2m\u001b[36m(launch_and_fit pid=78560)\u001b[0m Epoch 10: train loss 1.2250205278396606, accuracy 0.9762066621346023\u001b[32m [repeated 17x across cluster]\u001b[0m\n",
            "\u001b[2m\u001b[36m(launch_and_fit pid=78561)\u001b[0m Epoch 22: train loss 0.38493674993515015, accuracy 0.9802855200543847\u001b[32m [repeated 25x across cluster]\u001b[0m\n",
            "\u001b[2m\u001b[36m(launch_and_fit pid=78561)\u001b[0m \n",
            "\u001b[2m\u001b[36m(launch_and_fit pid=78561)\u001b[0m Epoch 36: train loss 0.34340527653694153, accuracy 0.9802855200543847\u001b[32m [repeated 27x across cluster]\u001b[0m\n",
            "\u001b[2m\u001b[36m(launch_and_fit pid=78561)\u001b[0m Epoch 44: train loss 0.3183104693889618, accuracy 0.981645139360979\u001b[32m [repeated 17x across cluster]\u001b[0m\n",
            "\u001b[2m\u001b[36m(launch_and_fit pid=78560)\u001b[0m [Client 3] fit, config: {}\n",
            "\u001b[2m\u001b[36m(launch_and_fit pid=78560)\u001b[0m Epoch 1: train loss 17.038169860839844, accuracy 0.8212100611828688\u001b[32m [repeated 13x across cluster]\u001b[0m\n",
            "\u001b[2m\u001b[36m(launch_and_fit pid=78561)\u001b[0m Epoch 12: train loss 0.6069168448448181, accuracy 0.9768864717878993\n",
            "\u001b[2m\u001b[36m(launch_and_fit pid=78560)\u001b[0m Epoch 14: train loss 0.5786227583885193, accuracy 0.9775662814411965\u001b[32m [repeated 26x across cluster]\u001b[0m\n",
            "\u001b[2m\u001b[36m(launch_and_fit pid=78561)\u001b[0m Epoch 25: train loss 0.454117089509964, accuracy 0.9789259007477906\u001b[32m [repeated 22x across cluster]\u001b[0m\n",
            "\u001b[2m\u001b[36m(launch_and_fit pid=78561)\u001b[0m Epoch 36: train loss 0.4028010070323944, accuracy 0.981645139360979\u001b[32m [repeated 22x across cluster]\u001b[0m\n"
          ]
        },
        {
          "metadata": {
            "tags": null
          },
          "name": "stderr",
          "output_type": "stream",
          "text": [
            "DEBUG flwr 2023-06-08 16:27:28,246 | server.py:232 | fit_round 24 received 4 results and 0 failures\n",
            "DEBUG:flwr:fit_round 24 received 4 results and 0 failures\n",
            "DEBUG flwr 2023-06-08 16:27:28,279 | server.py:168 | evaluate_round 24: strategy sampled 3 clients (out of 4)\n",
            "DEBUG:flwr:evaluate_round 24: strategy sampled 3 clients (out of 4)\n"
          ]
        },
        {
          "metadata": {
            "tags": null
          },
          "name": "stdout",
          "output_type": "stream",
          "text": [
            "\u001b[2m\u001b[36m(launch_and_fit pid=78561)\u001b[0m Epoch 50: train loss 0.36056533455848694, accuracy 0.9836845683208701\u001b[32m [repeated 28x across cluster]\u001b[0m\n"
          ]
        },
        {
          "metadata": {
            "tags": null
          },
          "name": "stderr",
          "output_type": "stream",
          "text": [
            "DEBUG flwr 2023-06-08 16:27:28,509 | server.py:182 | evaluate_round 24 received 3 results and 0 failures\n",
            "DEBUG:flwr:evaluate_round 24 received 3 results and 0 failures\n",
            "DEBUG flwr 2023-06-08 16:27:28,517 | server.py:218 | fit_round 25: strategy sampled 4 clients (out of 4)\n",
            "DEBUG:flwr:fit_round 25: strategy sampled 4 clients (out of 4)\n"
          ]
        },
        {
          "metadata": {
            "tags": null
          },
          "name": "stdout",
          "output_type": "stream",
          "text": [
            "\u001b[2m\u001b[36m(launch_and_evaluate pid=78561)\u001b[0m [Client 2] evaluate, config: {}\n",
            "\u001b[2m\u001b[36m(launch_and_evaluate pid=78561)\u001b[0m [Client 3] evaluate, config: {}\n",
            "\u001b[2m\u001b[36m(launch_and_fit pid=78561)\u001b[0m [Client 2] fit, config: {}\n",
            "\u001b[2m\u001b[36m(launch_and_fit pid=78561)\u001b[0m Epoch 8: train loss 22.170242309570312, accuracy 0.9184228416043508\u001b[32m [repeated 17x across cluster]\u001b[0m\n",
            "\u001b[2m\u001b[36m(launch_and_evaluate pid=78560)\u001b[0m Epoch 9: train loss 16.86380958557129, accuracy 0.9320190346702923\n",
            "\u001b[2m\u001b[36m(launch_and_fit pid=78560)\u001b[0m Epoch 9: train loss 16.86380958557129, accuracy 0.9320190346702923\n",
            "\u001b[2m\u001b[36m(launch_and_fit pid=78561)\u001b[0m Epoch 19: train loss 2.348238468170166, accuracy 0.9694085656016316\u001b[32m [repeated 22x across cluster]\u001b[0m\n",
            "\u001b[2m\u001b[36m(launch_and_fit pid=78560)\u001b[0m Epoch 34: train loss 0.5359553098678589, accuracy 0.9809653297076818\u001b[32m [repeated 28x across cluster]\u001b[0m\n",
            "\u001b[2m\u001b[36m(launch_and_fit pid=78561)\u001b[0m Epoch 43: train loss 0.8958625793457031, accuracy 0.9850441876274643\u001b[32m [repeated 21x across cluster]\u001b[0m\n",
            "\u001b[2m\u001b[36m(launch_and_fit pid=78560)\u001b[0m [Client 3] fit, config: {}\n",
            "\u001b[2m\u001b[36m(launch_and_fit pid=78561)\u001b[0m Epoch 4: train loss 77.2509536743164, accuracy 0.822569680489463\u001b[32m [repeated 21x across cluster]\u001b[0m\n",
            "\u001b[2m\u001b[36m(launch_and_fit pid=78561)\u001b[0m Epoch 13: train loss 4.876982688903809, accuracy 0.9578518014955812\n",
            "\u001b[2m\u001b[36m(launch_and_fit pid=78561)\u001b[0m Epoch 18: train loss 2.092557907104492, accuracy 0.9714479945615228\u001b[32m [repeated 28x across cluster]\u001b[0m\n",
            "\u001b[2m\u001b[36m(launch_and_fit pid=78561)\u001b[0m Epoch 28: train loss 0.9678218960762024, accuracy 0.9782460910944936\u001b[32m [repeated 20x across cluster]\u001b[0m\n",
            "\u001b[2m\u001b[36m(launch_and_fit pid=78560)\u001b[0m Epoch 40: train loss 0.5032271146774292, accuracy 0.982324949014276\u001b[32m [repeated 23x across cluster]\u001b[0m\n"
          ]
        },
        {
          "metadata": {
            "tags": null
          },
          "name": "stderr",
          "output_type": "stream",
          "text": [
            "DEBUG flwr 2023-06-08 16:28:13,397 | server.py:232 | fit_round 25 received 4 results and 0 failures\n",
            "DEBUG:flwr:fit_round 25 received 4 results and 0 failures\n",
            "DEBUG flwr 2023-06-08 16:28:13,447 | server.py:168 | evaluate_round 25: strategy sampled 3 clients (out of 4)\n",
            "DEBUG:flwr:evaluate_round 25: strategy sampled 3 clients (out of 4)\n",
            "DEBUG flwr 2023-06-08 16:28:13,696 | server.py:182 | evaluate_round 25 received 3 results and 0 failures\n",
            "DEBUG:flwr:evaluate_round 25 received 3 results and 0 failures\n",
            "INFO flwr 2023-06-08 16:28:13,703 | server.py:147 | FL finished in 1163.2844899850006\n",
            "INFO:flwr:FL finished in 1163.2844899850006\n",
            "INFO flwr 2023-06-08 16:28:13,704 | app.py:218 | app_fit: losses_distributed [(1, 0.3378746594005449), (2, 0.3369663941871026), (3, 0.3369663941871026), (4, 0.13714804722979113), (5, 0.13714804722979113), (6, 0.477747502270663), (7, 0.16167120799273388), (8, 0.4613987284287011), (9, 0.4822888283378746), (10, 0.3088101725703905), (11, 0.31335149863760214), (12, 0.7756584922797456), (13, 0.5049954586739328), (14, 0.5867393278837421), (15, 0.5049954586739328), (16, 0.4604904632152588), (17, 0.49682107175295187), (18, 0.39963669391462303), (19, 0.7148047229791099), (20, 0.48501362397820164), (21, 0.6194368755676657), (22, 0.6148955495004541), (23, 0.7257039055404177), (24, 0.5095367847411444), (25, 0.33605812897366033)]\n",
            "INFO:flwr:app_fit: losses_distributed [(1, 0.3378746594005449), (2, 0.3369663941871026), (3, 0.3369663941871026), (4, 0.13714804722979113), (5, 0.13714804722979113), (6, 0.477747502270663), (7, 0.16167120799273388), (8, 0.4613987284287011), (9, 0.4822888283378746), (10, 0.3088101725703905), (11, 0.31335149863760214), (12, 0.7756584922797456), (13, 0.5049954586739328), (14, 0.5867393278837421), (15, 0.5049954586739328), (16, 0.4604904632152588), (17, 0.49682107175295187), (18, 0.39963669391462303), (19, 0.7148047229791099), (20, 0.48501362397820164), (21, 0.6194368755676657), (22, 0.6148955495004541), (23, 0.7257039055404177), (24, 0.5095367847411444), (25, 0.33605812897366033)]\n",
            "INFO flwr 2023-06-08 16:28:13,714 | app.py:219 | app_fit: metrics_distributed_fit {}\n",
            "INFO:flwr:app_fit: metrics_distributed_fit {}\n",
            "INFO flwr 2023-06-08 16:28:13,720 | app.py:220 | app_fit: metrics_distributed {}\n",
            "INFO:flwr:app_fit: metrics_distributed {}\n",
            "INFO flwr 2023-06-08 16:28:13,724 | app.py:221 | app_fit: losses_centralized []\n",
            "INFO:flwr:app_fit: losses_centralized []\n",
            "INFO flwr 2023-06-08 16:28:13,729 | app.py:222 | app_fit: metrics_centralized {}\n",
            "INFO:flwr:app_fit: metrics_centralized {}\n"
          ]
        },
        {
          "metadata": {
            "tags": null
          },
          "name": "stdout",
          "output_type": "stream",
          "text": [
            "\u001b[2m\u001b[36m(launch_and_evaluate pid=78561)\u001b[0m [Client 3] evaluate, config: {}\n",
            "\u001b[2m\u001b[36m(launch_and_evaluate pid=78561)\u001b[0m [Client 1] evaluate, config: {}\n"
          ]
        },
        {
          "data": {
            "image/png": "[encoded data removed]",
            "text/plain": [
              "<Figure size 640x480 with 1 Axes>"
            ]
          },
          "metadata": {},
          "output_type": "display_data"
        },
        {
          "metadata": {
            "tags": null
          },
          "name": "stderr",
          "output_type": "stream",
          "text": [
            "INFO flwr 2023-06-08 16:28:14,276 | app.py:146 | Starting Flower simulation, config: ServerConfig(num_rounds=25, round_timeout=None)\n",
            "INFO:flwr:Starting Flower simulation, config: ServerConfig(num_rounds=25, round_timeout=None)\n"
          ]
        },
        {
          "metadata": {
            "tags": null
          },
          "name": "stdout",
          "output_type": "stream",
          "text": [
            "\n",
            "Analyzing Strategy... :  Fedyogi\n",
            "\u001b[2m\u001b[36m(launch_and_fit pid=78561)\u001b[0m Epoch 50: train loss 0.30116066336631775, accuracy 0.9830047586675731\u001b[32m [repeated 21x across cluster]\u001b[0m\n",
            "\u001b[2m\u001b[36m(launch_and_evaluate pid=78560)\u001b[0m [Client 0] evaluate, config: {}\n"
          ]
        },
        {
          "metadata": {
            "tags": null
          },
          "name": "stderr",
          "output_type": "stream",
          "text": [
            "\u001b[2m\u001b[36m(pid=78561)\u001b[0m 2023-06-08 16:08:52.757996: W tensorflow/compiler/tf2tensorrt/utils/py_utils.cc:38] TF-TRT Warning: Could not find TensorRT\n",
            "2023-06-08 16:28:20,431\tINFO worker.py:1625 -- Started a local Ray instance.\n",
            "INFO flwr 2023-06-08 16:28:22,108 | app.py:180 | Flower VCE: Ray initialized with resources: {'CPU': 2.0, 'node:172.28.0.12': 1.0, 'GPU': 1.0, 'memory': 7845467751.0, 'object_store_memory': 3922733875.0}\n",
            "INFO:flwr:Flower VCE: Ray initialized with resources: {'CPU': 2.0, 'node:172.28.0.12': 1.0, 'GPU': 1.0, 'memory': 7845467751.0, 'object_store_memory': 3922733875.0}\n",
            "INFO flwr 2023-06-08 16:28:22,122 | server.py:86 | Initializing global parameters\n",
            "INFO:flwr:Initializing global parameters\n",
            "INFO flwr 2023-06-08 16:28:22,125 | server.py:269 | Using initial parameters provided by strategy\n",
            "INFO:flwr:Using initial parameters provided by strategy\n",
            "INFO flwr 2023-06-08 16:28:22,130 | server.py:88 | Evaluating initial parameters\n",
            "INFO:flwr:Evaluating initial parameters\n",
            "INFO flwr 2023-06-08 16:28:22,137 | server.py:101 | FL starting\n",
            "INFO:flwr:FL starting\n",
            "DEBUG flwr 2023-06-08 16:28:22,139 | server.py:218 | fit_round 1: strategy sampled 4 clients (out of 4)\n",
            "DEBUG:flwr:fit_round 1: strategy sampled 4 clients (out of 4)\n",
            "\u001b[2m\u001b[36m(pid=89122)\u001b[0m 2023-06-08 16:28:24.471579: W tensorflow/compiler/tf2tensorrt/utils/py_utils.cc:38] TF-TRT Warning: Could not find TensorRT\n"
          ]
        },
        {
          "metadata": {
            "tags": null
          },
          "name": "stdout",
          "output_type": "stream",
          "text": [
            "\u001b[2m\u001b[36m(launch_and_fit pid=89122)\u001b[0m [Client 0] fit, config: {}\n",
            "\u001b[2m\u001b[36m(launch_and_fit pid=89122)\u001b[0m Epoch 1: train loss 0.025299381464719772, accuracy 0.469068660774983\n",
            "\u001b[2m\u001b[36m(launch_and_fit pid=89121)\u001b[0m Epoch 9: train loss 0.007121688220649958, accuracy 0.849082256968049\n",
            "\u001b[2m\u001b[36m(launch_and_fit pid=89122)\u001b[0m Epoch 10: train loss 0.006558872759342194, accuracy 0.8626784500339905\u001b[32m [repeated 18x across cluster]\u001b[0m\n",
            "\u001b[2m\u001b[36m(launch_and_fit pid=89121)\u001b[0m Epoch 25: train loss 0.0026019816286861897, accuracy 0.9524133242692047\u001b[32m [repeated 31x across cluster]\u001b[0m\n",
            "\u001b[2m\u001b[36m(launch_and_fit pid=89122)\u001b[0m Epoch 40: train loss 0.0014654999831691384, accuracy 0.9768864717878993\u001b[32m [repeated 29x across cluster]\u001b[0m\n",
            "\u001b[2m\u001b[36m(launch_and_fit pid=89122)\u001b[0m Epoch 48: train loss 0.0011576071847230196, accuracy 0.9809653297076818\u001b[32m [repeated 16x across cluster]\u001b[0m\n",
            "\u001b[2m\u001b[36m(launch_and_fit pid=89122)\u001b[0m [Client 1] fit, config: {}\n",
            "\u001b[2m\u001b[36m(launch_and_fit pid=89122)\u001b[0m Epoch 13: train loss 0.005140591878443956, accuracy 0.8898708361658736\u001b[32m [repeated 30x across cluster]\u001b[0m\n",
            "\u001b[2m\u001b[36m(launch_and_fit pid=89121)\u001b[0m Epoch 16: train loss 0.0041932640597224236, accuracy 0.9089055064581917\n",
            "\u001b[2m\u001b[36m(launch_and_fit pid=89122)\u001b[0m \n",
            "\u001b[2m\u001b[36m(launch_and_fit pid=89121)\u001b[0m Epoch 28: train loss 0.002284594578668475, accuracy 0.9530931339225017\u001b[32m [repeated 30x across cluster]\u001b[0m\n",
            "\u001b[2m\u001b[36m(launch_and_fit pid=89122)\u001b[0m Epoch 36: train loss 0.0017805756069719791, accuracy 0.9632902787219578\u001b[32m [repeated 16x across cluster]\u001b[0m\n"
          ]
        },
        {
          "metadata": {
            "tags": null
          },
          "name": "stderr",
          "output_type": "stream",
          "text": [
            "DEBUG flwr 2023-06-08 16:29:10,957 | server.py:232 | fit_round 1 received 4 results and 0 failures\n",
            "DEBUG:flwr:fit_round 1 received 4 results and 0 failures\n",
            "WARNING flwr 2023-06-08 16:29:10,982 | fedavg.py:243 | No fit_metrics_aggregation_fn provided\n",
            "WARNING:flwr:No fit_metrics_aggregation_fn provided\n",
            "DEBUG flwr 2023-06-08 16:29:10,999 | server.py:168 | evaluate_round 1: strategy sampled 3 clients (out of 4)\n",
            "DEBUG:flwr:evaluate_round 1: strategy sampled 3 clients (out of 4)\n"
          ]
        },
        {
          "metadata": {
            "tags": null
          },
          "name": "stdout",
          "output_type": "stream",
          "text": [
            "\u001b[2m\u001b[36m(launch_and_fit pid=89121)\u001b[0m Epoch 50: train loss 0.0011559062404558063, accuracy 0.9755268524813052\u001b[32m [repeated 28x across cluster]\u001b[0m\n"
          ]
        },
        {
          "metadata": {
            "tags": null
          },
          "name": "stderr",
          "output_type": "stream",
          "text": [
            "DEBUG flwr 2023-06-08 16:29:11,280 | server.py:182 | evaluate_round 1 received 3 results and 0 failures\n",
            "DEBUG:flwr:evaluate_round 1 received 3 results and 0 failures\n",
            "WARNING flwr 2023-06-08 16:29:11,285 | fedavg.py:274 | No evaluate_metrics_aggregation_fn provided\n",
            "WARNING:flwr:No evaluate_metrics_aggregation_fn provided\n",
            "DEBUG flwr 2023-06-08 16:29:11,292 | server.py:218 | fit_round 2: strategy sampled 4 clients (out of 4)\n",
            "DEBUG:flwr:fit_round 2: strategy sampled 4 clients (out of 4)\n"
          ]
        },
        {
          "metadata": {
            "tags": null
          },
          "name": "stdout",
          "output_type": "stream",
          "text": [
            "\u001b[2m\u001b[36m(launch_and_evaluate pid=89122)\u001b[0m [Client 1] evaluate, config: {}\n",
            "\u001b[2m\u001b[36m(launch_and_fit pid=89122)\u001b[0m [Client 3] fit, config: {}\n",
            "\u001b[2m\u001b[36m(launch_and_fit pid=89121)\u001b[0m Epoch 13: train loss 0.002757374197244644, accuracy 0.9564921821889871\u001b[32m [repeated 26x across cluster]\u001b[0m\n",
            "\u001b[2m\u001b[36m(launch_and_evaluate pid=89122)\u001b[0m [Client 0] evaluate, config: {}\u001b[32m [repeated 2x across cluster]\u001b[0m\n",
            "\u001b[2m\u001b[36m(launch_and_fit pid=89121)\u001b[0m Epoch 14: train loss 0.0026006654370576143, accuracy 0.9605710401087696\n",
            "\u001b[2m\u001b[36m(launch_and_fit pid=89121)\u001b[0m Epoch 23: train loss 0.0016778614372015, accuracy 0.9741672331747111\u001b[32m [repeated 20x across cluster]\u001b[0m\n",
            "\u001b[2m\u001b[36m(launch_and_fit pid=89122)\u001b[0m Epoch 38: train loss 0.0010851917322725058, accuracy 0.9775662814411965\u001b[32m [repeated 30x across cluster]\u001b[0m\n",
            "\u001b[2m\u001b[36m(launch_and_fit pid=89121)\u001b[0m [Client 1] fit, config: {}\n",
            "\u001b[2m\u001b[36m(launch_and_fit pid=89122)\u001b[0m Epoch 1: train loss 0.009583162143826485, accuracy 0.8959891230455472\u001b[32m [repeated 26x across cluster]\u001b[0m\n",
            "\u001b[2m\u001b[36m(launch_and_fit pid=89122)\u001b[0m Epoch 9: train loss 0.0034996126778423786, accuracy 0.9313392250169953\n",
            "\u001b[2m\u001b[36m(launch_and_fit pid=89122)\u001b[0m Epoch 11: train loss 0.0030520884320139885, accuracy 0.9428959891230455\u001b[32m [repeated 20x across cluster]\u001b[0m\n",
            "\u001b[2m\u001b[36m(launch_and_fit pid=89122)\u001b[0m Epoch 26: train loss 0.0014676798600703478, accuracy 0.9782460910944936\u001b[32m [repeated 31x across cluster]\u001b[0m\n",
            "\u001b[2m\u001b[36m(launch_and_fit pid=89121)\u001b[0m Epoch 41: train loss 0.001032590982504189, accuracy 0.9830047586675731\u001b[32m [repeated 29x across cluster]\u001b[0m\n"
          ]
        },
        {
          "metadata": {
            "tags": null
          },
          "name": "stderr",
          "output_type": "stream",
          "text": [
            "DEBUG flwr 2023-06-08 16:29:52,086 | server.py:232 | fit_round 2 received 4 results and 0 failures\n",
            "DEBUG:flwr:fit_round 2 received 4 results and 0 failures\n",
            "DEBUG flwr 2023-06-08 16:29:52,116 | server.py:168 | evaluate_round 2: strategy sampled 3 clients (out of 4)\n",
            "DEBUG:flwr:evaluate_round 2: strategy sampled 3 clients (out of 4)\n"
          ]
        },
        {
          "metadata": {
            "tags": null
          },
          "name": "stdout",
          "output_type": "stream",
          "text": [
            "\u001b[2m\u001b[36m(launch_and_fit pid=89122)\u001b[0m Epoch 49: train loss 0.0007604471757076681, accuracy 0.9870836165873556\u001b[32m [repeated 17x across cluster]\u001b[0m\n"
          ]
        },
        {
          "metadata": {
            "tags": null
          },
          "name": "stderr",
          "output_type": "stream",
          "text": [
            "DEBUG flwr 2023-06-08 16:29:52,346 | server.py:182 | evaluate_round 2 received 3 results and 0 failures\n",
            "DEBUG:flwr:evaluate_round 2 received 3 results and 0 failures\n",
            "DEBUG flwr 2023-06-08 16:29:52,351 | server.py:218 | fit_round 3: strategy sampled 4 clients (out of 4)\n",
            "DEBUG:flwr:fit_round 3: strategy sampled 4 clients (out of 4)\n"
          ]
        },
        {
          "metadata": {
            "tags": null
          },
          "name": "stdout",
          "output_type": "stream",
          "text": [
            "\u001b[2m\u001b[36m(launch_and_evaluate pid=89122)\u001b[0m [Client 3] evaluate, config: {}\n",
            "\u001b[2m\u001b[36m(launch_and_evaluate pid=89122)\u001b[0m [Client 2] evaluate, config: {}\n",
            "\u001b[2m\u001b[36m(launch_and_fit pid=89122)\u001b[0m [Client 3] fit, config: {}\n",
            "\u001b[2m\u001b[36m(launch_and_fit pid=89122)\u001b[0m Epoch 14: train loss 0.0012508536456152797, accuracy 0.9768864717878993\u001b[32m [repeated 29x across cluster]\u001b[0m\n",
            "\u001b[2m\u001b[36m(launch_and_evaluate pid=89121)\u001b[0m Epoch 15: train loss 0.0012149056419730186, accuracy 0.9768864717878993\n",
            "\u001b[2m\u001b[36m(launch_and_fit pid=89121)\u001b[0m Epoch 16: train loss 0.0011802013032138348, accuracy 0.9775662814411965\n",
            "\u001b[2m\u001b[36m(launch_and_fit pid=89122)\u001b[0m Epoch 29: train loss 0.0008623242611065507, accuracy 0.9809653297076818\u001b[32m [repeated 30x across cluster]\u001b[0m\n",
            "\u001b[2m\u001b[36m(launch_and_fit pid=89122)\u001b[0m Epoch 39: train loss 0.0007138351793400943, accuracy 0.9864038069340585\u001b[32m [repeated 20x across cluster]\u001b[0m\n",
            "\u001b[2m\u001b[36m(launch_and_fit pid=89122)\u001b[0m [Client 0] fit, config: {}\n",
            "\u001b[2m\u001b[36m(launch_and_fit pid=89121)\u001b[0m Epoch 4: train loss 0.0017683159094303846, accuracy 0.9687287559483345\u001b[32m [repeated 31x across cluster]\u001b[0m\n",
            "\u001b[2m\u001b[36m(launch_and_fit pid=89121)\u001b[0m Epoch 15: train loss 0.0011318499455228448, accuracy 0.9830047586675731\n",
            "\u001b[2m\u001b[36m(launch_and_fit pid=89121)\u001b[0m Epoch 19: train loss 0.0009808448376134038, accuracy 0.9857239972807614\u001b[32m [repeated 29x across cluster]\u001b[0m\n",
            "\u001b[2m\u001b[36m(launch_and_fit pid=89122)\u001b[0m Epoch 28: train loss 0.0008180011645890772, accuracy 0.9843643779741672\u001b[32m [repeated 18x across cluster]\u001b[0m\n",
            "\u001b[2m\u001b[36m(launch_and_fit pid=89121)\u001b[0m Epoch 43: train loss 0.0005043819546699524, accuracy 0.9932019034670292\u001b[32m [repeated 31x across cluster]\u001b[0m\n"
          ]
        },
        {
          "metadata": {
            "tags": null
          },
          "name": "stderr",
          "output_type": "stream",
          "text": [
            "DEBUG flwr 2023-06-08 16:30:30,152 | server.py:232 | fit_round 3 received 4 results and 0 failures\n",
            "DEBUG:flwr:fit_round 3 received 4 results and 0 failures\n",
            "DEBUG flwr 2023-06-08 16:30:30,189 | server.py:168 | evaluate_round 3: strategy sampled 3 clients (out of 4)\n",
            "DEBUG:flwr:evaluate_round 3: strategy sampled 3 clients (out of 4)\n",
            "DEBUG flwr 2023-06-08 16:30:30,432 | server.py:182 | evaluate_round 3 received 3 results and 0 failures\n",
            "DEBUG:flwr:evaluate_round 3 received 3 results and 0 failures\n",
            "DEBUG flwr 2023-06-08 16:30:30,436 | server.py:218 | fit_round 4: strategy sampled 4 clients (out of 4)\n",
            "DEBUG:flwr:fit_round 4: strategy sampled 4 clients (out of 4)\n"
          ]
        },
        {
          "metadata": {
            "tags": null
          },
          "name": "stdout",
          "output_type": "stream",
          "text": [
            "\u001b[2m\u001b[36m(launch_and_evaluate pid=89122)\u001b[0m [Client 0] evaluate, config: {}\n",
            "\u001b[2m\u001b[36m(launch_and_evaluate pid=89122)\u001b[0m [Client 3] evaluate, config: {}\n",
            "\u001b[2m\u001b[36m(launch_and_fit pid=89122)\u001b[0m [Client 3] fit, config: {}\n",
            "\u001b[2m\u001b[36m(launch_and_fit pid=89122)\u001b[0m Epoch 7: train loss 0.0009281127131544054, accuracy 0.9782460910944936\u001b[32m [repeated 27x across cluster]\u001b[0m\n",
            "\u001b[2m\u001b[36m(launch_and_evaluate pid=89121)\u001b[0m Epoch 11: train loss 0.0008497678791172802, accuracy 0.982324949014276\n",
            "\u001b[2m\u001b[36m(launch_and_fit pid=89121)\u001b[0m Epoch 11: train loss 0.0008497678791172802, accuracy 0.982324949014276\n",
            "\u001b[2m\u001b[36m(launch_and_fit pid=89122)\u001b[0m Epoch 16: train loss 0.0007816603174433112, accuracy 0.982324949014276\u001b[32m [repeated 18x across cluster]\u001b[0m\n",
            "\u001b[2m\u001b[36m(launch_and_fit pid=89121)\u001b[0m Epoch 31: train loss 0.0007385700009763241, accuracy 0.9782460910944936\u001b[32m [repeated 31x across cluster]\u001b[0m\n",
            "\u001b[2m\u001b[36m(launch_and_fit pid=89121)\u001b[0m Epoch 46: train loss 0.0007762113818898797, accuracy 0.982324949014276\u001b[32m [repeated 30x across cluster]\u001b[0m\n",
            "\u001b[2m\u001b[36m(launch_and_fit pid=89122)\u001b[0m [Client 2] fit, config: {}\n",
            "\u001b[2m\u001b[36m(launch_and_fit pid=89122)\u001b[0m Epoch 5: train loss 0.0008233042317442596, accuracy 0.982324949014276\u001b[32m [repeated 17x across cluster]\u001b[0m\n",
            "\u001b[2m\u001b[36m(launch_and_fit pid=89121)\u001b[0m Epoch 11: train loss 0.000612997857388109, accuracy 0.9877634262406526\n",
            "\u001b[2m\u001b[36m(launch_and_fit pid=89122)\u001b[0m Epoch 21: train loss 0.00044551308383233845, accuracy 0.9925220938137321\u001b[32m [repeated 32x across cluster]\u001b[0m\n",
            "\u001b[2m\u001b[36m(launch_and_fit pid=89121)\u001b[0m Epoch 36: train loss 0.0005431412719190121, accuracy 0.9884432358939497\u001b[32m [repeated 30x across cluster]\u001b[0m\n",
            "\u001b[2m\u001b[36m(launch_and_fit pid=89122)\u001b[0m Epoch 45: train loss 0.0002939093392342329, accuracy 0.9959211420802175\u001b[32m [repeated 18x across cluster]\u001b[0m\n"
          ]
        },
        {
          "metadata": {
            "tags": null
          },
          "name": "stderr",
          "output_type": "stream",
          "text": [
            "DEBUG flwr 2023-06-08 16:31:10,554 | server.py:232 | fit_round 4 received 4 results and 0 failures\n",
            "DEBUG:flwr:fit_round 4 received 4 results and 0 failures\n",
            "DEBUG flwr 2023-06-08 16:31:10,584 | server.py:168 | evaluate_round 4: strategy sampled 3 clients (out of 4)\n",
            "DEBUG:flwr:evaluate_round 4: strategy sampled 3 clients (out of 4)\n",
            "DEBUG flwr 2023-06-08 16:31:10,819 | server.py:182 | evaluate_round 4 received 3 results and 0 failures\n",
            "DEBUG:flwr:evaluate_round 4 received 3 results and 0 failures\n",
            "DEBUG flwr 2023-06-08 16:31:10,828 | server.py:218 | fit_round 5: strategy sampled 4 clients (out of 4)\n",
            "DEBUG:flwr:fit_round 5: strategy sampled 4 clients (out of 4)\n"
          ]
        },
        {
          "metadata": {
            "tags": null
          },
          "name": "stdout",
          "output_type": "stream",
          "text": [
            "\u001b[2m\u001b[36m(launch_and_evaluate pid=89122)\u001b[0m [Client 0] evaluate, config: {}\n",
            "\u001b[2m\u001b[36m(launch_and_evaluate pid=89122)\u001b[0m [Client 3] evaluate, config: {}\n",
            "\u001b[2m\u001b[36m(launch_and_fit pid=89122)\u001b[0m [Client 2] fit, config: {}\n",
            "\u001b[2m\u001b[36m(launch_and_fit pid=89121)\u001b[0m Epoch 8: train loss 0.0010673515498638153, accuracy 0.9796057104010877\u001b[32m [repeated 27x across cluster]\u001b[0m\n",
            "\u001b[2m\u001b[36m(launch_and_evaluate pid=89121)\u001b[0m Epoch 15: train loss 0.0007116881315596402, accuracy 0.9850441876274643\n",
            "\u001b[2m\u001b[36m(launch_and_fit pid=89121)\u001b[0m Epoch 15: train loss 0.0007116881315596402, accuracy 0.9850441876274643\n",
            "\u001b[2m\u001b[36m(launch_and_fit pid=89122)\u001b[0m Epoch 23: train loss 0.0007884644437581301, accuracy 0.9802855200543847\u001b[32m [repeated 29x across cluster]\u001b[0m\n",
            "\u001b[2m\u001b[36m(launch_and_fit pid=89121)\u001b[0m Epoch 32: train loss 0.001128694973886013, accuracy 0.9748470428280082\u001b[32m [repeated 18x across cluster]\u001b[0m\n",
            "\u001b[2m\u001b[36m(launch_and_fit pid=89121)\u001b[0m Epoch 48: train loss 0.0010986095294356346, accuracy 0.973487423521414\u001b[32m [repeated 31x across cluster]\u001b[0m\n",
            "\u001b[2m\u001b[36m(launch_and_fit pid=89121)\u001b[0m [Client 0] fit, config: {}\n",
            "\u001b[2m\u001b[36m(launch_and_fit pid=89121)\u001b[0m Epoch 13: train loss 0.0015005354071035981, accuracy 0.973487423521414\u001b[32m [repeated 30x across cluster]\u001b[0m\n",
            "\u001b[2m\u001b[36m(launch_and_fit pid=89122)\u001b[0m Epoch 14: train loss 0.0012799054384231567, accuracy 0.973487423521414\n",
            "\u001b[2m\u001b[36m(launch_and_fit pid=89121)\u001b[0m Epoch 22: train loss 0.0015547681832686067, accuracy 0.9694085656016316\u001b[32m [repeated 17x across cluster]\u001b[0m\n",
            "\u001b[2m\u001b[36m(launch_and_fit pid=89122)\u001b[0m Epoch 35: train loss 0.0006715800263918936, accuracy 0.9891230455472467\u001b[32m [repeated 31x across cluster]\u001b[0m\n"
          ]
        },
        {
          "metadata": {
            "tags": null
          },
          "name": "stderr",
          "output_type": "stream",
          "text": [
            "DEBUG flwr 2023-06-08 16:31:49,111 | server.py:232 | fit_round 5 received 4 results and 0 failures\n",
            "DEBUG:flwr:fit_round 5 received 4 results and 0 failures\n",
            "DEBUG flwr 2023-06-08 16:31:49,141 | server.py:168 | evaluate_round 5: strategy sampled 3 clients (out of 4)\n",
            "DEBUG:flwr:evaluate_round 5: strategy sampled 3 clients (out of 4)\n",
            "DEBUG flwr 2023-06-08 16:31:49,414 | server.py:182 | evaluate_round 5 received 3 results and 0 failures\n",
            "DEBUG:flwr:evaluate_round 5 received 3 results and 0 failures\n",
            "DEBUG flwr 2023-06-08 16:31:49,420 | server.py:218 | fit_round 6: strategy sampled 4 clients (out of 4)\n",
            "DEBUG:flwr:fit_round 6: strategy sampled 4 clients (out of 4)\n"
          ]
        },
        {
          "metadata": {
            "tags": null
          },
          "name": "stdout",
          "output_type": "stream",
          "text": [
            "\u001b[2m\u001b[36m(launch_and_evaluate pid=89122)\u001b[0m [Client 3] evaluate, config: {}\n",
            "\u001b[2m\u001b[36m(launch_and_fit pid=89122)\u001b[0m Epoch 50: train loss 0.0004480370262172073, accuracy 0.990482664853841\u001b[32m [repeated 28x across cluster]\u001b[0m\n",
            "\u001b[2m\u001b[36m(launch_and_fit pid=89122)\u001b[0m [Client 3] fit, config: {}\n",
            "\u001b[2m\u001b[36m(launch_and_evaluate pid=89122)\u001b[0m [Client 2] evaluate, config: {}\u001b[32m [repeated 2x across cluster]\u001b[0m\n",
            "\u001b[2m\u001b[36m(launch_and_fit pid=89122)\u001b[0m Epoch 7: train loss 0.0020470181480050087, accuracy 0.9694085656016316\u001b[32m [repeated 13x across cluster]\u001b[0m\n",
            "\u001b[2m\u001b[36m(launch_and_fit pid=89121)\u001b[0m Epoch 8: train loss 0.001225458923727274, accuracy 0.9802855200543847\n",
            "\u001b[2m\u001b[36m(launch_and_fit pid=89122)\u001b[0m Epoch 20: train loss 0.0018175099976360798, accuracy 0.9748470428280082\u001b[32m [repeated 28x across cluster]\u001b[0m\n",
            "\u001b[2m\u001b[36m(launch_and_fit pid=89121)\u001b[0m Epoch 35: train loss 0.0006838636472821236, accuracy 0.9884432358939497\u001b[32m [repeated 27x across cluster]\u001b[0m\n",
            "\u001b[2m\u001b[36m(launch_and_fit pid=89122)\u001b[0m Epoch 41: train loss 0.000548963260371238, accuracy 0.991162474507138\u001b[32m [repeated 15x across cluster]\u001b[0m\n",
            "\u001b[2m\u001b[36m(launch_and_fit pid=89121)\u001b[0m [Client 1] fit, config: {}\n",
            "\u001b[2m\u001b[36m(launch_and_fit pid=89121)\u001b[0m Epoch 6: train loss 0.0011553991353139281, accuracy 0.9796057104010877\u001b[32m [repeated 26x across cluster]\u001b[0m\n",
            "\u001b[2m\u001b[36m(launch_and_fit pid=89122)\u001b[0m Epoch 11: train loss 0.000970229331869632, accuracy 0.9830047586675731\n",
            "\u001b[2m\u001b[36m(launch_and_fit pid=89121)\u001b[0m Epoch 14: train loss 0.000931061920709908, accuracy 0.9857239972807614\u001b[32m [repeated 15x across cluster]\u001b[0m\n",
            "\u001b[2m\u001b[36m(launch_and_fit pid=89122)\u001b[0m Epoch 18: train loss 0.002831644844263792, accuracy 0.9626104690686608\u001b[32m [repeated 15x across cluster]\u001b[0m\n",
            "\u001b[2m\u001b[36m(launch_and_fit pid=89122)\u001b[0m Epoch 32: train loss 0.0009092984837479889, accuracy 0.9802855200543847\u001b[32m [repeated 28x across cluster]\u001b[0m\n",
            "\u001b[2m\u001b[36m(launch_and_fit pid=89122)\u001b[0m Epoch 46: train loss 0.0006497989525087178, accuracy 0.9850441876274643\u001b[32m [repeated 28x across cluster]\u001b[0m\n"
          ]
        },
        {
          "metadata": {
            "tags": null
          },
          "name": "stderr",
          "output_type": "stream",
          "text": [
            "DEBUG flwr 2023-06-08 16:32:37,421 | server.py:232 | fit_round 6 received 4 results and 0 failures\n",
            "DEBUG:flwr:fit_round 6 received 4 results and 0 failures\n",
            "DEBUG flwr 2023-06-08 16:32:37,470 | server.py:168 | evaluate_round 6: strategy sampled 3 clients (out of 4)\n",
            "DEBUG:flwr:evaluate_round 6: strategy sampled 3 clients (out of 4)\n",
            "DEBUG flwr 2023-06-08 16:32:37,798 | server.py:182 | evaluate_round 6 received 3 results and 0 failures\n",
            "DEBUG:flwr:evaluate_round 6 received 3 results and 0 failures\n",
            "DEBUG flwr 2023-06-08 16:32:37,804 | server.py:218 | fit_round 7: strategy sampled 4 clients (out of 4)\n",
            "DEBUG:flwr:fit_round 7: strategy sampled 4 clients (out of 4)\n"
          ]
        },
        {
          "metadata": {
            "tags": null
          },
          "name": "stdout",
          "output_type": "stream",
          "text": [
            "\u001b[2m\u001b[36m(launch_and_evaluate pid=89122)\u001b[0m [Client 0] evaluate, config: {}\n",
            "\u001b[2m\u001b[36m(launch_and_evaluate pid=89122)\u001b[0m [Client 1] evaluate, config: {}\n",
            "\u001b[2m\u001b[36m(launch_and_fit pid=89122)\u001b[0m [Client 2] fit, config: {}\n",
            "\u001b[2m\u001b[36m(launch_and_fit pid=89122)\u001b[0m Epoch 4: train loss 0.002349560847505927, accuracy 0.973487423521414\u001b[32m [repeated 12x across cluster]\u001b[0m\n",
            "\u001b[2m\u001b[36m(launch_and_evaluate pid=89121)\u001b[0m Epoch 7: train loss 0.0028649638406932354, accuracy 0.9653297076818491\n",
            "\u001b[2m\u001b[36m(launch_and_fit pid=89121)\u001b[0m Epoch 8: train loss 0.003085975768044591, accuracy 0.964649898028552\n",
            "\u001b[2m\u001b[36m(launch_and_fit pid=89122)\u001b[0m Epoch 15: train loss 0.0010663711000233889, accuracy 0.9850441876274643\u001b[32m [repeated 19x across cluster]\u001b[0m\n",
            "\u001b[2m\u001b[36m(launch_and_fit pid=89122)\u001b[0m Epoch 25: train loss 0.00037290112231858075, accuracy 0.9952413324269205\u001b[32m [repeated 18x across cluster]\u001b[0m\n",
            "\u001b[2m\u001b[36m(launch_and_fit pid=89122)\u001b[0m Epoch 33: train loss 0.00029482951504178345, accuracy 0.9959211420802175\u001b[32m [repeated 14x across cluster]\u001b[0m\n",
            "\u001b[2m\u001b[36m(launch_and_fit pid=89122)\u001b[0m Epoch 44: train loss 0.00020203078747726977, accuracy 0.9966009517335146\u001b[32m [repeated 21x across cluster]\u001b[0m\n",
            "\u001b[2m\u001b[36m(launch_and_fit pid=89122)\u001b[0m [Client 1] fit, config: {}\n",
            "\u001b[2m\u001b[36m(launch_and_fit pid=89121)\u001b[0m Epoch 43: train loss 0.00042982999002560973, accuracy 0.991162474507138\u001b[32m [repeated 16x across cluster]\u001b[0m\n",
            "\u001b[2m\u001b[36m(launch_and_fit pid=89122)\u001b[0m Epoch 9: train loss 0.0008471615728922188, accuracy 0.9864038069340585\u001b[32m [repeated 13x across cluster]\u001b[0m\n",
            "\u001b[2m\u001b[36m(launch_and_fit pid=89121)\u001b[0m [Client 3] fit, config: {}\n",
            "\u001b[2m\u001b[36m(launch_and_fit pid=89122)\u001b[0m Epoch 19: train loss 0.0006725536077283323, accuracy 0.9884432358939497\u001b[32m [repeated 18x across cluster]\u001b[0m\n",
            "\u001b[2m\u001b[36m(launch_and_fit pid=89122)\u001b[0m Epoch 27: train loss 0.0006065914640203118, accuracy 0.9884432358939497\u001b[32m [repeated 16x across cluster]\u001b[0m\n",
            "\u001b[2m\u001b[36m(launch_and_fit pid=89121)\u001b[0m Epoch 23: train loss 0.0006965750362724066, accuracy 0.9898028552005439\u001b[32m [repeated 15x across cluster]\u001b[0m\n",
            "\u001b[2m\u001b[36m(launch_and_fit pid=89121)\u001b[0m Epoch 33: train loss 0.0005108631448820233, accuracy 0.990482664853841\u001b[32m [repeated 20x across cluster]\u001b[0m\n",
            "\u001b[2m\u001b[36m(launch_and_fit pid=89121)\u001b[0m Epoch 43: train loss 0.0003675936895888299, accuracy 0.9932019034670292\u001b[32m [repeated 16x across cluster]\u001b[0m\n"
          ]
        },
        {
          "metadata": {
            "tags": null
          },
          "name": "stderr",
          "output_type": "stream",
          "text": [
            "DEBUG flwr 2023-06-08 16:33:41,840 | server.py:232 | fit_round 7 received 4 results and 0 failures\n",
            "DEBUG:flwr:fit_round 7 received 4 results and 0 failures\n",
            "DEBUG flwr 2023-06-08 16:33:41,869 | server.py:168 | evaluate_round 7: strategy sampled 3 clients (out of 4)\n",
            "DEBUG:flwr:evaluate_round 7: strategy sampled 3 clients (out of 4)\n",
            "DEBUG flwr 2023-06-08 16:33:42,100 | server.py:182 | evaluate_round 7 received 3 results and 0 failures\n",
            "DEBUG:flwr:evaluate_round 7 received 3 results and 0 failures\n",
            "DEBUG flwr 2023-06-08 16:33:42,109 | server.py:218 | fit_round 8: strategy sampled 4 clients (out of 4)\n",
            "DEBUG:flwr:fit_round 8: strategy sampled 4 clients (out of 4)\n"
          ]
        },
        {
          "metadata": {
            "tags": null
          },
          "name": "stdout",
          "output_type": "stream",
          "text": [
            "\u001b[2m\u001b[36m(launch_and_evaluate pid=89122)\u001b[0m [Client 3] evaluate, config: {}\n",
            "\u001b[2m\u001b[36m(launch_and_evaluate pid=89122)\u001b[0m [Client 1] evaluate, config: {}\n",
            "\u001b[2m\u001b[36m(launch_and_fit pid=89122)\u001b[0m [Client 2] fit, config: {}\n",
            "\u001b[2m\u001b[36m(launch_and_fit pid=89121)\u001b[0m Epoch 2: train loss 0.0010588612640276551, accuracy 0.9843643779741672\u001b[32m [repeated 11x across cluster]\u001b[0m\n",
            "\u001b[2m\u001b[36m(launch_and_evaluate pid=89121)\u001b[0m Epoch 6: train loss 0.0011311224661767483, accuracy 0.9830047586675731\n",
            "\u001b[2m\u001b[36m(launch_and_fit pid=89121)\u001b[0m Epoch 7: train loss 0.0013340205186977983, accuracy 0.9809653297076818\n",
            "\u001b[2m\u001b[36m(launch_and_fit pid=89122)\u001b[0m Epoch 10: train loss 0.00087843177607283, accuracy 0.9864038069340585\u001b[32m [repeated 14x across cluster]\u001b[0m\n",
            "\u001b[2m\u001b[36m(launch_and_fit pid=89122)\u001b[0m Epoch 14: train loss 0.0003531710826791823, accuracy 0.9945615227736234\u001b[32m [repeated 8x across cluster]\u001b[0m\n",
            "\u001b[2m\u001b[36m(launch_and_fit pid=89121)\u001b[0m Epoch 19: train loss 0.0011750609846785665, accuracy 0.9789259007477906\u001b[32m [repeated 13x across cluster]\u001b[0m\n",
            "\u001b[2m\u001b[36m(launch_and_fit pid=89121)\u001b[0m Epoch 26: train loss 0.0017849766882136464, accuracy 0.9755268524813052\u001b[32m [repeated 14x across cluster]\u001b[0m\n",
            "\u001b[2m\u001b[36m(launch_and_fit pid=89121)\u001b[0m Epoch 30: train loss 0.0022636449430137873, accuracy 0.964649898028552\u001b[32m [repeated 8x across cluster]\u001b[0m\n",
            "\u001b[2m\u001b[36m(launch_and_fit pid=89121)\u001b[0m Epoch 37: train loss 0.0018377675442025065, accuracy 0.9755268524813052\u001b[32m [repeated 14x across cluster]\u001b[0m\n",
            "\u001b[2m\u001b[36m(launch_and_fit pid=89122)\u001b[0m Epoch 45: train loss 0.0001464958768337965, accuracy 0.9986403806934059\u001b[32m [repeated 12x across cluster]\u001b[0m\n",
            "\u001b[2m\u001b[36m(launch_and_fit pid=89121)\u001b[0m Epoch 47: train loss 0.00037294687354005873, accuracy 0.9918422841604351\u001b[32m [repeated 9x across cluster]\u001b[0m\n",
            "\u001b[2m\u001b[36m(launch_and_fit pid=89122)\u001b[0m [Client 3] fit, config: {}\n",
            "\u001b[2m\u001b[36m(launch_and_fit pid=89122)\u001b[0m Epoch 6: train loss 0.0014020876260474324, accuracy 0.9830047586675731\u001b[32m [repeated 13x across cluster]\u001b[0m\n",
            "\u001b[2m\u001b[36m(launch_and_fit pid=89121)\u001b[0m Epoch 7: train loss 0.001487614936195314, accuracy 0.9789259007477906\n",
            "\u001b[2m\u001b[36m(launch_and_fit pid=89122)\u001b[0m Epoch 12: train loss 0.001066535827703774, accuracy 0.9857239972807614\u001b[32m [repeated 12x across cluster]\u001b[0m\n",
            "\u001b[2m\u001b[36m(launch_and_fit pid=89122)\u001b[0m Epoch 17: train loss 0.0009905054466798902, accuracy 0.9850441876274643\u001b[32m [repeated 11x across cluster]\u001b[0m\n",
            "\u001b[2m\u001b[36m(launch_and_fit pid=89121)\u001b[0m Epoch 23: train loss 0.0005266732769086957, accuracy 0.9932019034670292\u001b[32m [repeated 14x across cluster]\u001b[0m\n",
            "\u001b[2m\u001b[36m(launch_and_fit pid=89121)\u001b[0m Epoch 29: train loss 0.00037975123268552125, accuracy 0.9945615227736234\u001b[32m [repeated 11x across cluster]\u001b[0m\n",
            "\u001b[2m\u001b[36m(launch_and_fit pid=89121)\u001b[0m Epoch 36: train loss 0.0002807249256875366, accuracy 0.9959211420802175\u001b[32m [repeated 14x across cluster]\u001b[0m\n",
            "\u001b[2m\u001b[36m(launch_and_fit pid=89121)\u001b[0m Epoch 43: train loss 0.00020888731523882598, accuracy 0.9966009517335146\u001b[32m [repeated 14x across cluster]\u001b[0m\n",
            "\u001b[2m\u001b[36m(launch_and_fit pid=89122)\u001b[0m Epoch 46: train loss 0.00046307529555633664, accuracy 0.9877634262406526\u001b[32m [repeated 8x across cluster]\u001b[0m\n"
          ]
        },
        {
          "metadata": {
            "tags": null
          },
          "name": "stderr",
          "output_type": "stream",
          "text": [
            "DEBUG flwr 2023-06-08 16:35:12,734 | server.py:232 | fit_round 8 received 4 results and 0 failures\n",
            "DEBUG:flwr:fit_round 8 received 4 results and 0 failures\n",
            "DEBUG flwr 2023-06-08 16:35:12,764 | server.py:168 | evaluate_round 8: strategy sampled 3 clients (out of 4)\n",
            "DEBUG:flwr:evaluate_round 8: strategy sampled 3 clients (out of 4)\n",
            "DEBUG flwr 2023-06-08 16:35:12,976 | server.py:182 | evaluate_round 8 received 3 results and 0 failures\n",
            "DEBUG:flwr:evaluate_round 8 received 3 results and 0 failures\n",
            "DEBUG flwr 2023-06-08 16:35:12,982 | server.py:218 | fit_round 9: strategy sampled 4 clients (out of 4)\n",
            "DEBUG:flwr:fit_round 9: strategy sampled 4 clients (out of 4)\n"
          ]
        },
        {
          "metadata": {
            "tags": null
          },
          "name": "stdout",
          "output_type": "stream",
          "text": [
            "\u001b[2m\u001b[36m(launch_and_evaluate pid=89122)\u001b[0m [Client 2] evaluate, config: {}\n",
            "\u001b[2m\u001b[36m(launch_and_evaluate pid=89122)\u001b[0m [Client 0] evaluate, config: {}\n",
            "\u001b[2m\u001b[36m(launch_and_fit pid=89122)\u001b[0m [Client 2] fit, config: {}\n",
            "\u001b[2m\u001b[36m(launch_and_fit pid=89122)\u001b[0m Epoch 2: train loss 0.0013919182820245624, accuracy 0.981645139360979\u001b[32m [repeated 10x across cluster]\u001b[0m\n",
            "\u001b[2m\u001b[36m(launch_and_evaluate pid=89121)\u001b[0m Epoch 6: train loss 0.0008945684530772269, accuracy 0.9864038069340585\n",
            "\u001b[2m\u001b[36m(launch_and_fit pid=89121)\u001b[0m Epoch 6: train loss 0.0008945684530772269, accuracy 0.9864038069340585\n",
            "\u001b[2m\u001b[36m(launch_and_fit pid=89122)\u001b[0m Epoch 8: train loss 0.000777930545154959, accuracy 0.9891230455472467\u001b[32m [repeated 12x across cluster]\u001b[0m\n",
            "\u001b[2m\u001b[36m(launch_and_fit pid=89121)\u001b[0m Epoch 11: train loss 0.001188754104077816, accuracy 0.981645139360979\u001b[32m [repeated 7x across cluster]\u001b[0m\n",
            "\u001b[2m\u001b[36m(launch_and_fit pid=89121)\u001b[0m Epoch 17: train loss 0.0016273920191451907, accuracy 0.9748470428280082\u001b[32m [repeated 12x across cluster]\u001b[0m\n",
            "\u001b[2m\u001b[36m(launch_and_fit pid=89122)\u001b[0m Epoch 24: train loss 0.0002087086468236521, accuracy 0.9959211420802175\u001b[32m [repeated 12x across cluster]\u001b[0m\n",
            "\u001b[2m\u001b[36m(launch_and_fit pid=89121)\u001b[0m Epoch 28: train loss 0.00032039647339843214, accuracy 0.9952413324269205\u001b[32m [repeated 10x across cluster]\u001b[0m\n",
            "\u001b[2m\u001b[36m(launch_and_fit pid=89121)\u001b[0m Epoch 34: train loss 0.00023371822317130864, accuracy 0.9966009517335146\u001b[32m [repeated 12x across cluster]\u001b[0m\n",
            "\u001b[2m\u001b[36m(launch_and_fit pid=89121)\u001b[0m Epoch 38: train loss 0.00020078949455637485, accuracy 0.9966009517335146\u001b[32m [repeated 8x across cluster]\u001b[0m\n",
            "\u001b[2m\u001b[36m(launch_and_fit pid=89122)\u001b[0m Epoch 44: train loss 9.446688636671752e-05, accuracy 0.9986403806934059\u001b[32m [repeated 11x across cluster]\u001b[0m\n",
            "\u001b[2m\u001b[36m(launch_and_fit pid=89122)\u001b[0m Epoch 50: train loss 0.00046809198101982474, accuracy 0.9877634262406526\u001b[32m [repeated 11x across cluster]\u001b[0m\n",
            "\u001b[2m\u001b[36m(launch_and_fit pid=89122)\u001b[0m [Client 0] fit, config: {}\n",
            "\u001b[2m\u001b[36m(launch_and_fit pid=89122)\u001b[0m Epoch 4: train loss 0.0009472369565628469, accuracy 0.9843643779741672\u001b[32m [repeated 8x across cluster]\u001b[0m\n",
            "\u001b[2m\u001b[36m(launch_and_fit pid=89121)\u001b[0m Epoch 4: train loss 0.0009472369565628469, accuracy 0.9843643779741672\n",
            "\u001b[2m\u001b[36m(launch_and_fit pid=89122)\u001b[0m Epoch 10: train loss 0.0005840981029905379, accuracy 0.9891230455472467\u001b[32m [repeated 12x across cluster]\u001b[0m\n",
            "\u001b[2m\u001b[36m(launch_and_fit pid=89122)\u001b[0m Epoch 16: train loss 0.0004285542818251997, accuracy 0.9898028552005439\u001b[32m [repeated 12x across cluster]\u001b[0m\n",
            "\u001b[2m\u001b[36m(launch_and_fit pid=89121)\u001b[0m Epoch 20: train loss 0.0003523303603287786, accuracy 0.9952413324269205\u001b[32m [repeated 10x across cluster]\u001b[0m\n",
            "\u001b[2m\u001b[36m(launch_and_fit pid=89121)\u001b[0m Epoch 26: train loss 0.00021513040701393038, accuracy 0.9959211420802175\u001b[32m [repeated 12x across cluster]\u001b[0m\n",
            "\u001b[2m\u001b[36m(launch_and_fit pid=89121)\u001b[0m Epoch 30: train loss 0.00016195578791666776, accuracy 0.9966009517335146\u001b[32m [repeated 8x across cluster]\u001b[0m\n",
            "\u001b[2m\u001b[36m(launch_and_fit pid=89122)\u001b[0m Epoch 36: train loss 0.00036980584263801575, accuracy 0.991162474507138\u001b[32m [repeated 11x across cluster]\u001b[0m\n",
            "\u001b[2m\u001b[36m(launch_and_fit pid=89121)\u001b[0m Epoch 41: train loss 0.0005260933539830148, accuracy 0.9857239972807614\u001b[32m [repeated 11x across cluster]\u001b[0m\n",
            "\u001b[2m\u001b[36m(launch_and_fit pid=89121)\u001b[0m Epoch 44: train loss 0.0010583207476884127, accuracy 0.981645139360979\u001b[32m [repeated 6x across cluster]\u001b[0m\n"
          ]
        },
        {
          "metadata": {
            "tags": null
          },
          "name": "stderr",
          "output_type": "stream",
          "text": [
            "DEBUG flwr 2023-06-08 16:36:59,685 | server.py:232 | fit_round 9 received 4 results and 0 failures\n",
            "DEBUG:flwr:fit_round 9 received 4 results and 0 failures\n",
            "DEBUG flwr 2023-06-08 16:36:59,718 | server.py:168 | evaluate_round 9: strategy sampled 3 clients (out of 4)\n",
            "DEBUG:flwr:evaluate_round 9: strategy sampled 3 clients (out of 4)\n",
            "DEBUG flwr 2023-06-08 16:36:59,949 | server.py:182 | evaluate_round 9 received 3 results and 0 failures\n",
            "DEBUG:flwr:evaluate_round 9 received 3 results and 0 failures\n",
            "DEBUG flwr 2023-06-08 16:36:59,953 | server.py:218 | fit_round 10: strategy sampled 4 clients (out of 4)\n",
            "DEBUG:flwr:fit_round 10: strategy sampled 4 clients (out of 4)\n"
          ]
        },
        {
          "metadata": {
            "tags": null
          },
          "name": "stdout",
          "output_type": "stream",
          "text": [
            "\u001b[2m\u001b[36m(launch_and_fit pid=89121)\u001b[0m Epoch 50: train loss 0.00013394595589488745, accuracy 0.9972807613868117\u001b[32m [repeated 12x across cluster]\u001b[0m\n",
            "\u001b[2m\u001b[36m(launch_and_evaluate pid=89122)\u001b[0m [Client 1] evaluate, config: {}\n",
            "\u001b[2m\u001b[36m(launch_and_fit pid=89122)\u001b[0m [Client 2] fit, config: {}\n",
            "\u001b[2m\u001b[36m(launch_and_fit pid=89121)\u001b[0m Epoch 5: train loss 0.0007864237413741648, accuracy 0.9898028552005439\u001b[32m [repeated 10x across cluster]\u001b[0m\n",
            "\u001b[2m\u001b[36m(launch_and_evaluate pid=89121)\u001b[0m [Client 3] evaluate, config: {}\u001b[32m [repeated 2x across cluster]\u001b[0m\n",
            "\u001b[2m\u001b[36m(launch_and_fit pid=89121)\u001b[0m Epoch 6: train loss 0.0003838005068246275, accuracy 0.9952413324269205\n",
            "\u001b[2m\u001b[36m(launch_and_fit pid=89122)\u001b[0m Epoch 9: train loss 0.00025364605244249105, accuracy 0.9966009517335146\u001b[32m [repeated 7x across cluster]\u001b[0m\n",
            "\u001b[2m\u001b[36m(launch_and_fit pid=89122)\u001b[0m Epoch 15: train loss 0.00014450063463300467, accuracy 0.9966009517335146\u001b[32m [repeated 12x across cluster]\u001b[0m\n",
            "\u001b[2m\u001b[36m(launch_and_fit pid=89122)\u001b[0m Epoch 20: train loss 0.0004930717404931784, accuracy 0.990482664853841\u001b[32m [repeated 10x across cluster]\u001b[0m\n",
            "\u001b[2m\u001b[36m(launch_and_fit pid=89121)\u001b[0m Epoch 24: train loss 0.0008970513590611517, accuracy 0.982324949014276\u001b[32m [repeated 9x across cluster]\u001b[0m\n",
            "\u001b[2m\u001b[36m(launch_and_fit pid=89122)\u001b[0m Epoch 28: train loss 0.00032783238566480577, accuracy 0.9925220938137321\u001b[32m [repeated 7x across cluster]\u001b[0m\n",
            "\u001b[2m\u001b[36m(launch_and_fit pid=89121)\u001b[0m Epoch 32: train loss 0.00036758361966349185, accuracy 0.9925220938137321\u001b[32m [repeated 9x across cluster]\u001b[0m\n",
            "\u001b[2m\u001b[36m(launch_and_fit pid=89122)\u001b[0m Epoch 38: train loss 2.138747186108958e-05, accuracy 1.0\u001b[32m [repeated 10x across cluster]\u001b[0m\n",
            "\u001b[2m\u001b[36m(launch_and_fit pid=89122)\u001b[0m Epoch 44: train loss 1.3007389497943223e-05, accuracy 1.0\u001b[32m [repeated 12x across cluster]\u001b[0m\n",
            "\u001b[2m\u001b[36m(launch_and_fit pid=89122)\u001b[0m Epoch 48: train loss 1.1583528248593211e-05, accuracy 1.0\u001b[32m [repeated 8x across cluster]\u001b[0m\n",
            "\u001b[2m\u001b[36m(launch_and_fit pid=89122)\u001b[0m [Client 0] fit, config: {}\n",
            "\u001b[2m\u001b[36m(launch_and_fit pid=89122)\u001b[0m Epoch 4: train loss 0.0009384251898154616, accuracy 0.982324949014276\u001b[32m [repeated 12x across cluster]\u001b[0m\n",
            "\u001b[2m\u001b[36m(launch_and_fit pid=89121)\u001b[0m Epoch 6: train loss 0.0008181448793038726, accuracy 0.9850441876274643\n",
            "\u001b[2m\u001b[36m(launch_and_fit pid=89121)\u001b[0m Epoch 9: train loss 0.0006354807992465794, accuracy 0.9932019034670292\u001b[32m [repeated 12x across cluster]\u001b[0m\n",
            "\u001b[2m\u001b[36m(launch_and_fit pid=89122)\u001b[0m Epoch 14: train loss 0.0006136830779723823, accuracy 0.9877634262406526\u001b[32m [repeated 9x across cluster]\u001b[0m\n",
            "\u001b[2m\u001b[36m(launch_and_fit pid=89122)\u001b[0m Epoch 20: train loss 0.0005432245088741183, accuracy 0.9898028552005439\u001b[32m [repeated 12x across cluster]\u001b[0m\n",
            "\u001b[2m\u001b[36m(launch_and_fit pid=89122)\u001b[0m Epoch 24: train loss 0.0005146418116055429, accuracy 0.9891230455472467\u001b[32m [repeated 8x across cluster]\u001b[0m\n",
            "\u001b[2m\u001b[36m(launch_and_fit pid=89122)\u001b[0m Epoch 29: train loss 0.0005137473926879466, accuracy 0.9898028552005439\u001b[32m [repeated 10x across cluster]\u001b[0m\n",
            "\u001b[2m\u001b[36m(launch_and_fit pid=89122)\u001b[0m Epoch 35: train loss 0.0005165101611055434, accuracy 0.9891230455472467\u001b[32m [repeated 12x across cluster]\u001b[0m\n",
            "\u001b[2m\u001b[36m(launch_and_fit pid=89122)\u001b[0m Epoch 39: train loss 0.0005095773376524448, accuracy 0.9891230455472467\u001b[32m [repeated 8x across cluster]\u001b[0m\n",
            "\u001b[2m\u001b[36m(launch_and_fit pid=89122)\u001b[0m Epoch 45: train loss 0.0005037838709540665, accuracy 0.9918422841604351\u001b[32m [repeated 12x across cluster]\u001b[0m\n"
          ]
        },
        {
          "metadata": {
            "tags": null
          },
          "name": "stderr",
          "output_type": "stream",
          "text": [
            "DEBUG flwr 2023-06-08 16:38:48,645 | server.py:232 | fit_round 10 received 4 results and 0 failures\n",
            "DEBUG:flwr:fit_round 10 received 4 results and 0 failures\n",
            "DEBUG flwr 2023-06-08 16:38:48,681 | server.py:168 | evaluate_round 10: strategy sampled 3 clients (out of 4)\n",
            "DEBUG:flwr:evaluate_round 10: strategy sampled 3 clients (out of 4)\n",
            "DEBUG flwr 2023-06-08 16:38:48,964 | server.py:182 | evaluate_round 10 received 3 results and 0 failures\n",
            "DEBUG:flwr:evaluate_round 10 received 3 results and 0 failures\n",
            "DEBUG flwr 2023-06-08 16:38:48,972 | server.py:218 | fit_round 11: strategy sampled 4 clients (out of 4)\n",
            "DEBUG:flwr:fit_round 11: strategy sampled 4 clients (out of 4)\n"
          ]
        },
        {
          "metadata": {
            "tags": null
          },
          "name": "stdout",
          "output_type": "stream",
          "text": [
            "\u001b[2m\u001b[36m(launch_and_evaluate pid=89122)\u001b[0m [Client 3] evaluate, config: {}\n",
            "\u001b[2m\u001b[36m(launch_and_fit pid=89122)\u001b[0m [Client 3] fit, config: {}\n",
            "\u001b[2m\u001b[36m(launch_and_fit pid=89121)\u001b[0m Epoch 50: train loss 6.400852726073936e-05, accuracy 0.9993201903467029\u001b[32m [repeated 11x across cluster]\u001b[0m\n",
            "\u001b[2m\u001b[36m(launch_and_evaluate pid=89121)\u001b[0m [Client 2] evaluate, config: {}\u001b[32m [repeated 2x across cluster]\u001b[0m\n",
            "\u001b[2m\u001b[36m(launch_and_fit pid=89121)\u001b[0m Epoch 4: train loss 0.0007772202370688319, accuracy 0.9850441876274643\n",
            "\u001b[2m\u001b[36m(launch_and_fit pid=89121)\u001b[0m Epoch 4: train loss 0.0007772202370688319, accuracy 0.9850441876274643\u001b[32m [repeated 7x across cluster]\u001b[0m\n",
            "\u001b[2m\u001b[36m(launch_and_fit pid=89121)\u001b[0m Epoch 11: train loss 0.0006866742623969913, accuracy 0.9850441876274643\u001b[32m [repeated 13x across cluster]\u001b[0m\n",
            "\u001b[2m\u001b[36m(launch_and_fit pid=89121)\u001b[0m Epoch 16: train loss 0.000745854340493679, accuracy 0.9850441876274643\u001b[32m [repeated 10x across cluster]\u001b[0m\n",
            "\u001b[2m\u001b[36m(launch_and_fit pid=89122)\u001b[0m Epoch 19: train loss 0.00010276032116962597, accuracy 0.9972807613868117\u001b[32m [repeated 9x across cluster]\u001b[0m\n",
            "\u001b[2m\u001b[36m(launch_and_fit pid=89121)\u001b[0m Epoch 27: train loss 0.000224891904508695, accuracy 0.9972807613868117\u001b[32m [repeated 12x across cluster]\u001b[0m\n",
            "\u001b[2m\u001b[36m(launch_and_fit pid=89122)\u001b[0m Epoch 29: train loss 5.973316729068756e-05, accuracy 0.9986403806934059\u001b[32m [repeated 9x across cluster]\u001b[0m\n",
            "\u001b[2m\u001b[36m(launch_and_fit pid=89121)\u001b[0m Epoch 37: train loss 0.00011433794861659408, accuracy 0.9972807613868117\u001b[32m [repeated 10x across cluster]\u001b[0m\n",
            "\u001b[2m\u001b[36m(launch_and_fit pid=89121)\u001b[0m Epoch 44: train loss 5.06433607370127e-05, accuracy 0.9986403806934059\u001b[32m [repeated 13x across cluster]\u001b[0m\n",
            "\u001b[2m\u001b[36m(launch_and_fit pid=89121)\u001b[0m Epoch 48: train loss 3.463780740275979e-05, accuracy 1.0\u001b[32m [repeated 8x across cluster]\u001b[0m\n",
            "\u001b[2m\u001b[36m(launch_and_fit pid=89121)\u001b[0m [Client 2] fit, config: {}\n",
            "\u001b[2m\u001b[36m(launch_and_fit pid=89122)\u001b[0m Epoch 49: train loss 0.0002005035785259679, accuracy 0.9952413324269205\u001b[32m [repeated 11x across cluster]\u001b[0m\n",
            "\u001b[2m\u001b[36m(launch_and_fit pid=89122)\u001b[0m Epoch 6: train loss 0.0002347625995753333, accuracy 0.9952413324269205\n",
            "\u001b[2m\u001b[36m(launch_and_fit pid=89121)\u001b[0m Epoch 10: train loss 0.00015194252773653716, accuracy 0.9966009517335146\u001b[32m [repeated 13x across cluster]\u001b[0m\n",
            "\u001b[2m\u001b[36m(launch_and_fit pid=89122)\u001b[0m Epoch 10: train loss 0.00042619238956831396, accuracy 0.9932019034670292\u001b[32m [repeated 8x across cluster]\u001b[0m\n",
            "\u001b[2m\u001b[36m(launch_and_fit pid=89121)\u001b[0m Epoch 20: train loss 8.490924665238708e-05, accuracy 0.9979605710401088\u001b[32m [repeated 13x across cluster]\u001b[0m\n",
            "\u001b[2m\u001b[36m(launch_and_fit pid=89121)\u001b[0m Epoch 26: train loss 0.00027294582105241716, accuracy 0.9959211420802175\u001b[32m [repeated 12x across cluster]\u001b[0m\n",
            "\u001b[2m\u001b[36m(launch_and_fit pid=89122)\u001b[0m Epoch 28: train loss 0.00013637430674862117, accuracy 0.9972807613868117\u001b[32m [repeated 10x across cluster]\u001b[0m\n",
            "\u001b[2m\u001b[36m(launch_and_fit pid=89122)\u001b[0m Epoch 35: train loss 7.594354246975854e-05, accuracy 0.9986403806934059\u001b[32m [repeated 13x across cluster]\u001b[0m\n",
            "\u001b[2m\u001b[36m(launch_and_fit pid=89121)\u001b[0m Epoch 41: train loss 1.2831942513003014e-05, accuracy 1.0\u001b[32m [repeated 9x across cluster]\u001b[0m\n",
            "\u001b[2m\u001b[36m(launch_and_fit pid=89122)\u001b[0m Epoch 46: train loss 6.099193706177175e-05, accuracy 0.9986403806934059\u001b[32m [repeated 12x across cluster]\u001b[0m\n"
          ]
        },
        {
          "metadata": {
            "tags": null
          },
          "name": "stderr",
          "output_type": "stream",
          "text": [
            "DEBUG flwr 2023-06-08 16:40:31,853 | server.py:232 | fit_round 11 received 4 results and 0 failures\n",
            "DEBUG:flwr:fit_round 11 received 4 results and 0 failures\n",
            "DEBUG flwr 2023-06-08 16:40:31,888 | server.py:168 | evaluate_round 11: strategy sampled 3 clients (out of 4)\n",
            "DEBUG:flwr:evaluate_round 11: strategy sampled 3 clients (out of 4)\n",
            "DEBUG flwr 2023-06-08 16:40:32,108 | server.py:182 | evaluate_round 11 received 3 results and 0 failures\n",
            "DEBUG:flwr:evaluate_round 11 received 3 results and 0 failures\n",
            "DEBUG flwr 2023-06-08 16:40:32,116 | server.py:218 | fit_round 12: strategy sampled 4 clients (out of 4)\n",
            "DEBUG:flwr:fit_round 12: strategy sampled 4 clients (out of 4)\n"
          ]
        },
        {
          "metadata": {
            "tags": null
          },
          "name": "stdout",
          "output_type": "stream",
          "text": [
            "\u001b[2m\u001b[36m(launch_and_evaluate pid=89122)\u001b[0m [Client 3] evaluate, config: {}\n",
            "\u001b[2m\u001b[36m(launch_and_evaluate pid=89122)\u001b[0m [Client 1] evaluate, config: {}\n",
            "\u001b[2m\u001b[36m(launch_and_fit pid=89122)\u001b[0m [Client 2] fit, config: {}\n",
            "\u001b[2m\u001b[36m(launch_and_fit pid=89122)\u001b[0m Epoch 2: train loss 0.0007442830828949809, accuracy 0.9870836165873556\u001b[32m [repeated 11x across cluster]\u001b[0m\n",
            "\u001b[2m\u001b[36m(launch_and_evaluate pid=89121)\u001b[0m Epoch 4: train loss 0.00021680325153283775, accuracy 0.9966009517335146\n",
            "\u001b[2m\u001b[36m(launch_and_fit pid=89121)\u001b[0m Epoch 4: train loss 0.00033700416679494083, accuracy 0.9938817131203264\n",
            "\u001b[2m\u001b[36m(launch_and_fit pid=89122)\u001b[0m Epoch 6: train loss 0.0001323256001342088, accuracy 0.9972807613868117\u001b[32m [repeated 7x across cluster]\u001b[0m\n",
            "\u001b[2m\u001b[36m(launch_and_fit pid=89121)\u001b[0m Epoch 11: train loss 0.0001281517033930868, accuracy 0.9972807613868117\u001b[32m [repeated 13x across cluster]\u001b[0m\n",
            "\u001b[2m\u001b[36m(launch_and_fit pid=89122)\u001b[0m Epoch 19: train loss 0.0003018668794538826, accuracy 0.9938817131203264\u001b[32m [repeated 12x across cluster]\u001b[0m\n",
            "\u001b[2m\u001b[36m(launch_and_fit pid=89121)\u001b[0m Epoch 21: train loss 7.736583211226389e-05, accuracy 0.9979605710401088\u001b[32m [repeated 9x across cluster]\u001b[0m\n",
            "\u001b[2m\u001b[36m(launch_and_fit pid=89121)\u001b[0m Epoch 27: train loss 0.0001280453143408522, accuracy 0.9966009517335146\u001b[32m [repeated 12x across cluster]\u001b[0m\n",
            "\u001b[2m\u001b[36m(launch_and_fit pid=89122)\u001b[0m Epoch 35: train loss 1.1782686669903342e-05, accuracy 1.0\u001b[32m [repeated 10x across cluster]\u001b[0m\n",
            "\u001b[2m\u001b[36m(launch_and_fit pid=89122)\u001b[0m Epoch 40: train loss 1.016978330881102e-05, accuracy 1.0\u001b[32m [repeated 10x across cluster]\u001b[0m\n",
            "\u001b[2m\u001b[36m(launch_and_fit pid=89121)\u001b[0m Epoch 44: train loss 0.0005375806358642876, accuracy 0.9864038069340585\u001b[32m [repeated 14x across cluster]\u001b[0m\n",
            "\u001b[2m\u001b[36m(launch_and_fit pid=89122)\u001b[0m [Client 0] fit, config: {}\n",
            "\u001b[2m\u001b[36m(launch_and_fit pid=89121)\u001b[0m Epoch 49: train loss 3.687459320644848e-05, accuracy 0.9993201903467029\u001b[32m [repeated 9x across cluster]\u001b[0m\n",
            "\u001b[2m\u001b[36m(launch_and_fit pid=89121)\u001b[0m Epoch 5: train loss 0.0007568579167127609, accuracy 0.9843643779741672\n",
            "\u001b[2m\u001b[36m(launch_and_fit pid=89122)\u001b[0m Epoch 7: train loss 0.0007303357706405222, accuracy 0.9843643779741672\u001b[32m [repeated 12x across cluster]\u001b[0m\n",
            "\u001b[2m\u001b[36m(launch_and_fit pid=89121)\u001b[0m Epoch 11: train loss 0.00028074023430235684, accuracy 0.9945615227736234\u001b[32m [repeated 13x across cluster]\u001b[0m\n",
            "\u001b[2m\u001b[36m(launch_and_fit pid=89121)\u001b[0m Epoch 15: train loss 0.0002583256282377988, accuracy 0.9959211420802175\u001b[32m [repeated 8x across cluster]\u001b[0m\n",
            "\u001b[2m\u001b[36m(launch_and_fit pid=89121)\u001b[0m Epoch 21: train loss 0.00013562098320107907, accuracy 0.9972807613868117\u001b[32m [repeated 12x across cluster]\u001b[0m\n",
            "\u001b[2m\u001b[36m(launch_and_fit pid=89122)\u001b[0m Epoch 30: train loss 9.381159179611132e-05, accuracy 0.9979605710401088\u001b[32m [repeated 12x across cluster]\u001b[0m\n",
            "\u001b[2m\u001b[36m(launch_and_fit pid=89121)\u001b[0m Epoch 30: train loss 6.342749838950112e-05, accuracy 0.9986403806934059\u001b[32m [repeated 7x across cluster]\u001b[0m\n",
            "\u001b[2m\u001b[36m(launch_and_fit pid=89121)\u001b[0m Epoch 36: train loss 3.141018532915041e-05, accuracy 1.0\u001b[32m [repeated 12x across cluster]\u001b[0m\n",
            "\u001b[2m\u001b[36m(launch_and_fit pid=89121)\u001b[0m Epoch 42: train loss 6.951040995772928e-05, accuracy 0.9979605710401088\u001b[32m [repeated 12x across cluster]\u001b[0m\n",
            "\u001b[2m\u001b[36m(launch_and_fit pid=89122)\u001b[0m Epoch 50: train loss 2.009035597438924e-05, accuracy 1.0\u001b[32m [repeated 8x across cluster]\u001b[0m\n"
          ]
        },
        {
          "metadata": {
            "tags": null
          },
          "name": "stderr",
          "output_type": "stream",
          "text": [
            "DEBUG flwr 2023-06-08 16:42:12,815 | server.py:232 | fit_round 12 received 4 results and 0 failures\n",
            "DEBUG:flwr:fit_round 12 received 4 results and 0 failures\n",
            "DEBUG flwr 2023-06-08 16:42:12,852 | server.py:168 | evaluate_round 12: strategy sampled 3 clients (out of 4)\n",
            "DEBUG:flwr:evaluate_round 12: strategy sampled 3 clients (out of 4)\n",
            "DEBUG flwr 2023-06-08 16:42:13,073 | server.py:182 | evaluate_round 12 received 3 results and 0 failures\n",
            "DEBUG:flwr:evaluate_round 12 received 3 results and 0 failures\n",
            "DEBUG flwr 2023-06-08 16:42:13,080 | server.py:218 | fit_round 13: strategy sampled 4 clients (out of 4)\n",
            "DEBUG:flwr:fit_round 13: strategy sampled 4 clients (out of 4)\n"
          ]
        },
        {
          "metadata": {
            "tags": null
          },
          "name": "stdout",
          "output_type": "stream",
          "text": [
            "\u001b[2m\u001b[36m(launch_and_evaluate pid=89122)\u001b[0m [Client 0] evaluate, config: {}\n",
            "\u001b[2m\u001b[36m(launch_and_fit pid=89122)\u001b[0m [Client 2] fit, config: {}\n",
            "\u001b[2m\u001b[36m(launch_and_fit pid=89121)\u001b[0m Epoch 2: train loss 0.0006403539446182549, accuracy 0.9877634262406526\u001b[32m [repeated 9x across cluster]\u001b[0m\n",
            "\u001b[2m\u001b[36m(launch_and_evaluate pid=89121)\u001b[0m [Client 1] evaluate, config: {}\u001b[32m [repeated 2x across cluster]\u001b[0m\n",
            "\u001b[2m\u001b[36m(launch_and_fit pid=89121)\u001b[0m Epoch 7: train loss 8.888870797818527e-05, accuracy 0.9979605710401088\n",
            "\u001b[2m\u001b[36m(launch_and_fit pid=89122)\u001b[0m Epoch 8: train loss 0.00013120997755322605, accuracy 0.9966009517335146\u001b[32m [repeated 11x across cluster]\u001b[0m\n",
            "\u001b[2m\u001b[36m(launch_and_fit pid=89122)\u001b[0m Epoch 13: train loss 0.0023274067789316177, accuracy 0.9762066621346023\u001b[32m [repeated 9x across cluster]\u001b[0m\n",
            "\u001b[2m\u001b[36m(launch_and_fit pid=89122)\u001b[0m Epoch 20: train loss 2.0645260519813746e-05, accuracy 1.0\u001b[32m [repeated 14x across cluster]\u001b[0m\n",
            "\u001b[2m\u001b[36m(launch_and_fit pid=89121)\u001b[0m Epoch 23: train loss 8.490285836160183e-05, accuracy 0.9986403806934059\u001b[32m [repeated 10x across cluster]\u001b[0m\n",
            "\u001b[2m\u001b[36m(launch_and_fit pid=89122)\u001b[0m Epoch 29: train loss 1.2623243492271286e-05, accuracy 1.0\u001b[32m [repeated 6x across cluster]\u001b[0m\n",
            "\u001b[2m\u001b[36m(launch_and_fit pid=89121)\u001b[0m Epoch 32: train loss 2.3762264390825294e-05, accuracy 1.0\u001b[32m [repeated 13x across cluster]\u001b[0m\n",
            "\u001b[2m\u001b[36m(launch_and_fit pid=89121)\u001b[0m Epoch 38: train loss 1.9070170310442336e-05, accuracy 1.0\u001b[32m [repeated 13x across cluster]\u001b[0m\n",
            "\u001b[2m\u001b[36m(launch_and_fit pid=89122)\u001b[0m Epoch 47: train loss 7.608683063153876e-06, accuracy 1.0\u001b[32m [repeated 8x across cluster]\u001b[0m\n",
            "\u001b[2m\u001b[36m(launch_and_fit pid=89122)\u001b[0m [Client 0] fit, config: {}\n",
            "\u001b[2m\u001b[36m(launch_and_fit pid=89121)\u001b[0m Epoch 48: train loss 1.2295730812184047e-05, accuracy 1.0\u001b[32m [repeated 13x across cluster]\u001b[0m\n",
            "\u001b[2m\u001b[36m(launch_and_fit pid=89121)\u001b[0m Epoch 7: train loss 0.0004623350687325001, accuracy 0.9898028552005439\n",
            "\u001b[2m\u001b[36m(launch_and_fit pid=89122)\u001b[0m Epoch 10: train loss 0.0006159147596918046, accuracy 0.9850441876274643\u001b[32m [repeated 12x across cluster]\u001b[0m\n",
            "\u001b[2m\u001b[36m(launch_and_fit pid=89122)\u001b[0m \n",
            "\u001b[2m\u001b[36m(launch_and_fit pid=89122)\u001b[0m Epoch 15: train loss 0.0007508280104957521, accuracy 0.9857239972807614\u001b[32m [repeated 9x across cluster]\u001b[0m\n",
            "\u001b[2m\u001b[36m(launch_and_fit pid=89122)\u001b[0m Epoch 22: train loss 0.00015417413669638336, accuracy 0.9972807613868117\u001b[32m [repeated 13x across cluster]\u001b[0m\n",
            "\u001b[2m\u001b[36m(launch_and_fit pid=89121)\u001b[0m Epoch 18: train loss 2.5358509446959943e-05, accuracy 0.9993201903467029\u001b[32m [repeated 10x across cluster]\u001b[0m\n",
            "\u001b[2m\u001b[36m(launch_and_fit pid=89121)\u001b[0m Epoch 23: train loss 1.5751646060380153e-05, accuracy 1.0\u001b[32m [repeated 11x across cluster]\u001b[0m\n",
            "\u001b[2m\u001b[36m(launch_and_fit pid=89122)\u001b[0m Epoch 41: train loss 2.4128748918883502e-05, accuracy 1.0\u001b[32m [repeated 13x across cluster]\u001b[0m\n",
            "\u001b[2m\u001b[36m(launch_and_fit pid=89122)\u001b[0m Epoch 46: train loss 1.9630693714134395e-05, accuracy 1.0\u001b[32m [repeated 9x across cluster]\u001b[0m\n",
            "\u001b[2m\u001b[36m(launch_and_fit pid=89121)\u001b[0m Epoch 39: train loss 8.259609785454813e-06, accuracy 1.0\u001b[32m [repeated 11x across cluster]\u001b[0m\n",
            "\u001b[2m\u001b[36m(launch_and_fit pid=89121)\u001b[0m Epoch 47: train loss 6.526046490762383e-06, accuracy 1.0\u001b[32m [repeated 8x across cluster]\u001b[0m\n"
          ]
        },
        {
          "metadata": {
            "tags": null
          },
          "name": "stderr",
          "output_type": "stream",
          "text": [
            "DEBUG flwr 2023-06-08 16:43:53,985 | server.py:232 | fit_round 13 received 4 results and 0 failures\n",
            "DEBUG:flwr:fit_round 13 received 4 results and 0 failures\n",
            "DEBUG flwr 2023-06-08 16:43:54,048 | server.py:168 | evaluate_round 13: strategy sampled 3 clients (out of 4)\n",
            "DEBUG:flwr:evaluate_round 13: strategy sampled 3 clients (out of 4)\n",
            "DEBUG flwr 2023-06-08 16:43:54,406 | server.py:182 | evaluate_round 13 received 3 results and 0 failures\n",
            "DEBUG:flwr:evaluate_round 13 received 3 results and 0 failures\n",
            "DEBUG flwr 2023-06-08 16:43:54,409 | server.py:218 | fit_round 14: strategy sampled 4 clients (out of 4)\n",
            "DEBUG:flwr:fit_round 14: strategy sampled 4 clients (out of 4)\n"
          ]
        },
        {
          "metadata": {
            "tags": null
          },
          "name": "stdout",
          "output_type": "stream",
          "text": [
            "\u001b[2m\u001b[36m(launch_and_evaluate pid=89122)\u001b[0m [Client 1] evaluate, config: {}\n",
            "\u001b[2m\u001b[36m(launch_and_evaluate pid=89122)\u001b[0m [Client 2] evaluate, config: {}\n",
            "\u001b[2m\u001b[36m(launch_and_fit pid=89122)\u001b[0m [Client 2] fit, config: {}\n",
            "\u001b[2m\u001b[36m(launch_and_fit pid=89122)\u001b[0m Epoch 1: train loss 0.0012261781375855207, accuracy 0.9877634262406526\u001b[32m [repeated 5x across cluster]\u001b[0m\n",
            "\u001b[2m\u001b[36m(launch_and_evaluate pid=89121)\u001b[0m Epoch 5: train loss 0.00043854062096215785, accuracy 0.9877634262406526\n",
            "\u001b[2m\u001b[36m(launch_and_fit pid=89121)\u001b[0m Epoch 6: train loss 0.00037542395875789225, accuracy 0.9918422841604351\n",
            "\u001b[2m\u001b[36m(launch_and_fit pid=89121)\u001b[0m Epoch 8: train loss 0.00038449186831712723, accuracy 0.991162474507138\u001b[32m [repeated 13x across cluster]\u001b[0m\n",
            "\u001b[2m\u001b[36m(launch_and_fit pid=89121)\u001b[0m Epoch 14: train loss 0.0006000269786454737, accuracy 0.9864038069340585\u001b[32m [repeated 12x across cluster]\u001b[0m\n",
            "\u001b[2m\u001b[36m(launch_and_fit pid=89121)\u001b[0m Epoch 18: train loss 0.000231789774261415, accuracy 0.9945615227736234\u001b[32m [repeated 8x across cluster]\u001b[0m\n",
            "\u001b[2m\u001b[36m(launch_and_fit pid=89122)\u001b[0m Epoch 24: train loss 6.346517329802737e-05, accuracy 0.9979605710401088\u001b[32m [repeated 13x across cluster]\u001b[0m\n",
            "\u001b[2m\u001b[36m(launch_and_fit pid=89122)\u001b[0m Epoch 29: train loss 0.0005676217842847109, accuracy 0.9891230455472467\u001b[32m [repeated 11x across cluster]\u001b[0m\n",
            "\u001b[2m\u001b[36m(launch_and_fit pid=89122)\u001b[0m Epoch 34: train loss 9.179299922834616e-06, accuracy 1.0\u001b[32m [repeated 10x across cluster]\u001b[0m\n",
            "\u001b[2m\u001b[36m(launch_and_fit pid=89121)\u001b[0m Epoch 43: train loss 1.7497202861704864e-05, accuracy 1.0\u001b[32m [repeated 14x across cluster]\u001b[0m\n",
            "\u001b[2m\u001b[36m(launch_and_fit pid=89122)\u001b[0m Epoch 45: train loss 4.9753602979762945e-06, accuracy 1.0\u001b[32m [repeated 9x across cluster]\u001b[0m\n",
            "\u001b[2m\u001b[36m(launch_and_fit pid=89121)\u001b[0m [Client 3] fit, config: {}\n",
            "\u001b[2m\u001b[36m(launch_and_fit pid=89121)\u001b[0m Epoch 3: train loss 0.0001625055738259107, accuracy 0.9972807613868117\u001b[32m [repeated 11x across cluster]\u001b[0m\n",
            "\u001b[2m\u001b[36m(launch_and_fit pid=89122)\u001b[0m Epoch 4: train loss 0.0006564926006831229, accuracy 0.9857239972807614\n",
            "\u001b[2m\u001b[36m(launch_and_fit pid=89121)\u001b[0m Epoch 9: train loss 0.00013883583596907556, accuracy 0.9972807613868117\u001b[32m [repeated 13x across cluster]\u001b[0m\n",
            "\u001b[2m\u001b[36m(launch_and_fit pid=89122)\u001b[0m Epoch 12: train loss 0.00017508651944808662, accuracy 0.9966009517335146\u001b[32m [repeated 8x across cluster]\u001b[0m\n",
            "\u001b[2m\u001b[36m(launch_and_fit pid=89122)\u001b[0m \n",
            "\u001b[2m\u001b[36m(launch_and_fit pid=89121)\u001b[0m Epoch 19: train loss 1.221769616677193e-05, accuracy 1.0\u001b[32m [repeated 13x across cluster]\u001b[0m\n",
            "\u001b[2m\u001b[36m(launch_and_fit pid=89121)\u001b[0m Epoch 25: train loss 8.793400411377661e-06, accuracy 1.0\u001b[32m [repeated 13x across cluster]\u001b[0m\n",
            "\u001b[2m\u001b[36m(launch_and_fit pid=89122)\u001b[0m Epoch 30: train loss 2.9526878279284574e-05, accuracy 1.0\u001b[32m [repeated 8x across cluster]\u001b[0m\n",
            "\u001b[2m\u001b[36m(launch_and_fit pid=89122)\u001b[0m Epoch 37: train loss 2.0417734049260616e-05, accuracy 1.0\u001b[32m [repeated 13x across cluster]\u001b[0m\n",
            "\u001b[2m\u001b[36m(launch_and_fit pid=89122)\u001b[0m Epoch 43: train loss 1.6724743545637466e-05, accuracy 1.0\u001b[32m [repeated 11x across cluster]\u001b[0m\n",
            "\u001b[2m\u001b[36m(launch_and_fit pid=89122)\u001b[0m Epoch 48: train loss 1.4544157238560729e-05, accuracy 1.0\u001b[32m [repeated 10x across cluster]\u001b[0m\n"
          ]
        },
        {
          "metadata": {
            "tags": null
          },
          "name": "stderr",
          "output_type": "stream",
          "text": [
            "DEBUG flwr 2023-06-08 16:45:32,434 | server.py:232 | fit_round 14 received 4 results and 0 failures\n",
            "DEBUG:flwr:fit_round 14 received 4 results and 0 failures\n",
            "DEBUG flwr 2023-06-08 16:45:32,463 | server.py:168 | evaluate_round 14: strategy sampled 3 clients (out of 4)\n",
            "DEBUG:flwr:evaluate_round 14: strategy sampled 3 clients (out of 4)\n",
            "DEBUG flwr 2023-06-08 16:45:32,688 | server.py:182 | evaluate_round 14 received 3 results and 0 failures\n",
            "DEBUG:flwr:evaluate_round 14 received 3 results and 0 failures\n",
            "DEBUG flwr 2023-06-08 16:45:32,694 | server.py:218 | fit_round 15: strategy sampled 4 clients (out of 4)\n",
            "DEBUG:flwr:fit_round 15: strategy sampled 4 clients (out of 4)\n"
          ]
        },
        {
          "metadata": {
            "tags": null
          },
          "name": "stdout",
          "output_type": "stream",
          "text": [
            "\u001b[2m\u001b[36m(launch_and_evaluate pid=89122)\u001b[0m [Client 3] evaluate, config: {}\n",
            "\u001b[2m\u001b[36m(launch_and_fit pid=89122)\u001b[0m [Client 0] fit, config: {}\n",
            "\u001b[2m\u001b[36m(launch_and_fit pid=89121)\u001b[0m Epoch 1: train loss 0.0004008332616649568, accuracy 0.9938817131203264\u001b[32m [repeated 9x across cluster]\u001b[0m\n",
            "\u001b[2m\u001b[36m(launch_and_evaluate pid=89121)\u001b[0m [Client 1] evaluate, config: {}\u001b[32m [repeated 2x across cluster]\u001b[0m\n",
            "\u001b[2m\u001b[36m(launch_and_fit pid=89121)\u001b[0m Epoch 6: train loss 0.00031856700661592185, accuracy 0.9925220938137321\n",
            "\u001b[2m\u001b[36m(launch_and_fit pid=89121)\u001b[0m Epoch 6: train loss 0.00031856700661592185, accuracy 0.9925220938137321\u001b[32m [repeated 10x across cluster]\u001b[0m\n",
            "\u001b[2m\u001b[36m(launch_and_fit pid=89122)\u001b[0m Epoch 11: train loss 0.00027735784533433616, accuracy 0.9918422841604351\u001b[32m [repeated 10x across cluster]\u001b[0m\n",
            "\u001b[2m\u001b[36m(launch_and_fit pid=89122)\u001b[0m Epoch 18: train loss 0.0005724797956645489, accuracy 0.9843643779741672\u001b[32m [repeated 14x across cluster]\u001b[0m\n",
            "\u001b[2m\u001b[36m(launch_and_fit pid=89121)\u001b[0m Epoch 22: train loss 6.590832981601125e-06, accuracy 1.0\u001b[32m [repeated 9x across cluster]\u001b[0m\n",
            "\u001b[2m\u001b[36m(launch_and_fit pid=89122)\u001b[0m Epoch 29: train loss 9.779801621334627e-05, accuracy 0.9972807613868117\u001b[32m [repeated 13x across cluster]\u001b[0m\n",
            "\u001b[2m\u001b[36m(launch_and_fit pid=89121)\u001b[0m Epoch 35: train loss 4.102740149392048e-06, accuracy 1.0\u001b[32m [repeated 13x across cluster]\u001b[0m\n",
            "\u001b[2m\u001b[36m(launch_and_fit pid=89121)\u001b[0m Epoch 39: train loss 3.6493777315627085e-06, accuracy 1.0\u001b[32m [repeated 7x across cluster]\u001b[0m\n",
            "\u001b[2m\u001b[36m(launch_and_fit pid=89122)\u001b[0m Epoch 45: train loss 1.531005727883894e-05, accuracy 1.0\u001b[32m [repeated 13x across cluster]\u001b[0m\n",
            "\u001b[2m\u001b[36m(launch_and_fit pid=89121)\u001b[0m [Client 2] fit, config: {}\n",
            "\u001b[2m\u001b[36m(launch_and_fit pid=89122)\u001b[0m Epoch 1: train loss 0.0007357478025369346, accuracy 0.9925220938137321\u001b[32m [repeated 12x across cluster]\u001b[0m\n",
            "\u001b[2m\u001b[36m(launch_and_fit pid=89122)\u001b[0m Epoch 4: train loss 0.0003756004443857819, accuracy 0.9918422841604351\n",
            "\u001b[2m\u001b[36m(launch_and_fit pid=89122)\u001b[0m Epoch 5: train loss 0.0009976048022508621, accuracy 0.9809653297076818\u001b[32m [repeated 8x across cluster]\u001b[0m\n",
            "\u001b[2m\u001b[36m(launch_and_fit pid=89122)\u001b[0m Epoch 12: train loss 0.0001247414475074038, accuracy 0.9959211420802175\u001b[32m [repeated 13x across cluster]\u001b[0m\n",
            "\u001b[2m\u001b[36m(launch_and_fit pid=89122)\u001b[0m Epoch 18: train loss 5.9602341934805736e-05, accuracy 0.9993201903467029\u001b[32m [repeated 12x across cluster]\u001b[0m\n",
            "\u001b[2m\u001b[36m(launch_and_fit pid=89122)\u001b[0m Epoch 23: train loss 2.9758961318293586e-05, accuracy 1.0\u001b[32m [repeated 9x across cluster]\u001b[0m\n",
            "\u001b[2m\u001b[36m(launch_and_fit pid=89121)\u001b[0m Epoch 28: train loss 6.5059125518018845e-06, accuracy 1.0\u001b[32m [repeated 13x across cluster]\u001b[0m\n",
            "\u001b[2m\u001b[36m(launch_and_fit pid=89122)\u001b[0m Epoch 35: train loss 1.5749095837236382e-05, accuracy 1.0\u001b[32m [repeated 10x across cluster]\u001b[0m\n",
            "\u001b[2m\u001b[36m(launch_and_fit pid=89121)\u001b[0m Epoch 38: train loss 4.729579814011231e-06, accuracy 1.0\u001b[32m [repeated 11x across cluster]\u001b[0m\n",
            "\u001b[2m\u001b[36m(launch_and_fit pid=89121)\u001b[0m Epoch 44: train loss 4.038686256535584e-06, accuracy 1.0\u001b[32m [repeated 13x across cluster]\u001b[0m\n"
          ]
        },
        {
          "metadata": {
            "tags": null
          },
          "name": "stderr",
          "output_type": "stream",
          "text": [
            "DEBUG flwr 2023-06-08 16:47:08,246 | server.py:232 | fit_round 15 received 4 results and 0 failures\n",
            "DEBUG:flwr:fit_round 15 received 4 results and 0 failures\n",
            "DEBUG flwr 2023-06-08 16:47:08,286 | server.py:168 | evaluate_round 15: strategy sampled 3 clients (out of 4)\n",
            "DEBUG:flwr:evaluate_round 15: strategy sampled 3 clients (out of 4)\n",
            "DEBUG flwr 2023-06-08 16:47:08,628 | server.py:182 | evaluate_round 15 received 3 results and 0 failures\n",
            "DEBUG:flwr:evaluate_round 15 received 3 results and 0 failures\n",
            "DEBUG flwr 2023-06-08 16:47:08,633 | server.py:218 | fit_round 16: strategy sampled 4 clients (out of 4)\n",
            "DEBUG:flwr:fit_round 16: strategy sampled 4 clients (out of 4)\n"
          ]
        },
        {
          "metadata": {
            "tags": null
          },
          "name": "stdout",
          "output_type": "stream",
          "text": [
            "\u001b[2m\u001b[36m(launch_and_evaluate pid=89122)\u001b[0m [Client 1] evaluate, config: {}\n",
            "\u001b[2m\u001b[36m(launch_and_fit pid=89121)\u001b[0m Epoch 50: train loss 3.4931167647300754e-06, accuracy 1.0\u001b[32m [repeated 9x across cluster]\u001b[0m\n",
            "\u001b[2m\u001b[36m(launch_and_fit pid=89122)\u001b[0m [Client 0] fit, config: {}\n",
            "\u001b[2m\u001b[36m(launch_and_evaluate pid=89121)\u001b[0m [Client 2] evaluate, config: {}\u001b[32m [repeated 2x across cluster]\u001b[0m\n",
            "\u001b[2m\u001b[36m(launch_and_fit pid=89122)\u001b[0m Epoch 5: train loss 0.0001439487241441384, accuracy 0.9945615227736234\u001b[32m [repeated 10x across cluster]\u001b[0m\n",
            "\u001b[2m\u001b[36m(launch_and_fit pid=89121)\u001b[0m Epoch 6: train loss 0.00016555501497350633, accuracy 0.9952413324269205\n",
            "\u001b[2m\u001b[36m(launch_and_fit pid=89121)\u001b[0m Epoch 12: train loss 1.040766710502794e-05, accuracy 1.0\u001b[32m [repeated 13x across cluster]\u001b[0m\n",
            "\u001b[2m\u001b[36m(launch_and_fit pid=89122)\u001b[0m Epoch 16: train loss 0.0004230598278809339, accuracy 0.9877634262406526\u001b[32m [repeated 9x across cluster]\u001b[0m\n",
            "\u001b[2m\u001b[36m(launch_and_fit pid=89122)\u001b[0m Epoch 23: train loss 0.0011373991146683693, accuracy 0.9864038069340585\u001b[32m [repeated 14x across cluster]\u001b[0m\n",
            "\u001b[2m\u001b[36m(launch_and_fit pid=89122)\u001b[0m Epoch 29: train loss 3.7058405723655596e-05, accuracy 0.9993201903467029\u001b[32m [repeated 12x across cluster]\u001b[0m\n",
            "\u001b[2m\u001b[36m(launch_and_fit pid=89121)\u001b[0m Epoch 33: train loss 4.193401309748879e-06, accuracy 1.0\u001b[32m [repeated 6x across cluster]\u001b[0m\n",
            "\u001b[2m\u001b[36m(launch_and_fit pid=89121)\u001b[0m Epoch 38: train loss 3.682247779579484e-06, accuracy 1.0\u001b[32m [repeated 10x across cluster]\u001b[0m\n",
            "\u001b[2m\u001b[36m(launch_and_fit pid=89122)\u001b[0m Epoch 43: train loss 1.3040484191151336e-05, accuracy 1.0\u001b[32m [repeated 13x across cluster]\u001b[0m\n",
            "\u001b[2m\u001b[36m(launch_and_fit pid=89122)\u001b[0m Epoch 48: train loss 1.0587384167592973e-05, accuracy 1.0\u001b[32m [repeated 10x across cluster]\u001b[0m\n",
            "\u001b[2m\u001b[36m(launch_and_fit pid=89121)\u001b[0m [Client 1] fit, config: {}\n",
            "\u001b[2m\u001b[36m(launch_and_fit pid=89121)\u001b[0m Epoch 7: train loss 0.0002976172836497426, accuracy 0.9925220938137321\u001b[32m [repeated 13x across cluster]\u001b[0m\n",
            "\u001b[2m\u001b[36m(launch_and_fit pid=89122)\u001b[0m Epoch 7: train loss 0.0002976172836497426, accuracy 0.9925220938137321\n",
            "\u001b[2m\u001b[36m(launch_and_fit pid=89121)\u001b[0m Epoch 14: train loss 3.7837282434338704e-05, accuracy 0.9993201903467029\u001b[32m [repeated 14x across cluster]\u001b[0m\n",
            "\u001b[2m\u001b[36m(launch_and_fit pid=89121)\u001b[0m Epoch 18: train loss 1.875821362773422e-05, accuracy 1.0\u001b[32m [repeated 7x across cluster]\u001b[0m\n",
            "\u001b[2m\u001b[36m(launch_and_fit pid=89121)\u001b[0m Epoch 25: train loss 1.2731844435620587e-05, accuracy 1.0\u001b[32m [repeated 14x across cluster]\u001b[0m\n",
            "\u001b[2m\u001b[36m(launch_and_fit pid=89122)\u001b[0m Epoch 26: train loss 5.761329703091178e-06, accuracy 1.0\u001b[32m [repeated 12x across cluster]\u001b[0m\n",
            "\u001b[2m\u001b[36m(launch_and_fit pid=89121)\u001b[0m Epoch 36: train loss 8.353639714187011e-06, accuracy 1.0\u001b[32m [repeated 8x across cluster]\u001b[0m\n",
            "\u001b[2m\u001b[36m(launch_and_fit pid=89122)\u001b[0m Epoch 36: train loss 4.297050963941729e-06, accuracy 1.0\u001b[32m [repeated 14x across cluster]\u001b[0m\n",
            "\u001b[2m\u001b[36m(launch_and_fit pid=89122)\u001b[0m Epoch 42: train loss 3.654027295851847e-06, accuracy 1.0\u001b[32m [repeated 12x across cluster]\u001b[0m\n"
          ]
        },
        {
          "metadata": {
            "tags": null
          },
          "name": "stderr",
          "output_type": "stream",
          "text": [
            "DEBUG flwr 2023-06-08 16:48:45,573 | server.py:232 | fit_round 16 received 4 results and 0 failures\n",
            "DEBUG:flwr:fit_round 16 received 4 results and 0 failures\n",
            "DEBUG flwr 2023-06-08 16:48:45,603 | server.py:168 | evaluate_round 16: strategy sampled 3 clients (out of 4)\n",
            "DEBUG:flwr:evaluate_round 16: strategy sampled 3 clients (out of 4)\n",
            "DEBUG flwr 2023-06-08 16:48:45,836 | server.py:182 | evaluate_round 16 received 3 results and 0 failures\n",
            "DEBUG:flwr:evaluate_round 16 received 3 results and 0 failures\n",
            "DEBUG flwr 2023-06-08 16:48:45,841 | server.py:218 | fit_round 17: strategy sampled 4 clients (out of 4)\n",
            "DEBUG:flwr:fit_round 17: strategy sampled 4 clients (out of 4)\n"
          ]
        },
        {
          "metadata": {
            "tags": null
          },
          "name": "stdout",
          "output_type": "stream",
          "text": [
            "\u001b[2m\u001b[36m(launch_and_fit pid=89122)\u001b[0m Epoch 50: train loss 2.973289383589872e-06, accuracy 1.0\u001b[32m [repeated 9x across cluster]\u001b[0m\n",
            "\u001b[2m\u001b[36m(launch_and_evaluate pid=89122)\u001b[0m [Client 0] evaluate, config: {}\n",
            "\u001b[2m\u001b[36m(launch_and_evaluate pid=89122)\u001b[0m [Client 2] evaluate, config: {}\n",
            "\u001b[2m\u001b[36m(launch_and_fit pid=89122)\u001b[0m [Client 0] fit, config: {}\n",
            "\u001b[2m\u001b[36m(launch_and_fit pid=89122)\u001b[0m Epoch 6: train loss 0.0001556242787046358, accuracy 0.9959211420802175\u001b[32m [repeated 12x across cluster]\u001b[0m\n",
            "\u001b[2m\u001b[36m(launch_and_evaluate pid=89121)\u001b[0m Epoch 6: train loss 0.0001556242787046358, accuracy 0.9959211420802175\n",
            "\u001b[2m\u001b[36m(launch_and_fit pid=89121)\u001b[0m Epoch 6: train loss 0.0001556242787046358, accuracy 0.9959211420802175\n",
            "\u001b[2m\u001b[36m(launch_and_fit pid=89122)\u001b[0m Epoch 11: train loss 0.00017972680507227778, accuracy 0.9945615227736234\u001b[32m [repeated 10x across cluster]\u001b[0m\n",
            "\u001b[2m\u001b[36m(launch_and_fit pid=89121)\u001b[0m Epoch 19: train loss 5.223799689701991e-06, accuracy 1.0\u001b[32m [repeated 14x across cluster]\u001b[0m\n",
            "\u001b[2m\u001b[36m(launch_and_fit pid=89121)\u001b[0m Epoch 26: train loss 4.181148142379243e-06, accuracy 1.0\u001b[32m [repeated 14x across cluster]\u001b[0m\n",
            "\u001b[2m\u001b[36m(launch_and_fit pid=89121)\u001b[0m Epoch 30: train loss 3.676598225865746e-06, accuracy 1.0\u001b[32m [repeated 8x across cluster]\u001b[0m\n",
            "\u001b[2m\u001b[36m(launch_and_fit pid=89122)\u001b[0m Epoch 35: train loss 4.410082510730717e-06, accuracy 1.0\u001b[32m [repeated 13x across cluster]\u001b[0m\n",
            "\u001b[2m\u001b[36m(launch_and_fit pid=89121)\u001b[0m Epoch 43: train loss 2.432818746456178e-06, accuracy 1.0\u001b[32m [repeated 13x across cluster]\u001b[0m\n",
            "\u001b[2m\u001b[36m(launch_and_fit pid=89122)\u001b[0m Epoch 46: train loss 3.3265857837250223e-06, accuracy 1.0\u001b[32m [repeated 9x across cluster]\u001b[0m\n",
            "\u001b[2m\u001b[36m(launch_and_fit pid=89121)\u001b[0m [Client 1] fit, config: {}\n",
            "\u001b[2m\u001b[36m(launch_and_fit pid=89122)\u001b[0m Epoch 3: train loss 0.0008555578533560038, accuracy 0.982324949014276\u001b[32m [repeated 14x across cluster]\u001b[0m\n",
            "\u001b[2m\u001b[36m(launch_and_fit pid=89122)\u001b[0m Epoch 7: train loss 0.0002213674015365541, accuracy 0.9959211420802175\n",
            "\u001b[2m\u001b[36m(launch_and_fit pid=89121)\u001b[0m Epoch 11: train loss 2.95070894935634e-05, accuracy 0.9993201903467029\u001b[32m [repeated 12x across cluster]\u001b[0m\n",
            "\u001b[2m\u001b[36m(launch_and_fit pid=89122)\u001b[0m Epoch 15: train loss 8.115583113976754e-06, accuracy 1.0\u001b[32m [repeated 13x across cluster]\u001b[0m\n",
            "\u001b[2m\u001b[36m(launch_and_fit pid=89122)\u001b[0m Epoch 22: train loss 5.71170403418364e-06, accuracy 1.0\u001b[32m [repeated 14x across cluster]\u001b[0m\n",
            "\u001b[2m\u001b[36m(launch_and_fit pid=89121)\u001b[0m Epoch 30: train loss 5.357145255402429e-06, accuracy 1.0\u001b[32m [repeated 10x across cluster]\u001b[0m\n",
            "\u001b[2m\u001b[36m(launch_and_fit pid=89121)\u001b[0m Epoch 37: train loss 4.258301942172693e-06, accuracy 1.0\u001b[32m [repeated 14x across cluster]\u001b[0m\n",
            "\u001b[2m\u001b[36m(launch_and_fit pid=89121)\u001b[0m Epoch 44: train loss 3.5127679893776076e-06, accuracy 1.0\u001b[32m [repeated 14x across cluster]\u001b[0m\n",
            "\u001b[2m\u001b[36m(launch_and_fit pid=89121)\u001b[0m Epoch 48: train loss 3.174822040818981e-06, accuracy 1.0\u001b[32m [repeated 8x across cluster]\u001b[0m\n"
          ]
        },
        {
          "metadata": {
            "tags": null
          },
          "name": "stderr",
          "output_type": "stream",
          "text": [
            "DEBUG flwr 2023-06-08 16:50:16,093 | server.py:232 | fit_round 17 received 4 results and 0 failures\n",
            "DEBUG:flwr:fit_round 17 received 4 results and 0 failures\n",
            "DEBUG flwr 2023-06-08 16:50:16,141 | server.py:168 | evaluate_round 17: strategy sampled 3 clients (out of 4)\n",
            "DEBUG:flwr:evaluate_round 17: strategy sampled 3 clients (out of 4)\n",
            "DEBUG flwr 2023-06-08 16:50:16,375 | server.py:182 | evaluate_round 17 received 3 results and 0 failures\n",
            "DEBUG:flwr:evaluate_round 17 received 3 results and 0 failures\n",
            "DEBUG flwr 2023-06-08 16:50:16,380 | server.py:218 | fit_round 18: strategy sampled 4 clients (out of 4)\n",
            "DEBUG:flwr:fit_round 18: strategy sampled 4 clients (out of 4)\n"
          ]
        },
        {
          "metadata": {
            "tags": null
          },
          "name": "stdout",
          "output_type": "stream",
          "text": [
            "\u001b[2m\u001b[36m(launch_and_evaluate pid=89122)\u001b[0m [Client 0] evaluate, config: {}\n",
            "\u001b[2m\u001b[36m(launch_and_fit pid=89122)\u001b[0m [Client 0] fit, config: {}\n",
            "\u001b[2m\u001b[36m(launch_and_fit pid=89122)\u001b[0m Epoch 1: train loss 0.0004700332647189498, accuracy 0.9925220938137321\u001b[32m [repeated 10x across cluster]\u001b[0m\n",
            "\u001b[2m\u001b[36m(launch_and_evaluate pid=89121)\u001b[0m [Client 3] evaluate, config: {}\u001b[32m [repeated 2x across cluster]\u001b[0m\n",
            "\u001b[2m\u001b[36m(launch_and_fit pid=89121)\u001b[0m Epoch 7: train loss 0.00023990847694221884, accuracy 0.9959211420802175\n",
            "\u001b[2m\u001b[36m(launch_and_fit pid=89121)\u001b[0m Epoch 8: train loss 0.00012418405094649643, accuracy 0.9972807613868117\u001b[32m [repeated 12x across cluster]\u001b[0m\n",
            "\u001b[2m\u001b[36m(launch_and_fit pid=89121)\u001b[0m Epoch 13: train loss 1.2767438420269173e-05, accuracy 1.0\u001b[32m [repeated 9x across cluster]\u001b[0m\n",
            "\u001b[2m\u001b[36m(launch_and_fit pid=89121)\u001b[0m Epoch 20: train loss 8.47927003633231e-06, accuracy 1.0\u001b[32m [repeated 14x across cluster]\u001b[0m\n",
            "\u001b[2m\u001b[36m(launch_and_fit pid=89122)\u001b[0m Epoch 24: train loss 4.632776835933328e-06, accuracy 1.0\u001b[32m [repeated 13x across cluster]\u001b[0m\n",
            "\u001b[2m\u001b[36m(launch_and_fit pid=89121)\u001b[0m Epoch 33: train loss 5.591488388745347e-06, accuracy 1.0\u001b[32m [repeated 12x across cluster]\u001b[0m\n",
            "\u001b[2m\u001b[36m(launch_and_fit pid=89121)\u001b[0m Epoch 40: train loss 4.46398871645215e-06, accuracy 1.0\u001b[32m [repeated 14x across cluster]\u001b[0m\n",
            "\u001b[2m\u001b[36m(launch_and_fit pid=89121)\u001b[0m Epoch 45: train loss 3.957568424084457e-06, accuracy 1.0\u001b[32m [repeated 10x across cluster]\u001b[0m\n",
            "\u001b[2m\u001b[36m(launch_and_fit pid=89121)\u001b[0m [Client 3] fit, config: {\n",
            "\u001b[2m\u001b[36m(launch_and_fit pid=89121)\u001b[0m }\n",
            "\u001b[2m\u001b[36m(launch_and_fit pid=89122)\u001b[0m Epoch 48: train loss 2.547761368987267e-06, accuracy 1.0\u001b[32m [repeated 13x across cluster]\u001b[0m\n",
            "\u001b[2m\u001b[36m(launch_and_fit pid=89122)\u001b[0m [Client 2] fit, config: {}\n",
            "\u001b[2m\u001b[36m(launch_and_fit pid=89121)\u001b[0m Epoch 8: train loss 9.514375960861798e-06, accuracy 1.0\u001b[32m [repeated 13x across cluster]\u001b[0m\n",
            "\u001b[2m\u001b[36m(launch_and_fit pid=89121)\u001b[0m Epoch 12: train loss 6.3025427152751945e-06, accuracy 1.0\u001b[32m [repeated 8x across cluster]\u001b[0m\n",
            "\u001b[2m\u001b[36m(launch_and_fit pid=89122)\u001b[0m Epoch 15: train loss 3.6379785797180375e-06, accuracy 1.0\u001b[32m [repeated 13x across cluster]\u001b[0m\n",
            "\u001b[2m\u001b[36m(launch_and_fit pid=89122)\u001b[0m Epoch 22: train loss 2.8071383439964848e-06, accuracy 1.0\u001b[32m [repeated 15x across cluster]\u001b[0m\n",
            "\u001b[2m\u001b[36m(launch_and_fit pid=89121)\u001b[0m Epoch 31: train loss 2.9319255645532394e-06, accuracy 1.0\u001b[32m [repeated 9x across cluster]\u001b[0m\n",
            "\u001b[2m\u001b[36m(launch_and_fit pid=89121)\u001b[0m Epoch 38: train loss 2.387682798143942e-06, accuracy 1.0\u001b[32m [repeated 14x across cluster]\u001b[0m\n",
            "\u001b[2m\u001b[36m(launch_and_fit pid=89121)\u001b[0m Epoch 44: train loss 2.089264626192744e-06, accuracy 1.0\u001b[32m [repeated 12x across cluster]\u001b[0m\n",
            "\u001b[2m\u001b[36m(launch_and_fit pid=89122)\u001b[0m Epoch 44: train loss 1.4524761127177044e-06, accuracy 1.0\u001b[32m [repeated 9x across cluster]\u001b[0m\n"
          ]
        },
        {
          "metadata": {
            "tags": null
          },
          "name": "stderr",
          "output_type": "stream",
          "text": [
            "DEBUG flwr 2023-06-08 16:51:46,753 | server.py:232 | fit_round 18 received 4 results and 0 failures\n",
            "DEBUG:flwr:fit_round 18 received 4 results and 0 failures\n",
            "DEBUG flwr 2023-06-08 16:51:46,782 | server.py:168 | evaluate_round 18: strategy sampled 3 clients (out of 4)\n",
            "DEBUG:flwr:evaluate_round 18: strategy sampled 3 clients (out of 4)\n",
            "DEBUG flwr 2023-06-08 16:51:47,022 | server.py:182 | evaluate_round 18 received 3 results and 0 failures\n",
            "DEBUG:flwr:evaluate_round 18 received 3 results and 0 failures\n",
            "DEBUG flwr 2023-06-08 16:51:47,031 | server.py:218 | fit_round 19: strategy sampled 4 clients (out of 4)\n",
            "DEBUG:flwr:fit_round 19: strategy sampled 4 clients (out of 4)\n"
          ]
        },
        {
          "metadata": {
            "tags": null
          },
          "name": "stdout",
          "output_type": "stream",
          "text": [
            "\u001b[2m\u001b[36m(launch_and_evaluate pid=89122)\u001b[0m [Client 3] evaluate, config: {}\n",
            "\u001b[2m\u001b[36m(launch_and_fit pid=89122)\u001b[0m [Client 1] fit, config: {}\n",
            "\u001b[2m\u001b[36m(launch_and_fit pid=89122)\u001b[0m Epoch 2: train loss 0.00031583569943904877, accuracy 0.9925220938137321\u001b[32m [repeated 11x across cluster]\u001b[0m\n",
            "\u001b[2m\u001b[36m(launch_and_evaluate pid=89121)\u001b[0m [Client 1] evaluate, config: {}\u001b[32m [repeated 2x across cluster]\u001b[0m\n",
            "\u001b[2m\u001b[36m(launch_and_fit pid=89121)\u001b[0m Epoch 7: train loss 5.767207403550856e-05, accuracy 0.9993201903467029\n",
            "\u001b[2m\u001b[36m(launch_and_fit pid=89122)\u001b[0m Epoch 8: train loss 3.541855767252855e-05, accuracy 0.9986403806934059\u001b[32m [repeated 11x across cluster]\u001b[0m\n",
            "\u001b[2m\u001b[36m(launch_and_fit pid=89122)\u001b[0m Epoch 15: train loss 5.939226412010612e-06, accuracy 1.0\u001b[32m [repeated 13x across cluster]\u001b[0m\n",
            "\u001b[2m\u001b[36m(launch_and_fit pid=89122)\u001b[0m Epoch 22: train loss 4.479719791561365e-06, accuracy 1.0\u001b[32m [repeated 14x across cluster]\u001b[0m\n",
            "\u001b[2m\u001b[36m(launch_and_fit pid=89122)\u001b[0m Epoch 26: train loss 3.964074039686238e-06, accuracy 1.0\u001b[32m [repeated 8x across cluster]\u001b[0m\n",
            "\u001b[2m\u001b[36m(launch_and_fit pid=89122)\u001b[0m Epoch 33: train loss 3.3517094379931223e-06, accuracy 1.0\u001b[32m [repeated 14x across cluster]\u001b[0m\n",
            "\u001b[2m\u001b[36m(launch_and_fit pid=89122)\u001b[0m Epoch 40: train loss 2.8615766041184543e-06, accuracy 1.0\u001b[32m [repeated 14x across cluster]\u001b[0m\n",
            "\u001b[2m\u001b[36m(launch_and_fit pid=89121)\u001b[0m Epoch 41: train loss 2.1722785277233925e-06, accuracy 1.0\u001b[32m [repeated 7x across cluster]\u001b[0m\n",
            "\u001b[2m\u001b[36m(launch_and_fit pid=89122)\u001b[0m Epoch 49: train loss 2.314945504622301e-06, accuracy 1.0\u001b[32m [repeated 10x across cluster]\u001b[0m\n",
            "\u001b[2m\u001b[36m(launch_and_fit pid=89122)\u001b[0m [Client 3] fit, config: {}\n",
            "\u001b[2m\u001b[36m(launch_and_fit pid=89122)\u001b[0m Epoch 4: train loss 0.0002998209383804351, accuracy 0.9932019034670292\u001b[32m [repeated 11x across cluster]\u001b[0m\n",
            "\u001b[2m\u001b[36m(launch_and_fit pid=89121)\u001b[0m Epoch 3: train loss 8.9818007836584e-05, accuracy 0.9979605710401088\n",
            "\u001b[2m\u001b[36m(launch_and_fit pid=89122)\u001b[0m Epoch 9: train loss 0.0003826492466032505, accuracy 0.9898028552005439\u001b[32m [repeated 9x across cluster]\u001b[0m\n",
            "\u001b[2m\u001b[36m(launch_and_fit pid=89122)\u001b[0m Epoch 16: train loss 3.3540309232193977e-06, accuracy 1.0\u001b[32m [repeated 14x across cluster]\u001b[0m\n",
            "\u001b[2m\u001b[36m(launch_and_fit pid=89121)\u001b[0m Epoch 19: train loss 2.2429871933127288e-06, accuracy 1.0\u001b[32m [repeated 13x across cluster]\u001b[0m\n",
            "\u001b[2m\u001b[36m(launch_and_fit pid=89122)\u001b[0m Epoch 29: train loss 2.3968589175638044e-06, accuracy 1.0\u001b[32m [repeated 12x across cluster]\u001b[0m\n",
            "\u001b[2m\u001b[36m(launch_and_fit pid=89121)\u001b[0m Epoch 32: train loss 1.6941589819907676e-06, accuracy 1.0\u001b[32m [repeated 15x across cluster]\u001b[0m\n",
            "\u001b[2m\u001b[36m(launch_and_fit pid=89122)\u001b[0m Epoch 41: train loss 1.9200242604711093e-06, accuracy 1.0\u001b[32m [repeated 9x across cluster]\u001b[0m\n",
            "\u001b[2m\u001b[36m(launch_and_fit pid=89121)\u001b[0m Epoch 43: train loss 1.394385208186577e-06, accuracy 1.0\u001b[32m [repeated 13x across cluster]\u001b[0m\n"
          ]
        },
        {
          "metadata": {
            "tags": null
          },
          "name": "stderr",
          "output_type": "stream",
          "text": [
            "DEBUG flwr 2023-06-08 16:53:19,270 | server.py:232 | fit_round 19 received 4 results and 0 failures\n",
            "DEBUG:flwr:fit_round 19 received 4 results and 0 failures\n",
            "DEBUG flwr 2023-06-08 16:53:19,305 | server.py:168 | evaluate_round 19: strategy sampled 3 clients (out of 4)\n",
            "DEBUG:flwr:evaluate_round 19: strategy sampled 3 clients (out of 4)\n",
            "DEBUG flwr 2023-06-08 16:53:19,523 | server.py:182 | evaluate_round 19 received 3 results and 0 failures\n",
            "DEBUG:flwr:evaluate_round 19 received 3 results and 0 failures\n",
            "DEBUG flwr 2023-06-08 16:53:19,527 | server.py:218 | fit_round 20: strategy sampled 4 clients (out of 4)\n",
            "DEBUG:flwr:fit_round 20: strategy sampled 4 clients (out of 4)\n"
          ]
        },
        {
          "metadata": {
            "tags": null
          },
          "name": "stdout",
          "output_type": "stream",
          "text": [
            "\u001b[2m\u001b[36m(launch_and_evaluate pid=89122)\u001b[0m [Client 2] evaluate, config: {}\n",
            "\u001b[2m\u001b[36m(launch_and_evaluate pid=89122)\u001b[0m [Client 1] evaluate, config: {}\n",
            "\u001b[2m\u001b[36m(launch_and_fit pid=89122)\u001b[0m [Client 3] fit, config: {}\n",
            "\u001b[2m\u001b[36m(launch_and_fit pid=89121)\u001b[0m Epoch 50: train loss 1.2293021427467465e-06, accuracy 1.0\u001b[32m [repeated 10x across cluster]\u001b[0m\n",
            "\u001b[2m\u001b[36m(launch_and_evaluate pid=89121)\u001b[0m Epoch 4: train loss 9.510575182503089e-05, accuracy 0.9979605710401088\n",
            "\u001b[2m\u001b[36m(launch_and_fit pid=89121)\u001b[0m Epoch 4: train loss 9.510575182503089e-05, accuracy 0.9979605710401088\n",
            "\u001b[2m\u001b[36m(launch_and_fit pid=89121)\u001b[0m Epoch 4: train loss 9.510575182503089e-05, accuracy 0.9979605710401088\u001b[32m [repeated 7x across cluster]\u001b[0m\n",
            "\u001b[2m\u001b[36m(launch_and_fit pid=89121)\u001b[0m Epoch 12: train loss 4.036915470351232e-06, accuracy 1.0\u001b[32m [repeated 15x across cluster]\u001b[0m\n",
            "\u001b[2m\u001b[36m(launch_and_fit pid=89121)\u001b[0m Epoch 19: train loss 3.0726059776498005e-06, accuracy 1.0\u001b[32m [repeated 14x across cluster]\u001b[0m\n",
            "\u001b[2m\u001b[36m(launch_and_fit pid=89121)\u001b[0m Epoch 24: train loss 2.6603147489367984e-06, accuracy 1.0\u001b[32m [repeated 9x across cluster]\u001b[0m\n",
            "\u001b[2m\u001b[36m(launch_and_fit pid=89121)\u001b[0m Epoch 31: train loss 2.1772361833427567e-06, accuracy 1.0\u001b[32m [repeated 14x across cluster]\u001b[0m\n",
            "\u001b[2m\u001b[36m(launch_and_fit pid=89122)\u001b[0m Epoch 34: train loss 1.7297187469011988e-06, accuracy 1.0\u001b[32m [repeated 12x across cluster]\u001b[0m\n",
            "\u001b[2m\u001b[36m(launch_and_fit pid=89122)\u001b[0m Epoch 39: train loss 1.5519284488618723e-06, accuracy 1.0\u001b[32m [repeated 10x across cluster]\u001b[0m\n",
            "\u001b[2m\u001b[36m(launch_and_fit pid=89122)\u001b[0m Epoch 46: train loss 1.3531180229620077e-06, accuracy 1.0\u001b[32m [repeated 14x across cluster]\u001b[0m\n",
            "\u001b[2m\u001b[36m(launch_and_fit pid=89121)\u001b[0m [Client 2] fit, config: {}\n",
            "\u001b[2m\u001b[36m(launch_and_fit pid=89122)\u001b[0m Epoch 1: train loss 0.00031020818278193474, accuracy 0.9945615227736234\u001b[32m [repeated 10x across cluster]\u001b[0m\n",
            "\u001b[2m\u001b[36m(launch_and_fit pid=89122)\u001b[0m Epoch 5: train loss 0.000131171167595312, accuracy 0.9972807613868117\n",
            "\u001b[2m\u001b[36m(launch_and_fit pid=89121)\u001b[0m Epoch 10: train loss 3.0862809126119828e-06, accuracy 1.0\u001b[32m [repeated 11x across cluster]\u001b[0m\n",
            "\u001b[2m\u001b[36m(launch_and_fit pid=89121)\u001b[0m Epoch 17: train loss 1.5156746258071507e-06, accuracy 1.0\u001b[32m [repeated 14x across cluster]\u001b[0m\n",
            "\u001b[2m\u001b[36m(launch_and_fit pid=89122)\u001b[0m Epoch 19: train loss 2.863102508854354e-06, accuracy 1.0\u001b[32m [repeated 10x across cluster]\u001b[0m\n",
            "\u001b[2m\u001b[36m(launch_and_fit pid=89122)\u001b[0m Epoch 26: train loss 2.0121872239542427e-06, accuracy 1.0\u001b[32m [repeated 14x across cluster]\u001b[0m\n",
            "\u001b[2m\u001b[36m(launch_and_fit pid=89122)\u001b[0m Epoch 33: train loss 1.5370017081295373e-06, accuracy 1.0\u001b[32m [repeated 14x across cluster]\u001b[0m\n",
            "\u001b[2m\u001b[36m(launch_and_fit pid=89122)\u001b[0m Epoch 37: train loss 1.3200514104028116e-06, accuracy 1.0\u001b[32m [repeated 8x across cluster]\u001b[0m\n",
            "\u001b[2m\u001b[36m(launch_and_fit pid=89122)\u001b[0m Epoch 44: train loss 1.0316680345567875e-06, accuracy 1.0\u001b[32m [repeated 14x across cluster]\u001b[0m\n"
          ]
        },
        {
          "metadata": {
            "tags": null
          },
          "name": "stderr",
          "output_type": "stream",
          "text": [
            "DEBUG flwr 2023-06-08 16:54:49,348 | server.py:232 | fit_round 20 received 4 results and 0 failures\n",
            "DEBUG:flwr:fit_round 20 received 4 results and 0 failures\n",
            "DEBUG flwr 2023-06-08 16:54:49,397 | server.py:168 | evaluate_round 20: strategy sampled 3 clients (out of 4)\n",
            "DEBUG:flwr:evaluate_round 20: strategy sampled 3 clients (out of 4)\n",
            "DEBUG flwr 2023-06-08 16:54:49,731 | server.py:182 | evaluate_round 20 received 3 results and 0 failures\n",
            "DEBUG:flwr:evaluate_round 20 received 3 results and 0 failures\n",
            "DEBUG flwr 2023-06-08 16:54:49,743 | server.py:218 | fit_round 21: strategy sampled 4 clients (out of 4)\n",
            "DEBUG:flwr:fit_round 21: strategy sampled 4 clients (out of 4)\n"
          ]
        },
        {
          "output_type": "stream",
          "name": "stdout",
          "text": [
            "\u001b[2m\u001b[36m(launch_and_evaluate pid=89122)\u001b[0m [Client 1] evaluate, config: {}\n",
            "\u001b[2m\u001b[36m(launch_and_fit pid=89122)\u001b[0m [Client 0] fit, config: {}\n",
            "\u001b[2m\u001b[36m(launch_and_fit pid=89122)\u001b[0m Epoch 50: train loss 8.439281486971595e-07, accuracy 1.0\u001b[32m [repeated 10x across cluster]\u001b[0m\n",
            "\u001b[2m\u001b[36m(launch_and_evaluate pid=89121)\u001b[0m [Client 3] evaluate, config: {}\u001b[32m [repeated 2x across cluster]\u001b[0m\n",
            "\u001b[2m\u001b[36m(launch_and_fit pid=89121)\u001b[0m Epoch 5: train loss 3.998558440798661e-06, accuracy 1.0\n",
            "\u001b[2m\u001b[36m(launch_and_fit pid=89122)\u001b[0m Epoch 5: train loss 3.998558440798661e-06, accuracy 1.0\u001b[32m [repeated 9x across cluster]\u001b[0m\n",
            "\u001b[2m\u001b[36m(launch_and_fit pid=89122)\u001b[0m Epoch 12: train loss 2.3537591005151626e-06, accuracy 1.0\u001b[32m [repeated 14x across cluster]\u001b[0m\n",
            "\u001b[2m\u001b[36m(launch_and_fit pid=89122)\u001b[0m Epoch 18: train loss 1.708136892375478e-06, accuracy 1.0\u001b[32m [repeated 11x across cluster]\u001b[0m\n",
            "\u001b[2m\u001b[36m(launch_and_fit pid=89122)\u001b[0m Epoch 24: train loss 1.3038882116234163e-06, accuracy 1.0\u001b[32m [repeated 11x across cluster]\u001b[0m\n",
            "\u001b[2m\u001b[36m(launch_and_fit pid=89122)\u001b[0m Epoch 31: train loss 9.603393209545175e-07, accuracy 1.0\u001b[32m [repeated 14x across cluster]\u001b[0m\n",
            "\u001b[2m\u001b[36m(launch_and_fit pid=89121)\u001b[0m Epoch 33: train loss 7.680245630581339e-07, accuracy 1.0\u001b[32m [repeated 9x across cluster]\u001b[0m\n",
            "\u001b[2m\u001b[36m(launch_and_fit pid=89122)\u001b[0m Epoch 43: train loss 6.552641593771114e-07, accuracy 1.0\u001b[32m [repeated 14x across cluster]\u001b[0m\n",
            "\u001b[2m\u001b[36m(launch_and_fit pid=89121)\u001b[0m Epoch 46: train loss 5.059728778178396e-07, accuracy 1.0\u001b[32m [repeated 13x across cluster]\u001b[0m\n",
            "\u001b[2m\u001b[36m(launch_and_fit pid=89122)\u001b[0m [Client 3] fit, config: {}\n",
            "\u001b[2m\u001b[36m(launch_and_fit pid=89122)\u001b[0m Epoch 4: train loss 4.0968661778606474e-05, accuracy 0.9979605710401088\u001b[32m [repeated 9x across cluster]\u001b[0m\n",
            "\u001b[2m\u001b[36m(launch_and_fit pid=89121)\u001b[0m Epoch 1: train loss 0.00021184305660426617, accuracy 0.9959211420802175\n",
            "\u001b[2m\u001b[36m(launch_and_fit pid=89121)\u001b[0m Epoch 7: train loss 7.552131592092337e-06, accuracy 1.0\u001b[32m [repeated 13x across cluster]\u001b[0m\n",
            "\u001b[2m\u001b[36m(launch_and_fit pid=89121)\u001b[0m Epoch 13: train loss 2.0330442112026503e-06, accuracy 1.0\u001b[32m [repeated 12x across cluster]\u001b[0m\n",
            "\u001b[2m\u001b[36m(launch_and_fit pid=89121)\u001b[0m Epoch 18: train loss 1.688915176600858e-06, accuracy 1.0\u001b[32m [repeated 10x across cluster]\u001b[0m\n",
            "\u001b[2m\u001b[36m(launch_and_fit pid=89121)\u001b[0m Epoch 25: train loss 1.2950231393915601e-06, accuracy 1.0\u001b[32m [repeated 14x across cluster]\u001b[0m\n",
            "\u001b[2m\u001b[36m(launch_and_fit pid=89121)\u001b[0m Epoch 30: train loss 1.1287344250376918e-06, accuracy 1.0\u001b[32m [repeated 10x across cluster]\u001b[0m\n",
            "\u001b[2m\u001b[36m(launch_and_fit pid=89121)\u001b[0m Epoch 36: train loss 9.884621476885513e-07, accuracy 1.0\u001b[32m [repeated 12x across cluster]\u001b[0m\n",
            "\u001b[2m\u001b[36m(launch_and_fit pid=89122)\u001b[0m Epoch 47: train loss 9.448315267945873e-07, accuracy 1.0\u001b[32m [repeated 14x across cluster]\u001b[0m\n",
            "\u001b[2m\u001b[36m(launch_and_fit pid=89121)\u001b[0m Epoch 49: train loss 7.788609082126641e-07, accuracy 1.0\u001b[32m [repeated 10x across cluster]\u001b[0m\n"
          ]
        },
        {
          "output_type": "stream",
          "name": "stderr",
          "text": [
            "DEBUG flwr 2023-06-08 16:56:23,190 | server.py:232 | fit_round 21 received 4 results and 0 failures\n",
            "DEBUG:flwr:fit_round 21 received 4 results and 0 failures\n",
            "DEBUG flwr 2023-06-08 16:56:23,226 | server.py:168 | evaluate_round 21: strategy sampled 3 clients (out of 4)\n",
            "DEBUG:flwr:evaluate_round 21: strategy sampled 3 clients (out of 4)\n",
            "DEBUG flwr 2023-06-08 16:56:23,458 | server.py:182 | evaluate_round 21 received 3 results and 0 failures\n",
            "DEBUG:flwr:evaluate_round 21 received 3 results and 0 failures\n",
            "DEBUG flwr 2023-06-08 16:56:23,463 | server.py:218 | fit_round 22: strategy sampled 4 clients (out of 4)\n",
            "DEBUG:flwr:fit_round 22: strategy sampled 4 clients (out of 4)\n"
          ]
        },
        {
          "output_type": "stream",
          "name": "stdout",
          "text": [
            "\u001b[2m\u001b[36m(launch_and_evaluate pid=89122)\u001b[0m [Client 1] evaluate, config: {}\n",
            "\u001b[2m\u001b[36m(launch_and_fit pid=89122)\u001b[0m [Client 2] fit, config: {}\n",
            "\u001b[2m\u001b[36m(launch_and_fit pid=89122)\u001b[0m Epoch 5: train loss 0.0002601266314741224, accuracy 0.9952413324269205\u001b[32m [repeated 11x across cluster]\u001b[0m\n",
            "\u001b[2m\u001b[36m(launch_and_evaluate pid=89121)\u001b[0m [Client 2] evaluate, config: {}\u001b[32m [repeated 2x across cluster]\u001b[0m\n",
            "\u001b[2m\u001b[36m(launch_and_fit pid=89121)\u001b[0m Epoch 7: train loss 7.604081474710256e-06, accuracy 1.0\n",
            "\u001b[2m\u001b[36m(launch_and_fit pid=89122)\u001b[0m Epoch 12: train loss 3.169869160046801e-06, accuracy 1.0\u001b[32m [repeated 14x across cluster]\u001b[0m\n",
            "\u001b[2m\u001b[36m(launch_and_fit pid=89122)\u001b[0m Epoch 16: train loss 8.679980396664178e-07, accuracy 1.0\u001b[32m [repeated 8x across cluster]\u001b[0m\n"
          ]
        }
      ],
      "source": [
        "loop_list = strategy_list\n",
        "\n",
        "if loop_on_strategies is False: \n",
        "  loop_list = [strategy_type]\n",
        "\n",
        "for strategy_type in loop_list: \n",
        "  print(\"\\nAnalyzing Strategy... : \", strategy_type.capitalize())\n",
        "\n",
        "  # Crea un'istanza del modello e ne ottiene i parametri\n",
        "  if dataset == \"cifar10\":\n",
        "    params = get_parameters(ConvNet())\n",
        "  elif dataset == \"har\":\n",
        "    params = get_parameters(MLP())\n",
        "\n",
        "  if strategy_type == strategy_list[0]:\n",
        "    # Creazione della Strategia FedAvg\n",
        "    # Passa i parametri alla strategia per l'inizializzazione dei parametri lato Server\n",
        "    strategy = fl.server.strategy.FedAvg(\n",
        "        fraction_fit=1.0,\n",
        "        fraction_evaluate=0.3,\n",
        "        min_fit_clients=n_clients,\n",
        "        min_evaluate_clients=3,\n",
        "        min_available_clients=n_clients,\n",
        "        initial_parameters=fl.common.ndarrays_to_parameters(params),\n",
        "    )\n",
        "\n",
        "  if strategy_type == strategy_list[1]:\n",
        "    # Creazione della Strategia FedAdagrad\n",
        "    strategy = fl.server.strategy.FedAdagrad(\n",
        "        fraction_fit=1.0,\n",
        "        fraction_evaluate=0.3,\n",
        "        min_fit_clients=n_clients,\n",
        "        min_evaluate_clients=3,\n",
        "        min_available_clients=n_clients,\n",
        "        initial_parameters=fl.common.ndarrays_to_parameters(params),\n",
        "    )\n",
        "\n",
        "  if strategy_type == strategy_list[2]:\n",
        "    # Creazione della Strategia FedAdam\n",
        "    strategy = fl.server.strategy.FedAdam(\n",
        "        fraction_fit=1.0,\n",
        "        fraction_evaluate=0.3,\n",
        "        min_fit_clients=n_clients,\n",
        "        min_evaluate_clients=3,\n",
        "        min_available_clients=n_clients,\n",
        "        initial_parameters=fl.common.ndarrays_to_parameters(params),\n",
        "    )\n",
        "\n",
        "  if strategy_type == strategy_list[3]:\n",
        "    # Creazione della Strategia FedYogi\n",
        "    # Passa i parametri alla strategia per l'inizializzazione dei parametri lato Server\n",
        "    strategy = fl.server.strategy.FedYogi(\n",
        "        fraction_fit=1.0,\n",
        "        fraction_evaluate=0.3,\n",
        "        min_fit_clients=n_clients,\n",
        "        min_evaluate_clients=3,\n",
        "        min_available_clients=n_clients,\n",
        "        initial_parameters=fl.common.ndarrays_to_parameters(params),\n",
        "    )\n",
        "\n",
        "  # Specifica le risorse del client se si ha bisogno della GPU (default a 1 per CPU e 0 per GPU)\n",
        "  client_resources = None\n",
        "  if DEVICE.type == \"cuda\":\n",
        "      client_resources = {\"num_gpus\": 1}\n",
        "\n",
        "  # Avvio della Simulazione\n",
        "  history = fl.simulation.start_simulation(\n",
        "      client_fn=client_fn,\n",
        "      num_clients=n_clients,\n",
        "      config=fl.server.ServerConfig(num_rounds=n_rounds), \n",
        "      strategy=strategy,\n",
        "      client_resources=client_resources,\n",
        "  )\n",
        "\n",
        "  '''\n",
        "  federated_weights = server.get_weights()\n",
        "  # Salvare i pesi del modello su disco\n",
        "  torch.save(federated_weights, \"federated_model_weights.pt\")\n",
        "  '''\n",
        "  \n",
        "  acc = [m[1] for m in history.losses_distributed]\n",
        "  plt.figure()\t\t\t\t\t\t\t\t\t\t\t\t# generate a new window\n",
        "  plt.plot(acc, label=strategy_type.capitalize()+' Accuracy', color = strategy_colors[loop_list.index(strategy_type)])\n",
        "  plt.legend()\n",
        "  plt.title(strategy_type.capitalize())\n",
        "  plt.savefig(\"./Outputs/\"+save_path+\"/\"+strategy_type+\".png\", dpi = 300)\n",
        "  plt.show()\n",
        "  plt.close()\n",
        "\n",
        "  strategies_acc.append((strategy_type, max(acc), acc[-1]))"
      ]
    },
    {
      "cell_type": "markdown",
      "source": [
        "#**Salvataggio dei Dati**"
      ],
      "metadata": {
        "id": "foPMZTGlDa_Y"
      }
    },
    {
      "cell_type": "code",
      "source": [
        "strategies_acc_df = pd.DataFrame(strategies_acc, columns = [\"Strategy\", \"Best Round Accuracy\", \"Last Round Accuracy\"])\n",
        "strategies_acc_df.to_csv(\"./Outputs/\"+save_path+\"/\"+\"fl_accuracies_over_strategies.csv\")\n",
        "strategies_acc_df.to_excel(\"./Outputs/\"+save_path+\"/\"+\"fl_accuracies_over_strategies.xlsx\")\n",
        "strategies_acc_df"
      ],
      "metadata": {
        "id": "zqcYMOEpIhup"
      },
      "execution_count": null,
      "outputs": []
    },
    {
      "cell_type": "markdown",
      "source": [
        "#**Salvataggio delle Figure**"
      ],
      "metadata": {
        "id": "aefx0t3ODdvL"
      }
    },
    {
      "cell_type": "code",
      "execution_count": null,
      "metadata": {
        "id": "al6IJtZ3XIWC"
      },
      "outputs": [],
      "source": [
        "#strategies_acc_df = pd.DataFrame(strategies_acc, columns=['Strategy', 'Max Accuracy', 'Last Accuracy'])\n",
        "strategies_acc_df.plot.bar()\n",
        "plt.xlabel(loop_list)\n",
        "plt.savefig(\"./Outputs/\"+save_path+\"/\"+\"fl_accuracies_over_strategies.png\", dpi = 300)\n",
        "plt.show()"
      ]
    },
    {
      "cell_type": "markdown",
      "source": [
        "#**Salvataggio dei Risultati**"
      ],
      "metadata": {
        "id": "sfhuVW5spwVE"
      }
    },
    {
      "cell_type": "code",
      "source": [
        "print(\"\\n Plots and CSVs saved in ./Outputs/'+save_path+' folder.\")\n",
        "print(\"Zipping...\")\n",
        "os.system('zip -r '+save_path+'.zip '+'./Outputs/'+save_path)\n",
        "\n",
        "print(\"\\n\\n Elapsed Time: \", timeit.default_timer() - start_global_time)"
      ],
      "metadata": {
        "id": "YKZ-Pgg2puKP"
      },
      "execution_count": null,
      "outputs": []
    }
  ],
  "metadata": {
    "accelerator": "GPU",
    "colab": {
      "provenance": []
    },
    "gpuClass": "standard",
    "kernelspec": {
      "display_name": "Python 3.7.12 64-bit ('flower-3.7.12')",
      "language": "python",
      "name": "python3"
    }
  },
  "nbformat": 4,
  "nbformat_minor": 0
}