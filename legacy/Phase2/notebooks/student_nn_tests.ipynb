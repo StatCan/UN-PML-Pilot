{
 "cells": [
  {
   "cell_type": "code",
   "execution_count": null,
   "metadata": {
    "id": "zJDZPJlNhDHb",
    "tags": []
   },
   "outputs": [],
   "source": [
    "from __future__ import absolute_import, division, print_function\n",
    "\n",
    "import sys\n",
    "import logging\n",
    "import math\n",
    "import datetime\n",
    "import random\n",
    "import pandas as pd\n",
    "import numpy as np\n",
    "import sklearn\n",
    "import matplotlib.pyplot as plt\n",
    "import numpy as np\n",
    "import pandas as pd\n",
    "import seaborn as sns\n",
    "import tensorflow as tf\n",
    "import tensorflow_privacy\n",
    "from sklearn.linear_model import LogisticRegression\n",
    "from sklearn.model_selection import train_test_split\n",
    "from sklearn.metrics import classification_report\n",
    "from tensorflow_privacy.privacy.analysis.rdp_accountant import (\n",
    "    compute_rdp,\n",
    "    get_privacy_spent,\n",
    ")\n",
    "from tensorflow_privacy.privacy.optimizers import dp_optimizer\n",
    "from tensorflow_privacy.privacy.optimizers.dp_optimizer_keras import DPKerasSGDOptimizer"
   ]
  },
  {
   "cell_type": "code",
   "execution_count": null,
   "metadata": {},
   "outputs": [],
   "source": []
  },
  {
   "cell_type": "code",
   "execution_count": null,
   "metadata": {
    "id": "TojftLtqha_0",
    "tags": []
   },
   "outputs": [],
   "source": [
    "df = pd.read_csv(\"student-mat.csv\",sep=\";\")\n",
    "#df_stud_por = pd.read_csv(\"student-por.csv\",sep=\";\")"
   ]
  },
  {
   "cell_type": "code",
   "execution_count": null,
   "metadata": {
    "colab": {
     "base_uri": "https://localhost:8080/",
     "height": 487
    },
    "id": "YkcNS-0AnBbE",
    "outputId": "ea79b206-920d-4357-a139-0154500aa90c",
    "tags": []
   },
   "outputs": [],
   "source": [
    "pd.set_option('display.max_columns', 52)\n",
    "df.select_dtypes(include='object')"
   ]
  },
  {
   "cell_type": "code",
   "execution_count": null,
   "metadata": {
    "id": "dAGfg1_3jsZR",
    "tags": []
   },
   "outputs": [],
   "source": [
    "df_encode = pd.get_dummies(df)"
   ]
  },
  {
   "cell_type": "code",
   "execution_count": null,
   "metadata": {
    "colab": {
     "base_uri": "https://localhost:8080/"
    },
    "id": "BQfKlHiqpMCP",
    "outputId": "d8e08cae-825d-4df0-ffcf-7db109ce017d",
    "tags": []
   },
   "outputs": [],
   "source": [
    "y=df_encode.G3\n",
    "exclude_var=['G3']\n",
    "print(exclude_var)\n",
    "x_data=df_encode.drop(columns=exclude_var)"
   ]
  },
  {
   "cell_type": "code",
   "execution_count": null,
   "metadata": {
    "colab": {
     "base_uri": "https://localhost:8080/"
    },
    "id": "xQW01qkH3e1M",
    "outputId": "ef5d835a-c376-4acf-abaa-08b8d8a1e347",
    "tags": []
   },
   "outputs": [],
   "source": [
    "y.value_counts()"
   ]
  },
  {
   "cell_type": "code",
   "execution_count": null,
   "metadata": {
    "tags": []
   },
   "outputs": [],
   "source": [
    "ybin = np.asarray(y)"
   ]
  },
  {
   "cell_type": "code",
   "execution_count": null,
   "metadata": {
    "tags": []
   },
   "outputs": [],
   "source": [
    "ybin[ybin<10] = 0"
   ]
  },
  {
   "cell_type": "code",
   "execution_count": null,
   "metadata": {
    "tags": []
   },
   "outputs": [],
   "source": [
    "ybin[ybin>=10] = 1"
   ]
  },
  {
   "cell_type": "code",
   "execution_count": null,
   "metadata": {
    "id": "DrK_YKi8oQb-",
    "tags": []
   },
   "outputs": [],
   "source": [
    "from sklearn.model_selection import train_test_split\n"
   ]
  },
  {
   "cell_type": "code",
   "execution_count": null,
   "metadata": {
    "tags": []
   },
   "outputs": [],
   "source": [
    "# min-max normalization\n",
    "x = (x_data - np.min(x_data)) / (np.max(x_data) - np.min(x_data)).values"
   ]
  },
  {
   "cell_type": "code",
   "execution_count": null,
   "metadata": {},
   "outputs": [],
   "source": [
    "x_train, x_test, y_train, y_test = train_test_split(x, ybin, test_size=0.2, random_state=0)\n",
    "\n",
    "# get validation dataset\n",
    "x_train, x_valid, y_train, y_valid = train_test_split(\n",
    "    x_train, y_train, test_size=0.2, random_state=0\n",
    ")"
   ]
  },
  {
   "cell_type": "code",
   "execution_count": null,
   "metadata": {
    "colab": {
     "base_uri": "https://localhost:8080/"
    },
    "id": "HbPkDPHIA6VR",
    "outputId": "7da352b4-b67e-41d8-9bf1-6b2f161c48eb",
    "tags": []
   },
   "outputs": [],
   "source": [
    "x_train.shape, y_train.shape, x_test.shape, y_test.shape"
   ]
  },
  {
   "cell_type": "code",
   "execution_count": null,
   "metadata": {},
   "outputs": [],
   "source": [
    "y_test"
   ]
  },
  {
   "cell_type": "code",
   "execution_count": null,
   "metadata": {},
   "outputs": [],
   "source": [
    "y_train"
   ]
  },
  {
   "cell_type": "code",
   "execution_count": null,
   "metadata": {},
   "outputs": [],
   "source": [
    "y_valid"
   ]
  },
  {
   "cell_type": "code",
   "execution_count": null,
   "metadata": {
    "tags": []
   },
   "outputs": [],
   "source": [
    "len(x.columns)"
   ]
  },
  {
   "cell_type": "code",
   "execution_count": null,
   "metadata": {
    "tags": []
   },
   "outputs": [],
   "source": [
    "training_size = x_train.shape[0]\n",
    "training_size"
   ]
  },
  {
   "cell_type": "code",
   "execution_count": null,
   "metadata": {
    "tags": []
   },
   "outputs": [],
   "source": [
    "# from here https://github.com/VectorInstitute/PETs-Bootcamp/blob/main/DP_TensorFlowPrivacy/TFP_HeartDisease_KerasMLP_GridSearch.ipynb\n",
    "def train(\n",
    "    noise_multiplier,\n",
    "    l2_norm_clip,\n",
    "    batch_size,\n",
    "    microbatches,\n",
    "    x_train,\n",
    "    y_train,\n",
    "    dpsgd=True,\n",
    "    learning_rate=0.1,\n",
    "    epochs=120,\n",
    "    model_dir=None,\n",
    "    print_outputs=True,\n",
    "    verbose=1,\n",
    "):\n",
    "\n",
    "    if dpsgd and batch_size % microbatches != 0:\n",
    "        raise ValueError(\"Number of microbatches should divide evenly batch_size\")\n",
    "\n",
    "    # Define a sequential Keras model\n",
    "    model = tf.keras.Sequential(\n",
    "        [\n",
    "            tf.keras.layers.Dense(40, input_dim=58, activation=\"relu\"),\n",
    "            tf.keras.layers.Dense(60, activation=\"relu\"),\n",
    "            tf.keras.layers.Dense(20, activation=\"relu\"),\n",
    "            tf.keras.layers.Dense(1, activation=\"sigmoid\"),\n",
    "        ]\n",
    "    )\n",
    "\n",
    "    if dpsgd:\n",
    "        optimizer = DPKerasSGDOptimizer(\n",
    "            l2_norm_clip=l2_norm_clip,\n",
    "            noise_multiplier=noise_multiplier,\n",
    "            num_microbatches=microbatches,\n",
    "            learning_rate=learning_rate,\n",
    "        )\n",
    "        # Compute vector of per-example loss rather than its mean over a minibatch.\n",
    "        loss = tf.keras.losses.BinaryCrossentropy(reduction=tf.losses.Reduction.NONE)\n",
    "    else:\n",
    "        optimizer = tf.keras.optimizers.SGD(learning_rate=learning_rate)\n",
    "        loss = tf.keras.losses.BinaryCrossentropy()\n",
    "\n",
    "    # Compile model with Keras\n",
    "    model.compile(optimizer=optimizer, loss=loss, metrics=[\"accuracy\"])\n",
    "\n",
    "    log_dir = \"logs/fit/\" + datetime.datetime.now().strftime(\"%Y%m%d-%H%M%S\")\n",
    "    tensorboard_callback = tf.keras.callbacks.TensorBoard(\n",
    "        log_dir=log_dir, histogram_freq=1\n",
    "    )\n",
    "\n",
    "    # Train model with Keras\n",
    "    model.fit(\n",
    "        x_train,\n",
    "        y_train,\n",
    "        epochs=epochs,\n",
    "        validation_data=(x_valid, y_valid),\n",
    "        batch_size=batch_size,\n",
    "        verbose=verbose,\n",
    "        callbacks=[tensorboard_callback],\n",
    "    )\n",
    "\n",
    "    score_train = model.evaluate(x_train, y_train, verbose=verbose)\n",
    "    score_valid = model.evaluate(x_valid, y_valid, verbose=verbose)\n",
    "    score_test = model.evaluate(x_test, y_test, verbose=verbose)\n",
    "\n",
    "    weights = model.get_weights()\n",
    "\n",
    "    # Compute the privacy budget expended.\n",
    "    # // is integer division\n",
    "    if dpsgd:\n",
    "        eps = compute_epsilon(\n",
    "            epochs * training_size // batch_size,\n",
    "            training_size=training_size,\n",
    "            noise_multiplier=noise_multiplier,\n",
    "            batch_size=batch_size,\n",
    "        )\n",
    "\n",
    "    else:\n",
    "        eps = \"non-private SGD\"\n",
    "\n",
    "    if print_outputs:\n",
    "        print(\n",
    "            \"\\nhyperparamters: learning rate = \"\n",
    "            + str(learning_rate)\n",
    "            + \", noise_multiplier = \"\n",
    "            + str(noise_multiplier)\n",
    "            + \", l2_norm_clip = \"\n",
    "            + str(l2_norm_clip)\n",
    "            + \", epochs = \"\n",
    "            + str(epochs)\n",
    "            + \", batch_size = \"\n",
    "            + str(batch_size)\n",
    "            + \", microbatches = \"\n",
    "            + str(microbatches)\n",
    "        )\n",
    "\n",
    "        print(\"  training loss: %.2f\" % score_train[0])\n",
    "        print(\"  training accuracy: %.2f\" % score_train[1])\n",
    "\n",
    "        print(\"  validation loss: %.2f\" % score_valid[0])\n",
    "        print(\"  validation accuracy: %.2f\" % score_valid[1])\n",
    "\n",
    "        print(\"  test loss: %.2f\" % score_test[0])\n",
    "        print(\"  test accuracy: %.2f\" % score_test[1])\n",
    "        \n",
    "        Y_pred = model.predict(x_test)\n",
    "        Y_pred = np.where(Y_pred > 0.5, 1,0)#np.argmax(Y_pred,axis=1)\n",
    "        print(classification_report(y_test, Y_pred))   \n",
    "\n",
    "        if dpsgd:\n",
    "            print(\"For delta=0.00413223, the current epsilon is: %.2f\" % eps)\n",
    "        else:\n",
    "            print(\"Trained with vanilla non-private SGD optimizer\")\n",
    "\n",
    "    return score_train, score_valid, score_test, eps, weights, Y_pred"
   ]
  },
  {
   "cell_type": "code",
   "execution_count": null,
   "metadata": {
    "tags": []
   },
   "outputs": [],
   "source": [
    "def compute_epsilon(steps, training_size, noise_multiplier, batch_size):\n",
    "    \"\"\"\n",
    "    Computes epsilon value for given hyperparameters.\n",
    "\n",
    "    Parameters required:\n",
    "      steps: Number of steps the optimizer takes over the training data\n",
    "             steps = FLAGS.epochs * training_size// FLAGS.batch_size\n",
    "\n",
    "      Noise multiplier:\n",
    "          the amount of noise sampled and added to gradients during training\n",
    "    \"\"\"\n",
    "    if noise_multiplier == 0.0:\n",
    "        return float(\"inf\")\n",
    "\n",
    "    \"\"\" \n",
    "  Delta: for (epsilon, delta)-DP\n",
    "    Delta bounds the probability of our privacy guarantee not holding.  \n",
    "    rule of thumb for delta is to set it to less than the inverse of the training data size\n",
    "    so I opted for it to equal to 1.1*training size\n",
    "  \"\"\"\n",
    "    training_delta = 1 / (training_size * 1.1)\n",
    "\n",
    "    \"\"\"\n",
    "  We need to define a list of orders, at which the Rényi divergence will be computed\n",
    "  if you want epsilon between 1-10 and your delta is fixed\n",
    "  your orders must cover the range between 1+ln(1/delta)/10 and 1+ln(1/delta)/1 \n",
    "  \"\"\"\n",
    "    orders = np.linspace(\n",
    "        1 + math.log(1.0 / training_delta) / 10,\n",
    "        1 + math.log(1.0 / training_delta) / 1,\n",
    "        num=100,\n",
    "    )\n",
    "\n",
    "    \"\"\" \n",
    "  Sampling ratio q:\n",
    "    the probability of an individual training point being included in a minibatch\n",
    "    sampling_probability = FLAGS.batch_size / training_size\n",
    "  \"\"\"\n",
    "    sampling_probability = batch_size / training_size\n",
    "\n",
    "    \"\"\" \n",
    "  compute Renyi Differential Privacy, a generalization of pure differential privacy\n",
    "  RDP is well suited to analyze DP guarantees provided by sampling followed by Gaussian noise addition, \n",
    "  which is how gradients are randomized in the TFP implementation of the DP-SGD optimizer.\n",
    "  \"\"\"\n",
    "    rdp = compute_rdp(\n",
    "        q=sampling_probability,\n",
    "        noise_multiplier=noise_multiplier,\n",
    "        steps=steps,\n",
    "        orders=orders,\n",
    "    )\n",
    "\n",
    "    return get_privacy_spent(orders, rdp, target_delta=training_delta)[0]"
   ]
  },
  {
   "cell_type": "markdown",
   "metadata": {},
   "source": [
    "## Train model"
   ]
  },
  {
   "cell_type": "code",
   "execution_count": null,
   "metadata": {
    "tags": []
   },
   "outputs": [],
   "source": [
    "training_outputs = train(\n",
    "    noise_multiplier=1,\n",
    "    l2_norm_clip=1,\n",
    "    batch_size=22,\n",
    "    microbatches=11,\n",
    "    x_train=x_train,\n",
    "    y_train=y_train,\n",
    "    dpsgd=False,\n",
    "    learning_rate=0.1,\n",
    "    epochs=100,\n",
    "    model_dir=None,\n",
    "    print_outputs=True,\n",
    ")"
   ]
  },
  {
   "cell_type": "code",
   "execution_count": null,
   "metadata": {
    "tags": []
   },
   "outputs": [],
   "source": [
    "# dpsgd model\n",
    "training_outputs = train(\n",
    "    noise_multiplier=1,\n",
    "    l2_norm_clip=1,\n",
    "    batch_size=22,\n",
    "    microbatches=1,\n",
    "    x_train=x_train,\n",
    "    y_train=y_train,\n",
    "    dpsgd=True,\n",
    "    learning_rate=0.1,\n",
    "    epochs=100,\n",
    "    model_dir=None,\n",
    "    print_outputs=True,\n",
    ")"
   ]
  },
  {
   "attachments": {
    "28f51ce6-7447-473d-81b0-524b19486a42.png": {
     "image/png": "[encoded data removed]"
    },
    "d2ccc47d-6b01-4c9f-9356-b171ad155205.png": {
     "image/png": "[encoded data removed]"
    }
   },
   "cell_type": "markdown",
   "metadata": {},
   "source": [
    "![image.png](attachment:28f51ce6-7447-473d-81b0-524b19486a42.png)\n",
    "![image.png](attachment:d2ccc47d-6b01-4c9f-9356-b171ad155205.png)"
   ]
  },
  {
   "cell_type": "code",
   "execution_count": null,
   "metadata": {},
   "outputs": [],
   "source": [
    "def train_hp_tuning(\n",
    "    noise_multipliers,\n",
    "    l2_norm_clips,\n",
    "    batch_sizes,\n",
    "    microbatches,\n",
    "    x_train,\n",
    "    y_train,\n",
    "    dpsgd=True,\n",
    "    learning_rate=0.1,\n",
    "    epochs=120,\n",
    "    model_dir=None,\n",
    "    print_outputs=False,\n",
    "    verbose=0,\n",
    "):\n",
    "\n",
    "    table_outputs = []\n",
    "    for batch_size in batch_sizes:\n",
    "        if dpsgd and batch_size % microbatches != 0:\n",
    "            raise ValueError(\"Number of microbatches should divide evenly batch_size\")\n",
    "        for l2_norm_clip in l2_norm_clips:\n",
    "            for noise_multiplier in noise_multipliers:\n",
    "\n",
    "                print(f\"Batch Size: {batch_size}\")\n",
    "                print(f\"L2 Norm Clip: {l2_norm_clip}\")\n",
    "                print(f\"Noise Multiplier: {noise_multiplier}\")\n",
    "\n",
    "                try:\n",
    "\n",
    "                    score_train, score_valid, score_test, eps, weights = train(\n",
    "                        noise_multiplier,\n",
    "                        l2_norm_clip,\n",
    "                        batch_size,\n",
    "                        microbatches,\n",
    "                        x_train=x_train,\n",
    "                        y_train=y_train,\n",
    "                        dpsgd=True,\n",
    "                        learning_rate=learning_rate,\n",
    "                        epochs=epochs,\n",
    "                        model_dir=model_dir,\n",
    "                        print_outputs=print_outputs,\n",
    "                        verbose=verbose,\n",
    "                    )\n",
    "\n",
    "                    table_outputs.append(\n",
    "                        [\n",
    "                            learning_rate,\n",
    "                            noise_multiplier,\n",
    "                            l2_norm_clip,\n",
    "                            epochs,\n",
    "                            batch_size,\n",
    "                            microbatches,\n",
    "                            score_train[0],\n",
    "                            score_train[1],\n",
    "                            score_valid[0],\n",
    "                            score_valid[1],\n",
    "                            score_test[0],\n",
    "                            score_test[1],\n",
    "                            eps,\n",
    "                        ]\n",
    "                    )\n",
    "                    # print(table_outputs[-1])\n",
    "                except Exception as e:\n",
    "                    print(f\"Configuration failed to train.\")\n",
    "                    print(f\"Batch Size: {batch_size}\")\n",
    "                    print(f\"L2 Norm Clip: {l2_norm_clip}\")\n",
    "                    print(f\"Noise Multiplier: {noise_multiplier}\")\n",
    "                    print(e)\n",
    "\n",
    "    df = pd.DataFrame(\n",
    "        table_outputs,\n",
    "        columns=[\n",
    "            \"learning rate\",\n",
    "            \"noise multiplier\",\n",
    "            \"L2 norm clip\",\n",
    "            \"Epochs\",\n",
    "            \"Batch size\",\n",
    "            \"Microbatches\",\n",
    "            \"Training loss\",\n",
    "            \"Training accuracy\",\n",
    "            \"Validation loss\",\n",
    "            \"Validation accuracy\",\n",
    "            \"Test loss\",\n",
    "            \"Test accuracy\",\n",
    "            \"Epsilon\",\n",
    "        ],\n",
    "    )\n",
    "\n",
    "    return df"
   ]
  },
  {
   "cell_type": "code",
   "execution_count": null,
   "metadata": {},
   "outputs": [],
   "source": [
    "noise_multipliers = [1, 3, 5]\n",
    "l2_norm_clips = [0.8, 1.0, 1.2]\n",
    "batch_sizes = [11, 22, 242]\n",
    "\n",
    "training_outputs = train_hp_tuning(\n",
    "    noise_multipliers=noise_multipliers,\n",
    "    l2_norm_clips=l2_norm_clips,\n",
    "    batch_sizes=batch_sizes,\n",
    "    microbatches=1,\n",
    "    x_train=x_train,\n",
    "    y_train=y_train,\n",
    "    dpsgd=True,\n",
    "    learning_rate=0.1,\n",
    "    epochs=100,\n",
    "    model_dir=None,\n",
    "    print_outputs=False,\n",
    "    verbose=0,\n",
    ")"
   ]
  },
  {
   "cell_type": "code",
   "execution_count": null,
   "metadata": {},
   "outputs": [],
   "source": [
    "training_outputs.sort_values(\n",
    "    by=[\"Validation accuracy\", \"Epsilon\"], ascending=[False, True]\n",
    ")"
   ]
  },
  {
   "cell_type": "code",
   "execution_count": null,
   "metadata": {},
   "outputs": [],
   "source": []
  }
 ],
 "metadata": {
  "kernelspec": {
   "display_name": "Python 3",
   "language": "python",
   "name": "python3"
  },
  "language_info": {
   "codemirror_mode": {
    "name": "ipython",
    "version": 3
   },
   "file_extension": ".py",
   "mimetype": "text/x-python",
   "name": "python",
   "nbconvert_exporter": "python",
   "pygments_lexer": "ipython3",
   "version": "3.8.12"
  }
 },
 "nbformat": 4,
 "nbformat_minor": 4
}
