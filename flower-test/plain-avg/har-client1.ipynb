{
 "cells": [
  {
   "cell_type": "code",
   "execution_count": null,
   "id": "afc5eaaf-d451-4a0b-ae85-f7830267558a",
   "metadata": {},
   "outputs": [],
   "source": [
    "%load_ext autoreload\n",
    "%autoreload 2"
   ]
  },
  {
   "cell_type": "code",
   "execution_count": null,
   "id": "0647d7d3-09f7-48d9-b8bc-51fd7c4d6f90",
   "metadata": {},
   "outputs": [],
   "source": [
    "%reload_ext autoreload"
   ]
  },
  {
   "cell_type": "code",
   "execution_count": null,
   "id": "0716bf61-8462-4850-bfdd-fb29b0aa9bea",
   "metadata": {},
   "outputs": [],
   "source": [
    "import os\n",
    "import sys\n",
    "import timeit\n",
    "from collections import OrderedDict\n",
    "from typing import Dict, List, Tuple\n",
    "\n",
    "import flwr as fl\n",
    "import numpy as np\n",
    "import torch\n",
    "import torchvision\n",
    "\n",
    "import har\n",
    "\n",
    "USE_FEDBN: bool = True\n",
    "\n",
    "DEVICE: str = torch.device(\"cuda:0\" if torch.cuda.is_available() else \"cpu\")"
   ]
  },
  {
   "cell_type": "code",
   "execution_count": null,
   "id": "47944b3d-81ba-42f5-b8ec-7f3ec6a3f951",
   "metadata": {},
   "outputs": [],
   "source": [
    "# Flower Client... see flower examples\n",
    "class HARClient(fl.client.NumPyClient):\n",
    "    \"\"\"Flower client implementing for HAR data using PyTorch.\"\"\"\n",
    "\n",
    "    def __init__(\n",
    "        self,\n",
    "        model: har.NeuralNetwork,\n",
    "        trainloader: torch.utils.data.DataLoader,\n",
    "        testloader: torch.utils.data.DataLoader,\n",
    "    ) -> None:\n",
    "        self.model = model\n",
    "        self.trainloader = trainloader\n",
    "        self.testloader = testloader\n",
    "\n",
    "    def get_parameters(self) -> List[np.ndarray]:\n",
    "        self.model.train()\n",
    "        if USE_FEDBN:\n",
    "            # Return model parameters as a list of NumPy ndarrays, excluding parameters of BN layers when using FedBN\n",
    "            return [\n",
    "                val.cpu().numpy()\n",
    "                for name, val in self.model.state_dict().items()\n",
    "                if \"bn\" not in name\n",
    "            ]\n",
    "        else:\n",
    "            # Return model parameters as a list of NumPy ndarrays\n",
    "            return [val.cpu().numpy() for _, val in self.model.state_dict().items()]\n",
    "\n",
    "    def set_parameters(self, parameters: List[np.ndarray]) -> None:\n",
    "        # Set model parameters from a list of NumPy ndarrays\n",
    "        self.model.train()\n",
    "        if USE_FEDBN:\n",
    "            keys = [k for k in self.model.state_dict().keys() if \"bn\" not in k]\n",
    "            params_dict = zip(keys, parameters)\n",
    "            state_dict = OrderedDict({k: torch.Tensor(v) for k, v in params_dict})\n",
    "            self.model.load_state_dict(state_dict, strict=False)\n",
    "        else:\n",
    "            params_dict = zip(self.model.state_dict().keys(), parameters)\n",
    "            state_dict = OrderedDict({k: torch.Tensor(v) for k, v in params_dict})\n",
    "            self.model.load_state_dict(state_dict, strict=True)\n",
    "\n",
    "    def fit(\n",
    "        self, parameters: List[np.ndarray], config: Dict[str, str]\n",
    "    ) -> Tuple[List[np.ndarray], int]:\n",
    "        # Set model parameters, train model, return updated model parameters\n",
    "        self.set_parameters(parameters)\n",
    "        har.train(self.model, self.trainloader, epochs=10, device=DEVICE)\n",
    "        return self.get_parameters(), len(self.trainloader), {}\n",
    "\n",
    "    def evaluate(\n",
    "        self, parameters: List[np.ndarray], config: Dict[str, str]\n",
    "    ) -> Tuple[int, float, float]:\n",
    "        # Set model parameters, evaluate model on local test dataset, return result\n",
    "        self.set_parameters(parameters)\n",
    "        loss, accuracy = har.test(self.model, self.testloader, device=DEVICE)\n",
    "        return float(loss), len(self.testloader), {\"accuracy\": float(accuracy)}"
   ]
  },
  {
   "cell_type": "code",
   "execution_count": null,
   "id": "3c6d8b04-cb08-4172-9f26-30b0f8421d76",
   "metadata": {},
   "outputs": [],
   "source": [
    "# Load data\n",
    "trainloader, testloader = har.load_data()\n",
    "\n",
    "# Load model\n",
    "model = har.NeuralNetwork().to(DEVICE).train()\n",
    "\n",
    "# Perform a single forward pass to properly initialize BatchNorm\n",
    "_ = model(next(iter(trainloader))[0].to(DEVICE))"
   ]
  },
  {
   "cell_type": "code",
   "execution_count": null,
   "id": "9946df42-9369-4ea8-b2ea-5ea4ab4bc9c0",
   "metadata": {},
   "outputs": [],
   "source": [
    "# get hostname and port from env\n",
    "servername = ''\n",
    "try:\n",
    "    servername = os.environ['HAR_SERVER']\n",
    "    print('servername:port: ', servername)\n",
    "    # Start client\n",
    "    client = HARClient(model, trainloader, testloader)\n",
    "    fl.client.start_numpy_client(servername, client)\n",
    "except KeyError as err:\n",
    "    print(f\"No hostname specified - {err}\")"
   ]
  },
  {
   "cell_type": "code",
   "execution_count": null,
   "id": "c59bd38e-5a93-458d-8e2b-dc5f47a9265c",
   "metadata": {},
   "outputs": [],
   "source": []
  }
 ],
 "metadata": {
  "kernelspec": {
   "display_name": "Python 3 (ipykernel)",
   "language": "python",
   "name": "python3"
  },
  "language_info": {
   "codemirror_mode": {
    "name": "ipython",
    "version": 3
   },
   "file_extension": ".py",
   "mimetype": "text/x-python",
   "name": "python",
   "nbconvert_exporter": "python",
   "pygments_lexer": "ipython3",
   "version": "3.9.6"
  }
 },
 "nbformat": 4,
 "nbformat_minor": 5
}
