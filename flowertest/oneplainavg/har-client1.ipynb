{
 "cells": [
  {
   "cell_type": "code",
   "execution_count": null,
   "id": "51f967ec",
   "metadata": {},
   "outputs": [],
   "source": [
    "%load_ext autoreload\r\n",
    "%autoreload 2"
   ]
  },
  {
   "cell_type": "code",
   "execution_count": null,
   "id": "60d4c9d9",
   "metadata": {},
   "outputs": [],
   "source": [
    "%reload_ext autoreload"
   ]
  },
  {
   "cell_type": "code",
   "execution_count": null,
   "id": "e3896b0d",
   "metadata": {},
   "outputs": [],
   "source": [
    "import os\r\n",
    "import sys\r\n",
    "import timeit\r\n",
    "from collections import OrderedDict\r\n",
    "from typing import Dict, List, Tuple\r\n",
    "\r\n",
    "import flwr as fl\r\n",
    "import numpy as np\r\n",
    "import torch\r\n",
    "import torchvision\r\n",
    "\r\n",
    "# import har model\r\n",
    "import har\r\n",
    "\r\n",
    "USE_FEDBN: bool = True\r\n",
    "\r\n",
    "DEVICE: str = torch.device(\"cuda:0\" if torch.cuda.is_available() else \"cpu\")"
   ]
  },
  {
   "cell_type": "code",
   "execution_count": null,
   "id": "b1eab5ee",
   "metadata": {},
   "outputs": [],
   "source": [
    "# Flower Client... see flower examples\r\n",
    "class HARClient(fl.client.NumPyClient):\r\n",
    "    \"\"\"Flower client implementing for HAR data using PyTorch.\"\"\"\r\n",
    "\r\n",
    "    def __init__(\r\n",
    "        self,\r\n",
    "        model: har.NeuralNetwork,\r\n",
    "        trainloader: torch.utils.data.DataLoader,\r\n",
    "        testloader: torch.utils.data.DataLoader,\r\n",
    "    ) -> None:\r\n",
    "        self.model = model\r\n",
    "        self.trainloader = trainloader\r\n",
    "        self.testloader = testloader\r\n",
    "\r\n",
    "    def get_parameters(self) -> List[np.ndarray]:\r\n",
    "        self.model.train()\r\n",
    "        if USE_FEDBN:\r\n",
    "            # Return model parameters as a list of NumPy ndarrays, excluding parameters of BN layers when using FedBN\r\n",
    "            return [\r\n",
    "                val.cpu().numpy()\r\n",
    "                for name, val in self.model.state_dict().items()\r\n",
    "                if \"bn\" not in name\r\n",
    "            ]\r\n",
    "        else:\r\n",
    "            # Return model parameters as a list of NumPy ndarrays\r\n",
    "            return [val.cpu().numpy() for _, val in self.model.state_dict().items()]\r\n",
    "\r\n",
    "    def set_parameters(self, parameters: List[np.ndarray]) -> None:\r\n",
    "        # Set model parameters from a list of NumPy ndarrays\r\n",
    "        self.model.train()\r\n",
    "        if USE_FEDBN:\r\n",
    "            keys = [k for k in self.model.state_dict().keys() if \"bn\" not in k]\r\n",
    "            params_dict = zip(keys, parameters)\r\n",
    "            state_dict = OrderedDict({k: torch.Tensor(v) for k, v in params_dict})\r\n",
    "            self.model.load_state_dict(state_dict, strict=False)\r\n",
    "        else:\r\n",
    "            params_dict = zip(self.model.state_dict().keys(), parameters)\r\n",
    "            state_dict = OrderedDict({k: torch.Tensor(v) for k, v in params_dict})\r\n",
    "            self.model.load_state_dict(state_dict, strict=True)\r\n",
    "\r\n",
    "    def fit(\r\n",
    "        self, parameters: List[np.ndarray], config: Dict[str, str]\r\n",
    "    ) -> Tuple[List[np.ndarray], int]:\r\n",
    "        # Set model parameters, train model, return updated model parameters\r\n",
    "        self.set_parameters(parameters)\r\n",
    "        har.train(self.model, self.trainloader, epochs=10, device=DEVICE)\r\n",
    "        return self.get_parameters(), len(self.trainloader), {}\r\n",
    "\r\n",
    "    def evaluate(\r\n",
    "        self, parameters: List[np.ndarray], config: Dict[str, str]\r\n",
    "    ) -> Tuple[int, float, float]:\r\n",
    "        # Set model parameters, evaluate model on local test dataset, return result\r\n",
    "        self.set_parameters(parameters)\r\n",
    "        loss, accuracy = har.test(self.model, self.testloader, device=DEVICE)\r\n",
    "        return float(loss), len(self.testloader), {\"accuracy\": float(accuracy)}"
   ]
  },
  {
   "cell_type": "code",
   "execution_count": null,
   "id": "561ad7a0",
   "metadata": {},
   "outputs": [],
   "source": [
    "# Load data\r\n",
    "trainloader, testloader = har.load_data()\r\n",
    "\r\n",
    "# Load model\r\n",
    "model = har.NeuralNetwork().to(DEVICE).train()\r\n",
    "\r\n",
    "# Perform a single forward pass to properly initialize BatchNorm\r\n",
    "_ = model(next(iter(trainloader))[0].to(DEVICE))"
   ]
  },
  {
   "cell_type": "code",
   "execution_count": null,
   "id": "555f21c2",
   "metadata": {},
   "outputs": [],
   "source": [
    "# get hostname and port from env\r\n",
    "servername = ''\r\n",
    "try:\r\n",
    "    servername = os.environ['HAR_SERVER']\r\n",
    "    print('servername:port: ', servername)\r\n",
    "    # Start client\r\n",
    "    client = HARClient(model, trainloader, testloader)\r\n",
    "    fl.client.start_numpy_client(servername, client)\r\n",
    "except KeyError as err:\r\n",
    "    print(f\"No hostname specified - {err}\")"
   ]
  },
  {
   "cell_type": "code",
   "execution_count": null,
   "id": "d0f14469",
   "metadata": {},
   "outputs": [],
   "source": []
  }
 ],
 "metadata": {
  "interpreter": {
   "hash": "b23f7ac4cf18dbb3332bba660e33a49d1df4c659c79a1cbe0f44f47f3017cbee"
  },
  "kernelspec": {
   "display_name": "Python 3 (ipykernel)",
   "language": "python",
   "name": "python3"
  },
  "language_info": {
   "codemirror_mode": {
    "name": "ipython",
    "version": 3
   },
   "file_extension": ".py",
   "mimetype": "text/x-python",
   "name": "python",
   "nbconvert_exporter": "python",
   "pygments_lexer": "ipython3",
   "version": "3.9.6"
  }
 },
 "nbformat": 4,
 "nbformat_minor": 5
}
